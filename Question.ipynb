{
  "nbformat": 4,
  "nbformat_minor": 0,
  "metadata": {
    "colab": {
      "name": "Question.ipynb",
      "provenance": [],
      "authorship_tag": "ABX9TyOg1cgVLa0rsEHWLQyjVBLb",
      "include_colab_link": true
    },
    "kernelspec": {
      "name": "python3",
      "display_name": "Python 3"
    }
  },
  "cells": [
    {
      "cell_type": "markdown",
      "metadata": {
        "id": "view-in-github",
        "colab_type": "text"
      },
      "source": [
        "<a href=\"https://colab.research.google.com/github/gauravpks/py-repo/blob/master/Question.ipynb\" target=\"_parent\"><img src=\"https://colab.research.google.com/assets/colab-badge.svg\" alt=\"Open In Colab\"/></a>"
      ]
    },
    {
      "cell_type": "markdown",
      "metadata": {
        "id": "n3UE-lIk00cK",
        "colab_type": "text"
      },
      "source": [
        "![image.png](data:image/png;base64,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)"
      ]
    },
    {
      "cell_type": "code",
      "metadata": {
        "id": "KPGAByJ909eN",
        "colab_type": "code",
        "colab": {
          "base_uri": "https://localhost:8080/",
          "height": 119
        },
        "outputId": "7b964f61-f34c-42fb-aef7-93c5a7173ebf"
      },
      "source": [
        "print(\"Twinkle, twinkle, little star, \\n\\tHow I wonder what you are! \\n\\t\\tUp above the world so high, \\n\\t\\tLike a diamond in the sky. \\nTwinkle, twinkle, little star, \\n\\tHow I wonder what you are!\")"
      ],
      "execution_count": 3,
      "outputs": [
        {
          "output_type": "stream",
          "text": [
            "Twinkle, twinkle, little star, \n",
            "\tHow I wonder what you are! \n",
            "\t\tUp above the world so high, \n",
            "\t\tLike a diamond in the sky. \n",
            "Twinkle, twinkle, little star, \n",
            "\tHow I wonder what you are!\n"
          ],
          "name": "stdout"
        }
      ]
    },
    {
      "cell_type": "code",
      "metadata": {
        "id": "5NX92xci1Bwe",
        "colab_type": "code",
        "colab": {}
      },
      "source": [
        ""
      ],
      "execution_count": null,
      "outputs": []
    }
  ]
}