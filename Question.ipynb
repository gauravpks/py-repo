{
  "nbformat": 4,
  "nbformat_minor": 0,
  "metadata": {
    "colab": {
      "name": "Question.ipynb",
      "provenance": [],
      "authorship_tag": "ABX9TyM1b7BWhdRmE8gF8CqKnyyF",
      "include_colab_link": true
    },
    "kernelspec": {
      "name": "python3",
      "display_name": "Python 3"
    }
  },
  "cells": [
    {
      "cell_type": "markdown",
      "metadata": {
        "id": "view-in-github",
        "colab_type": "text"
      },
      "source": [
        "<a href=\"https://colab.research.google.com/github/gauravpks/py-repo/blob/master/Question.ipynb\" target=\"_parent\"><img src=\"https://colab.research.google.com/assets/colab-badge.svg\" alt=\"Open In Colab\"/></a>"
      ]
    },
    {
      "cell_type": "markdown",
      "metadata": {
        "id": "n3UE-lIk00cK",
        "colab_type": "text"
      },
      "source": [
        "![image.png](data:image/png;base64,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)"
      ]
    },
    {
      "cell_type": "code",
      "metadata": {
        "id": "KPGAByJ909eN",
        "colab_type": "code",
        "colab": {
          "base_uri": "https://localhost:8080/",
          "height": 119
        },
        "outputId": "7b964f61-f34c-42fb-aef7-93c5a7173ebf"
      },
      "source": [
        "print(\"Twinkle, twinkle, little star, \\n\\tHow I wonder what you are! \\n\\t\\tUp above the world so high, \\n\\t\\tLike a diamond in the sky. \\nTwinkle, twinkle, little star, \\n\\tHow I wonder what you are!\")"
      ],
      "execution_count": 3,
      "outputs": [
        {
          "output_type": "stream",
          "text": [
            "Twinkle, twinkle, little star, \n",
            "\tHow I wonder what you are! \n",
            "\t\tUp above the world so high, \n",
            "\t\tLike a diamond in the sky. \n",
            "Twinkle, twinkle, little star, \n",
            "\tHow I wonder what you are!\n"
          ],
          "name": "stdout"
        }
      ]
    },
    {
      "cell_type": "markdown",
      "metadata": {
        "id": "pmIyEbKT1ioQ",
        "colab_type": "text"
      },
      "source": [
        "Write a Python program to get the Python version you are using."
      ]
    },
    {
      "cell_type": "code",
      "metadata": {
        "id": "5NX92xci1Bwe",
        "colab_type": "code",
        "colab": {
          "base_uri": "https://localhost:8080/",
          "height": 102
        },
        "outputId": "b2cc9a5f-2829-41da-f107-6dd1146b7912"
      },
      "source": [
        "import sys\n",
        "print(\"Python version\")\n",
        "print (sys.version)\n",
        "print(\"Version info.\")\n",
        "print (sys.version_info)"
      ],
      "execution_count": 4,
      "outputs": [
        {
          "output_type": "stream",
          "text": [
            "Python version\n",
            "3.6.9 (default, Jul 17 2020, 12:50:27) \n",
            "[GCC 8.4.0]\n",
            "Version info.\n",
            "sys.version_info(major=3, minor=6, micro=9, releaselevel='final', serial=0)\n"
          ],
          "name": "stdout"
        }
      ]
    },
    {
      "cell_type": "markdown",
      "metadata": {
        "id": "7-ht-m5D1yEf",
        "colab_type": "text"
      },
      "source": [
        "Write a Python program which accepts the radius of a circle from the user and compute the area"
      ]
    },
    {
      "cell_type": "code",
      "metadata": {
        "id": "Kckb9qp41mTu",
        "colab_type": "code",
        "colab": {
          "base_uri": "https://localhost:8080/",
          "height": 51
        },
        "outputId": "570d1627-4818-4f78-e58b-1f21f017f246"
      },
      "source": [
        "from math import pi\n",
        "r = float(input (\"Input the radius of the circle : \"))\n",
        "print (\"The area of the circle with radius \"  + str(r) +  \" is: \" +  str(pi * r**2))"
      ],
      "execution_count": 7,
      "outputs": [
        {
          "output_type": "stream",
          "text": [
            "Input the radius of the circle : 3\n",
            "The area of the circle with radius 3.0 is: 28.274333882308138\n"
          ],
          "name": "stdout"
        }
      ]
    },
    {
      "cell_type": "markdown",
      "metadata": {
        "id": "N2KLqL5f154R",
        "colab_type": "text"
      },
      "source": [
        "Write a Python program which accepts the user's first and last name and print them in reverse order with a space between them."
      ]
    },
    {
      "cell_type": "code",
      "metadata": {
        "id": "RIl_VpTA16bp",
        "colab_type": "code",
        "colab": {
          "base_uri": "https://localhost:8080/",
          "height": 68
        },
        "outputId": "3e7f8e43-36c3-461a-a7fb-833430922b35"
      },
      "source": [
        "fname = input(\"Input your First Name : \")\n",
        "lname = input(\"Input your Last Name : \")\n",
        "print (\"Hello  \" + lname + \" \" + fname)"
      ],
      "execution_count": 8,
      "outputs": [
        {
          "output_type": "stream",
          "text": [
            "Input your First Name : i\n",
            "Input your Last Name : m\n",
            "Hello  m i\n"
          ],
          "name": "stdout"
        }
      ]
    },
    {
      "cell_type": "markdown",
      "metadata": {
        "id": "04G2YrTH2iqO",
        "colab_type": "text"
      },
      "source": [
        "Write a Python program which accepts a sequence of comma-separated numbers from user and generate a list and a tuple with those numbers"
      ]
    },
    {
      "cell_type": "code",
      "metadata": {
        "id": "6llgTe972jEs",
        "colab_type": "code",
        "colab": {
          "base_uri": "https://localhost:8080/",
          "height": 68
        },
        "outputId": "456972bb-720c-439f-d074-a993eef4f9c5"
      },
      "source": [
        "values = input(\"Input some comma seprated numbers : \")\n",
        "list = values.split(\",\")\n",
        "tuple = tuple(list)\n",
        "print('List : ',list)\n",
        "print('Tuple : ',tuple)"
      ],
      "execution_count": 9,
      "outputs": [
        {
          "output_type": "stream",
          "text": [
            "Input some comma seprated numbers : 1,3,4,5\n",
            "List :  ['1', '3', '4', '5']\n",
            "Tuple :  ('1', '3', '4', '5')\n"
          ],
          "name": "stdout"
        }
      ]
    },
    {
      "cell_type": "markdown",
      "metadata": {
        "id": "hJVblK542zQx",
        "colab_type": "text"
      },
      "source": [
        "Write a Python program to display the first and last colors from the following list. Go to the editor\n",
        "color_list = [\"Red\",\"Green\",\"White\" ,\"Black\"]"
      ]
    },
    {
      "cell_type": "code",
      "metadata": {
        "id": "WRoZd1C72zvD",
        "colab_type": "code",
        "colab": {
          "base_uri": "https://localhost:8080/",
          "height": 34
        },
        "outputId": "2b626684-2063-421d-89b1-e55a2b871403"
      },
      "source": [
        "color_list = [\"Red\",\"Green\",\"White\" ,\"Black\"]\n",
        "print( \"%s %s\"%(color_list[0],color_list[-1]))"
      ],
      "execution_count": 13,
      "outputs": [
        {
          "output_type": "stream",
          "text": [
            "Red Black\n"
          ],
          "name": "stdout"
        }
      ]
    },
    {
      "cell_type": "markdown",
      "metadata": {
        "id": "ef-j2T9D3aS4",
        "colab_type": "text"
      },
      "source": [
        "Write a Python program to print the calendar of a given month and year."
      ]
    },
    {
      "cell_type": "code",
      "metadata": {
        "id": "0y34WdJJ3Bhi",
        "colab_type": "code",
        "colab": {
          "base_uri": "https://localhost:8080/",
          "height": 187
        },
        "outputId": "3b5b1a71-001a-47dc-a4d2-577782cd7506"
      },
      "source": [
        "import calendar\n",
        "y = int(input(\"Input the year : \"))\n",
        "m = int(input(\"Input the month : \"))\n",
        "print(calendar.month(y, m))"
      ],
      "execution_count": 14,
      "outputs": [
        {
          "output_type": "stream",
          "text": [
            "Input the year : 2013\n",
            "Input the month : 2\n",
            "   February 2013\n",
            "Mo Tu We Th Fr Sa Su\n",
            "             1  2  3\n",
            " 4  5  6  7  8  9 10\n",
            "11 12 13 14 15 16 17\n",
            "18 19 20 21 22 23 24\n",
            "25 26 27 28\n",
            "\n"
          ],
          "name": "stdout"
        }
      ]
    },
    {
      "cell_type": "markdown",
      "metadata": {
        "id": "QXTtdpJh3uRi",
        "colab_type": "text"
      },
      "source": [
        "Write a Python program to calculate number of days between two dates.\n",
        "Sample dates : (2014, 7, 2), (2014, 7, 11)"
      ]
    },
    {
      "cell_type": "code",
      "metadata": {
        "id": "bdiIWnk93h8U",
        "colab_type": "code",
        "colab": {
          "base_uri": "https://localhost:8080/",
          "height": 34
        },
        "outputId": "aba18b17-172e-4809-be04-71426e2669b4"
      },
      "source": [
        "from datetime import date\n",
        "f_date = date(2014, 7, 2)\n",
        "l_date = date(2014, 7, 11)\n",
        "delta = l_date - f_date\n",
        "print(delta.days)"
      ],
      "execution_count": 16,
      "outputs": [
        {
          "output_type": "stream",
          "text": [
            "9\n"
          ],
          "name": "stdout"
        }
      ]
    },
    {
      "cell_type": "markdown",
      "metadata": {
        "id": "lmSoTI6A4kZ0",
        "colab_type": "text"
      },
      "source": [
        "Write a Python program to solve (x + y) * (x + y). \n",
        "Test Data : x = 4, y = 3\n",
        "Expected Output : (4 + 3) ^ 2) = 49"
      ]
    },
    {
      "cell_type": "code",
      "metadata": {
        "id": "L0DnPlrB4mZc",
        "colab_type": "code",
        "colab": {
          "base_uri": "https://localhost:8080/",
          "height": 34
        },
        "outputId": "e620b6a6-8900-44bb-f161-d3a7d0078ec3"
      },
      "source": [
        "x, y = 4, 3\n",
        "result = x * x + 2 * x * y + y * y\n",
        "print(\"({} + {}) ^ 2) = {}\".format(x, y, result))"
      ],
      "execution_count": 19,
      "outputs": [
        {
          "output_type": "stream",
          "text": [
            "(4 + 3) ^ 2) = 49\n"
          ],
          "name": "stdout"
        }
      ]
    },
    {
      "cell_type": "markdown",
      "metadata": {
        "id": "RkLqvkmC4Fb6",
        "colab_type": "text"
      },
      "source": [
        "Write a Python program to compute the greatest common divisor (GCD) of two positive integers"
      ]
    },
    {
      "cell_type": "code",
      "metadata": {
        "id": "Kzv4mj9s4GqU",
        "colab_type": "code",
        "colab": {
          "base_uri": "https://localhost:8080/",
          "height": 51
        },
        "outputId": "16399672-21d4-4fb4-934e-0441a61252f3"
      },
      "source": [
        "def gcd(x, y):\n",
        "    gcd = 1\n",
        "    \n",
        "    if x % y == 0:\n",
        "        return y\n",
        "    \n",
        "    for k in range(int(y / 2), 0, -1):\n",
        "        if x % k == 0 and y % k == 0:\n",
        "            gcd = k\n",
        "            break  \n",
        "    return gcd\n",
        "\n",
        "print(gcd(12, 17))\n",
        "print(gcd(4, 6))"
      ],
      "execution_count": 18,
      "outputs": [
        {
          "output_type": "stream",
          "text": [
            "1\n",
            "2\n"
          ],
          "name": "stdout"
        }
      ]
    },
    {
      "cell_type": "markdown",
      "metadata": {
        "id": "U9R-puLR4AUf",
        "colab_type": "text"
      },
      "source": [
        "Write a Python program to get the least common multiple (LCM) of two positive integers"
      ]
    },
    {
      "cell_type": "code",
      "metadata": {
        "id": "ZloTdkHo3s5q",
        "colab_type": "code",
        "colab": {
          "base_uri": "https://localhost:8080/",
          "height": 51
        },
        "outputId": "f5df15c3-8ab6-4216-cd02-83d0e2e78b45"
      },
      "source": [
        "def lcm(x, y):\n",
        "   if x > y:\n",
        "       z = x\n",
        "   else:\n",
        "       z = y\n",
        "\n",
        "   while(True):\n",
        "       if((z % x == 0) and (z % y == 0)):\n",
        "           lcm = z\n",
        "           break\n",
        "       z += 1\n",
        "\n",
        "   return lcm\n",
        "print(lcm(4, 6))\n",
        "print(lcm(15, 17))"
      ],
      "execution_count": 17,
      "outputs": [
        {
          "output_type": "stream",
          "text": [
            "12\n",
            "255\n"
          ],
          "name": "stdout"
        }
      ]
    },
    {
      "cell_type": "markdown",
      "metadata": {
        "id": "1ddtziId454Z",
        "colab_type": "text"
      },
      "source": [
        "Write a Python program to compute the future value of a specified principal amount, rate of interest, and a number of years.\n",
        "\n",
        "Test Data : amt = 10000, int = 3.5, years = 7\n",
        "Expected Output : 12722.79"
      ]
    },
    {
      "cell_type": "code",
      "metadata": {
        "id": "tVv5GTS75JwC",
        "colab_type": "code",
        "colab": {
          "base_uri": "https://localhost:8080/",
          "height": 34
        },
        "outputId": "9caea60f-1fa2-4136-a0ce-766b0e046aae"
      },
      "source": [
        "amt = 10000\n",
        "int = 3.5\n",
        "years = 7\n",
        "\n",
        "future_value  = amt*((1+(0.01*int)) ** years)\n",
        "print(round(future_value,2))"
      ],
      "execution_count": 20,
      "outputs": [
        {
          "output_type": "stream",
          "text": [
            "12722.79\n"
          ],
          "name": "stdout"
        }
      ]
    },
    {
      "cell_type": "markdown",
      "metadata": {
        "id": "acsFqN-u41pH",
        "colab_type": "text"
      },
      "source": [
        "Write a Python program to compute the distance between the points (x1, y1) and (x2, y2)"
      ]
    },
    {
      "cell_type": "code",
      "metadata": {
        "id": "_5PQed_14S0Y",
        "colab_type": "code",
        "colab": {
          "base_uri": "https://localhost:8080/",
          "height": 34
        },
        "outputId": "b697d07f-9cd7-46be-bd24-1be8db0b17cd"
      },
      "source": [
        "import math\n",
        "p1 = [4, 0]\n",
        "p2 = [6, 6]\n",
        "distance = math.sqrt( ((p1[0]-p2[0])**2)+((p1[1]-p2[1])**2) )\n",
        "\n",
        "print(distance)"
      ],
      "execution_count": 21,
      "outputs": [
        {
          "output_type": "stream",
          "text": [
            "6.324555320336759\n"
          ],
          "name": "stdout"
        }
      ]
    },
    {
      "cell_type": "markdown",
      "metadata": {
        "id": "ubC5ez1I5C3Q",
        "colab_type": "text"
      },
      "source": [
        "References- https://www.w3resource.com/python-exercises/"
      ]
    },
    {
      "cell_type": "code",
      "metadata": {
        "id": "EJCeDBDF5FLJ",
        "colab_type": "code",
        "colab": {}
      },
      "source": [
        ""
      ],
      "execution_count": null,
      "outputs": []
    }
  ]
}