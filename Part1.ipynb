{
  "nbformat": 4,
  "nbformat_minor": 0,
  "metadata": {
    "kernelspec": {
      "display_name": "Python 3",
      "language": "python",
      "name": "python3"
    },
    "language_info": {
      "codemirror_mode": {
        "name": "ipython",
        "version": 3
      },
      "file_extension": ".py",
      "mimetype": "text/x-python",
      "name": "python",
      "nbconvert_exporter": "python",
      "pygments_lexer": "ipython3",
      "version": "3.7.3"
    },
    "colab": {
      "name": "MasteringPythonZeroToHero_part1.ipynb",
      "provenance": [],
      "toc_visible": true,
      "include_colab_link": true
    }
  },
  "cells": [
    {
      "cell_type": "markdown",
      "metadata": {
        "id": "view-in-github",
        "colab_type": "text"
      },
      "source": [
        "<a href=\"https://colab.research.google.com/github/gauravpks/py-repo/blob/master/Part1.ipynb\" target=\"_parent\"><img src=\"https://colab.research.google.com/assets/colab-badge.svg\" alt=\"Open In Colab\"/></a>"
      ]
    },
    {
      "cell_type": "markdown",
      "metadata": {
        "id": "QynetUdYveni",
        "colab_type": "text"
      },
      "source": [
        "Python-------- Gaurav Prakash"
      ]
    },
    {
      "cell_type": "markdown",
      "metadata": {
        "id": "cHct92OIz4-g",
        "colab_type": "text"
      },
      "source": [
        "# This is Python Tutorial"
      ]
    },
    {
      "cell_type": "markdown",
      "metadata": {
        "id": "unbO_8kJz4-i",
        "colab_type": "text"
      },
      "source": [
        "This is our first program in python: It is just started here"
      ]
    },
    {
      "cell_type": "code",
      "metadata": {
        "id": "-bE_JkeHz4-j",
        "colab_type": "code",
        "colab": {},
        "outputId": "bd2c1e16-b7a8-455f-e834-585dde84986c"
      },
      "source": [
        "print(\"Hellow World\")"
      ],
      "execution_count": null,
      "outputs": [
        {
          "output_type": "stream",
          "text": [
            "Hellow World\n"
          ],
          "name": "stdout"
        }
      ]
    },
    {
      "cell_type": "markdown",
      "metadata": {
        "id": "GVXClDTgwwa3",
        "colab_type": "text"
      },
      "source": [
        "*What is Python?*\n",
        "Python is a popular programming language. It was created by Guido van Rossum, and released in 1991.\n",
        "\n",
        "*It is used for:*\n",
        "*   web development (server-side),\n",
        "*   software development,\n",
        "*   mathematics,\n",
        "*   system scripting.\n",
        "\n",
        "*What can Python do?*\n",
        "* Python can be used on a server to create web applications.\n",
        "* Python can be used alongside software to create workflows.\n",
        "* Python can connect to database systems. It can also read and modify files.\n",
        "* Python can be used to handle big data and perform complex mathematics.\n",
        "* Python can be used for rapid prototyping, or for production-ready software development.\n",
        "\n",
        "*Why Python?*\n",
        "* Python works on different platforms (Windows, Mac, Linux, Raspberry Pi, etc).\n",
        "* Python has a simple syntax similar to the English language.\n",
        "* Python has syntax that allows developers to write programs with fewer lines than some other programming languages.\n",
        "* Python runs on an interpreter system, meaning that code can be executed as soon as it is written. This means that prototyping can be very quick.\n",
        "* Python can be treated in a procedural way, an * object-orientated way or a functional way.\n",
        "\n",
        "*Good to know*\n",
        "* The most recent major version of Python is Python 3, which we shall be using in this tutorial. However, Python 2, although not being updated with anything other than security updates, is still quite popular.\n",
        "* In this tutorial Python will be written in a text editor. It is possible to write Python in an Integrated Development Environment, such as Thonny, Pycharm, Netbeans or Eclipse which are particularly useful when managing larger collections of Python files.\n",
        "\n",
        "*Python Syntax compared to other programming languages*\n",
        "* Python was designed for readability, and has some similarities to the English language with influence from mathematics.\n",
        "* Python uses new lines to complete a command, as opposed to other programming languages which often use semicolons or parentheses.\n",
        "* Python relies on indentation, using whitespace, to define scope; such as the scope of loops, functions and classes. Other programming languages often use curly-brackets for this purpose."
      ]
    },
    {
      "cell_type": "markdown",
      "metadata": {
        "id": "MEfovoHwz4-q",
        "colab_type": "text"
      },
      "source": [
        "# Variables "
      ]
    },
    {
      "cell_type": "markdown",
      "metadata": {
        "id": "sEyJfPm_vv6p",
        "colab_type": "text"
      },
      "source": [
        "*What is a variable??*\n",
        "\n",
        "---\n",
        "\n",
        "\n",
        "Variables are the names you give to computer memory locations which are used to store values in a computer program\n",
        "\n",
        "**Creating Variables**\n",
        "\n",
        "*   Variables are containers for storing data values.\n",
        "*   Unlike other programming languages, Python has no command for declaring a variable.\n",
        "*   LA variable is created the moment you first assign a value to it.\n",
        "\n"
      ]
    },
    {
      "cell_type": "code",
      "metadata": {
        "id": "tlG1duhKz4-q",
        "colab_type": "code",
        "colab": {
          "base_uri": "https://localhost:8080/",
          "height": 34
        },
        "outputId": "ec149acf-d901-4ae8-b918-3daa2d6ebc76"
      },
      "source": [
        "x = 3\n",
        "print(x)"
      ],
      "execution_count": 2,
      "outputs": [
        {
          "output_type": "stream",
          "text": [
            "3\n"
          ],
          "name": "stdout"
        }
      ]
    },
    {
      "cell_type": "code",
      "metadata": {
        "id": "ztHDO3yRz4-v",
        "colab_type": "code",
        "colab": {
          "base_uri": "https://localhost:8080/",
          "height": 68
        },
        "outputId": "7e440a3e-3818-4b48-c2f1-60a8cb03a03c"
      },
      "source": [
        "#To check which all variables are available\n",
        "%whos"
      ],
      "execution_count": 3,
      "outputs": [
        {
          "output_type": "stream",
          "text": [
            "Variable   Type    Data/Info\n",
            "----------------------------\n",
            "x          int     3\n"
          ],
          "name": "stdout"
        }
      ]
    },
    {
      "cell_type": "code",
      "metadata": {
        "id": "6Z7E4KG7z4-y",
        "colab_type": "code",
        "colab": {
          "base_uri": "https://localhost:8080/",
          "height": 34
        },
        "outputId": "8d2fbbb7-c947-438c-d0df-b783b87e5346"
      },
      "source": [
        "#Check type of data\n",
        "print(type(x))"
      ],
      "execution_count": 5,
      "outputs": [
        {
          "output_type": "stream",
          "text": [
            "<class 'int'>\n"
          ],
          "name": "stdout"
        }
      ]
    },
    {
      "cell_type": "code",
      "metadata": {
        "id": "akL5MFRJz4-0",
        "colab_type": "code",
        "colab": {}
      },
      "source": [
        "x = 5.7"
      ],
      "execution_count": 6,
      "outputs": []
    },
    {
      "cell_type": "code",
      "metadata": {
        "id": "4fxhcGAKz4-4",
        "colab_type": "code",
        "colab": {
          "base_uri": "https://localhost:8080/",
          "height": 68
        },
        "outputId": "6ae685ae-4605-4951-97f5-4a4aa6ebc40a"
      },
      "source": [
        "%whos"
      ],
      "execution_count": 7,
      "outputs": [
        {
          "output_type": "stream",
          "text": [
            "Variable   Type     Data/Info\n",
            "-----------------------------\n",
            "x          float    5.7\n"
          ],
          "name": "stdout"
        }
      ]
    },
    {
      "cell_type": "code",
      "metadata": {
        "id": "E3TPqu-3z4-7",
        "colab_type": "code",
        "colab": {
          "base_uri": "https://localhost:8080/",
          "height": 34
        },
        "outputId": "1db060d3-134e-49bb-b4ff-b69628a05e65"
      },
      "source": [
        "print(type(x))"
      ],
      "execution_count": 8,
      "outputs": [
        {
          "output_type": "stream",
          "text": [
            "<class 'float'>\n"
          ],
          "name": "stdout"
        }
      ]
    },
    {
      "cell_type": "code",
      "metadata": {
        "id": "Lu_X22u7z4--",
        "colab_type": "code",
        "colab": {}
      },
      "source": [
        "abcd = 556.32"
      ],
      "execution_count": 9,
      "outputs": []
    },
    {
      "cell_type": "code",
      "metadata": {
        "id": "cA3rn-y6z4_B",
        "colab_type": "code",
        "colab": {
          "base_uri": "https://localhost:8080/",
          "height": 85
        },
        "outputId": "dae53e9b-593e-44ca-ce91-3fd4f5802df0"
      },
      "source": [
        "%whos"
      ],
      "execution_count": 10,
      "outputs": [
        {
          "output_type": "stream",
          "text": [
            "Variable   Type     Data/Info\n",
            "-----------------------------\n",
            "abcd       float    556.32\n",
            "x          float    5.7\n"
          ],
          "name": "stdout"
        }
      ]
    },
    {
      "cell_type": "markdown",
      "metadata": {
        "id": "j7d2TicIziab",
        "colab_type": "text"
      },
      "source": [
        "Python allows you to assign values to multiple variables in one line:"
      ]
    },
    {
      "cell_type": "code",
      "metadata": {
        "id": "K0W3aZXaz4_D",
        "colab_type": "code",
        "colab": {}
      },
      "source": [
        "a,b,c,d,f = 3,5,6.0,7.2,-3"
      ],
      "execution_count": 11,
      "outputs": []
    },
    {
      "cell_type": "markdown",
      "metadata": {
        "id": "pFAx6ZQUzpgR",
        "colab_type": "text"
      },
      "source": [
        "And you can assign the same value to multiple variables in one line:"
      ]
    },
    {
      "cell_type": "code",
      "metadata": {
        "id": "1fcE1Ie_zqeL",
        "colab_type": "code",
        "colab": {
          "base_uri": "https://localhost:8080/",
          "height": 68
        },
        "outputId": "5de277a8-bced-4e0e-9fa3-de5b89f26fb5"
      },
      "source": [
        "x = y = z = \"Orange\"\n",
        "print(x)\n",
        "print(y)\n",
        "print(z)"
      ],
      "execution_count": 21,
      "outputs": [
        {
          "output_type": "stream",
          "text": [
            "Orange\n",
            "Orange\n",
            "Orange\n"
          ],
          "name": "stdout"
        }
      ]
    },
    {
      "cell_type": "code",
      "metadata": {
        "id": "rJk5dEbgz4_G",
        "colab_type": "code",
        "colab": {
          "base_uri": "https://localhost:8080/",
          "height": 170
        },
        "outputId": "8ad0f9ee-9cd2-4a28-e7d7-f4bc45e94efe"
      },
      "source": [
        "%whos"
      ],
      "execution_count": 12,
      "outputs": [
        {
          "output_type": "stream",
          "text": [
            "Variable   Type     Data/Info\n",
            "-----------------------------\n",
            "a          int      3\n",
            "abcd       float    556.32\n",
            "b          int      5\n",
            "c          float    6.0\n",
            "d          float    7.2\n",
            "f          int      -3\n",
            "x          float    5.7\n"
          ],
          "name": "stdout"
        }
      ]
    },
    {
      "cell_type": "code",
      "metadata": {
        "id": "x9v-qyfFz4_J",
        "colab_type": "code",
        "colab": {}
      },
      "source": [
        "del abcd"
      ],
      "execution_count": 13,
      "outputs": []
    },
    {
      "cell_type": "code",
      "metadata": {
        "id": "D3W3yBMuz4_M",
        "colab_type": "code",
        "colab": {
          "base_uri": "https://localhost:8080/",
          "height": 153
        },
        "outputId": "0fb27b8f-eadd-4d29-a4ed-a1ab0958595d"
      },
      "source": [
        "%whos"
      ],
      "execution_count": 14,
      "outputs": [
        {
          "output_type": "stream",
          "text": [
            "Variable   Type     Data/Info\n",
            "-----------------------------\n",
            "a          int      3\n",
            "b          int      5\n",
            "c          float    6.0\n",
            "d          float    7.2\n",
            "f          int      -3\n",
            "x          float    5.7\n"
          ],
          "name": "stdout"
        }
      ]
    },
    {
      "cell_type": "code",
      "metadata": {
        "id": "CctthPP1z4_O",
        "colab_type": "code",
        "colab": {
          "base_uri": "https://localhost:8080/",
          "height": 163
        },
        "outputId": "dfde71ba-829e-4ca7-ed89-886f8438031a"
      },
      "source": [
        "print(abcd)"
      ],
      "execution_count": 15,
      "outputs": [
        {
          "output_type": "error",
          "ename": "NameError",
          "evalue": "ignored",
          "traceback": [
            "\u001b[0;31m---------------------------------------------------------------------------\u001b[0m",
            "\u001b[0;31mNameError\u001b[0m                                 Traceback (most recent call last)",
            "\u001b[0;32m<ipython-input-15-ce1394b9d4d9>\u001b[0m in \u001b[0;36m<module>\u001b[0;34m()\u001b[0m\n\u001b[0;32m----> 1\u001b[0;31m \u001b[0mprint\u001b[0m\u001b[0;34m(\u001b[0m\u001b[0mabcd\u001b[0m\u001b[0;34m)\u001b[0m\u001b[0;34m\u001b[0m\u001b[0;34m\u001b[0m\u001b[0m\n\u001b[0m",
            "\u001b[0;31mNameError\u001b[0m: name 'abcd' is not defined"
          ]
        }
      ]
    },
    {
      "cell_type": "code",
      "metadata": {
        "id": "PDNaFWD-z4_R",
        "colab_type": "code",
        "colab": {}
      },
      "source": [
        "c = 2+4j"
      ],
      "execution_count": 16,
      "outputs": []
    },
    {
      "cell_type": "code",
      "metadata": {
        "id": "DnY6qJrIz4_T",
        "colab_type": "code",
        "colab": {},
        "outputId": "8aee9c30-a426-41e8-846d-d68f8cf0e56c"
      },
      "source": [
        "print(type(c))"
      ],
      "execution_count": null,
      "outputs": [
        {
          "output_type": "stream",
          "text": [
            "<class 'complex'>\n"
          ],
          "name": "stdout"
        }
      ]
    },
    {
      "cell_type": "markdown",
      "metadata": {
        "id": "wUXgjVkYyld6",
        "colab_type": "text"
      },
      "source": [
        "String variables can be declared either by using single or double quotes:"
      ]
    },
    {
      "cell_type": "code",
      "metadata": {
        "id": "m2p4mnygz4_W",
        "colab_type": "code",
        "colab": {}
      },
      "source": [
        "s = \"hellow how are you\""
      ],
      "execution_count": 17,
      "outputs": []
    },
    {
      "cell_type": "code",
      "metadata": {
        "id": "5fHXDpmGz4_b",
        "colab_type": "code",
        "colab": {
          "base_uri": "https://localhost:8080/",
          "height": 34
        },
        "outputId": "c760d384-96d1-4a00-eae5-aa8bf6dad9a0"
      },
      "source": [
        "print(type(s))"
      ],
      "execution_count": 18,
      "outputs": [
        {
          "output_type": "stream",
          "text": [
            "<class 'str'>\n"
          ],
          "name": "stdout"
        }
      ]
    },
    {
      "cell_type": "markdown",
      "metadata": {
        "id": "JT7F1081yf9z",
        "colab_type": "text"
      },
      "source": [
        "Variables do not need to be declared with any particular type and can even change type after they have been set"
      ]
    },
    {
      "cell_type": "code",
      "metadata": {
        "id": "lG8jZu6qyq3K",
        "colab_type": "code",
        "colab": {
          "base_uri": "https://localhost:8080/",
          "height": 34
        },
        "outputId": "ea2db0c6-045f-433c-e801-c321f23152c9"
      },
      "source": [
        "x = 4 # x is of type int\n",
        "x = \"Sally\" # x is now of type str\n",
        "print(x)"
      ],
      "execution_count": 19,
      "outputs": [
        {
          "output_type": "stream",
          "text": [
            "Sally\n"
          ],
          "name": "stdout"
        }
      ]
    },
    {
      "cell_type": "markdown",
      "metadata": {
        "id": "qmz2RCveyyPd",
        "colab_type": "text"
      },
      "source": [
        "*Variable Names*\n",
        "* A variable can have a short name (like x and y) or a more descriptive name (age, carname, total_volume). Rules for Python variables:\n",
        "* A variable name must start with a letter or the underscore character\n",
        "* A variable name cannot start with a number\n",
        "* A variable name can only contain alpha-numeric characters and underscores (A-z, 0-9, and _ )\n",
        "Variable names are case-sensitive (age, Age and AGE are three different variables)"
      ]
    },
    {
      "cell_type": "code",
      "metadata": {
        "id": "atz24olUzQE6",
        "colab_type": "code",
        "colab": {
          "base_uri": "https://localhost:8080/",
          "height": 129
        },
        "outputId": "84048e87-6ac9-4de7-e331-1c509390805f"
      },
      "source": [
        "#Legal variable names:\n",
        "myvar = \"John\"\n",
        "my_var = \"John\"\n",
        "_my_var = \"John\"\n",
        "myVar = \"John\"\n",
        "MYVAR = \"John\"\n",
        "myvar2 = \"John\"\n",
        "\n",
        "#Illegal variable names:\n",
        "2myvar = \"John\"\n",
        "my-var = \"John\"\n",
        "my var = \"John\"\n"
      ],
      "execution_count": 20,
      "outputs": [
        {
          "output_type": "error",
          "ename": "SyntaxError",
          "evalue": "ignored",
          "traceback": [
            "\u001b[0;36m  File \u001b[0;32m\"<ipython-input-20-a23a3e8b2732>\"\u001b[0;36m, line \u001b[0;32m10\u001b[0m\n\u001b[0;31m    2myvar = \"John\"\u001b[0m\n\u001b[0m         ^\u001b[0m\n\u001b[0;31mSyntaxError\u001b[0m\u001b[0;31m:\u001b[0m invalid syntax\n"
          ]
        }
      ]
    },
    {
      "cell_type": "markdown",
      "metadata": {
        "id": "fmpFa_7qzye2",
        "colab_type": "text"
      },
      "source": [
        "Output Variables\n",
        "The Python print statement is often used to output variables.\n",
        "\n",
        "To combine both text and a variable, Python uses the + character:"
      ]
    },
    {
      "cell_type": "code",
      "metadata": {
        "id": "TihuNdcmz1aG",
        "colab_type": "code",
        "colab": {
          "base_uri": "https://localhost:8080/",
          "height": 34
        },
        "outputId": "177f9266-0b97-4cbe-9ba6-9f2c1418833e"
      },
      "source": [
        "x = \"awesome\"\n",
        "print(\"Python is \" + x)"
      ],
      "execution_count": 22,
      "outputs": [
        {
          "output_type": "stream",
          "text": [
            "Python is awesome\n"
          ],
          "name": "stdout"
        }
      ]
    },
    {
      "cell_type": "code",
      "metadata": {
        "id": "L4PFkIwKz5_f",
        "colab_type": "code",
        "colab": {
          "base_uri": "https://localhost:8080/",
          "height": 34
        },
        "outputId": "b2679dbd-3111-45fa-fcc4-c065f74685f1"
      },
      "source": [
        "x = \"Python is \"\n",
        "y = \"awesome\"\n",
        "z =  x + y\n",
        "print(z)"
      ],
      "execution_count": 23,
      "outputs": [
        {
          "output_type": "stream",
          "text": [
            "Python is awesome\n"
          ],
          "name": "stdout"
        }
      ]
    },
    {
      "cell_type": "code",
      "metadata": {
        "id": "8HEqECKNz_Z1",
        "colab_type": "code",
        "colab": {
          "base_uri": "https://localhost:8080/",
          "height": 34
        },
        "outputId": "3fef6364-5c03-473a-d7b5-08bdcdf7afee"
      },
      "source": [
        "x = 5\n",
        "y = 10\n",
        "print(x + y)"
      ],
      "execution_count": 24,
      "outputs": [
        {
          "output_type": "stream",
          "text": [
            "15\n"
          ],
          "name": "stdout"
        }
      ]
    },
    {
      "cell_type": "code",
      "metadata": {
        "id": "w0ZxeKQi0Bxr",
        "colab_type": "code",
        "colab": {
          "base_uri": "https://localhost:8080/",
          "height": 197
        },
        "outputId": "0514242e-69b5-4af4-9cf5-d4b7d05a64da"
      },
      "source": [
        "x = 5\n",
        "y = \"John\"\n",
        "print(x + y)"
      ],
      "execution_count": 25,
      "outputs": [
        {
          "output_type": "error",
          "ename": "TypeError",
          "evalue": "ignored",
          "traceback": [
            "\u001b[0;31m---------------------------------------------------------------------------\u001b[0m",
            "\u001b[0;31mTypeError\u001b[0m                                 Traceback (most recent call last)",
            "\u001b[0;32m<ipython-input-25-00c66e4310ff>\u001b[0m in \u001b[0;36m<module>\u001b[0;34m()\u001b[0m\n\u001b[1;32m      1\u001b[0m \u001b[0mx\u001b[0m \u001b[0;34m=\u001b[0m \u001b[0;36m5\u001b[0m\u001b[0;34m\u001b[0m\u001b[0;34m\u001b[0m\u001b[0m\n\u001b[1;32m      2\u001b[0m \u001b[0my\u001b[0m \u001b[0;34m=\u001b[0m \u001b[0;34m\"John\"\u001b[0m\u001b[0;34m\u001b[0m\u001b[0;34m\u001b[0m\u001b[0m\n\u001b[0;32m----> 3\u001b[0;31m \u001b[0mprint\u001b[0m\u001b[0;34m(\u001b[0m\u001b[0mx\u001b[0m \u001b[0;34m+\u001b[0m \u001b[0my\u001b[0m\u001b[0;34m)\u001b[0m\u001b[0;34m\u001b[0m\u001b[0;34m\u001b[0m\u001b[0m\n\u001b[0m",
            "\u001b[0;31mTypeError\u001b[0m: unsupported operand type(s) for +: 'int' and 'str'"
          ]
        }
      ]
    },
    {
      "cell_type": "markdown",
      "metadata": {
        "id": "ONLJqdWz04AQ",
        "colab_type": "text"
      },
      "source": [
        "#Numbers"
      ]
    },
    {
      "cell_type": "markdown",
      "metadata": {
        "id": "BYApakOS06j_",
        "colab_type": "text"
      },
      "source": [
        "There are three numeric types in Python:\n",
        "\n",
        "* int\n",
        "* float\n",
        "* complex\n"
      ]
    },
    {
      "cell_type": "markdown",
      "metadata": {
        "id": "IT4A0DJo1G6S",
        "colab_type": "text"
      },
      "source": [
        "Variables of numeric types are created when you assign a value to them:"
      ]
    },
    {
      "cell_type": "code",
      "metadata": {
        "id": "MByTfo0M1KxW",
        "colab_type": "code",
        "colab": {}
      },
      "source": [
        "x = 1    # int\n",
        "y = 2.8  # float\n",
        "z = 1j   # complex"
      ],
      "execution_count": 26,
      "outputs": []
    },
    {
      "cell_type": "code",
      "metadata": {
        "id": "GfKV3c6E1Nnu",
        "colab_type": "code",
        "colab": {
          "base_uri": "https://localhost:8080/",
          "height": 68
        },
        "outputId": "ecaff7e5-cdc4-4ab0-a807-7de4b489ef2f"
      },
      "source": [
        "print(type(x))\n",
        "print(type(y))\n",
        "print(type(z))"
      ],
      "execution_count": 27,
      "outputs": [
        {
          "output_type": "stream",
          "text": [
            "<class 'int'>\n",
            "<class 'float'>\n",
            "<class 'complex'>\n"
          ],
          "name": "stdout"
        }
      ]
    },
    {
      "cell_type": "markdown",
      "metadata": {
        "id": "m8ycdgE01XXm",
        "colab_type": "text"
      },
      "source": [
        "**Int**\n",
        "* Int, or integer, is a whole number, positive or negative, without decimals, of unlimited length."
      ]
    },
    {
      "cell_type": "code",
      "metadata": {
        "id": "KMqwDAaQ1dYB",
        "colab_type": "code",
        "colab": {
          "base_uri": "https://localhost:8080/",
          "height": 68
        },
        "outputId": "405cc0b9-f3c2-4d23-a099-484446a5145b"
      },
      "source": [
        "x = 1\n",
        "y = 35656222554887711\n",
        "z = -3255522\n",
        "\n",
        "print(type(x))\n",
        "print(type(y))\n",
        "print(type(z))"
      ],
      "execution_count": 28,
      "outputs": [
        {
          "output_type": "stream",
          "text": [
            "<class 'int'>\n",
            "<class 'int'>\n",
            "<class 'int'>\n"
          ],
          "name": "stdout"
        }
      ]
    },
    {
      "cell_type": "markdown",
      "metadata": {
        "id": "sRDxQPXU1id0",
        "colab_type": "text"
      },
      "source": [
        "**Float**\n",
        "* Float, or \"floating point number\" is a number, positive or negative, containing one or more decimals."
      ]
    },
    {
      "cell_type": "code",
      "metadata": {
        "id": "73i2yTeP1lSn",
        "colab_type": "code",
        "colab": {
          "base_uri": "https://localhost:8080/",
          "height": 68
        },
        "outputId": "f76c2a52-159a-4a9e-cd04-9493427a6de7"
      },
      "source": [
        "x = 1.10\n",
        "y = 1.0\n",
        "z = -35.59\n",
        "\n",
        "print(type(x))\n",
        "print(type(y))\n",
        "print(type(z))"
      ],
      "execution_count": 29,
      "outputs": [
        {
          "output_type": "stream",
          "text": [
            "<class 'float'>\n",
            "<class 'float'>\n",
            "<class 'float'>\n"
          ],
          "name": "stdout"
        }
      ]
    },
    {
      "cell_type": "markdown",
      "metadata": {
        "id": "eCzfk0Uq1s41",
        "colab_type": "text"
      },
      "source": [
        "Float can also be scientific numbers with an \"e\" to indicate the power of 10."
      ]
    },
    {
      "cell_type": "code",
      "metadata": {
        "id": "KvbHtiLT1rfc",
        "colab_type": "code",
        "colab": {
          "base_uri": "https://localhost:8080/",
          "height": 68
        },
        "outputId": "761ae579-4ec9-4424-c99d-6fdd055c2870"
      },
      "source": [
        "x = 35e3\n",
        "y = 12E4\n",
        "z = -87.7e100\n",
        "\n",
        "print(type(x))\n",
        "print(type(y))\n",
        "print(type(z))"
      ],
      "execution_count": 30,
      "outputs": [
        {
          "output_type": "stream",
          "text": [
            "<class 'float'>\n",
            "<class 'float'>\n",
            "<class 'float'>\n"
          ],
          "name": "stdout"
        }
      ]
    },
    {
      "cell_type": "markdown",
      "metadata": {
        "id": "Gw2dPRTq11vF",
        "colab_type": "text"
      },
      "source": [
        "**Complex**\n",
        "* Complex numbers are written with a \"j\" as the imaginary part:"
      ]
    },
    {
      "cell_type": "code",
      "metadata": {
        "id": "LMl4iikc10gw",
        "colab_type": "code",
        "colab": {
          "base_uri": "https://localhost:8080/",
          "height": 68
        },
        "outputId": "ac0432e6-b326-43c6-cc8a-f82073f78c8f"
      },
      "source": [
        "x = 3+5j\n",
        "y = 5j\n",
        "z = -5j\n",
        "\n",
        "print(type(x))\n",
        "print(type(y))\n",
        "print(type(z))"
      ],
      "execution_count": 31,
      "outputs": [
        {
          "output_type": "stream",
          "text": [
            "<class 'complex'>\n",
            "<class 'complex'>\n",
            "<class 'complex'>\n"
          ],
          "name": "stdout"
        }
      ]
    },
    {
      "cell_type": "markdown",
      "metadata": {
        "id": "_iSboNgv1-dy",
        "colab_type": "text"
      },
      "source": [
        "**Type Conversion**\n",
        "\n",
        "> You can convert from one type to another with the int(), float(), and complex() methods:\n",
        "\n"
      ]
    },
    {
      "cell_type": "code",
      "metadata": {
        "id": "1AUBChTI17Xz",
        "colab_type": "code",
        "colab": {
          "base_uri": "https://localhost:8080/",
          "height": 119
        },
        "outputId": "badc1e90-c08e-44b2-8d2f-57e3b182d796"
      },
      "source": [
        "x = 1    # int\n",
        "y = 2.8  # float\n",
        "z = 1j   # complex\n",
        "\n",
        "#convert from int to float:\n",
        "a = float(x)\n",
        "\n",
        "#convert from float to int:\n",
        "b = int(y)\n",
        "\n",
        "#convert from int to complex:\n",
        "c = complex(x)\n",
        "\n",
        "print(a)\n",
        "print(b)\n",
        "print(c)\n",
        "\n",
        "print(type(a))\n",
        "print(type(b))\n",
        "print(type(c))"
      ],
      "execution_count": 32,
      "outputs": [
        {
          "output_type": "stream",
          "text": [
            "1.0\n",
            "2\n",
            "(1+0j)\n",
            "<class 'float'>\n",
            "<class 'int'>\n",
            "<class 'complex'>\n"
          ],
          "name": "stdout"
        }
      ]
    },
    {
      "cell_type": "markdown",
      "metadata": {
        "id": "it1zFk0h2Tj_",
        "colab_type": "text"
      },
      "source": [
        "**Random Number**\n",
        "* Python does not have a random() function to make a random number, but Python has a built-in module called random that can be used to make random numbers:"
      ]
    },
    {
      "cell_type": "code",
      "metadata": {
        "id": "bqMcdL812au5",
        "colab_type": "code",
        "colab": {
          "base_uri": "https://localhost:8080/",
          "height": 34
        },
        "outputId": "8cb4d8b8-b834-4001-80e1-e7beebd9e886"
      },
      "source": [
        "import random\n",
        "\n",
        "print(random.randrange(1, 10))"
      ],
      "execution_count": 33,
      "outputs": [
        {
          "output_type": "stream",
          "text": [
            "7\n"
          ],
          "name": "stdout"
        }
      ]
    },
    {
      "cell_type": "markdown",
      "metadata": {
        "id": "-W5LshTl3Ki7",
        "colab_type": "text"
      },
      "source": [
        "#Casting"
      ]
    },
    {
      "cell_type": "markdown",
      "metadata": {
        "id": "KXSx-QXb3MmU",
        "colab_type": "text"
      },
      "source": [
        "**Specify a Variable Type**\n",
        "* There may be times when you want to specify a type on to a variable. This can be done with casting. Python is an object-orientated language, and as such it uses classes to define data types, including its primitive types.\n",
        "\n",
        "* Casting in python is therefore done using constructor functions:\n",
        "1. int() - constructs an integer number from an integer literal, a float literal (by rounding down to the previous whole number), or a string literal (providing the string represents a whole number)\n",
        "2. float() - constructs a float number from an integer literal, a float literal or a string literal (providing the string represents a float or an integer)\n",
        "3. str() - constructs a string from a wide variety of data types, including strings, integer literals and float literals"
      ]
    },
    {
      "cell_type": "code",
      "metadata": {
        "id": "kZcX08o73n_Z",
        "colab_type": "code",
        "colab": {}
      },
      "source": [
        "#Integer\n",
        "x = int(1)   # x will be 1\n",
        "y = int(2.8) # y will be 2\n",
        "z = int(\"3\") # z will be 3"
      ],
      "execution_count": 36,
      "outputs": []
    },
    {
      "cell_type": "code",
      "metadata": {
        "id": "4d6s04_J3ptw",
        "colab_type": "code",
        "colab": {}
      },
      "source": [
        "#Floats\n",
        "x = float(1)     # x will be 1.0\n",
        "y = float(2.8)   # y will be 2.8\n",
        "z = float(\"3\")   # z will be 3.0\n",
        "w = float(\"4.2\") # w will be 4.2"
      ],
      "execution_count": 35,
      "outputs": []
    },
    {
      "cell_type": "code",
      "metadata": {
        "id": "YzbHtxuT30v6",
        "colab_type": "code",
        "colab": {}
      },
      "source": [
        "#String\n",
        "x = str(\"s1\") # x will be 's1'\n",
        "y = str(2)    # y will be '2'\n",
        "z = str(3.0)  # z will be '3.0'"
      ],
      "execution_count": 37,
      "outputs": []
    },
    {
      "cell_type": "markdown",
      "metadata": {
        "id": "05vutPvp4RjQ",
        "colab_type": "text"
      },
      "source": [
        "#Strings"
      ]
    },
    {
      "cell_type": "markdown",
      "metadata": {
        "id": "vYsW1-Xj4Uxm",
        "colab_type": "text"
      },
      "source": [
        "**String Literals**\n",
        "* String literals in python are surrounded by either single quotation marks, or double quotation marks.\n",
        "\n",
        "'hello' is the same as \"hello\".\n",
        "\n",
        "You can display a string literal with the print() function:"
      ]
    },
    {
      "cell_type": "code",
      "metadata": {
        "id": "OHR-SBo04cNz",
        "colab_type": "code",
        "colab": {
          "base_uri": "https://localhost:8080/",
          "height": 51
        },
        "outputId": "448d705c-a27d-474c-ad25-fe3ababee78b"
      },
      "source": [
        "print(\"Hello\")\n",
        "print('Hello')"
      ],
      "execution_count": 38,
      "outputs": [
        {
          "output_type": "stream",
          "text": [
            "Hello\n",
            "Hello\n"
          ],
          "name": "stdout"
        }
      ]
    },
    {
      "cell_type": "markdown",
      "metadata": {
        "id": "25o6-NmV4iGJ",
        "colab_type": "text"
      },
      "source": [
        "**Assign String to a Variable**\n",
        "* Assigning a string to a variable is done with the variable name followed by an equal sign and the string:"
      ]
    },
    {
      "cell_type": "code",
      "metadata": {
        "id": "xG4GsPjs4hps",
        "colab_type": "code",
        "colab": {
          "base_uri": "https://localhost:8080/",
          "height": 34
        },
        "outputId": "e5d1c596-ae63-4496-bdba-a9995d55f735"
      },
      "source": [
        "a = \"Hello\"\n",
        "print(a)"
      ],
      "execution_count": 39,
      "outputs": [
        {
          "output_type": "stream",
          "text": [
            "Hello\n"
          ],
          "name": "stdout"
        }
      ]
    },
    {
      "cell_type": "markdown",
      "metadata": {
        "id": "HFqWgMys4uSX",
        "colab_type": "text"
      },
      "source": [
        "Multiline Strings\n",
        "* You can assign a multiline string to a variable by using three quotes:"
      ]
    },
    {
      "cell_type": "code",
      "metadata": {
        "id": "O5R-eA0Q4tHj",
        "colab_type": "code",
        "colab": {
          "base_uri": "https://localhost:8080/",
          "height": 85
        },
        "outputId": "f7d6a634-6154-4d5f-9c0b-cf67029a5fe3"
      },
      "source": [
        "a = \"\"\"Lorem ipsum dolor sit amet,\n",
        "consectetur adipiscing elit,\n",
        "sed do eiusmod tempor incididunt\n",
        "ut labore et dolore magna aliqua.\"\"\"\n",
        "print(a)"
      ],
      "execution_count": 40,
      "outputs": [
        {
          "output_type": "stream",
          "text": [
            "Lorem ipsum dolor sit amet,\n",
            "consectetur adipiscing elit,\n",
            "sed do eiusmod tempor incididunt\n",
            "ut labore et dolore magna aliqua.\n"
          ],
          "name": "stdout"
        }
      ]
    },
    {
      "cell_type": "markdown",
      "metadata": {
        "id": "lTDIS_mL47wI",
        "colab_type": "text"
      },
      "source": [
        "Or three single quotes:"
      ]
    },
    {
      "cell_type": "code",
      "metadata": {
        "id": "jjuYFuLL46rQ",
        "colab_type": "code",
        "colab": {
          "base_uri": "https://localhost:8080/",
          "height": 85
        },
        "outputId": "79461ffb-b706-47bd-c732-eaa9610b262f"
      },
      "source": [
        "a = '''Lorem ipsum dolor sit amet,\n",
        "consectetur adipiscing elit,\n",
        "sed do eiusmod tempor incididunt\n",
        "ut labore et dolore magna aliqua.'''\n",
        "print(a)"
      ],
      "execution_count": 41,
      "outputs": [
        {
          "output_type": "stream",
          "text": [
            "Lorem ipsum dolor sit amet,\n",
            "consectetur adipiscing elit,\n",
            "sed do eiusmod tempor incididunt\n",
            "ut labore et dolore magna aliqua.\n"
          ],
          "name": "stdout"
        }
      ]
    },
    {
      "cell_type": "markdown",
      "metadata": {
        "id": "MLWcRJlT5N5j",
        "colab_type": "text"
      },
      "source": [
        "#Comments"
      ]
    },
    {
      "cell_type": "markdown",
      "metadata": {
        "id": "1H6GtF0_5QS0",
        "colab_type": "text"
      },
      "source": [
        "* Comments can be used to explain Python code.\n",
        "\n",
        "* Comments can be used to make the code more readable.\n",
        "\n",
        "* Comments can be used to prevent execution when testing code."
      ]
    },
    {
      "cell_type": "markdown",
      "metadata": {
        "id": "MMNEp3a95dJd",
        "colab_type": "text"
      },
      "source": [
        "Comments starts with a #, and Python will ignore them:"
      ]
    },
    {
      "cell_type": "code",
      "metadata": {
        "id": "jjYKF38c5ZSa",
        "colab_type": "code",
        "colab": {
          "base_uri": "https://localhost:8080/",
          "height": 34
        },
        "outputId": "79178f0a-acf1-436c-ad01-8a1ced113327"
      },
      "source": [
        "#This is a comment\n",
        "print(\"Hello, World!\")"
      ],
      "execution_count": 42,
      "outputs": [
        {
          "output_type": "stream",
          "text": [
            "Hello, World!\n"
          ],
          "name": "stdout"
        }
      ]
    },
    {
      "cell_type": "code",
      "metadata": {
        "id": "bWGsyoom5jfW",
        "colab_type": "code",
        "colab": {
          "base_uri": "https://localhost:8080/",
          "height": 34
        },
        "outputId": "7249b758-7994-40c0-927a-0783ae9bec32"
      },
      "source": [
        "print(\"Hello, World!\") #This is a comment"
      ],
      "execution_count": 43,
      "outputs": [
        {
          "output_type": "stream",
          "text": [
            "Hello, World!\n"
          ],
          "name": "stdout"
        }
      ]
    },
    {
      "cell_type": "markdown",
      "metadata": {
        "id": "i2usAVz25mVL",
        "colab_type": "text"
      },
      "source": [
        "Multi Line Comments\n",
        "Python does not really have a syntax for multi line comments.\n",
        "\n",
        "To add a multiline comment you could insert a # for each line:"
      ]
    },
    {
      "cell_type": "code",
      "metadata": {
        "id": "gxuAzcNp5n9D",
        "colab_type": "code",
        "colab": {
          "base_uri": "https://localhost:8080/",
          "height": 34
        },
        "outputId": "246d17f9-7bdc-4cac-9077-4b96bb567e28"
      },
      "source": [
        "#This is a comment\n",
        "#written in\n",
        "#more than just one line\n",
        "print(\"Hello, World!\")"
      ],
      "execution_count": 44,
      "outputs": [
        {
          "output_type": "stream",
          "text": [
            "Hello, World!\n"
          ],
          "name": "stdout"
        }
      ]
    },
    {
      "cell_type": "markdown",
      "metadata": {
        "id": "nL-qWJSS5tqk",
        "colab_type": "text"
      },
      "source": [
        "Or, not quite as intended, you can use a multiline string.\n",
        "\n",
        "Since Python will ignore string literals that are not assigned to a variable, you can add a multiline string (triple quotes) in your code, and place your comment inside it:"
      ]
    },
    {
      "cell_type": "code",
      "metadata": {
        "id": "LrpGyJkd50P-",
        "colab_type": "code",
        "colab": {
          "base_uri": "https://localhost:8080/",
          "height": 34
        },
        "outputId": "b82dcdef-c883-4c7a-aea3-9a03353046e9"
      },
      "source": [
        "\"\"\"\n",
        "This is a comment\n",
        "written in\n",
        "more than just one line\n",
        "\"\"\"\n",
        "print(\"Hello, World!\")"
      ],
      "execution_count": 45,
      "outputs": [
        {
          "output_type": "stream",
          "text": [
            "Hello, World!\n"
          ],
          "name": "stdout"
        }
      ]
    },
    {
      "cell_type": "markdown",
      "metadata": {
        "id": "h_1qIy9Tz4_f",
        "colab_type": "text"
      },
      "source": [
        "# Operators"
      ]
    },
    {
      "cell_type": "code",
      "metadata": {
        "id": "2zdjtDNxz4_f",
        "colab_type": "code",
        "colab": {},
        "outputId": "7a46d148-b481-4ae4-de5b-3d96f3eacb32"
      },
      "source": [
        "%whos"
      ],
      "execution_count": null,
      "outputs": [
        {
          "output_type": "stream",
          "text": [
            "Variable   Type       Data/Info\n",
            "-------------------------------\n",
            "a          int        3\n",
            "b          int        5\n",
            "c          complex    (2+4j)\n",
            "d          float      7.2\n",
            "f          int        -3\n",
            "s          str        hellow how are you\n",
            "x          float      5.7\n"
          ],
          "name": "stdout"
        }
      ]
    },
    {
      "cell_type": "code",
      "metadata": {
        "id": "RVXVcxXjz4_i",
        "colab_type": "code",
        "colab": {}
      },
      "source": [
        "sumOfaAndb = a+b"
      ],
      "execution_count": null,
      "outputs": []
    },
    {
      "cell_type": "code",
      "metadata": {
        "id": "ZbnXfztiz4_o",
        "colab_type": "code",
        "colab": {},
        "outputId": "75d55d4d-cf66-4f4a-d7f4-4ba9ea562644"
      },
      "source": [
        "print(sumOfaAndb)"
      ],
      "execution_count": null,
      "outputs": [
        {
          "output_type": "stream",
          "text": [
            "8\n"
          ],
          "name": "stdout"
        }
      ]
    },
    {
      "cell_type": "code",
      "metadata": {
        "id": "aBh0K9Knz4_s",
        "colab_type": "code",
        "colab": {},
        "outputId": "ec69f96a-53ba-4594-9fe1-c601994e748e"
      },
      "source": [
        "type(sumOfaAndb)"
      ],
      "execution_count": null,
      "outputs": [
        {
          "output_type": "execute_result",
          "data": {
            "text/plain": [
              "int"
            ]
          },
          "metadata": {
            "tags": []
          },
          "execution_count": 21
        }
      ]
    },
    {
      "cell_type": "code",
      "metadata": {
        "id": "uOm4iUUsz4_w",
        "colab_type": "code",
        "colab": {},
        "outputId": "c11eec6d-224a-4d37-be17-9d9439a1a615"
      },
      "source": [
        "type(a+d)"
      ],
      "execution_count": null,
      "outputs": [
        {
          "output_type": "execute_result",
          "data": {
            "text/plain": [
              "float"
            ]
          },
          "metadata": {
            "tags": []
          },
          "execution_count": 22
        }
      ]
    },
    {
      "cell_type": "code",
      "metadata": {
        "id": "wfslRliVz4_0",
        "colab_type": "code",
        "colab": {}
      },
      "source": [
        "v = ((a+d)**3)/4"
      ],
      "execution_count": null,
      "outputs": []
    },
    {
      "cell_type": "code",
      "metadata": {
        "id": "VZKzDU36z4_2",
        "colab_type": "code",
        "colab": {},
        "outputId": "cea64025-06d8-4865-dee7-41ee9ef5229b"
      },
      "source": [
        "print(v)"
      ],
      "execution_count": null,
      "outputs": [
        {
          "output_type": "stream",
          "text": [
            "265.30199999999996\n"
          ],
          "name": "stdout"
        }
      ]
    },
    {
      "cell_type": "code",
      "metadata": {
        "id": "pdPS0ZAfz4_5",
        "colab_type": "code",
        "colab": {},
        "outputId": "737dc5a7-4473-4360-eeb5-ccecf6b04d85"
      },
      "source": [
        "s1 = \"hellow\"\n",
        "s2 = \"world\"\n",
        "s = s1+s2\n",
        "print(s)"
      ],
      "execution_count": null,
      "outputs": [
        {
          "output_type": "stream",
          "text": [
            "hellowworld\n"
          ],
          "name": "stdout"
        }
      ]
    },
    {
      "cell_type": "code",
      "metadata": {
        "id": "7Wnrhkwbz4_8",
        "colab_type": "code",
        "colab": {},
        "outputId": "992ad1f5-60e9-4813-8374-607958ab530c"
      },
      "source": [
        "10//3"
      ],
      "execution_count": null,
      "outputs": [
        {
          "output_type": "execute_result",
          "data": {
            "text/plain": [
              "3"
            ]
          },
          "metadata": {
            "tags": []
          },
          "execution_count": 26
        }
      ]
    },
    {
      "cell_type": "code",
      "metadata": {
        "id": "9EquvwF6z4_-",
        "colab_type": "code",
        "colab": {},
        "outputId": "05b754af-5bfa-49a4-9c72-596293b3949c"
      },
      "source": [
        "10/3"
      ],
      "execution_count": null,
      "outputs": [
        {
          "output_type": "execute_result",
          "data": {
            "text/plain": [
              "3.3333333333333335"
            ]
          },
          "metadata": {
            "tags": []
          },
          "execution_count": 27
        }
      ]
    },
    {
      "cell_type": "code",
      "metadata": {
        "id": "9WwKBQ-Lz5AB",
        "colab_type": "code",
        "colab": {},
        "outputId": "8bdf8677-1e02-446e-ee1b-e05a92ade2a3"
      },
      "source": [
        "_"
      ],
      "execution_count": null,
      "outputs": [
        {
          "output_type": "execute_result",
          "data": {
            "text/plain": [
              "3.3333333333333335"
            ]
          },
          "metadata": {
            "tags": []
          },
          "execution_count": 28
        }
      ]
    },
    {
      "cell_type": "code",
      "metadata": {
        "id": "ZhV44uP0z5AF",
        "colab_type": "code",
        "colab": {},
        "outputId": "fc5dd8c3-7c1e-4168-f200-4368939bc4cb"
      },
      "source": [
        "3x = 5"
      ],
      "execution_count": null,
      "outputs": [
        {
          "output_type": "error",
          "ename": "SyntaxError",
          "evalue": "invalid syntax (<ipython-input-29-b52acbda3310>, line 1)",
          "traceback": [
            "\u001b[1;36m  File \u001b[1;32m\"<ipython-input-29-b52acbda3310>\"\u001b[1;36m, line \u001b[1;32m1\u001b[0m\n\u001b[1;33m    3x = 5\u001b[0m\n\u001b[1;37m     ^\u001b[0m\n\u001b[1;31mSyntaxError\u001b[0m\u001b[1;31m:\u001b[0m invalid syntax\n"
          ]
        }
      ]
    },
    {
      "cell_type": "code",
      "metadata": {
        "id": "WR-XCbUSz5AJ",
        "colab_type": "code",
        "colab": {},
        "outputId": "e755c287-bf8d-4496-cf63-5a9e0b4e07b5"
      },
      "source": [
        "@y=4"
      ],
      "execution_count": null,
      "outputs": [
        {
          "output_type": "error",
          "ename": "SyntaxError",
          "evalue": "invalid syntax (<ipython-input-30-e67763287a1a>, line 1)",
          "traceback": [
            "\u001b[1;36m  File \u001b[1;32m\"<ipython-input-30-e67763287a1a>\"\u001b[1;36m, line \u001b[1;32m1\u001b[0m\n\u001b[1;33m    @y=4\u001b[0m\n\u001b[1;37m      ^\u001b[0m\n\u001b[1;31mSyntaxError\u001b[0m\u001b[1;31m:\u001b[0m invalid syntax\n"
          ]
        }
      ]
    },
    {
      "cell_type": "code",
      "metadata": {
        "id": "gBuuLUX7z5AN",
        "colab_type": "code",
        "colab": {},
        "outputId": "0533231d-79ff-42c2-b684-c99123ff8123"
      },
      "source": [
        "*t=4"
      ],
      "execution_count": null,
      "outputs": [
        {
          "output_type": "error",
          "ename": "SyntaxError",
          "evalue": "starred assignment target must be in a list or tuple (<ipython-input-31-3588004ff47c>, line 4)",
          "traceback": [
            "\u001b[1;36m  File \u001b[1;32m\"<ipython-input-31-3588004ff47c>\"\u001b[1;36m, line \u001b[1;32m4\u001b[0m\n\u001b[1;31mSyntaxError\u001b[0m\u001b[1;31m:\u001b[0m starred assignment target must be in a list or tuple\n"
          ]
        }
      ]
    },
    {
      "cell_type": "code",
      "metadata": {
        "id": "4HJ0r8-0z5AP",
        "colab_type": "code",
        "colab": {}
      },
      "source": [
        "_e = 6"
      ],
      "execution_count": null,
      "outputs": []
    },
    {
      "cell_type": "code",
      "metadata": {
        "id": "HA8iqrLDz5AR",
        "colab_type": "code",
        "colab": {}
      },
      "source": [
        "startingTimeOfTheCourse = 2.0"
      ],
      "execution_count": null,
      "outputs": []
    },
    {
      "cell_type": "code",
      "metadata": {
        "id": "ShOa72EYz5AT",
        "colab_type": "code",
        "colab": {},
        "outputId": "83e7e451-b210-4708-a840-e2f23be06fc5"
      },
      "source": [
        "%whos"
      ],
      "execution_count": null,
      "outputs": [
        {
          "output_type": "stream",
          "text": [
            "Variable                  Type       Data/Info\n",
            "----------------------------------------------\n",
            "a                         int        3\n",
            "b                         int        5\n",
            "c                         complex    (2+4j)\n",
            "d                         float      7.2\n",
            "f                         int        -3\n",
            "s                         str        hellowworld\n",
            "s1                        str        hellow\n",
            "s2                        str        world\n",
            "startingTimeOfTheCourse   float      2.0\n",
            "sumOfaAndb                int        8\n",
            "v                         float      265.30199999999996\n",
            "x                         float      5.7\n"
          ],
          "name": "stdout"
        }
      ]
    },
    {
      "cell_type": "markdown",
      "metadata": {
        "id": "FCgcKwv-z5AW",
        "colab_type": "text"
      },
      "source": [
        "# Bool"
      ]
    },
    {
      "cell_type": "code",
      "metadata": {
        "id": "Glo766V3z5AW",
        "colab_type": "code",
        "colab": {}
      },
      "source": [
        "a = True\n",
        "b = True\n",
        "c = False"
      ],
      "execution_count": null,
      "outputs": []
    },
    {
      "cell_type": "code",
      "metadata": {
        "id": "9bFpqWjoz5AY",
        "colab_type": "code",
        "colab": {},
        "outputId": "b16a3e18-7c5e-472a-e939-6405e6bb5da4"
      },
      "source": [
        "%whos"
      ],
      "execution_count": null,
      "outputs": [
        {
          "output_type": "stream",
          "text": [
            "Variable                  Type     Data/Info\n",
            "--------------------------------------------\n",
            "a                         bool     True\n",
            "b                         bool     True\n",
            "c                         bool     False\n",
            "d                         float    7.2\n",
            "f                         int      -3\n",
            "s                         str      hellowworld\n",
            "s1                        str      hellow\n",
            "s2                        str      world\n",
            "startingTimeOfTheCourse   float    2.0\n",
            "sumOfaAndb                int      8\n",
            "v                         float    265.30199999999996\n",
            "x                         float    5.7\n"
          ],
          "name": "stdout"
        }
      ]
    },
    {
      "cell_type": "code",
      "metadata": {
        "id": "tiTbISVmz5Ac",
        "colab_type": "code",
        "colab": {},
        "outputId": "ce830313-0cf7-47fb-8141-95e08ecce85f"
      },
      "source": [
        "print(a and b)\n",
        "print(a and c)\n",
        "print(c and a)"
      ],
      "execution_count": null,
      "outputs": [
        {
          "output_type": "stream",
          "text": [
            "True\n",
            "False\n",
            "False\n"
          ],
          "name": "stdout"
        }
      ]
    },
    {
      "cell_type": "code",
      "metadata": {
        "id": "Xp21wKcSz5Af",
        "colab_type": "code",
        "colab": {},
        "outputId": "54405a51-4ca1-46ef-a840-271f6ea7c4b2"
      },
      "source": [
        "d = a or c\n",
        "print(d)"
      ],
      "execution_count": null,
      "outputs": [
        {
          "output_type": "stream",
          "text": [
            "True\n"
          ],
          "name": "stdout"
        }
      ]
    },
    {
      "cell_type": "code",
      "metadata": {
        "id": "vCEenZZkz5Ai",
        "colab_type": "code",
        "colab": {},
        "outputId": "725c821e-93e9-4068-a980-711f13050b44"
      },
      "source": [
        "not(a)"
      ],
      "execution_count": null,
      "outputs": [
        {
          "output_type": "execute_result",
          "data": {
            "text/plain": [
              "False"
            ]
          },
          "metadata": {
            "tags": []
          },
          "execution_count": 39
        }
      ]
    },
    {
      "cell_type": "code",
      "metadata": {
        "id": "7RoOeOSyz5An",
        "colab_type": "code",
        "colab": {},
        "outputId": "fa0d1df1-cd65-4486-9d76-b953c8f404bb"
      },
      "source": [
        "not(b)"
      ],
      "execution_count": null,
      "outputs": [
        {
          "output_type": "execute_result",
          "data": {
            "text/plain": [
              "False"
            ]
          },
          "metadata": {
            "tags": []
          },
          "execution_count": 40
        }
      ]
    },
    {
      "cell_type": "code",
      "metadata": {
        "id": "cYbjnYhuz5Aq",
        "colab_type": "code",
        "colab": {},
        "outputId": "5dde88c2-6887-4d33-fac1-8820dd8b5885"
      },
      "source": [
        "not(c)"
      ],
      "execution_count": null,
      "outputs": [
        {
          "output_type": "execute_result",
          "data": {
            "text/plain": [
              "True"
            ]
          },
          "metadata": {
            "tags": []
          },
          "execution_count": 41
        }
      ]
    },
    {
      "cell_type": "code",
      "metadata": {
        "id": "y3fTV-9kz5Au",
        "colab_type": "code",
        "colab": {}
      },
      "source": [
        "t = not(d)"
      ],
      "execution_count": null,
      "outputs": []
    },
    {
      "cell_type": "code",
      "metadata": {
        "id": "cFSF4VCXz5Az",
        "colab_type": "code",
        "colab": {},
        "outputId": "9c863ac7-e14b-44cb-bc44-68c3c57c6757"
      },
      "source": [
        "type(t)"
      ],
      "execution_count": null,
      "outputs": [
        {
          "output_type": "execute_result",
          "data": {
            "text/plain": [
              "bool"
            ]
          },
          "metadata": {
            "tags": []
          },
          "execution_count": 43
        }
      ]
    },
    {
      "cell_type": "code",
      "metadata": {
        "id": "78RKyGgsz5A4",
        "colab_type": "code",
        "colab": {},
        "outputId": "c9886f63-3231-481c-d92f-c667571d8c1f"
      },
      "source": [
        "print(t)"
      ],
      "execution_count": null,
      "outputs": [
        {
          "output_type": "stream",
          "text": [
            "False\n"
          ],
          "name": "stdout"
        }
      ]
    },
    {
      "cell_type": "code",
      "metadata": {
        "id": "MovHq-r6z5A6",
        "colab_type": "code",
        "colab": {},
        "outputId": "70ee020c-eb3c-4a51-e951-cc887609e97f"
      },
      "source": [
        "not((a and b) or (c or d))"
      ],
      "execution_count": null,
      "outputs": [
        {
          "output_type": "execute_result",
          "data": {
            "text/plain": [
              "False"
            ]
          },
          "metadata": {
            "tags": []
          },
          "execution_count": 45
        }
      ]
    },
    {
      "cell_type": "markdown",
      "metadata": {
        "id": "cFE4C3hUz5A9",
        "colab_type": "text"
      },
      "source": [
        "# Comparisons "
      ]
    },
    {
      "cell_type": "code",
      "metadata": {
        "id": "5QaLErHOz5A9",
        "colab_type": "code",
        "colab": {},
        "outputId": "8991f34f-d727-4bd6-aa90-d95484cbe714"
      },
      "source": [
        "print(2<3)"
      ],
      "execution_count": null,
      "outputs": [
        {
          "output_type": "stream",
          "text": [
            "True\n"
          ],
          "name": "stdout"
        }
      ]
    },
    {
      "cell_type": "code",
      "metadata": {
        "id": "S7XJda54z5A_",
        "colab_type": "code",
        "colab": {},
        "outputId": "577c00ec-2786-481a-9773-551c19852eda"
      },
      "source": [
        "c = 2<3\n",
        "print(type(c))\n",
        "print(c)"
      ],
      "execution_count": null,
      "outputs": [
        {
          "output_type": "stream",
          "text": [
            "<class 'bool'>\n",
            "True\n"
          ],
          "name": "stdout"
        }
      ]
    },
    {
      "cell_type": "code",
      "metadata": {
        "id": "_hcr--bXz5BB",
        "colab_type": "code",
        "colab": {}
      },
      "source": [
        "d = 3==4"
      ],
      "execution_count": null,
      "outputs": []
    },
    {
      "cell_type": "code",
      "metadata": {
        "id": "m0fUFrtVz5BE",
        "colab_type": "code",
        "colab": {},
        "outputId": "8513ecfc-c0a6-4575-e4e8-8103e78d852d"
      },
      "source": [
        "print(d)"
      ],
      "execution_count": null,
      "outputs": [
        {
          "output_type": "stream",
          "text": [
            "False\n"
          ],
          "name": "stdout"
        }
      ]
    },
    {
      "cell_type": "code",
      "metadata": {
        "id": "PiimCFYiz5BG",
        "colab_type": "code",
        "colab": {},
        "outputId": "b8eed5a6-a47b-4bb2-b27a-ca1f48cff1a2"
      },
      "source": [
        "3==3.0"
      ],
      "execution_count": null,
      "outputs": [
        {
          "output_type": "execute_result",
          "data": {
            "text/plain": [
              "True"
            ]
          },
          "metadata": {
            "tags": []
          },
          "execution_count": 50
        }
      ]
    },
    {
      "cell_type": "code",
      "metadata": {
        "id": "1HLM3c2gz5BO",
        "colab_type": "code",
        "colab": {}
      },
      "source": [
        "x = 4\n",
        "y = 9\n",
        "z = 8.3\n",
        "r = -3"
      ],
      "execution_count": null,
      "outputs": []
    },
    {
      "cell_type": "code",
      "metadata": {
        "id": "DGpD0NNuz5BS",
        "colab_type": "code",
        "colab": {},
        "outputId": "5863fe08-6c08-4083-b680-456a3090fa4b"
      },
      "source": [
        "(x<y) and (z<y) or (r==x)"
      ],
      "execution_count": null,
      "outputs": [
        {
          "output_type": "execute_result",
          "data": {
            "text/plain": [
              "True"
            ]
          },
          "metadata": {
            "tags": []
          },
          "execution_count": 52
        }
      ]
    },
    {
      "cell_type": "code",
      "metadata": {
        "id": "1o9Todavz5BV",
        "colab_type": "code",
        "colab": {},
        "outputId": "d0ccad8b-f1d3-4be4-8076-f91bc4a6d494"
      },
      "source": [
        "(r==x) and (x<y) or (z>y)"
      ],
      "execution_count": null,
      "outputs": [
        {
          "output_type": "execute_result",
          "data": {
            "text/plain": [
              "False"
            ]
          },
          "metadata": {
            "tags": []
          },
          "execution_count": 53
        }
      ]
    },
    {
      "cell_type": "code",
      "metadata": {
        "id": "06P64lU9z5BX",
        "colab_type": "code",
        "colab": {},
        "outputId": "f70861c0-84ee-4776-abd4-844e2ff50cdb"
      },
      "source": [
        "(True or False) and False"
      ],
      "execution_count": null,
      "outputs": [
        {
          "output_type": "execute_result",
          "data": {
            "text/plain": [
              "False"
            ]
          },
          "metadata": {
            "tags": []
          },
          "execution_count": 57
        }
      ]
    },
    {
      "cell_type": "code",
      "metadata": {
        "id": "J7Ji7Is_z5BZ",
        "colab_type": "code",
        "colab": {},
        "outputId": "469ffb30-de20-4158-a2ab-fce1d6433503"
      },
      "source": [
        "print((not(2!=3) and True) or (False and True))"
      ],
      "execution_count": null,
      "outputs": [
        {
          "output_type": "stream",
          "text": [
            "False\n"
          ],
          "name": "stdout"
        }
      ]
    },
    {
      "cell_type": "code",
      "metadata": {
        "id": "xTr7rpOpz5Bd",
        "colab_type": "code",
        "colab": {},
        "outputId": "c1394064-48c0-4bcc-b5aa-a59db9c005c7"
      },
      "source": [
        "print(round(4.556))"
      ],
      "execution_count": null,
      "outputs": [
        {
          "output_type": "stream",
          "text": [
            "5\n"
          ],
          "name": "stdout"
        }
      ]
    },
    {
      "cell_type": "code",
      "metadata": {
        "id": "S6cv7dTvz5Bf",
        "colab_type": "code",
        "colab": {},
        "outputId": "db0ebffd-ede6-47de-eba2-bc16d1ca3e2d"
      },
      "source": [
        "print(round(4.345))"
      ],
      "execution_count": null,
      "outputs": [
        {
          "output_type": "stream",
          "text": [
            "4\n"
          ],
          "name": "stdout"
        }
      ]
    },
    {
      "cell_type": "code",
      "metadata": {
        "id": "29Gl9ImUz5Bj",
        "colab_type": "code",
        "colab": {},
        "outputId": "c6481c96-ba22-455a-bb19-571ef1a2cd0c"
      },
      "source": [
        "print(round(4.556389,3))"
      ],
      "execution_count": null,
      "outputs": [
        {
          "output_type": "stream",
          "text": [
            "4.556\n"
          ],
          "name": "stdout"
        }
      ]
    },
    {
      "cell_type": "code",
      "metadata": {
        "id": "3-O9rcPfz5Bo",
        "colab_type": "code",
        "colab": {}
      },
      "source": [
        "B = divmod(27,5)"
      ],
      "execution_count": null,
      "outputs": []
    },
    {
      "cell_type": "code",
      "metadata": {
        "id": "QNFY3wI7z5Bq",
        "colab_type": "code",
        "colab": {},
        "outputId": "fd54f49a-996b-412a-f433-03673ee39a17"
      },
      "source": [
        "type(B)"
      ],
      "execution_count": null,
      "outputs": [
        {
          "output_type": "execute_result",
          "data": {
            "text/plain": [
              "tuple"
            ]
          },
          "metadata": {
            "tags": []
          },
          "execution_count": 67
        }
      ]
    },
    {
      "cell_type": "code",
      "metadata": {
        "id": "920qfMo0z5Bv",
        "colab_type": "code",
        "colab": {},
        "outputId": "4cefd3ad-bb96-4dd6-a8c2-6a7e24c892d2"
      },
      "source": [
        "print(B)"
      ],
      "execution_count": null,
      "outputs": [
        {
          "output_type": "stream",
          "text": [
            "(5, 2)\n"
          ],
          "name": "stdout"
        }
      ]
    },
    {
      "cell_type": "code",
      "metadata": {
        "id": "bLJDUQkjz5Bx",
        "colab_type": "code",
        "colab": {},
        "outputId": "c2acb331-4b41-451c-c2f0-e7535be2fa67"
      },
      "source": [
        "B[0]"
      ],
      "execution_count": null,
      "outputs": [
        {
          "output_type": "execute_result",
          "data": {
            "text/plain": [
              "5"
            ]
          },
          "metadata": {
            "tags": []
          },
          "execution_count": 69
        }
      ]
    },
    {
      "cell_type": "code",
      "metadata": {
        "id": "cTjFkki_z5By",
        "colab_type": "code",
        "colab": {},
        "outputId": "c67136e5-0750-4db7-8a23-e0cd51f591e2"
      },
      "source": [
        "B[1]"
      ],
      "execution_count": null,
      "outputs": [
        {
          "output_type": "execute_result",
          "data": {
            "text/plain": [
              "2"
            ]
          },
          "metadata": {
            "tags": []
          },
          "execution_count": 70
        }
      ]
    },
    {
      "cell_type": "code",
      "metadata": {
        "id": "pZ1VzICGz5B1",
        "colab_type": "code",
        "colab": {},
        "outputId": "20506e3c-f062-4e08-f7f3-bac0d6dd9f2e"
      },
      "source": [
        "divmod(22,10)"
      ],
      "execution_count": null,
      "outputs": [
        {
          "output_type": "execute_result",
          "data": {
            "text/plain": [
              "(2, 2)"
            ]
          },
          "metadata": {
            "tags": []
          },
          "execution_count": 71
        }
      ]
    },
    {
      "cell_type": "code",
      "metadata": {
        "id": "qRS7F_V8z5B2",
        "colab_type": "code",
        "colab": {}
      },
      "source": [
        "G = divmod(34,9)"
      ],
      "execution_count": null,
      "outputs": []
    },
    {
      "cell_type": "code",
      "metadata": {
        "id": "xyZ45CHAz5B5",
        "colab_type": "code",
        "colab": {},
        "outputId": "f8651142-3374-4618-b1cb-ab29f1a85ef5"
      },
      "source": [
        "type(G)"
      ],
      "execution_count": null,
      "outputs": [
        {
          "output_type": "execute_result",
          "data": {
            "text/plain": [
              "tuple"
            ]
          },
          "metadata": {
            "tags": []
          },
          "execution_count": 74
        }
      ]
    },
    {
      "cell_type": "code",
      "metadata": {
        "id": "y_WxkRpMz5B6",
        "colab_type": "code",
        "colab": {},
        "outputId": "086ca190-96e4-4fc4-c305-019ba14cf315"
      },
      "source": [
        "print(G)"
      ],
      "execution_count": null,
      "outputs": [
        {
          "output_type": "stream",
          "text": [
            "(3, 7)\n"
          ],
          "name": "stdout"
        }
      ]
    },
    {
      "cell_type": "code",
      "metadata": {
        "id": "b9S_rOWfz5B-",
        "colab_type": "code",
        "colab": {},
        "outputId": "48f60b51-3934-472e-cfbd-a0b45f77e914"
      },
      "source": [
        "G[0]"
      ],
      "execution_count": null,
      "outputs": [
        {
          "output_type": "execute_result",
          "data": {
            "text/plain": [
              "3"
            ]
          },
          "metadata": {
            "tags": []
          },
          "execution_count": 76
        }
      ]
    },
    {
      "cell_type": "code",
      "metadata": {
        "id": "5FIvXXoZz5CB",
        "colab_type": "code",
        "colab": {},
        "outputId": "94e037e3-86c6-44b0-ad90-9c1c5e2bc373"
      },
      "source": [
        "G[1]"
      ],
      "execution_count": null,
      "outputs": [
        {
          "output_type": "execute_result",
          "data": {
            "text/plain": [
              "7"
            ]
          },
          "metadata": {
            "tags": []
          },
          "execution_count": 77
        }
      ]
    },
    {
      "cell_type": "code",
      "metadata": {
        "id": "Sa8522LOz5CF",
        "colab_type": "code",
        "colab": {},
        "outputId": "01278203-c85c-4c4d-ddc4-ef253e88dd95"
      },
      "source": [
        "34//9"
      ],
      "execution_count": null,
      "outputs": [
        {
          "output_type": "execute_result",
          "data": {
            "text/plain": [
              "3"
            ]
          },
          "metadata": {
            "tags": []
          },
          "execution_count": 78
        }
      ]
    },
    {
      "cell_type": "code",
      "metadata": {
        "id": "NtX8cvtxz5CH",
        "colab_type": "code",
        "colab": {},
        "outputId": "93652773-3f22-4e8a-b11d-01764267dfbd"
      },
      "source": [
        "34%9"
      ],
      "execution_count": null,
      "outputs": [
        {
          "output_type": "execute_result",
          "data": {
            "text/plain": [
              "7"
            ]
          },
          "metadata": {
            "tags": []
          },
          "execution_count": 79
        }
      ]
    },
    {
      "cell_type": "code",
      "metadata": {
        "id": "RU4s-XTjz5CJ",
        "colab_type": "code",
        "colab": {},
        "outputId": "e87f117d-80b7-4d69-abe4-19943b4cb727"
      },
      "source": [
        "isinstance(3,int)"
      ],
      "execution_count": null,
      "outputs": [
        {
          "output_type": "execute_result",
          "data": {
            "text/plain": [
              "True"
            ]
          },
          "metadata": {
            "tags": []
          },
          "execution_count": 80
        }
      ]
    },
    {
      "cell_type": "code",
      "metadata": {
        "id": "SW5Saiofz5CL",
        "colab_type": "code",
        "colab": {},
        "outputId": "c9df2ee7-bd61-46de-f837-11751dfcd6fd"
      },
      "source": [
        "isinstance(3.4,(float,int))"
      ],
      "execution_count": null,
      "outputs": [
        {
          "output_type": "execute_result",
          "data": {
            "text/plain": [
              "True"
            ]
          },
          "metadata": {
            "tags": []
          },
          "execution_count": 83
        }
      ]
    },
    {
      "cell_type": "code",
      "metadata": {
        "id": "Ud381tFQz5CN",
        "colab_type": "code",
        "colab": {},
        "outputId": "bf5becf7-611d-48f6-fc39-7893d0479aca"
      },
      "source": [
        "isinstance(2+3j,(int,float,str,complex))"
      ],
      "execution_count": null,
      "outputs": [
        {
          "output_type": "execute_result",
          "data": {
            "text/plain": [
              "True"
            ]
          },
          "metadata": {
            "tags": []
          },
          "execution_count": 86
        }
      ]
    },
    {
      "cell_type": "code",
      "metadata": {
        "id": "78WwvjYEz5CQ",
        "colab_type": "code",
        "colab": {},
        "outputId": "319d2fae-ddc3-46c9-cf1f-96fff57508cc"
      },
      "source": [
        "pow(2,4)"
      ],
      "execution_count": null,
      "outputs": [
        {
          "output_type": "execute_result",
          "data": {
            "text/plain": [
              "16"
            ]
          },
          "metadata": {
            "tags": []
          },
          "execution_count": 87
        }
      ]
    },
    {
      "cell_type": "code",
      "metadata": {
        "id": "xoXDvO-rz5CT",
        "colab_type": "code",
        "colab": {},
        "outputId": "0d27d94d-aea1-4cf9-943b-6d99b6a0a15c"
      },
      "source": [
        "2**4"
      ],
      "execution_count": null,
      "outputs": [
        {
          "output_type": "execute_result",
          "data": {
            "text/plain": [
              "16"
            ]
          },
          "metadata": {
            "tags": []
          },
          "execution_count": 88
        }
      ]
    },
    {
      "cell_type": "code",
      "metadata": {
        "id": "s3NHtRImz5CW",
        "colab_type": "code",
        "colab": {},
        "outputId": "01d1144d-326e-4bf2-c4eb-071d47b3071c"
      },
      "source": [
        "pow(2,4,7)"
      ],
      "execution_count": null,
      "outputs": [
        {
          "output_type": "execute_result",
          "data": {
            "text/plain": [
              "2"
            ]
          },
          "metadata": {
            "tags": []
          },
          "execution_count": 89
        }
      ]
    },
    {
      "cell_type": "code",
      "metadata": {
        "id": "mRKXLY40z5CZ",
        "colab_type": "code",
        "colab": {},
        "outputId": "caa2e884-91ff-4c15-ee79-45c7ac7f902d"
      },
      "source": [
        "x = input(\"Enter a number :\")"
      ],
      "execution_count": null,
      "outputs": [
        {
          "output_type": "stream",
          "text": [
            "Enter a number :56\n"
          ],
          "name": "stdout"
        }
      ]
    },
    {
      "cell_type": "code",
      "metadata": {
        "id": "J-bEFmSez5Ca",
        "colab_type": "code",
        "colab": {},
        "outputId": "fd14cc54-529e-433f-cab6-b439945f39e5"
      },
      "source": [
        "type(x)"
      ],
      "execution_count": null,
      "outputs": [
        {
          "output_type": "execute_result",
          "data": {
            "text/plain": [
              "str"
            ]
          },
          "metadata": {
            "tags": []
          },
          "execution_count": 91
        }
      ]
    },
    {
      "cell_type": "code",
      "metadata": {
        "id": "lu3lQEpcz5Cc",
        "colab_type": "code",
        "colab": {}
      },
      "source": [
        "x = int(x)"
      ],
      "execution_count": null,
      "outputs": []
    },
    {
      "cell_type": "code",
      "metadata": {
        "id": "1PF1GvS1z5Ce",
        "colab_type": "code",
        "colab": {},
        "outputId": "5fcc04a4-a622-47af-f616-5cf7e5998aa6"
      },
      "source": [
        "type(x)"
      ],
      "execution_count": null,
      "outputs": [
        {
          "output_type": "execute_result",
          "data": {
            "text/plain": [
              "int"
            ]
          },
          "metadata": {
            "tags": []
          },
          "execution_count": 93
        }
      ]
    },
    {
      "cell_type": "code",
      "metadata": {
        "id": "01kRFJlMz5Cj",
        "colab_type": "code",
        "colab": {},
        "outputId": "9229f9ff-baa6-4977-a9a0-2a8892ace1d5"
      },
      "source": [
        "print(x-34)"
      ],
      "execution_count": null,
      "outputs": [
        {
          "output_type": "stream",
          "text": [
            "22\n"
          ],
          "name": "stdout"
        }
      ]
    },
    {
      "cell_type": "code",
      "metadata": {
        "id": "_OAv8X18z5Cm",
        "colab_type": "code",
        "colab": {},
        "outputId": "020453af-48d5-438d-8ac4-abff06ffe67d"
      },
      "source": [
        "a = float(input(\"Enter a real number :\"))"
      ],
      "execution_count": null,
      "outputs": [
        {
          "output_type": "stream",
          "text": [
            "Enter a real number :12.5\n"
          ],
          "name": "stdout"
        }
      ]
    },
    {
      "cell_type": "code",
      "metadata": {
        "id": "Q30nl1i1z5Cp",
        "colab_type": "code",
        "colab": {},
        "outputId": "a72a28ed-2b63-4a27-b3db-ea76c9614067"
      },
      "source": [
        "type(a)"
      ],
      "execution_count": null,
      "outputs": [
        {
          "output_type": "execute_result",
          "data": {
            "text/plain": [
              "float"
            ]
          },
          "metadata": {
            "tags": []
          },
          "execution_count": 96
        }
      ]
    },
    {
      "cell_type": "code",
      "metadata": {
        "id": "UkokZU4Gz5Cs",
        "colab_type": "code",
        "colab": {},
        "outputId": "6ff77b9a-e455-40ef-dc5b-8ca9576101fc"
      },
      "source": [
        "b = float(input(\"Enter a real number : \"))"
      ],
      "execution_count": null,
      "outputs": [
        {
          "output_type": "stream",
          "text": [
            "Enter a real number : abc\n"
          ],
          "name": "stdout"
        },
        {
          "output_type": "error",
          "ename": "ValueError",
          "evalue": "could not convert string to float: 'abc'",
          "traceback": [
            "\u001b[1;31m---------------------------------------------------------------------------\u001b[0m",
            "\u001b[1;31mValueError\u001b[0m                                Traceback (most recent call last)",
            "\u001b[1;32m<ipython-input-97-5ddd2644c78a>\u001b[0m in \u001b[0;36m<module>\u001b[1;34m\u001b[0m\n\u001b[1;32m----> 1\u001b[1;33m \u001b[0mb\u001b[0m \u001b[1;33m=\u001b[0m \u001b[0mfloat\u001b[0m\u001b[1;33m(\u001b[0m\u001b[0minput\u001b[0m\u001b[1;33m(\u001b[0m\u001b[1;34m\"Enter a real number : \"\u001b[0m\u001b[1;33m)\u001b[0m\u001b[1;33m)\u001b[0m\u001b[1;33m\u001b[0m\u001b[1;33m\u001b[0m\u001b[0m\n\u001b[0m",
            "\u001b[1;31mValueError\u001b[0m: could not convert string to float: 'abc'"
          ]
        }
      ]
    },
    {
      "cell_type": "code",
      "metadata": {
        "id": "-oPBTASEz5Cv",
        "colab_type": "code",
        "colab": {},
        "outputId": "3d90729f-dcd2-4cc7-f458-2014b9c103c5"
      },
      "source": [
        "help(pow)"
      ],
      "execution_count": null,
      "outputs": [
        {
          "output_type": "stream",
          "text": [
            "Help on built-in function pow in module builtins:\n",
            "\n",
            "pow(x, y, z=None, /)\n",
            "    Equivalent to x**y (with two arguments) or x**y % z (with three arguments)\n",
            "    \n",
            "    Some types, such as ints, are able to use a more efficient algorithm when\n",
            "    invoked using the three argument form.\n",
            "\n"
          ],
          "name": "stdout"
        }
      ]
    },
    {
      "cell_type": "code",
      "metadata": {
        "id": "tGCOsQCCz5Cx",
        "colab_type": "code",
        "colab": {},
        "outputId": "53b094de-6c2b-4f5b-aeb1-28b9cdde11ab"
      },
      "source": [
        "help(input)"
      ],
      "execution_count": null,
      "outputs": [
        {
          "output_type": "stream",
          "text": [
            "Help on method raw_input in module ipykernel.kernelbase:\n",
            "\n",
            "raw_input(prompt='') method of ipykernel.ipkernel.IPythonKernel instance\n",
            "    Forward raw_input to frontends\n",
            "    \n",
            "    Raises\n",
            "    ------\n",
            "    StdinNotImplentedError if active frontend doesn't support stdin.\n",
            "\n"
          ],
          "name": "stdout"
        }
      ]
    },
    {
      "cell_type": "code",
      "metadata": {
        "id": "g1TKXBwez5Cy",
        "colab_type": "code",
        "colab": {},
        "outputId": "7a2e61f7-c57f-438a-a420-32aeb89f6d1d"
      },
      "source": [
        "a = int(input())\n",
        "b = int(input())\n",
        "if a>b:\n",
        "    print(a)\n",
        "    print(\"I am still inside if condition\")\n",
        "print(\"I am outside the if condition\")"
      ],
      "execution_count": null,
      "outputs": [
        {
          "output_type": "stream",
          "text": [
            "10\n",
            "45\n",
            "I am outside the if condition\n"
          ],
          "name": "stdout"
        }
      ]
    },
    {
      "cell_type": "code",
      "metadata": {
        "id": "4ukAA03sz5C1",
        "colab_type": "code",
        "colab": {},
        "outputId": "dd3456ab-e0e7-455e-cdd2-6298dff19fc6"
      },
      "source": [
        "a = int(input())\n",
        "b = int(input())\n",
        "if a>b:\n",
        "    print(a)\n",
        "if b>a:\n",
        "    print(b)"
      ],
      "execution_count": null,
      "outputs": [
        {
          "output_type": "stream",
          "text": [
            "22\n",
            "4\n",
            "22\n"
          ],
          "name": "stdout"
        }
      ]
    },
    {
      "cell_type": "code",
      "metadata": {
        "id": "U0X_0d-Kz5C3",
        "colab_type": "code",
        "colab": {},
        "outputId": "44ea7655-2117-4f26-8dcb-17dbe3806037"
      },
      "source": [
        "a = int(input())\n",
        "b = int(input())\n",
        "if a>b:\n",
        "    print(a)\n",
        "    print(\"if part\")\n",
        "else:\n",
        "    print(b)\n",
        "    print(\"else part\")"
      ],
      "execution_count": null,
      "outputs": [
        {
          "output_type": "stream",
          "text": [
            "10\n",
            "10\n",
            "10\n",
            "else part\n"
          ],
          "name": "stdout"
        }
      ]
    },
    {
      "cell_type": "code",
      "metadata": {
        "id": "gW2FIL6Vz5C5",
        "colab_type": "code",
        "colab": {},
        "outputId": "d48b199f-bc76-4279-e9a0-19fd4d5df77f"
      },
      "source": [
        "a = 10\n",
        "b = 10\n",
        "if a==b:\n",
        "    print(\"Equal\")\n",
        "elif a>b:\n",
        "    print(\"A\")\n",
        "else:\n",
        "    print(\"B\")\n",
        "print(\"Not in if\")"
      ],
      "execution_count": null,
      "outputs": [
        {
          "output_type": "stream",
          "text": [
            "Equal\n",
            "Not in if\n"
          ],
          "name": "stdout"
        }
      ]
    },
    {
      "cell_type": "code",
      "metadata": {
        "id": "iGL_TE37z5C8",
        "colab_type": "code",
        "colab": {},
        "outputId": "a33efebc-2149-4aaa-f02f-3fee587a94a3"
      },
      "source": [
        "a = int(input(\"Enter Marks :\"))\n",
        "if a >= 85:\n",
        "    print(\"A Grade\")\n",
        "elif (a < 85) and (a >= 80):\n",
        "    print(\"A- Grade\")\n",
        "elif a < 80 and a >= 75:\n",
        "    print(\"B Grade\")\n",
        "elif a < 75 and a >= 70:\n",
        "    print(\"B- Grade\")\n",
        "else:\n",
        "    print(\"Below Average\")"
      ],
      "execution_count": null,
      "outputs": [
        {
          "output_type": "stream",
          "text": [
            "Enter Marks :64\n",
            "Below Average\n"
          ],
          "name": "stdout"
        }
      ]
    },
    {
      "cell_type": "code",
      "metadata": {
        "id": "OCfyKoftz5C-",
        "colab_type": "code",
        "colab": {},
        "outputId": "9ff5a22f-43a6-40f9-b273-ff1db35296e0"
      },
      "source": [
        "a = 13\n",
        "if a>10:\n",
        "    print(\">10\")\n",
        "elif not(a>10):\n",
        "    print(\"Else part\")"
      ],
      "execution_count": null,
      "outputs": [
        {
          "output_type": "stream",
          "text": [
            ">10\n"
          ],
          "name": "stdout"
        }
      ]
    },
    {
      "cell_type": "code",
      "metadata": {
        "id": "FOdTVDgnz5DB",
        "colab_type": "code",
        "colab": {},
        "outputId": "01f4e085-8fc1-444b-9640-4b0e62614e70"
      },
      "source": [
        "a = int(input())\n",
        "if a>10:\n",
        "    print(\">10\")\n",
        "    print(\"Inside the top if\")\n",
        "    if a>20:\n",
        "        print(\">20\")\n",
        "        print(\"Inside the nested if\")\n",
        "        if a>30:\n",
        "            print(\">30\")\n",
        "            print(\"inside the nested if of nested if\")\n",
        "        else:\n",
        "            print(\"<=30\")\n",
        "            print(\"inside the else part of nested if of nested if\")\n",
        "    else:\n",
        "        print(\"<=20\")\n",
        "        print(\"Inside the else part of nested if\")\n",
        "print(\"Outside all ifs\")"
      ],
      "execution_count": null,
      "outputs": [
        {
          "output_type": "stream",
          "text": [
            "25\n",
            ">10\n",
            "Inside the top if\n",
            ">20\n",
            "Inside the nested if\n",
            "<=30\n",
            "inside the else part of nested if of nested if\n",
            "Outside all ifs\n"
          ],
          "name": "stdout"
        }
      ]
    },
    {
      "cell_type": "code",
      "metadata": {
        "id": "Q1tgIANcz5DC",
        "colab_type": "code",
        "colab": {},
        "outputId": "8fe6db8d-acff-4121-a374-7a02904becc5"
      },
      "source": [
        "# single line comment\n",
        "\"\"\" \n",
        "User will enter a floating point number let say 238.915. Your task\n",
        "is to find out the integer portion before the point (in this case 238)\n",
        "and then check if that integer portion is an even number or not?\n",
        "\"\"\"\n",
        "x = float(input(\"Enter a real number :\"))\n",
        "y = round(x)\n",
        "if x>0:    \n",
        "    if y>x:\n",
        "        intPortion = y-1 # 29.6\n",
        "    else:\n",
        "        intPortion = y\n",
        "else:\n",
        "    if y<x:\n",
        "        intPortion = y+1\n",
        "    else:\n",
        "        intPortion = y\n",
        "\n",
        "if intPortion%2 == 0:\n",
        "    print(\"Even\")\n",
        "else:\n",
        "    print(\"Odd\")"
      ],
      "execution_count": null,
      "outputs": [
        {
          "output_type": "stream",
          "text": [
            "Enter a real number :-87.3\n",
            "Odd\n"
          ],
          "name": "stdout"
        }
      ]
    },
    {
      "cell_type": "code",
      "metadata": {
        "id": "myJTamEVz5DE",
        "colab_type": "code",
        "colab": {},
        "outputId": "b21765b0-0139-4e45-bfea-104242b6d639"
      },
      "source": [
        "round(-9.3)"
      ],
      "execution_count": null,
      "outputs": [
        {
          "output_type": "execute_result",
          "data": {
            "text/plain": [
              "-9"
            ]
          },
          "metadata": {
            "tags": []
          },
          "execution_count": 125
        }
      ]
    },
    {
      "cell_type": "code",
      "metadata": {
        "id": "BqcM42m0z5DK",
        "colab_type": "code",
        "colab": {},
        "outputId": "dceff9af-c44b-4c72-de34-7f32fa91a067"
      },
      "source": [
        "round(-9.6)"
      ],
      "execution_count": null,
      "outputs": [
        {
          "output_type": "execute_result",
          "data": {
            "text/plain": [
              "-10"
            ]
          },
          "metadata": {
            "tags": []
          },
          "execution_count": 126
        }
      ]
    },
    {
      "cell_type": "code",
      "metadata": {
        "id": "y7On9Qpxz5DR",
        "colab_type": "code",
        "colab": {},
        "outputId": "04c6e26b-9804-41e2-cb0d-e88a123e6f42"
      },
      "source": [
        "n = int(input())\n",
        "i = 1\n",
        "while i < n:\n",
        "    print(i**2)\n",
        "    print(\"This is iteration number :\", i)\n",
        "    i+=1 # i = i+1\n",
        "print(\"Loop done\")\n",
        "    "
      ],
      "execution_count": null,
      "outputs": [
        {
          "output_type": "stream",
          "text": [
            "5\n",
            "1\n",
            "This is iteration number : 1\n",
            "4\n",
            "This is iteration number : 2\n",
            "9\n",
            "This is iteration number : 3\n",
            "16\n",
            "This is iteration number : 4\n",
            "Loop done\n"
          ],
          "name": "stdout"
        }
      ]
    },
    {
      "cell_type": "code",
      "metadata": {
        "id": "JJHfANKOz5DV",
        "colab_type": "code",
        "colab": {},
        "outputId": "7fa4e40b-8f49-4da4-ac19-fafb7020c9df"
      },
      "source": [
        "n = 10\n",
        "i = 1\n",
        "while True:\n",
        "    if i%9 == 0:\n",
        "        print(\"Inside if\")\n",
        "        break\n",
        "    else:\n",
        "        print(\"inside Else\")\n",
        "        i = i+1 # i+=1\n",
        "print(\"done\")"
      ],
      "execution_count": null,
      "outputs": [
        {
          "output_type": "stream",
          "text": [
            "inside Else\n",
            "inside Else\n",
            "inside Else\n",
            "inside Else\n",
            "inside Else\n",
            "inside Else\n",
            "inside Else\n",
            "inside Else\n",
            "Inside if\n",
            "done\n"
          ],
          "name": "stdout"
        }
      ]
    },
    {
      "cell_type": "code",
      "metadata": {
        "id": "gtz-a3fbz5DX",
        "colab_type": "code",
        "colab": {},
        "outputId": "db7d7980-7d95-4517-dfe4-bf31216660fd"
      },
      "source": [
        "n = 10\n",
        "i = 1\n",
        "while True:\n",
        "    if i%9 != 0:\n",
        "        print(\"inside if\")\n",
        "        i +=1\n",
        "        continue\n",
        "    print(\"something\")\n",
        "    print(\"somethingelse\")\n",
        "    break\n",
        "    \n",
        "print(\"done\")"
      ],
      "execution_count": null,
      "outputs": [
        {
          "output_type": "stream",
          "text": [
            "inside if\n",
            "inside if\n",
            "inside if\n",
            "inside if\n",
            "inside if\n",
            "inside if\n",
            "inside if\n",
            "inside if\n",
            "something\n",
            "somethingelse\n",
            "done\n"
          ],
          "name": "stdout"
        }
      ]
    },
    {
      "cell_type": "code",
      "metadata": {
        "id": "RyNKPkPKz5DZ",
        "colab_type": "code",
        "colab": {},
        "outputId": "cf6a7902-3735-45ff-b3d3-95645f7fff30"
      },
      "source": [
        "L = []\n",
        "for i in range(1,20,3):\n",
        "    print(i)\n",
        "    L.append(i**2)\n",
        "print(L)"
      ],
      "execution_count": null,
      "outputs": [
        {
          "output_type": "stream",
          "text": [
            "1\n",
            "4\n",
            "7\n",
            "10\n",
            "13\n",
            "16\n",
            "19\n",
            "[1, 16, 49, 100, 169, 256, 361]\n"
          ],
          "name": "stdout"
        }
      ]
    },
    {
      "cell_type": "code",
      "metadata": {
        "id": "v6QuoK-Bz5Da",
        "colab_type": "code",
        "colab": {},
        "outputId": "b10b27df-5284-4259-d10f-15a5f3d846b2"
      },
      "source": [
        "S = {\"apple\",4.9,\"cherry\"}\n",
        "i = 1\n",
        "for x in S:\n",
        "    print(x)\n",
        "    i+=1\n",
        "    if i==3:\n",
        "        break\n",
        "    else:\n",
        "        pass\n",
        "else:\n",
        "    print(\"Loop terminates with success\")\n",
        "print(\"Out side the loop\")"
      ],
      "execution_count": null,
      "outputs": [
        {
          "output_type": "stream",
          "text": [
            "apple\n",
            "4.9\n",
            "Out side the loop\n"
          ],
          "name": "stdout"
        }
      ]
    },
    {
      "cell_type": "code",
      "metadata": {
        "id": "DfJ0GjqAz5Db",
        "colab_type": "code",
        "colab": {},
        "outputId": "918e2d73-1b19-4bb8-bcb1-6a0399254eda"
      },
      "source": [
        "D = {\"A\":10,\"B\":-19,\"C\":\"abc\"}\n",
        "for x in D:\n",
        "    print(x,D[x])"
      ],
      "execution_count": null,
      "outputs": [
        {
          "output_type": "stream",
          "text": [
            "A 10\n",
            "B -19\n",
            "C abc\n"
          ],
          "name": "stdout"
        }
      ]
    },
    {
      "cell_type": "code",
      "metadata": {
        "id": "RbtnImV3z5Dd",
        "colab_type": "code",
        "colab": {},
        "outputId": "1fde6b65-52cd-4b27-db09-ac0bea454bf0"
      },
      "source": [
        "\"\"\" Given a list of numbers i.e. [1,2,4,-5,7,9,3,2], make another list\n",
        "that contains all the items in sorted order from min to max. i.e. your \n",
        "result will be another list like [-5,1,2,2,3,7,9]\n",
        "\"\"\"\n",
        "L = [1,2,4,-5,7,9,3,2]\n",
        "for j in range(len(L)):\n",
        "    m = L[j]\n",
        "    idx = j\n",
        "    c = j\n",
        "    for i in range(j,len(L)):\n",
        "        if L[i]<m:\n",
        "            m = L[i]\n",
        "            idx = c\n",
        "        c+=1    \n",
        "    tmp = L[j]\n",
        "    L[j] = m\n",
        "    L[idx] = tmp\n",
        "print(L)"
      ],
      "execution_count": null,
      "outputs": [
        {
          "output_type": "stream",
          "text": [
            "[-5, 1, 2, 2, 3, 4, 7, 9]\n"
          ],
          "name": "stdout"
        }
      ]
    },
    {
      "cell_type": "code",
      "metadata": {
        "id": "L-65bgHZz5De",
        "colab_type": "code",
        "colab": {},
        "outputId": "d5947ee6-9ba6-4f7d-e100-91b3021b69f0"
      },
      "source": [
        "L"
      ],
      "execution_count": null,
      "outputs": [
        {
          "output_type": "execute_result",
          "data": {
            "text/plain": [
              "[-5, 2, 4, 1, 7, 9, 3, 2]"
            ]
          },
          "metadata": {
            "tags": []
          },
          "execution_count": 147
        }
      ]
    },
    {
      "cell_type": "code",
      "metadata": {
        "id": "Dldhwhvjz5Df",
        "colab_type": "code",
        "colab": {}
      },
      "source": [
        "def printSuccess():\n",
        "    print(\"I am done\")\n",
        "    print(\"send me another task\")"
      ],
      "execution_count": null,
      "outputs": []
    },
    {
      "cell_type": "code",
      "metadata": {
        "id": "TqRqTQeGz5Dg",
        "colab_type": "code",
        "colab": {},
        "outputId": "57503d5b-b3f2-4e59-c691-5315847cfa22"
      },
      "source": [
        "printSuccess()"
      ],
      "execution_count": null,
      "outputs": [
        {
          "output_type": "stream",
          "text": [
            "I am done\n",
            "send me another task\n"
          ],
          "name": "stdout"
        }
      ]
    },
    {
      "cell_type": "code",
      "metadata": {
        "id": "ARZLjjjUz5Dj",
        "colab_type": "code",
        "colab": {},
        "outputId": "a17828ce-1dea-4460-9354-f7bf947af992"
      },
      "source": [
        "3+8"
      ],
      "execution_count": null,
      "outputs": [
        {
          "output_type": "execute_result",
          "data": {
            "text/plain": [
              "11"
            ]
          },
          "metadata": {
            "tags": []
          },
          "execution_count": 3
        }
      ]
    },
    {
      "cell_type": "code",
      "metadata": {
        "id": "2PRhS_6Yz5Dm",
        "colab_type": "code",
        "colab": {},
        "outputId": "6c91b1f2-06e7-4738-c80d-642473a071f0"
      },
      "source": [
        "printSuccess()"
      ],
      "execution_count": null,
      "outputs": [
        {
          "output_type": "stream",
          "text": [
            "I am done\n",
            "send me another task\n"
          ],
          "name": "stdout"
        }
      ]
    },
    {
      "cell_type": "code",
      "metadata": {
        "id": "sphMExfwz5Dn",
        "colab_type": "code",
        "colab": {}
      },
      "source": [
        "def printSuccess2():\n",
        "    \"\"\" This function is doing nothing except printing a message.\n",
        "    That message is \"hellow\"\n",
        "    \"\"\" \n",
        "    print(\"hellow\")"
      ],
      "execution_count": null,
      "outputs": []
    },
    {
      "cell_type": "code",
      "metadata": {
        "id": "yZMDwI5Bz5Do",
        "colab_type": "code",
        "colab": {},
        "outputId": "2d490543-6dec-4249-f388-902285ed3d5f"
      },
      "source": [
        "help(printSuccess2)"
      ],
      "execution_count": null,
      "outputs": [
        {
          "output_type": "stream",
          "text": [
            "Help on function printSuccess2 in module __main__:\n",
            "\n",
            "printSuccess2()\n",
            "    This function is doing nothing except printing a message.\n",
            "    That message is \"hellow\"\n",
            "\n"
          ],
          "name": "stdout"
        }
      ]
    },
    {
      "cell_type": "code",
      "metadata": {
        "id": "MJ7TC0JSz5Dp",
        "colab_type": "code",
        "colab": {},
        "outputId": "aabcd325-35ba-41ae-b0f0-b3b6ae958a77"
      },
      "source": [
        "printSuccess2()"
      ],
      "execution_count": null,
      "outputs": [
        {
          "output_type": "stream",
          "text": [
            "hellow\n"
          ],
          "name": "stdout"
        }
      ]
    },
    {
      "cell_type": "code",
      "metadata": {
        "id": "z38LtHP3z5Du",
        "colab_type": "code",
        "colab": {}
      },
      "source": [
        "def printMsg(msg):\n",
        "    \"\"\" The function prints the message supplied by the user\n",
        "    or prints that msg is not in the form of string\"\"\"\n",
        "    \n",
        "    if isinstance(msg,str):\n",
        "        print(msg)\n",
        "    else:\n",
        "        print(\"Your input argument is not a string\")\n",
        "        print(\"Here is the type of what you have supplied :\",type(msg))"
      ],
      "execution_count": null,
      "outputs": []
    },
    {
      "cell_type": "code",
      "metadata": {
        "id": "BY7aVyIVz5Dv",
        "colab_type": "code",
        "colab": {},
        "outputId": "9b14bb1d-396c-4220-a21e-9588bb268c26"
      },
      "source": [
        "help(printMsg)"
      ],
      "execution_count": null,
      "outputs": [
        {
          "output_type": "stream",
          "text": [
            "Help on function printMsg in module __main__:\n",
            "\n",
            "printMsg(msg)\n",
            "    The function prints the message supplied by the user\n",
            "    or prints that msg is not in the form of string\n",
            "\n"
          ],
          "name": "stdout"
        }
      ]
    },
    {
      "cell_type": "code",
      "metadata": {
        "id": "Pq_GZ6t4z5Dx",
        "colab_type": "code",
        "colab": {}
      },
      "source": [
        "printMsg?"
      ],
      "execution_count": null,
      "outputs": []
    },
    {
      "cell_type": "code",
      "metadata": {
        "id": "JkiV83_Cz5Dz",
        "colab_type": "code",
        "colab": {},
        "outputId": "038c6bda-6fcd-4fc3-934b-d342a60a3824"
      },
      "source": [
        "printMsg(\"This is the message\")"
      ],
      "execution_count": null,
      "outputs": [
        {
          "output_type": "stream",
          "text": [
            "This is the message\n"
          ],
          "name": "stdout"
        }
      ]
    },
    {
      "cell_type": "code",
      "metadata": {
        "id": "aHFJ56hWz5D1",
        "colab_type": "code",
        "colab": {},
        "outputId": "64112dc3-4074-4208-e35e-02f38b58d7ef"
      },
      "source": [
        "printMsg(23)"
      ],
      "execution_count": null,
      "outputs": [
        {
          "output_type": "stream",
          "text": [
            "Your input argument is not a string\n",
            "Here is the type of what you have supplied : <class 'int'>\n"
          ],
          "name": "stdout"
        }
      ]
    },
    {
      "cell_type": "code",
      "metadata": {
        "id": "KffEPheGz5D2",
        "colab_type": "code",
        "colab": {},
        "outputId": "b411d761-2db4-4708-e948-cb19492199d7"
      },
      "source": [
        "y = \"hellow there\"\n",
        "printMsg(y)"
      ],
      "execution_count": null,
      "outputs": [
        {
          "output_type": "stream",
          "text": [
            "hellow there\n"
          ],
          "name": "stdout"
        }
      ]
    },
    {
      "cell_type": "code",
      "metadata": {
        "id": "GhieKXppz5D3",
        "colab_type": "code",
        "colab": {}
      },
      "source": [
        "def mypow(a,b):\n",
        "    \"\"\" this function computes power just like builtin pow function\"\"\"\n",
        "    c = a**b\n",
        "    print(c)"
      ],
      "execution_count": null,
      "outputs": []
    },
    {
      "cell_type": "code",
      "metadata": {
        "id": "Kl5M9vaHz5D4",
        "colab_type": "code",
        "colab": {}
      },
      "source": [
        "mypow?"
      ],
      "execution_count": null,
      "outputs": []
    },
    {
      "cell_type": "code",
      "metadata": {
        "id": "UKh1FpeGz5D5",
        "colab_type": "code",
        "colab": {},
        "outputId": "1fe69700-1df4-4cd5-f4df-29ae41c42d04"
      },
      "source": [
        "mypow(3,4)"
      ],
      "execution_count": null,
      "outputs": [
        {
          "output_type": "stream",
          "text": [
            "81\n"
          ],
          "name": "stdout"
        }
      ]
    },
    {
      "cell_type": "code",
      "metadata": {
        "id": "f-aS0xBIz5D6",
        "colab_type": "code",
        "colab": {}
      },
      "source": [
        "def checkArgs(a,b,c):\n",
        "    if isinstance(a,(int,float)) and isinstance(b,(int,float)) and isinstance(c,(int,float)):\n",
        "        print((a+b+c)**2)\n",
        "    else:\n",
        "        print(\"Error: the input arguements are not of the expected types\")"
      ],
      "execution_count": null,
      "outputs": []
    },
    {
      "cell_type": "code",
      "metadata": {
        "id": "6RxSduemz5D7",
        "colab_type": "code",
        "colab": {},
        "outputId": "f0a37199-d8c3-4746-e721-752d1d82d9de"
      },
      "source": [
        "checkArgs(3,4,5)"
      ],
      "execution_count": null,
      "outputs": [
        {
          "output_type": "stream",
          "text": [
            "144\n"
          ],
          "name": "stdout"
        }
      ]
    },
    {
      "cell_type": "code",
      "metadata": {
        "id": "q_7_3KKHz5D8",
        "colab_type": "code",
        "colab": {},
        "outputId": "b17978fd-3008-489b-8ea9-a28e0df3b759"
      },
      "source": [
        "checkArgs(3,4,\"g\")"
      ],
      "execution_count": null,
      "outputs": [
        {
          "output_type": "stream",
          "text": [
            "Error: the input arguements are not of the expected types\n"
          ],
          "name": "stdout"
        }
      ]
    },
    {
      "cell_type": "code",
      "metadata": {
        "id": "XPT9Qf9_z5D9",
        "colab_type": "code",
        "colab": {},
        "outputId": "14b007d4-3493-468c-fbc6-53eba0962ce8"
      },
      "source": [
        "checkArgs(3,4)"
      ],
      "execution_count": null,
      "outputs": [
        {
          "output_type": "error",
          "ename": "TypeError",
          "evalue": "checkArgs() missing 1 required positional argument: 'c'",
          "traceback": [
            "\u001b[1;31m---------------------------------------------------------------------------\u001b[0m",
            "\u001b[1;31mTypeError\u001b[0m                                 Traceback (most recent call last)",
            "\u001b[1;32m<ipython-input-25-f6f193ef9e63>\u001b[0m in \u001b[0;36m<module>\u001b[1;34m\u001b[0m\n\u001b[1;32m----> 1\u001b[1;33m \u001b[0mcheckArgs\u001b[0m\u001b[1;33m(\u001b[0m\u001b[1;36m3\u001b[0m\u001b[1;33m,\u001b[0m\u001b[1;36m4\u001b[0m\u001b[1;33m)\u001b[0m\u001b[1;33m\u001b[0m\u001b[1;33m\u001b[0m\u001b[0m\n\u001b[0m",
            "\u001b[1;31mTypeError\u001b[0m: checkArgs() missing 1 required positional argument: 'c'"
          ]
        }
      ]
    },
    {
      "cell_type": "code",
      "metadata": {
        "id": "ektvYJybz5EF",
        "colab_type": "code",
        "colab": {},
        "outputId": "73d0c33f-60c9-4585-d4ae-11c3a57ec696"
      },
      "source": [
        "checkArgs(2,3,4,5)"
      ],
      "execution_count": null,
      "outputs": [
        {
          "output_type": "error",
          "ename": "TypeError",
          "evalue": "checkArgs() takes 3 positional arguments but 4 were given",
          "traceback": [
            "\u001b[1;31m---------------------------------------------------------------------------\u001b[0m",
            "\u001b[1;31mTypeError\u001b[0m                                 Traceback (most recent call last)",
            "\u001b[1;32m<ipython-input-26-182e860594b3>\u001b[0m in \u001b[0;36m<module>\u001b[1;34m\u001b[0m\n\u001b[1;32m----> 1\u001b[1;33m \u001b[0mcheckArgs\u001b[0m\u001b[1;33m(\u001b[0m\u001b[1;36m2\u001b[0m\u001b[1;33m,\u001b[0m\u001b[1;36m3\u001b[0m\u001b[1;33m,\u001b[0m\u001b[1;36m4\u001b[0m\u001b[1;33m,\u001b[0m\u001b[1;36m5\u001b[0m\u001b[1;33m)\u001b[0m\u001b[1;33m\u001b[0m\u001b[1;33m\u001b[0m\u001b[0m\n\u001b[0m",
            "\u001b[1;31mTypeError\u001b[0m: checkArgs() takes 3 positional arguments but 4 were given"
          ]
        }
      ]
    },
    {
      "cell_type": "code",
      "metadata": {
        "id": "6J7kx8Wlz5EG",
        "colab_type": "code",
        "colab": {}
      },
      "source": [
        "def f(a,b,c):\n",
        "    print(\"A is :\",a)\n",
        "    print(\"B is :\",b)\n",
        "    print(\"C is :\",c)"
      ],
      "execution_count": null,
      "outputs": []
    },
    {
      "cell_type": "code",
      "metadata": {
        "id": "trxI0avwz5EI",
        "colab_type": "code",
        "colab": {},
        "outputId": "cc1bd3e2-5c0c-49d8-fb92-985e48b6b624"
      },
      "source": [
        "#f(2,3,\"game\")\n",
        "f(3,\"game\",2)"
      ],
      "execution_count": null,
      "outputs": [
        {
          "output_type": "stream",
          "text": [
            "A is : 3\n",
            "B is : game\n",
            "C is : 2\n"
          ],
          "name": "stdout"
        }
      ]
    },
    {
      "cell_type": "code",
      "metadata": {
        "id": "YwgbXhcDz5EJ",
        "colab_type": "code",
        "colab": {},
        "outputId": "92b47ad3-f6e0-4cf8-f005-4e6a78e1616d"
      },
      "source": [
        "#f(a = 2,b=3,c=\"game\")\n",
        "f(c=\"game\",a=2,b=3)"
      ],
      "execution_count": null,
      "outputs": [
        {
          "output_type": "stream",
          "text": [
            "A is : 2\n",
            "B is : 3\n",
            "C is : game\n"
          ],
          "name": "stdout"
        }
      ]
    },
    {
      "cell_type": "code",
      "metadata": {
        "id": "RAlGHwb0z5EL",
        "colab_type": "code",
        "colab": {}
      },
      "source": [
        "def myadd(a,b):\n",
        "    sumValue = a+b\n",
        "    return sumValue"
      ],
      "execution_count": null,
      "outputs": []
    },
    {
      "cell_type": "code",
      "metadata": {
        "id": "mQ1nH-gXz5EN",
        "colab_type": "code",
        "colab": {},
        "outputId": "756f70bd-ffa2-4ce1-80c0-f671019e0fec"
      },
      "source": [
        "d = myadd(2,3)\n",
        "print(d)"
      ],
      "execution_count": null,
      "outputs": [
        {
          "output_type": "stream",
          "text": [
            "5\n"
          ],
          "name": "stdout"
        }
      ]
    },
    {
      "cell_type": "code",
      "metadata": {
        "id": "ZfxZit2az5EP",
        "colab_type": "code",
        "colab": {}
      },
      "source": [
        "variableOutSideTheFunction = 3"
      ],
      "execution_count": null,
      "outputs": []
    },
    {
      "cell_type": "code",
      "metadata": {
        "id": "N2_-bqxFz5ER",
        "colab_type": "code",
        "colab": {}
      },
      "source": [
        "def g():\n",
        "    variableOutSideTheFunction = 5\n",
        "    #print(variableOutSideTheFunction)"
      ],
      "execution_count": null,
      "outputs": []
    },
    {
      "cell_type": "code",
      "metadata": {
        "id": "iJUfzL0Ez5EV",
        "colab_type": "code",
        "colab": {},
        "outputId": "ab7cdedc-bf9d-47f8-e117-2eb0f19f4625"
      },
      "source": [
        "print(type(g()))"
      ],
      "execution_count": null,
      "outputs": [
        {
          "output_type": "stream",
          "text": [
            "<class 'NoneType'>\n"
          ],
          "name": "stdout"
        }
      ]
    },
    {
      "cell_type": "code",
      "metadata": {
        "id": "7BunUaecz5EY",
        "colab_type": "code",
        "colab": {},
        "outputId": "5ac9e6ec-085b-4e6e-db3c-90b51b567ac7"
      },
      "source": [
        "print(variableOutSideTheFunction)"
      ],
      "execution_count": null,
      "outputs": [
        {
          "output_type": "stream",
          "text": [
            "3\n"
          ],
          "name": "stdout"
        }
      ]
    },
    {
      "cell_type": "code",
      "metadata": {
        "id": "OfR9XYJkz5EZ",
        "colab_type": "code",
        "colab": {}
      },
      "source": [
        "def h():\n",
        "    print(\"A\")\n",
        "    a = 3\n",
        "    b = 5\n",
        "    c = a+b\n",
        "    print(\"something\")\n",
        "    return c\n",
        "    print(\"B\")\n",
        "    print(\"C\")"
      ],
      "execution_count": null,
      "outputs": []
    },
    {
      "cell_type": "code",
      "metadata": {
        "id": "VpFFANlUz5Ea",
        "colab_type": "code",
        "colab": {},
        "outputId": "59a8866e-c258-4b33-97c1-c89d0a8ce897"
      },
      "source": [
        "print(type(h()))"
      ],
      "execution_count": null,
      "outputs": [
        {
          "output_type": "stream",
          "text": [
            "A\n",
            "something\n",
            "<class 'int'>\n"
          ],
          "name": "stdout"
        }
      ]
    },
    {
      "cell_type": "code",
      "metadata": {
        "id": "65GIDoGvz5Ec",
        "colab_type": "code",
        "colab": {}
      },
      "source": [
        "def r():\n",
        "    a = 5\n",
        "    b = 7\n",
        "    d = \"something\"\n",
        "    return a,b,d"
      ],
      "execution_count": null,
      "outputs": []
    },
    {
      "cell_type": "code",
      "metadata": {
        "id": "qxIz5Ywdz5Ed",
        "colab_type": "code",
        "colab": {},
        "outputId": "d589ffc9-c30d-4442-d8c4-c3b365e26130"
      },
      "source": [
        "x,y,z = r()\n",
        "print(x,y,z)"
      ],
      "execution_count": null,
      "outputs": [
        {
          "output_type": "stream",
          "text": [
            "5 7 something\n"
          ],
          "name": "stdout"
        }
      ]
    },
    {
      "cell_type": "code",
      "metadata": {
        "id": "OnPGBdowz5Ee",
        "colab_type": "code",
        "colab": {}
      },
      "source": [
        "def myAddUniversal(*args):\n",
        "    s = 0\n",
        "    for i in range(len(args)):\n",
        "        s += args[i] # s = s+args[i]\n",
        "    return s"
      ],
      "execution_count": null,
      "outputs": []
    },
    {
      "cell_type": "code",
      "metadata": {
        "id": "14I7G6msz5Eg",
        "colab_type": "code",
        "colab": {},
        "outputId": "46e5adc9-6f38-4850-f209-404b282c1a8e"
      },
      "source": [
        "print(myAddUniversal(2,4,5,4.6,78))"
      ],
      "execution_count": null,
      "outputs": [
        {
          "output_type": "stream",
          "text": [
            "93.6\n"
          ],
          "name": "stdout"
        }
      ]
    },
    {
      "cell_type": "code",
      "metadata": {
        "id": "el4blqZBz5Ei",
        "colab_type": "code",
        "colab": {}
      },
      "source": [
        "def printAllVariableNamesAndValues(**args):\n",
        "    for x in args:\n",
        "        print(\"Variable Name is :\",x,\" And Value is :\",args[x])"
      ],
      "execution_count": null,
      "outputs": []
    },
    {
      "cell_type": "code",
      "metadata": {
        "id": "2S1fVt29z5Ek",
        "colab_type": "code",
        "colab": {},
        "outputId": "42cf59cf-8b90-413e-8387-453658be3433"
      },
      "source": [
        "printAllVariableNamesAndValues(a = 3,b=\"B\",c=\"CCC\",y=6.7)"
      ],
      "execution_count": null,
      "outputs": [
        {
          "output_type": "stream",
          "text": [
            "Variable Name is : a  And Value is : 3\n",
            "Variable Name is : b  And Value is : B\n",
            "Variable Name is : c  And Value is : CCC\n",
            "Variable Name is : y  And Value is : 6.7\n"
          ],
          "name": "stdout"
        }
      ]
    },
    {
      "cell_type": "code",
      "metadata": {
        "id": "uGSaYuGNz5Em",
        "colab_type": "code",
        "colab": {}
      },
      "source": [
        "def gg(s=4):\n",
        "    print(s)"
      ],
      "execution_count": null,
      "outputs": []
    },
    {
      "cell_type": "code",
      "metadata": {
        "id": "0u6f48nPz5Eo",
        "colab_type": "code",
        "colab": {},
        "outputId": "21c412c6-a70a-4c20-c918-1b43ec49c8eb"
      },
      "source": [
        "gg()"
      ],
      "execution_count": null,
      "outputs": [
        {
          "output_type": "stream",
          "text": [
            "4\n"
          ],
          "name": "stdout"
        }
      ]
    },
    {
      "cell_type": "code",
      "metadata": {
        "id": "wL0dyJy2z5Ep",
        "colab_type": "code",
        "colab": {},
        "outputId": "4972c202-b07c-466a-80e3-0d77ccf8ba62"
      },
      "source": [
        "gg(56)"
      ],
      "execution_count": null,
      "outputs": [
        {
          "output_type": "stream",
          "text": [
            "56\n"
          ],
          "name": "stdout"
        }
      ]
    },
    {
      "cell_type": "code",
      "metadata": {
        "id": "9VCy3ouHz5Er",
        "colab_type": "code",
        "colab": {},
        "outputId": "2ceb47d8-ce9a-4fb2-d027-7b8f73852aba"
      },
      "source": [
        "L = [1,2,3]\n",
        "L2 = L\n",
        "L2[0] = -9\n",
        "print(L)"
      ],
      "execution_count": null,
      "outputs": [
        {
          "output_type": "stream",
          "text": [
            "[-9, 2, 3]\n"
          ],
          "name": "stdout"
        }
      ]
    },
    {
      "cell_type": "code",
      "metadata": {
        "id": "2Q91aMvLz5Ew",
        "colab_type": "code",
        "colab": {}
      },
      "source": [
        "def ff(L=[1,2]):\n",
        "    for i in L:\n",
        "        print(i)"
      ],
      "execution_count": null,
      "outputs": []
    },
    {
      "cell_type": "code",
      "metadata": {
        "id": "EOxYb9Flz5Ey",
        "colab_type": "code",
        "colab": {},
        "outputId": "a441d0c4-ab28-4473-ee7e-f0cb327f7767"
      },
      "source": [
        "L2 = [12,3,4]\n",
        "ff()"
      ],
      "execution_count": null,
      "outputs": [
        {
          "output_type": "stream",
          "text": [
            "1\n",
            "2\n"
          ],
          "name": "stdout"
        }
      ]
    },
    {
      "cell_type": "code",
      "metadata": {
        "id": "y8jcAUgJz5E3",
        "colab_type": "code",
        "colab": {},
        "outputId": "de0b6f48-73ce-4dc9-82fd-61e070da5023"
      },
      "source": [
        "ff(L2)"
      ],
      "execution_count": null,
      "outputs": [
        {
          "output_type": "stream",
          "text": [
            "12\n",
            "3\n",
            "4\n"
          ],
          "name": "stdout"
        }
      ]
    },
    {
      "cell_type": "code",
      "metadata": {
        "id": "gRKBBgBVz5E6",
        "colab_type": "code",
        "colab": {},
        "outputId": "19920230-a8c2-4be0-8bfd-3bbe36ff13c2"
      },
      "source": [
        "ff()"
      ],
      "execution_count": null,
      "outputs": [
        {
          "output_type": "stream",
          "text": [
            "1\n",
            "2\n"
          ],
          "name": "stdout"
        }
      ]
    },
    {
      "cell_type": "code",
      "metadata": {
        "id": "sAn1SYwgz5E7",
        "colab_type": "code",
        "colab": {}
      },
      "source": [
        "import sys\n",
        "sys.path.append('C:/ABC/')"
      ],
      "execution_count": null,
      "outputs": []
    },
    {
      "cell_type": "code",
      "metadata": {
        "id": "knoZJDZmz5E8",
        "colab_type": "code",
        "colab": {}
      },
      "source": [
        "import my_universal_functions as myfs\n",
        "#from my_universal_functions import addAllNumerics"
      ],
      "execution_count": null,
      "outputs": []
    },
    {
      "cell_type": "code",
      "metadata": {
        "id": "jzNyCBmlz5E-",
        "colab_type": "code",
        "colab": {},
        "outputId": "9fd07cca-0296-4e4c-94ec-485610b18410"
      },
      "source": [
        "d = addAllNumerics(2,3,4,5,6,7)\n",
        "print(d)"
      ],
      "execution_count": null,
      "outputs": [
        {
          "output_type": "stream",
          "text": [
            "27\n"
          ],
          "name": "stdout"
        }
      ]
    },
    {
      "cell_type": "code",
      "metadata": {
        "id": "B8qY8Hesz5FC",
        "colab_type": "code",
        "colab": {}
      },
      "source": [
        "c = myfs.addAllNumerics(2,3,4,6)"
      ],
      "execution_count": null,
      "outputs": []
    },
    {
      "cell_type": "code",
      "metadata": {
        "id": "EITs0pL5z5FD",
        "colab_type": "code",
        "colab": {},
        "outputId": "983f4e7f-c251-4fcb-a312-d85f7d45d152"
      },
      "source": [
        "print(c)"
      ],
      "execution_count": null,
      "outputs": [
        {
          "output_type": "stream",
          "text": [
            "15\n"
          ],
          "name": "stdout"
        }
      ]
    },
    {
      "cell_type": "code",
      "metadata": {
        "id": "496cVpZ_z5FE",
        "colab_type": "code",
        "colab": {},
        "outputId": "f1136506-ebdb-45a7-bf4b-c87fc2c18fdf"
      },
      "source": [
        "myfs.myName"
      ],
      "execution_count": null,
      "outputs": [
        {
          "output_type": "execute_result",
          "data": {
            "text/plain": [
              "'Python Course'"
            ]
          },
          "metadata": {
            "tags": []
          },
          "execution_count": 78
        }
      ]
    },
    {
      "cell_type": "code",
      "metadata": {
        "id": "eJ8xNbWIz5FG",
        "colab_type": "code",
        "colab": {},
        "outputId": "46783be6-e4b7-45cf-c1aa-d677bf312936"
      },
      "source": [
        "\"\"\" Given a list of numbers i.e. [1,2,4,-5,7,9,3,2], make another list\n",
        "that contains all the items in sorted order from min to max. i.e. your \n",
        "result will be another list like [-5,1,2,2,3,7,9]\n",
        "\"\"\""
      ],
      "execution_count": null,
      "outputs": [
        {
          "output_type": "execute_result",
          "data": {
            "text/plain": [
              "' Given a list of numbers i.e. [1,2,4,-5,7,9,3,2], make another list\\nthat contains all the items in sorted order from min to max. i.e. your \\nresult will be another list like [-5,1,2,2,3,7,9]\\n'"
            ]
          },
          "metadata": {
            "tags": []
          },
          "execution_count": 79
        }
      ]
    },
    {
      "cell_type": "code",
      "metadata": {
        "id": "vhUe5ZEEz5FG",
        "colab_type": "code",
        "colab": {}
      },
      "source": [
        "def findMin(L,startIndx):\n",
        "    m = L[startIndx]\n",
        "    idx = startIndx    \n",
        "    for i in range(startIndx,len(L)):\n",
        "        x = L[i]\n",
        "        if x<m:\n",
        "            m = x\n",
        "            idx = i\n",
        "        else:\n",
        "            pass                \n",
        "    return m,idx"
      ],
      "execution_count": null,
      "outputs": []
    },
    {
      "cell_type": "code",
      "metadata": {
        "id": "hvG2Vdcjz5FH",
        "colab_type": "code",
        "colab": {}
      },
      "source": [
        "a,b = findMin([2,3,4,0,9])"
      ],
      "execution_count": null,
      "outputs": []
    },
    {
      "cell_type": "code",
      "metadata": {
        "id": "5tEWJk9_z5FI",
        "colab_type": "code",
        "colab": {},
        "outputId": "ee1a7bbd-d340-4813-879e-0b211c0248fb"
      },
      "source": [
        "print(a,b)"
      ],
      "execution_count": null,
      "outputs": [
        {
          "output_type": "stream",
          "text": [
            "0 3\n"
          ],
          "name": "stdout"
        }
      ]
    },
    {
      "cell_type": "code",
      "metadata": {
        "id": "Ruy0vgnIz5FK",
        "colab_type": "code",
        "colab": {}
      },
      "source": [
        "def swapValues(L,idx1,idx2):\n",
        "    tmp = L[idx1]\n",
        "    L[idx1] = L[idx2]\n",
        "    L[idx2] = tmp\n",
        "    return L"
      ],
      "execution_count": null,
      "outputs": []
    },
    {
      "cell_type": "code",
      "metadata": {
        "id": "7ELC0D41z5FL",
        "colab_type": "code",
        "colab": {},
        "outputId": "79b34914-ae7c-48f2-db22-a98657905dcb"
      },
      "source": [
        "L = [2,3,6,7]\n",
        "L2 = swapValues(L,1,3)\n",
        "print(L2)"
      ],
      "execution_count": null,
      "outputs": [
        {
          "output_type": "stream",
          "text": [
            "[2, 7, 6, 3]\n"
          ],
          "name": "stdout"
        }
      ]
    },
    {
      "cell_type": "code",
      "metadata": {
        "id": "vOsYZzm-z5FM",
        "colab_type": "code",
        "colab": {}
      },
      "source": [
        "from my_universal_functions import checkIfNotNumeric\n",
        "def sortList(L):\n",
        "    if not(checkIfNotNumeric2(L)):\n",
        "        print(\"Error: List does not contain numeric values\")\n",
        "        return\n",
        "    else:\n",
        "        c = 0\n",
        "        for x in L:\n",
        "            m,idx = findMin(L,c)\n",
        "            L = swapValues(L,c,idx)\n",
        "            c+=1\n",
        "    return L"
      ],
      "execution_count": null,
      "outputs": []
    },
    {
      "cell_type": "code",
      "metadata": {
        "id": "bS6jjWWkz5FN",
        "colab_type": "code",
        "colab": {},
        "outputId": "fc1953ad-5f63-45d5-a5c3-62c3d3fe2161"
      },
      "source": [
        "L2 = sortList([2,1,5,3,-8,17])\n",
        "print(L2)"
      ],
      "execution_count": null,
      "outputs": [
        {
          "output_type": "stream",
          "text": [
            "[-8, 1, 2, 3, 5, 17]\n"
          ],
          "name": "stdout"
        }
      ]
    },
    {
      "cell_type": "code",
      "metadata": {
        "id": "gZVnNiINz5FO",
        "colab_type": "code",
        "colab": {}
      },
      "source": [
        "checkIfNotNumeric??"
      ],
      "execution_count": null,
      "outputs": []
    },
    {
      "cell_type": "code",
      "metadata": {
        "id": "7DXE-68Gz5FP",
        "colab_type": "code",
        "colab": {},
        "outputId": "a85261dd-134f-4834-bde0-44122d368766"
      },
      "source": [
        "print(checkIfNotNumeric2([2,1,5,3,8,17]))"
      ],
      "execution_count": null,
      "outputs": [
        {
          "output_type": "stream",
          "text": [
            "True\n"
          ],
          "name": "stdout"
        }
      ]
    },
    {
      "cell_type": "code",
      "metadata": {
        "id": "E_wPeZNwz5FR",
        "colab_type": "code",
        "colab": {}
      },
      "source": [
        "def checkIfNotNumeric2(L):    \n",
        "    for x in L:\n",
        "        if not(isinstance(x,(int,float))):\n",
        "            return False\n",
        "    return True"
      ],
      "execution_count": null,
      "outputs": []
    },
    {
      "cell_type": "code",
      "metadata": {
        "id": "H5qxXTMez5FS",
        "colab_type": "code",
        "colab": {}
      },
      "source": [
        "s = \"Python is a good language\"\n",
        "t = 'Its good for data science'"
      ],
      "execution_count": null,
      "outputs": []
    },
    {
      "cell_type": "code",
      "metadata": {
        "id": "25ic4Btjz5FT",
        "colab_type": "code",
        "colab": {},
        "outputId": "fd2a01f4-ca7f-4794-c190-57d90877f276"
      },
      "source": [
        "type(s)"
      ],
      "execution_count": null,
      "outputs": [
        {
          "output_type": "execute_result",
          "data": {
            "text/plain": [
              "str"
            ]
          },
          "metadata": {
            "tags": []
          },
          "execution_count": 109
        }
      ]
    },
    {
      "cell_type": "code",
      "metadata": {
        "id": "hAyGY2xSz5FU",
        "colab_type": "code",
        "colab": {},
        "outputId": "f28f4a84-fee0-4bf1-f910-13bfed1f54ab"
      },
      "source": [
        "print(s)"
      ],
      "execution_count": null,
      "outputs": [
        {
          "output_type": "stream",
          "text": [
            "Python is a good language\n"
          ],
          "name": "stdout"
        }
      ]
    },
    {
      "cell_type": "code",
      "metadata": {
        "id": "BgJf5gZvz5FV",
        "colab_type": "code",
        "colab": {},
        "outputId": "fefa65a0-5def-4ee7-c636-2344fc6f6e52"
      },
      "source": [
        "print(\"hellow\",12,\"hellow2\",'who are you',5.9)"
      ],
      "execution_count": null,
      "outputs": [
        {
          "output_type": "stream",
          "text": [
            "hellow 12 hellow2 who are you 5.9\n"
          ],
          "name": "stdout"
        }
      ]
    },
    {
      "cell_type": "code",
      "metadata": {
        "id": "UJYWtnbzz5FZ",
        "colab_type": "code",
        "colab": {},
        "outputId": "45e3f259-3d58-438f-b1f2-fb620e6d1e08"
      },
      "source": [
        "v = s+\" \"+t\n",
        "print(v)"
      ],
      "execution_count": null,
      "outputs": [
        {
          "output_type": "stream",
          "text": [
            "Python is a good language Its good for data science\n"
          ],
          "name": "stdout"
        }
      ]
    },
    {
      "cell_type": "code",
      "metadata": {
        "id": "dG5RdP7Nz5Fa",
        "colab_type": "code",
        "colab": {},
        "outputId": "4fab3be7-d9a3-4243-eecf-d10844e6cd7a"
      },
      "source": [
        "price = 12\n",
        "s = \"The price of this book\"\n",
        "v = s + ' is: ' + str(price)\n",
        "print(v)\n",
        "print(s,\"is:\",price)"
      ],
      "execution_count": null,
      "outputs": [
        {
          "output_type": "stream",
          "text": [
            "The price of this book is: 12\n",
            "The price of this book is: 12\n"
          ],
          "name": "stdout"
        }
      ]
    },
    {
      "cell_type": "code",
      "metadata": {
        "id": "0HXlICo8z5Fb",
        "colab_type": "code",
        "colab": {},
        "outputId": "ef965195-afae-4608-d937-5c13b7666b29"
      },
      "source": [
        "a = \"\"\"this is line 1\n",
        "this is line 2\n",
        "this is last line and this line is 3\"\"\"\n",
        "print(a)"
      ],
      "execution_count": null,
      "outputs": [
        {
          "output_type": "stream",
          "text": [
            "this is line 1\n",
            "this is line 2\n",
            "this is last line and this line is 3\n"
          ],
          "name": "stdout"
        }
      ]
    },
    {
      "cell_type": "code",
      "metadata": {
        "id": "pHxXXnBaz5Fd",
        "colab_type": "code",
        "colab": {},
        "outputId": "9b0c3218-d709-498a-b9c7-84abca5bcc39"
      },
      "source": [
        "print(\"\"\" The following options are available:\n",
        "            -a       : does nothing\n",
        "            -b       : also does nothing\n",
        "\"\"\")"
      ],
      "execution_count": null,
      "outputs": [
        {
          "output_type": "stream",
          "text": [
            " The following options are available:\n",
            "            -a       : does nothing\n",
            "            -b       : also does nothing\n",
            "\n"
          ],
          "name": "stdout"
        }
      ]
    },
    {
      "cell_type": "code",
      "metadata": {
        "id": "0mOJDapDz5Fe",
        "colab_type": "code",
        "colab": {},
        "outputId": "a767bae2-ad5b-44d6-d6a4-6db22da47063"
      },
      "source": [
        "s = \"How are you and who are you\"\n",
        "print(s[5])"
      ],
      "execution_count": null,
      "outputs": [
        {
          "output_type": "stream",
          "text": [
            "r\n"
          ],
          "name": "stdout"
        }
      ]
    },
    {
      "cell_type": "code",
      "metadata": {
        "id": "JQpMxs4fz5Fj",
        "colab_type": "code",
        "colab": {},
        "outputId": "d832e4f8-a113-4b53-ab07-50490be7baa9"
      },
      "source": [
        "type(s[5])"
      ],
      "execution_count": null,
      "outputs": [
        {
          "output_type": "execute_result",
          "data": {
            "text/plain": [
              "str"
            ]
          },
          "metadata": {
            "tags": []
          },
          "execution_count": 122
        }
      ]
    },
    {
      "cell_type": "code",
      "metadata": {
        "id": "IJUAJW8az5Fl",
        "colab_type": "code",
        "colab": {},
        "outputId": "1cd5ced0-9e8a-4888-8811-571945d2bcb6"
      },
      "source": [
        "s[0:10]"
      ],
      "execution_count": null,
      "outputs": [
        {
          "output_type": "execute_result",
          "data": {
            "text/plain": [
              "'How are yo'"
            ]
          },
          "metadata": {
            "tags": []
          },
          "execution_count": 125
        }
      ]
    },
    {
      "cell_type": "code",
      "metadata": {
        "id": "EZvrO6v5z5Fp",
        "colab_type": "code",
        "colab": {},
        "outputId": "d8b48734-84ba-49d6-e590-c4e1f975c02c"
      },
      "source": [
        "s[-1]"
      ],
      "execution_count": null,
      "outputs": [
        {
          "output_type": "execute_result",
          "data": {
            "text/plain": [
              "'u'"
            ]
          },
          "metadata": {
            "tags": []
          },
          "execution_count": 126
        }
      ]
    },
    {
      "cell_type": "code",
      "metadata": {
        "id": "ND6m5UjYz5Fv",
        "colab_type": "code",
        "colab": {},
        "outputId": "0f5e3705-bf66-4c0e-b6bb-b091ffa73b3b"
      },
      "source": [
        "s[-3]"
      ],
      "execution_count": null,
      "outputs": [
        {
          "output_type": "execute_result",
          "data": {
            "text/plain": [
              "'y'"
            ]
          },
          "metadata": {
            "tags": []
          },
          "execution_count": 127
        }
      ]
    },
    {
      "cell_type": "code",
      "metadata": {
        "id": "KflX31fpz5Fy",
        "colab_type": "code",
        "colab": {},
        "outputId": "58ebe63f-9ea1-48ca-c849-8feeb654cdcc"
      },
      "source": [
        "s[-12:-3]"
      ],
      "execution_count": null,
      "outputs": [
        {
          "output_type": "execute_result",
          "data": {
            "text/plain": [
              "' who are '"
            ]
          },
          "metadata": {
            "tags": []
          },
          "execution_count": 129
        }
      ]
    },
    {
      "cell_type": "code",
      "metadata": {
        "id": "U6jvykzpz5F2",
        "colab_type": "code",
        "colab": {},
        "outputId": "31d14023-76e8-4646-81b1-5531fb90a072"
      },
      "source": [
        "s[1] = \"e\""
      ],
      "execution_count": null,
      "outputs": [
        {
          "output_type": "error",
          "ename": "TypeError",
          "evalue": "'str' object does not support item assignment",
          "traceback": [
            "\u001b[1;31m---------------------------------------------------------------------------\u001b[0m",
            "\u001b[1;31mTypeError\u001b[0m                                 Traceback (most recent call last)",
            "\u001b[1;32m<ipython-input-130-6ca1c1f7962b>\u001b[0m in \u001b[0;36m<module>\u001b[1;34m\u001b[0m\n\u001b[1;32m----> 1\u001b[1;33m \u001b[0ms\u001b[0m\u001b[1;33m[\u001b[0m\u001b[1;36m1\u001b[0m\u001b[1;33m]\u001b[0m \u001b[1;33m=\u001b[0m \u001b[1;34m\"e\"\u001b[0m\u001b[1;33m\u001b[0m\u001b[1;33m\u001b[0m\u001b[0m\n\u001b[0m",
            "\u001b[1;31mTypeError\u001b[0m: 'str' object does not support item assignment"
          ]
        }
      ]
    },
    {
      "cell_type": "code",
      "metadata": {
        "id": "xaIBwucHz5F7",
        "colab_type": "code",
        "colab": {},
        "outputId": "b61addbc-8332-4121-fd92-d95df82c3936"
      },
      "source": [
        "s[0:12:2]"
      ],
      "execution_count": null,
      "outputs": [
        {
          "output_type": "execute_result",
          "data": {
            "text/plain": [
              "'Hwaeyu'"
            ]
          },
          "metadata": {
            "tags": []
          },
          "execution_count": 131
        }
      ]
    },
    {
      "cell_type": "code",
      "metadata": {
        "id": "2KJhAkgCz5F8",
        "colab_type": "code",
        "colab": {},
        "outputId": "37890f74-3ba6-4e22-dbea-7200e2088794"
      },
      "source": [
        "s"
      ],
      "execution_count": null,
      "outputs": [
        {
          "output_type": "execute_result",
          "data": {
            "text/plain": [
              "'How are you and who are you'"
            ]
          },
          "metadata": {
            "tags": []
          },
          "execution_count": 132
        }
      ]
    },
    {
      "cell_type": "code",
      "metadata": {
        "id": "bFIp1eVlz5F_",
        "colab_type": "code",
        "colab": {},
        "outputId": "55b9690e-dbc3-465c-fe2d-55fc25ac54a0"
      },
      "source": [
        "#s[start:end:step]\n",
        "s[:12]"
      ],
      "execution_count": null,
      "outputs": [
        {
          "output_type": "execute_result",
          "data": {
            "text/plain": [
              "'How are you '"
            ]
          },
          "metadata": {
            "tags": []
          },
          "execution_count": 133
        }
      ]
    },
    {
      "cell_type": "code",
      "metadata": {
        "id": "YkKh2ShZz5GA",
        "colab_type": "code",
        "colab": {},
        "outputId": "8bec7ba0-9cdb-42a4-ff4e-de6f4d2f60c1"
      },
      "source": [
        "s[3:]"
      ],
      "execution_count": null,
      "outputs": [
        {
          "output_type": "execute_result",
          "data": {
            "text/plain": [
              "' are you and who are you'"
            ]
          },
          "metadata": {
            "tags": []
          },
          "execution_count": 134
        }
      ]
    },
    {
      "cell_type": "code",
      "metadata": {
        "id": "JcylQFRCz5GB",
        "colab_type": "code",
        "colab": {},
        "outputId": "258cfdb2-8550-4de4-c980-2affda12f687"
      },
      "source": [
        "s[1:12]"
      ],
      "execution_count": null,
      "outputs": [
        {
          "output_type": "execute_result",
          "data": {
            "text/plain": [
              "'ow are you '"
            ]
          },
          "metadata": {
            "tags": []
          },
          "execution_count": 135
        }
      ]
    },
    {
      "cell_type": "code",
      "metadata": {
        "id": "ng1-psVez5GC",
        "colab_type": "code",
        "colab": {},
        "outputId": "14d5cab7-4d9c-4685-82ec-27a61fd9d2dd"
      },
      "source": [
        "s[::-1]"
      ],
      "execution_count": null,
      "outputs": [
        {
          "output_type": "execute_result",
          "data": {
            "text/plain": [
              "'uoy era ohw dna uoy era woH'"
            ]
          },
          "metadata": {
            "tags": []
          },
          "execution_count": 136
        }
      ]
    },
    {
      "cell_type": "code",
      "metadata": {
        "id": "fEL-qZp1z5GD",
        "colab_type": "code",
        "colab": {},
        "outputId": "74f77033-264e-434b-eb59-19cd1b79bbe9"
      },
      "source": [
        "a = \"    abc def     hgq asdfaf     \"\n",
        "b = a.strip()\n",
        "print(b)"
      ],
      "execution_count": null,
      "outputs": [
        {
          "output_type": "stream",
          "text": [
            "abc def     hgq asdfaf\n"
          ],
          "name": "stdout"
        }
      ]
    },
    {
      "cell_type": "code",
      "metadata": {
        "id": "M3dMiRVlz5GG",
        "colab_type": "code",
        "colab": {},
        "outputId": "283f97cb-863d-47d6-abf6-cfc55eab2c32"
      },
      "source": [
        "a = \"ABC deFg ;; sadfa QF\"\n",
        "b = a.lower()\n",
        "print(b)"
      ],
      "execution_count": null,
      "outputs": [
        {
          "output_type": "stream",
          "text": [
            "abc defg ;; sadfa qf\n"
          ],
          "name": "stdout"
        }
      ]
    },
    {
      "cell_type": "code",
      "metadata": {
        "id": "OnB3uMH9z5GJ",
        "colab_type": "code",
        "colab": {},
        "outputId": "397a811f-0138-4165-8c97-b1627a0ab88a"
      },
      "source": [
        "c = a.upper()\n",
        "print(c)"
      ],
      "execution_count": null,
      "outputs": [
        {
          "output_type": "stream",
          "text": [
            "ABC DEFG ;; SADFA QF\n"
          ],
          "name": "stdout"
        }
      ]
    },
    {
      "cell_type": "code",
      "metadata": {
        "id": "DfpNtyrEz5GK",
        "colab_type": "code",
        "colab": {},
        "outputId": "f167663b-31fe-4865-9d60-5b0bf174e8ed"
      },
      "source": [
        "d = a.replace(\";\",\"*\")\n",
        "print(d)"
      ],
      "execution_count": null,
      "outputs": [
        {
          "output_type": "stream",
          "text": [
            "ABC deFg ** sadfa QF\n"
          ],
          "name": "stdout"
        }
      ]
    },
    {
      "cell_type": "code",
      "metadata": {
        "id": "u-LR8ralz5GL",
        "colab_type": "code",
        "colab": {},
        "outputId": "2405d1c2-21af-4216-d76b-9efd3a641da9"
      },
      "source": [
        "d = a.replace(\";\",\"**&&^^%%\")\n",
        "print(d)"
      ],
      "execution_count": null,
      "outputs": [
        {
          "output_type": "stream",
          "text": [
            "ABC deFg **&&^^%%**&&^^%% sadfa QF\n"
          ],
          "name": "stdout"
        }
      ]
    },
    {
      "cell_type": "code",
      "metadata": {
        "id": "EuqM6WHcz5GO",
        "colab_type": "code",
        "colab": {},
        "outputId": "a6daddb2-45ee-41c5-fb23-ddbcbbb3b242"
      },
      "source": [
        "d = a.replace(\";;\",\"two semi colons\")\n",
        "print(d)"
      ],
      "execution_count": null,
      "outputs": [
        {
          "output_type": "stream",
          "text": [
            "ABC deFg two semi colons sadfa QF\n"
          ],
          "name": "stdout"
        }
      ]
    },
    {
      "cell_type": "code",
      "metadata": {
        "id": "mQn5wx5hz5GQ",
        "colab_type": "code",
        "colab": {},
        "outputId": "1bb3cf2a-8dc9-4d32-9707-95deef7fcb12"
      },
      "source": [
        "a = \"abc;def;hgydfa;yy23\"\n",
        "L = a.split(\";\")\n",
        "print(L)"
      ],
      "execution_count": null,
      "outputs": [
        {
          "output_type": "stream",
          "text": [
            "['abc', 'def', 'hgydfa', 'yy23']\n"
          ],
          "name": "stdout"
        }
      ]
    },
    {
      "cell_type": "code",
      "metadata": {
        "id": "TaGN4DI7z5GS",
        "colab_type": "code",
        "colab": {},
        "outputId": "475166ce-6d06-4f2b-e9d2-bfbd7150d8cd"
      },
      "source": [
        "L[1]"
      ],
      "execution_count": null,
      "outputs": [
        {
          "output_type": "execute_result",
          "data": {
            "text/plain": [
              "'def'"
            ]
          },
          "metadata": {
            "tags": []
          },
          "execution_count": 144
        }
      ]
    },
    {
      "cell_type": "code",
      "metadata": {
        "id": "_HF3u2ZTz5GU",
        "colab_type": "code",
        "colab": {},
        "outputId": "f073c755-c3cd-425a-9a9d-8eb8afdda04d"
      },
      "source": [
        "print(a.capitalize())"
      ],
      "execution_count": null,
      "outputs": [
        {
          "output_type": "stream",
          "text": [
            "Abc;def;hgydfa;yy23\n"
          ],
          "name": "stdout"
        }
      ]
    },
    {
      "cell_type": "code",
      "metadata": {
        "id": "V3tU1C7Kz5GV",
        "colab_type": "code",
        "colab": {},
        "outputId": "8f03bfd1-2e0a-4e3c-d402-4f18c9680e18"
      },
      "source": [
        "\"abdAfadfGGQ\".capitalize()"
      ],
      "execution_count": null,
      "outputs": [
        {
          "output_type": "execute_result",
          "data": {
            "text/plain": [
              "'Abdafadfggq'"
            ]
          },
          "metadata": {
            "tags": []
          },
          "execution_count": 149
        }
      ]
    },
    {
      "cell_type": "code",
      "metadata": {
        "id": "o9BjHg46z5GW",
        "colab_type": "code",
        "colab": {},
        "outputId": "f3d558a1-6d1e-45be-f04b-c2b660d6de02"
      },
      "source": [
        "help(a.count)"
      ],
      "execution_count": null,
      "outputs": [
        {
          "output_type": "stream",
          "text": [
            "Help on built-in function count:\n",
            "\n",
            "count(...) method of builtins.str instance\n",
            "    S.count(sub[, start[, end]]) -> int\n",
            "    \n",
            "    Return the number of non-overlapping occurrences of substring sub in\n",
            "    string S[start:end].  Optional arguments start and end are\n",
            "    interpreted as in slice notation.\n",
            "\n"
          ],
          "name": "stdout"
        }
      ]
    },
    {
      "cell_type": "code",
      "metadata": {
        "id": "hliEH4e9z5GX",
        "colab_type": "code",
        "colab": {},
        "outputId": "61001ca0-5e5d-4a5b-f0bf-9a1481b19186"
      },
      "source": [
        "\"abc\" in \"asdfafdjabcl;jfdopasdfoajfd;la\""
      ],
      "execution_count": null,
      "outputs": [
        {
          "output_type": "execute_result",
          "data": {
            "text/plain": [
              "True"
            ]
          },
          "metadata": {
            "tags": []
          },
          "execution_count": 153
        }
      ]
    },
    {
      "cell_type": "code",
      "metadata": {
        "id": "9tdMNpNlz5GZ",
        "colab_type": "code",
        "colab": {},
        "outputId": "38d1c2ef-b66a-49dd-f6c5-16aac23978d5"
      },
      "source": [
        "\"abc\" == \"abc\""
      ],
      "execution_count": null,
      "outputs": [
        {
          "output_type": "execute_result",
          "data": {
            "text/plain": [
              "True"
            ]
          },
          "metadata": {
            "tags": []
          },
          "execution_count": 154
        }
      ]
    },
    {
      "cell_type": "code",
      "metadata": {
        "id": "tDwyIdMtz5Gb",
        "colab_type": "code",
        "colab": {},
        "outputId": "f4df8ed2-7c34-4d6d-f098-eccb44765cf7"
      },
      "source": [
        "\"abcdefghi\"<\"def\""
      ],
      "execution_count": null,
      "outputs": [
        {
          "output_type": "execute_result",
          "data": {
            "text/plain": [
              "True"
            ]
          },
          "metadata": {
            "tags": []
          },
          "execution_count": 156
        }
      ]
    },
    {
      "cell_type": "code",
      "metadata": {
        "id": "CE4oCtx4z5Gc",
        "colab_type": "code",
        "colab": {},
        "outputId": "19186d00-8867-4cd4-e27b-d464d1724a74"
      },
      "source": [
        "\"$%\"<\"*&\""
      ],
      "execution_count": null,
      "outputs": [
        {
          "output_type": "execute_result",
          "data": {
            "text/plain": [
              "True"
            ]
          },
          "metadata": {
            "tags": []
          },
          "execution_count": 157
        }
      ]
    },
    {
      "cell_type": "code",
      "metadata": {
        "id": "Z50P7Nbjz5Gd",
        "colab_type": "code",
        "colab": {},
        "outputId": "9f0bb347-103b-45c8-e5a3-e6e3daeb1a86"
      },
      "source": [
        "print(\"we are learning \"string\" here\")"
      ],
      "execution_count": null,
      "outputs": [
        {
          "output_type": "error",
          "ename": "SyntaxError",
          "evalue": "invalid syntax (<ipython-input-158-439afcb22d48>, line 1)",
          "traceback": [
            "\u001b[1;36m  File \u001b[1;32m\"<ipython-input-158-439afcb22d48>\"\u001b[1;36m, line \u001b[1;32m1\u001b[0m\n\u001b[1;33m    print(\"we are learning \"string\" here\")\u001b[0m\n\u001b[1;37m                                 ^\u001b[0m\n\u001b[1;31mSyntaxError\u001b[0m\u001b[1;31m:\u001b[0m invalid syntax\n"
          ]
        }
      ]
    },
    {
      "cell_type": "code",
      "metadata": {
        "id": "gfIRlAFFz5Gd",
        "colab_type": "code",
        "colab": {},
        "outputId": "ccc298ca-41d1-452b-89fe-4d4f3ca18a75"
      },
      "source": [
        "print(\"we are learning \\\"string\\\" here\")"
      ],
      "execution_count": null,
      "outputs": [
        {
          "output_type": "stream",
          "text": [
            "we are learning \"string\" here\n"
          ],
          "name": "stdout"
        }
      ]
    },
    {
      "cell_type": "code",
      "metadata": {
        "id": "EelKQ8OSz5Gf",
        "colab_type": "code",
        "colab": {},
        "outputId": "c11e256d-5fb4-479a-e4a7-cee8d9b9c217"
      },
      "source": [
        "print('we are learing \"string\" here')"
      ],
      "execution_count": null,
      "outputs": [
        {
          "output_type": "stream",
          "text": [
            "we are learing \"string\" here\n"
          ],
          "name": "stdout"
        }
      ]
    },
    {
      "cell_type": "code",
      "metadata": {
        "id": "suBIFCJ3z5Gg",
        "colab_type": "code",
        "colab": {},
        "outputId": "44b2609c-4be1-4645-91e4-568772c9f121"
      },
      "source": [
        "print(\"we are \\t now on another line\")"
      ],
      "execution_count": null,
      "outputs": [
        {
          "output_type": "stream",
          "text": [
            "we are \t now on another line\n"
          ],
          "name": "stdout"
        }
      ]
    },
    {
      "cell_type": "code",
      "metadata": {
        "id": "K-UnO5YOz5Gh",
        "colab_type": "code",
        "colab": {},
        "outputId": "8ad493fe-2fd0-4413-d83e-840465dcbdf0"
      },
      "source": [
        "print(\"c:\\name\\drive\")"
      ],
      "execution_count": null,
      "outputs": [
        {
          "output_type": "stream",
          "text": [
            "c:\n",
            "ame\\drive\n"
          ],
          "name": "stdout"
        }
      ]
    },
    {
      "cell_type": "code",
      "metadata": {
        "id": "WL-dkQKxz5Gi",
        "colab_type": "code",
        "colab": {},
        "outputId": "8f6a1a93-b970-49e0-e0d8-1b708020f9c3"
      },
      "source": [
        "print(r\"c:\\name\\drive\")"
      ],
      "execution_count": null,
      "outputs": [
        {
          "output_type": "stream",
          "text": [
            "c:\\name\\drive\n"
          ],
          "name": "stdout"
        }
      ]
    },
    {
      "cell_type": "code",
      "metadata": {
        "id": "RtUsnqpBz5Gi",
        "colab_type": "code",
        "colab": {}
      },
      "source": [
        ""
      ],
      "execution_count": null,
      "outputs": []
    }
  ]
}