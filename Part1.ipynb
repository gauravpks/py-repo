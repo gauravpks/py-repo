{
  "nbformat": 4,
  "nbformat_minor": 0,
  "metadata": {
    "kernelspec": {
      "display_name": "Python 3",
      "language": "python",
      "name": "python3"
    },
    "language_info": {
      "codemirror_mode": {
        "name": "ipython",
        "version": 3
      },
      "file_extension": ".py",
      "mimetype": "text/x-python",
      "name": "python",
      "nbconvert_exporter": "python",
      "pygments_lexer": "ipython3",
      "version": "3.7.3"
    },
    "colab": {
      "name": "MasteringPythonZeroToHero_part1.ipynb",
      "provenance": [],
      "toc_visible": true,
      "include_colab_link": true
    }
  },
  "cells": [
    {
      "cell_type": "markdown",
      "metadata": {
        "id": "view-in-github",
        "colab_type": "text"
      },
      "source": [
        "<a href=\"https://colab.research.google.com/github/gauravpks/py-repo/blob/master/Part1.ipynb\" target=\"_parent\"><img src=\"https://colab.research.google.com/assets/colab-badge.svg\" alt=\"Open In Colab\"/></a>"
      ]
    },
    {
      "cell_type": "markdown",
      "metadata": {
        "id": "QynetUdYveni",
        "colab_type": "text"
      },
      "source": [
        "Python-------- Gaurav Prakash"
      ]
    },
    {
      "cell_type": "markdown",
      "metadata": {
        "id": "cHct92OIz4-g",
        "colab_type": "text"
      },
      "source": [
        "# This is Python Tutorial"
      ]
    },
    {
      "cell_type": "markdown",
      "metadata": {
        "id": "unbO_8kJz4-i",
        "colab_type": "text"
      },
      "source": [
        "This is our first program in python: It is just started here"
      ]
    },
    {
      "cell_type": "code",
      "metadata": {
        "id": "-bE_JkeHz4-j",
        "colab_type": "code",
        "colab": {}
      },
      "source": [
        "print(\"Hellow World\")"
      ],
      "execution_count": null,
      "outputs": []
    },
    {
      "cell_type": "markdown",
      "metadata": {
        "id": "GVXClDTgwwa3",
        "colab_type": "text"
      },
      "source": [
        "*What is Python?*\n",
        "Python is a popular programming language. It was created by Guido van Rossum, and released in 1991.\n",
        "\n",
        "*It is used for:*\n",
        "*   web development (server-side),\n",
        "*   software development,\n",
        "*   mathematics,\n",
        "*   system scripting.\n",
        "\n",
        "*What can Python do?*\n",
        "* Python can be used on a server to create web applications.\n",
        "* Python can be used alongside software to create workflows.\n",
        "* Python can connect to database systems. It can also read and modify files.\n",
        "* Python can be used to handle big data and perform complex mathematics.\n",
        "* Python can be used for rapid prototyping, or for production-ready software development.\n",
        "\n",
        "*Why Python?*\n",
        "* Python works on different platforms (Windows, Mac, Linux, Raspberry Pi, etc).\n",
        "* Python has a simple syntax similar to the English language.\n",
        "* Python has syntax that allows developers to write programs with fewer lines than some other programming languages.\n",
        "* Python runs on an interpreter system, meaning that code can be executed as soon as it is written. This means that prototyping can be very quick.\n",
        "* Python can be treated in a procedural way, an * object-orientated way or a functional way.\n",
        "\n",
        "*Good to know*\n",
        "* The most recent major version of Python is Python 3, which we shall be using in this tutorial. However, Python 2, although not being updated with anything other than security updates, is still quite popular.\n",
        "* In this tutorial Python will be written in a text editor. It is possible to write Python in an Integrated Development Environment, such as Thonny, Pycharm, Netbeans or Eclipse which are particularly useful when managing larger collections of Python files.\n",
        "\n",
        "*Python Syntax compared to other programming languages*\n",
        "* Python was designed for readability, and has some similarities to the English language with influence from mathematics.\n",
        "* Python uses new lines to complete a command, as opposed to other programming languages which often use semicolons or parentheses.\n",
        "* Python relies on indentation, using whitespace, to define scope; such as the scope of loops, functions and classes. Other programming languages often use curly-brackets for this purpose."
      ]
    },
    {
      "cell_type": "markdown",
      "metadata": {
        "id": "MEfovoHwz4-q",
        "colab_type": "text"
      },
      "source": [
        "# Variables "
      ]
    },
    {
      "cell_type": "markdown",
      "metadata": {
        "id": "sEyJfPm_vv6p",
        "colab_type": "text"
      },
      "source": [
        "*What is a variable??*\n",
        "\n",
        "---\n",
        "\n",
        "\n",
        "Variables are the names you give to computer memory locations which are used to store values in a computer program\n",
        "\n",
        "**Creating Variables**\n",
        "\n",
        "*   Variables are containers for storing data values.\n",
        "*   Unlike other programming languages, Python has no command for declaring a variable.\n",
        "*   LA variable is created the moment you first assign a value to it.\n",
        "\n"
      ]
    },
    {
      "cell_type": "code",
      "metadata": {
        "id": "tlG1duhKz4-q",
        "colab_type": "code",
        "colab": {}
      },
      "source": [
        "x = 3\n",
        "print(x)"
      ],
      "execution_count": null,
      "outputs": []
    },
    {
      "cell_type": "code",
      "metadata": {
        "id": "ztHDO3yRz4-v",
        "colab_type": "code",
        "colab": {}
      },
      "source": [
        "#To check which all variables are available\n",
        "%whos"
      ],
      "execution_count": null,
      "outputs": []
    },
    {
      "cell_type": "code",
      "metadata": {
        "id": "6Z7E4KG7z4-y",
        "colab_type": "code",
        "colab": {}
      },
      "source": [
        "#Check type of data\n",
        "print(type(x))"
      ],
      "execution_count": null,
      "outputs": []
    },
    {
      "cell_type": "code",
      "metadata": {
        "id": "akL5MFRJz4-0",
        "colab_type": "code",
        "colab": {}
      },
      "source": [
        "x = 5.7"
      ],
      "execution_count": null,
      "outputs": []
    },
    {
      "cell_type": "code",
      "metadata": {
        "id": "4fxhcGAKz4-4",
        "colab_type": "code",
        "colab": {}
      },
      "source": [
        "%whos"
      ],
      "execution_count": null,
      "outputs": []
    },
    {
      "cell_type": "code",
      "metadata": {
        "id": "E3TPqu-3z4-7",
        "colab_type": "code",
        "colab": {}
      },
      "source": [
        "print(type(x))"
      ],
      "execution_count": null,
      "outputs": []
    },
    {
      "cell_type": "code",
      "metadata": {
        "id": "Lu_X22u7z4--",
        "colab_type": "code",
        "colab": {}
      },
      "source": [
        "abcd = 556.32"
      ],
      "execution_count": null,
      "outputs": []
    },
    {
      "cell_type": "code",
      "metadata": {
        "id": "cA3rn-y6z4_B",
        "colab_type": "code",
        "colab": {}
      },
      "source": [
        "%whos"
      ],
      "execution_count": null,
      "outputs": []
    },
    {
      "cell_type": "markdown",
      "metadata": {
        "id": "j7d2TicIziab",
        "colab_type": "text"
      },
      "source": [
        "Python allows you to assign values to multiple variables in one line:"
      ]
    },
    {
      "cell_type": "code",
      "metadata": {
        "id": "K0W3aZXaz4_D",
        "colab_type": "code",
        "colab": {}
      },
      "source": [
        "a,b,c,d,f = 3,5,6.0,7.2,-3"
      ],
      "execution_count": null,
      "outputs": []
    },
    {
      "cell_type": "markdown",
      "metadata": {
        "id": "pFAx6ZQUzpgR",
        "colab_type": "text"
      },
      "source": [
        "And you can assign the same value to multiple variables in one line:"
      ]
    },
    {
      "cell_type": "code",
      "metadata": {
        "id": "1fcE1Ie_zqeL",
        "colab_type": "code",
        "colab": {}
      },
      "source": [
        "x = y = z = \"Orange\"\n",
        "print(x)\n",
        "print(y)\n",
        "print(z)"
      ],
      "execution_count": null,
      "outputs": []
    },
    {
      "cell_type": "code",
      "metadata": {
        "id": "rJk5dEbgz4_G",
        "colab_type": "code",
        "colab": {}
      },
      "source": [
        "%whos"
      ],
      "execution_count": null,
      "outputs": []
    },
    {
      "cell_type": "code",
      "metadata": {
        "id": "x9v-qyfFz4_J",
        "colab_type": "code",
        "colab": {}
      },
      "source": [
        "del abcd"
      ],
      "execution_count": null,
      "outputs": []
    },
    {
      "cell_type": "code",
      "metadata": {
        "id": "D3W3yBMuz4_M",
        "colab_type": "code",
        "colab": {}
      },
      "source": [
        "%whos"
      ],
      "execution_count": null,
      "outputs": []
    },
    {
      "cell_type": "code",
      "metadata": {
        "id": "CctthPP1z4_O",
        "colab_type": "code",
        "colab": {}
      },
      "source": [
        "print(abcd)"
      ],
      "execution_count": null,
      "outputs": []
    },
    {
      "cell_type": "code",
      "metadata": {
        "id": "PDNaFWD-z4_R",
        "colab_type": "code",
        "colab": {}
      },
      "source": [
        "c = 2+4j"
      ],
      "execution_count": null,
      "outputs": []
    },
    {
      "cell_type": "code",
      "metadata": {
        "id": "DnY6qJrIz4_T",
        "colab_type": "code",
        "colab": {}
      },
      "source": [
        "print(type(c))"
      ],
      "execution_count": null,
      "outputs": []
    },
    {
      "cell_type": "markdown",
      "metadata": {
        "id": "wUXgjVkYyld6",
        "colab_type": "text"
      },
      "source": [
        "String variables can be declared either by using single or double quotes:"
      ]
    },
    {
      "cell_type": "code",
      "metadata": {
        "id": "m2p4mnygz4_W",
        "colab_type": "code",
        "colab": {}
      },
      "source": [
        "s = \"hello how are you\""
      ],
      "execution_count": null,
      "outputs": []
    },
    {
      "cell_type": "code",
      "metadata": {
        "id": "5fHXDpmGz4_b",
        "colab_type": "code",
        "colab": {}
      },
      "source": [
        "print(type(s))"
      ],
      "execution_count": null,
      "outputs": []
    },
    {
      "cell_type": "markdown",
      "metadata": {
        "id": "JT7F1081yf9z",
        "colab_type": "text"
      },
      "source": [
        "Variables do not need to be declared with any particular type and can even change type after they have been set"
      ]
    },
    {
      "cell_type": "code",
      "metadata": {
        "id": "lG8jZu6qyq3K",
        "colab_type": "code",
        "colab": {}
      },
      "source": [
        "x = 4 # x is of type int\n",
        "x = \"Sally\" # x is now of type str\n",
        "print(x)"
      ],
      "execution_count": null,
      "outputs": []
    },
    {
      "cell_type": "markdown",
      "metadata": {
        "id": "qmz2RCveyyPd",
        "colab_type": "text"
      },
      "source": [
        "*Variable Names*\n",
        "* A variable can have a short name (like x and y) or a more descriptive name (age, carname, total_volume). Rules for Python variables:\n",
        "* A variable name must start with a letter or the underscore character\n",
        "* A variable name cannot start with a number\n",
        "* A variable name can only contain alpha-numeric characters and underscores (A-z, 0-9, and _ )\n",
        "Variable names are case-sensitive (age, Age and AGE are three different variables)"
      ]
    },
    {
      "cell_type": "code",
      "metadata": {
        "id": "atz24olUzQE6",
        "colab_type": "code",
        "colab": {}
      },
      "source": [
        "#Legal variable names:\n",
        "myvar = \"John\"\n",
        "my_var = \"John\"\n",
        "_my_var = \"John\"\n",
        "myVar = \"John\"\n",
        "MYVAR = \"John\"\n",
        "myvar2 = \"John\"\n",
        "\n",
        "#Illegal variable names:\n",
        "2myvar = \"John\"\n",
        "my-var = \"John\"\n",
        "my var = \"John\"\n"
      ],
      "execution_count": null,
      "outputs": []
    },
    {
      "cell_type": "markdown",
      "metadata": {
        "id": "fmpFa_7qzye2",
        "colab_type": "text"
      },
      "source": [
        "Output Variables\n",
        "The Python print statement is often used to output variables.\n",
        "\n",
        "To combine both text and a variable, Python uses the + character:"
      ]
    },
    {
      "cell_type": "code",
      "metadata": {
        "id": "TihuNdcmz1aG",
        "colab_type": "code",
        "colab": {}
      },
      "source": [
        "x = \"awesome\"\n",
        "print(\"Python is \" + x)"
      ],
      "execution_count": null,
      "outputs": []
    },
    {
      "cell_type": "code",
      "metadata": {
        "id": "L4PFkIwKz5_f",
        "colab_type": "code",
        "colab": {}
      },
      "source": [
        "x = \"Python is \"\n",
        "y = \"awesome\"\n",
        "z =  x + y\n",
        "print(z)"
      ],
      "execution_count": null,
      "outputs": []
    },
    {
      "cell_type": "code",
      "metadata": {
        "id": "8HEqECKNz_Z1",
        "colab_type": "code",
        "colab": {}
      },
      "source": [
        "x = 5\n",
        "y = 10\n",
        "print(x + y)"
      ],
      "execution_count": null,
      "outputs": []
    },
    {
      "cell_type": "code",
      "metadata": {
        "id": "w0ZxeKQi0Bxr",
        "colab_type": "code",
        "colab": {}
      },
      "source": [
        "x = 5\n",
        "y = \"John\"\n",
        "print(x + y)"
      ],
      "execution_count": null,
      "outputs": []
    },
    {
      "cell_type": "markdown",
      "metadata": {
        "id": "ONLJqdWz04AQ",
        "colab_type": "text"
      },
      "source": [
        "#Numbers"
      ]
    },
    {
      "cell_type": "markdown",
      "metadata": {
        "id": "BYApakOS06j_",
        "colab_type": "text"
      },
      "source": [
        "There are three numeric types in Python:\n",
        "\n",
        "* int\n",
        "* float\n",
        "* complex\n"
      ]
    },
    {
      "cell_type": "markdown",
      "metadata": {
        "id": "IT4A0DJo1G6S",
        "colab_type": "text"
      },
      "source": [
        "Variables of numeric types are created when you assign a value to them:"
      ]
    },
    {
      "cell_type": "code",
      "metadata": {
        "id": "MByTfo0M1KxW",
        "colab_type": "code",
        "colab": {}
      },
      "source": [
        "x = 1    # int\n",
        "y = 2.8  # float\n",
        "z = 1j   # complex"
      ],
      "execution_count": null,
      "outputs": []
    },
    {
      "cell_type": "code",
      "metadata": {
        "id": "GfKV3c6E1Nnu",
        "colab_type": "code",
        "colab": {}
      },
      "source": [
        "print(type(x))\n",
        "print(type(y))\n",
        "print(type(z))"
      ],
      "execution_count": null,
      "outputs": []
    },
    {
      "cell_type": "markdown",
      "metadata": {
        "id": "m8ycdgE01XXm",
        "colab_type": "text"
      },
      "source": [
        "**Int**\n",
        "* Int, or integer, is a whole number, positive or negative, without decimals, of unlimited length."
      ]
    },
    {
      "cell_type": "code",
      "metadata": {
        "id": "KMqwDAaQ1dYB",
        "colab_type": "code",
        "colab": {}
      },
      "source": [
        "x = 1\n",
        "y = 35656222554887711\n",
        "z = -3255522\n",
        "\n",
        "print(type(x))\n",
        "print(type(y))\n",
        "print(type(z))"
      ],
      "execution_count": null,
      "outputs": []
    },
    {
      "cell_type": "markdown",
      "metadata": {
        "id": "sRDxQPXU1id0",
        "colab_type": "text"
      },
      "source": [
        "**Float**\n",
        "* Float, or \"floating point number\" is a number, positive or negative, containing one or more decimals."
      ]
    },
    {
      "cell_type": "code",
      "metadata": {
        "id": "73i2yTeP1lSn",
        "colab_type": "code",
        "colab": {}
      },
      "source": [
        "x = 1.10\n",
        "y = 1.0\n",
        "z = -35.59\n",
        "\n",
        "print(type(x))\n",
        "print(type(y))\n",
        "print(type(z))"
      ],
      "execution_count": null,
      "outputs": []
    },
    {
      "cell_type": "markdown",
      "metadata": {
        "id": "eCzfk0Uq1s41",
        "colab_type": "text"
      },
      "source": [
        "Float can also be scientific numbers with an \"e\" to indicate the power of 10."
      ]
    },
    {
      "cell_type": "code",
      "metadata": {
        "id": "KvbHtiLT1rfc",
        "colab_type": "code",
        "colab": {}
      },
      "source": [
        "x = 35e3\n",
        "y = 12E4\n",
        "z = -87.7e100\n",
        "\n",
        "print(type(x))\n",
        "print(type(y))\n",
        "print(type(z))"
      ],
      "execution_count": null,
      "outputs": []
    },
    {
      "cell_type": "markdown",
      "metadata": {
        "id": "Gw2dPRTq11vF",
        "colab_type": "text"
      },
      "source": [
        "**Complex**\n",
        "* Complex numbers are written with a \"j\" as the imaginary part:"
      ]
    },
    {
      "cell_type": "code",
      "metadata": {
        "id": "LMl4iikc10gw",
        "colab_type": "code",
        "colab": {}
      },
      "source": [
        "x = 3+5j\n",
        "y = 5j\n",
        "z = -5j\n",
        "\n",
        "print(type(x))\n",
        "print(type(y))\n",
        "print(type(z))"
      ],
      "execution_count": null,
      "outputs": []
    },
    {
      "cell_type": "markdown",
      "metadata": {
        "id": "_iSboNgv1-dy",
        "colab_type": "text"
      },
      "source": [
        "**Type Conversion**\n",
        "\n",
        "> You can convert from one type to another with the int(), float(), and complex() methods:\n",
        "\n"
      ]
    },
    {
      "cell_type": "code",
      "metadata": {
        "id": "1AUBChTI17Xz",
        "colab_type": "code",
        "colab": {}
      },
      "source": [
        "x = 1    # int\n",
        "y = 2.8  # float\n",
        "z = 1j   # complex\n",
        "\n",
        "#convert from int to float:\n",
        "a = float(x)\n",
        "\n",
        "#convert from float to int:\n",
        "b = int(y)\n",
        "\n",
        "#convert from int to complex:\n",
        "c = complex(x)\n",
        "\n",
        "print(a)\n",
        "print(b)\n",
        "print(c)\n",
        "\n",
        "print(type(a))\n",
        "print(type(b))\n",
        "print(type(c))"
      ],
      "execution_count": null,
      "outputs": []
    },
    {
      "cell_type": "markdown",
      "metadata": {
        "id": "it1zFk0h2Tj_",
        "colab_type": "text"
      },
      "source": [
        "**Random Number**\n",
        "* Python does not have a random() function to make a random number, but Python has a built-in module called random that can be used to make random numbers:"
      ]
    },
    {
      "cell_type": "code",
      "metadata": {
        "id": "bqMcdL812au5",
        "colab_type": "code",
        "colab": {}
      },
      "source": [
        "import random\n",
        "\n",
        "print(random.randrange(1, 10))"
      ],
      "execution_count": null,
      "outputs": []
    },
    {
      "cell_type": "markdown",
      "metadata": {
        "id": "-W5LshTl3Ki7",
        "colab_type": "text"
      },
      "source": [
        "#Casting"
      ]
    },
    {
      "cell_type": "markdown",
      "metadata": {
        "id": "KXSx-QXb3MmU",
        "colab_type": "text"
      },
      "source": [
        "**Specify a Variable Type**\n",
        "* There may be times when you want to specify a type on to a variable. This can be done with casting. Python is an object-orientated language, and as such it uses classes to define data types, including its primitive types.\n",
        "\n",
        "* Casting in python is therefore done using constructor functions:\n",
        "1. int() - constructs an integer number from an integer literal, a float literal (by rounding down to the previous whole number), or a string literal (providing the string represents a whole number)\n",
        "2. float() - constructs a float number from an integer literal, a float literal or a string literal (providing the string represents a float or an integer)\n",
        "3. str() - constructs a string from a wide variety of data types, including strings, integer literals and float literals"
      ]
    },
    {
      "cell_type": "code",
      "metadata": {
        "id": "kZcX08o73n_Z",
        "colab_type": "code",
        "colab": {}
      },
      "source": [
        "#Integer\n",
        "x = int(1)   # x will be 1\n",
        "y = int(2.8) # y will be 2\n",
        "z = int(\"3\") # z will be 3"
      ],
      "execution_count": null,
      "outputs": []
    },
    {
      "cell_type": "code",
      "metadata": {
        "id": "4d6s04_J3ptw",
        "colab_type": "code",
        "colab": {}
      },
      "source": [
        "#Floats\n",
        "x = float(1)     # x will be 1.0\n",
        "y = float(2.8)   # y will be 2.8\n",
        "z = float(\"3\")   # z will be 3.0\n",
        "w = float(\"4.2\") # w will be 4.2"
      ],
      "execution_count": null,
      "outputs": []
    },
    {
      "cell_type": "code",
      "metadata": {
        "id": "YzbHtxuT30v6",
        "colab_type": "code",
        "colab": {}
      },
      "source": [
        "#String\n",
        "x = str(\"s1\") # x will be 's1'\n",
        "y = str(2)    # y will be '2'\n",
        "z = str(3.0)  # z will be '3.0'"
      ],
      "execution_count": null,
      "outputs": []
    },
    {
      "cell_type": "markdown",
      "metadata": {
        "id": "05vutPvp4RjQ",
        "colab_type": "text"
      },
      "source": [
        "#Strings"
      ]
    },
    {
      "cell_type": "markdown",
      "metadata": {
        "id": "vYsW1-Xj4Uxm",
        "colab_type": "text"
      },
      "source": [
        "**String Literals**\n",
        "* String literals in python are surrounded by either single quotation marks, or double quotation marks.\n",
        "\n",
        "'hello' is the same as \"hello\".\n",
        "\n",
        "You can display a string literal with the print() function:"
      ]
    },
    {
      "cell_type": "code",
      "metadata": {
        "id": "OHR-SBo04cNz",
        "colab_type": "code",
        "colab": {}
      },
      "source": [
        "print(\"Hello\")\n",
        "print('Hello')"
      ],
      "execution_count": null,
      "outputs": []
    },
    {
      "cell_type": "markdown",
      "metadata": {
        "id": "25o6-NmV4iGJ",
        "colab_type": "text"
      },
      "source": [
        "**Assign String to a Variable**\n",
        "* Assigning a string to a variable is done with the variable name followed by an equal sign and the string:"
      ]
    },
    {
      "cell_type": "code",
      "metadata": {
        "id": "xG4GsPjs4hps",
        "colab_type": "code",
        "colab": {}
      },
      "source": [
        "a = \"Hello\"\n",
        "print(a)"
      ],
      "execution_count": null,
      "outputs": []
    },
    {
      "cell_type": "markdown",
      "metadata": {
        "id": "HFqWgMys4uSX",
        "colab_type": "text"
      },
      "source": [
        "Multiline Strings\n",
        "* You can assign a multiline string to a variable by using three quotes:"
      ]
    },
    {
      "cell_type": "code",
      "metadata": {
        "id": "O5R-eA0Q4tHj",
        "colab_type": "code",
        "colab": {}
      },
      "source": [
        "a = \"\"\"Lorem ipsum dolor sit amet,\n",
        "consectetur adipiscing elit,\n",
        "sed do eiusmod tempor incididunt\n",
        "ut labore et dolore magna aliqua.\"\"\"\n",
        "print(a)"
      ],
      "execution_count": null,
      "outputs": []
    },
    {
      "cell_type": "markdown",
      "metadata": {
        "id": "lTDIS_mL47wI",
        "colab_type": "text"
      },
      "source": [
        "Or three single quotes:"
      ]
    },
    {
      "cell_type": "code",
      "metadata": {
        "id": "jjuYFuLL46rQ",
        "colab_type": "code",
        "colab": {
          "base_uri": "https://localhost:8080/",
          "height": 85
        },
        "outputId": "4ebbc24b-6f7c-4dae-9f98-3b20f5e1c59c"
      },
      "source": [
        "a = '''Lorem ipsum dolor sit amet,\n",
        "consectetur adipiscing elit,\n",
        "sed do eiusmod tempor incididunt\n",
        "ut labore et dolore magna aliqua.'''\n",
        "print(a)"
      ],
      "execution_count": null,
      "outputs": [
        {
          "output_type": "stream",
          "text": [
            "Lorem ipsum dolor sit amet,\n",
            "consectetur adipiscing elit,\n",
            "sed do eiusmod tempor incididunt\n",
            "ut labore et dolore magna aliqua.\n"
          ],
          "name": "stdout"
        }
      ]
    },
    {
      "cell_type": "markdown",
      "metadata": {
        "id": "MLWcRJlT5N5j",
        "colab_type": "text"
      },
      "source": [
        "#Comments"
      ]
    },
    {
      "cell_type": "markdown",
      "metadata": {
        "id": "1H6GtF0_5QS0",
        "colab_type": "text"
      },
      "source": [
        "* Comments can be used to explain Python code.\n",
        "\n",
        "* Comments can be used to make the code more readable.\n",
        "\n",
        "* Comments can be used to prevent execution when testing code."
      ]
    },
    {
      "cell_type": "markdown",
      "metadata": {
        "id": "MMNEp3a95dJd",
        "colab_type": "text"
      },
      "source": [
        "Comments starts with a #, and Python will ignore them:"
      ]
    },
    {
      "cell_type": "code",
      "metadata": {
        "id": "jjYKF38c5ZSa",
        "colab_type": "code",
        "colab": {}
      },
      "source": [
        "#This is a comment\n",
        "print(\"Hello, World!\")"
      ],
      "execution_count": null,
      "outputs": []
    },
    {
      "cell_type": "code",
      "metadata": {
        "id": "bWGsyoom5jfW",
        "colab_type": "code",
        "colab": {}
      },
      "source": [
        "print(\"Hello, World!\") #This is a comment"
      ],
      "execution_count": null,
      "outputs": []
    },
    {
      "cell_type": "markdown",
      "metadata": {
        "id": "i2usAVz25mVL",
        "colab_type": "text"
      },
      "source": [
        "Multi Line Comments\n",
        "Python does not really have a syntax for multi line comments.\n",
        "\n",
        "To add a multiline comment you could insert a # for each line:"
      ]
    },
    {
      "cell_type": "code",
      "metadata": {
        "id": "gxuAzcNp5n9D",
        "colab_type": "code",
        "colab": {}
      },
      "source": [
        "#This is a comment\n",
        "#written in\n",
        "#more than just one line\n",
        "print(\"Hello, World!\")"
      ],
      "execution_count": null,
      "outputs": []
    },
    {
      "cell_type": "markdown",
      "metadata": {
        "id": "nL-qWJSS5tqk",
        "colab_type": "text"
      },
      "source": [
        "Or, not quite as intended, you can use a multiline string.\n",
        "\n",
        "Since Python will ignore string literals that are not assigned to a variable, you can add a multiline string (triple quotes) in your code, and place your comment inside it:"
      ]
    },
    {
      "cell_type": "code",
      "metadata": {
        "id": "LrpGyJkd50P-",
        "colab_type": "code",
        "colab": {}
      },
      "source": [
        "\"\"\"\n",
        "This is a comment\n",
        "written in\n",
        "more than just one line\n",
        "\"\"\"\n",
        "print(\"Hello, World!\")"
      ],
      "execution_count": null,
      "outputs": []
    },
    {
      "cell_type": "markdown",
      "metadata": {
        "id": "h_1qIy9Tz4_f",
        "colab_type": "text"
      },
      "source": [
        "# Operators"
      ]
    },
    {
      "cell_type": "markdown",
      "metadata": {
        "id": "DO9pke4zhNfY",
        "colab_type": "text"
      },
      "source": [
        "Operators are used to perform operations on variables and values.\n",
        "\n",
        "Python divides the operators in the following groups:\n",
        "\n",
        "1. Arithmetic operators\n",
        "2. Assignment operators\n",
        "3. Comparison operators\n",
        "4. Logical operators\n",
        "5. Identity operators\n",
        "6. Membership operators\n",
        "\n"
      ]
    },
    {
      "cell_type": "markdown",
      "metadata": {
        "id": "6fK4-W-DiRKk",
        "colab_type": "text"
      },
      "source": [
        "**Python Arithmetic Operators**\n",
        "* Arithmetic operators are used with numeric values to perform common mathematical operations:"
      ]
    },
    {
      "cell_type": "markdown",
      "metadata": {
        "id": "W_TP9Fdzhvuw",
        "colab_type": "text"
      },
      "source": [
        "![AO.PNG](data:image/png;base64,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)"
      ]
    },
    {
      "cell_type": "markdown",
      "metadata": {
        "id": "ik42ZoZeCekX",
        "colab_type": "text"
      },
      "source": [
        "Biwise Operator"
      ]
    },
    {
      "cell_type": "markdown",
      "metadata": {
        "id": "mV9cXZxrChuw",
        "colab_type": "text"
      },
      "source": [
        "![image.png](data:image/png;base64,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)"
      ]
    },
    {
      "cell_type": "code",
      "metadata": {
        "id": "-YhOvrdzA0AU",
        "colab_type": "code",
        "colab": {
          "base_uri": "https://localhost:8080/",
          "height": 34
        },
        "outputId": "9e713bfb-3fd1-4de6-8785-072fceea92cd"
      },
      "source": [
        "x = 15\n",
        "y = 2\n",
        "\n",
        "print(x // y)\n",
        "# the floor division // rounds the result down to the nearest whole number"
      ],
      "execution_count": null,
      "outputs": [
        {
          "output_type": "stream",
          "text": [
            "7\n"
          ],
          "name": "stdout"
        }
      ]
    },
    {
      "cell_type": "markdown",
      "metadata": {
        "id": "bnwaLL2YiXqI",
        "colab_type": "text"
      },
      "source": [
        "**Python Assignment Operators**\n",
        "* Assignment operators are used to assign values to variables:"
      ]
    },
    {
      "cell_type": "markdown",
      "metadata": {
        "id": "RZg4lgWgih0R",
        "colab_type": "text"
      },
      "source": [
        "![oo.PNG](data:image/png;base64,iVBORw0KGgoAAAANSUhEUgAAAmYAAAIdCAYAAACXybGIAAAAAXNSR0IArs4c6QAAAARnQU1BAACxjwv8YQUAAAAJcEhZcwAADsMAAA7DAcdvqGQAACv3SURBVHhe7dxNbttas0ZhjtAIDGQ0B+4EHobTdCbhtJ0hBDDgVhppZwDf5RXFf4qkSIoiS/azgAVElmRSkqv01t48J/nf//6XkiRJcn+T//u//0tJkiS5v4IZSZJkEAUzkiTJICYpAAAAQiCYAQAABEEwAwAACIJgBgAAEATBDAAAIAiCGQAAQBAEMwAAgCAIZgCwKq/pY5KkSea31+JnADCN4WD26zFvLC0fDy0HAJbz+q3bV9o+/ioeeLMIZrh1Gn/DLe/T5z/FQ26NP8/pfeO13P/4W9wRj55g9jd9/lqefCOINV5U5BfUpPoC+Pp8eFUAIlAHsxtu8qMIZrhd/v64L+qzMySVizU3+n3afF3RX8dJMKtP/rRpDn5gQRHMgHgIZkBQmqtKvd+bh7/tm/w+bS44lcbtP51g1mgofW9+80OrGk6zCT2fvPjTAHf+DWqHw/rx+Upd3/Nz62MtfUz3g+o02Gp715YusJRJwax1KUX/yn31897LLg52ethQX8ksdwHaU3W7zlvP/9E5ZutYI8Gs71yFN0ThbDBrMuV7NmPoezSzrLHGYw727crVfaN28gJR43U9/qj/3bv7N9BPJh9rBdrBrDd4NWm+eX1vaN1oe5tv9fsbP2u8CeULbzfH2sEt1J7fkTG4YtZ4ndXvbH5w1e9o/7HUths2gOlMXjE76UfNL4KxGmw8rlH77b5SHLvThPN+MOH5ZX/s7ZmdL6KC6nVXP+s/DrAfA2Fr6t9n73dx53v0pJYzi3o+8/zqZ33f4SPUPSc7znDdtR9Xk/28mS2uTTuYNZtUo6HUNN/g8sT7m9DpG9d4M1q/+/T5rcl0rHFX9J9D9SbPePPbPx94bQAWU9dZn+2a7F+lOt8X+npIf1850zsa5zPUlyb1jaq3tp87v9cBV6Y5bJx47u+0r576a6z3b78ncFX11foenzPUnB6/PnYzcM35nddl3RWz1nO6P28+d8CTN234j2CwuTfOYe4HenrcodcGYCl17U4LI91a751cB79M6mP095X+Gq+PeT6YTekb9WOGnPZeAFvS/3fbHp7Ofxf311hvPY0t6Ax5LkT1rcINZJ2h1zJlVW5NVr7GrPVxdX4+9LhThhrgkRnnUL3JghkQhrr5TQsj3WbZbZJ9v6+vh/T3lTO9Y/Vg1n4ucBs0A1LxNzz5u7i/xnprYiyYnQtgA3T7x6lzg+b16QSz8QZS39ecWgfCy9gb3Hkjukw7h+Z9Z5pr5wPta7oZpz8feG0AFlPX2Wl9d2nW++O36bXf1ycW9Y4JwWxS32hM7VtP38BkDn+nQ3+f3b/z6fU0vUZPc0PzuO26m0bj2IMLMWPXjw0//5qcBLPD6fYHqJ43LKfvTT//O5ofUPX44mdDDfDIjGXJwd/T91oaPzsbOgEsZnKjPQkzfX2l8bNG4+w7xvQvkubz6/7V+/zewHXud3Ze9/F3nHkvgC2o/p77/kbzv9/q77zxs/Hv4v566K2nvu/m5vP7FllGAlN9jJ7wdXKu2XE6r7v3fK5PTzAraLzptY2QVdF407r2vmHN5tq2fOMGA1VB880++vW+548h4/RY9YfTdx7d4/X/QQFYTh1Q+j3WaKv/DAx31c9Pe9D9oSfk/65rur+v9Nf4eDA7td30R/pGb189uOE0Dowx/Hd++v0/7bu4vx5663EkCA31jeHA1DfINWnen53DaR+p7yueshHDwWwyI00IAD4I/cEOANZFMAOACQhmALZAMAOACQhmALZghWAGAACANRDMAAAAgiCYAQAABEEwAwAACIJgBgAAEATBDAAAIAiCGQAAQBAEMwAAgCAIZgAAAEEQzAAAAIKQvL+/pyRJktzf5N+/fylJkiT3VzAjSZIMomBGkiQZRMGMJEkyiIIZSZJkEAUzkiTJIApmJEmSQRTMSJIkgyiYkSRJBlEwI0mSDKJgRpIkGUTBjCRJMoiCGUmSZBAFM5IkySAKZiQ/lz8f0iRJen342fN4ktupPgUzkp/MY+O/S59+99xHcl/Vp2BG8pOp8ZNxVZ+CGckNLbcp/ntp/fzt+93x55tsVWj8ZL/qM4Snwez3U3qXfTAj3n1/az+HJKdaNP+qyU9uxG/p05f+nlT55Sl9631uw/LLZ+7zyM+g+txdK2YkNzefwA/N/mc+CO57Ue9L+vAJmz85pPrcV8GM5A7W03WIFfjuKgH5qVWfe2ork+QONrY9OtezDLvSVkmfRd8TzMhM9bmnVsxIbm6+VfKQvhQNd/dhb/J1NOTHV33uq2BGcls7Tba6nmWTpptN9d1jFdewTF4ZID+w6nN3BTOS21lcK9KdwF/+y7c6ttiqKI/V1OUZ5EH1GULBjCRJMoiCGUmSZBAFM5IkySAKZiRJkkEUzEiSJIMomJEkSQZRMCNJkgyiYEaSJBlEwYwkSTKIghlJkmQQBTOSJMkgCmYkSZJBFMxIkiSDmLy/v6ckSZLc3yQFAABACAQzAACAIAhmAAAAQRDMAAAAgiCYAQAABEEwAwAACIJgBgAAEATBDAAAIAiCGQAAQBAEMwAAgCAIZgAAAEEQzAAAAIIgmAEAAARBMAMAAAiCYAYAY/x5Tu+TJE1aPqavxd0APg6v37q1nqT3P/4W926DYAYAI/z9cX/SmPPmLZwBH4vX9LFb18VgtmU4OxvMsqaUfH1Ot82LAHCGY8O8T5//FLe35NfjIZjtdGwAZzkOT9/WGJ3+ps9f1/pd0xDMAGzHMdCcNrljnzn8/PFX8YMp7BbMtm/UwCasWZ8LKI/Tv0I9r9ZXC2Y7DGErBLOiSWUf5pCCHYCSovlXTX5p45sQzPquF2k7Yzuy/NLaJQwCG7G4PtfJAnk4q4+X355/2cBlwazxWnYYwKyYAdicqvn+yq/fWDSJ771ipi/ig7JKfV5APlAdwtjSoe3Auitm274HJ8Es/0CKpDikhgTgIuqJdPJFtcVFuCf9qOVGQa04l62/sIBtWFCfq5JdhJ8ff2qNnV8dP7gwqB1/94a5x1YmgB1YYatg663MFvkXxz5fWsC1WVKfa2aBOpgtrbHVVswO5AtWS3vFfGxlAticqtEVK0+Lmu9uW5kHrJjhA7NKfV5AtUJ1wTbimsHsBlfMAGAGnetG8i+BBQFrk2CWrwK0vxiKaV5fxEdkrfpcSBUKi9v5qvf81apFwSx77Z26zs9n2yFMMAOwHcUE3J3A8+Y7s/lttGJWNuaWK03iQCjWrM8F9Iegcot0Xq0vCmaNLdTa7UJpydlgBgAAgG0QzAAAAIIgmAEAAARBMAMAAAiCYAYAABAEwQwAACAIghkAAEAQBDMAAIAgCGYAAABBEMwAAACCIJgBAAAEQTADAAAIgmAGAAAQhOT9/T0lSZLk/ib//v1LSZIkub+CGUmSZBAFM5IkySAKZiRJkkEUzEiSJIMomJEkSQZRMCNJkgyiYEaSJBlEwYwkSTKIghlJkmQQBTOSJMkgCmYkSZJBFMxIkiSDKJiRJEkGUTAjycKX/5I0SdrefX/rfSzJG/b3U3rXqfUkeUhf+h67sYIZSR59SR+6jblo3sIZ+bF8+353Utf5YLZ/OBPMSHLQt/Tpy6FZ//fScx/JD+XPh0Mwu0uffvfct6GCGcntPDa+06CTTa/Zzx9+Nh4bwSCNmtzEneuzPE7/Sta16zDOEDYvmJUf2ojhGivJWBZ9pOoVa4Sf3utF2k7fjiwadPY8K2X8bC6uz0bdDPnlKX3rfW5tHs7q4+W3r7i9WOWaOAOYFTOSm1s13595oAo70HW/pMhP4N71WV3rtcbQNtkiWE4Ij9e2E8x6Eq+JkeTq1r1m6kpWuc1Ru81FuscviQDNmtzO+fW5rtl/iJMff1oorB9fuui8i5X3vQcxW5kkd7AxBK4x/K26ldn26lspZDiX1GfPwk7XyQNOHbS2DYb5cfcJo7W2MklubhV2buB/R2HFjJ/NveuzqrmtLyW4yRUzkrzUznUj1fUse194m51XJ4CV26d2Avhp3Lk+q1BY3K6uN2s85nLz1b12XRerdAGGMMGM5HYWE3B3As+b794B6PQ6lRCBkdzKneuzfxAqt0jXrcXyWC2DXFMvmJEkSQZRMCNJkgyiYEaSJBlEwYwkSTKIghlJkmQQBTOSJMkgCmYkSZJBFMxIkiSDKJiRJEkGUTAjSZIMomBGkiQZRMGMJEkyiIIZSZJkEJP39/eUJEmS+5ukAAAACIFgBgAAEATBDAAAIAiCGQAAQBAEMwAAgCAIZgAAAEEQzAAAAIIgmAEAAARBMAMAAAiCYAYAABAEwQwAACAIghkAAEAQBDMAAIAgjAaz12/36fOf4gYAROHXY3r/429xAwBK/qbPXx/T1+LWLXISzF6/JVXDq4NZ9kKFNAA7cghjydfnQzfK/132qb8/7q8Q0rKel6RJ0vbxV3E3gEDk9ZrXZzOYvaaPyYSQlvWWTq1XvWYHelfMsnCWHF7M4yGYZWpIAEJQNNDHb4dglpk10G9XmI3/PKf33cZcHlsvBAJSDFOHUPaYecwx0xaUsszTruvyd+0Tzka2MrOkWa+eAUAUjsPj5k1TTwTCkw1VKwxQ2Up8tkC1x5boxBUz25gAVqDcMuiscuVNcEIz7Vkx2yoo7dmogU24tD4vpDxOt6bzTHIuh/StmC2t132HsInXmGUn2X5T8jdqTA0MQA/dLcHj7QnDX/a4nmvMmj3rSPnlMuL0L5i8QWfP2atJA5uytD7LYFTUS68TVrnzcFYfb9pAlB87P+fs38Xjj6tn07NIGQz3zi8jW5nNYAYA61E1318Ltx0awWwrul8YwEfl4vq8kHLX7nVyKGzSCGaLKQaya1y/OoHRYAYA16Germ9nJao4552aNbAde9dnvVK9dSisWBQK12FxMLOVCWA5deNfPegUWzFjLm32x76303+pBWzHkvpsPGfIybUT4BKClf4jgiVYMQOwOdV1I0Xzu41VMytm+BzsXZ/VAFQMWbusmt3iihkALKLT8CJeu3U8p04Ay3cJYp0nsDo712cVCovb1fVmxe31Of2PG8vVsr2GMMEMwHYUE3B3Ai8vjdjtepIuZWNu6fIMfHB2rs88lHWPU26RXi8clq+v6Z6r+IIZAABAEAQzAACAIAhmAAAAQRDMAAAAgiCYAQAABEEwAwAACIJgBgAAEATBDAAAIAiCGQAAQBAEMwAAgCAIZgAAAEEQzAAAAIIgmAEAAAQheX9/T0mSJLm/yb9//1KSJEnur2BGkiQZRMGMJEkyiIIZSZJkEAUzkiTJIApmJEmSQRTMSJIkgyiYkSRJBlEwI0mSDKJgRpIkGUTBjCRJMoiCGUmSZBAFM5IkySCOB7PfT+ldcpc+/e65jyR38y19+pKkd9/feu4j+an9+ZAmyUP60nffDTgazF7+S9Lkv5fe+0hyN6/UeI89L2kr/JG35MSh7bjw1K33GGFuJJi9pA+HE3342XcfSe7ndYbGrOd1GnPRvIUz8kacuNP39v3upK7zwWz/cDYczG58KZDkR3XLoTGfvu0ckLdhFriSL0/pW899Zz3mnv0v3xoMZllyNCWSXNVj4zsNOsdmOjVsZb9jaeOda5BGTW7iGvV5geVx+leyptRhPkgtO884Q9hAMMsm0p43ofzQRrT1SXLUoo9UvWJm+OkdGnuvF2k7fdAsGnT2PCtl/Gwurs9G3Qw5YaDKw1l9vPz2xN27Yx+YudNX5ZrpPeja9gaz4xux1URK8tNZNd+feaCaPNBNvH5kNbtfUuQncHF9rmR1rdeCoW35MFUEywDZpyeY5SdnG5Pk9ayn6zm9Zo+h8djsDar8VC6rz/XMryOdNxStcO1psfK+9yB2GszGlgKrJb9hTZYkz9vY9pg84ebP6e0xq25ltp21lUJ+CJfXZ7fuWk4ecOpgNrlus3xy8QCVH3fvhamTYHZsQq6rIHlFq7BTBKpJjXBsaLyiVsz42VxUnyta1dyMSwmy51x8nsXrDbZitsJSIEmO2bluJP8SOH8dyWXXj0ywZ+LOz01P5CdyYX2uZRUKi9vHuj83kB0D1Zxz7Ft9L1bpAgxh7WB2/EC2n0hJfhKLCbg72ebNdywAbTE01tsntdt9IZG7u7g+17F/ECq3SIdr8fi8mYGqPFbLILuFrWC2ylIgSa5tz2oWSY5ee3qj1sFs9lIgSW5h3ngNjSRP/IA7fScX/5MkSXIfBTOSJMkgCmYkSZJBFMxIkiSDKJiRJEkGUTAjSZIMomBGkiQZRMGMJEkyiIIZSZJkEAUzkiTJIApmJEmSQUze399TkiRJ7m+SAgAAIASCGQAAQBAEMwAAgCAIZgAAAEEQzAAAAIIgmAEAAARBMAMAAAiCYAYAABAEwQwAACAIghkAAEAQBDMAAIAgCGYAAABBEMwAAACCIJgBAAAEoSeYvaaPSZImhfc//hY/L/mbPn9N0sdfxU0A2IjXb3VvSr4+H7pRm78/7tPk22tx60r8eqzPYeRcAGzIn+f0vlGTpxklyzb36fOf4uYk8rzTqvXe370uJ8Hs2PjKxla80OZJHBufJgRga46B6PHQXjOKhtkMYcd+Nbfxzifrke3GXJyLvgjsRF6D1ULSsVe0e0Er20wl6yndui4Gs2uGs04w67y4k9v5atq10yIAdOkOhd3bixrvShzPpQqNALalm006t1cd2vLffbqbuB6zgtkm2wQAPi7lNmCnj+TBZnzoGw1mx8a7VzC6fqMGNuGC+lyD8jjdWsovYRgLVuPBLHv+WvWZn+N1e82MrczshU5JnHmYO364Q3aXBgF8HrpbAT3bDr0cH9e/lTmt8a7bm8ovEStl+FAsrc+V6iuvq/p404JQexGpdc6rDG150MtewxYD2OSL/49vThnYig8ud8oHBgA1VfP91Rz+zpNPzoW9q2X9/eu6FMfsrDIAt8rS+lyLvM4PNT05FB4oFpLK2i/PuTm05a+rfMyysFa9N1fMPT3BrI/malnehMoXfTxJK2AAZlFP15eGp2bjPTb01or/dRtoxZwvECA869XnMuoB66JQ2BzaOv2g1StmUbw3VxzEJgWzY/hqrZY1kmb3duMDHVSQAz45jT5xSYPrWS2rG3n39hV7UzGtX/QlAoRhSX2uWV91MLskGJ6sljWOf8mi0jHUXTHHTAhm2RvUmATPBjMAGCffDjj0jSLQLG2+zcZbNvPhYHZFrJjhA7FWfS6lCj7HulpYw62hbc1gVgTQPVfMTpf72s3uktQJ4BPSCTH5l8CCUNMzFLb61bExrx2WOoNqRvHldc1GDWzGWvW5kPx4dV0fa7pT5+fJw1MrUHb6wWm2OeV4Lp3H5Odz3fdjPJgNNbYixeZu94EBuHGK3tGdwPNmN2cy7mm8R/LBsexP15j0y3NtuvWKAnAVVqvPZeShrHuccot0RtboGdoyyt+fOyHslUNXy7khcT4TL/4HAADAtRHMAAAAgiCYAQAABEEwAwAACIJgBgAAEATBDAAAIAiCGQAAQBAEMwAAgCAIZgAAAEEQzAAAAIIgmAEAAARBMAMAAAiCYAYAABCE5P39PSVJkuT+Jv/+/UtJkiS5v4IZSZJkEAUzkiTJIApmJEmSQRTMSJIkgyiYkSRJBlEwI0mSDKJgRpIkGUTBjCRJMoiCGUmSZBAFM5IkySAKZiRJkkEUzEiSJIM4Hsx+P6V3yV369Lvnvp8PaZI8pC/dn5Pk1X1Ln74k6d33t9P7xvoWyY/vWD65gewyGsxe/kvS5L+XnvtGmiJJXtuR5jrcty4x73lJ0vbhZ99jSe7nWD6ZmF2O/aVT71+e0re+x17BkWD2kj4MNR4TKckdHQ5fI33rErOe123MRfMWzshAjuWTidkl6y/tui4Gs43C2XAwG5lI377fbZoeSbJ2JHxtuk2Rn4edAzKOY/nkkuxyfO5GvWUwmGWJcWwp0JRIcrblFkFntStvehP7SvY7BprrcN9a3y0bNbmJa9TnBZbH6dbwcYV80i7dWD65JLtsO4QNBLPsJMaWAk+bUf7GjamBkTxYNP+qQR5vT780Yjh8DfSt8stmxOnNOm/Q2XO2atLkpi6uz2K7r6iPXiesVuXhrD7erAFoIJ+cvW/AMihunV96g9nxZEYm0vUvrCX5maya78+sWc4IRiPXiIz1rWtYvYaJgZK8FRfX50rmCz2HMLRgaBvKJ5dll2Ig2yj79ASzPPUOT6Tbf0gkP5r1dD1n5Wk4fI31rWtZvAaDKj+cy+pzPeuV6bmr2f2PXyG7zAyJl3gazMaW+7ITG1tJK97IfrddCiQZ2brxTw82+XN6m+u5vnXSj9oubdjHvrfhKh25jcvrs1tbLSfXSh3MJgfDkXwyet9Ujz3mwnA30ZNgdpxIBz6IrAntk55JfiTzrZJDkCqa3aS+MhK+xvrW9Sy+iKyY8YO5qD5XtBp4iqFqShgayyerZJfjueyyYjay3Hf8gFxPQfJCOw0u/xI431uOzbo3BK2wTXHGvuB3PB89kR/NhfW5llUoLG7ndTawGl46lk9mZ5esn3QeXwTUrYawdjA7fiAjE6kle5KXWEzA3ek1b75j4WokfI30rdUsG3PLKx+T3NrF9bmOeSjrHqfcIh0OV2P5ZEl2KV9v0y1XDVvBLDuZ/oOPXNtBktc2+8IYaK7DfYvkx3csn9xmdqmD2dhy3xYTKUn2mjfX3vA1e5uC5IdyLJ/caHY5ufifJEmS+yiYkSRJBlEwI0mSDKJgRpIkGUTBjCRJMoiCGUmSZBAFM5IkySAKZiRJkkEUzEiSJIMomJEkSQZRMCNJkgxi8v7+npIkSXJ/kxQAAAAhEMwAAACCIJgBAAAEQTADAAAIgmAGAAAQBMEMAAAgCIIZAABAEAQzAACAIAhmAAAAQRDMAAAAgiCYAQAABEEwAwAACIJgBgAAEITRYPb67T59/lPcGOLPc3r/7bW4AQAb8Osxvf/xt7gxxN/0+etjqjsBn4mJdR84u5wEs9dvSdXw6mCWvdBGSMteUFK88OaLOzTLREgDcA2y/vL1+dCN8n+Xfervj/tGSMt6VZI+/ir/XTbo1/Sx7Flrkp1TkrQtzxHARkys+4uyS36Mbr3nx1yX3hWzLJwlh5N/PASzzN6DH1/gIcR9OzTIg4/ZSWpIAK5JEYQei76T9aDThlo00ENzfsw89rMJq/8LyHpluzeWx9YLgW2ZWPdLs0v2vO7jyn60cjgb2crMkma9ejZENq1mIe5c1gSAtTgOj+eaadGArzHRjqEnAjsyse7XqdNpOWkuE1fMJqZO25gAxii3/jq9Im+SE0JUz4rZaVPsm5y3CkrXadTAJlxanxdSHqdbP3kmObfqPbHuV8wu1xrCJl5jljWbxptyfGHFyWT/Ll7U8SSbL7B4A44f9IAaGPDJ6C7/H2+fa7oHsseVq2SHf9d9qtlH8uac/+7s340+1WqgRRPv9KOWM7Yjyy+U7QIgcCWW1udKNZXXUn28aeFnYt1PzS6j5MNX9nqulV9GtjKbwWyExosDgClUzfdX1igXTOKNYDZMo0FvRtG09UTcMBfX54WUu3avk0Nhk4l1v0J26YbItRgNZgBwHerp+sOtmi/6MgEisXd91qtSW4fCeRTv08qD2HWD2XHZMH9zh/xwTRnABOrGv8/qUuP4Q87YymxR9L3YXyjAGEvqc82auv524VocV/eW9ooBrJgB2JzqupEixHyoAc2KGW6cveuzCjvHWoo85NziihkAdOkEl2tdp3F9Ov9RVEa5S7DLKiCwAjvXZxUKi9vV9WbF7b04nlenrvNzW/+9EcwAbEcxAXcn8LzB3d72X3neTV2egZtl5/rMQ1n3OOUW6c7DW++lWdcJjIIZAABAEAQzAACAIAhmAAAAQRDMAAAAgiCYAQAABEEwAwAACIJgBgAAEATBDAAAIAiCGQAAQBAEMwAAgCAIZgAAAEEQzAAAAIIgmAEAAAQheX9/T0mSJLm/yb9//1KSJEnur2BGkiQZRMGMJEkyiIIZSZJkEAUzkiTJIApmJEmSQRTMSJIkgyiYkSRJBlEwI0mSDKJgRpIkGUTBjCRJMoiCGUmSZBAFM5IkySAKZiRJkkHsDWZv3+/SJEkqH36ePoYkN/f3U3rX6E3Jfy/9j1vJl/8axyq8+/7W+1iS+9qu17v06Xf/43rt9pajD+lL32Ov7Gkw+/nQekF5SNvn5Eiy9iV9ODTLKhgVjfR6g2N2vE7vK44pnJGx7GaVY0j78pS+NR4zZvb8bl3nQW/7/HMSzE5eTCeokeQunvSiTlDbxLf06cuhR155pY7kHE/rcpVFpZ3yz7QVsxmpkyQHPfaX02CTN9Fzq199K2YbN02DKj+yF9Xn5ZbH6V+5Gq+7bhA7PueiAWq/Iez8NWZVKMubYuuD6d2TbWvJn2TLovlXvWRO2Gn1nPo5J0141d5UNOjseTs0aXJTF9dno06GnLDIk+eP+njdwDVmHuAKy1qdO8CV4XTOc1b2NJgVDe3hZx7ERoMZSS6war4/y37T/7i29QTbnaAvn44n2v3SIj+gy+pzPfP6PoSxOUNb+djinBcHs8qi3+ywY9gJZvmJ1JNkI5wtfnEk2bWerqeuXB2/LBpNsg5n3b51XY/H3aFZk9s5vz7XtcgeB6eFws7CUblinoWzY2BbeK1ZtVDVc98VbQez3pOo36CTZlS++BH3+VBJxrZu/NNWuorHdx6bh7PMztB4xd40Z2uFvE3n1mdm4zlDTh5o6twxqU77VtaaPWDya+ian8fWOaY3mJ2eRPkmaUYkL7cKN4M9p2vR9HsaexnOtppqrZjxozu/Pte1qrGplw4MPa4MZ0vrtXj+vitmB/Mm106e2c/uvr8UaVg4I3mBnem2up7l3GUSRfNtfUlkPzs03Zfj71i5gRa/u9nQ83PdvlGTm7m0PleyCoXF7TyTnMsd5Wpd83H5z06vl++zfGzzZ1Oedx1PL/4/mL8RtfXJli9+uw+J5AeyL1wdLHvO2cBTPL+ysUVRhqb1pvt6O6VW7+MH9tL6vND+wWdq7igf11er53f9ymO3XLwFepm9wYwkSZLbK5iRJEkGUTAjSZIMomBGkiQZRMGMJEkyiIIZSZJkEAUzkiTJIApmJEmSQRTMSJIkgyiYkSRJBlEwI0mSDKJgRpIkGUTBjCRJMojJ+/t7SpIkyf1NUgAAAIRAMAMAAAiCYAYAABAEwQwAACAIghkAAEAQBDMAAIAgCGYAAABBEMwAAACCIJgBAAAEQTADAAAIgmAGAAAQBMEMAAAgCIIZAABAEPqD2a/HNEke09fiJgDE4DV9TJL08VdxEwAK/v64T5Ovz+nf4vatIpgBuCGuG8xevyWH3tf2/sett3ngczArmP15Tu87tR4l9whmAG6Iawaz7Hd3+l7RvIUzID5zgln22G5d54PZ/tlHMANwQ2y9lfk3ff56aNbfdEMgOhdvZR6zz336/Ke4vROCGYDtOPaW06BzbKiTAtfGwSxIowY24eL6vIzyOP0rWefr8LJgFmcImxfMyg9txO0mWQA3SdFHql4xK/wMBLPe60XaTt+OLBp09jwrZfhsLK7PRt0MOSE05eGsPl5+e9pC0aJgVuWaOAOYFTMAm1M13195oJo+0O2xYrbh8YAALK/Pdaiu9ZocCnMWBbOKIlheshW6EoIZgB2op+t5F9ZvfY1Z8SURoFkD27G0Ptcir/O5Q9FlwexAsfK+9yBmKxPADizdLtxiK7NNvnpgUMVnYkl9Np4z5OTQVAezOXV7cTArjrtPGK2xYgZgc6qwM/t/R2HFDLg2y+tzHaqaKxaDptb751wxA4BLOfaX7sW9U68juWIwy86r09Tzc9u/UQObcVF9Xk4VCovb1fVmxe0xpgezfHWvXdfFKl2AIUwwA7Adx95yOoHnzXdKALrmilnRmFtu94UE7M7F9XkZ/YNQuUV6vhanB7P6WC2D/FfYghmAG2L7rUwAt8GcYBYZwQzADSGYAehHMAOAzRHMAPTzsYMZAAAANkcwAwAACIJgBgAAEATBDAAAIAiCGQAAQBAEMwAAgCAIZgAAAEEQzAAAAIIgmAEAAARBMAMAAAhC8v7+npIkSXJ/k3///qUkSZLcX8GMJEkyiIIZSZJkEAUzkiTJIApmJEmSQRTMSJIkgyiYkSRJBlEwI0mSDKJgRpIkGUTBjCRJMoiCGUmSZBAFM5IkySAKZiRJkkEUzEiSJIN4Npi9/JekSfKQvvTcR5K7+fPh0JuS9OFnz31r+vspvTscJztWrZ5IxvUtffpyqNMvT+lb7/3D5pmn7d33t97HXsvRYHY8wcMLe/l+pxGRjOMxlN2lTz/z0HTNcPZ26H/dxmxgJaNahLL/XqoMMz2cvaQP3bouBrMtw9lgMMuaUbPxzH+BJHkFi0ZZhbEypP1uPOba7nFMkmdtZ5U6pPU9dppr/I559gez3qaz/cmR/GAW24/dPpIPglNWvrKJ9nR67Q6S11Uv5Af14vq8zPI4/SvU5weh/j7Q3zMmu8MQdhLM8hc2dBL5C2yvnBVNKvv5kFbaSJYWzX/2iteZLYW+5p3/bMwZYa780tq4SZOburQ+V8oC3QzSH7ZOzWt94HHldaKTh6nGa9lhADt78T9Jrm3VfDe4Rmx9i6Zt4OQHde/6rELW5FB4RbtBdQMFM5I7WE+kW15Uu5rd69zID+Xe9VnszgWpsWNQ3HAQWyGYrbN8SfIzuc1WwapbmS0vvG6FDO2S+lwzC9TBLEKNTd1OXUsrZiQ3t2p0O/yn6KtoxYwf2L3rs1qh2mEbsc8bXDEjyRl2rhuprmcJeUF9vgrQ/mLo+4+gyA/izvXZXZ2qrjdrPOZqZq+9U9f5+WwbDgUzkttZTMDdCbzccoy4AlU25pY7/Jda5NXduT77Q1C5RbpFOKy3UGu3HxoFM5IkySAKZiRJkkEUzEiSJIMomJEkSQZRMCNJkgyiYEaSJBlEwYwkSTKIghlJkmQQBTOSJMkgCmYkSZJBFMxIkiSDKJiRJEkGUTAjSZIMYvL+/p6SJElyf5MUAAAAIRDMAAAAgiCYAQAABEEwAwAACIJgBgAAEATBDAAAIAiCGQAAQBAEMwAAgCAIZgAAAEEQzAAAAIIgmAEAAARBMAMAAAiCYAYAABAEwQwAACAIghkArMrf9PlrkiZJ28dfxd0APg6/Hk9qPfn6fOgCyxHMAGBN/jyn993GXDRv4Qz4WLx+69Z1MZhdEM56gtlr+nhMfY+Hf00jOzFNB8C1mdtr/v64Pz7+/scl8+sa5H11//MAPijZQJRllxmB6FrZJe870zNUl8EVs7KhJcl9+vyn+OEY5Zui+QAYolz2/9ZuWWW/mdQgZ/eactg8Pe5WXNqogU1Yoz4voDxOt67zADUti5Rha3K9rZ5dLh/Czm9lNvZPp30o55tg/cYNqYEBH5butt7x9sQBsMXcwNW49mtoqm70uyGnfznV52dYxc2wuD77r61sOWE1Kw9n9fGWDjVlyJveWy4b4OrjXZ5fpl9j1kiV0xpT40PaaUoFEJOq+f7K+8r0sNPH/F5TDYcXXAcyh+6XDRCZdetzPnl9HgLO4qGtQTVsTf09l2aXIuBdkHsEMwA7UPeHy1eT4gez6hz1QtwEa9bnEurVq4tD4ebB7MCFgdJWJoAdWKH5Teg1bRrH3GQrs82x720WBIFLWFKfjecMOfnvv67tpcFw663MFsVC1tJe4eJ/AJuT95fDAFb0jVk9Y3avWbHhLqb40trt+MB0LqrPFaiGmGJQmhNw6oWfiQs818gu66+YlU1s+qpV+UZcvOQI4OPTaVrV9SwTmtjcXlMOmFt+sRyP2Qlg+Xkvb9TAZlxQn2tQhcLidl47E/JIGbBmrEpfnl2yvNR5b8rzuGAIm36NGQBcSjEBd4PShxruGhN47fRBF9iNneuzHKTaxym3SGMONuV70/TSQVAwAwAACIJgBgAAEATBDAAAIAiCGQAAQBAEMwAAgCAIZgAAAEEQzAAAAIIgmAEAAARBMAMAAAiCYAYAABAEwQwAACAIghkAAEAQBDMAAIAgJO/v7ylJkiT3N/n3719KkiTJ/RXMSJIkgyiYkSRJBlEwI0mSDKJgRpIkGUTBjCRJMoiCGUmSZBAFM5IkySAKZiRJkkEUzEiSJIMomJEkSQZRMCNJkgyiYEaSJBlEwYwkSTKIghlJrupb+vQlSZOk7cPPvseSvGl/PpzUevLlKX3re+xEBTOSXNPfT+ldtzEXzVs4Iz+WL/9167oYzC4IZ7OCWXYCs5pLmST/e+m/nyTXcG6vycLTCpPtdF/Sh8Px7r6/9dxH8nqWK9h36dPvvvt7vDC7vH2/Ozz/IX3puW+KE4JZY1l+YhPLT2rmG0Hy4zvQ8MqeMXdFaXavKY+/4FiXeGmjJjdx5fqca3mc7gCTLwrNzRP5MNT3eoac3U96vXwIGwlm819UuaJ2rgHVjxtSAyM/rEXzr5r88fa8Rji115RObriN4Dbk9C+nuodaKePNuLg++6+tbDlhcSev1fp4+e0ZmaBcDT84te7m9pM+6x5zeX45DWazX9T8FTWSn9uq+f7M+820sDO/16zRcNew+2VDRnZZfa5nXreHmp0ztDWGqmv1k2kWA9nCbdBMwYzkDtZ9Y/pq0u0Gs+rcL2jW5HYuqc81rVebJ4fCMMHs4JxA2aOtTJI72GiKC8LK3MBVbzOcaZaN5j7k0tWD4zkbXnkTLqnPxnOGnPz3f8FlADttZbYszmFpr3DxP8nNzXvEoQkWDWzpVD6718yeqtey6KNWzHgDrlWfS62GmKJel9Xq/MWl1bLL9VbMTi1T5eQ3qWyCmhHJ0k7TypvhGo1wRq8pp+orrGAdX0/nPPLeeeFrJLfwGvU5wyoUFrfz2rlkJatcXJrxGib3kyz8dX5v2VsuyD2zghlJXmTR8LoT+OyhL7JlY2650hYJeU13rs9yxap9nAXBakPL96bppSuMghlJkmQQBTOSJMkgCmYkSZJBFMxIkiSDKJiRJEkGUTAjSZIMomBGkiQZRMGMJEkyiIIZSZJkEAUzkiTJIApmJEmSIfyX/j8wPf59CmVbJQAAAABJRU5ErkJggg==)"
      ]
    },
    {
      "cell_type": "code",
      "metadata": {
        "id": "H1sBl1a0-QaX",
        "colab_type": "code",
        "colab": {
          "base_uri": "https://localhost:8080/",
          "height": 34
        },
        "outputId": "9575b8ae-94d4-413a-faaf-ccdf2e0680a6"
      },
      "source": [
        "x = 5\n",
        "x **= 3\n",
        "print(x)"
      ],
      "execution_count": null,
      "outputs": [
        {
          "output_type": "stream",
          "text": [
            "125\n"
          ],
          "name": "stdout"
        }
      ]
    },
    {
      "cell_type": "code",
      "metadata": {
        "id": "Syxv12MR_Ghk",
        "colab_type": "code",
        "colab": {
          "base_uri": "https://localhost:8080/",
          "height": 34
        },
        "outputId": "e9079bf5-512e-42fc-b74b-28539bab7e3b"
      },
      "source": [
        "x = 12\n",
        "x <<= 2\n",
        "print(x)"
      ],
      "execution_count": null,
      "outputs": [
        {
          "output_type": "stream",
          "text": [
            "48\n"
          ],
          "name": "stdout"
        }
      ]
    },
    {
      "cell_type": "markdown",
      "metadata": {
        "id": "vg7ZB0ZqAjuE",
        "colab_type": "text"
      },
      "source": [
        "Actual binary value of 12 is \"00 1100\" when we execute the above statement Left shift ( 2 places shifted left) returns the value 48 its binary value is \"11 0000\"."
      ]
    },
    {
      "cell_type": "code",
      "metadata": {
        "id": "UE4Z82Ae-oqJ",
        "colab_type": "code",
        "colab": {
          "base_uri": "https://localhost:8080/",
          "height": 34
        },
        "outputId": "0f406863-f05c-4428-d4fd-8e7690e04557"
      },
      "source": [
        "x = 48\n",
        "x >>= 2\n",
        "print(x)"
      ],
      "execution_count": null,
      "outputs": [
        {
          "output_type": "stream",
          "text": [
            "12\n"
          ],
          "name": "stdout"
        }
      ]
    },
    {
      "cell_type": "markdown",
      "metadata": {
        "id": "-0cD0tnoAnPi",
        "colab_type": "text"
      },
      "source": [
        "The binary value of 48 is \"11 0000\", after executing above statement Right shift ( 2 places shifted right) returns the value 12 its binary value is \"00 1100\"."
      ]
    },
    {
      "cell_type": "markdown",
      "metadata": {
        "id": "ffZcJKqVi39n",
        "colab_type": "text"
      },
      "source": [
        "**Python Comparison Operators**\n",
        "* Comparison operators are used to compare two values:"
      ]
    },
    {
      "cell_type": "markdown",
      "metadata": {
        "id": "TnNP9dIii72G",
        "colab_type": "text"
      },
      "source": [
        "![CO.PNG](data:image/png;base64,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)"
      ]
    },
    {
      "cell_type": "code",
      "metadata": {
        "id": "vpNMkbBw-HT2",
        "colab_type": "code",
        "colab": {
          "base_uri": "https://localhost:8080/",
          "height": 34
        },
        "outputId": "42845266-df33-4291-8ada-ffb5c2c8c857"
      },
      "source": [
        "x = 5\n",
        "y = 3\n",
        "\n",
        "print(x >= y)\n",
        "# returns True because five is greater, or equal, to 3"
      ],
      "execution_count": null,
      "outputs": [
        {
          "output_type": "stream",
          "text": [
            "True\n"
          ],
          "name": "stdout"
        }
      ]
    },
    {
      "cell_type": "markdown",
      "metadata": {
        "id": "Pdmp064XjQV6",
        "colab_type": "text"
      },
      "source": [
        "**Python Logical Operators**\n",
        "* Logical operators are used to combine conditional statements:"
      ]
    },
    {
      "cell_type": "markdown",
      "metadata": {
        "id": "cKSxoLGojaFN",
        "colab_type": "text"
      },
      "source": [
        "![image.png](data:image/png;base64,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)"
      ]
    },
    {
      "cell_type": "code",
      "metadata": {
        "id": "zakm017G9ucR",
        "colab_type": "code",
        "colab": {
          "base_uri": "https://localhost:8080/",
          "height": 68
        },
        "outputId": "91b6a372-7a3f-4951-b3c8-19f321925b63"
      },
      "source": [
        "x = 5\n",
        "print(x > 3 and x < 10)\n",
        "# returns True because 5 is greater than 3 AND 5 is less than 10\n",
        "print(x > 3 or x < 4)\n",
        "# returns True because one of the conditions are true (5 is greater than 3, but 5 is not less than 4)\n",
        "print(not(x > 3 and x < 10))\n",
        "# returns False because not is used to reverse the result"
      ],
      "execution_count": null,
      "outputs": [
        {
          "output_type": "stream",
          "text": [
            "True\n",
            "True\n",
            "False\n"
          ],
          "name": "stdout"
        }
      ]
    },
    {
      "cell_type": "markdown",
      "metadata": {
        "id": "POBJTec4jjmy",
        "colab_type": "text"
      },
      "source": [
        "**Python Identity Operators**\n",
        "* Identity operators are used to compare the objects, not if they are equal, but if they are actually the same object, with the same memory location:\n",
        "\n"
      ]
    },
    {
      "cell_type": "markdown",
      "metadata": {
        "id": "OqYc2nN2jvOl",
        "colab_type": "text"
      },
      "source": [
        "![image.png](data:image/png;base64,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)"
      ]
    },
    {
      "cell_type": "code",
      "metadata": {
        "id": "jWvxv6j49Wxw",
        "colab_type": "code",
        "colab": {
          "base_uri": "https://localhost:8080/",
          "height": 68
        },
        "outputId": "68f757c8-d1c3-438a-da1c-724fb02a2749"
      },
      "source": [
        "x = [\"apple\", \"banana\"]\n",
        "y = [\"apple\", \"banana\"]\n",
        "z = x\n",
        "\n",
        "print(x is z)\n",
        "# returns True because z is the same object as x\n",
        "\n",
        "print(x is y)\n",
        "# returns False because x is not the same object as y, even if they have the same content\n",
        "\n",
        "print(x == y)\n",
        "# to demonstrate the difference betweeen \"is\" and \"==\": this comparison returns True because x is equal to y\n"
      ],
      "execution_count": null,
      "outputs": [
        {
          "output_type": "stream",
          "text": [
            "True\n",
            "False\n",
            "True\n"
          ],
          "name": "stdout"
        }
      ]
    },
    {
      "cell_type": "code",
      "metadata": {
        "id": "XhRDgL5U9jrH",
        "colab_type": "code",
        "colab": {
          "base_uri": "https://localhost:8080/",
          "height": 68
        },
        "outputId": "a8299c31-ea1c-4c68-d65d-52baa6606512"
      },
      "source": [
        "x = [\"apple\", \"banana\"]\n",
        "y = [\"apple\", \"banana\"]\n",
        "z = x\n",
        "\n",
        "print(x is not z)\n",
        "# returns False because z is the same object as x\n",
        "\n",
        "print(x is not y)\n",
        "# returns True because x is not the same object as y, even if they have the same content\n",
        "\n",
        "print(x != y)\n",
        "# to demonstrate the difference betweeen \"is not\" and \"!=\": this comparison returns False because x is equal to y"
      ],
      "execution_count": null,
      "outputs": [
        {
          "output_type": "stream",
          "text": [
            "False\n",
            "True\n",
            "False\n"
          ],
          "name": "stdout"
        }
      ]
    },
    {
      "cell_type": "code",
      "metadata": {
        "id": "2zdjtDNxz4_f",
        "colab_type": "code",
        "colab": {}
      },
      "source": [
        "%whos"
      ],
      "execution_count": null,
      "outputs": []
    },
    {
      "cell_type": "code",
      "metadata": {
        "id": "RVXVcxXjz4_i",
        "colab_type": "code",
        "colab": {}
      },
      "source": [
        "A= 2\n",
        "B= 3\n",
        "sumOfaAndb = A+B"
      ],
      "execution_count": null,
      "outputs": []
    },
    {
      "cell_type": "code",
      "metadata": {
        "id": "ZbnXfztiz4_o",
        "colab_type": "code",
        "colab": {}
      },
      "source": [
        "print(sumOfaAndb)"
      ],
      "execution_count": null,
      "outputs": []
    },
    {
      "cell_type": "code",
      "metadata": {
        "id": "aBh0K9Knz4_s",
        "colab_type": "code",
        "colab": {}
      },
      "source": [
        "type(sumOfaAndb)"
      ],
      "execution_count": null,
      "outputs": []
    },
    {
      "cell_type": "code",
      "metadata": {
        "id": "uOm4iUUsz4_w",
        "colab_type": "code",
        "colab": {}
      },
      "source": [
        "type(A+d)"
      ],
      "execution_count": null,
      "outputs": []
    },
    {
      "cell_type": "code",
      "metadata": {
        "id": "wfslRliVz4_0",
        "colab_type": "code",
        "colab": {}
      },
      "source": [
        "v = ((A+d)**3)/4"
      ],
      "execution_count": null,
      "outputs": []
    },
    {
      "cell_type": "code",
      "metadata": {
        "id": "VZKzDU36z4_2",
        "colab_type": "code",
        "colab": {}
      },
      "source": [
        "print(v)"
      ],
      "execution_count": null,
      "outputs": []
    },
    {
      "cell_type": "code",
      "metadata": {
        "id": "pdPS0ZAfz4_5",
        "colab_type": "code",
        "colab": {}
      },
      "source": [
        "s1 = \"hellow\"\n",
        "s2 = \"world\"\n",
        "s = s1+s2\n",
        "print(s)"
      ],
      "execution_count": null,
      "outputs": []
    },
    {
      "cell_type": "code",
      "metadata": {
        "id": "7Wnrhkwbz4_8",
        "colab_type": "code",
        "colab": {}
      },
      "source": [
        "10//3"
      ],
      "execution_count": null,
      "outputs": []
    },
    {
      "cell_type": "code",
      "metadata": {
        "id": "9EquvwF6z4_-",
        "colab_type": "code",
        "colab": {}
      },
      "source": [
        "10/3"
      ],
      "execution_count": null,
      "outputs": []
    },
    {
      "cell_type": "markdown",
      "metadata": {
        "id": "uCQfc28ImsOy",
        "colab_type": "text"
      },
      "source": [
        "_ returns the value of last executed expression value in Python Prompt/Interpreter"
      ]
    },
    {
      "cell_type": "code",
      "metadata": {
        "id": "9WwKBQ-Lz5AB",
        "colab_type": "code",
        "colab": {}
      },
      "source": [
        "_"
      ],
      "execution_count": null,
      "outputs": []
    },
    {
      "cell_type": "code",
      "metadata": {
        "id": "ZhV44uP0z5AF",
        "colab_type": "code",
        "colab": {}
      },
      "source": [
        "3x = 5"
      ],
      "execution_count": null,
      "outputs": []
    },
    {
      "cell_type": "code",
      "metadata": {
        "id": "WR-XCbUSz5AJ",
        "colab_type": "code",
        "colab": {}
      },
      "source": [
        "@y=4"
      ],
      "execution_count": null,
      "outputs": []
    },
    {
      "cell_type": "code",
      "metadata": {
        "id": "gBuuLUX7z5AN",
        "colab_type": "code",
        "colab": {}
      },
      "source": [
        "*t=4"
      ],
      "execution_count": null,
      "outputs": []
    },
    {
      "cell_type": "code",
      "metadata": {
        "id": "4HJ0r8-0z5AP",
        "colab_type": "code",
        "colab": {}
      },
      "source": [
        "_e = 6"
      ],
      "execution_count": null,
      "outputs": []
    },
    {
      "cell_type": "code",
      "metadata": {
        "id": "HA8iqrLDz5AR",
        "colab_type": "code",
        "colab": {}
      },
      "source": [
        "startingTimeOfTheCourse = 2.0"
      ],
      "execution_count": null,
      "outputs": []
    },
    {
      "cell_type": "code",
      "metadata": {
        "id": "ShOa72EYz5AT",
        "colab_type": "code",
        "colab": {}
      },
      "source": [
        "%whos"
      ],
      "execution_count": null,
      "outputs": []
    },
    {
      "cell_type": "markdown",
      "metadata": {
        "id": "gRxoLK2i8vgs",
        "colab_type": "text"
      },
      "source": [
        "**Python Membership Operators**\n",
        "* Membership operators are used to test if a sequence is presented in an object:"
      ]
    },
    {
      "cell_type": "markdown",
      "metadata": {
        "id": "aBUC6Dwr89zj",
        "colab_type": "text"
      },
      "source": [
        "![image.png](data:image/png;base64,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)"
      ]
    },
    {
      "cell_type": "code",
      "metadata": {
        "id": "D0PC6ART84Ae",
        "colab_type": "code",
        "colab": {}
      },
      "source": [
        "x = [\"apple\", \"banana\"]\n",
        "print(\"banana\" in x)\n",
        "# returns True because a sequence with the value \"banana\" is in the list"
      ],
      "execution_count": null,
      "outputs": []
    },
    {
      "cell_type": "code",
      "metadata": {
        "id": "b6kMdCPF9GiJ",
        "colab_type": "code",
        "colab": {}
      },
      "source": [
        "x = [\"apple\", \"banana\"]\n",
        "print(\"pineapple\" not in x)\n",
        "# returns True because a sequence with the value \"pineapple\" is not in the list"
      ],
      "execution_count": null,
      "outputs": []
    },
    {
      "cell_type": "markdown",
      "metadata": {
        "id": "FCgcKwv-z5AW",
        "colab_type": "text"
      },
      "source": [
        "# Bool"
      ]
    },
    {
      "cell_type": "markdown",
      "metadata": {
        "id": "VptXbl_WBpUZ",
        "colab_type": "text"
      },
      "source": [
        "**Booleans represent one of two values: True or False.**\n",
        "\n",
        "Boolean Values\n",
        "1. In programming you often need to know if an expression is True or False.\n",
        "\n",
        "2. You can evaluate any expression in Python, and get one of two answers, True or False.\n",
        "\n",
        "3. When you compare two values, the expression is evaluated and Python returns the Boolean answer:"
      ]
    },
    {
      "cell_type": "code",
      "metadata": {
        "id": "Glo766V3z5AW",
        "colab_type": "code",
        "colab": {}
      },
      "source": [
        "a = True\n",
        "b = True\n",
        "c = False"
      ],
      "execution_count": null,
      "outputs": []
    },
    {
      "cell_type": "code",
      "metadata": {
        "id": "9bFpqWjoz5AY",
        "colab_type": "code",
        "colab": {
          "base_uri": "https://localhost:8080/",
          "height": 153
        },
        "outputId": "0a7e4974-8d78-4f7d-f251-c9ebe9e5660b"
      },
      "source": [
        "%whos"
      ],
      "execution_count": null,
      "outputs": [
        {
          "output_type": "stream",
          "text": [
            "Variable   Type    Data/Info\n",
            "----------------------------\n",
            "a          bool    True\n",
            "b          bool    True\n",
            "c          bool    False\n",
            "x          int     15\n",
            "y          int     2\n",
            "z          list    n=2\n"
          ],
          "name": "stdout"
        }
      ]
    },
    {
      "cell_type": "code",
      "metadata": {
        "id": "tiTbISVmz5Ac",
        "colab_type": "code",
        "colab": {
          "base_uri": "https://localhost:8080/",
          "height": 68
        },
        "outputId": "7bb2a539-97ca-4ad9-90fc-2a59cae5ddcf"
      },
      "source": [
        "print(a and b)\n",
        "print(a and c)\n",
        "print(c and a)"
      ],
      "execution_count": null,
      "outputs": [
        {
          "output_type": "stream",
          "text": [
            "True\n",
            "False\n",
            "False\n"
          ],
          "name": "stdout"
        }
      ]
    },
    {
      "cell_type": "code",
      "metadata": {
        "id": "Xp21wKcSz5Af",
        "colab_type": "code",
        "colab": {
          "base_uri": "https://localhost:8080/",
          "height": 34
        },
        "outputId": "c2d003a4-188e-4c3f-e46c-8ffd449608ec"
      },
      "source": [
        "d = a or c\n",
        "print(d)"
      ],
      "execution_count": null,
      "outputs": [
        {
          "output_type": "stream",
          "text": [
            "True\n"
          ],
          "name": "stdout"
        }
      ]
    },
    {
      "cell_type": "code",
      "metadata": {
        "id": "vCEenZZkz5Ai",
        "colab_type": "code",
        "colab": {},
        "outputId": "725c821e-93e9-4068-a980-711f13050b44"
      },
      "source": [
        "not(a)"
      ],
      "execution_count": null,
      "outputs": [
        {
          "output_type": "execute_result",
          "data": {
            "text/plain": [
              "False"
            ]
          },
          "metadata": {
            "tags": []
          },
          "execution_count": 39
        }
      ]
    },
    {
      "cell_type": "code",
      "metadata": {
        "id": "7RoOeOSyz5An",
        "colab_type": "code",
        "colab": {},
        "outputId": "fa0d1df1-cd65-4486-9d76-b953c8f404bb"
      },
      "source": [
        "not(b)"
      ],
      "execution_count": null,
      "outputs": [
        {
          "output_type": "execute_result",
          "data": {
            "text/plain": [
              "False"
            ]
          },
          "metadata": {
            "tags": []
          },
          "execution_count": 40
        }
      ]
    },
    {
      "cell_type": "code",
      "metadata": {
        "id": "cYbjnYhuz5Aq",
        "colab_type": "code",
        "colab": {},
        "outputId": "5dde88c2-6887-4d33-fac1-8820dd8b5885"
      },
      "source": [
        "not(c)"
      ],
      "execution_count": null,
      "outputs": [
        {
          "output_type": "execute_result",
          "data": {
            "text/plain": [
              "True"
            ]
          },
          "metadata": {
            "tags": []
          },
          "execution_count": 41
        }
      ]
    },
    {
      "cell_type": "code",
      "metadata": {
        "id": "y3fTV-9kz5Au",
        "colab_type": "code",
        "colab": {}
      },
      "source": [
        "t = not(d)"
      ],
      "execution_count": null,
      "outputs": []
    },
    {
      "cell_type": "code",
      "metadata": {
        "id": "cFSF4VCXz5Az",
        "colab_type": "code",
        "colab": {},
        "outputId": "9c863ac7-e14b-44cb-bc44-68c3c57c6757"
      },
      "source": [
        "type(t)"
      ],
      "execution_count": null,
      "outputs": [
        {
          "output_type": "execute_result",
          "data": {
            "text/plain": [
              "bool"
            ]
          },
          "metadata": {
            "tags": []
          },
          "execution_count": 43
        }
      ]
    },
    {
      "cell_type": "code",
      "metadata": {
        "id": "78RKyGgsz5A4",
        "colab_type": "code",
        "colab": {},
        "outputId": "c9886f63-3231-481c-d92f-c667571d8c1f"
      },
      "source": [
        "print(t)"
      ],
      "execution_count": null,
      "outputs": [
        {
          "output_type": "stream",
          "text": [
            "False\n"
          ],
          "name": "stdout"
        }
      ]
    },
    {
      "cell_type": "code",
      "metadata": {
        "id": "MovHq-r6z5A6",
        "colab_type": "code",
        "colab": {},
        "outputId": "70ee020c-eb3c-4a51-e951-cc887609e97f"
      },
      "source": [
        "not((a and b) or (c or d))"
      ],
      "execution_count": null,
      "outputs": [
        {
          "output_type": "execute_result",
          "data": {
            "text/plain": [
              "False"
            ]
          },
          "metadata": {
            "tags": []
          },
          "execution_count": 45
        }
      ]
    },
    {
      "cell_type": "code",
      "metadata": {
        "id": "VQRiHlr2B_yh",
        "colab_type": "code",
        "colab": {
          "base_uri": "https://localhost:8080/",
          "height": 68
        },
        "outputId": "c492d089-41be-4210-b135-23d26adafd8a"
      },
      "source": [
        "print(10 > 9)\n",
        "print(10 == 9)\n",
        "print(10 < 9)"
      ],
      "execution_count": null,
      "outputs": [
        {
          "output_type": "stream",
          "text": [
            "True\n",
            "False\n",
            "False\n"
          ],
          "name": "stdout"
        }
      ]
    },
    {
      "cell_type": "markdown",
      "metadata": {
        "id": "Wi-ELMp_COx7",
        "colab_type": "text"
      },
      "source": [
        "The bool() function allows you to evaluate any value, and give you True or False in return,"
      ]
    },
    {
      "cell_type": "code",
      "metadata": {
        "id": "-ReQJ9iTCElB",
        "colab_type": "code",
        "colab": {
          "base_uri": "https://localhost:8080/",
          "height": 51
        },
        "outputId": "38cc4878-c55a-4def-c325-4871b5e611d1"
      },
      "source": [
        "print(bool(\"Hello\"))\n",
        "print(bool(15))"
      ],
      "execution_count": null,
      "outputs": [
        {
          "output_type": "stream",
          "text": [
            "True\n",
            "True\n"
          ],
          "name": "stdout"
        }
      ]
    },
    {
      "cell_type": "code",
      "metadata": {
        "id": "FsY-ZngjCICt",
        "colab_type": "code",
        "colab": {
          "base_uri": "https://localhost:8080/",
          "height": 51
        },
        "outputId": "3fdf7f1b-5b5c-4b84-c94d-121d0abe2bbf"
      },
      "source": [
        "x = \"Hello\"\n",
        "y = 15\n",
        "\n",
        "print(bool(x))\n",
        "print(bool(y))"
      ],
      "execution_count": null,
      "outputs": [
        {
          "output_type": "stream",
          "text": [
            "True\n",
            "True\n"
          ],
          "name": "stdout"
        }
      ]
    },
    {
      "cell_type": "markdown",
      "metadata": {
        "id": "cFE4C3hUz5A9",
        "colab_type": "text"
      },
      "source": [
        "# Comparisons "
      ]
    },
    {
      "cell_type": "code",
      "metadata": {
        "id": "5QaLErHOz5A9",
        "colab_type": "code",
        "colab": {
          "base_uri": "https://localhost:8080/",
          "height": 34
        },
        "outputId": "682c5d03-eee4-4ead-bb8a-febe30432cd4"
      },
      "source": [
        "print(2<3)"
      ],
      "execution_count": null,
      "outputs": [
        {
          "output_type": "stream",
          "text": [
            "True\n"
          ],
          "name": "stdout"
        }
      ]
    },
    {
      "cell_type": "code",
      "metadata": {
        "id": "S7XJda54z5A_",
        "colab_type": "code",
        "colab": {
          "base_uri": "https://localhost:8080/",
          "height": 51
        },
        "outputId": "dc0799b9-8d26-45f3-e2d1-b03632cb63b5"
      },
      "source": [
        "c = 2<3\n",
        "print(type(c))\n",
        "print(c)"
      ],
      "execution_count": null,
      "outputs": [
        {
          "output_type": "stream",
          "text": [
            "<class 'bool'>\n",
            "True\n"
          ],
          "name": "stdout"
        }
      ]
    },
    {
      "cell_type": "code",
      "metadata": {
        "id": "_hcr--bXz5BB",
        "colab_type": "code",
        "colab": {}
      },
      "source": [
        "d = 3==4"
      ],
      "execution_count": null,
      "outputs": []
    },
    {
      "cell_type": "code",
      "metadata": {
        "id": "m0fUFrtVz5BE",
        "colab_type": "code",
        "colab": {
          "base_uri": "https://localhost:8080/",
          "height": 34
        },
        "outputId": "b7b53d25-a2ee-42fa-e952-c8634f23d364"
      },
      "source": [
        "print(d)"
      ],
      "execution_count": null,
      "outputs": [
        {
          "output_type": "stream",
          "text": [
            "False\n"
          ],
          "name": "stdout"
        }
      ]
    },
    {
      "cell_type": "code",
      "metadata": {
        "id": "PiimCFYiz5BG",
        "colab_type": "code",
        "colab": {
          "base_uri": "https://localhost:8080/",
          "height": 34
        },
        "outputId": "77c4430b-e85a-4083-edb3-efb5c2db6417"
      },
      "source": [
        "3==3.0"
      ],
      "execution_count": null,
      "outputs": [
        {
          "output_type": "execute_result",
          "data": {
            "text/plain": [
              "True"
            ]
          },
          "metadata": {
            "tags": []
          },
          "execution_count": 6
        }
      ]
    },
    {
      "cell_type": "code",
      "metadata": {
        "id": "1HLM3c2gz5BO",
        "colab_type": "code",
        "colab": {}
      },
      "source": [
        "x = 4\n",
        "y = 9\n",
        "z = 8.3\n",
        "r = -3"
      ],
      "execution_count": null,
      "outputs": []
    },
    {
      "cell_type": "code",
      "metadata": {
        "id": "DGpD0NNuz5BS",
        "colab_type": "code",
        "colab": {
          "base_uri": "https://localhost:8080/",
          "height": 34
        },
        "outputId": "727590de-ddd8-4af6-ab54-c817ccf848f0"
      },
      "source": [
        "(x<y) and (z<y) or (r==x)"
      ],
      "execution_count": null,
      "outputs": [
        {
          "output_type": "execute_result",
          "data": {
            "text/plain": [
              "True"
            ]
          },
          "metadata": {
            "tags": []
          },
          "execution_count": 8
        }
      ]
    },
    {
      "cell_type": "code",
      "metadata": {
        "id": "1o9Todavz5BV",
        "colab_type": "code",
        "colab": {
          "base_uri": "https://localhost:8080/",
          "height": 34
        },
        "outputId": "95f251bb-5737-45a7-e1db-99c1888a1cd3"
      },
      "source": [
        "(r==x) and (x<y) or (z>y)"
      ],
      "execution_count": null,
      "outputs": [
        {
          "output_type": "execute_result",
          "data": {
            "text/plain": [
              "False"
            ]
          },
          "metadata": {
            "tags": []
          },
          "execution_count": 9
        }
      ]
    },
    {
      "cell_type": "code",
      "metadata": {
        "id": "06P64lU9z5BX",
        "colab_type": "code",
        "colab": {
          "base_uri": "https://localhost:8080/",
          "height": 34
        },
        "outputId": "7f33cc02-74c7-483c-a5a9-6268c2869b5f"
      },
      "source": [
        "(True or False) and False"
      ],
      "execution_count": null,
      "outputs": [
        {
          "output_type": "execute_result",
          "data": {
            "text/plain": [
              "False"
            ]
          },
          "metadata": {
            "tags": []
          },
          "execution_count": 10
        }
      ]
    },
    {
      "cell_type": "code",
      "metadata": {
        "id": "J7Ji7Is_z5BZ",
        "colab_type": "code",
        "colab": {
          "base_uri": "https://localhost:8080/",
          "height": 34
        },
        "outputId": "74b8921a-7d66-4e68-dc58-be1c2dde41a0"
      },
      "source": [
        "print((not(2!=3) and True) or (False and True))"
      ],
      "execution_count": null,
      "outputs": [
        {
          "output_type": "stream",
          "text": [
            "False\n"
          ],
          "name": "stdout"
        }
      ]
    },
    {
      "cell_type": "code",
      "metadata": {
        "id": "xTr7rpOpz5Bd",
        "colab_type": "code",
        "colab": {
          "base_uri": "https://localhost:8080/",
          "height": 34
        },
        "outputId": "03c6c556-4c64-4956-d7d3-08eca904145d"
      },
      "source": [
        "print(round(4.556))"
      ],
      "execution_count": null,
      "outputs": [
        {
          "output_type": "stream",
          "text": [
            "5\n"
          ],
          "name": "stdout"
        }
      ]
    },
    {
      "cell_type": "code",
      "metadata": {
        "id": "S6cv7dTvz5Bf",
        "colab_type": "code",
        "colab": {
          "base_uri": "https://localhost:8080/",
          "height": 34
        },
        "outputId": "51ba857c-39bb-4a62-90ac-58166227e534"
      },
      "source": [
        "print(round(4.345))"
      ],
      "execution_count": null,
      "outputs": [
        {
          "output_type": "stream",
          "text": [
            "4\n"
          ],
          "name": "stdout"
        }
      ]
    },
    {
      "cell_type": "code",
      "metadata": {
        "id": "29Gl9ImUz5Bj",
        "colab_type": "code",
        "colab": {
          "base_uri": "https://localhost:8080/",
          "height": 34
        },
        "outputId": "88ca57ae-20bf-4718-eede-b9d2dc768058"
      },
      "source": [
        "print(round(4.556389,3))"
      ],
      "execution_count": null,
      "outputs": [
        {
          "output_type": "stream",
          "text": [
            "4.556\n"
          ],
          "name": "stdout"
        }
      ]
    },
    {
      "cell_type": "code",
      "metadata": {
        "id": "3-O9rcPfz5Bo",
        "colab_type": "code",
        "colab": {}
      },
      "source": [
        "B = divmod(27,5)"
      ],
      "execution_count": null,
      "outputs": []
    },
    {
      "cell_type": "code",
      "metadata": {
        "id": "QNFY3wI7z5Bq",
        "colab_type": "code",
        "colab": {
          "base_uri": "https://localhost:8080/",
          "height": 34
        },
        "outputId": "5d6c4e82-c46e-4607-ee1d-f3ae9636ce32"
      },
      "source": [
        "type(B)"
      ],
      "execution_count": null,
      "outputs": [
        {
          "output_type": "execute_result",
          "data": {
            "text/plain": [
              "tuple"
            ]
          },
          "metadata": {
            "tags": []
          },
          "execution_count": 16
        }
      ]
    },
    {
      "cell_type": "code",
      "metadata": {
        "id": "920qfMo0z5Bv",
        "colab_type": "code",
        "colab": {
          "base_uri": "https://localhost:8080/",
          "height": 34
        },
        "outputId": "3e8d730f-c5b8-49a3-837e-0d5cdf0d0dad"
      },
      "source": [
        "print(B)"
      ],
      "execution_count": null,
      "outputs": [
        {
          "output_type": "stream",
          "text": [
            "(5, 2)\n"
          ],
          "name": "stdout"
        }
      ]
    },
    {
      "cell_type": "code",
      "metadata": {
        "id": "bLJDUQkjz5Bx",
        "colab_type": "code",
        "colab": {
          "base_uri": "https://localhost:8080/",
          "height": 34
        },
        "outputId": "9c25e725-327c-4a65-e143-377c0c2f3580"
      },
      "source": [
        "B[0]"
      ],
      "execution_count": null,
      "outputs": [
        {
          "output_type": "execute_result",
          "data": {
            "text/plain": [
              "5"
            ]
          },
          "metadata": {
            "tags": []
          },
          "execution_count": 18
        }
      ]
    },
    {
      "cell_type": "code",
      "metadata": {
        "id": "cTjFkki_z5By",
        "colab_type": "code",
        "colab": {
          "base_uri": "https://localhost:8080/",
          "height": 34
        },
        "outputId": "b5a60ed8-6776-4609-a343-a9e8d2b6f6ba"
      },
      "source": [
        "B[1]"
      ],
      "execution_count": null,
      "outputs": [
        {
          "output_type": "execute_result",
          "data": {
            "text/plain": [
              "2"
            ]
          },
          "metadata": {
            "tags": []
          },
          "execution_count": 19
        }
      ]
    },
    {
      "cell_type": "code",
      "metadata": {
        "id": "pZ1VzICGz5B1",
        "colab_type": "code",
        "colab": {
          "base_uri": "https://localhost:8080/",
          "height": 34
        },
        "outputId": "11869aee-832c-4e2c-a8f3-dee759682354"
      },
      "source": [
        "divmod(22,10)"
      ],
      "execution_count": null,
      "outputs": [
        {
          "output_type": "execute_result",
          "data": {
            "text/plain": [
              "(2, 2)"
            ]
          },
          "metadata": {
            "tags": []
          },
          "execution_count": 20
        }
      ]
    },
    {
      "cell_type": "code",
      "metadata": {
        "id": "qRS7F_V8z5B2",
        "colab_type": "code",
        "colab": {}
      },
      "source": [
        "G = divmod(34,9)"
      ],
      "execution_count": null,
      "outputs": []
    },
    {
      "cell_type": "code",
      "metadata": {
        "id": "xyZ45CHAz5B5",
        "colab_type": "code",
        "colab": {
          "base_uri": "https://localhost:8080/",
          "height": 34
        },
        "outputId": "f1496534-86ad-4a89-cdcc-2f77c33c11b6"
      },
      "source": [
        "type(G)"
      ],
      "execution_count": null,
      "outputs": [
        {
          "output_type": "execute_result",
          "data": {
            "text/plain": [
              "tuple"
            ]
          },
          "metadata": {
            "tags": []
          },
          "execution_count": 22
        }
      ]
    },
    {
      "cell_type": "code",
      "metadata": {
        "id": "y_WxkRpMz5B6",
        "colab_type": "code",
        "colab": {
          "base_uri": "https://localhost:8080/",
          "height": 34
        },
        "outputId": "152aa91f-b9d7-4811-d9db-8d7aa40c8f61"
      },
      "source": [
        "print(G)"
      ],
      "execution_count": null,
      "outputs": [
        {
          "output_type": "stream",
          "text": [
            "(3, 7)\n"
          ],
          "name": "stdout"
        }
      ]
    },
    {
      "cell_type": "code",
      "metadata": {
        "id": "b9S_rOWfz5B-",
        "colab_type": "code",
        "colab": {
          "base_uri": "https://localhost:8080/",
          "height": 34
        },
        "outputId": "4055d4ea-50ac-4dfa-9f1c-f26c796807ec"
      },
      "source": [
        "G[0]"
      ],
      "execution_count": null,
      "outputs": [
        {
          "output_type": "execute_result",
          "data": {
            "text/plain": [
              "3"
            ]
          },
          "metadata": {
            "tags": []
          },
          "execution_count": 24
        }
      ]
    },
    {
      "cell_type": "code",
      "metadata": {
        "id": "5FIvXXoZz5CB",
        "colab_type": "code",
        "colab": {
          "base_uri": "https://localhost:8080/",
          "height": 34
        },
        "outputId": "6ce35627-cc8c-4505-cc3e-6bcf95247e72"
      },
      "source": [
        "G[1]"
      ],
      "execution_count": null,
      "outputs": [
        {
          "output_type": "execute_result",
          "data": {
            "text/plain": [
              "7"
            ]
          },
          "metadata": {
            "tags": []
          },
          "execution_count": 25
        }
      ]
    },
    {
      "cell_type": "code",
      "metadata": {
        "id": "Sa8522LOz5CF",
        "colab_type": "code",
        "colab": {
          "base_uri": "https://localhost:8080/",
          "height": 34
        },
        "outputId": "e13f884f-81da-4c5c-9ad0-8ce67c14b8fa"
      },
      "source": [
        "34//9"
      ],
      "execution_count": null,
      "outputs": [
        {
          "output_type": "execute_result",
          "data": {
            "text/plain": [
              "3"
            ]
          },
          "metadata": {
            "tags": []
          },
          "execution_count": 26
        }
      ]
    },
    {
      "cell_type": "code",
      "metadata": {
        "id": "NtX8cvtxz5CH",
        "colab_type": "code",
        "colab": {
          "base_uri": "https://localhost:8080/",
          "height": 34
        },
        "outputId": "85ddca50-5736-4af9-ed63-5b97d4cd5b2c"
      },
      "source": [
        "34%9"
      ],
      "execution_count": null,
      "outputs": [
        {
          "output_type": "execute_result",
          "data": {
            "text/plain": [
              "7"
            ]
          },
          "metadata": {
            "tags": []
          },
          "execution_count": 27
        }
      ]
    },
    {
      "cell_type": "code",
      "metadata": {
        "id": "RU4s-XTjz5CJ",
        "colab_type": "code",
        "colab": {
          "base_uri": "https://localhost:8080/",
          "height": 34
        },
        "outputId": "25ce0ddc-8062-4c44-de58-9a796aa6c7cb"
      },
      "source": [
        "isinstance(3,int)"
      ],
      "execution_count": null,
      "outputs": [
        {
          "output_type": "execute_result",
          "data": {
            "text/plain": [
              "True"
            ]
          },
          "metadata": {
            "tags": []
          },
          "execution_count": 28
        }
      ]
    },
    {
      "cell_type": "code",
      "metadata": {
        "id": "SW5Saiofz5CL",
        "colab_type": "code",
        "colab": {
          "base_uri": "https://localhost:8080/",
          "height": 34
        },
        "outputId": "a5f66cce-f1de-447f-a642-1a91fd6ae707"
      },
      "source": [
        "isinstance(3.4,(float,int))"
      ],
      "execution_count": null,
      "outputs": [
        {
          "output_type": "execute_result",
          "data": {
            "text/plain": [
              "True"
            ]
          },
          "metadata": {
            "tags": []
          },
          "execution_count": 29
        }
      ]
    },
    {
      "cell_type": "code",
      "metadata": {
        "id": "Ud381tFQz5CN",
        "colab_type": "code",
        "colab": {
          "base_uri": "https://localhost:8080/",
          "height": 34
        },
        "outputId": "82e4bbd8-3bdc-424b-b9b9-7f0039ca3045"
      },
      "source": [
        "isinstance(2+3j,(int,float,str,complex))"
      ],
      "execution_count": null,
      "outputs": [
        {
          "output_type": "execute_result",
          "data": {
            "text/plain": [
              "True"
            ]
          },
          "metadata": {
            "tags": []
          },
          "execution_count": 30
        }
      ]
    },
    {
      "cell_type": "code",
      "metadata": {
        "id": "78WwvjYEz5CQ",
        "colab_type": "code",
        "colab": {
          "base_uri": "https://localhost:8080/",
          "height": 34
        },
        "outputId": "fe42bb6d-08fc-462b-c282-2577c4ca0e77"
      },
      "source": [
        "pow(2,4)"
      ],
      "execution_count": null,
      "outputs": [
        {
          "output_type": "execute_result",
          "data": {
            "text/plain": [
              "16"
            ]
          },
          "metadata": {
            "tags": []
          },
          "execution_count": 32
        }
      ]
    },
    {
      "cell_type": "code",
      "metadata": {
        "id": "xoXDvO-rz5CT",
        "colab_type": "code",
        "colab": {
          "base_uri": "https://localhost:8080/",
          "height": 34
        },
        "outputId": "245298b4-a18b-4a56-ec16-4afa8079c041"
      },
      "source": [
        "2**4"
      ],
      "execution_count": null,
      "outputs": [
        {
          "output_type": "execute_result",
          "data": {
            "text/plain": [
              "16"
            ]
          },
          "metadata": {
            "tags": []
          },
          "execution_count": 33
        }
      ]
    },
    {
      "cell_type": "code",
      "metadata": {
        "id": "s3NHtRImz5CW",
        "colab_type": "code",
        "colab": {
          "base_uri": "https://localhost:8080/",
          "height": 34
        },
        "outputId": "22706801-d496-49e9-823a-806e55244566"
      },
      "source": [
        "pow(2,4,7)"
      ],
      "execution_count": null,
      "outputs": [
        {
          "output_type": "execute_result",
          "data": {
            "text/plain": [
              "2"
            ]
          },
          "metadata": {
            "tags": []
          },
          "execution_count": 34
        }
      ]
    },
    {
      "cell_type": "code",
      "metadata": {
        "id": "mRKXLY40z5CZ",
        "colab_type": "code",
        "colab": {
          "base_uri": "https://localhost:8080/",
          "height": 34
        },
        "outputId": "7b0aa1ec-7881-4b87-f946-cda0a93b82ea"
      },
      "source": [
        "x = input(\"Enter a number :\")"
      ],
      "execution_count": null,
      "outputs": [
        {
          "output_type": "stream",
          "text": [
            "Enter a number :2\n"
          ],
          "name": "stdout"
        }
      ]
    },
    {
      "cell_type": "code",
      "metadata": {
        "id": "J-bEFmSez5Ca",
        "colab_type": "code",
        "colab": {
          "base_uri": "https://localhost:8080/",
          "height": 34
        },
        "outputId": "a24e0c5b-bbe4-4dd8-91de-7cfc017cf88a"
      },
      "source": [
        "type(x)"
      ],
      "execution_count": null,
      "outputs": [
        {
          "output_type": "execute_result",
          "data": {
            "text/plain": [
              "str"
            ]
          },
          "metadata": {
            "tags": []
          },
          "execution_count": 36
        }
      ]
    },
    {
      "cell_type": "code",
      "metadata": {
        "id": "lu3lQEpcz5Cc",
        "colab_type": "code",
        "colab": {}
      },
      "source": [
        "x = int(x)"
      ],
      "execution_count": null,
      "outputs": []
    },
    {
      "cell_type": "code",
      "metadata": {
        "id": "1PF1GvS1z5Ce",
        "colab_type": "code",
        "colab": {
          "base_uri": "https://localhost:8080/",
          "height": 34
        },
        "outputId": "b8c1936c-2f11-46fc-c19d-213f3219c971"
      },
      "source": [
        "type(x)"
      ],
      "execution_count": null,
      "outputs": [
        {
          "output_type": "execute_result",
          "data": {
            "text/plain": [
              "int"
            ]
          },
          "metadata": {
            "tags": []
          },
          "execution_count": 38
        }
      ]
    },
    {
      "cell_type": "code",
      "metadata": {
        "id": "01kRFJlMz5Cj",
        "colab_type": "code",
        "colab": {
          "base_uri": "https://localhost:8080/",
          "height": 34
        },
        "outputId": "51f14a32-92ff-463d-965d-6caab09b2dc5"
      },
      "source": [
        "print(x-34)"
      ],
      "execution_count": null,
      "outputs": [
        {
          "output_type": "stream",
          "text": [
            "-32\n"
          ],
          "name": "stdout"
        }
      ]
    },
    {
      "cell_type": "code",
      "metadata": {
        "id": "_OAv8X18z5Cm",
        "colab_type": "code",
        "colab": {
          "base_uri": "https://localhost:8080/",
          "height": 34
        },
        "outputId": "b6c76e8d-7d84-4af4-c7d2-7ff3fe21bde3"
      },
      "source": [
        "a = float(input(\"Enter a real number :\"))"
      ],
      "execution_count": null,
      "outputs": [
        {
          "output_type": "stream",
          "text": [
            "Enter a real number :2\n"
          ],
          "name": "stdout"
        }
      ]
    },
    {
      "cell_type": "code",
      "metadata": {
        "id": "Q30nl1i1z5Cp",
        "colab_type": "code",
        "colab": {
          "base_uri": "https://localhost:8080/",
          "height": 34
        },
        "outputId": "a8da3792-8925-4bb9-ff10-ffc6df3573e7"
      },
      "source": [
        "type(a)"
      ],
      "execution_count": null,
      "outputs": [
        {
          "output_type": "execute_result",
          "data": {
            "text/plain": [
              "float"
            ]
          },
          "metadata": {
            "tags": []
          },
          "execution_count": 41
        }
      ]
    },
    {
      "cell_type": "code",
      "metadata": {
        "id": "UkokZU4Gz5Cs",
        "colab_type": "code",
        "colab": {},
        "outputId": "6ff77b9a-e455-40ef-dc5b-8ca9576101fc"
      },
      "source": [
        "b = float(input(\"Enter a real number : \"))"
      ],
      "execution_count": null,
      "outputs": [
        {
          "output_type": "stream",
          "text": [
            "Enter a real number : abc\n"
          ],
          "name": "stdout"
        },
        {
          "output_type": "error",
          "ename": "ValueError",
          "evalue": "could not convert string to float: 'abc'",
          "traceback": [
            "\u001b[1;31m---------------------------------------------------------------------------\u001b[0m",
            "\u001b[1;31mValueError\u001b[0m                                Traceback (most recent call last)",
            "\u001b[1;32m<ipython-input-97-5ddd2644c78a>\u001b[0m in \u001b[0;36m<module>\u001b[1;34m\u001b[0m\n\u001b[1;32m----> 1\u001b[1;33m \u001b[0mb\u001b[0m \u001b[1;33m=\u001b[0m \u001b[0mfloat\u001b[0m\u001b[1;33m(\u001b[0m\u001b[0minput\u001b[0m\u001b[1;33m(\u001b[0m\u001b[1;34m\"Enter a real number : \"\u001b[0m\u001b[1;33m)\u001b[0m\u001b[1;33m)\u001b[0m\u001b[1;33m\u001b[0m\u001b[1;33m\u001b[0m\u001b[0m\n\u001b[0m",
            "\u001b[1;31mValueError\u001b[0m: could not convert string to float: 'abc'"
          ]
        }
      ]
    },
    {
      "cell_type": "code",
      "metadata": {
        "id": "-oPBTASEz5Cv",
        "colab_type": "code",
        "colab": {
          "base_uri": "https://localhost:8080/",
          "height": 153
        },
        "outputId": "34577889-ba42-4b03-c2d1-75b458c66c99"
      },
      "source": [
        "help(pow)"
      ],
      "execution_count": null,
      "outputs": [
        {
          "output_type": "stream",
          "text": [
            "Help on built-in function pow in module builtins:\n",
            "\n",
            "pow(x, y, z=None, /)\n",
            "    Equivalent to x**y (with two arguments) or x**y % z (with three arguments)\n",
            "    \n",
            "    Some types, such as ints, are able to use a more efficient algorithm when\n",
            "    invoked using the three argument form.\n",
            "\n"
          ],
          "name": "stdout"
        }
      ]
    },
    {
      "cell_type": "code",
      "metadata": {
        "id": "tGCOsQCCz5Cx",
        "colab_type": "code",
        "colab": {
          "base_uri": "https://localhost:8080/",
          "height": 170
        },
        "outputId": "287edcea-f340-4286-e6f0-1c3cdcc84639"
      },
      "source": [
        "help(input)"
      ],
      "execution_count": null,
      "outputs": [
        {
          "output_type": "stream",
          "text": [
            "Help on method raw_input in module ipykernel.kernelbase:\n",
            "\n",
            "raw_input(prompt='') method of google.colab._kernel.Kernel instance\n",
            "    Forward raw_input to frontends\n",
            "    \n",
            "    Raises\n",
            "    ------\n",
            "    StdinNotImplentedError if active frontend doesn't support stdin.\n",
            "\n"
          ],
          "name": "stdout"
        }
      ]
    },
    {
      "cell_type": "markdown",
      "metadata": {
        "id": "rJR8Q3XKLXeY",
        "colab_type": "text"
      },
      "source": [
        "**Python Conditions and If statements**\n",
        "* Python supports the usual logical conditions from mathematics:\n",
        "\n",
        "1. Equals: a == b\n",
        "2. Not Equals: a != b\n",
        "3. Less than: a < b\n",
        "4. Less than or equal to: a <= b\n",
        "5. Greater than: a > b\n",
        "6. Greater than or equal to: a >= b\n",
        "7. These conditions can be used in several ways, most commonly in \"if statements\" and loops.\n",
        "\n",
        "An \"if statement\" is written by using the if keyword."
      ]
    },
    {
      "cell_type": "code",
      "metadata": {
        "id": "HORaiD9JMDBb",
        "colab_type": "code",
        "colab": {
          "base_uri": "https://localhost:8080/",
          "height": 34
        },
        "outputId": "b15d3d7b-455e-4ba5-897a-b35dfa582b88"
      },
      "source": [
        "a = 33\n",
        "b = 200\n",
        "if b > a:\n",
        "  print(\"b is greater than a\")"
      ],
      "execution_count": null,
      "outputs": [
        {
          "output_type": "stream",
          "text": [
            "b is greater than a\n"
          ],
          "name": "stdout"
        }
      ]
    },
    {
      "cell_type": "markdown",
      "metadata": {
        "id": "XUFaCjGBLvu9",
        "colab_type": "text"
      },
      "source": [
        "**Indentation**\n",
        "* Python relies on indentation (whitespace at the beginning of a line) to define scope in the code. Other programming languages often use curly-brackets for this purpose."
      ]
    },
    {
      "cell_type": "code",
      "metadata": {
        "id": "g1TKXBwez5Cy",
        "colab_type": "code",
        "colab": {
          "base_uri": "https://localhost:8080/",
          "height": 68
        },
        "outputId": "d4c4d499-1996-4e07-e136-ea78d98b36b6"
      },
      "source": [
        "a = int(input())\n",
        "b = int(input())\n",
        "if a>b:\n",
        "    print(a)\n",
        "    print(\"I am still inside if condition\")\n",
        "print(\"I am outside the if condition\")"
      ],
      "execution_count": null,
      "outputs": [
        {
          "output_type": "stream",
          "text": [
            "2\n",
            "3\n",
            "I am outside the if condition\n"
          ],
          "name": "stdout"
        }
      ]
    },
    {
      "cell_type": "code",
      "metadata": {
        "id": "4ukAA03sz5C1",
        "colab_type": "code",
        "colab": {
          "base_uri": "https://localhost:8080/",
          "height": 68
        },
        "outputId": "b1be6da6-fa24-4885-c0a7-616d48fefd3a"
      },
      "source": [
        "a = int(input())\n",
        "b = int(input())\n",
        "if a>b:\n",
        "    print(a)\n",
        "if b>a:\n",
        "    print(b)"
      ],
      "execution_count": null,
      "outputs": [
        {
          "output_type": "stream",
          "text": [
            "2\n",
            "4\n",
            "4\n"
          ],
          "name": "stdout"
        }
      ]
    },
    {
      "cell_type": "code",
      "metadata": {
        "id": "U0X_0d-Kz5C3",
        "colab_type": "code",
        "colab": {
          "base_uri": "https://localhost:8080/",
          "height": 85
        },
        "outputId": "9ebd3c44-257c-4c76-d5ca-f914f7ca8292"
      },
      "source": [
        "a = int(input())\n",
        "b = int(input())\n",
        "if a>b:\n",
        "    print(a)\n",
        "    print(\"if part\")\n",
        "else:\n",
        "    print(b)\n",
        "    print(\"else part\")"
      ],
      "execution_count": null,
      "outputs": [
        {
          "output_type": "stream",
          "text": [
            "2\n",
            "4\n",
            "4\n",
            "else part\n"
          ],
          "name": "stdout"
        }
      ]
    },
    {
      "cell_type": "code",
      "metadata": {
        "id": "gW2FIL6Vz5C5",
        "colab_type": "code",
        "colab": {
          "base_uri": "https://localhost:8080/",
          "height": 51
        },
        "outputId": "3b5ba420-2b92-4c90-ddd2-8908947d8a77"
      },
      "source": [
        "a = 10\n",
        "b = 10\n",
        "if a==b:\n",
        "    print(\"Equal\")\n",
        "elif a>b:\n",
        "    print(\"A\")\n",
        "else:\n",
        "    print(\"B\")\n",
        "print(\"Not in if\")"
      ],
      "execution_count": null,
      "outputs": [
        {
          "output_type": "stream",
          "text": [
            "Equal\n",
            "Not in if\n"
          ],
          "name": "stdout"
        }
      ]
    },
    {
      "cell_type": "code",
      "metadata": {
        "id": "iGL_TE37z5C8",
        "colab_type": "code",
        "colab": {
          "base_uri": "https://localhost:8080/",
          "height": 51
        },
        "outputId": "5103acc0-a89a-4f47-f9e0-30d04d241dd1"
      },
      "source": [
        "a = int(input(\"Enter Marks :\"))\n",
        "if a >= 85:\n",
        "    print(\"A Grade\")\n",
        "elif (a < 85) and (a >= 80):\n",
        "    print(\"A- Grade\")\n",
        "elif a < 80 and a >= 75:\n",
        "    print(\"B Grade\")\n",
        "elif a < 75 and a >= 70:\n",
        "    print(\"B- Grade\")\n",
        "else:\n",
        "    print(\"Below Average\")"
      ],
      "execution_count": null,
      "outputs": [
        {
          "output_type": "stream",
          "text": [
            "Enter Marks :34\n",
            "Below Average\n"
          ],
          "name": "stdout"
        }
      ]
    },
    {
      "cell_type": "code",
      "metadata": {
        "id": "OCfyKoftz5C-",
        "colab_type": "code",
        "colab": {
          "base_uri": "https://localhost:8080/",
          "height": 34
        },
        "outputId": "26788193-9df8-45cf-8383-0916b9bb5b39"
      },
      "source": [
        "a = 13\n",
        "if a>10:\n",
        "    print(\">10\")\n",
        "elif not(a>10):\n",
        "    print(\"Else part\")"
      ],
      "execution_count": null,
      "outputs": [
        {
          "output_type": "stream",
          "text": [
            ">10\n"
          ],
          "name": "stdout"
        }
      ]
    },
    {
      "cell_type": "code",
      "metadata": {
        "id": "FOdTVDgnz5DB",
        "colab_type": "code",
        "colab": {
          "base_uri": "https://localhost:8080/",
          "height": 153
        },
        "outputId": "edc05f5d-429b-4abf-c9ca-5522e08c737b"
      },
      "source": [
        "a = int(input())\n",
        "if a>10:\n",
        "    print(\">10\")\n",
        "    print(\"Inside the top if\")\n",
        "    if a>20:\n",
        "        print(\">20\")\n",
        "        print(\"Inside the nested if\")\n",
        "        if a>30:\n",
        "            print(\">30\")\n",
        "            print(\"inside the nested if of nested if\")\n",
        "        else:\n",
        "            print(\"<=30\")\n",
        "            print(\"inside the else part of nested if of nested if\")\n",
        "    else:\n",
        "        print(\"<=20\")\n",
        "        print(\"Inside the else part of nested if\")\n",
        "print(\"Outside all ifs\")"
      ],
      "execution_count": null,
      "outputs": [
        {
          "output_type": "stream",
          "text": [
            "68\n",
            ">10\n",
            "Inside the top if\n",
            ">20\n",
            "Inside the nested if\n",
            ">30\n",
            "inside the nested if of nested if\n",
            "Outside all ifs\n"
          ],
          "name": "stdout"
        }
      ]
    },
    {
      "cell_type": "code",
      "metadata": {
        "id": "Q1tgIANcz5DC",
        "colab_type": "code",
        "colab": {
          "base_uri": "https://localhost:8080/",
          "height": 51
        },
        "outputId": "f81b25a4-6270-4b5c-e452-6ce5de7c3613"
      },
      "source": [
        "# single line comment\n",
        "\"\"\" \n",
        "User will enter a floating point number let say 238.915. Your task\n",
        "is to find out the integer portion before the point (in this case 238)\n",
        "and then check if that integer portion is an even number or not?\n",
        "\"\"\"\n",
        "x = float(input(\"Enter a real number :\"))\n",
        "y = round(x)\n",
        "if x>0:    \n",
        "    if y>x:\n",
        "        intPortion = y-1 # 29.6\n",
        "    else:\n",
        "        intPortion = y\n",
        "else:\n",
        "    if y<x:\n",
        "        intPortion = y+1\n",
        "    else:\n",
        "        intPortion = y\n",
        "\n",
        "if intPortion%2 == 0:\n",
        "    print(\"Even\")\n",
        "else:\n",
        "    print(\"Odd\")"
      ],
      "execution_count": null,
      "outputs": [
        {
          "output_type": "stream",
          "text": [
            "Enter a real number :67.7\n",
            "Odd\n"
          ],
          "name": "stdout"
        }
      ]
    },
    {
      "cell_type": "code",
      "metadata": {
        "id": "myJTamEVz5DE",
        "colab_type": "code",
        "colab": {
          "base_uri": "https://localhost:8080/",
          "height": 34
        },
        "outputId": "d8f89093-5ee7-4e64-f75d-611027bac25e"
      },
      "source": [
        "round(-9.3)"
      ],
      "execution_count": null,
      "outputs": [
        {
          "output_type": "execute_result",
          "data": {
            "text/plain": [
              "-9"
            ]
          },
          "metadata": {
            "tags": []
          },
          "execution_count": 54
        }
      ]
    },
    {
      "cell_type": "code",
      "metadata": {
        "id": "BqcM42m0z5DK",
        "colab_type": "code",
        "colab": {
          "base_uri": "https://localhost:8080/",
          "height": 34
        },
        "outputId": "767fd06f-d7eb-4142-8353-32bb54e548dc"
      },
      "source": [
        "round(-9.6)"
      ],
      "execution_count": null,
      "outputs": [
        {
          "output_type": "execute_result",
          "data": {
            "text/plain": [
              "-10"
            ]
          },
          "metadata": {
            "tags": []
          },
          "execution_count": 55
        }
      ]
    },
    {
      "cell_type": "code",
      "metadata": {
        "id": "y7On9Qpxz5DR",
        "colab_type": "code",
        "colab": {
          "base_uri": "https://localhost:8080/",
          "height": 493
        },
        "outputId": "4679efe8-35f7-40ca-d23c-a7aae47fd23d"
      },
      "source": [
        "n = int(input())\n",
        "i = 1\n",
        "while i < n:\n",
        "    print(i**2)\n",
        "    print(\"This is iteration number :\", i)\n",
        "    i+=1 # i = i+1\n",
        "print(\"Loop done\")\n",
        "    "
      ],
      "execution_count": null,
      "outputs": [
        {
          "output_type": "stream",
          "text": [
            "14\n",
            "1\n",
            "This is iteration number : 1\n",
            "4\n",
            "This is iteration number : 2\n",
            "9\n",
            "This is iteration number : 3\n",
            "16\n",
            "This is iteration number : 4\n",
            "25\n",
            "This is iteration number : 5\n",
            "36\n",
            "This is iteration number : 6\n",
            "49\n",
            "This is iteration number : 7\n",
            "64\n",
            "This is iteration number : 8\n",
            "81\n",
            "This is iteration number : 9\n",
            "100\n",
            "This is iteration number : 10\n",
            "121\n",
            "This is iteration number : 11\n",
            "144\n",
            "This is iteration number : 12\n",
            "169\n",
            "This is iteration number : 13\n",
            "Loop done\n"
          ],
          "name": "stdout"
        }
      ]
    },
    {
      "cell_type": "code",
      "metadata": {
        "id": "JJHfANKOz5DV",
        "colab_type": "code",
        "colab": {
          "base_uri": "https://localhost:8080/",
          "height": 187
        },
        "outputId": "799d3c73-650c-4f94-dbc3-4fcd52d23b14"
      },
      "source": [
        "n = 10\n",
        "i = 1\n",
        "while True:\n",
        "    if i%9 == 0:\n",
        "        print(\"Inside if\")\n",
        "        break\n",
        "    else:\n",
        "        print(\"inside Else\")\n",
        "        i = i+1 # i+=1\n",
        "print(\"done\")"
      ],
      "execution_count": null,
      "outputs": [
        {
          "output_type": "stream",
          "text": [
            "inside Else\n",
            "inside Else\n",
            "inside Else\n",
            "inside Else\n",
            "inside Else\n",
            "inside Else\n",
            "inside Else\n",
            "inside Else\n",
            "Inside if\n",
            "done\n"
          ],
          "name": "stdout"
        }
      ]
    },
    {
      "cell_type": "code",
      "metadata": {
        "id": "gtz-a3fbz5DX",
        "colab_type": "code",
        "colab": {
          "base_uri": "https://localhost:8080/",
          "height": 204
        },
        "outputId": "1fde8f79-58b1-4eeb-f721-ac8c884008c5"
      },
      "source": [
        "n = 10\n",
        "i = 1\n",
        "while True:\n",
        "    if i%9 != 0:\n",
        "        print(\"inside if\")\n",
        "        i +=1\n",
        "        continue\n",
        "    print(\"something\")\n",
        "    print(\"somethingelse\")\n",
        "    break\n",
        "    \n",
        "print(\"done\")"
      ],
      "execution_count": null,
      "outputs": [
        {
          "output_type": "stream",
          "text": [
            "inside if\n",
            "inside if\n",
            "inside if\n",
            "inside if\n",
            "inside if\n",
            "inside if\n",
            "inside if\n",
            "inside if\n",
            "something\n",
            "somethingelse\n",
            "done\n"
          ],
          "name": "stdout"
        }
      ]
    }
  ]
}