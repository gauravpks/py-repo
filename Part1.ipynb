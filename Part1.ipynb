{
  "nbformat": 4,
  "nbformat_minor": 0,
  "metadata": {
    "kernelspec": {
      "display_name": "Python 3",
      "language": "python",
      "name": "python3"
    },
    "language_info": {
      "codemirror_mode": {
        "name": "ipython",
        "version": 3
      },
      "file_extension": ".py",
      "mimetype": "text/x-python",
      "name": "python",
      "nbconvert_exporter": "python",
      "pygments_lexer": "ipython3",
      "version": "3.7.3"
    },
    "colab": {
      "name": "MasteringPythonZeroToHero_part1.ipynb",
      "provenance": [],
      "toc_visible": true,
      "include_colab_link": true
    }
  },
  "cells": [
    {
      "cell_type": "markdown",
      "metadata": {
        "id": "view-in-github",
        "colab_type": "text"
      },
      "source": [
        "<a href=\"https://colab.research.google.com/github/gauravpks/py-repo/blob/master/Part1.ipynb\" target=\"_parent\"><img src=\"https://colab.research.google.com/assets/colab-badge.svg\" alt=\"Open In Colab\"/></a>"
      ]
    },
    {
      "cell_type": "markdown",
      "metadata": {
        "id": "QynetUdYveni",
        "colab_type": "text"
      },
      "source": [
        "Python-------- Gaurav Prakash"
      ]
    },
    {
      "cell_type": "markdown",
      "metadata": {
        "id": "cHct92OIz4-g",
        "colab_type": "text"
      },
      "source": [
        "# This is Python Tutorial"
      ]
    },
    {
      "cell_type": "markdown",
      "metadata": {
        "id": "unbO_8kJz4-i",
        "colab_type": "text"
      },
      "source": [
        "This is our first program in python: It is just started here"
      ]
    },
    {
      "cell_type": "code",
      "metadata": {
        "id": "-bE_JkeHz4-j",
        "colab_type": "code",
        "colab": {}
      },
      "source": [
        "print(\"Hellow World\")"
      ],
      "execution_count": null,
      "outputs": []
    },
    {
      "cell_type": "markdown",
      "metadata": {
        "id": "GVXClDTgwwa3",
        "colab_type": "text"
      },
      "source": [
        "*What is Python?*\n",
        "Python is a popular programming language. It was created by Guido van Rossum, and released in 1991.\n",
        "\n",
        "*It is used for:*\n",
        "*   web development (server-side),\n",
        "*   software development,\n",
        "*   mathematics,\n",
        "*   system scripting.\n",
        "\n",
        "*What can Python do?*\n",
        "* Python can be used on a server to create web applications.\n",
        "* Python can be used alongside software to create workflows.\n",
        "* Python can connect to database systems. It can also read and modify files.\n",
        "* Python can be used to handle big data and perform complex mathematics.\n",
        "* Python can be used for rapid prototyping, or for production-ready software development.\n",
        "\n",
        "*Why Python?*\n",
        "* Python works on different platforms (Windows, Mac, Linux, Raspberry Pi, etc).\n",
        "* Python has a simple syntax similar to the English language.\n",
        "* Python has syntax that allows developers to write programs with fewer lines than some other programming languages.\n",
        "* Python runs on an interpreter system, meaning that code can be executed as soon as it is written. This means that prototyping can be very quick.\n",
        "* Python can be treated in a procedural way, an * object-orientated way or a functional way.\n",
        "\n",
        "*Good to know*\n",
        "* The most recent major version of Python is Python 3, which we shall be using in this tutorial. However, Python 2, although not being updated with anything other than security updates, is still quite popular.\n",
        "* In this tutorial Python will be written in a text editor. It is possible to write Python in an Integrated Development Environment, such as Thonny, Pycharm, Netbeans or Eclipse which are particularly useful when managing larger collections of Python files.\n",
        "\n",
        "*Python Syntax compared to other programming languages*\n",
        "* Python was designed for readability, and has some similarities to the English language with influence from mathematics.\n",
        "* Python uses new lines to complete a command, as opposed to other programming languages which often use semicolons or parentheses.\n",
        "* Python relies on indentation, using whitespace, to define scope; such as the scope of loops, functions and classes. Other programming languages often use curly-brackets for this purpose."
      ]
    },
    {
      "cell_type": "markdown",
      "metadata": {
        "id": "MEfovoHwz4-q",
        "colab_type": "text"
      },
      "source": [
        "# Variables "
      ]
    },
    {
      "cell_type": "markdown",
      "metadata": {
        "id": "sEyJfPm_vv6p",
        "colab_type": "text"
      },
      "source": [
        "*What is a variable??*\n",
        "\n",
        "---\n",
        "\n",
        "\n",
        "Variables are the names you give to computer memory locations which are used to store values in a computer program\n",
        "\n",
        "**Creating Variables**\n",
        "\n",
        "*   Variables are containers for storing data values.\n",
        "*   Unlike other programming languages, Python has no command for declaring a variable.\n",
        "*   LA variable is created the moment you first assign a value to it.\n",
        "\n"
      ]
    },
    {
      "cell_type": "code",
      "metadata": {
        "id": "tlG1duhKz4-q",
        "colab_type": "code",
        "colab": {}
      },
      "source": [
        "x = 3\n",
        "print(x)"
      ],
      "execution_count": null,
      "outputs": []
    },
    {
      "cell_type": "code",
      "metadata": {
        "id": "ztHDO3yRz4-v",
        "colab_type": "code",
        "colab": {}
      },
      "source": [
        "#To check which all variables are available\n",
        "%whos"
      ],
      "execution_count": null,
      "outputs": []
    },
    {
      "cell_type": "code",
      "metadata": {
        "id": "6Z7E4KG7z4-y",
        "colab_type": "code",
        "colab": {}
      },
      "source": [
        "#Check type of data\n",
        "print(type(x))"
      ],
      "execution_count": null,
      "outputs": []
    },
    {
      "cell_type": "code",
      "metadata": {
        "id": "akL5MFRJz4-0",
        "colab_type": "code",
        "colab": {}
      },
      "source": [
        "x = 5.7"
      ],
      "execution_count": 53,
      "outputs": []
    },
    {
      "cell_type": "code",
      "metadata": {
        "id": "4fxhcGAKz4-4",
        "colab_type": "code",
        "colab": {}
      },
      "source": [
        "%whos"
      ],
      "execution_count": null,
      "outputs": []
    },
    {
      "cell_type": "code",
      "metadata": {
        "id": "E3TPqu-3z4-7",
        "colab_type": "code",
        "colab": {}
      },
      "source": [
        "print(type(x))"
      ],
      "execution_count": null,
      "outputs": []
    },
    {
      "cell_type": "code",
      "metadata": {
        "id": "Lu_X22u7z4--",
        "colab_type": "code",
        "colab": {}
      },
      "source": [
        "abcd = 556.32"
      ],
      "execution_count": 56,
      "outputs": []
    },
    {
      "cell_type": "code",
      "metadata": {
        "id": "cA3rn-y6z4_B",
        "colab_type": "code",
        "colab": {}
      },
      "source": [
        "%whos"
      ],
      "execution_count": null,
      "outputs": []
    },
    {
      "cell_type": "markdown",
      "metadata": {
        "id": "j7d2TicIziab",
        "colab_type": "text"
      },
      "source": [
        "Python allows you to assign values to multiple variables in one line:"
      ]
    },
    {
      "cell_type": "code",
      "metadata": {
        "id": "K0W3aZXaz4_D",
        "colab_type": "code",
        "colab": {}
      },
      "source": [
        "a,b,c,d,f = 3,5,6.0,7.2,-3"
      ],
      "execution_count": 58,
      "outputs": []
    },
    {
      "cell_type": "markdown",
      "metadata": {
        "id": "pFAx6ZQUzpgR",
        "colab_type": "text"
      },
      "source": [
        "And you can assign the same value to multiple variables in one line:"
      ]
    },
    {
      "cell_type": "code",
      "metadata": {
        "id": "1fcE1Ie_zqeL",
        "colab_type": "code",
        "colab": {}
      },
      "source": [
        "x = y = z = \"Orange\"\n",
        "print(x)\n",
        "print(y)\n",
        "print(z)"
      ],
      "execution_count": null,
      "outputs": []
    },
    {
      "cell_type": "code",
      "metadata": {
        "id": "rJk5dEbgz4_G",
        "colab_type": "code",
        "colab": {}
      },
      "source": [
        "%whos"
      ],
      "execution_count": null,
      "outputs": []
    },
    {
      "cell_type": "code",
      "metadata": {
        "id": "x9v-qyfFz4_J",
        "colab_type": "code",
        "colab": {}
      },
      "source": [
        "del abcd"
      ],
      "execution_count": 61,
      "outputs": []
    },
    {
      "cell_type": "code",
      "metadata": {
        "id": "D3W3yBMuz4_M",
        "colab_type": "code",
        "colab": {}
      },
      "source": [
        "%whos"
      ],
      "execution_count": null,
      "outputs": []
    },
    {
      "cell_type": "code",
      "metadata": {
        "id": "CctthPP1z4_O",
        "colab_type": "code",
        "colab": {}
      },
      "source": [
        "print(abcd)"
      ],
      "execution_count": null,
      "outputs": []
    },
    {
      "cell_type": "code",
      "metadata": {
        "id": "PDNaFWD-z4_R",
        "colab_type": "code",
        "colab": {}
      },
      "source": [
        "c = 2+4j"
      ],
      "execution_count": 64,
      "outputs": []
    },
    {
      "cell_type": "code",
      "metadata": {
        "id": "DnY6qJrIz4_T",
        "colab_type": "code",
        "colab": {}
      },
      "source": [
        "print(type(c))"
      ],
      "execution_count": null,
      "outputs": []
    },
    {
      "cell_type": "markdown",
      "metadata": {
        "id": "wUXgjVkYyld6",
        "colab_type": "text"
      },
      "source": [
        "String variables can be declared either by using single or double quotes:"
      ]
    },
    {
      "cell_type": "code",
      "metadata": {
        "id": "m2p4mnygz4_W",
        "colab_type": "code",
        "colab": {}
      },
      "source": [
        "s = \"hello how are you\""
      ],
      "execution_count": 66,
      "outputs": []
    },
    {
      "cell_type": "code",
      "metadata": {
        "id": "5fHXDpmGz4_b",
        "colab_type": "code",
        "colab": {}
      },
      "source": [
        "print(type(s))"
      ],
      "execution_count": null,
      "outputs": []
    },
    {
      "cell_type": "markdown",
      "metadata": {
        "id": "JT7F1081yf9z",
        "colab_type": "text"
      },
      "source": [
        "Variables do not need to be declared with any particular type and can even change type after they have been set"
      ]
    },
    {
      "cell_type": "code",
      "metadata": {
        "id": "lG8jZu6qyq3K",
        "colab_type": "code",
        "colab": {}
      },
      "source": [
        "x = 4 # x is of type int\n",
        "x = \"Sally\" # x is now of type str\n",
        "print(x)"
      ],
      "execution_count": null,
      "outputs": []
    },
    {
      "cell_type": "markdown",
      "metadata": {
        "id": "qmz2RCveyyPd",
        "colab_type": "text"
      },
      "source": [
        "*Variable Names*\n",
        "* A variable can have a short name (like x and y) or a more descriptive name (age, carname, total_volume). Rules for Python variables:\n",
        "* A variable name must start with a letter or the underscore character\n",
        "* A variable name cannot start with a number\n",
        "* A variable name can only contain alpha-numeric characters and underscores (A-z, 0-9, and _ )\n",
        "Variable names are case-sensitive (age, Age and AGE are three different variables)"
      ]
    },
    {
      "cell_type": "code",
      "metadata": {
        "id": "atz24olUzQE6",
        "colab_type": "code",
        "colab": {}
      },
      "source": [
        "#Legal variable names:\n",
        "myvar = \"John\"\n",
        "my_var = \"John\"\n",
        "_my_var = \"John\"\n",
        "myVar = \"John\"\n",
        "MYVAR = \"John\"\n",
        "myvar2 = \"John\"\n",
        "\n",
        "#Illegal variable names:\n",
        "2myvar = \"John\"\n",
        "my-var = \"John\"\n",
        "my var = \"John\"\n"
      ],
      "execution_count": null,
      "outputs": []
    },
    {
      "cell_type": "markdown",
      "metadata": {
        "id": "fmpFa_7qzye2",
        "colab_type": "text"
      },
      "source": [
        "Output Variables\n",
        "The Python print statement is often used to output variables.\n",
        "\n",
        "To combine both text and a variable, Python uses the + character:"
      ]
    },
    {
      "cell_type": "code",
      "metadata": {
        "id": "TihuNdcmz1aG",
        "colab_type": "code",
        "colab": {}
      },
      "source": [
        "x = \"awesome\"\n",
        "print(\"Python is \" + x)"
      ],
      "execution_count": null,
      "outputs": []
    },
    {
      "cell_type": "code",
      "metadata": {
        "id": "L4PFkIwKz5_f",
        "colab_type": "code",
        "colab": {}
      },
      "source": [
        "x = \"Python is \"\n",
        "y = \"awesome\"\n",
        "z =  x + y\n",
        "print(z)"
      ],
      "execution_count": null,
      "outputs": []
    },
    {
      "cell_type": "code",
      "metadata": {
        "id": "8HEqECKNz_Z1",
        "colab_type": "code",
        "colab": {}
      },
      "source": [
        "x = 5\n",
        "y = 10\n",
        "print(x + y)"
      ],
      "execution_count": null,
      "outputs": []
    },
    {
      "cell_type": "code",
      "metadata": {
        "id": "w0ZxeKQi0Bxr",
        "colab_type": "code",
        "colab": {}
      },
      "source": [
        "x = 5\n",
        "y = \"John\"\n",
        "print(x + y)"
      ],
      "execution_count": null,
      "outputs": []
    },
    {
      "cell_type": "markdown",
      "metadata": {
        "id": "ONLJqdWz04AQ",
        "colab_type": "text"
      },
      "source": [
        "#Numbers"
      ]
    },
    {
      "cell_type": "markdown",
      "metadata": {
        "id": "BYApakOS06j_",
        "colab_type": "text"
      },
      "source": [
        "There are three numeric types in Python:\n",
        "\n",
        "* int\n",
        "* float\n",
        "* complex\n"
      ]
    },
    {
      "cell_type": "markdown",
      "metadata": {
        "id": "IT4A0DJo1G6S",
        "colab_type": "text"
      },
      "source": [
        "Variables of numeric types are created when you assign a value to them:"
      ]
    },
    {
      "cell_type": "code",
      "metadata": {
        "id": "MByTfo0M1KxW",
        "colab_type": "code",
        "colab": {}
      },
      "source": [
        "x = 1    # int\n",
        "y = 2.8  # float\n",
        "z = 1j   # complex"
      ],
      "execution_count": 74,
      "outputs": []
    },
    {
      "cell_type": "code",
      "metadata": {
        "id": "GfKV3c6E1Nnu",
        "colab_type": "code",
        "colab": {}
      },
      "source": [
        "print(type(x))\n",
        "print(type(y))\n",
        "print(type(z))"
      ],
      "execution_count": null,
      "outputs": []
    },
    {
      "cell_type": "markdown",
      "metadata": {
        "id": "m8ycdgE01XXm",
        "colab_type": "text"
      },
      "source": [
        "**Int**\n",
        "* Int, or integer, is a whole number, positive or negative, without decimals, of unlimited length."
      ]
    },
    {
      "cell_type": "code",
      "metadata": {
        "id": "KMqwDAaQ1dYB",
        "colab_type": "code",
        "colab": {}
      },
      "source": [
        "x = 1\n",
        "y = 35656222554887711\n",
        "z = -3255522\n",
        "\n",
        "print(type(x))\n",
        "print(type(y))\n",
        "print(type(z))"
      ],
      "execution_count": null,
      "outputs": []
    },
    {
      "cell_type": "markdown",
      "metadata": {
        "id": "sRDxQPXU1id0",
        "colab_type": "text"
      },
      "source": [
        "**Float**\n",
        "* Float, or \"floating point number\" is a number, positive or negative, containing one or more decimals."
      ]
    },
    {
      "cell_type": "code",
      "metadata": {
        "id": "73i2yTeP1lSn",
        "colab_type": "code",
        "colab": {}
      },
      "source": [
        "x = 1.10\n",
        "y = 1.0\n",
        "z = -35.59\n",
        "\n",
        "print(type(x))\n",
        "print(type(y))\n",
        "print(type(z))"
      ],
      "execution_count": null,
      "outputs": []
    },
    {
      "cell_type": "markdown",
      "metadata": {
        "id": "eCzfk0Uq1s41",
        "colab_type": "text"
      },
      "source": [
        "Float can also be scientific numbers with an \"e\" to indicate the power of 10."
      ]
    },
    {
      "cell_type": "code",
      "metadata": {
        "id": "KvbHtiLT1rfc",
        "colab_type": "code",
        "colab": {}
      },
      "source": [
        "x = 35e3\n",
        "y = 12E4\n",
        "z = -87.7e100\n",
        "\n",
        "print(type(x))\n",
        "print(type(y))\n",
        "print(type(z))"
      ],
      "execution_count": null,
      "outputs": []
    },
    {
      "cell_type": "markdown",
      "metadata": {
        "id": "Gw2dPRTq11vF",
        "colab_type": "text"
      },
      "source": [
        "**Complex**\n",
        "* Complex numbers are written with a \"j\" as the imaginary part:"
      ]
    },
    {
      "cell_type": "code",
      "metadata": {
        "id": "LMl4iikc10gw",
        "colab_type": "code",
        "colab": {}
      },
      "source": [
        "x = 3+5j\n",
        "y = 5j\n",
        "z = -5j\n",
        "\n",
        "print(type(x))\n",
        "print(type(y))\n",
        "print(type(z))"
      ],
      "execution_count": null,
      "outputs": []
    },
    {
      "cell_type": "markdown",
      "metadata": {
        "id": "_iSboNgv1-dy",
        "colab_type": "text"
      },
      "source": [
        "**Type Conversion**\n",
        "\n",
        "> You can convert from one type to another with the int(), float(), and complex() methods:\n",
        "\n"
      ]
    },
    {
      "cell_type": "code",
      "metadata": {
        "id": "1AUBChTI17Xz",
        "colab_type": "code",
        "colab": {}
      },
      "source": [
        "x = 1    # int\n",
        "y = 2.8  # float\n",
        "z = 1j   # complex\n",
        "\n",
        "#convert from int to float:\n",
        "a = float(x)\n",
        "\n",
        "#convert from float to int:\n",
        "b = int(y)\n",
        "\n",
        "#convert from int to complex:\n",
        "c = complex(x)\n",
        "\n",
        "print(a)\n",
        "print(b)\n",
        "print(c)\n",
        "\n",
        "print(type(a))\n",
        "print(type(b))\n",
        "print(type(c))"
      ],
      "execution_count": null,
      "outputs": []
    },
    {
      "cell_type": "markdown",
      "metadata": {
        "id": "it1zFk0h2Tj_",
        "colab_type": "text"
      },
      "source": [
        "**Random Number**\n",
        "* Python does not have a random() function to make a random number, but Python has a built-in module called random that can be used to make random numbers:"
      ]
    },
    {
      "cell_type": "code",
      "metadata": {
        "id": "bqMcdL812au5",
        "colab_type": "code",
        "colab": {}
      },
      "source": [
        "import random\n",
        "\n",
        "print(random.randrange(1, 10))"
      ],
      "execution_count": null,
      "outputs": []
    },
    {
      "cell_type": "markdown",
      "metadata": {
        "id": "-W5LshTl3Ki7",
        "colab_type": "text"
      },
      "source": [
        "#Casting"
      ]
    },
    {
      "cell_type": "markdown",
      "metadata": {
        "id": "KXSx-QXb3MmU",
        "colab_type": "text"
      },
      "source": [
        "**Specify a Variable Type**\n",
        "* There may be times when you want to specify a type on to a variable. This can be done with casting. Python is an object-orientated language, and as such it uses classes to define data types, including its primitive types.\n",
        "\n",
        "* Casting in python is therefore done using constructor functions:\n",
        "1. int() - constructs an integer number from an integer literal, a float literal (by rounding down to the previous whole number), or a string literal (providing the string represents a whole number)\n",
        "2. float() - constructs a float number from an integer literal, a float literal or a string literal (providing the string represents a float or an integer)\n",
        "3. str() - constructs a string from a wide variety of data types, including strings, integer literals and float literals"
      ]
    },
    {
      "cell_type": "code",
      "metadata": {
        "id": "kZcX08o73n_Z",
        "colab_type": "code",
        "colab": {}
      },
      "source": [
        "#Integer\n",
        "x = int(1)   # x will be 1\n",
        "y = int(2.8) # y will be 2\n",
        "z = int(\"3\") # z will be 3"
      ],
      "execution_count": 82,
      "outputs": []
    },
    {
      "cell_type": "code",
      "metadata": {
        "id": "4d6s04_J3ptw",
        "colab_type": "code",
        "colab": {}
      },
      "source": [
        "#Floats\n",
        "x = float(1)     # x will be 1.0\n",
        "y = float(2.8)   # y will be 2.8\n",
        "z = float(\"3\")   # z will be 3.0\n",
        "w = float(\"4.2\") # w will be 4.2"
      ],
      "execution_count": 83,
      "outputs": []
    },
    {
      "cell_type": "code",
      "metadata": {
        "id": "YzbHtxuT30v6",
        "colab_type": "code",
        "colab": {}
      },
      "source": [
        "#String\n",
        "x = str(\"s1\") # x will be 's1'\n",
        "y = str(2)    # y will be '2'\n",
        "z = str(3.0)  # z will be '3.0'"
      ],
      "execution_count": 84,
      "outputs": []
    },
    {
      "cell_type": "markdown",
      "metadata": {
        "id": "05vutPvp4RjQ",
        "colab_type": "text"
      },
      "source": [
        "#Strings"
      ]
    },
    {
      "cell_type": "markdown",
      "metadata": {
        "id": "vYsW1-Xj4Uxm",
        "colab_type": "text"
      },
      "source": [
        "**String Literals**\n",
        "* String literals in python are surrounded by either single quotation marks, or double quotation marks.\n",
        "\n",
        "'hello' is the same as \"hello\".\n",
        "\n",
        "You can display a string literal with the print() function:"
      ]
    },
    {
      "cell_type": "code",
      "metadata": {
        "id": "OHR-SBo04cNz",
        "colab_type": "code",
        "colab": {}
      },
      "source": [
        "print(\"Hello\")\n",
        "print('Hello')"
      ],
      "execution_count": null,
      "outputs": []
    },
    {
      "cell_type": "markdown",
      "metadata": {
        "id": "25o6-NmV4iGJ",
        "colab_type": "text"
      },
      "source": [
        "**Assign String to a Variable**\n",
        "* Assigning a string to a variable is done with the variable name followed by an equal sign and the string:"
      ]
    },
    {
      "cell_type": "code",
      "metadata": {
        "id": "xG4GsPjs4hps",
        "colab_type": "code",
        "colab": {}
      },
      "source": [
        "a = \"Hello\"\n",
        "print(a)"
      ],
      "execution_count": null,
      "outputs": []
    },
    {
      "cell_type": "markdown",
      "metadata": {
        "id": "HFqWgMys4uSX",
        "colab_type": "text"
      },
      "source": [
        "Multiline Strings\n",
        "* You can assign a multiline string to a variable by using three quotes:"
      ]
    },
    {
      "cell_type": "code",
      "metadata": {
        "id": "O5R-eA0Q4tHj",
        "colab_type": "code",
        "colab": {}
      },
      "source": [
        "a = \"\"\"Lorem ipsum dolor sit amet,\n",
        "consectetur adipiscing elit,\n",
        "sed do eiusmod tempor incididunt\n",
        "ut labore et dolore magna aliqua.\"\"\"\n",
        "print(a)"
      ],
      "execution_count": null,
      "outputs": []
    },
    {
      "cell_type": "markdown",
      "metadata": {
        "id": "lTDIS_mL47wI",
        "colab_type": "text"
      },
      "source": [
        "Or three single quotes:"
      ]
    },
    {
      "cell_type": "code",
      "metadata": {
        "id": "jjuYFuLL46rQ",
        "colab_type": "code",
        "colab": {
          "base_uri": "https://localhost:8080/",
          "height": 85
        },
        "outputId": "4ebbc24b-6f7c-4dae-9f98-3b20f5e1c59c"
      },
      "source": [
        "a = '''Lorem ipsum dolor sit amet,\n",
        "consectetur adipiscing elit,\n",
        "sed do eiusmod tempor incididunt\n",
        "ut labore et dolore magna aliqua.'''\n",
        "print(a)"
      ],
      "execution_count": 88,
      "outputs": [
        {
          "output_type": "stream",
          "text": [
            "Lorem ipsum dolor sit amet,\n",
            "consectetur adipiscing elit,\n",
            "sed do eiusmod tempor incididunt\n",
            "ut labore et dolore magna aliqua.\n"
          ],
          "name": "stdout"
        }
      ]
    },
    {
      "cell_type": "markdown",
      "metadata": {
        "id": "MLWcRJlT5N5j",
        "colab_type": "text"
      },
      "source": [
        "#Comments"
      ]
    },
    {
      "cell_type": "markdown",
      "metadata": {
        "id": "1H6GtF0_5QS0",
        "colab_type": "text"
      },
      "source": [
        "* Comments can be used to explain Python code.\n",
        "\n",
        "* Comments can be used to make the code more readable.\n",
        "\n",
        "* Comments can be used to prevent execution when testing code."
      ]
    },
    {
      "cell_type": "markdown",
      "metadata": {
        "id": "MMNEp3a95dJd",
        "colab_type": "text"
      },
      "source": [
        "Comments starts with a #, and Python will ignore them:"
      ]
    },
    {
      "cell_type": "code",
      "metadata": {
        "id": "jjYKF38c5ZSa",
        "colab_type": "code",
        "colab": {}
      },
      "source": [
        "#This is a comment\n",
        "print(\"Hello, World!\")"
      ],
      "execution_count": null,
      "outputs": []
    },
    {
      "cell_type": "code",
      "metadata": {
        "id": "bWGsyoom5jfW",
        "colab_type": "code",
        "colab": {}
      },
      "source": [
        "print(\"Hello, World!\") #This is a comment"
      ],
      "execution_count": null,
      "outputs": []
    },
    {
      "cell_type": "markdown",
      "metadata": {
        "id": "i2usAVz25mVL",
        "colab_type": "text"
      },
      "source": [
        "Multi Line Comments\n",
        "Python does not really have a syntax for multi line comments.\n",
        "\n",
        "To add a multiline comment you could insert a # for each line:"
      ]
    },
    {
      "cell_type": "code",
      "metadata": {
        "id": "gxuAzcNp5n9D",
        "colab_type": "code",
        "colab": {}
      },
      "source": [
        "#This is a comment\n",
        "#written in\n",
        "#more than just one line\n",
        "print(\"Hello, World!\")"
      ],
      "execution_count": null,
      "outputs": []
    },
    {
      "cell_type": "markdown",
      "metadata": {
        "id": "nL-qWJSS5tqk",
        "colab_type": "text"
      },
      "source": [
        "Or, not quite as intended, you can use a multiline string.\n",
        "\n",
        "Since Python will ignore string literals that are not assigned to a variable, you can add a multiline string (triple quotes) in your code, and place your comment inside it:"
      ]
    },
    {
      "cell_type": "code",
      "metadata": {
        "id": "LrpGyJkd50P-",
        "colab_type": "code",
        "colab": {}
      },
      "source": [
        "\"\"\"\n",
        "This is a comment\n",
        "written in\n",
        "more than just one line\n",
        "\"\"\"\n",
        "print(\"Hello, World!\")"
      ],
      "execution_count": null,
      "outputs": []
    },
    {
      "cell_type": "markdown",
      "metadata": {
        "id": "h_1qIy9Tz4_f",
        "colab_type": "text"
      },
      "source": [
        "# Operators"
      ]
    },
    {
      "cell_type": "markdown",
      "metadata": {
        "id": "DO9pke4zhNfY",
        "colab_type": "text"
      },
      "source": [
        "Operators are used to perform operations on variables and values.\n",
        "\n",
        "Python divides the operators in the following groups:\n",
        "\n",
        "1. Arithmetic operators\n",
        "2. Assignment operators\n",
        "3. Comparison operators\n",
        "4. Logical operators\n",
        "5. Identity operators\n",
        "6. Membership operators\n",
        "7. Bitwise operators\n"
      ]
    },
    {
      "cell_type": "markdown",
      "metadata": {
        "id": "6fK4-W-DiRKk",
        "colab_type": "text"
      },
      "source": [
        "**Python Arithmetic Operators**\n",
        "* Arithmetic operators are used with numeric values to perform common mathematical operations:"
      ]
    },
    {
      "cell_type": "markdown",
      "metadata": {
        "id": "W_TP9Fdzhvuw",
        "colab_type": "text"
      },
      "source": [
        "![AO.PNG](data:image/png;base64,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)"
      ]
    },
    {
      "cell_type": "markdown",
      "metadata": {
        "id": "bnwaLL2YiXqI",
        "colab_type": "text"
      },
      "source": [
        "**Python Assignment Operators**\n",
        "* Assignment operators are used to assign values to variables:"
      ]
    },
    {
      "cell_type": "markdown",
      "metadata": {
        "id": "RZg4lgWgih0R",
        "colab_type": "text"
      },
      "source": [
        "![oo.PNG](data:image/png;base64,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)"
      ]
    },
    {
      "cell_type": "markdown",
      "metadata": {
        "id": "ffZcJKqVi39n",
        "colab_type": "text"
      },
      "source": [
        "**Python Comparison Operators**\n",
        "* Comparison operators are used to compare two values:"
      ]
    },
    {
      "cell_type": "markdown",
      "metadata": {
        "id": "TnNP9dIii72G",
        "colab_type": "text"
      },
      "source": [
        "![CO.PNG](data:image/png;base64,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)"
      ]
    },
    {
      "cell_type": "markdown",
      "metadata": {
        "id": "Pdmp064XjQV6",
        "colab_type": "text"
      },
      "source": [
        "**Python Logical Operators**\n",
        "* Logical operators are used to combine conditional statements:"
      ]
    },
    {
      "cell_type": "markdown",
      "metadata": {
        "id": "cKSxoLGojaFN",
        "colab_type": "text"
      },
      "source": [
        "![image.png](data:image/png;base64,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)"
      ]
    },
    {
      "cell_type": "markdown",
      "metadata": {
        "id": "POBJTec4jjmy",
        "colab_type": "text"
      },
      "source": [
        "**Python Identity Operators**\n",
        "* Identity operators are used to compare the objects, not if they are equal, but if they are actually the same object, with the same memory location:\n",
        "\n"
      ]
    },
    {
      "cell_type": "markdown",
      "metadata": {
        "id": "OqYc2nN2jvOl",
        "colab_type": "text"
      },
      "source": [
        "![image.png](data:image/png;base64,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)"
      ]
    },
    {
      "cell_type": "code",
      "metadata": {
        "id": "2zdjtDNxz4_f",
        "colab_type": "code",
        "colab": {}
      },
      "source": [
        "%whos"
      ],
      "execution_count": null,
      "outputs": []
    },
    {
      "cell_type": "code",
      "metadata": {
        "id": "RVXVcxXjz4_i",
        "colab_type": "code",
        "colab": {}
      },
      "source": [
        "A= 2\n",
        "B= 3\n",
        "sumOfaAndb = A+B"
      ],
      "execution_count": 95,
      "outputs": []
    },
    {
      "cell_type": "code",
      "metadata": {
        "id": "ZbnXfztiz4_o",
        "colab_type": "code",
        "colab": {}
      },
      "source": [
        "print(sumOfaAndb)"
      ],
      "execution_count": null,
      "outputs": []
    },
    {
      "cell_type": "code",
      "metadata": {
        "id": "aBh0K9Knz4_s",
        "colab_type": "code",
        "colab": {}
      },
      "source": [
        "type(sumOfaAndb)"
      ],
      "execution_count": null,
      "outputs": []
    },
    {
      "cell_type": "code",
      "metadata": {
        "id": "uOm4iUUsz4_w",
        "colab_type": "code",
        "colab": {}
      },
      "source": [
        "type(A+d)"
      ],
      "execution_count": null,
      "outputs": []
    },
    {
      "cell_type": "code",
      "metadata": {
        "id": "wfslRliVz4_0",
        "colab_type": "code",
        "colab": {}
      },
      "source": [
        "v = ((A+d)**3)/4"
      ],
      "execution_count": 101,
      "outputs": []
    },
    {
      "cell_type": "code",
      "metadata": {
        "id": "VZKzDU36z4_2",
        "colab_type": "code",
        "colab": {}
      },
      "source": [
        "print(v)"
      ],
      "execution_count": null,
      "outputs": []
    },
    {
      "cell_type": "code",
      "metadata": {
        "id": "pdPS0ZAfz4_5",
        "colab_type": "code",
        "colab": {}
      },
      "source": [
        "s1 = \"hellow\"\n",
        "s2 = \"world\"\n",
        "s = s1+s2\n",
        "print(s)"
      ],
      "execution_count": null,
      "outputs": []
    },
    {
      "cell_type": "code",
      "metadata": {
        "id": "7Wnrhkwbz4_8",
        "colab_type": "code",
        "colab": {}
      },
      "source": [
        "10//3"
      ],
      "execution_count": null,
      "outputs": []
    },
    {
      "cell_type": "code",
      "metadata": {
        "id": "9EquvwF6z4_-",
        "colab_type": "code",
        "colab": {}
      },
      "source": [
        "10/3"
      ],
      "execution_count": null,
      "outputs": []
    },
    {
      "cell_type": "markdown",
      "metadata": {
        "id": "uCQfc28ImsOy",
        "colab_type": "text"
      },
      "source": [
        "_ returns the value of last executed expression value in Python Prompt/Interpreter"
      ]
    },
    {
      "cell_type": "code",
      "metadata": {
        "id": "9WwKBQ-Lz5AB",
        "colab_type": "code",
        "colab": {}
      },
      "source": [
        "_"
      ],
      "execution_count": null,
      "outputs": []
    },
    {
      "cell_type": "code",
      "metadata": {
        "id": "ZhV44uP0z5AF",
        "colab_type": "code",
        "colab": {}
      },
      "source": [
        "3x = 5"
      ],
      "execution_count": null,
      "outputs": []
    },
    {
      "cell_type": "code",
      "metadata": {
        "id": "WR-XCbUSz5AJ",
        "colab_type": "code",
        "colab": {}
      },
      "source": [
        "@y=4"
      ],
      "execution_count": null,
      "outputs": []
    },
    {
      "cell_type": "code",
      "metadata": {
        "id": "gBuuLUX7z5AN",
        "colab_type": "code",
        "colab": {}
      },
      "source": [
        "*t=4"
      ],
      "execution_count": null,
      "outputs": []
    },
    {
      "cell_type": "code",
      "metadata": {
        "id": "4HJ0r8-0z5AP",
        "colab_type": "code",
        "colab": {}
      },
      "source": [
        "_e = 6"
      ],
      "execution_count": 111,
      "outputs": []
    },
    {
      "cell_type": "code",
      "metadata": {
        "id": "HA8iqrLDz5AR",
        "colab_type": "code",
        "colab": {}
      },
      "source": [
        "startingTimeOfTheCourse = 2.0"
      ],
      "execution_count": 113,
      "outputs": []
    },
    {
      "cell_type": "code",
      "metadata": {
        "id": "ShOa72EYz5AT",
        "colab_type": "code",
        "colab": {}
      },
      "source": [
        "%whos"
      ],
      "execution_count": null,
      "outputs": []
    },
    {
      "cell_type": "markdown",
      "metadata": {
        "id": "FCgcKwv-z5AW",
        "colab_type": "text"
      },
      "source": [
        "# Bool"
      ]
    },
    {
      "cell_type": "code",
      "metadata": {
        "id": "Glo766V3z5AW",
        "colab_type": "code",
        "colab": {}
      },
      "source": [
        "a = True\n",
        "b = True\n",
        "c = False"
      ],
      "execution_count": null,
      "outputs": []
    },
    {
      "cell_type": "code",
      "metadata": {
        "id": "9bFpqWjoz5AY",
        "colab_type": "code",
        "colab": {},
        "outputId": "b16a3e18-7c5e-472a-e939-6405e6bb5da4"
      },
      "source": [
        "%whos"
      ],
      "execution_count": null,
      "outputs": [
        {
          "output_type": "stream",
          "text": [
            "Variable                  Type     Data/Info\n",
            "--------------------------------------------\n",
            "a                         bool     True\n",
            "b                         bool     True\n",
            "c                         bool     False\n",
            "d                         float    7.2\n",
            "f                         int      -3\n",
            "s                         str      hellowworld\n",
            "s1                        str      hellow\n",
            "s2                        str      world\n",
            "startingTimeOfTheCourse   float    2.0\n",
            "sumOfaAndb                int      8\n",
            "v                         float    265.30199999999996\n",
            "x                         float    5.7\n"
          ],
          "name": "stdout"
        }
      ]
    },
    {
      "cell_type": "code",
      "metadata": {
        "id": "tiTbISVmz5Ac",
        "colab_type": "code",
        "colab": {},
        "outputId": "ce830313-0cf7-47fb-8141-95e08ecce85f"
      },
      "source": [
        "print(a and b)\n",
        "print(a and c)\n",
        "print(c and a)"
      ],
      "execution_count": null,
      "outputs": [
        {
          "output_type": "stream",
          "text": [
            "True\n",
            "False\n",
            "False\n"
          ],
          "name": "stdout"
        }
      ]
    },
    {
      "cell_type": "code",
      "metadata": {
        "id": "Xp21wKcSz5Af",
        "colab_type": "code",
        "colab": {},
        "outputId": "54405a51-4ca1-46ef-a840-271f6ea7c4b2"
      },
      "source": [
        "d = a or c\n",
        "print(d)"
      ],
      "execution_count": null,
      "outputs": [
        {
          "output_type": "stream",
          "text": [
            "True\n"
          ],
          "name": "stdout"
        }
      ]
    },
    {
      "cell_type": "code",
      "metadata": {
        "id": "vCEenZZkz5Ai",
        "colab_type": "code",
        "colab": {},
        "outputId": "725c821e-93e9-4068-a980-711f13050b44"
      },
      "source": [
        "not(a)"
      ],
      "execution_count": null,
      "outputs": [
        {
          "output_type": "execute_result",
          "data": {
            "text/plain": [
              "False"
            ]
          },
          "metadata": {
            "tags": []
          },
          "execution_count": 39
        }
      ]
    },
    {
      "cell_type": "code",
      "metadata": {
        "id": "7RoOeOSyz5An",
        "colab_type": "code",
        "colab": {},
        "outputId": "fa0d1df1-cd65-4486-9d76-b953c8f404bb"
      },
      "source": [
        "not(b)"
      ],
      "execution_count": null,
      "outputs": [
        {
          "output_type": "execute_result",
          "data": {
            "text/plain": [
              "False"
            ]
          },
          "metadata": {
            "tags": []
          },
          "execution_count": 40
        }
      ]
    },
    {
      "cell_type": "code",
      "metadata": {
        "id": "cYbjnYhuz5Aq",
        "colab_type": "code",
        "colab": {},
        "outputId": "5dde88c2-6887-4d33-fac1-8820dd8b5885"
      },
      "source": [
        "not(c)"
      ],
      "execution_count": null,
      "outputs": [
        {
          "output_type": "execute_result",
          "data": {
            "text/plain": [
              "True"
            ]
          },
          "metadata": {
            "tags": []
          },
          "execution_count": 41
        }
      ]
    },
    {
      "cell_type": "code",
      "metadata": {
        "id": "y3fTV-9kz5Au",
        "colab_type": "code",
        "colab": {}
      },
      "source": [
        "t = not(d)"
      ],
      "execution_count": null,
      "outputs": []
    },
    {
      "cell_type": "code",
      "metadata": {
        "id": "cFSF4VCXz5Az",
        "colab_type": "code",
        "colab": {},
        "outputId": "9c863ac7-e14b-44cb-bc44-68c3c57c6757"
      },
      "source": [
        "type(t)"
      ],
      "execution_count": null,
      "outputs": [
        {
          "output_type": "execute_result",
          "data": {
            "text/plain": [
              "bool"
            ]
          },
          "metadata": {
            "tags": []
          },
          "execution_count": 43
        }
      ]
    },
    {
      "cell_type": "code",
      "metadata": {
        "id": "78RKyGgsz5A4",
        "colab_type": "code",
        "colab": {},
        "outputId": "c9886f63-3231-481c-d92f-c667571d8c1f"
      },
      "source": [
        "print(t)"
      ],
      "execution_count": null,
      "outputs": [
        {
          "output_type": "stream",
          "text": [
            "False\n"
          ],
          "name": "stdout"
        }
      ]
    },
    {
      "cell_type": "code",
      "metadata": {
        "id": "MovHq-r6z5A6",
        "colab_type": "code",
        "colab": {},
        "outputId": "70ee020c-eb3c-4a51-e951-cc887609e97f"
      },
      "source": [
        "not((a and b) or (c or d))"
      ],
      "execution_count": null,
      "outputs": [
        {
          "output_type": "execute_result",
          "data": {
            "text/plain": [
              "False"
            ]
          },
          "metadata": {
            "tags": []
          },
          "execution_count": 45
        }
      ]
    },
    {
      "cell_type": "markdown",
      "metadata": {
        "id": "cFE4C3hUz5A9",
        "colab_type": "text"
      },
      "source": [
        "# Comparisons "
      ]
    },
    {
      "cell_type": "code",
      "metadata": {
        "id": "5QaLErHOz5A9",
        "colab_type": "code",
        "colab": {},
        "outputId": "8991f34f-d727-4bd6-aa90-d95484cbe714"
      },
      "source": [
        "print(2<3)"
      ],
      "execution_count": null,
      "outputs": [
        {
          "output_type": "stream",
          "text": [
            "True\n"
          ],
          "name": "stdout"
        }
      ]
    },
    {
      "cell_type": "code",
      "metadata": {
        "id": "S7XJda54z5A_",
        "colab_type": "code",
        "colab": {},
        "outputId": "577c00ec-2786-481a-9773-551c19852eda"
      },
      "source": [
        "c = 2<3\n",
        "print(type(c))\n",
        "print(c)"
      ],
      "execution_count": null,
      "outputs": [
        {
          "output_type": "stream",
          "text": [
            "<class 'bool'>\n",
            "True\n"
          ],
          "name": "stdout"
        }
      ]
    },
    {
      "cell_type": "code",
      "metadata": {
        "id": "_hcr--bXz5BB",
        "colab_type": "code",
        "colab": {}
      },
      "source": [
        "d = 3==4"
      ],
      "execution_count": null,
      "outputs": []
    },
    {
      "cell_type": "code",
      "metadata": {
        "id": "m0fUFrtVz5BE",
        "colab_type": "code",
        "colab": {},
        "outputId": "8513ecfc-c0a6-4575-e4e8-8103e78d852d"
      },
      "source": [
        "print(d)"
      ],
      "execution_count": null,
      "outputs": [
        {
          "output_type": "stream",
          "text": [
            "False\n"
          ],
          "name": "stdout"
        }
      ]
    },
    {
      "cell_type": "code",
      "metadata": {
        "id": "PiimCFYiz5BG",
        "colab_type": "code",
        "colab": {},
        "outputId": "b8eed5a6-a47b-4bb2-b27a-ca1f48cff1a2"
      },
      "source": [
        "3==3.0"
      ],
      "execution_count": null,
      "outputs": [
        {
          "output_type": "execute_result",
          "data": {
            "text/plain": [
              "True"
            ]
          },
          "metadata": {
            "tags": []
          },
          "execution_count": 50
        }
      ]
    },
    {
      "cell_type": "code",
      "metadata": {
        "id": "1HLM3c2gz5BO",
        "colab_type": "code",
        "colab": {}
      },
      "source": [
        "x = 4\n",
        "y = 9\n",
        "z = 8.3\n",
        "r = -3"
      ],
      "execution_count": null,
      "outputs": []
    },
    {
      "cell_type": "code",
      "metadata": {
        "id": "DGpD0NNuz5BS",
        "colab_type": "code",
        "colab": {},
        "outputId": "5863fe08-6c08-4083-b680-456a3090fa4b"
      },
      "source": [
        "(x<y) and (z<y) or (r==x)"
      ],
      "execution_count": null,
      "outputs": [
        {
          "output_type": "execute_result",
          "data": {
            "text/plain": [
              "True"
            ]
          },
          "metadata": {
            "tags": []
          },
          "execution_count": 52
        }
      ]
    },
    {
      "cell_type": "code",
      "metadata": {
        "id": "1o9Todavz5BV",
        "colab_type": "code",
        "colab": {},
        "outputId": "d0ccad8b-f1d3-4be4-8076-f91bc4a6d494"
      },
      "source": [
        "(r==x) and (x<y) or (z>y)"
      ],
      "execution_count": null,
      "outputs": [
        {
          "output_type": "execute_result",
          "data": {
            "text/plain": [
              "False"
            ]
          },
          "metadata": {
            "tags": []
          },
          "execution_count": 53
        }
      ]
    },
    {
      "cell_type": "code",
      "metadata": {
        "id": "06P64lU9z5BX",
        "colab_type": "code",
        "colab": {},
        "outputId": "f70861c0-84ee-4776-abd4-844e2ff50cdb"
      },
      "source": [
        "(True or False) and False"
      ],
      "execution_count": null,
      "outputs": [
        {
          "output_type": "execute_result",
          "data": {
            "text/plain": [
              "False"
            ]
          },
          "metadata": {
            "tags": []
          },
          "execution_count": 57
        }
      ]
    },
    {
      "cell_type": "code",
      "metadata": {
        "id": "J7Ji7Is_z5BZ",
        "colab_type": "code",
        "colab": {},
        "outputId": "469ffb30-de20-4158-a2ab-fce1d6433503"
      },
      "source": [
        "print((not(2!=3) and True) or (False and True))"
      ],
      "execution_count": null,
      "outputs": [
        {
          "output_type": "stream",
          "text": [
            "False\n"
          ],
          "name": "stdout"
        }
      ]
    },
    {
      "cell_type": "code",
      "metadata": {
        "id": "xTr7rpOpz5Bd",
        "colab_type": "code",
        "colab": {},
        "outputId": "c1394064-48c0-4bcc-b5aa-a59db9c005c7"
      },
      "source": [
        "print(round(4.556))"
      ],
      "execution_count": null,
      "outputs": [
        {
          "output_type": "stream",
          "text": [
            "5\n"
          ],
          "name": "stdout"
        }
      ]
    },
    {
      "cell_type": "code",
      "metadata": {
        "id": "S6cv7dTvz5Bf",
        "colab_type": "code",
        "colab": {},
        "outputId": "db0ebffd-ede6-47de-eba2-bc16d1ca3e2d"
      },
      "source": [
        "print(round(4.345))"
      ],
      "execution_count": null,
      "outputs": [
        {
          "output_type": "stream",
          "text": [
            "4\n"
          ],
          "name": "stdout"
        }
      ]
    },
    {
      "cell_type": "code",
      "metadata": {
        "id": "29Gl9ImUz5Bj",
        "colab_type": "code",
        "colab": {},
        "outputId": "c6481c96-ba22-455a-bb19-571ef1a2cd0c"
      },
      "source": [
        "print(round(4.556389,3))"
      ],
      "execution_count": null,
      "outputs": [
        {
          "output_type": "stream",
          "text": [
            "4.556\n"
          ],
          "name": "stdout"
        }
      ]
    },
    {
      "cell_type": "code",
      "metadata": {
        "id": "3-O9rcPfz5Bo",
        "colab_type": "code",
        "colab": {}
      },
      "source": [
        "B = divmod(27,5)"
      ],
      "execution_count": null,
      "outputs": []
    },
    {
      "cell_type": "code",
      "metadata": {
        "id": "QNFY3wI7z5Bq",
        "colab_type": "code",
        "colab": {},
        "outputId": "fd54f49a-996b-412a-f433-03673ee39a17"
      },
      "source": [
        "type(B)"
      ],
      "execution_count": null,
      "outputs": [
        {
          "output_type": "execute_result",
          "data": {
            "text/plain": [
              "tuple"
            ]
          },
          "metadata": {
            "tags": []
          },
          "execution_count": 67
        }
      ]
    },
    {
      "cell_type": "code",
      "metadata": {
        "id": "920qfMo0z5Bv",
        "colab_type": "code",
        "colab": {},
        "outputId": "4cefd3ad-bb96-4dd6-a8c2-6a7e24c892d2"
      },
      "source": [
        "print(B)"
      ],
      "execution_count": null,
      "outputs": [
        {
          "output_type": "stream",
          "text": [
            "(5, 2)\n"
          ],
          "name": "stdout"
        }
      ]
    },
    {
      "cell_type": "code",
      "metadata": {
        "id": "bLJDUQkjz5Bx",
        "colab_type": "code",
        "colab": {},
        "outputId": "c2acb331-4b41-451c-c2f0-e7535be2fa67"
      },
      "source": [
        "B[0]"
      ],
      "execution_count": null,
      "outputs": [
        {
          "output_type": "execute_result",
          "data": {
            "text/plain": [
              "5"
            ]
          },
          "metadata": {
            "tags": []
          },
          "execution_count": 69
        }
      ]
    },
    {
      "cell_type": "code",
      "metadata": {
        "id": "cTjFkki_z5By",
        "colab_type": "code",
        "colab": {},
        "outputId": "c67136e5-0750-4db7-8a23-e0cd51f591e2"
      },
      "source": [
        "B[1]"
      ],
      "execution_count": null,
      "outputs": [
        {
          "output_type": "execute_result",
          "data": {
            "text/plain": [
              "2"
            ]
          },
          "metadata": {
            "tags": []
          },
          "execution_count": 70
        }
      ]
    },
    {
      "cell_type": "code",
      "metadata": {
        "id": "pZ1VzICGz5B1",
        "colab_type": "code",
        "colab": {},
        "outputId": "20506e3c-f062-4e08-f7f3-bac0d6dd9f2e"
      },
      "source": [
        "divmod(22,10)"
      ],
      "execution_count": null,
      "outputs": [
        {
          "output_type": "execute_result",
          "data": {
            "text/plain": [
              "(2, 2)"
            ]
          },
          "metadata": {
            "tags": []
          },
          "execution_count": 71
        }
      ]
    },
    {
      "cell_type": "code",
      "metadata": {
        "id": "qRS7F_V8z5B2",
        "colab_type": "code",
        "colab": {}
      },
      "source": [
        "G = divmod(34,9)"
      ],
      "execution_count": null,
      "outputs": []
    },
    {
      "cell_type": "code",
      "metadata": {
        "id": "xyZ45CHAz5B5",
        "colab_type": "code",
        "colab": {},
        "outputId": "f8651142-3374-4618-b1cb-ab29f1a85ef5"
      },
      "source": [
        "type(G)"
      ],
      "execution_count": null,
      "outputs": [
        {
          "output_type": "execute_result",
          "data": {
            "text/plain": [
              "tuple"
            ]
          },
          "metadata": {
            "tags": []
          },
          "execution_count": 74
        }
      ]
    },
    {
      "cell_type": "code",
      "metadata": {
        "id": "y_WxkRpMz5B6",
        "colab_type": "code",
        "colab": {},
        "outputId": "086ca190-96e4-4fc4-c305-019ba14cf315"
      },
      "source": [
        "print(G)"
      ],
      "execution_count": null,
      "outputs": [
        {
          "output_type": "stream",
          "text": [
            "(3, 7)\n"
          ],
          "name": "stdout"
        }
      ]
    },
    {
      "cell_type": "code",
      "metadata": {
        "id": "b9S_rOWfz5B-",
        "colab_type": "code",
        "colab": {},
        "outputId": "48f60b51-3934-472e-cfbd-a0b45f77e914"
      },
      "source": [
        "G[0]"
      ],
      "execution_count": null,
      "outputs": [
        {
          "output_type": "execute_result",
          "data": {
            "text/plain": [
              "3"
            ]
          },
          "metadata": {
            "tags": []
          },
          "execution_count": 76
        }
      ]
    },
    {
      "cell_type": "code",
      "metadata": {
        "id": "5FIvXXoZz5CB",
        "colab_type": "code",
        "colab": {},
        "outputId": "94e037e3-86c6-44b0-ad90-9c1c5e2bc373"
      },
      "source": [
        "G[1]"
      ],
      "execution_count": null,
      "outputs": [
        {
          "output_type": "execute_result",
          "data": {
            "text/plain": [
              "7"
            ]
          },
          "metadata": {
            "tags": []
          },
          "execution_count": 77
        }
      ]
    },
    {
      "cell_type": "code",
      "metadata": {
        "id": "Sa8522LOz5CF",
        "colab_type": "code",
        "colab": {},
        "outputId": "01278203-c85c-4c4d-ddc4-ef253e88dd95"
      },
      "source": [
        "34//9"
      ],
      "execution_count": null,
      "outputs": [
        {
          "output_type": "execute_result",
          "data": {
            "text/plain": [
              "3"
            ]
          },
          "metadata": {
            "tags": []
          },
          "execution_count": 78
        }
      ]
    },
    {
      "cell_type": "code",
      "metadata": {
        "id": "NtX8cvtxz5CH",
        "colab_type": "code",
        "colab": {},
        "outputId": "93652773-3f22-4e8a-b11d-01764267dfbd"
      },
      "source": [
        "34%9"
      ],
      "execution_count": null,
      "outputs": [
        {
          "output_type": "execute_result",
          "data": {
            "text/plain": [
              "7"
            ]
          },
          "metadata": {
            "tags": []
          },
          "execution_count": 79
        }
      ]
    },
    {
      "cell_type": "code",
      "metadata": {
        "id": "RU4s-XTjz5CJ",
        "colab_type": "code",
        "colab": {},
        "outputId": "e87f117d-80b7-4d69-abe4-19943b4cb727"
      },
      "source": [
        "isinstance(3,int)"
      ],
      "execution_count": null,
      "outputs": [
        {
          "output_type": "execute_result",
          "data": {
            "text/plain": [
              "True"
            ]
          },
          "metadata": {
            "tags": []
          },
          "execution_count": 80
        }
      ]
    },
    {
      "cell_type": "code",
      "metadata": {
        "id": "SW5Saiofz5CL",
        "colab_type": "code",
        "colab": {},
        "outputId": "c9df2ee7-bd61-46de-f837-11751dfcd6fd"
      },
      "source": [
        "isinstance(3.4,(float,int))"
      ],
      "execution_count": null,
      "outputs": [
        {
          "output_type": "execute_result",
          "data": {
            "text/plain": [
              "True"
            ]
          },
          "metadata": {
            "tags": []
          },
          "execution_count": 83
        }
      ]
    },
    {
      "cell_type": "code",
      "metadata": {
        "id": "Ud381tFQz5CN",
        "colab_type": "code",
        "colab": {},
        "outputId": "bf5becf7-611d-48f6-fc39-7893d0479aca"
      },
      "source": [
        "isinstance(2+3j,(int,float,str,complex))"
      ],
      "execution_count": null,
      "outputs": [
        {
          "output_type": "execute_result",
          "data": {
            "text/plain": [
              "True"
            ]
          },
          "metadata": {
            "tags": []
          },
          "execution_count": 86
        }
      ]
    },
    {
      "cell_type": "code",
      "metadata": {
        "id": "78WwvjYEz5CQ",
        "colab_type": "code",
        "colab": {},
        "outputId": "319d2fae-ddc3-46c9-cf1f-96fff57508cc"
      },
      "source": [
        "pow(2,4)"
      ],
      "execution_count": null,
      "outputs": [
        {
          "output_type": "execute_result",
          "data": {
            "text/plain": [
              "16"
            ]
          },
          "metadata": {
            "tags": []
          },
          "execution_count": 87
        }
      ]
    },
    {
      "cell_type": "code",
      "metadata": {
        "id": "xoXDvO-rz5CT",
        "colab_type": "code",
        "colab": {},
        "outputId": "0d27d94d-aea1-4cf9-943b-6d99b6a0a15c"
      },
      "source": [
        "2**4"
      ],
      "execution_count": null,
      "outputs": [
        {
          "output_type": "execute_result",
          "data": {
            "text/plain": [
              "16"
            ]
          },
          "metadata": {
            "tags": []
          },
          "execution_count": 88
        }
      ]
    },
    {
      "cell_type": "code",
      "metadata": {
        "id": "s3NHtRImz5CW",
        "colab_type": "code",
        "colab": {},
        "outputId": "01d1144d-326e-4bf2-c4eb-071d47b3071c"
      },
      "source": [
        "pow(2,4,7)"
      ],
      "execution_count": null,
      "outputs": [
        {
          "output_type": "execute_result",
          "data": {
            "text/plain": [
              "2"
            ]
          },
          "metadata": {
            "tags": []
          },
          "execution_count": 89
        }
      ]
    },
    {
      "cell_type": "code",
      "metadata": {
        "id": "mRKXLY40z5CZ",
        "colab_type": "code",
        "colab": {},
        "outputId": "caa2e884-91ff-4c15-ee79-45c7ac7f902d"
      },
      "source": [
        "x = input(\"Enter a number :\")"
      ],
      "execution_count": null,
      "outputs": [
        {
          "output_type": "stream",
          "text": [
            "Enter a number :56\n"
          ],
          "name": "stdout"
        }
      ]
    },
    {
      "cell_type": "code",
      "metadata": {
        "id": "J-bEFmSez5Ca",
        "colab_type": "code",
        "colab": {},
        "outputId": "fd14cc54-529e-433f-cab6-b439945f39e5"
      },
      "source": [
        "type(x)"
      ],
      "execution_count": null,
      "outputs": [
        {
          "output_type": "execute_result",
          "data": {
            "text/plain": [
              "str"
            ]
          },
          "metadata": {
            "tags": []
          },
          "execution_count": 91
        }
      ]
    },
    {
      "cell_type": "code",
      "metadata": {
        "id": "lu3lQEpcz5Cc",
        "colab_type": "code",
        "colab": {}
      },
      "source": [
        "x = int(x)"
      ],
      "execution_count": null,
      "outputs": []
    },
    {
      "cell_type": "code",
      "metadata": {
        "id": "1PF1GvS1z5Ce",
        "colab_type": "code",
        "colab": {},
        "outputId": "5fcc04a4-a622-47af-f616-5cf7e5998aa6"
      },
      "source": [
        "type(x)"
      ],
      "execution_count": null,
      "outputs": [
        {
          "output_type": "execute_result",
          "data": {
            "text/plain": [
              "int"
            ]
          },
          "metadata": {
            "tags": []
          },
          "execution_count": 93
        }
      ]
    },
    {
      "cell_type": "code",
      "metadata": {
        "id": "01kRFJlMz5Cj",
        "colab_type": "code",
        "colab": {},
        "outputId": "9229f9ff-baa6-4977-a9a0-2a8892ace1d5"
      },
      "source": [
        "print(x-34)"
      ],
      "execution_count": null,
      "outputs": [
        {
          "output_type": "stream",
          "text": [
            "22\n"
          ],
          "name": "stdout"
        }
      ]
    },
    {
      "cell_type": "code",
      "metadata": {
        "id": "_OAv8X18z5Cm",
        "colab_type": "code",
        "colab": {},
        "outputId": "020453af-48d5-438d-8ac4-abff06ffe67d"
      },
      "source": [
        "a = float(input(\"Enter a real number :\"))"
      ],
      "execution_count": null,
      "outputs": [
        {
          "output_type": "stream",
          "text": [
            "Enter a real number :12.5\n"
          ],
          "name": "stdout"
        }
      ]
    },
    {
      "cell_type": "code",
      "metadata": {
        "id": "Q30nl1i1z5Cp",
        "colab_type": "code",
        "colab": {},
        "outputId": "a72a28ed-2b63-4a27-b3db-ea76c9614067"
      },
      "source": [
        "type(a)"
      ],
      "execution_count": null,
      "outputs": [
        {
          "output_type": "execute_result",
          "data": {
            "text/plain": [
              "float"
            ]
          },
          "metadata": {
            "tags": []
          },
          "execution_count": 96
        }
      ]
    },
    {
      "cell_type": "code",
      "metadata": {
        "id": "UkokZU4Gz5Cs",
        "colab_type": "code",
        "colab": {},
        "outputId": "6ff77b9a-e455-40ef-dc5b-8ca9576101fc"
      },
      "source": [
        "b = float(input(\"Enter a real number : \"))"
      ],
      "execution_count": null,
      "outputs": [
        {
          "output_type": "stream",
          "text": [
            "Enter a real number : abc\n"
          ],
          "name": "stdout"
        },
        {
          "output_type": "error",
          "ename": "ValueError",
          "evalue": "could not convert string to float: 'abc'",
          "traceback": [
            "\u001b[1;31m---------------------------------------------------------------------------\u001b[0m",
            "\u001b[1;31mValueError\u001b[0m                                Traceback (most recent call last)",
            "\u001b[1;32m<ipython-input-97-5ddd2644c78a>\u001b[0m in \u001b[0;36m<module>\u001b[1;34m\u001b[0m\n\u001b[1;32m----> 1\u001b[1;33m \u001b[0mb\u001b[0m \u001b[1;33m=\u001b[0m \u001b[0mfloat\u001b[0m\u001b[1;33m(\u001b[0m\u001b[0minput\u001b[0m\u001b[1;33m(\u001b[0m\u001b[1;34m\"Enter a real number : \"\u001b[0m\u001b[1;33m)\u001b[0m\u001b[1;33m)\u001b[0m\u001b[1;33m\u001b[0m\u001b[1;33m\u001b[0m\u001b[0m\n\u001b[0m",
            "\u001b[1;31mValueError\u001b[0m: could not convert string to float: 'abc'"
          ]
        }
      ]
    },
    {
      "cell_type": "code",
      "metadata": {
        "id": "-oPBTASEz5Cv",
        "colab_type": "code",
        "colab": {},
        "outputId": "3d90729f-dcd2-4cc7-f458-2014b9c103c5"
      },
      "source": [
        "help(pow)"
      ],
      "execution_count": null,
      "outputs": [
        {
          "output_type": "stream",
          "text": [
            "Help on built-in function pow in module builtins:\n",
            "\n",
            "pow(x, y, z=None, /)\n",
            "    Equivalent to x**y (with two arguments) or x**y % z (with three arguments)\n",
            "    \n",
            "    Some types, such as ints, are able to use a more efficient algorithm when\n",
            "    invoked using the three argument form.\n",
            "\n"
          ],
          "name": "stdout"
        }
      ]
    },
    {
      "cell_type": "code",
      "metadata": {
        "id": "tGCOsQCCz5Cx",
        "colab_type": "code",
        "colab": {},
        "outputId": "53b094de-6c2b-4f5b-aeb1-28b9cdde11ab"
      },
      "source": [
        "help(input)"
      ],
      "execution_count": null,
      "outputs": [
        {
          "output_type": "stream",
          "text": [
            "Help on method raw_input in module ipykernel.kernelbase:\n",
            "\n",
            "raw_input(prompt='') method of ipykernel.ipkernel.IPythonKernel instance\n",
            "    Forward raw_input to frontends\n",
            "    \n",
            "    Raises\n",
            "    ------\n",
            "    StdinNotImplentedError if active frontend doesn't support stdin.\n",
            "\n"
          ],
          "name": "stdout"
        }
      ]
    },
    {
      "cell_type": "code",
      "metadata": {
        "id": "g1TKXBwez5Cy",
        "colab_type": "code",
        "colab": {},
        "outputId": "7a2e61f7-c57f-438a-a420-32aeb89f6d1d"
      },
      "source": [
        "a = int(input())\n",
        "b = int(input())\n",
        "if a>b:\n",
        "    print(a)\n",
        "    print(\"I am still inside if condition\")\n",
        "print(\"I am outside the if condition\")"
      ],
      "execution_count": null,
      "outputs": [
        {
          "output_type": "stream",
          "text": [
            "10\n",
            "45\n",
            "I am outside the if condition\n"
          ],
          "name": "stdout"
        }
      ]
    },
    {
      "cell_type": "code",
      "metadata": {
        "id": "4ukAA03sz5C1",
        "colab_type": "code",
        "colab": {},
        "outputId": "dd3456ab-e0e7-455e-cdd2-6298dff19fc6"
      },
      "source": [
        "a = int(input())\n",
        "b = int(input())\n",
        "if a>b:\n",
        "    print(a)\n",
        "if b>a:\n",
        "    print(b)"
      ],
      "execution_count": null,
      "outputs": [
        {
          "output_type": "stream",
          "text": [
            "22\n",
            "4\n",
            "22\n"
          ],
          "name": "stdout"
        }
      ]
    },
    {
      "cell_type": "code",
      "metadata": {
        "id": "U0X_0d-Kz5C3",
        "colab_type": "code",
        "colab": {},
        "outputId": "44ea7655-2117-4f26-8dcb-17dbe3806037"
      },
      "source": [
        "a = int(input())\n",
        "b = int(input())\n",
        "if a>b:\n",
        "    print(a)\n",
        "    print(\"if part\")\n",
        "else:\n",
        "    print(b)\n",
        "    print(\"else part\")"
      ],
      "execution_count": null,
      "outputs": [
        {
          "output_type": "stream",
          "text": [
            "10\n",
            "10\n",
            "10\n",
            "else part\n"
          ],
          "name": "stdout"
        }
      ]
    },
    {
      "cell_type": "code",
      "metadata": {
        "id": "gW2FIL6Vz5C5",
        "colab_type": "code",
        "colab": {},
        "outputId": "d48b199f-bc76-4279-e9a0-19fd4d5df77f"
      },
      "source": [
        "a = 10\n",
        "b = 10\n",
        "if a==b:\n",
        "    print(\"Equal\")\n",
        "elif a>b:\n",
        "    print(\"A\")\n",
        "else:\n",
        "    print(\"B\")\n",
        "print(\"Not in if\")"
      ],
      "execution_count": null,
      "outputs": [
        {
          "output_type": "stream",
          "text": [
            "Equal\n",
            "Not in if\n"
          ],
          "name": "stdout"
        }
      ]
    },
    {
      "cell_type": "code",
      "metadata": {
        "id": "iGL_TE37z5C8",
        "colab_type": "code",
        "colab": {},
        "outputId": "a33efebc-2149-4aaa-f02f-3fee587a94a3"
      },
      "source": [
        "a = int(input(\"Enter Marks :\"))\n",
        "if a >= 85:\n",
        "    print(\"A Grade\")\n",
        "elif (a < 85) and (a >= 80):\n",
        "    print(\"A- Grade\")\n",
        "elif a < 80 and a >= 75:\n",
        "    print(\"B Grade\")\n",
        "elif a < 75 and a >= 70:\n",
        "    print(\"B- Grade\")\n",
        "else:\n",
        "    print(\"Below Average\")"
      ],
      "execution_count": null,
      "outputs": [
        {
          "output_type": "stream",
          "text": [
            "Enter Marks :64\n",
            "Below Average\n"
          ],
          "name": "stdout"
        }
      ]
    },
    {
      "cell_type": "code",
      "metadata": {
        "id": "OCfyKoftz5C-",
        "colab_type": "code",
        "colab": {},
        "outputId": "9ff5a22f-43a6-40f9-b273-ff1db35296e0"
      },
      "source": [
        "a = 13\n",
        "if a>10:\n",
        "    print(\">10\")\n",
        "elif not(a>10):\n",
        "    print(\"Else part\")"
      ],
      "execution_count": null,
      "outputs": [
        {
          "output_type": "stream",
          "text": [
            ">10\n"
          ],
          "name": "stdout"
        }
      ]
    },
    {
      "cell_type": "code",
      "metadata": {
        "id": "FOdTVDgnz5DB",
        "colab_type": "code",
        "colab": {},
        "outputId": "01f4e085-8fc1-444b-9640-4b0e62614e70"
      },
      "source": [
        "a = int(input())\n",
        "if a>10:\n",
        "    print(\">10\")\n",
        "    print(\"Inside the top if\")\n",
        "    if a>20:\n",
        "        print(\">20\")\n",
        "        print(\"Inside the nested if\")\n",
        "        if a>30:\n",
        "            print(\">30\")\n",
        "            print(\"inside the nested if of nested if\")\n",
        "        else:\n",
        "            print(\"<=30\")\n",
        "            print(\"inside the else part of nested if of nested if\")\n",
        "    else:\n",
        "        print(\"<=20\")\n",
        "        print(\"Inside the else part of nested if\")\n",
        "print(\"Outside all ifs\")"
      ],
      "execution_count": null,
      "outputs": [
        {
          "output_type": "stream",
          "text": [
            "25\n",
            ">10\n",
            "Inside the top if\n",
            ">20\n",
            "Inside the nested if\n",
            "<=30\n",
            "inside the else part of nested if of nested if\n",
            "Outside all ifs\n"
          ],
          "name": "stdout"
        }
      ]
    },
    {
      "cell_type": "code",
      "metadata": {
        "id": "Q1tgIANcz5DC",
        "colab_type": "code",
        "colab": {},
        "outputId": "8fe6db8d-acff-4121-a374-7a02904becc5"
      },
      "source": [
        "# single line comment\n",
        "\"\"\" \n",
        "User will enter a floating point number let say 238.915. Your task\n",
        "is to find out the integer portion before the point (in this case 238)\n",
        "and then check if that integer portion is an even number or not?\n",
        "\"\"\"\n",
        "x = float(input(\"Enter a real number :\"))\n",
        "y = round(x)\n",
        "if x>0:    \n",
        "    if y>x:\n",
        "        intPortion = y-1 # 29.6\n",
        "    else:\n",
        "        intPortion = y\n",
        "else:\n",
        "    if y<x:\n",
        "        intPortion = y+1\n",
        "    else:\n",
        "        intPortion = y\n",
        "\n",
        "if intPortion%2 == 0:\n",
        "    print(\"Even\")\n",
        "else:\n",
        "    print(\"Odd\")"
      ],
      "execution_count": null,
      "outputs": [
        {
          "output_type": "stream",
          "text": [
            "Enter a real number :-87.3\n",
            "Odd\n"
          ],
          "name": "stdout"
        }
      ]
    },
    {
      "cell_type": "code",
      "metadata": {
        "id": "myJTamEVz5DE",
        "colab_type": "code",
        "colab": {},
        "outputId": "b21765b0-0139-4e45-bfea-104242b6d639"
      },
      "source": [
        "round(-9.3)"
      ],
      "execution_count": null,
      "outputs": [
        {
          "output_type": "execute_result",
          "data": {
            "text/plain": [
              "-9"
            ]
          },
          "metadata": {
            "tags": []
          },
          "execution_count": 125
        }
      ]
    },
    {
      "cell_type": "code",
      "metadata": {
        "id": "BqcM42m0z5DK",
        "colab_type": "code",
        "colab": {},
        "outputId": "dceff9af-c44b-4c72-de34-7f32fa91a067"
      },
      "source": [
        "round(-9.6)"
      ],
      "execution_count": null,
      "outputs": [
        {
          "output_type": "execute_result",
          "data": {
            "text/plain": [
              "-10"
            ]
          },
          "metadata": {
            "tags": []
          },
          "execution_count": 126
        }
      ]
    },
    {
      "cell_type": "code",
      "metadata": {
        "id": "y7On9Qpxz5DR",
        "colab_type": "code",
        "colab": {},
        "outputId": "04c6e26b-9804-41e2-cb0d-e88a123e6f42"
      },
      "source": [
        "n = int(input())\n",
        "i = 1\n",
        "while i < n:\n",
        "    print(i**2)\n",
        "    print(\"This is iteration number :\", i)\n",
        "    i+=1 # i = i+1\n",
        "print(\"Loop done\")\n",
        "    "
      ],
      "execution_count": null,
      "outputs": [
        {
          "output_type": "stream",
          "text": [
            "5\n",
            "1\n",
            "This is iteration number : 1\n",
            "4\n",
            "This is iteration number : 2\n",
            "9\n",
            "This is iteration number : 3\n",
            "16\n",
            "This is iteration number : 4\n",
            "Loop done\n"
          ],
          "name": "stdout"
        }
      ]
    },
    {
      "cell_type": "code",
      "metadata": {
        "id": "JJHfANKOz5DV",
        "colab_type": "code",
        "colab": {},
        "outputId": "7fa4e40b-8f49-4da4-ac19-fafb7020c9df"
      },
      "source": [
        "n = 10\n",
        "i = 1\n",
        "while True:\n",
        "    if i%9 == 0:\n",
        "        print(\"Inside if\")\n",
        "        break\n",
        "    else:\n",
        "        print(\"inside Else\")\n",
        "        i = i+1 # i+=1\n",
        "print(\"done\")"
      ],
      "execution_count": null,
      "outputs": [
        {
          "output_type": "stream",
          "text": [
            "inside Else\n",
            "inside Else\n",
            "inside Else\n",
            "inside Else\n",
            "inside Else\n",
            "inside Else\n",
            "inside Else\n",
            "inside Else\n",
            "Inside if\n",
            "done\n"
          ],
          "name": "stdout"
        }
      ]
    },
    {
      "cell_type": "code",
      "metadata": {
        "id": "gtz-a3fbz5DX",
        "colab_type": "code",
        "colab": {},
        "outputId": "db7d7980-7d95-4517-dfe4-bf31216660fd"
      },
      "source": [
        "n = 10\n",
        "i = 1\n",
        "while True:\n",
        "    if i%9 != 0:\n",
        "        print(\"inside if\")\n",
        "        i +=1\n",
        "        continue\n",
        "    print(\"something\")\n",
        "    print(\"somethingelse\")\n",
        "    break\n",
        "    \n",
        "print(\"done\")"
      ],
      "execution_count": null,
      "outputs": [
        {
          "output_type": "stream",
          "text": [
            "inside if\n",
            "inside if\n",
            "inside if\n",
            "inside if\n",
            "inside if\n",
            "inside if\n",
            "inside if\n",
            "inside if\n",
            "something\n",
            "somethingelse\n",
            "done\n"
          ],
          "name": "stdout"
        }
      ]
    },
    {
      "cell_type": "code",
      "metadata": {
        "id": "RyNKPkPKz5DZ",
        "colab_type": "code",
        "colab": {},
        "outputId": "cf6a7902-3735-45ff-b3d3-95645f7fff30"
      },
      "source": [
        "L = []\n",
        "for i in range(1,20,3):\n",
        "    print(i)\n",
        "    L.append(i**2)\n",
        "print(L)"
      ],
      "execution_count": null,
      "outputs": [
        {
          "output_type": "stream",
          "text": [
            "1\n",
            "4\n",
            "7\n",
            "10\n",
            "13\n",
            "16\n",
            "19\n",
            "[1, 16, 49, 100, 169, 256, 361]\n"
          ],
          "name": "stdout"
        }
      ]
    },
    {
      "cell_type": "code",
      "metadata": {
        "id": "v6QuoK-Bz5Da",
        "colab_type": "code",
        "colab": {},
        "outputId": "b10b27df-5284-4259-d10f-15a5f3d846b2"
      },
      "source": [
        "S = {\"apple\",4.9,\"cherry\"}\n",
        "i = 1\n",
        "for x in S:\n",
        "    print(x)\n",
        "    i+=1\n",
        "    if i==3:\n",
        "        break\n",
        "    else:\n",
        "        pass\n",
        "else:\n",
        "    print(\"Loop terminates with success\")\n",
        "print(\"Out side the loop\")"
      ],
      "execution_count": null,
      "outputs": [
        {
          "output_type": "stream",
          "text": [
            "apple\n",
            "4.9\n",
            "Out side the loop\n"
          ],
          "name": "stdout"
        }
      ]
    },
    {
      "cell_type": "code",
      "metadata": {
        "id": "DfJ0GjqAz5Db",
        "colab_type": "code",
        "colab": {},
        "outputId": "918e2d73-1b19-4bb8-bcb1-6a0399254eda"
      },
      "source": [
        "D = {\"A\":10,\"B\":-19,\"C\":\"abc\"}\n",
        "for x in D:\n",
        "    print(x,D[x])"
      ],
      "execution_count": null,
      "outputs": [
        {
          "output_type": "stream",
          "text": [
            "A 10\n",
            "B -19\n",
            "C abc\n"
          ],
          "name": "stdout"
        }
      ]
    },
    {
      "cell_type": "code",
      "metadata": {
        "id": "RbtnImV3z5Dd",
        "colab_type": "code",
        "colab": {},
        "outputId": "1fde6b65-52cd-4b27-db09-ac0bea454bf0"
      },
      "source": [
        "\"\"\" Given a list of numbers i.e. [1,2,4,-5,7,9,3,2], make another list\n",
        "that contains all the items in sorted order from min to max. i.e. your \n",
        "result will be another list like [-5,1,2,2,3,7,9]\n",
        "\"\"\"\n",
        "L = [1,2,4,-5,7,9,3,2]\n",
        "for j in range(len(L)):\n",
        "    m = L[j]\n",
        "    idx = j\n",
        "    c = j\n",
        "    for i in range(j,len(L)):\n",
        "        if L[i]<m:\n",
        "            m = L[i]\n",
        "            idx = c\n",
        "        c+=1    \n",
        "    tmp = L[j]\n",
        "    L[j] = m\n",
        "    L[idx] = tmp\n",
        "print(L)"
      ],
      "execution_count": null,
      "outputs": [
        {
          "output_type": "stream",
          "text": [
            "[-5, 1, 2, 2, 3, 4, 7, 9]\n"
          ],
          "name": "stdout"
        }
      ]
    },
    {
      "cell_type": "code",
      "metadata": {
        "id": "L-65bgHZz5De",
        "colab_type": "code",
        "colab": {},
        "outputId": "d5947ee6-9ba6-4f7d-e100-91b3021b69f0"
      },
      "source": [
        "L"
      ],
      "execution_count": null,
      "outputs": [
        {
          "output_type": "execute_result",
          "data": {
            "text/plain": [
              "[-5, 2, 4, 1, 7, 9, 3, 2]"
            ]
          },
          "metadata": {
            "tags": []
          },
          "execution_count": 147
        }
      ]
    },
    {
      "cell_type": "code",
      "metadata": {
        "id": "Dldhwhvjz5Df",
        "colab_type": "code",
        "colab": {}
      },
      "source": [
        "def printSuccess():\n",
        "    print(\"I am done\")\n",
        "    print(\"send me another task\")"
      ],
      "execution_count": null,
      "outputs": []
    },
    {
      "cell_type": "code",
      "metadata": {
        "id": "TqRqTQeGz5Dg",
        "colab_type": "code",
        "colab": {},
        "outputId": "57503d5b-b3f2-4e59-c691-5315847cfa22"
      },
      "source": [
        "printSuccess()"
      ],
      "execution_count": null,
      "outputs": [
        {
          "output_type": "stream",
          "text": [
            "I am done\n",
            "send me another task\n"
          ],
          "name": "stdout"
        }
      ]
    },
    {
      "cell_type": "code",
      "metadata": {
        "id": "ARZLjjjUz5Dj",
        "colab_type": "code",
        "colab": {},
        "outputId": "a17828ce-1dea-4460-9354-f7bf947af992"
      },
      "source": [
        "3+8"
      ],
      "execution_count": null,
      "outputs": [
        {
          "output_type": "execute_result",
          "data": {
            "text/plain": [
              "11"
            ]
          },
          "metadata": {
            "tags": []
          },
          "execution_count": 3
        }
      ]
    },
    {
      "cell_type": "code",
      "metadata": {
        "id": "2PRhS_6Yz5Dm",
        "colab_type": "code",
        "colab": {},
        "outputId": "6c91b1f2-06e7-4738-c80d-642473a071f0"
      },
      "source": [
        "printSuccess()"
      ],
      "execution_count": null,
      "outputs": [
        {
          "output_type": "stream",
          "text": [
            "I am done\n",
            "send me another task\n"
          ],
          "name": "stdout"
        }
      ]
    },
    {
      "cell_type": "code",
      "metadata": {
        "id": "sphMExfwz5Dn",
        "colab_type": "code",
        "colab": {}
      },
      "source": [
        "def printSuccess2():\n",
        "    \"\"\" This function is doing nothing except printing a message.\n",
        "    That message is \"hellow\"\n",
        "    \"\"\" \n",
        "    print(\"hellow\")"
      ],
      "execution_count": null,
      "outputs": []
    },
    {
      "cell_type": "code",
      "metadata": {
        "id": "yZMDwI5Bz5Do",
        "colab_type": "code",
        "colab": {},
        "outputId": "2d490543-6dec-4249-f388-902285ed3d5f"
      },
      "source": [
        "help(printSuccess2)"
      ],
      "execution_count": null,
      "outputs": [
        {
          "output_type": "stream",
          "text": [
            "Help on function printSuccess2 in module __main__:\n",
            "\n",
            "printSuccess2()\n",
            "    This function is doing nothing except printing a message.\n",
            "    That message is \"hellow\"\n",
            "\n"
          ],
          "name": "stdout"
        }
      ]
    },
    {
      "cell_type": "code",
      "metadata": {
        "id": "MJ7TC0JSz5Dp",
        "colab_type": "code",
        "colab": {},
        "outputId": "aabcd325-35ba-41ae-b0f0-b3b6ae958a77"
      },
      "source": [
        "printSuccess2()"
      ],
      "execution_count": null,
      "outputs": [
        {
          "output_type": "stream",
          "text": [
            "hellow\n"
          ],
          "name": "stdout"
        }
      ]
    },
    {
      "cell_type": "code",
      "metadata": {
        "id": "z38LtHP3z5Du",
        "colab_type": "code",
        "colab": {}
      },
      "source": [
        "def printMsg(msg):\n",
        "    \"\"\" The function prints the message supplied by the user\n",
        "    or prints that msg is not in the form of string\"\"\"\n",
        "    \n",
        "    if isinstance(msg,str):\n",
        "        print(msg)\n",
        "    else:\n",
        "        print(\"Your input argument is not a string\")\n",
        "        print(\"Here is the type of what you have supplied :\",type(msg))"
      ],
      "execution_count": null,
      "outputs": []
    },
    {
      "cell_type": "code",
      "metadata": {
        "id": "BY7aVyIVz5Dv",
        "colab_type": "code",
        "colab": {},
        "outputId": "9b14bb1d-396c-4220-a21e-9588bb268c26"
      },
      "source": [
        "help(printMsg)"
      ],
      "execution_count": null,
      "outputs": [
        {
          "output_type": "stream",
          "text": [
            "Help on function printMsg in module __main__:\n",
            "\n",
            "printMsg(msg)\n",
            "    The function prints the message supplied by the user\n",
            "    or prints that msg is not in the form of string\n",
            "\n"
          ],
          "name": "stdout"
        }
      ]
    },
    {
      "cell_type": "code",
      "metadata": {
        "id": "Pq_GZ6t4z5Dx",
        "colab_type": "code",
        "colab": {}
      },
      "source": [
        "printMsg?"
      ],
      "execution_count": null,
      "outputs": []
    },
    {
      "cell_type": "code",
      "metadata": {
        "id": "JkiV83_Cz5Dz",
        "colab_type": "code",
        "colab": {},
        "outputId": "038c6bda-6fcd-4fc3-934b-d342a60a3824"
      },
      "source": [
        "printMsg(\"This is the message\")"
      ],
      "execution_count": null,
      "outputs": [
        {
          "output_type": "stream",
          "text": [
            "This is the message\n"
          ],
          "name": "stdout"
        }
      ]
    },
    {
      "cell_type": "code",
      "metadata": {
        "id": "aHFJ56hWz5D1",
        "colab_type": "code",
        "colab": {},
        "outputId": "64112dc3-4074-4208-e35e-02f38b58d7ef"
      },
      "source": [
        "printMsg(23)"
      ],
      "execution_count": null,
      "outputs": [
        {
          "output_type": "stream",
          "text": [
            "Your input argument is not a string\n",
            "Here is the type of what you have supplied : <class 'int'>\n"
          ],
          "name": "stdout"
        }
      ]
    },
    {
      "cell_type": "code",
      "metadata": {
        "id": "KffEPheGz5D2",
        "colab_type": "code",
        "colab": {},
        "outputId": "b411d761-2db4-4708-e948-cb19492199d7"
      },
      "source": [
        "y = \"hellow there\"\n",
        "printMsg(y)"
      ],
      "execution_count": null,
      "outputs": [
        {
          "output_type": "stream",
          "text": [
            "hellow there\n"
          ],
          "name": "stdout"
        }
      ]
    },
    {
      "cell_type": "code",
      "metadata": {
        "id": "GhieKXppz5D3",
        "colab_type": "code",
        "colab": {}
      },
      "source": [
        "def mypow(a,b):\n",
        "    \"\"\" this function computes power just like builtin pow function\"\"\"\n",
        "    c = a**b\n",
        "    print(c)"
      ],
      "execution_count": null,
      "outputs": []
    },
    {
      "cell_type": "code",
      "metadata": {
        "id": "Kl5M9vaHz5D4",
        "colab_type": "code",
        "colab": {}
      },
      "source": [
        "mypow?"
      ],
      "execution_count": null,
      "outputs": []
    },
    {
      "cell_type": "code",
      "metadata": {
        "id": "UKh1FpeGz5D5",
        "colab_type": "code",
        "colab": {},
        "outputId": "1fe69700-1df4-4cd5-f4df-29ae41c42d04"
      },
      "source": [
        "mypow(3,4)"
      ],
      "execution_count": null,
      "outputs": [
        {
          "output_type": "stream",
          "text": [
            "81\n"
          ],
          "name": "stdout"
        }
      ]
    },
    {
      "cell_type": "code",
      "metadata": {
        "id": "f-aS0xBIz5D6",
        "colab_type": "code",
        "colab": {}
      },
      "source": [
        "def checkArgs(a,b,c):\n",
        "    if isinstance(a,(int,float)) and isinstance(b,(int,float)) and isinstance(c,(int,float)):\n",
        "        print((a+b+c)**2)\n",
        "    else:\n",
        "        print(\"Error: the input arguements are not of the expected types\")"
      ],
      "execution_count": null,
      "outputs": []
    },
    {
      "cell_type": "code",
      "metadata": {
        "id": "6RxSduemz5D7",
        "colab_type": "code",
        "colab": {},
        "outputId": "f0a37199-d8c3-4746-e721-752d1d82d9de"
      },
      "source": [
        "checkArgs(3,4,5)"
      ],
      "execution_count": null,
      "outputs": [
        {
          "output_type": "stream",
          "text": [
            "144\n"
          ],
          "name": "stdout"
        }
      ]
    },
    {
      "cell_type": "code",
      "metadata": {
        "id": "q_7_3KKHz5D8",
        "colab_type": "code",
        "colab": {},
        "outputId": "b17978fd-3008-489b-8ea9-a28e0df3b759"
      },
      "source": [
        "checkArgs(3,4,\"g\")"
      ],
      "execution_count": null,
      "outputs": [
        {
          "output_type": "stream",
          "text": [
            "Error: the input arguements are not of the expected types\n"
          ],
          "name": "stdout"
        }
      ]
    },
    {
      "cell_type": "code",
      "metadata": {
        "id": "XPT9Qf9_z5D9",
        "colab_type": "code",
        "colab": {},
        "outputId": "14b007d4-3493-468c-fbc6-53eba0962ce8"
      },
      "source": [
        "checkArgs(3,4)"
      ],
      "execution_count": null,
      "outputs": [
        {
          "output_type": "error",
          "ename": "TypeError",
          "evalue": "checkArgs() missing 1 required positional argument: 'c'",
          "traceback": [
            "\u001b[1;31m---------------------------------------------------------------------------\u001b[0m",
            "\u001b[1;31mTypeError\u001b[0m                                 Traceback (most recent call last)",
            "\u001b[1;32m<ipython-input-25-f6f193ef9e63>\u001b[0m in \u001b[0;36m<module>\u001b[1;34m\u001b[0m\n\u001b[1;32m----> 1\u001b[1;33m \u001b[0mcheckArgs\u001b[0m\u001b[1;33m(\u001b[0m\u001b[1;36m3\u001b[0m\u001b[1;33m,\u001b[0m\u001b[1;36m4\u001b[0m\u001b[1;33m)\u001b[0m\u001b[1;33m\u001b[0m\u001b[1;33m\u001b[0m\u001b[0m\n\u001b[0m",
            "\u001b[1;31mTypeError\u001b[0m: checkArgs() missing 1 required positional argument: 'c'"
          ]
        }
      ]
    },
    {
      "cell_type": "code",
      "metadata": {
        "id": "ektvYJybz5EF",
        "colab_type": "code",
        "colab": {},
        "outputId": "73d0c33f-60c9-4585-d4ae-11c3a57ec696"
      },
      "source": [
        "checkArgs(2,3,4,5)"
      ],
      "execution_count": null,
      "outputs": [
        {
          "output_type": "error",
          "ename": "TypeError",
          "evalue": "checkArgs() takes 3 positional arguments but 4 were given",
          "traceback": [
            "\u001b[1;31m---------------------------------------------------------------------------\u001b[0m",
            "\u001b[1;31mTypeError\u001b[0m                                 Traceback (most recent call last)",
            "\u001b[1;32m<ipython-input-26-182e860594b3>\u001b[0m in \u001b[0;36m<module>\u001b[1;34m\u001b[0m\n\u001b[1;32m----> 1\u001b[1;33m \u001b[0mcheckArgs\u001b[0m\u001b[1;33m(\u001b[0m\u001b[1;36m2\u001b[0m\u001b[1;33m,\u001b[0m\u001b[1;36m3\u001b[0m\u001b[1;33m,\u001b[0m\u001b[1;36m4\u001b[0m\u001b[1;33m,\u001b[0m\u001b[1;36m5\u001b[0m\u001b[1;33m)\u001b[0m\u001b[1;33m\u001b[0m\u001b[1;33m\u001b[0m\u001b[0m\n\u001b[0m",
            "\u001b[1;31mTypeError\u001b[0m: checkArgs() takes 3 positional arguments but 4 were given"
          ]
        }
      ]
    },
    {
      "cell_type": "code",
      "metadata": {
        "id": "6J7kx8Wlz5EG",
        "colab_type": "code",
        "colab": {}
      },
      "source": [
        "def f(a,b,c):\n",
        "    print(\"A is :\",a)\n",
        "    print(\"B is :\",b)\n",
        "    print(\"C is :\",c)"
      ],
      "execution_count": null,
      "outputs": []
    },
    {
      "cell_type": "code",
      "metadata": {
        "id": "trxI0avwz5EI",
        "colab_type": "code",
        "colab": {},
        "outputId": "cc1bd3e2-5c0c-49d8-fb92-985e48b6b624"
      },
      "source": [
        "#f(2,3,\"game\")\n",
        "f(3,\"game\",2)"
      ],
      "execution_count": null,
      "outputs": [
        {
          "output_type": "stream",
          "text": [
            "A is : 3\n",
            "B is : game\n",
            "C is : 2\n"
          ],
          "name": "stdout"
        }
      ]
    },
    {
      "cell_type": "code",
      "metadata": {
        "id": "YwgbXhcDz5EJ",
        "colab_type": "code",
        "colab": {},
        "outputId": "92b47ad3-f6e0-4cf8-f005-4e6a78e1616d"
      },
      "source": [
        "#f(a = 2,b=3,c=\"game\")\n",
        "f(c=\"game\",a=2,b=3)"
      ],
      "execution_count": null,
      "outputs": [
        {
          "output_type": "stream",
          "text": [
            "A is : 2\n",
            "B is : 3\n",
            "C is : game\n"
          ],
          "name": "stdout"
        }
      ]
    },
    {
      "cell_type": "code",
      "metadata": {
        "id": "RAlGHwb0z5EL",
        "colab_type": "code",
        "colab": {}
      },
      "source": [
        "def myadd(a,b):\n",
        "    sumValue = a+b\n",
        "    return sumValue"
      ],
      "execution_count": null,
      "outputs": []
    },
    {
      "cell_type": "code",
      "metadata": {
        "id": "mQ1nH-gXz5EN",
        "colab_type": "code",
        "colab": {},
        "outputId": "756f70bd-ffa2-4ce1-80c0-f671019e0fec"
      },
      "source": [
        "d = myadd(2,3)\n",
        "print(d)"
      ],
      "execution_count": null,
      "outputs": [
        {
          "output_type": "stream",
          "text": [
            "5\n"
          ],
          "name": "stdout"
        }
      ]
    },
    {
      "cell_type": "code",
      "metadata": {
        "id": "ZfxZit2az5EP",
        "colab_type": "code",
        "colab": {}
      },
      "source": [
        "variableOutSideTheFunction = 3"
      ],
      "execution_count": null,
      "outputs": []
    },
    {
      "cell_type": "code",
      "metadata": {
        "id": "N2_-bqxFz5ER",
        "colab_type": "code",
        "colab": {}
      },
      "source": [
        "def g():\n",
        "    variableOutSideTheFunction = 5\n",
        "    #print(variableOutSideTheFunction)"
      ],
      "execution_count": null,
      "outputs": []
    },
    {
      "cell_type": "code",
      "metadata": {
        "id": "iJUfzL0Ez5EV",
        "colab_type": "code",
        "colab": {},
        "outputId": "ab7cdedc-bf9d-47f8-e117-2eb0f19f4625"
      },
      "source": [
        "print(type(g()))"
      ],
      "execution_count": null,
      "outputs": [
        {
          "output_type": "stream",
          "text": [
            "<class 'NoneType'>\n"
          ],
          "name": "stdout"
        }
      ]
    },
    {
      "cell_type": "code",
      "metadata": {
        "id": "7BunUaecz5EY",
        "colab_type": "code",
        "colab": {},
        "outputId": "5ac9e6ec-085b-4e6e-db3c-90b51b567ac7"
      },
      "source": [
        "print(variableOutSideTheFunction)"
      ],
      "execution_count": null,
      "outputs": [
        {
          "output_type": "stream",
          "text": [
            "3\n"
          ],
          "name": "stdout"
        }
      ]
    },
    {
      "cell_type": "code",
      "metadata": {
        "id": "OfR9XYJkz5EZ",
        "colab_type": "code",
        "colab": {}
      },
      "source": [
        "def h():\n",
        "    print(\"A\")\n",
        "    a = 3\n",
        "    b = 5\n",
        "    c = a+b\n",
        "    print(\"something\")\n",
        "    return c\n",
        "    print(\"B\")\n",
        "    print(\"C\")"
      ],
      "execution_count": null,
      "outputs": []
    },
    {
      "cell_type": "code",
      "metadata": {
        "id": "VpFFANlUz5Ea",
        "colab_type": "code",
        "colab": {},
        "outputId": "59a8866e-c258-4b33-97c1-c89d0a8ce897"
      },
      "source": [
        "print(type(h()))"
      ],
      "execution_count": null,
      "outputs": [
        {
          "output_type": "stream",
          "text": [
            "A\n",
            "something\n",
            "<class 'int'>\n"
          ],
          "name": "stdout"
        }
      ]
    },
    {
      "cell_type": "code",
      "metadata": {
        "id": "65GIDoGvz5Ec",
        "colab_type": "code",
        "colab": {}
      },
      "source": [
        "def r():\n",
        "    a = 5\n",
        "    b = 7\n",
        "    d = \"something\"\n",
        "    return a,b,d"
      ],
      "execution_count": null,
      "outputs": []
    },
    {
      "cell_type": "code",
      "metadata": {
        "id": "qxIz5Ywdz5Ed",
        "colab_type": "code",
        "colab": {},
        "outputId": "d589ffc9-c30d-4442-d8c4-c3b365e26130"
      },
      "source": [
        "x,y,z = r()\n",
        "print(x,y,z)"
      ],
      "execution_count": null,
      "outputs": [
        {
          "output_type": "stream",
          "text": [
            "5 7 something\n"
          ],
          "name": "stdout"
        }
      ]
    },
    {
      "cell_type": "code",
      "metadata": {
        "id": "OnPGBdowz5Ee",
        "colab_type": "code",
        "colab": {}
      },
      "source": [
        "def myAddUniversal(*args):\n",
        "    s = 0\n",
        "    for i in range(len(args)):\n",
        "        s += args[i] # s = s+args[i]\n",
        "    return s"
      ],
      "execution_count": null,
      "outputs": []
    },
    {
      "cell_type": "code",
      "metadata": {
        "id": "14I7G6msz5Eg",
        "colab_type": "code",
        "colab": {},
        "outputId": "46e5adc9-6f38-4850-f209-404b282c1a8e"
      },
      "source": [
        "print(myAddUniversal(2,4,5,4.6,78))"
      ],
      "execution_count": null,
      "outputs": [
        {
          "output_type": "stream",
          "text": [
            "93.6\n"
          ],
          "name": "stdout"
        }
      ]
    },
    {
      "cell_type": "code",
      "metadata": {
        "id": "el4blqZBz5Ei",
        "colab_type": "code",
        "colab": {}
      },
      "source": [
        "def printAllVariableNamesAndValues(**args):\n",
        "    for x in args:\n",
        "        print(\"Variable Name is :\",x,\" And Value is :\",args[x])"
      ],
      "execution_count": null,
      "outputs": []
    },
    {
      "cell_type": "code",
      "metadata": {
        "id": "2S1fVt29z5Ek",
        "colab_type": "code",
        "colab": {},
        "outputId": "42cf59cf-8b90-413e-8387-453658be3433"
      },
      "source": [
        "printAllVariableNamesAndValues(a = 3,b=\"B\",c=\"CCC\",y=6.7)"
      ],
      "execution_count": null,
      "outputs": [
        {
          "output_type": "stream",
          "text": [
            "Variable Name is : a  And Value is : 3\n",
            "Variable Name is : b  And Value is : B\n",
            "Variable Name is : c  And Value is : CCC\n",
            "Variable Name is : y  And Value is : 6.7\n"
          ],
          "name": "stdout"
        }
      ]
    },
    {
      "cell_type": "code",
      "metadata": {
        "id": "uGSaYuGNz5Em",
        "colab_type": "code",
        "colab": {}
      },
      "source": [
        "def gg(s=4):\n",
        "    print(s)"
      ],
      "execution_count": null,
      "outputs": []
    },
    {
      "cell_type": "code",
      "metadata": {
        "id": "0u6f48nPz5Eo",
        "colab_type": "code",
        "colab": {},
        "outputId": "21c412c6-a70a-4c20-c918-1b43ec49c8eb"
      },
      "source": [
        "gg()"
      ],
      "execution_count": null,
      "outputs": [
        {
          "output_type": "stream",
          "text": [
            "4\n"
          ],
          "name": "stdout"
        }
      ]
    },
    {
      "cell_type": "code",
      "metadata": {
        "id": "wL0dyJy2z5Ep",
        "colab_type": "code",
        "colab": {},
        "outputId": "4972c202-b07c-466a-80e3-0d77ccf8ba62"
      },
      "source": [
        "gg(56)"
      ],
      "execution_count": null,
      "outputs": [
        {
          "output_type": "stream",
          "text": [
            "56\n"
          ],
          "name": "stdout"
        }
      ]
    },
    {
      "cell_type": "code",
      "metadata": {
        "id": "9VCy3ouHz5Er",
        "colab_type": "code",
        "colab": {},
        "outputId": "2ceb47d8-ce9a-4fb2-d027-7b8f73852aba"
      },
      "source": [
        "L = [1,2,3]\n",
        "L2 = L\n",
        "L2[0] = -9\n",
        "print(L)"
      ],
      "execution_count": null,
      "outputs": [
        {
          "output_type": "stream",
          "text": [
            "[-9, 2, 3]\n"
          ],
          "name": "stdout"
        }
      ]
    },
    {
      "cell_type": "code",
      "metadata": {
        "id": "2Q91aMvLz5Ew",
        "colab_type": "code",
        "colab": {}
      },
      "source": [
        "def ff(L=[1,2]):\n",
        "    for i in L:\n",
        "        print(i)"
      ],
      "execution_count": null,
      "outputs": []
    },
    {
      "cell_type": "code",
      "metadata": {
        "id": "EOxYb9Flz5Ey",
        "colab_type": "code",
        "colab": {},
        "outputId": "a441d0c4-ab28-4473-ee7e-f0cb327f7767"
      },
      "source": [
        "L2 = [12,3,4]\n",
        "ff()"
      ],
      "execution_count": null,
      "outputs": [
        {
          "output_type": "stream",
          "text": [
            "1\n",
            "2\n"
          ],
          "name": "stdout"
        }
      ]
    },
    {
      "cell_type": "code",
      "metadata": {
        "id": "y8jcAUgJz5E3",
        "colab_type": "code",
        "colab": {},
        "outputId": "de0b6f48-73ce-4dc9-82fd-61e070da5023"
      },
      "source": [
        "ff(L2)"
      ],
      "execution_count": null,
      "outputs": [
        {
          "output_type": "stream",
          "text": [
            "12\n",
            "3\n",
            "4\n"
          ],
          "name": "stdout"
        }
      ]
    },
    {
      "cell_type": "code",
      "metadata": {
        "id": "gRKBBgBVz5E6",
        "colab_type": "code",
        "colab": {},
        "outputId": "19920230-a8c2-4be0-8bfd-3bbe36ff13c2"
      },
      "source": [
        "ff()"
      ],
      "execution_count": null,
      "outputs": [
        {
          "output_type": "stream",
          "text": [
            "1\n",
            "2\n"
          ],
          "name": "stdout"
        }
      ]
    },
    {
      "cell_type": "code",
      "metadata": {
        "id": "sAn1SYwgz5E7",
        "colab_type": "code",
        "colab": {}
      },
      "source": [
        "import sys\n",
        "sys.path.append('C:/ABC/')"
      ],
      "execution_count": null,
      "outputs": []
    },
    {
      "cell_type": "code",
      "metadata": {
        "id": "knoZJDZmz5E8",
        "colab_type": "code",
        "colab": {}
      },
      "source": [
        "import my_universal_functions as myfs\n",
        "#from my_universal_functions import addAllNumerics"
      ],
      "execution_count": null,
      "outputs": []
    },
    {
      "cell_type": "code",
      "metadata": {
        "id": "jzNyCBmlz5E-",
        "colab_type": "code",
        "colab": {},
        "outputId": "9fd07cca-0296-4e4c-94ec-485610b18410"
      },
      "source": [
        "d = addAllNumerics(2,3,4,5,6,7)\n",
        "print(d)"
      ],
      "execution_count": null,
      "outputs": [
        {
          "output_type": "stream",
          "text": [
            "27\n"
          ],
          "name": "stdout"
        }
      ]
    },
    {
      "cell_type": "code",
      "metadata": {
        "id": "B8qY8Hesz5FC",
        "colab_type": "code",
        "colab": {}
      },
      "source": [
        "c = myfs.addAllNumerics(2,3,4,6)"
      ],
      "execution_count": null,
      "outputs": []
    },
    {
      "cell_type": "code",
      "metadata": {
        "id": "EITs0pL5z5FD",
        "colab_type": "code",
        "colab": {},
        "outputId": "983f4e7f-c251-4fcb-a312-d85f7d45d152"
      },
      "source": [
        "print(c)"
      ],
      "execution_count": null,
      "outputs": [
        {
          "output_type": "stream",
          "text": [
            "15\n"
          ],
          "name": "stdout"
        }
      ]
    },
    {
      "cell_type": "code",
      "metadata": {
        "id": "496cVpZ_z5FE",
        "colab_type": "code",
        "colab": {},
        "outputId": "f1136506-ebdb-45a7-bf4b-c87fc2c18fdf"
      },
      "source": [
        "myfs.myName"
      ],
      "execution_count": null,
      "outputs": [
        {
          "output_type": "execute_result",
          "data": {
            "text/plain": [
              "'Python Course'"
            ]
          },
          "metadata": {
            "tags": []
          },
          "execution_count": 78
        }
      ]
    },
    {
      "cell_type": "code",
      "metadata": {
        "id": "eJ8xNbWIz5FG",
        "colab_type": "code",
        "colab": {},
        "outputId": "46783be6-e4b7-45cf-c1aa-d677bf312936"
      },
      "source": [
        "\"\"\" Given a list of numbers i.e. [1,2,4,-5,7,9,3,2], make another list\n",
        "that contains all the items in sorted order from min to max. i.e. your \n",
        "result will be another list like [-5,1,2,2,3,7,9]\n",
        "\"\"\""
      ],
      "execution_count": null,
      "outputs": [
        {
          "output_type": "execute_result",
          "data": {
            "text/plain": [
              "' Given a list of numbers i.e. [1,2,4,-5,7,9,3,2], make another list\\nthat contains all the items in sorted order from min to max. i.e. your \\nresult will be another list like [-5,1,2,2,3,7,9]\\n'"
            ]
          },
          "metadata": {
            "tags": []
          },
          "execution_count": 79
        }
      ]
    },
    {
      "cell_type": "code",
      "metadata": {
        "id": "vhUe5ZEEz5FG",
        "colab_type": "code",
        "colab": {}
      },
      "source": [
        "def findMin(L,startIndx):\n",
        "    m = L[startIndx]\n",
        "    idx = startIndx    \n",
        "    for i in range(startIndx,len(L)):\n",
        "        x = L[i]\n",
        "        if x<m:\n",
        "            m = x\n",
        "            idx = i\n",
        "        else:\n",
        "            pass                \n",
        "    return m,idx"
      ],
      "execution_count": null,
      "outputs": []
    },
    {
      "cell_type": "code",
      "metadata": {
        "id": "hvG2Vdcjz5FH",
        "colab_type": "code",
        "colab": {}
      },
      "source": [
        "a,b = findMin([2,3,4,0,9])"
      ],
      "execution_count": null,
      "outputs": []
    },
    {
      "cell_type": "code",
      "metadata": {
        "id": "5tEWJk9_z5FI",
        "colab_type": "code",
        "colab": {},
        "outputId": "ee1a7bbd-d340-4813-879e-0b211c0248fb"
      },
      "source": [
        "print(a,b)"
      ],
      "execution_count": null,
      "outputs": [
        {
          "output_type": "stream",
          "text": [
            "0 3\n"
          ],
          "name": "stdout"
        }
      ]
    },
    {
      "cell_type": "code",
      "metadata": {
        "id": "Ruy0vgnIz5FK",
        "colab_type": "code",
        "colab": {}
      },
      "source": [
        "def swapValues(L,idx1,idx2):\n",
        "    tmp = L[idx1]\n",
        "    L[idx1] = L[idx2]\n",
        "    L[idx2] = tmp\n",
        "    return L"
      ],
      "execution_count": null,
      "outputs": []
    },
    {
      "cell_type": "code",
      "metadata": {
        "id": "7ELC0D41z5FL",
        "colab_type": "code",
        "colab": {},
        "outputId": "79b34914-ae7c-48f2-db22-a98657905dcb"
      },
      "source": [
        "L = [2,3,6,7]\n",
        "L2 = swapValues(L,1,3)\n",
        "print(L2)"
      ],
      "execution_count": null,
      "outputs": [
        {
          "output_type": "stream",
          "text": [
            "[2, 7, 6, 3]\n"
          ],
          "name": "stdout"
        }
      ]
    },
    {
      "cell_type": "code",
      "metadata": {
        "id": "vOsYZzm-z5FM",
        "colab_type": "code",
        "colab": {}
      },
      "source": [
        "from my_universal_functions import checkIfNotNumeric\n",
        "def sortList(L):\n",
        "    if not(checkIfNotNumeric2(L)):\n",
        "        print(\"Error: List does not contain numeric values\")\n",
        "        return\n",
        "    else:\n",
        "        c = 0\n",
        "        for x in L:\n",
        "            m,idx = findMin(L,c)\n",
        "            L = swapValues(L,c,idx)\n",
        "            c+=1\n",
        "    return L"
      ],
      "execution_count": null,
      "outputs": []
    },
    {
      "cell_type": "code",
      "metadata": {
        "id": "bS6jjWWkz5FN",
        "colab_type": "code",
        "colab": {},
        "outputId": "fc1953ad-5f63-45d5-a5c3-62c3d3fe2161"
      },
      "source": [
        "L2 = sortList([2,1,5,3,-8,17])\n",
        "print(L2)"
      ],
      "execution_count": null,
      "outputs": [
        {
          "output_type": "stream",
          "text": [
            "[-8, 1, 2, 3, 5, 17]\n"
          ],
          "name": "stdout"
        }
      ]
    },
    {
      "cell_type": "code",
      "metadata": {
        "id": "gZVnNiINz5FO",
        "colab_type": "code",
        "colab": {}
      },
      "source": [
        "checkIfNotNumeric??"
      ],
      "execution_count": null,
      "outputs": []
    },
    {
      "cell_type": "code",
      "metadata": {
        "id": "7DXE-68Gz5FP",
        "colab_type": "code",
        "colab": {},
        "outputId": "a85261dd-134f-4834-bde0-44122d368766"
      },
      "source": [
        "print(checkIfNotNumeric2([2,1,5,3,8,17]))"
      ],
      "execution_count": null,
      "outputs": [
        {
          "output_type": "stream",
          "text": [
            "True\n"
          ],
          "name": "stdout"
        }
      ]
    },
    {
      "cell_type": "code",
      "metadata": {
        "id": "E_wPeZNwz5FR",
        "colab_type": "code",
        "colab": {}
      },
      "source": [
        "def checkIfNotNumeric2(L):    \n",
        "    for x in L:\n",
        "        if not(isinstance(x,(int,float))):\n",
        "            return False\n",
        "    return True"
      ],
      "execution_count": null,
      "outputs": []
    },
    {
      "cell_type": "code",
      "metadata": {
        "id": "H5qxXTMez5FS",
        "colab_type": "code",
        "colab": {}
      },
      "source": [
        "s = \"Python is a good language\"\n",
        "t = 'Its good for data science'"
      ],
      "execution_count": null,
      "outputs": []
    },
    {
      "cell_type": "code",
      "metadata": {
        "id": "25ic4Btjz5FT",
        "colab_type": "code",
        "colab": {},
        "outputId": "fd2a01f4-ca7f-4794-c190-57d90877f276"
      },
      "source": [
        "type(s)"
      ],
      "execution_count": null,
      "outputs": [
        {
          "output_type": "execute_result",
          "data": {
            "text/plain": [
              "str"
            ]
          },
          "metadata": {
            "tags": []
          },
          "execution_count": 109
        }
      ]
    },
    {
      "cell_type": "code",
      "metadata": {
        "id": "hAyGY2xSz5FU",
        "colab_type": "code",
        "colab": {},
        "outputId": "f28f4a84-fee0-4bf1-f910-13bfed1f54ab"
      },
      "source": [
        "print(s)"
      ],
      "execution_count": null,
      "outputs": [
        {
          "output_type": "stream",
          "text": [
            "Python is a good language\n"
          ],
          "name": "stdout"
        }
      ]
    },
    {
      "cell_type": "code",
      "metadata": {
        "id": "BgJf5gZvz5FV",
        "colab_type": "code",
        "colab": {},
        "outputId": "fefa65a0-5def-4ee7-c636-2344fc6f6e52"
      },
      "source": [
        "print(\"hellow\",12,\"hellow2\",'who are you',5.9)"
      ],
      "execution_count": null,
      "outputs": [
        {
          "output_type": "stream",
          "text": [
            "hellow 12 hellow2 who are you 5.9\n"
          ],
          "name": "stdout"
        }
      ]
    },
    {
      "cell_type": "code",
      "metadata": {
        "id": "UJYWtnbzz5FZ",
        "colab_type": "code",
        "colab": {},
        "outputId": "45e3f259-3d58-438f-b1f2-fb620e6d1e08"
      },
      "source": [
        "v = s+\" \"+t\n",
        "print(v)"
      ],
      "execution_count": null,
      "outputs": [
        {
          "output_type": "stream",
          "text": [
            "Python is a good language Its good for data science\n"
          ],
          "name": "stdout"
        }
      ]
    },
    {
      "cell_type": "code",
      "metadata": {
        "id": "dG5RdP7Nz5Fa",
        "colab_type": "code",
        "colab": {},
        "outputId": "4fab3be7-d9a3-4243-eecf-d10844e6cd7a"
      },
      "source": [
        "price = 12\n",
        "s = \"The price of this book\"\n",
        "v = s + ' is: ' + str(price)\n",
        "print(v)\n",
        "print(s,\"is:\",price)"
      ],
      "execution_count": null,
      "outputs": [
        {
          "output_type": "stream",
          "text": [
            "The price of this book is: 12\n",
            "The price of this book is: 12\n"
          ],
          "name": "stdout"
        }
      ]
    },
    {
      "cell_type": "code",
      "metadata": {
        "id": "0HXlICo8z5Fb",
        "colab_type": "code",
        "colab": {},
        "outputId": "ef965195-afae-4608-d937-5c13b7666b29"
      },
      "source": [
        "a = \"\"\"this is line 1\n",
        "this is line 2\n",
        "this is last line and this line is 3\"\"\"\n",
        "print(a)"
      ],
      "execution_count": null,
      "outputs": [
        {
          "output_type": "stream",
          "text": [
            "this is line 1\n",
            "this is line 2\n",
            "this is last line and this line is 3\n"
          ],
          "name": "stdout"
        }
      ]
    },
    {
      "cell_type": "code",
      "metadata": {
        "id": "pHxXXnBaz5Fd",
        "colab_type": "code",
        "colab": {},
        "outputId": "9b0c3218-d709-498a-b9c7-84abca5bcc39"
      },
      "source": [
        "print(\"\"\" The following options are available:\n",
        "            -a       : does nothing\n",
        "            -b       : also does nothing\n",
        "\"\"\")"
      ],
      "execution_count": null,
      "outputs": [
        {
          "output_type": "stream",
          "text": [
            " The following options are available:\n",
            "            -a       : does nothing\n",
            "            -b       : also does nothing\n",
            "\n"
          ],
          "name": "stdout"
        }
      ]
    },
    {
      "cell_type": "code",
      "metadata": {
        "id": "0mOJDapDz5Fe",
        "colab_type": "code",
        "colab": {},
        "outputId": "a767bae2-ad5b-44d6-d6a4-6db22da47063"
      },
      "source": [
        "s = \"How are you and who are you\"\n",
        "print(s[5])"
      ],
      "execution_count": null,
      "outputs": [
        {
          "output_type": "stream",
          "text": [
            "r\n"
          ],
          "name": "stdout"
        }
      ]
    },
    {
      "cell_type": "code",
      "metadata": {
        "id": "JQpMxs4fz5Fj",
        "colab_type": "code",
        "colab": {},
        "outputId": "d832e4f8-a113-4b53-ab07-50490be7baa9"
      },
      "source": [
        "type(s[5])"
      ],
      "execution_count": null,
      "outputs": [
        {
          "output_type": "execute_result",
          "data": {
            "text/plain": [
              "str"
            ]
          },
          "metadata": {
            "tags": []
          },
          "execution_count": 122
        }
      ]
    },
    {
      "cell_type": "code",
      "metadata": {
        "id": "IJUAJW8az5Fl",
        "colab_type": "code",
        "colab": {},
        "outputId": "1cd5ced0-9e8a-4888-8811-571945d2bcb6"
      },
      "source": [
        "s[0:10]"
      ],
      "execution_count": null,
      "outputs": [
        {
          "output_type": "execute_result",
          "data": {
            "text/plain": [
              "'How are yo'"
            ]
          },
          "metadata": {
            "tags": []
          },
          "execution_count": 125
        }
      ]
    },
    {
      "cell_type": "code",
      "metadata": {
        "id": "EZvrO6v5z5Fp",
        "colab_type": "code",
        "colab": {},
        "outputId": "d8b48734-84ba-49d6-e590-c4e1f975c02c"
      },
      "source": [
        "s[-1]"
      ],
      "execution_count": null,
      "outputs": [
        {
          "output_type": "execute_result",
          "data": {
            "text/plain": [
              "'u'"
            ]
          },
          "metadata": {
            "tags": []
          },
          "execution_count": 126
        }
      ]
    },
    {
      "cell_type": "code",
      "metadata": {
        "id": "ND6m5UjYz5Fv",
        "colab_type": "code",
        "colab": {},
        "outputId": "0f5e3705-bf66-4c0e-b6bb-b091ffa73b3b"
      },
      "source": [
        "s[-3]"
      ],
      "execution_count": null,
      "outputs": [
        {
          "output_type": "execute_result",
          "data": {
            "text/plain": [
              "'y'"
            ]
          },
          "metadata": {
            "tags": []
          },
          "execution_count": 127
        }
      ]
    },
    {
      "cell_type": "code",
      "metadata": {
        "id": "KflX31fpz5Fy",
        "colab_type": "code",
        "colab": {},
        "outputId": "58ebe63f-9ea1-48ca-c849-8feeb654cdcc"
      },
      "source": [
        "s[-12:-3]"
      ],
      "execution_count": null,
      "outputs": [
        {
          "output_type": "execute_result",
          "data": {
            "text/plain": [
              "' who are '"
            ]
          },
          "metadata": {
            "tags": []
          },
          "execution_count": 129
        }
      ]
    },
    {
      "cell_type": "code",
      "metadata": {
        "id": "U6jvykzpz5F2",
        "colab_type": "code",
        "colab": {},
        "outputId": "31d14023-76e8-4646-81b1-5531fb90a072"
      },
      "source": [
        "s[1] = \"e\""
      ],
      "execution_count": null,
      "outputs": [
        {
          "output_type": "error",
          "ename": "TypeError",
          "evalue": "'str' object does not support item assignment",
          "traceback": [
            "\u001b[1;31m---------------------------------------------------------------------------\u001b[0m",
            "\u001b[1;31mTypeError\u001b[0m                                 Traceback (most recent call last)",
            "\u001b[1;32m<ipython-input-130-6ca1c1f7962b>\u001b[0m in \u001b[0;36m<module>\u001b[1;34m\u001b[0m\n\u001b[1;32m----> 1\u001b[1;33m \u001b[0ms\u001b[0m\u001b[1;33m[\u001b[0m\u001b[1;36m1\u001b[0m\u001b[1;33m]\u001b[0m \u001b[1;33m=\u001b[0m \u001b[1;34m\"e\"\u001b[0m\u001b[1;33m\u001b[0m\u001b[1;33m\u001b[0m\u001b[0m\n\u001b[0m",
            "\u001b[1;31mTypeError\u001b[0m: 'str' object does not support item assignment"
          ]
        }
      ]
    },
    {
      "cell_type": "code",
      "metadata": {
        "id": "xaIBwucHz5F7",
        "colab_type": "code",
        "colab": {},
        "outputId": "b61addbc-8332-4121-fd92-d95df82c3936"
      },
      "source": [
        "s[0:12:2]"
      ],
      "execution_count": null,
      "outputs": [
        {
          "output_type": "execute_result",
          "data": {
            "text/plain": [
              "'Hwaeyu'"
            ]
          },
          "metadata": {
            "tags": []
          },
          "execution_count": 131
        }
      ]
    },
    {
      "cell_type": "code",
      "metadata": {
        "id": "2KJhAkgCz5F8",
        "colab_type": "code",
        "colab": {},
        "outputId": "37890f74-3ba6-4e22-dbea-7200e2088794"
      },
      "source": [
        "s"
      ],
      "execution_count": null,
      "outputs": [
        {
          "output_type": "execute_result",
          "data": {
            "text/plain": [
              "'How are you and who are you'"
            ]
          },
          "metadata": {
            "tags": []
          },
          "execution_count": 132
        }
      ]
    },
    {
      "cell_type": "code",
      "metadata": {
        "id": "bFIp1eVlz5F_",
        "colab_type": "code",
        "colab": {},
        "outputId": "55b9690e-dbc3-465c-fe2d-55fc25ac54a0"
      },
      "source": [
        "#s[start:end:step]\n",
        "s[:12]"
      ],
      "execution_count": null,
      "outputs": [
        {
          "output_type": "execute_result",
          "data": {
            "text/plain": [
              "'How are you '"
            ]
          },
          "metadata": {
            "tags": []
          },
          "execution_count": 133
        }
      ]
    },
    {
      "cell_type": "code",
      "metadata": {
        "id": "YkKh2ShZz5GA",
        "colab_type": "code",
        "colab": {},
        "outputId": "8bec7ba0-9cdb-42a4-ff4e-de6f4d2f60c1"
      },
      "source": [
        "s[3:]"
      ],
      "execution_count": null,
      "outputs": [
        {
          "output_type": "execute_result",
          "data": {
            "text/plain": [
              "' are you and who are you'"
            ]
          },
          "metadata": {
            "tags": []
          },
          "execution_count": 134
        }
      ]
    },
    {
      "cell_type": "code",
      "metadata": {
        "id": "JcylQFRCz5GB",
        "colab_type": "code",
        "colab": {},
        "outputId": "258cfdb2-8550-4de4-c980-2affda12f687"
      },
      "source": [
        "s[1:12]"
      ],
      "execution_count": null,
      "outputs": [
        {
          "output_type": "execute_result",
          "data": {
            "text/plain": [
              "'ow are you '"
            ]
          },
          "metadata": {
            "tags": []
          },
          "execution_count": 135
        }
      ]
    },
    {
      "cell_type": "code",
      "metadata": {
        "id": "ng1-psVez5GC",
        "colab_type": "code",
        "colab": {},
        "outputId": "14d5cab7-4d9c-4685-82ec-27a61fd9d2dd"
      },
      "source": [
        "s[::-1]"
      ],
      "execution_count": null,
      "outputs": [
        {
          "output_type": "execute_result",
          "data": {
            "text/plain": [
              "'uoy era ohw dna uoy era woH'"
            ]
          },
          "metadata": {
            "tags": []
          },
          "execution_count": 136
        }
      ]
    },
    {
      "cell_type": "code",
      "metadata": {
        "id": "fEL-qZp1z5GD",
        "colab_type": "code",
        "colab": {},
        "outputId": "74f77033-264e-434b-eb59-19cd1b79bbe9"
      },
      "source": [
        "a = \"    abc def     hgq asdfaf     \"\n",
        "b = a.strip()\n",
        "print(b)"
      ],
      "execution_count": null,
      "outputs": [
        {
          "output_type": "stream",
          "text": [
            "abc def     hgq asdfaf\n"
          ],
          "name": "stdout"
        }
      ]
    },
    {
      "cell_type": "code",
      "metadata": {
        "id": "M3dMiRVlz5GG",
        "colab_type": "code",
        "colab": {},
        "outputId": "283f97cb-863d-47d6-abf6-cfc55eab2c32"
      },
      "source": [
        "a = \"ABC deFg ;; sadfa QF\"\n",
        "b = a.lower()\n",
        "print(b)"
      ],
      "execution_count": null,
      "outputs": [
        {
          "output_type": "stream",
          "text": [
            "abc defg ;; sadfa qf\n"
          ],
          "name": "stdout"
        }
      ]
    },
    {
      "cell_type": "code",
      "metadata": {
        "id": "OnB3uMH9z5GJ",
        "colab_type": "code",
        "colab": {},
        "outputId": "397a811f-0138-4165-8c97-b1627a0ab88a"
      },
      "source": [
        "c = a.upper()\n",
        "print(c)"
      ],
      "execution_count": null,
      "outputs": [
        {
          "output_type": "stream",
          "text": [
            "ABC DEFG ;; SADFA QF\n"
          ],
          "name": "stdout"
        }
      ]
    },
    {
      "cell_type": "code",
      "metadata": {
        "id": "DfpNtyrEz5GK",
        "colab_type": "code",
        "colab": {},
        "outputId": "f167663b-31fe-4865-9d60-5b0bf174e8ed"
      },
      "source": [
        "d = a.replace(\";\",\"*\")\n",
        "print(d)"
      ],
      "execution_count": null,
      "outputs": [
        {
          "output_type": "stream",
          "text": [
            "ABC deFg ** sadfa QF\n"
          ],
          "name": "stdout"
        }
      ]
    },
    {
      "cell_type": "code",
      "metadata": {
        "id": "u-LR8ralz5GL",
        "colab_type": "code",
        "colab": {},
        "outputId": "2405d1c2-21af-4216-d76b-9efd3a641da9"
      },
      "source": [
        "d = a.replace(\";\",\"**&&^^%%\")\n",
        "print(d)"
      ],
      "execution_count": null,
      "outputs": [
        {
          "output_type": "stream",
          "text": [
            "ABC deFg **&&^^%%**&&^^%% sadfa QF\n"
          ],
          "name": "stdout"
        }
      ]
    },
    {
      "cell_type": "code",
      "metadata": {
        "id": "EuqM6WHcz5GO",
        "colab_type": "code",
        "colab": {},
        "outputId": "a6daddb2-45ee-41c5-fb23-ddbcbbb3b242"
      },
      "source": [
        "d = a.replace(\";;\",\"two semi colons\")\n",
        "print(d)"
      ],
      "execution_count": null,
      "outputs": [
        {
          "output_type": "stream",
          "text": [
            "ABC deFg two semi colons sadfa QF\n"
          ],
          "name": "stdout"
        }
      ]
    },
    {
      "cell_type": "code",
      "metadata": {
        "id": "mQn5wx5hz5GQ",
        "colab_type": "code",
        "colab": {},
        "outputId": "1bb3cf2a-8dc9-4d32-9707-95deef7fcb12"
      },
      "source": [
        "a = \"abc;def;hgydfa;yy23\"\n",
        "L = a.split(\";\")\n",
        "print(L)"
      ],
      "execution_count": null,
      "outputs": [
        {
          "output_type": "stream",
          "text": [
            "['abc', 'def', 'hgydfa', 'yy23']\n"
          ],
          "name": "stdout"
        }
      ]
    },
    {
      "cell_type": "code",
      "metadata": {
        "id": "TaGN4DI7z5GS",
        "colab_type": "code",
        "colab": {},
        "outputId": "475166ce-6d06-4f2b-e9d2-bfbd7150d8cd"
      },
      "source": [
        "L[1]"
      ],
      "execution_count": null,
      "outputs": [
        {
          "output_type": "execute_result",
          "data": {
            "text/plain": [
              "'def'"
            ]
          },
          "metadata": {
            "tags": []
          },
          "execution_count": 144
        }
      ]
    },
    {
      "cell_type": "code",
      "metadata": {
        "id": "_HF3u2ZTz5GU",
        "colab_type": "code",
        "colab": {},
        "outputId": "f073c755-c3cd-425a-9a9d-8eb8afdda04d"
      },
      "source": [
        "print(a.capitalize())"
      ],
      "execution_count": null,
      "outputs": [
        {
          "output_type": "stream",
          "text": [
            "Abc;def;hgydfa;yy23\n"
          ],
          "name": "stdout"
        }
      ]
    },
    {
      "cell_type": "code",
      "metadata": {
        "id": "V3tU1C7Kz5GV",
        "colab_type": "code",
        "colab": {},
        "outputId": "8f03bfd1-2e0a-4e3c-d402-4f18c9680e18"
      },
      "source": [
        "\"abdAfadfGGQ\".capitalize()"
      ],
      "execution_count": null,
      "outputs": [
        {
          "output_type": "execute_result",
          "data": {
            "text/plain": [
              "'Abdafadfggq'"
            ]
          },
          "metadata": {
            "tags": []
          },
          "execution_count": 149
        }
      ]
    },
    {
      "cell_type": "code",
      "metadata": {
        "id": "o9BjHg46z5GW",
        "colab_type": "code",
        "colab": {},
        "outputId": "f3d558a1-6d1e-45be-f04b-c2b660d6de02"
      },
      "source": [
        "help(a.count)"
      ],
      "execution_count": null,
      "outputs": [
        {
          "output_type": "stream",
          "text": [
            "Help on built-in function count:\n",
            "\n",
            "count(...) method of builtins.str instance\n",
            "    S.count(sub[, start[, end]]) -> int\n",
            "    \n",
            "    Return the number of non-overlapping occurrences of substring sub in\n",
            "    string S[start:end].  Optional arguments start and end are\n",
            "    interpreted as in slice notation.\n",
            "\n"
          ],
          "name": "stdout"
        }
      ]
    },
    {
      "cell_type": "code",
      "metadata": {
        "id": "hliEH4e9z5GX",
        "colab_type": "code",
        "colab": {},
        "outputId": "61001ca0-5e5d-4a5b-f0bf-9a1481b19186"
      },
      "source": [
        "\"abc\" in \"asdfafdjabcl;jfdopasdfoajfd;la\""
      ],
      "execution_count": null,
      "outputs": [
        {
          "output_type": "execute_result",
          "data": {
            "text/plain": [
              "True"
            ]
          },
          "metadata": {
            "tags": []
          },
          "execution_count": 153
        }
      ]
    },
    {
      "cell_type": "code",
      "metadata": {
        "id": "9tdMNpNlz5GZ",
        "colab_type": "code",
        "colab": {},
        "outputId": "38d1c2ef-b66a-49dd-f6c5-16aac23978d5"
      },
      "source": [
        "\"abc\" == \"abc\""
      ],
      "execution_count": null,
      "outputs": [
        {
          "output_type": "execute_result",
          "data": {
            "text/plain": [
              "True"
            ]
          },
          "metadata": {
            "tags": []
          },
          "execution_count": 154
        }
      ]
    },
    {
      "cell_type": "code",
      "metadata": {
        "id": "tDwyIdMtz5Gb",
        "colab_type": "code",
        "colab": {},
        "outputId": "f4df8ed2-7c34-4d6d-f098-eccb44765cf7"
      },
      "source": [
        "\"abcdefghi\"<\"def\""
      ],
      "execution_count": null,
      "outputs": [
        {
          "output_type": "execute_result",
          "data": {
            "text/plain": [
              "True"
            ]
          },
          "metadata": {
            "tags": []
          },
          "execution_count": 156
        }
      ]
    },
    {
      "cell_type": "code",
      "metadata": {
        "id": "CE4oCtx4z5Gc",
        "colab_type": "code",
        "colab": {},
        "outputId": "19186d00-8867-4cd4-e27b-d464d1724a74"
      },
      "source": [
        "\"$%\"<\"*&\""
      ],
      "execution_count": null,
      "outputs": [
        {
          "output_type": "execute_result",
          "data": {
            "text/plain": [
              "True"
            ]
          },
          "metadata": {
            "tags": []
          },
          "execution_count": 157
        }
      ]
    },
    {
      "cell_type": "code",
      "metadata": {
        "id": "Z50P7Nbjz5Gd",
        "colab_type": "code",
        "colab": {},
        "outputId": "9f0bb347-103b-45c8-e5a3-e6e3daeb1a86"
      },
      "source": [
        "print(\"we are learning \"string\" here\")"
      ],
      "execution_count": null,
      "outputs": [
        {
          "output_type": "error",
          "ename": "SyntaxError",
          "evalue": "invalid syntax (<ipython-input-158-439afcb22d48>, line 1)",
          "traceback": [
            "\u001b[1;36m  File \u001b[1;32m\"<ipython-input-158-439afcb22d48>\"\u001b[1;36m, line \u001b[1;32m1\u001b[0m\n\u001b[1;33m    print(\"we are learning \"string\" here\")\u001b[0m\n\u001b[1;37m                                 ^\u001b[0m\n\u001b[1;31mSyntaxError\u001b[0m\u001b[1;31m:\u001b[0m invalid syntax\n"
          ]
        }
      ]
    },
    {
      "cell_type": "code",
      "metadata": {
        "id": "gfIRlAFFz5Gd",
        "colab_type": "code",
        "colab": {},
        "outputId": "ccc298ca-41d1-452b-89fe-4d4f3ca18a75"
      },
      "source": [
        "print(\"we are learning \\\"string\\\" here\")"
      ],
      "execution_count": null,
      "outputs": [
        {
          "output_type": "stream",
          "text": [
            "we are learning \"string\" here\n"
          ],
          "name": "stdout"
        }
      ]
    },
    {
      "cell_type": "code",
      "metadata": {
        "id": "EelKQ8OSz5Gf",
        "colab_type": "code",
        "colab": {},
        "outputId": "c11e256d-5fb4-479a-e4a7-cee8d9b9c217"
      },
      "source": [
        "print('we are learing \"string\" here')"
      ],
      "execution_count": null,
      "outputs": [
        {
          "output_type": "stream",
          "text": [
            "we are learing \"string\" here\n"
          ],
          "name": "stdout"
        }
      ]
    },
    {
      "cell_type": "code",
      "metadata": {
        "id": "suBIFCJ3z5Gg",
        "colab_type": "code",
        "colab": {},
        "outputId": "44b2609c-4be1-4645-91e4-568772c9f121"
      },
      "source": [
        "print(\"we are \\t now on another line\")"
      ],
      "execution_count": null,
      "outputs": [
        {
          "output_type": "stream",
          "text": [
            "we are \t now on another line\n"
          ],
          "name": "stdout"
        }
      ]
    },
    {
      "cell_type": "code",
      "metadata": {
        "id": "K-UnO5YOz5Gh",
        "colab_type": "code",
        "colab": {},
        "outputId": "8ad493fe-2fd0-4413-d83e-840465dcbdf0"
      },
      "source": [
        "print(\"c:\\name\\drive\")"
      ],
      "execution_count": null,
      "outputs": [
        {
          "output_type": "stream",
          "text": [
            "c:\n",
            "ame\\drive\n"
          ],
          "name": "stdout"
        }
      ]
    },
    {
      "cell_type": "code",
      "metadata": {
        "id": "WL-dkQKxz5Gi",
        "colab_type": "code",
        "colab": {},
        "outputId": "8f6a1a93-b970-49e0-e0d8-1b708020f9c3"
      },
      "source": [
        "print(r\"c:\\name\\drive\")"
      ],
      "execution_count": null,
      "outputs": [
        {
          "output_type": "stream",
          "text": [
            "c:\\name\\drive\n"
          ],
          "name": "stdout"
        }
      ]
    },
    {
      "cell_type": "markdown",
      "metadata": {
        "id": "CB2N_kQNgaaa",
        "colab_type": "text"
      },
      "source": [
        "\n",
        "\n",
        "\n",
        "\n",
        "---\n",
        "\n",
        "\n",
        "Notbook prepared using https://www.w3schools.com/ and open source platfrom \n",
        "\n",
        "\n",
        "---\n",
        "\n"
      ]
    }
  ]
}