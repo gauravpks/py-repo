{
  "nbformat": 4,
  "nbformat_minor": 0,
  "metadata": {
    "kernelspec": {
      "display_name": "gpai",
      "language": "python",
      "name": "gpai"
    },
    "language_info": {
      "codemirror_mode": {
        "name": "ipython",
        "version": 3
      },
      "file_extension": ".py",
      "mimetype": "text/x-python",
      "name": "python",
      "nbconvert_exporter": "python",
      "pygments_lexer": "ipython3",
      "version": "3.8.5"
    },
    "colab": {
      "name": "Project1.ipynb",
      "provenance": []
    }
  },
  "cells": [
    {
      "cell_type": "markdown",
      "metadata": {
        "id": "tokaYA6FUppZ"
      },
      "source": [
        "----------------------------------------------\n",
        "PROJECT 1 - Snake, Water, Gun Game\n",
        "----------------------------------------------\n",
        "Write a python program capable of playing the snake, water & gun game\n",
        "\n",
        "\n",
        "Snake Water Gun is a simple game that is played.\n",
        "The rules require that competing players use one hand to form one of three shapes at an agreed-upon time.\n",
        "The person that plays the strongest “object” is the winner of the game.\n",
        "\n",
        "We will design a computer version where computer will pay with one player\n",
        "Rule 1 - Water will win from gun \n",
        "Rule 2- Gun will win from snake\n",
        "Rule 3- Snake will win from water.\n",
        "\n"
      ]
    },
    {
      "cell_type": "code",
      "metadata": {
        "id": "g7EZBBS0UmR3"
      },
      "source": [
        "#import random pakage\n",
        "import random"
      ],
      "execution_count": null,
      "outputs": []
    },
    {
      "cell_type": "code",
      "metadata": {
        "id": "ejC6g5vEUmR7"
      },
      "source": [
        "# Snake Water Gun or Rock Paper Scissors\n",
        "#Function to check the winner \n",
        "def gameWin(comp, you):\n",
        "    # If two values are equal, declare a tie!\n",
        "    if comp == you:\n",
        "        return None\n",
        "\n",
        "    # Check for all possibilities when computer chose s\n",
        "    elif comp == 's':\n",
        "        if you=='w':\n",
        "            return False\n",
        "        elif you=='g':\n",
        "            return True\n",
        "    \n",
        "    # Check for all possibilities when computer chose w\n",
        "    elif comp == 'w':\n",
        "        if you=='g':\n",
        "            return False\n",
        "        elif you=='s':\n",
        "            return True\n",
        "    \n",
        "    # Check for all possibilities when computer chose g\n",
        "    elif comp == 'g':\n",
        "        if you=='s':\n",
        "            return False\n",
        "        elif you=='w':\n",
        "            return True"
      ],
      "execution_count": null,
      "outputs": []
    },
    {
      "cell_type": "code",
      "metadata": {
        "id": "L9cyNiqjUmR-",
        "outputId": "afcf4432-623b-47dc-ddb4-df6543e43620",
        "colab": {
          "base_uri": "https://localhost:8080/",
          "height": 102
        }
      },
      "source": [
        "#main Program\n",
        "print(\"Comp Turn: Snake(s) Water(w) or Gun(g)?\")\n",
        "randNo = random.randint(1, 3) \n",
        "if randNo == 1:\n",
        "    comp = 's'\n",
        "elif randNo == 2:\n",
        "    comp = 'w'\n",
        "elif randNo == 3:\n",
        "    comp = 'g'\n",
        "\n",
        "you = input(\"Your Turn: Snake(s) Water(w) or Gun(g)?\")\n",
        "play = gameWin(comp, you)\n",
        "\n",
        "print(f\"Computer chose {comp}\")\n",
        "print(f\"You chose {you}\")\n",
        "\n",
        "if play == None:\n",
        "    print(\"The game is a tie!\")\n",
        "elif play:\n",
        "    print(\"You Win!\")\n",
        "else:\n",
        "    print(\"You Lose!\")"
      ],
      "execution_count": null,
      "outputs": [
        {
          "output_type": "stream",
          "text": [
            "Comp Turn: Snake(s) Water(w) or Gun(g)?\n",
            "Your Turn: Snake(s) Water(w) or Gun(g)?s\n",
            "Computer chose w\n",
            "You chose s\n",
            "You Win!\n"
          ],
          "name": "stdout"
        }
      ]
    },
    {
      "cell_type": "code",
      "metadata": {
        "id": "jnLmTd63UmSB"
      },
      "source": [
        ""
      ],
      "execution_count": null,
      "outputs": []
    }
  ]
}