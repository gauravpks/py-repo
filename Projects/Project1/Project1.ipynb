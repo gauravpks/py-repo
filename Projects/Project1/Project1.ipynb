{
  "nbformat": 4,
  "nbformat_minor": 0,
  "metadata": {
    "kernelspec": {
      "display_name": "gpai",
      "language": "python",
      "name": "gpai"
    },
    "language_info": {
      "codemirror_mode": {
        "name": "ipython",
        "version": 3
      },
      "file_extension": ".py",
      "mimetype": "text/x-python",
      "name": "python",
      "nbconvert_exporter": "python",
      "pygments_lexer": "ipython3",
      "version": "3.8.5"
    },
    "colab": {
      "name": "Project1.ipynb",
      "provenance": [],
      "include_colab_link": true
    }
  },
  "cells": [
    {
      "cell_type": "markdown",
      "metadata": {
        "id": "view-in-github",
        "colab_type": "text"
      },
      "source": [
        "<a href=\"https://colab.research.google.com/github/gauravpks/py-repo/blob/master/Projects/Project1/Project1.ipynb\" target=\"_parent\"><img src=\"https://colab.research.google.com/assets/colab-badge.svg\" alt=\"Open In Colab\"/></a>"
      ]
    },
    {
      "cell_type": "markdown",
      "metadata": {
        "id": "tokaYA6FUppZ"
      },
      "source": [
        "----------------------------------------------\n",
        "PROJECT 1 - Snake, Water, Gun Game\n",
        "----------------------------------------------\n",
        "Write a python program capable of playing the snake, water & gun game\n",
        "\n",
        "\n",
        "Snake Water Gun is a simple game that is played.\n",
        "The rules require that competing players use one hand to form one of three shapes at an agreed-upon time.\n",
        "The person that plays the strongest “object” is the winner of the game.\n",
        "\n",
        "We will design a computer version where computer will pay with one player\n",
        "Rule 1 - Water will win from gun \n",
        "Rule 2- Gun will win from snake\n",
        "Rule 3- Snake will win from water.\n",
        "\n"
      ]
    },
    {
      "cell_type": "code",
      "metadata": {
        "id": "jnLmTd63UmSB"
      },
      "source": [
        ""
      ],
      "execution_count": null,
      "outputs": []
    }
  ]
}