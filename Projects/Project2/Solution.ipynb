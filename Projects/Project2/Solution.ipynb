{
  "nbformat": 4,
  "nbformat_minor": 0,
  "metadata": {
    "colab": {
      "name": "Welcome To Colaboratory",
      "provenance": [],
      "collapsed_sections": [],
      "toc_visible": true,
      "include_colab_link": true
    },
    "kernelspec": {
      "display_name": "Python 3",
      "name": "python3"
    }
  },
  "cells": [
    {
      "cell_type": "markdown",
      "metadata": {
        "id": "view-in-github",
        "colab_type": "text"
      },
      "source": [
        "<a href=\"https://colab.research.google.com/github/gauravpks/py-repo/blob/master/Projects/Project2/Solution.ipynb\" target=\"_parent\"><img src=\"https://colab.research.google.com/assets/colab-badge.svg\" alt=\"Open In Colab\"/></a>"
      ]
    },
    {
      "cell_type": "code",
      "metadata": {
        "id": "6JxLLwavUJ87",
        "outputId": "df4c5718-9ba7-46d5-fb74-c3cee42a8a09",
        "colab": {
          "base_uri": "https://localhost:8080/",
          "height": 136
        }
      },
      "source": [
        "import random\n",
        "\n",
        "def inputnum():\n",
        "    num = int(input(\"Enter a number.: \"))\n",
        "    return num\n",
        "\n",
        "def rannum():\n",
        "    ran = random.randint(1,100)\n",
        "    return ran\n",
        "\n",
        "def conditions(num,ran):\n",
        "    if num == ran:\n",
        "        print(\"hurray! you choose write number\")\n",
        "        return True\n",
        "    elif num > ran :\n",
        "        print(\"You guessed it wrong! Enter a smaller number\")\n",
        "        print(\"cpu guess: \", ran)\n",
        "        return False\n",
        "    elif num < ran :\n",
        "        print(\"You guessed it wrong! Enter a greater number\")\n",
        "        print(\"cpu guess: \", ran)\n",
        "        return False\n",
        "\n",
        "def main():\n",
        "    count = 1\n",
        "    r = rannum()\n",
        "    n = inputnum()\n",
        "    ret = conditions(n,r)\n",
        "    while not ret:\n",
        "            count+=1\n",
        "            print(\"you are trying: \",count)\n",
        "            n = inputnum()\n",
        "            ret = conditions(n,r)\n",
        "            \n",
        "    print(f\"You guessed the number in {count} guesses\")\n",
        "            \n",
        "\n",
        "main()\n"
      ],
      "execution_count": 19,
      "outputs": [
        {
          "output_type": "stream",
          "text": [
            "Enter a number.: 70\n",
            "You guessed it wrong! Enter a greater number\n",
            "cpu guess:  76\n",
            "you are trying:  2\n",
            "Enter a number.: 76\n",
            "hurray! you choose write number\n",
            "You guessed the number in 2 guesses\n"
          ],
          "name": "stdout"
        }
      ]
    },
    {
      "cell_type": "code",
      "metadata": {
        "id": "ryXYzxnzVkzb"
      },
      "source": [
        "import random\n",
        "randNumber = random.randint(1, 100)\n",
        "userGuess = None\n",
        "guesses = 0\n",
        "\n",
        "\n",
        "while(userGuess != randNumber):\n",
        "    userGuess = int(input(\"Enter your guess: \"))\n",
        "    guesses += 1\n",
        "    if(userGuess==randNumber):\n",
        "        print(\"You guessed it right!\")\n",
        "    else:\n",
        "        if(userGuess>randNumber):\n",
        "            print(\"You guessed it wrong! Enter a smaller number\")\n",
        "        else:\n",
        "            print(\"You guessed it wrong! Enter a larger number\")\n",
        "\n",
        "\n",
        "print(f\"You guessed the number in {guesses} guesses\")\n",
        "with open(\"hiscore.txt\", \"r\") as f:\n",
        "    hiscore = int(f.read())\n",
        "\n",
        "if(guesses<hiscore):\n",
        "    print(\"You have just broken the high score!\")\n",
        "    with open(\"hiscore.txt\", \"w\") as f:\n",
        "        f.write(str(guesses))\n"
      ],
      "execution_count": null,
      "outputs": []
    }
  ]
}