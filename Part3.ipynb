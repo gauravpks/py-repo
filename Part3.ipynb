{
  "nbformat": 4,
  "nbformat_minor": 0,
  "metadata": {
    "kernelspec": {
      "display_name": "Python 3",
      "language": "python",
      "name": "python3"
    },
    "language_info": {
      "codemirror_mode": {
        "name": "ipython",
        "version": 3
      },
      "file_extension": ".py",
      "mimetype": "text/x-python",
      "name": "python",
      "nbconvert_exporter": "python",
      "pygments_lexer": "ipython3",
      "version": "3.7.3"
    },
    "colab": {
      "name": "Part3.ipynb",
      "provenance": [],
      "toc_visible": true,
      "include_colab_link": true
    }
  },
  "cells": [
    {
      "cell_type": "markdown",
      "metadata": {
        "id": "view-in-github",
        "colab_type": "text"
      },
      "source": [
        "<a href=\"https://colab.research.google.com/github/gauravpks/py-repo/blob/master/Part3.ipynb\" target=\"_parent\"><img src=\"https://colab.research.google.com/assets/colab-badge.svg\" alt=\"Open In Colab\"/></a>"
      ]
    },
    {
      "cell_type": "markdown",
      "metadata": {
        "id": "cHct92OIz4-g"
      },
      "source": [
        "# Python Lambda\n"
      ]
    },
    {
      "cell_type": "markdown",
      "metadata": {
        "id": "unbO_8kJz4-i"
      },
      "source": [
        "A lambda function is a small anonymous function.\n",
        "\n",
        "A lambda function can take any number of arguments, but can only have one expression."
      ]
    },
    {
      "cell_type": "code",
      "metadata": {
        "id": "-bE_JkeHz4-j",
        "outputId": "7f21ceeb-cb55-4e51-9e5a-eaef4f25bece",
        "colab": {
          "base_uri": "https://localhost:8080/",
          "height": 34
        }
      },
      "source": [
        "#Add 10 to argument a, and return the result:\n",
        "x = lambda a : a + 10\n",
        "print(x(5))"
      ],
      "execution_count": 1,
      "outputs": [
        {
          "output_type": "stream",
          "text": [
            "15\n"
          ],
          "name": "stdout"
        }
      ]
    },
    {
      "cell_type": "markdown",
      "metadata": {
        "id": "iHQLMMLPz4-p"
      },
      "source": [
        "Lambda functions can take any number of arguments:"
      ]
    },
    {
      "cell_type": "code",
      "metadata": {
        "id": "NHmAIFW-R0Ad",
        "outputId": "a87c493e-e46d-4768-f39e-daec3a138986",
        "colab": {
          "base_uri": "https://localhost:8080/",
          "height": 34
        }
      },
      "source": [
        "x = lambda a, b : a * b\n",
        "print(x(5, 6))"
      ],
      "execution_count": 2,
      "outputs": [
        {
          "output_type": "stream",
          "text": [
            "30\n"
          ],
          "name": "stdout"
        }
      ]
    },
    {
      "cell_type": "code",
      "metadata": {
        "id": "-8uVO-ilR4ha",
        "outputId": "54cd2ad8-4444-49df-838c-8a767e39632a",
        "colab": {
          "base_uri": "https://localhost:8080/",
          "height": 34
        }
      },
      "source": [
        "x = lambda a, b, c : a + b + c\n",
        "print(x(5, 6, 2))"
      ],
      "execution_count": 3,
      "outputs": [
        {
          "output_type": "stream",
          "text": [
            "13\n"
          ],
          "name": "stdout"
        }
      ]
    },
    {
      "cell_type": "markdown",
      "metadata": {
        "id": "B77e2hE8R9lT"
      },
      "source": [
        "Why Use Lambda Functions?\n",
        "The power of lambda is better shown when you use them as an anonymous function inside another function.\n",
        "\n",
        "Say you have a function definition that takes one argument, and that argument will be multiplied with an unknown number:"
      ]
    },
    {
      "cell_type": "code",
      "metadata": {
        "id": "POkqLpXpR6oy",
        "outputId": "b7529155-d14a-4e87-bac4-39614272bb76",
        "colab": {
          "base_uri": "https://localhost:8080/",
          "height": 34
        }
      },
      "source": [
        "def myfunc(n):\n",
        "  return lambda a : a * n\n",
        "\n",
        "mydoubler = myfunc(2)\n",
        "\n",
        "print(mydoubler(11))"
      ],
      "execution_count": 4,
      "outputs": [
        {
          "output_type": "stream",
          "text": [
            "22\n"
          ],
          "name": "stdout"
        }
      ]
    },
    {
      "cell_type": "markdown",
      "metadata": {
        "id": "mbjGYZabSMSF"
      },
      "source": [
        "Use that function definition to make a function that always doubles the number you send in:"
      ]
    },
    {
      "cell_type": "code",
      "metadata": {
        "id": "aJwfkQedSGL2",
        "outputId": "daf2dddf-08dc-4c5c-8ee2-d3c6661c251f",
        "colab": {
          "base_uri": "https://localhost:8080/",
          "height": 34
        }
      },
      "source": [
        "def myfunc(n):\n",
        "  return lambda a : a * n\n",
        "\n",
        "mydoubler = myfunc(2)\n",
        "\n",
        "print(mydoubler(11))"
      ],
      "execution_count": 5,
      "outputs": [
        {
          "output_type": "stream",
          "text": [
            "22\n"
          ],
          "name": "stdout"
        }
      ]
    },
    {
      "cell_type": "code",
      "metadata": {
        "id": "C74_UHjWSO1R",
        "outputId": "7d86f387-e561-49f4-f591-738182bdda5e",
        "colab": {
          "base_uri": "https://localhost:8080/",
          "height": 51
        }
      },
      "source": [
        "def myfunc(n):\n",
        "  return lambda a : a * n\n",
        "\n",
        "mydoubler = myfunc(2)\n",
        "mytripler = myfunc(3)\n",
        "\n",
        "print(mydoubler(11))\n",
        "print(mytripler(11))"
      ],
      "execution_count": 6,
      "outputs": [
        {
          "output_type": "stream",
          "text": [
            "22\n",
            "33\n"
          ],
          "name": "stdout"
        }
      ]
    },
    {
      "cell_type": "markdown",
      "metadata": {
        "id": "4dX1S0RLS_Z9"
      },
      "source": [
        "#Python Scope"
      ]
    },
    {
      "cell_type": "markdown",
      "metadata": {
        "id": "-Bk9T8AiTEtn"
      },
      "source": [
        "A variable is only available from inside the region it is created. This is called scope.\n",
        "\n",
        "**Local Scope**\n",
        "\n",
        "A variable created inside a function belongs to the local scope of that function, and can only be used inside that function."
      ]
    },
    {
      "cell_type": "markdown",
      "metadata": {
        "id": "Bwgzwp0lTKOh"
      },
      "source": [
        "A variable created inside a function is available inside that function:"
      ]
    },
    {
      "cell_type": "code",
      "metadata": {
        "id": "dOZrjup5S-tc",
        "outputId": "e0b58884-092e-4b78-e4f6-5d5a066dad38",
        "colab": {
          "base_uri": "https://localhost:8080/",
          "height": 34
        }
      },
      "source": [
        "def myfunc():\n",
        "  x = 300\n",
        "  print(x)\n",
        "\n",
        "myfunc()"
      ],
      "execution_count": 7,
      "outputs": [
        {
          "output_type": "stream",
          "text": [
            "300\n"
          ],
          "name": "stdout"
        }
      ]
    },
    {
      "cell_type": "markdown",
      "metadata": {
        "id": "ipgzelZSTPg3"
      },
      "source": [
        "**Function Inside Function**\n",
        "\n",
        "As explained in the example above, the variable x is not available outside the function, but it is available for any function inside the function:"
      ]
    },
    {
      "cell_type": "code",
      "metadata": {
        "id": "JnY3QH2ATOxr",
        "outputId": "4bed2688-8d76-4154-be97-b45e7216f28c",
        "colab": {
          "base_uri": "https://localhost:8080/",
          "height": 34
        }
      },
      "source": [
        "def myfunc():\n",
        "  x = 300\n",
        "  def myinnerfunc():\n",
        "    print(x)\n",
        "  myinnerfunc()\n",
        "\n",
        "myfunc()"
      ],
      "execution_count": 8,
      "outputs": [
        {
          "output_type": "stream",
          "text": [
            "300\n"
          ],
          "name": "stdout"
        }
      ]
    },
    {
      "cell_type": "markdown",
      "metadata": {
        "id": "yOacbh3DTYL1"
      },
      "source": [
        "**Global Scope**\n",
        "\n",
        "A variable created in the main body of the Python code is a global variable and belongs to the global scope.\n",
        "\n",
        "Global variables are available from within any scope, global and local."
      ]
    },
    {
      "cell_type": "markdown",
      "metadata": {
        "id": "utxdSwmMTq7L"
      },
      "source": [
        "A variable created outside of a function is global and can be used by anyone:"
      ]
    },
    {
      "cell_type": "code",
      "metadata": {
        "id": "Z8Gpde7ISf4v",
        "outputId": "30b9155b-b47c-4260-99bf-352a404ccc95",
        "colab": {
          "base_uri": "https://localhost:8080/",
          "height": 51
        }
      },
      "source": [
        "x = 300\n",
        "\n",
        "def myfunc():\n",
        "  print(x)\n",
        "\n",
        "myfunc()\n",
        "\n",
        "print(x)"
      ],
      "execution_count": 9,
      "outputs": [
        {
          "output_type": "stream",
          "text": [
            "300\n",
            "300\n"
          ],
          "name": "stdout"
        }
      ]
    },
    {
      "cell_type": "markdown",
      "metadata": {
        "id": "07kR4l8YTtfc"
      },
      "source": [
        "**Naming Variables**\n",
        "\n",
        "If you operate with the same variable name inside and outside of a function, Python will treat them as two separate variables, one available in the global scope (outside the function) and one available in the local scope (inside the function):"
      ]
    },
    {
      "cell_type": "code",
      "metadata": {
        "id": "6Rro6HZ1TnJ_",
        "outputId": "01e96742-5ffc-4284-9bd6-ab190ff74790",
        "colab": {
          "base_uri": "https://localhost:8080/",
          "height": 51
        }
      },
      "source": [
        "x = 300\n",
        "\n",
        "def myfunc():\n",
        "  x = 200\n",
        "  print(x)\n",
        "\n",
        "myfunc()\n",
        "\n",
        "print(x)"
      ],
      "execution_count": 10,
      "outputs": [
        {
          "output_type": "stream",
          "text": [
            "200\n",
            "300\n"
          ],
          "name": "stdout"
        }
      ]
    },
    {
      "cell_type": "markdown",
      "metadata": {
        "id": "zN6V4RlyT0-T"
      },
      "source": [
        "**Global Keyword**\n",
        "\n",
        "If you need to create a global variable, but are stuck in the local scope, you can use the global keyword.\n",
        "\n",
        "The global keyword makes the variable global."
      ]
    },
    {
      "cell_type": "markdown",
      "metadata": {
        "id": "79-h7DogT6GY"
      },
      "source": [
        "If you use the global keyword, the variable belongs to the global scope:"
      ]
    },
    {
      "cell_type": "code",
      "metadata": {
        "id": "WbmaGCp7Tzoi",
        "outputId": "036d8a80-0d13-463c-c1ac-b43c343e8cbe",
        "colab": {
          "base_uri": "https://localhost:8080/",
          "height": 51
        }
      },
      "source": [
        "  global x\n",
        "  x = 300\n",
        "\n",
        "myfunc()\n",
        "\n",
        "print(x)"
      ],
      "execution_count": 11,
      "outputs": [
        {
          "output_type": "stream",
          "text": [
            "200\n",
            "300\n"
          ],
          "name": "stdout"
        }
      ]
    },
    {
      "cell_type": "markdown",
      "metadata": {
        "id": "Y428z80yUMUt"
      },
      "source": [
        "If you use the global keyword, the variable belongs to the global scope:"
      ]
    },
    {
      "cell_type": "code",
      "metadata": {
        "id": "ATE9wzupTxaK",
        "outputId": "dbc87327-4b3b-49f2-efa1-0aaac80b5292",
        "colab": {
          "base_uri": "https://localhost:8080/",
          "height": 34
        }
      },
      "source": [
        "def myfunc():\n",
        "  global x\n",
        "  x = 300\n",
        "\n",
        "myfunc()\n",
        "\n",
        "print(x)"
      ],
      "execution_count": 14,
      "outputs": [
        {
          "output_type": "stream",
          "text": [
            "300\n"
          ],
          "name": "stdout"
        }
      ]
    },
    {
      "cell_type": "markdown",
      "metadata": {
        "id": "hqEz5lAKUXgI"
      },
      "source": [
        "**Example**\n",
        "\n",
        "To change the value of a global variable inside a function, refer to the variable by using the global keyword:"
      ]
    },
    {
      "cell_type": "code",
      "metadata": {
        "id": "TJ1ipdmfUO-b",
        "outputId": "06bc331f-7c49-499f-e3ba-1c7cf274c18e",
        "colab": {
          "base_uri": "https://localhost:8080/",
          "height": 34
        }
      },
      "source": [
        "x = 300\n",
        "\n",
        "def myfunc():\n",
        "  global x\n",
        "  x = 200\n",
        "\n",
        "myfunc()\n",
        "\n",
        "print(x)"
      ],
      "execution_count": 13,
      "outputs": [
        {
          "output_type": "stream",
          "text": [
            "200\n"
          ],
          "name": "stdout"
        }
      ]
    },
    {
      "cell_type": "markdown",
      "metadata": {
        "id": "PmF_3fiIY0it"
      },
      "source": [
        "#Importing Module / Packages"
      ]
    },
    {
      "cell_type": "markdown",
      "metadata": {
        "id": "NSJwlqTeZ0J8"
      },
      "source": [
        "##DateTime"
      ]
    },
    {
      "cell_type": "markdown",
      "metadata": {
        "id": "rjFlH-s2Y9aQ"
      },
      "source": [
        "**Python Dates**\n",
        "\n",
        "A date in Python is not a data type of its own, but we can import a module named datetime to work with dates as date objects."
      ]
    },
    {
      "cell_type": "code",
      "metadata": {
        "id": "qxOcfsZKY242",
        "outputId": "f189820a-61df-440d-b266-47a712dbafe8",
        "colab": {
          "base_uri": "https://localhost:8080/",
          "height": 34
        }
      },
      "source": [
        "import datetime\n",
        "\n",
        "x = datetime.datetime.now()\n",
        "print(x)"
      ],
      "execution_count": 15,
      "outputs": [
        {
          "output_type": "stream",
          "text": [
            "2020-10-05 10:52:38.391972\n"
          ],
          "name": "stdout"
        }
      ]
    },
    {
      "cell_type": "code",
      "metadata": {
        "id": "mFN3v9PRZB87",
        "outputId": "c408e811-0908-46ff-f846-0d7f9bfd1bae",
        "colab": {
          "base_uri": "https://localhost:8080/",
          "height": 51
        }
      },
      "source": [
        "import datetime\n",
        "\n",
        "x = datetime.datetime.now()\n",
        "\n",
        "print(x.year)\n",
        "print(x.strftime(\"%A\"))"
      ],
      "execution_count": 16,
      "outputs": [
        {
          "output_type": "stream",
          "text": [
            "2020\n",
            "Monday\n"
          ],
          "name": "stdout"
        }
      ]
    },
    {
      "cell_type": "markdown",
      "metadata": {
        "id": "Yh8imFUvZTOE"
      },
      "source": [
        "**Creating Date Objects**\n",
        "\n",
        "To create a date, we can use the datetime() class (constructor) of the datetime module.\n",
        "\n",
        "The datetime() class requires three parameters to create a date: year, month, day."
      ]
    },
    {
      "cell_type": "code",
      "metadata": {
        "id": "JNhpS1UiZKry",
        "outputId": "1799c0cf-097b-4b52-f6e6-c99d0b84cb15",
        "colab": {
          "base_uri": "https://localhost:8080/",
          "height": 34
        }
      },
      "source": [
        "import datetime\n",
        "\n",
        "x = datetime.datetime(2020, 5, 17)\n",
        "\n",
        "print(x)"
      ],
      "execution_count": 17,
      "outputs": [
        {
          "output_type": "stream",
          "text": [
            "2020-05-17 00:00:00\n"
          ],
          "name": "stdout"
        }
      ]
    },
    {
      "cell_type": "markdown",
      "metadata": {
        "id": "-unS0vh8ZfXG"
      },
      "source": [
        "The strftime() Method\n",
        "The datetime object has a method for formatting date objects into readable strings.\n",
        "\n",
        "The method is called strftime(), and takes one parameter, format, to specify the format of the returned string:"
      ]
    },
    {
      "cell_type": "code",
      "metadata": {
        "id": "x7TPGJTSZZJL",
        "outputId": "5d1a451d-e171-490d-f961-02728494e8e4",
        "colab": {
          "base_uri": "https://localhost:8080/",
          "height": 34
        }
      },
      "source": [
        "import datetime\n",
        "\n",
        "x = datetime.datetime(2018, 6, 1)\n",
        "\n",
        "print(x.strftime(\"%B\"))"
      ],
      "execution_count": 18,
      "outputs": [
        {
          "output_type": "stream",
          "text": [
            "June\n"
          ],
          "name": "stdout"
        }
      ]
    },
    {
      "cell_type": "markdown",
      "metadata": {
        "id": "bvS7VnIsZvYY"
      },
      "source": [
        "![image.png](data:image/png;base64,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)"
      ]
    },
    {
      "cell_type": "markdown",
      "metadata": {
        "id": "iTni4aVDZ5n3"
      },
      "source": [
        "##Python Math"
      ]
    },
    {
      "cell_type": "markdown",
      "metadata": {
        "id": "c54nz9lCZ9SH"
      },
      "source": [
        "Python has a set of built-in math functions, including an extensive math module, that allows you to perform mathematical tasks on numbers."
      ]
    },
    {
      "cell_type": "markdown",
      "metadata": {
        "id": "QwyLskjuaAb5"
      },
      "source": [
        "The min() and max() functions can be used to find the lowest or highest value in an iterable:"
      ]
    },
    {
      "cell_type": "code",
      "metadata": {
        "id": "hcoo4gG4Z6KI",
        "outputId": "90610529-ef30-4372-bccd-0d66b48271ea",
        "colab": {
          "base_uri": "https://localhost:8080/",
          "height": 51
        }
      },
      "source": [
        "x = min(5, 10, 25)\n",
        "y = max(5, 10, 25)\n",
        "\n",
        "print(x)\n",
        "print(y)"
      ],
      "execution_count": 19,
      "outputs": [
        {
          "output_type": "stream",
          "text": [
            "5\n",
            "25\n"
          ],
          "name": "stdout"
        }
      ]
    },
    {
      "cell_type": "markdown",
      "metadata": {
        "id": "SwVIpkAUaEXd"
      },
      "source": [
        "The abs() function returns the absolute (positive) value of the specified number:"
      ]
    },
    {
      "cell_type": "code",
      "metadata": {
        "id": "jdWeQLbpaCLK",
        "outputId": "47ac5336-a0bb-4054-c225-19ef84564309",
        "colab": {
          "base_uri": "https://localhost:8080/",
          "height": 34
        }
      },
      "source": [
        "x = abs(-7.25)\n",
        "\n",
        "print(x)"
      ],
      "execution_count": 21,
      "outputs": [
        {
          "output_type": "stream",
          "text": [
            "7.25\n"
          ],
          "name": "stdout"
        }
      ]
    },
    {
      "cell_type": "code",
      "metadata": {
        "id": "vccmFrh6aGE0",
        "outputId": "ea26cd49-245d-47fe-cf6f-0cae48dfa52e",
        "colab": {
          "base_uri": "https://localhost:8080/",
          "height": 34
        }
      },
      "source": [
        "x = pow(4, 3)\n",
        "\n",
        "print(x)"
      ],
      "execution_count": 22,
      "outputs": [
        {
          "output_type": "stream",
          "text": [
            "64\n"
          ],
          "name": "stdout"
        }
      ]
    },
    {
      "cell_type": "markdown",
      "metadata": {
        "id": "0isiP_qDaPKM"
      },
      "source": [
        "The Math Module\n",
        "Python has also a built-in module called math, which extends the list of mathematical functions.\n",
        "\n",
        "To use it, you must import the math module:"
      ]
    },
    {
      "cell_type": "code",
      "metadata": {
        "id": "p6-ibXXSaMO-",
        "outputId": "ac774fdd-1d77-41cd-ac22-bdadb90d5038",
        "colab": {
          "base_uri": "https://localhost:8080/",
          "height": 34
        }
      },
      "source": [
        "import math\n",
        "\n",
        "x = math.sqrt(64)\n",
        "\n",
        "print(x)"
      ],
      "execution_count": 23,
      "outputs": [
        {
          "output_type": "stream",
          "text": [
            "8.0\n"
          ],
          "name": "stdout"
        }
      ]
    },
    {
      "cell_type": "code",
      "metadata": {
        "id": "EGPIKURPaRFS",
        "outputId": "17096315-7ad6-488f-a337-04e5440760b4",
        "colab": {
          "base_uri": "https://localhost:8080/",
          "height": 51
        }
      },
      "source": [
        "import math\n",
        "\n",
        "x = math.ceil(1.4)\n",
        "y = math.floor(1.4)\n",
        "\n",
        "print(x) # returns 2\n",
        "print(y) # returns 1"
      ],
      "execution_count": 24,
      "outputs": [
        {
          "output_type": "stream",
          "text": [
            "2\n",
            "1\n"
          ],
          "name": "stdout"
        }
      ]
    },
    {
      "cell_type": "code",
      "metadata": {
        "id": "yjEEunwFaTDc",
        "outputId": "9fbf5afd-8394-40ae-800e-2147d6e8d704",
        "colab": {
          "base_uri": "https://localhost:8080/",
          "height": 34
        }
      },
      "source": [
        "import math\n",
        "\n",
        "x = math.pi\n",
        "\n",
        "print(x)"
      ],
      "execution_count": 25,
      "outputs": [
        {
          "output_type": "stream",
          "text": [
            "3.141592653589793\n"
          ],
          "name": "stdout"
        }
      ]
    },
    {
      "cell_type": "markdown",
      "metadata": {
        "id": "EoGXgBUHahGb"
      },
      "source": [
        "**Math Methods & Method  Description**\n",
        "1.\tmath.acos() Returns the arc cosine of a number\n",
        "2.\tmath.acosh()  Returns the inverse hyperbolic cosine of a number\n",
        "3.\tmath.asin() Returns the arc sine of a number\n",
        "4.\tmath.asinh()  Returns the inverse hyperbolic sine of a number\n",
        "5.\tmath.atan() Returns the arc tangent of a number in radians\n",
        "6.\tmath.atan2()  Returns the arc tangent of y/x in radians\n",
        "7.\tmath.atanh()  Returns the inverse hyperbolic tangent of a number\n",
        "8.\tmath.ceil() Rounds a number up to the nearest integer\n",
        "9.\tmath.comb() Returns the number of ways to choose k items from n items without repetition and order\n",
        "10.\tmath.copysign() Returns a float consisting of the value of the first parameter and the sign of the second parameter\n",
        "11.\tmath.cos()  Returns the cosine of a number\n",
        "12.\tmath.cosh(x)  Returns the hyperbolic cosine of x\n",
        "13.\tmath.degrees(x) Converts an angle from radians to degrees\n",
        "14.\tmath.dist(p, q) Calculates the euclidean distance between two specified points (p and q), where p and q are the coordinates of that point\n",
        "15.\tmath.erf(x) Returns the error function of x\n",
        "16.\tmath.erfc(x)  Returns the complementary error function of x\n",
        "17.\tmath.exp(x) Returns the value of Ex, where E is Euler's number (approximately 2.718281...), and x is the number passed to it\n",
        "18.\tmath.expm1(x) Returns the value of Ex - 1, where E is Euler's number (approximately 2.718281...), and x is the number passed to it\n",
        "19.\tmath.fabs(x)  Returns the absolute value of a number\n",
        "20.\tmath.factorial()  Returns the factorial of a number\n",
        "21.\tmath.floor(x) Rounds a number down to the nearest integer\n",
        "22.\tmath.fmod(x, y) Returns the remainder of x/y\n",
        "23.\tmath.frexp()  Returns the mantissa and the exponent, of a specified value\n",
        "24.\tmath.fsum(iterable) Returns the sum of all items in an iterable (tuples, arrays, lists, etc.)\n",
        "25.\tmath.gamma(x) Returns the gamma value of x\n",
        "26.\tmath.gcd()  Returns the highest value that can divide two integers\n",
        "27.\tmath.hypot()  Find the Euclidean distance from the origin for n inputs\n",
        "28.\tmath.isclose()  Checks whether two values are close, or not\n",
        "29.\tmath.isfinite(x)  Checks whether x is a finite number\n",
        "30.\tmath.isinf(x) Check whether x is a positive or negative infinty\n",
        "31.\tmath.isnan(x) Checks whether x is NaN (not a number)\n",
        "32.\tmath.isqrt(n) Returns the nearest integer square root of n\n",
        "33.\tmath.ldexp(x, i)  Returns the expression x * 2i where x is mantissa and i is an exponent\n",
        "34.\tmath.lgamma(x)  Returns the log gamma value of x\n",
        "35.\tmath.log(x, base) Returns the natural logarithm of a number, or the logarithm of number to base\n",
        "36.\tmath.log10(x) Returns the base-10 logarithm of x\n",
        "37.\tmath.log1p(x) Returns the natural logarithm of 1+x\n",
        "38.\tmath.log2(x)  Returns the base-2 logarithm of x\n",
        "39.\tmath.perm(n, k) Returns the number of ways to choose k items from n items with order and without repetition\n",
        "40.\tmath.pow(x, y)  Returns the value of x to the power of y\n",
        "41.\tmath.prod(iterable, *, start=1) Returns the product of an iterable (lists, array, tuples, etc.)\n",
        "42.\tmath.radians(x) Converts a degree value (x) to radians\n",
        "43.\tmath.remainder(x, y)  Returns the closest value that can make numerator completely divisible by the denominator\n",
        "44.\tmath.sin(x) Returns the sine of x\n",
        "45.\tmath.sinh(x)  Returns the hyperbolic sine of x\n",
        "46.\tmath.sqrt(x)  Returns the square root of x\n",
        "47.\tmath.tan(x) Returns the tangent of x\n",
        "48.\tmath.tanh(x)  Returns the hyperbolic tangent of x\n",
        "49.\tmath.trunc(x) Returns the truncated integer parts of x\n",
        "\n",
        "\n",
        "---\n",
        "\n",
        "\n",
        "\n",
        "---\n",
        "\n",
        "\n",
        "**Math Constants & Constant  Description**\n",
        "50.\tmath.e  Returns Euler's number (2.7182...)\n",
        "51.\tmath.inf  Returns a floating-point positive infinity\n",
        "52.\tmath.nan  Returns a floating-point NaN (Not a Number) value\n",
        "53.\tmath.pi Returns PI (3.1415...)\n",
        "54.\tmath.tau  Returns tau (6.2831...)\n",
        "\n"
      ]
    },
    {
      "cell_type": "code",
      "metadata": {
        "id": "eFcHuKo2aVcE"
      },
      "source": [
        ""
      ],
      "execution_count": null,
      "outputs": []
    }
  ]
}