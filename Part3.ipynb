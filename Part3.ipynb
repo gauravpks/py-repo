{
  "nbformat": 4,
  "nbformat_minor": 0,
  "metadata": {
    "kernelspec": {
      "display_name": "Python 3",
      "language": "python",
      "name": "python3"
    },
    "language_info": {
      "codemirror_mode": {
        "name": "ipython",
        "version": 3
      },
      "file_extension": ".py",
      "mimetype": "text/x-python",
      "name": "python",
      "nbconvert_exporter": "python",
      "pygments_lexer": "ipython3",
      "version": "3.7.3"
    },
    "colab": {
      "name": "Part3.ipynb",
      "provenance": [],
      "toc_visible": true,
      "include_colab_link": true
    }
  },
  "cells": [
    {
      "cell_type": "markdown",
      "metadata": {
        "id": "view-in-github",
        "colab_type": "text"
      },
      "source": [
        "<a href=\"https://colab.research.google.com/github/gauravpks/py-repo/blob/master/Part3.ipynb\" target=\"_parent\"><img src=\"https://colab.research.google.com/assets/colab-badge.svg\" alt=\"Open In Colab\"/></a>"
      ]
    },
    {
      "cell_type": "markdown",
      "metadata": {
        "id": "cHct92OIz4-g"
      },
      "source": [
        "# Python Lambda\n"
      ]
    },
    {
      "cell_type": "markdown",
      "metadata": {
        "id": "unbO_8kJz4-i"
      },
      "source": [
        "A lambda function is a small anonymous function.\n",
        "\n",
        "A lambda function can take any number of arguments, but can only have one expression."
      ]
    },
    {
      "cell_type": "code",
      "metadata": {
        "id": "-bE_JkeHz4-j",
        "outputId": "7f21ceeb-cb55-4e51-9e5a-eaef4f25bece",
        "colab": {
          "base_uri": "https://localhost:8080/",
          "height": 34
        }
      },
      "source": [
        "#Add 10 to argument a, and return the result:\n",
        "x = lambda a : a + 10\n",
        "print(x(5))"
      ],
      "execution_count": null,
      "outputs": [
        {
          "output_type": "stream",
          "text": [
            "15\n"
          ],
          "name": "stdout"
        }
      ]
    },
    {
      "cell_type": "markdown",
      "metadata": {
        "id": "iHQLMMLPz4-p"
      },
      "source": [
        "Lambda functions can take any number of arguments:"
      ]
    },
    {
      "cell_type": "code",
      "metadata": {
        "id": "NHmAIFW-R0Ad",
        "outputId": "a87c493e-e46d-4768-f39e-daec3a138986",
        "colab": {
          "base_uri": "https://localhost:8080/",
          "height": 34
        }
      },
      "source": [
        "x = lambda a, b : a * b\n",
        "print(x(5, 6))"
      ],
      "execution_count": null,
      "outputs": [
        {
          "output_type": "stream",
          "text": [
            "30\n"
          ],
          "name": "stdout"
        }
      ]
    },
    {
      "cell_type": "code",
      "metadata": {
        "id": "-8uVO-ilR4ha",
        "outputId": "54cd2ad8-4444-49df-838c-8a767e39632a",
        "colab": {
          "base_uri": "https://localhost:8080/",
          "height": 34
        }
      },
      "source": [
        "x = lambda a, b, c : a + b + c\n",
        "print(x(5, 6, 2))"
      ],
      "execution_count": null,
      "outputs": [
        {
          "output_type": "stream",
          "text": [
            "13\n"
          ],
          "name": "stdout"
        }
      ]
    },
    {
      "cell_type": "markdown",
      "metadata": {
        "id": "B77e2hE8R9lT"
      },
      "source": [
        "Why Use Lambda Functions?\n",
        "The power of lambda is better shown when you use them as an anonymous function inside another function.\n",
        "\n",
        "Say you have a function definition that takes one argument, and that argument will be multiplied with an unknown number:"
      ]
    },
    {
      "cell_type": "code",
      "metadata": {
        "id": "POkqLpXpR6oy",
        "outputId": "b7529155-d14a-4e87-bac4-39614272bb76",
        "colab": {
          "base_uri": "https://localhost:8080/",
          "height": 34
        }
      },
      "source": [
        "def myfunc(n):\n",
        "  return lambda a : a * n\n",
        "\n",
        "mydoubler = myfunc(2)\n",
        "\n",
        "print(mydoubler(11))"
      ],
      "execution_count": null,
      "outputs": [
        {
          "output_type": "stream",
          "text": [
            "22\n"
          ],
          "name": "stdout"
        }
      ]
    },
    {
      "cell_type": "markdown",
      "metadata": {
        "id": "mbjGYZabSMSF"
      },
      "source": [
        "Use that function definition to make a function that always doubles the number you send in:"
      ]
    },
    {
      "cell_type": "code",
      "metadata": {
        "id": "aJwfkQedSGL2",
        "outputId": "daf2dddf-08dc-4c5c-8ee2-d3c6661c251f",
        "colab": {
          "base_uri": "https://localhost:8080/",
          "height": 34
        }
      },
      "source": [
        "def myfunc(n):\n",
        "  return lambda a : a * n\n",
        "\n",
        "mydoubler = myfunc(2)\n",
        "\n",
        "print(mydoubler(11))"
      ],
      "execution_count": null,
      "outputs": [
        {
          "output_type": "stream",
          "text": [
            "22\n"
          ],
          "name": "stdout"
        }
      ]
    },
    {
      "cell_type": "code",
      "metadata": {
        "id": "C74_UHjWSO1R",
        "outputId": "7d86f387-e561-49f4-f591-738182bdda5e",
        "colab": {
          "base_uri": "https://localhost:8080/",
          "height": 51
        }
      },
      "source": [
        "def myfunc(n):\n",
        "  return lambda a : a * n\n",
        "\n",
        "mydoubler = myfunc(2)\n",
        "mytripler = myfunc(3)\n",
        "\n",
        "print(mydoubler(11))\n",
        "print(mytripler(11))"
      ],
      "execution_count": null,
      "outputs": [
        {
          "output_type": "stream",
          "text": [
            "22\n",
            "33\n"
          ],
          "name": "stdout"
        }
      ]
    },
    {
      "cell_type": "markdown",
      "metadata": {
        "id": "4dX1S0RLS_Z9"
      },
      "source": [
        "#Python Scope"
      ]
    },
    {
      "cell_type": "markdown",
      "metadata": {
        "id": "-Bk9T8AiTEtn"
      },
      "source": [
        "A variable is only available from inside the region it is created. This is called scope.\n",
        "\n",
        "**Local Scope**\n",
        "\n",
        "A variable created inside a function belongs to the local scope of that function, and can only be used inside that function."
      ]
    },
    {
      "cell_type": "markdown",
      "metadata": {
        "id": "Bwgzwp0lTKOh"
      },
      "source": [
        "A variable created inside a function is available inside that function:"
      ]
    },
    {
      "cell_type": "code",
      "metadata": {
        "id": "dOZrjup5S-tc",
        "outputId": "e0b58884-092e-4b78-e4f6-5d5a066dad38",
        "colab": {
          "base_uri": "https://localhost:8080/",
          "height": 34
        }
      },
      "source": [
        "def myfunc():\n",
        "  x = 300\n",
        "  print(x)\n",
        "\n",
        "myfunc()"
      ],
      "execution_count": null,
      "outputs": [
        {
          "output_type": "stream",
          "text": [
            "300\n"
          ],
          "name": "stdout"
        }
      ]
    },
    {
      "cell_type": "markdown",
      "metadata": {
        "id": "ipgzelZSTPg3"
      },
      "source": [
        "**Function Inside Function**\n",
        "\n",
        "As explained in the example above, the variable x is not available outside the function, but it is available for any function inside the function:"
      ]
    },
    {
      "cell_type": "code",
      "metadata": {
        "id": "JnY3QH2ATOxr",
        "outputId": "4bed2688-8d76-4154-be97-b45e7216f28c",
        "colab": {
          "base_uri": "https://localhost:8080/",
          "height": 34
        }
      },
      "source": [
        "def myfunc():\n",
        "  x = 300\n",
        "  def myinnerfunc():\n",
        "    print(x)\n",
        "  myinnerfunc()\n",
        "\n",
        "myfunc()"
      ],
      "execution_count": null,
      "outputs": [
        {
          "output_type": "stream",
          "text": [
            "300\n"
          ],
          "name": "stdout"
        }
      ]
    },
    {
      "cell_type": "markdown",
      "metadata": {
        "id": "yOacbh3DTYL1"
      },
      "source": [
        "**Global Scope**\n",
        "\n",
        "A variable created in the main body of the Python code is a global variable and belongs to the global scope.\n",
        "\n",
        "Global variables are available from within any scope, global and local."
      ]
    },
    {
      "cell_type": "markdown",
      "metadata": {
        "id": "utxdSwmMTq7L"
      },
      "source": [
        "A variable created outside of a function is global and can be used by anyone:"
      ]
    },
    {
      "cell_type": "code",
      "metadata": {
        "id": "Z8Gpde7ISf4v",
        "outputId": "30b9155b-b47c-4260-99bf-352a404ccc95",
        "colab": {
          "base_uri": "https://localhost:8080/",
          "height": 51
        }
      },
      "source": [
        "x = 300\n",
        "\n",
        "def myfunc():\n",
        "  print(x)\n",
        "\n",
        "myfunc()\n",
        "\n",
        "print(x)"
      ],
      "execution_count": null,
      "outputs": [
        {
          "output_type": "stream",
          "text": [
            "300\n",
            "300\n"
          ],
          "name": "stdout"
        }
      ]
    },
    {
      "cell_type": "markdown",
      "metadata": {
        "id": "07kR4l8YTtfc"
      },
      "source": [
        "**Naming Variables**\n",
        "\n",
        "If you operate with the same variable name inside and outside of a function, Python will treat them as two separate variables, one available in the global scope (outside the function) and one available in the local scope (inside the function):"
      ]
    },
    {
      "cell_type": "code",
      "metadata": {
        "id": "6Rro6HZ1TnJ_",
        "outputId": "01e96742-5ffc-4284-9bd6-ab190ff74790",
        "colab": {
          "base_uri": "https://localhost:8080/",
          "height": 51
        }
      },
      "source": [
        "x = 300\n",
        "\n",
        "def myfunc():\n",
        "  x = 200\n",
        "  print(x)\n",
        "\n",
        "myfunc()\n",
        "\n",
        "print(x)"
      ],
      "execution_count": null,
      "outputs": [
        {
          "output_type": "stream",
          "text": [
            "200\n",
            "300\n"
          ],
          "name": "stdout"
        }
      ]
    },
    {
      "cell_type": "markdown",
      "metadata": {
        "id": "zN6V4RlyT0-T"
      },
      "source": [
        "**Global Keyword**\n",
        "\n",
        "If you need to create a global variable, but are stuck in the local scope, you can use the global keyword.\n",
        "\n",
        "The global keyword makes the variable global."
      ]
    },
    {
      "cell_type": "markdown",
      "metadata": {
        "id": "79-h7DogT6GY"
      },
      "source": [
        "If you use the global keyword, the variable belongs to the global scope:"
      ]
    },
    {
      "cell_type": "code",
      "metadata": {
        "id": "WbmaGCp7Tzoi",
        "outputId": "036d8a80-0d13-463c-c1ac-b43c343e8cbe",
        "colab": {
          "base_uri": "https://localhost:8080/",
          "height": 51
        }
      },
      "source": [
        "  global x\n",
        "  x = 300\n",
        "\n",
        "myfunc()\n",
        "\n",
        "print(x)"
      ],
      "execution_count": null,
      "outputs": [
        {
          "output_type": "stream",
          "text": [
            "200\n",
            "300\n"
          ],
          "name": "stdout"
        }
      ]
    },
    {
      "cell_type": "markdown",
      "metadata": {
        "id": "Y428z80yUMUt"
      },
      "source": [
        "If you use the global keyword, the variable belongs to the global scope:"
      ]
    },
    {
      "cell_type": "code",
      "metadata": {
        "id": "ATE9wzupTxaK",
        "outputId": "dbc87327-4b3b-49f2-efa1-0aaac80b5292",
        "colab": {
          "base_uri": "https://localhost:8080/",
          "height": 34
        }
      },
      "source": [
        "def myfunc():\n",
        "  global x\n",
        "  x = 300\n",
        "\n",
        "myfunc()\n",
        "\n",
        "print(x)"
      ],
      "execution_count": null,
      "outputs": [
        {
          "output_type": "stream",
          "text": [
            "300\n"
          ],
          "name": "stdout"
        }
      ]
    },
    {
      "cell_type": "markdown",
      "metadata": {
        "id": "hqEz5lAKUXgI"
      },
      "source": [
        "**Example**\n",
        "\n",
        "To change the value of a global variable inside a function, refer to the variable by using the global keyword:"
      ]
    },
    {
      "cell_type": "code",
      "metadata": {
        "id": "TJ1ipdmfUO-b",
        "outputId": "06bc331f-7c49-499f-e3ba-1c7cf274c18e",
        "colab": {
          "base_uri": "https://localhost:8080/",
          "height": 34
        }
      },
      "source": [
        "x = 300\n",
        "\n",
        "def myfunc():\n",
        "  global x\n",
        "  x = 200\n",
        "\n",
        "myfunc()\n",
        "\n",
        "print(x)"
      ],
      "execution_count": null,
      "outputs": [
        {
          "output_type": "stream",
          "text": [
            "200\n"
          ],
          "name": "stdout"
        }
      ]
    },
    {
      "cell_type": "markdown",
      "metadata": {
        "id": "PmF_3fiIY0it"
      },
      "source": [
        "#Importing Module / Packages"
      ]
    },
    {
      "cell_type": "markdown",
      "metadata": {
        "id": "NSJwlqTeZ0J8"
      },
      "source": [
        "##DateTime"
      ]
    },
    {
      "cell_type": "markdown",
      "metadata": {
        "id": "rjFlH-s2Y9aQ"
      },
      "source": [
        "**Python Dates**\n",
        "\n",
        "A date in Python is not a data type of its own, but we can import a module named datetime to work with dates as date objects."
      ]
    },
    {
      "cell_type": "code",
      "metadata": {
        "id": "qxOcfsZKY242",
        "outputId": "f189820a-61df-440d-b266-47a712dbafe8",
        "colab": {
          "base_uri": "https://localhost:8080/",
          "height": 34
        }
      },
      "source": [
        "import datetime\n",
        "\n",
        "x = datetime.datetime.now()\n",
        "print(x)"
      ],
      "execution_count": null,
      "outputs": [
        {
          "output_type": "stream",
          "text": [
            "2020-10-05 10:52:38.391972\n"
          ],
          "name": "stdout"
        }
      ]
    },
    {
      "cell_type": "code",
      "metadata": {
        "id": "mFN3v9PRZB87",
        "outputId": "c408e811-0908-46ff-f846-0d7f9bfd1bae",
        "colab": {
          "base_uri": "https://localhost:8080/",
          "height": 51
        }
      },
      "source": [
        "import datetime\n",
        "\n",
        "x = datetime.datetime.now()\n",
        "\n",
        "print(x.year)\n",
        "print(x.strftime(\"%A\"))"
      ],
      "execution_count": null,
      "outputs": [
        {
          "output_type": "stream",
          "text": [
            "2020\n",
            "Monday\n"
          ],
          "name": "stdout"
        }
      ]
    },
    {
      "cell_type": "markdown",
      "metadata": {
        "id": "Yh8imFUvZTOE"
      },
      "source": [
        "**Creating Date Objects**\n",
        "\n",
        "To create a date, we can use the datetime() class (constructor) of the datetime module.\n",
        "\n",
        "The datetime() class requires three parameters to create a date: year, month, day."
      ]
    },
    {
      "cell_type": "code",
      "metadata": {
        "id": "JNhpS1UiZKry",
        "outputId": "1799c0cf-097b-4b52-f6e6-c99d0b84cb15",
        "colab": {
          "base_uri": "https://localhost:8080/",
          "height": 34
        }
      },
      "source": [
        "import datetime\n",
        "\n",
        "x = datetime.datetime(2020, 5, 17)\n",
        "\n",
        "print(x)"
      ],
      "execution_count": null,
      "outputs": [
        {
          "output_type": "stream",
          "text": [
            "2020-05-17 00:00:00\n"
          ],
          "name": "stdout"
        }
      ]
    },
    {
      "cell_type": "markdown",
      "metadata": {
        "id": "-unS0vh8ZfXG"
      },
      "source": [
        "The strftime() Method\n",
        "The datetime object has a method for formatting date objects into readable strings.\n",
        "\n",
        "The method is called strftime(), and takes one parameter, format, to specify the format of the returned string:"
      ]
    },
    {
      "cell_type": "code",
      "metadata": {
        "id": "x7TPGJTSZZJL",
        "outputId": "5d1a451d-e171-490d-f961-02728494e8e4",
        "colab": {
          "base_uri": "https://localhost:8080/",
          "height": 34
        }
      },
      "source": [
        "import datetime\n",
        "\n",
        "x = datetime.datetime(2018, 6, 1)\n",
        "\n",
        "print(x.strftime(\"%B\"))"
      ],
      "execution_count": null,
      "outputs": [
        {
          "output_type": "stream",
          "text": [
            "June\n"
          ],
          "name": "stdout"
        }
      ]
    },
    {
      "cell_type": "markdown",
      "metadata": {
        "id": "bvS7VnIsZvYY"
      },
      "source": [
        "![image.png](data:image/png;base64,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)"
      ]
    },
    {
      "cell_type": "markdown",
      "metadata": {
        "id": "iTni4aVDZ5n3"
      },
      "source": [
        "##Python Math"
      ]
    },
    {
      "cell_type": "markdown",
      "metadata": {
        "id": "c54nz9lCZ9SH"
      },
      "source": [
        "Python has a set of built-in math functions, including an extensive math module, that allows you to perform mathematical tasks on numbers."
      ]
    },
    {
      "cell_type": "markdown",
      "metadata": {
        "id": "QwyLskjuaAb5"
      },
      "source": [
        "The min() and max() functions can be used to find the lowest or highest value in an iterable:"
      ]
    },
    {
      "cell_type": "code",
      "metadata": {
        "id": "hcoo4gG4Z6KI",
        "outputId": "90610529-ef30-4372-bccd-0d66b48271ea",
        "colab": {
          "base_uri": "https://localhost:8080/",
          "height": 51
        }
      },
      "source": [
        "x = min(5, 10, 25)\n",
        "y = max(5, 10, 25)\n",
        "\n",
        "print(x)\n",
        "print(y)"
      ],
      "execution_count": null,
      "outputs": [
        {
          "output_type": "stream",
          "text": [
            "5\n",
            "25\n"
          ],
          "name": "stdout"
        }
      ]
    },
    {
      "cell_type": "markdown",
      "metadata": {
        "id": "SwVIpkAUaEXd"
      },
      "source": [
        "The abs() function returns the absolute (positive) value of the specified number:"
      ]
    },
    {
      "cell_type": "code",
      "metadata": {
        "id": "jdWeQLbpaCLK",
        "outputId": "47ac5336-a0bb-4054-c225-19ef84564309",
        "colab": {
          "base_uri": "https://localhost:8080/",
          "height": 34
        }
      },
      "source": [
        "x = abs(-7.25)\n",
        "\n",
        "print(x)"
      ],
      "execution_count": null,
      "outputs": [
        {
          "output_type": "stream",
          "text": [
            "7.25\n"
          ],
          "name": "stdout"
        }
      ]
    },
    {
      "cell_type": "code",
      "metadata": {
        "id": "vccmFrh6aGE0",
        "outputId": "ea26cd49-245d-47fe-cf6f-0cae48dfa52e",
        "colab": {
          "base_uri": "https://localhost:8080/",
          "height": 34
        }
      },
      "source": [
        "x = pow(4, 3)\n",
        "\n",
        "print(x)"
      ],
      "execution_count": null,
      "outputs": [
        {
          "output_type": "stream",
          "text": [
            "64\n"
          ],
          "name": "stdout"
        }
      ]
    },
    {
      "cell_type": "markdown",
      "metadata": {
        "id": "0isiP_qDaPKM"
      },
      "source": [
        "The Math Module\n",
        "Python has also a built-in module called math, which extends the list of mathematical functions.\n",
        "\n",
        "To use it, you must import the math module:"
      ]
    },
    {
      "cell_type": "code",
      "metadata": {
        "id": "p6-ibXXSaMO-",
        "outputId": "ac774fdd-1d77-41cd-ac22-bdadb90d5038",
        "colab": {
          "base_uri": "https://localhost:8080/",
          "height": 34
        }
      },
      "source": [
        "import math\n",
        "\n",
        "x = math.sqrt(64)\n",
        "\n",
        "print(x)"
      ],
      "execution_count": null,
      "outputs": [
        {
          "output_type": "stream",
          "text": [
            "8.0\n"
          ],
          "name": "stdout"
        }
      ]
    },
    {
      "cell_type": "code",
      "metadata": {
        "id": "EGPIKURPaRFS",
        "outputId": "17096315-7ad6-488f-a337-04e5440760b4",
        "colab": {
          "base_uri": "https://localhost:8080/",
          "height": 51
        }
      },
      "source": [
        "import math\n",
        "\n",
        "x = math.ceil(1.4)\n",
        "y = math.floor(1.4)\n",
        "\n",
        "print(x) # returns 2\n",
        "print(y) # returns 1"
      ],
      "execution_count": null,
      "outputs": [
        {
          "output_type": "stream",
          "text": [
            "2\n",
            "1\n"
          ],
          "name": "stdout"
        }
      ]
    },
    {
      "cell_type": "code",
      "metadata": {
        "id": "yjEEunwFaTDc",
        "outputId": "9fbf5afd-8394-40ae-800e-2147d6e8d704",
        "colab": {
          "base_uri": "https://localhost:8080/",
          "height": 34
        }
      },
      "source": [
        "import math\n",
        "\n",
        "x = math.pi\n",
        "\n",
        "print(x)"
      ],
      "execution_count": null,
      "outputs": [
        {
          "output_type": "stream",
          "text": [
            "3.141592653589793\n"
          ],
          "name": "stdout"
        }
      ]
    },
    {
      "cell_type": "markdown",
      "metadata": {
        "id": "EoGXgBUHahGb"
      },
      "source": [
        "**Math Methods & Method  Description**\n",
        "1.\tmath.acos() Returns the arc cosine of a number\n",
        "2.\tmath.acosh()  Returns the inverse hyperbolic cosine of a number\n",
        "3.\tmath.asin() Returns the arc sine of a number\n",
        "4.\tmath.asinh()  Returns the inverse hyperbolic sine of a number\n",
        "5.\tmath.atan() Returns the arc tangent of a number in radians\n",
        "6.\tmath.atan2()  Returns the arc tangent of y/x in radians\n",
        "7.\tmath.atanh()  Returns the inverse hyperbolic tangent of a number\n",
        "8.\tmath.ceil() Rounds a number up to the nearest integer\n",
        "9.\tmath.comb() Returns the number of ways to choose k items from n items without repetition and order\n",
        "10.\tmath.copysign() Returns a float consisting of the value of the first parameter and the sign of the second parameter\n",
        "11.\tmath.cos()  Returns the cosine of a number\n",
        "12.\tmath.cosh(x)  Returns the hyperbolic cosine of x\n",
        "13.\tmath.degrees(x) Converts an angle from radians to degrees\n",
        "14.\tmath.dist(p, q) Calculates the euclidean distance between two specified points (p and q), where p and q are the coordinates of that point\n",
        "15.\tmath.erf(x) Returns the error function of x\n",
        "16.\tmath.erfc(x)  Returns the complementary error function of x\n",
        "17.\tmath.exp(x) Returns the value of Ex, where E is Euler's number (approximately 2.718281...), and x is the number passed to it\n",
        "18.\tmath.expm1(x) Returns the value of Ex - 1, where E is Euler's number (approximately 2.718281...), and x is the number passed to it\n",
        "19.\tmath.fabs(x)  Returns the absolute value of a number\n",
        "20.\tmath.factorial()  Returns the factorial of a number\n",
        "21.\tmath.floor(x) Rounds a number down to the nearest integer\n",
        "22.\tmath.fmod(x, y) Returns the remainder of x/y\n",
        "23.\tmath.frexp()  Returns the mantissa and the exponent, of a specified value\n",
        "24.\tmath.fsum(iterable) Returns the sum of all items in an iterable (tuples, arrays, lists, etc.)\n",
        "25.\tmath.gamma(x) Returns the gamma value of x\n",
        "26.\tmath.gcd()  Returns the highest value that can divide two integers\n",
        "27.\tmath.hypot()  Find the Euclidean distance from the origin for n inputs\n",
        "28.\tmath.isclose()  Checks whether two values are close, or not\n",
        "29.\tmath.isfinite(x)  Checks whether x is a finite number\n",
        "30.\tmath.isinf(x) Check whether x is a positive or negative infinty\n",
        "31.\tmath.isnan(x) Checks whether x is NaN (not a number)\n",
        "32.\tmath.isqrt(n) Returns the nearest integer square root of n\n",
        "33.\tmath.ldexp(x, i)  Returns the expression x * 2i where x is mantissa and i is an exponent\n",
        "34.\tmath.lgamma(x)  Returns the log gamma value of x\n",
        "35.\tmath.log(x, base) Returns the natural logarithm of a number, or the logarithm of number to base\n",
        "36.\tmath.log10(x) Returns the base-10 logarithm of x\n",
        "37.\tmath.log1p(x) Returns the natural logarithm of 1+x\n",
        "38.\tmath.log2(x)  Returns the base-2 logarithm of x\n",
        "39.\tmath.perm(n, k) Returns the number of ways to choose k items from n items with order and without repetition\n",
        "40.\tmath.pow(x, y)  Returns the value of x to the power of y\n",
        "41.\tmath.prod(iterable, *, start=1) Returns the product of an iterable (lists, array, tuples, etc.)\n",
        "42.\tmath.radians(x) Converts a degree value (x) to radians\n",
        "43.\tmath.remainder(x, y)  Returns the closest value that can make numerator completely divisible by the denominator\n",
        "44.\tmath.sin(x) Returns the sine of x\n",
        "45.\tmath.sinh(x)  Returns the hyperbolic sine of x\n",
        "46.\tmath.sqrt(x)  Returns the square root of x\n",
        "47.\tmath.tan(x) Returns the tangent of x\n",
        "48.\tmath.tanh(x)  Returns the hyperbolic tangent of x\n",
        "49.\tmath.trunc(x) Returns the truncated integer parts of x\n",
        "\n",
        "\n",
        "---\n",
        "\n",
        "\n",
        "\n",
        "---\n",
        "\n",
        "\n",
        "**Math Constants & Constant  Description**\n",
        "50.\tmath.e  Returns Euler's number (2.7182...)\n",
        "51.\tmath.inf  Returns a floating-point positive infinity\n",
        "52.\tmath.nan  Returns a floating-point NaN (Not a Number) value\n",
        "53.\tmath.pi Returns PI (3.1415...)\n",
        "54.\tmath.tau  Returns tau (6.2831...)\n",
        "\n"
      ]
    },
    {
      "cell_type": "markdown",
      "metadata": {
        "id": "bS_hC1NDZ9lP"
      },
      "source": [
        "#Python Classes and Objects"
      ]
    },
    {
      "cell_type": "markdown",
      "metadata": {
        "id": "bflSG_9KaEbG"
      },
      "source": [
        "**Python Classes/Objects**\n",
        "\n",
        "Python is an object oriented programming language.\n",
        "\n",
        "Almost everything in Python is an object, with its properties and methods.\n",
        "\n",
        "A Class is like an object constructor, or a \"blueprint\" for creating objects.\n",
        "\n",
        "*Create a Class*\n",
        "\n",
        "To create a class, use the keyword class:"
      ]
    },
    {
      "cell_type": "code",
      "metadata": {
        "id": "4Q2-o3yGak-Q"
      },
      "source": [
        "#Create a class named MyClass, with a property named x:\n",
        "class MyClass:\n",
        "  x = 5"
      ],
      "execution_count": null,
      "outputs": []
    },
    {
      "cell_type": "markdown",
      "metadata": {
        "id": "5tBQbkCWarZ_"
      },
      "source": [
        "**Create Object**\n",
        "\n",
        "Now we can use the class named MyClass to create objects:"
      ]
    },
    {
      "cell_type": "code",
      "metadata": {
        "id": "eFcHuKo2aVcE",
        "outputId": "f7d5c190-8f3d-4b5e-8a24-3b041d455d7a",
        "colab": {
          "base_uri": "https://localhost:8080/"
        }
      },
      "source": [
        "#Create an object named p1, and print the value of x:\n",
        "p1 = MyClass()\n",
        "print(p1.x)"
      ],
      "execution_count": null,
      "outputs": [
        {
          "output_type": "stream",
          "text": [
            "5\n"
          ],
          "name": "stdout"
        }
      ]
    },
    {
      "cell_type": "markdown",
      "metadata": {
        "id": "tzL1eZRZac4r"
      },
      "source": [
        "**The __init__() Function**\n",
        "\n",
        "1. The examples above are classes and objects in their simplest form, and are not really useful in real life applications.\n",
        "\n",
        "2. To understand the meaning of classes we have to understand the built-in __init__() function.\n",
        "\n",
        "3. All classes have a function called __init__(), which is always executed when the class is being initiated.\n",
        "\n",
        "4. Use the __init__() function to assign values to object properties, or other operations that are necessary to do when the object is being created:"
      ]
    },
    {
      "cell_type": "code",
      "metadata": {
        "id": "7HsCHM7ta2GJ",
        "outputId": "e53b50c4-7b48-4ff8-a727-8391598feca8",
        "colab": {
          "base_uri": "https://localhost:8080/"
        }
      },
      "source": [
        "#Create a class named Person, use the __init__() function to assign values for name and age:\n",
        "class Person:\n",
        "  def __init__(self, name, age):\n",
        "    self.name = name\n",
        "    self.age = age\n",
        "\n",
        "p1 = Person(\"John\", 36)\n",
        "\n",
        "print(p1.name)\n",
        "print(p1.age)"
      ],
      "execution_count": null,
      "outputs": [
        {
          "output_type": "stream",
          "text": [
            "John\n",
            "36\n"
          ],
          "name": "stdout"
        }
      ]
    },
    {
      "cell_type": "markdown",
      "metadata": {
        "id": "yTOt3tO1bLC1"
      },
      "source": [
        "Note: The __init__() function is called automatically every time the class is being used to create a new object."
      ]
    },
    {
      "cell_type": "markdown",
      "metadata": {
        "id": "dA3XiK0MbUwM"
      },
      "source": [
        "**Object Methods**\n",
        "\n",
        "Objects can also contain methods. Methods in objects are functions that belong to the object.\n",
        "\n",
        "Let us create a method in the Person class:"
      ]
    },
    {
      "cell_type": "code",
      "metadata": {
        "id": "4jVBbraQbMtM",
        "outputId": "44833e18-2f1b-4e8a-f333-5addfc75a640",
        "colab": {
          "base_uri": "https://localhost:8080/"
        }
      },
      "source": [
        "#Insert a function that prints a greeting, and execute it on the p1 object:\n",
        "class Person:\n",
        "  def __init__(self, name, age):\n",
        "    self.name = name\n",
        "    self.age = age\n",
        "\n",
        "  def myfunc(self):\n",
        "    print(\"Hello my name is \" + self.name)\n",
        "\n",
        "p1 = Person(\"John\", 36)\n",
        "p1.myfunc()"
      ],
      "execution_count": null,
      "outputs": [
        {
          "output_type": "stream",
          "text": [
            "Hello my name is John\n"
          ],
          "name": "stdout"
        }
      ]
    },
    {
      "cell_type": "markdown",
      "metadata": {
        "id": "UPSb7eIXbiEq"
      },
      "source": [
        "Note: The self parameter is a reference to the current instance of the class, and is used to access variables that belong to the class."
      ]
    },
    {
      "cell_type": "markdown",
      "metadata": {
        "id": "YeBW84GzcWoC"
      },
      "source": [
        "**The self Parameter**\n",
        "\n",
        "The self parameter is a reference to the current instance of the class, and is used to access variables that belongs to the class.\n",
        "\n",
        "It does not have to be named self , you can call it whatever you like, but it has to be the first parameter of any function in the class:"
      ]
    },
    {
      "cell_type": "markdown",
      "metadata": {
        "id": "xHwqA0dZcg7X"
      },
      "source": [
        "Example\n",
        "\n",
        "Use the words mysillyobject and abc instead of self:"
      ]
    },
    {
      "cell_type": "code",
      "metadata": {
        "id": "EXZd5DSrbc9S",
        "outputId": "9dbf1292-9c96-4aa8-d1af-7a43c18af606",
        "colab": {
          "base_uri": "https://localhost:8080/"
        }
      },
      "source": [
        "class Person:\n",
        "  def __init__(mysillyobject, name, age):\n",
        "    mysillyobject.name = name\n",
        "    mysillyobject.age = age\n",
        "\n",
        "  def myfunc(abc):\n",
        "    print(\"Hello my name is \" + abc.name)\n",
        "\n",
        "p1 = Person(\"John\", 36)\n",
        "p1.myfunc()"
      ],
      "execution_count": null,
      "outputs": [
        {
          "output_type": "stream",
          "text": [
            "Hello my name is John\n"
          ],
          "name": "stdout"
        }
      ]
    },
    {
      "cell_type": "markdown",
      "metadata": {
        "id": "uLLLKVABcpN0"
      },
      "source": [
        "Modify Object Properties\n",
        "\n",
        "You can modify properties on objects like this:"
      ]
    },
    {
      "cell_type": "code",
      "metadata": {
        "id": "FlTWduRFcliZ"
      },
      "source": [
        "#Set the age of p1 to 40:\n",
        "p1.age = 40"
      ],
      "execution_count": null,
      "outputs": []
    },
    {
      "cell_type": "markdown",
      "metadata": {
        "id": "VhBUcyvucybx"
      },
      "source": [
        "**Delete Object Properties**\n",
        "\n",
        "You can delete properties on objects by using the del keyword:"
      ]
    },
    {
      "cell_type": "code",
      "metadata": {
        "id": "wYzLMTgRcztn"
      },
      "source": [
        "del p1.age"
      ],
      "execution_count": null,
      "outputs": []
    },
    {
      "cell_type": "markdown",
      "metadata": {
        "id": "P6ktzV_xc5pF"
      },
      "source": [
        "Delete Objects\n",
        "\n",
        "You can delete objects by using the del keyword:"
      ]
    },
    {
      "cell_type": "code",
      "metadata": {
        "id": "KlrzYpF2c66k"
      },
      "source": [
        "del p1"
      ],
      "execution_count": null,
      "outputs": []
    },
    {
      "cell_type": "markdown",
      "metadata": {
        "id": "YUTdFtqXc_l7"
      },
      "source": [
        "**The pass Statement**\n",
        "\n",
        "class definitions cannot be empty, but if you for some reason have a class definition with no content, put in the pass statement to avoid getting an error."
      ]
    },
    {
      "cell_type": "code",
      "metadata": {
        "id": "rHVb6f06c823"
      },
      "source": [
        "class Person:\n",
        "  pass"
      ],
      "execution_count": null,
      "outputs": []
    },
    {
      "cell_type": "markdown",
      "metadata": {
        "id": "vpA6dDiQRS8A"
      },
      "source": [
        "##Questions"
      ]
    },
    {
      "cell_type": "markdown",
      "metadata": {
        "id": "GYLcvebZUedW"
      },
      "source": [
        "Create a Cricle class and intialize it with radius. Make two methods getArea and getCircumference inside this class."
      ]
    },
    {
      "cell_type": "code",
      "metadata": {
        "id": "N3vebnajUsbO"
      },
      "source": [
        "class Circle():\n",
        "  def __init__(self,radius):\n",
        "    self.radius = radius\n",
        "  def  getArea(self):\n",
        "    return 3.14*self.radius*self.radius\n",
        "  def getCircumference(self):\n",
        "    return self.radius*2*3.14"
      ],
      "execution_count": null,
      "outputs": []
    },
    {
      "cell_type": "code",
      "metadata": {
        "id": "LNb6wH5yUuWH",
        "outputId": "f86981b1-3387-4fc9-cdc8-f363c2efbd50",
        "colab": {
          "base_uri": "https://localhost:8080/",
          "height": 34
        }
      },
      "source": [
        "c1 = Circle(10)\n",
        "c1.getArea()"
      ],
      "execution_count": null,
      "outputs": [
        {
          "output_type": "execute_result",
          "data": {
            "text/plain": [
              "314.0"
            ]
          },
          "metadata": {
            "tags": []
          },
          "execution_count": 54
        }
      ]
    },
    {
      "cell_type": "markdown",
      "metadata": {
        "id": "dd_ZLibTRUlP"
      },
      "source": [
        "Create a Student class and initialize it with name and roll number. Make methods to :\n",
        "1. Display - It should display all informations of the student.\n",
        "2. setAge - It should assign age to student\n",
        "3. setMarks - It should assign marks to the student.\n"
      ]
    },
    {
      "cell_type": "code",
      "metadata": {
        "id": "xN51M50PRXw3"
      },
      "source": [
        "class Student():\n",
        "  def __init__(self,name,roll):\n",
        "    self.name = name\n",
        "    self.roll= roll\n",
        "\n",
        "  def display(self):\n",
        "    print(self.name)\n",
        "    print(self.roll)\n",
        "    \n",
        "  def setAge(self,age):\n",
        "    self.age=age\n",
        "\n",
        "  def setMarks(self,marks):\n",
        "    self.marks = marks\n",
        "  \n",
        "  def allData(self):\n",
        "    print(self.roll)\n",
        "    print(self.age)"
      ],
      "execution_count": null,
      "outputs": []
    },
    {
      "cell_type": "code",
      "metadata": {
        "id": "9toD0VcURrMB",
        "outputId": "b4c87c76-9bf5-46b2-e9b7-2322404dace8",
        "colab": {
          "base_uri": "https://localhost:8080/",
          "height": 85
        }
      },
      "source": [
        "s1 = Student(\"Gaurav\", \"13\")\n",
        "s1.display()\n",
        "\n",
        "s1.setAge(20)\n",
        "s1.allData()\n"
      ],
      "execution_count": null,
      "outputs": [
        {
          "output_type": "stream",
          "text": [
            "Gaurav\n",
            "13\n",
            "13\n",
            "20\n"
          ],
          "name": "stdout"
        }
      ]
    },
    {
      "cell_type": "markdown",
      "metadata": {
        "id": "y7xzO7wUTg1S"
      },
      "source": [
        "Create a Time class and initialize it with hours and minutes.\n",
        "1. Make a method addTime which should take two time object and add them. E.g.- (2 hour and 50 min)+(1 hr and 20 min) is (4 hr and 10 min)\n",
        "2. Make a method displayTime which should print the time.\n",
        "3. Make a method DisplayMinute which should display the total minutes in the Time. E.g.- (1 hr 2 min) should display 62 minute."
      ]
    },
    {
      "cell_type": "code",
      "metadata": {
        "id": "SZ_pL7NXTvGO",
        "outputId": "211d1473-934f-4197-8a79-17ed2cd023e1",
        "colab": {
          "base_uri": "https://localhost:8080/",
          "height": 51
        }
      },
      "source": [
        "class Time():\n",
        "\n",
        "  def __init__(self, hours, mins):\n",
        "    self.hours = hours\n",
        "    self.mins = mins\n",
        "\n",
        "  def addTime(t1, t2):\n",
        "    t3 = Time(0,0)\n",
        "    if t1.mins+t2.mins > 60:\n",
        "      t3.hours = (t1.mins+t2.mins)/60\n",
        "    t3.hours = t3.hours+t1.hours+t2.hours\n",
        "    t3.mins = (t1.mins+t2.mins)-(((t1.mins+t2.mins)/60)*60)\n",
        "    return t3\n",
        "\n",
        "  def displayTime(self):\n",
        "    print(\"Time is\",self.hours,\"hours and\",self.mins,\"minutes.\")\n",
        "\n",
        "  def displayMinute(self):\n",
        "    print((self.hours*60)+self.mins)\n",
        "\n",
        "a = Time(2,50)\n",
        "b = Time(1,20)\n",
        "c = Time.addTime(a,b)\n",
        "c.displayTime()\n",
        "c.displayMinute()"
      ],
      "execution_count": null,
      "outputs": [
        {
          "output_type": "stream",
          "text": [
            "Time is 4.166666666666667 hours and 0.0 minutes.\n",
            "250.00000000000003\n"
          ],
          "name": "stdout"
        }
      ]
    },
    {
      "cell_type": "markdown",
      "metadata": {
        "id": "RVf_cR1PdTFk"
      },
      "source": [
        "#Python Inheritance"
      ]
    },
    {
      "cell_type": "markdown",
      "metadata": {
        "id": "2_5MiOxSd0Vb"
      },
      "source": [
        "**Python Inheritance**\n",
        "\n",
        "Inheritance allows us to define a class that inherits all the methods and properties from another class.\n",
        "\n",
        "Parent class is the class being inherited from, also called base class.\n",
        "\n",
        "Child class is the class that inherits from another class, also called derived class."
      ]
    },
    {
      "cell_type": "markdown",
      "metadata": {
        "id": "PJRwcgqUd6ZA"
      },
      "source": [
        "*Create a Parent Class*\n",
        "\n",
        "Any class can be a parent class, so the syntax is the same as creating any other class:"
      ]
    },
    {
      "cell_type": "code",
      "metadata": {
        "id": "5GqGFb7-dT-C",
        "outputId": "1959c89d-a7c3-4ad1-fe76-f5bd235ed897",
        "colab": {
          "base_uri": "https://localhost:8080/"
        }
      },
      "source": [
        "#Create a class named Person, with firstname and lastname properties, and a printname method:\n",
        "class Person:\n",
        "  def __init__(self, fname, lname):\n",
        "    self.firstname = fname\n",
        "    self.lastname = lname\n",
        "\n",
        "  def printname(self):\n",
        "    print(self.firstname, self.lastname)\n",
        "\n",
        "#Use the Person class to create an object, and then execute the printname method:\n",
        "\n",
        "x = Person(\"John\", \"Doe\")\n",
        "x.printname()\n"
      ],
      "execution_count": null,
      "outputs": [
        {
          "output_type": "stream",
          "text": [
            "John Doe\n"
          ],
          "name": "stdout"
        }
      ]
    },
    {
      "cell_type": "markdown",
      "metadata": {
        "id": "m_T8Cgi3eMH_"
      },
      "source": [
        "*Create a Child Class*\n",
        "\n",
        "To create a class that inherits the functionality from another class, send the parent class as a parameter when creating the child class:"
      ]
    },
    {
      "cell_type": "code",
      "metadata": {
        "id": "WIS2jKDyeIOV"
      },
      "source": [
        "#Create a class named Student, which will inherit the properties and methods from the Person class:\n",
        "class Student(Person):\n",
        "  pass"
      ],
      "execution_count": null,
      "outputs": []
    },
    {
      "cell_type": "markdown",
      "metadata": {
        "id": "udGnQXQQeZd5"
      },
      "source": [
        "Note: Use the pass keyword when you do not want to add any other properties or methods to the class."
      ]
    },
    {
      "cell_type": "markdown",
      "metadata": {
        "id": "Gf30Wv7kecdh"
      },
      "source": [
        "Now the Student class has the same properties and methods as the Person class."
      ]
    },
    {
      "cell_type": "code",
      "metadata": {
        "id": "pR2HzXT8eTjx",
        "outputId": "027472e7-dd4a-4bbd-bf2e-55779bb59567",
        "colab": {
          "base_uri": "https://localhost:8080/"
        }
      },
      "source": [
        "#Use the Student class to create an object, and then execute the printname method:\n",
        "x = Student(\"Mike\", \"Olsen\")\n",
        "x.printname()"
      ],
      "execution_count": null,
      "outputs": [
        {
          "output_type": "stream",
          "text": [
            "Mike Olsen\n"
          ],
          "name": "stdout"
        }
      ]
    },
    {
      "cell_type": "markdown",
      "metadata": {
        "id": "LsqZrO3Tempn"
      },
      "source": [
        "**Add the __init__() Function**\n",
        "\n",
        "So far we have created a child class that inherits the properties and methods from its parent.\n",
        "\n",
        "We want to add the __init__() function to the child class (instead of the pass keyword)."
      ]
    },
    {
      "cell_type": "markdown",
      "metadata": {
        "id": "y2QCgXQueuJ4"
      },
      "source": [
        "Note: The __init__() function is called automatically every time the class is being used to create a new object."
      ]
    },
    {
      "cell_type": "code",
      "metadata": {
        "id": "HAxBKmA4eh-9"
      },
      "source": [
        "#Add the __init__() function to the Student class:\n",
        "class Student(Person):\n",
        "  def __init__(self, fname, lname):\n",
        "    #add properties etc\n"
      ],
      "execution_count": null,
      "outputs": []
    },
    {
      "cell_type": "markdown",
      "metadata": {
        "id": "4WflfIuee_z1"
      },
      "source": [
        "When you add the __init__() function, the child class will no longer inherit the parent's __init__() function."
      ]
    },
    {
      "cell_type": "markdown",
      "metadata": {
        "id": "KRYBzIqffDqA"
      },
      "source": [
        "Note: The child's __init__() function overrides the inheritance of the parent's __init__() function."
      ]
    },
    {
      "cell_type": "markdown",
      "metadata": {
        "id": "rGwjDLRxfHDD"
      },
      "source": [
        "To keep the inheritance of the parent's __init__() function, add a call to the parent's __init__() function:"
      ]
    },
    {
      "cell_type": "code",
      "metadata": {
        "id": "pVN1BcX4fAaX"
      },
      "source": [
        "class Student(Person):\n",
        "  def __init__(self, fname, lname):\n",
        "    Person.__init__(self, fname, lname)"
      ],
      "execution_count": null,
      "outputs": []
    },
    {
      "cell_type": "markdown",
      "metadata": {
        "id": "yS8zs8GOfRXD"
      },
      "source": [
        "Now we have successfully added the __init__() function, and kept the inheritance of the parent class, and we are ready to add functionality in the __init__() function."
      ]
    },
    {
      "cell_type": "markdown",
      "metadata": {
        "id": "1F3Batg5faYS"
      },
      "source": [
        "**Use the super() Function**\n",
        "\n",
        "Python also has a super() function that will make the child class inherit all the methods and properties from its parent:"
      ]
    },
    {
      "cell_type": "code",
      "metadata": {
        "id": "UzptOXy7fLo4"
      },
      "source": [
        "class Student(Person):\n",
        "  def __init__(self, fname, lname):\n",
        "    super().__init__(fname, lname)"
      ],
      "execution_count": null,
      "outputs": []
    },
    {
      "cell_type": "markdown",
      "metadata": {
        "id": "QL6LPHOnfj6P"
      },
      "source": [
        "By using the super() function, you do not have to use the name of the parent element, it will automatically inherit the methods and properties from its parent."
      ]
    },
    {
      "cell_type": "markdown",
      "metadata": {
        "id": "Er_JMXr6fpGl"
      },
      "source": [
        "Add Properties"
      ]
    },
    {
      "cell_type": "code",
      "metadata": {
        "id": "LxZ4fF7afkO6"
      },
      "source": [
        "#Add a property called graduationyear to the Student class:\n",
        "class Student(Person):\n",
        "  def __init__(self, fname, lname):\n",
        "    super().__init__(fname, lname)\n",
        "    self.graduationyear = 2019"
      ],
      "execution_count": null,
      "outputs": []
    },
    {
      "cell_type": "markdown",
      "metadata": {
        "id": "NZFRYXM7f-CQ"
      },
      "source": [
        "In the example below, the year 2019 should be a variable, and passed into the Student class when creating student objects. To do so, add another parameter in the __init__() function:"
      ]
    },
    {
      "cell_type": "code",
      "metadata": {
        "id": "sKm7vViEf9XN"
      },
      "source": [
        "#Add a year parameter, and pass the correct year when creating objects:\n",
        "class Student(Person):\n",
        "  def __init__(self, fname, lname, year):\n",
        "    super().__init__(fname, lname)\n",
        "    self.graduationyear = year\n",
        "\n",
        "x = Student(\"Mike\", \"Olsen\", 2019)"
      ],
      "execution_count": null,
      "outputs": []
    },
    {
      "cell_type": "markdown",
      "metadata": {
        "id": "cS7JrRuagSAP"
      },
      "source": [
        "Add Methods\n"
      ]
    },
    {
      "cell_type": "code",
      "metadata": {
        "id": "dIbxR9ZsgWtX",
        "outputId": "63dc1406-aff2-4ce8-a84f-488e309d6251",
        "colab": {
          "base_uri": "https://localhost:8080/"
        }
      },
      "source": [
        "#Add a method called welcome to the Student class:\n",
        "class Student(Person):\n",
        "  def __init__(self, fname, lname, year):\n",
        "    super().__init__(fname, lname)\n",
        "    self.graduationyear = year\n",
        "\n",
        "  def welcome(self):\n",
        "    print(\"Welcome\", self.firstname, self.lastname, \"to the class of\", self.graduationyear)\n",
        "\n",
        "x = Student(\"Mike\", \"Olsen\", 2019)\n",
        "x.welcome()"
      ],
      "execution_count": null,
      "outputs": [
        {
          "output_type": "stream",
          "text": [
            "Welcome Mike Olsen to the class of 2019\n"
          ],
          "name": "stdout"
        }
      ]
    },
    {
      "cell_type": "markdown",
      "metadata": {
        "id": "7U_TPSEHgeQQ"
      },
      "source": [
        "If you add a method in the child class with the same name as a function in the parent class, the inheritance of the parent method will be overridden."
      ]
    },
    {
      "cell_type": "markdown",
      "metadata": {
        "id": "wGHwNRA_hV4N"
      },
      "source": [
        "#The Main Function"
      ]
    },
    {
      "cell_type": "markdown",
      "metadata": {
        "id": "LnjDFWtvDXYf"
      },
      "source": [
        "Many programming languages have a special function that is automatically executed when an operating system starts to run a program. This function is usually called main() and must have a specific return type and arguments according to the language standard. On the other hand, the Python interpreter executes scripts starting at the top of the file, and there is no specific function that Python automatically executes.\n",
        "\n",
        "Nevertheless, having a defined starting point for the execution of a program is useful for understanding how a program works. Python programmers have come up with several conventions to define this starting point."
      ]
    },
    {
      "cell_type": "markdown",
      "metadata": {
        "id": "Z5x4Pr3_E9na"
      },
      "source": [
        "A Basic Python main()\n",
        "\n",
        "In some Python scripts, you may see a function definition and a conditional statement that looks like the example below:"
      ]
    },
    {
      "cell_type": "code",
      "metadata": {
        "id": "7ow6HJyNE43M",
        "outputId": "e9fda2e6-2128-4162-9670-6e2f9eabde41",
        "colab": {
          "base_uri": "https://localhost:8080/"
        }
      },
      "source": [
        "def main():\n",
        "    print(\"Hello World!\")\n",
        "\n",
        "if __name__ == \"__main__\":\n",
        "    main()"
      ],
      "execution_count": null,
      "outputs": [
        {
          "output_type": "stream",
          "text": [
            "Hello World!\n"
          ],
          "name": "stdout"
        }
      ]
    },
    {
      "cell_type": "code",
      "metadata": {
        "id": "S2na3rG3haJS",
        "outputId": "c3f07c14-0001-4833-fedb-529f32f4f8e4",
        "colab": {
          "base_uri": "https://localhost:8080/"
        }
      },
      "source": [
        "print(\"This is my file to test Python's execution methods.\")\n",
        "print(\"The variable __name__ tells me which context this file is running in.\")\n",
        "print(\"The value of __name__ is:\", repr(__name__))"
      ],
      "execution_count": null,
      "outputs": [
        {
          "output_type": "stream",
          "text": [
            "This is my file to test Python's execution methods.\n",
            "The variable __name__ tells me which context this file is running in.\n",
            "The value of __name__ is: '__main__'\n"
          ],
          "name": "stdout"
        }
      ]
    },
    {
      "cell_type": "markdown",
      "metadata": {
        "id": "QVlLM_l9FaO_"
      },
      "source": [
        "Technical detail: The Python documentation defines specifically when __name__ will have the value '__main__':\n",
        "\n",
        "A module’s __name__ is set equal to '__main__' when read from standard input, a script, or from an interactive prompt."
      ]
    },
    {
      "cell_type": "markdown",
      "metadata": {
        "id": "XhlytHkcGOr3"
      },
      "source": [
        "**Best Practices for Python Main Functions**\n",
        "\n",
        "1.Now that you can see the differences in how Python handles its different execution modes, it’s useful for you to know some best practices to use. These will apply whenever you want to write code that you can run as a script and import in another module or an interactive session.\n",
        "\n",
        "2.You will learn about four best practices to make sure that your code can serve a dual purpose:\n",
        "\n",
        "Put most code into a function or class.\n",
        "Use __name__ to control execution of your code.\n",
        "Create a function called main() to contain the code you want to run.\n",
        "Call other functions from main()."
      ]
    },
    {
      "cell_type": "code",
      "metadata": {
        "id": "h97BHrmpEyvO",
        "outputId": "724991e7-a87d-45c6-8c1e-547783fb5d6a",
        "colab": {
          "base_uri": "https://localhost:8080/",
          "height": 102
        }
      },
      "source": [
        "from time import sleep\n",
        "\n",
        "print(\"This is my file to demonstrate best practices.\")\n",
        "\n",
        "def process_data(data):\n",
        "    print(\"Beginning data processing...\")\n",
        "    modified_data = data + \" that has been modified\"\n",
        "    sleep(3)\n",
        "    print(\"Data processing finished.\")\n",
        "    return modified_data\n",
        "\n",
        "def main():\n",
        "    data = \"My data read from the Web\"\n",
        "    print(data)\n",
        "    modified_data = process_data(data)\n",
        "    print(modified_data)\n",
        "\n",
        "if __name__ == \"__main__\":\n",
        "    main()"
      ],
      "execution_count": null,
      "outputs": [
        {
          "output_type": "stream",
          "text": [
            "This is my file to demonstrate best practices.\n",
            "My data read from the Web\n",
            "Beginning data processing...\n",
            "Data processing finished.\n",
            "My data read from the Web that has been modified\n"
          ],
          "name": "stdout"
        }
      ]
    },
    {
      "cell_type": "code",
      "metadata": {
        "id": "PO4_3NAyReNK",
        "outputId": "29aa00d5-d3ca-433d-9641-bae215207448",
        "colab": {
          "base_uri": "https://localhost:8080/"
        }
      },
      "source": [
        "from time import sleep\n",
        "\n",
        "print(\"This is my file to demonstrate best practices.\")\n",
        "\n",
        "def process_data(data):\n",
        "    print(\"Beginning data processing...\")\n",
        "    modified_data = data + \" that has been modified\"\n",
        "    sleep(3)\n",
        "    print(\"Data processing finished.\")\n",
        "    return modified_data\n",
        "\n",
        "def read_data_from_web():\n",
        "    print(\"Reading data from the Web\")\n",
        "    data = \"Data from the web\"\n",
        "    return data\n",
        "\n",
        "def write_data_to_database(data):\n",
        "    print(\"Writing data to a database\")\n",
        "    print(data)\n",
        "\n",
        "def main():\n",
        "    data = read_data_from_web()\n",
        "    modified_data = process_data(data)\n",
        "    write_data_to_database(modified_data)\n",
        "\n",
        "if __name__ == \"__main__\":\n",
        "    main()"
      ],
      "execution_count": null,
      "outputs": [
        {
          "output_type": "stream",
          "text": [
            "This is my file to demonstrate best practices.\n",
            "Reading data from the Web\n",
            "Beginning data processing...\n",
            "Data processing finished.\n",
            "Writing data to a database\n",
            "Data from the web that has been modified\n"
          ],
          "name": "stdout"
        }
      ]
    },
    {
      "cell_type": "markdown",
      "metadata": {
        "id": "rIjOQOTNR8UR"
      },
      "source": [
        "![image.png](data:image/png;base64,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)"
      ]
    },
    {
      "cell_type": "markdown",
      "metadata": {
        "id": "Ed_0rq-YD9bB"
      },
      "source": [
        "#RegEx Module"
      ]
    },
    {
      "cell_type": "markdown",
      "metadata": {
        "id": "mh5oxfsCEp40"
      },
      "source": [
        "A RegEx, or Regular Expression, is a sequence of characters that forms a search pattern.\n",
        "\n",
        "RegEx can be used to check if a string contains the specified search pattern."
      ]
    },
    {
      "cell_type": "markdown",
      "metadata": {
        "id": "BqTi_IQbE_Wu"
      },
      "source": [
        "\n",
        "\n",
        "Python has a built-in package called re, which can be used to work with Regular Expressions.\n",
        "\n",
        "Import the re module:"
      ]
    },
    {
      "cell_type": "code",
      "metadata": {
        "id": "MPQqvdwiRfCT"
      },
      "source": [
        "import re"
      ],
      "execution_count": null,
      "outputs": []
    },
    {
      "cell_type": "markdown",
      "metadata": {
        "id": "Hgi2ys5rFq_F"
      },
      "source": [
        "RegEx in Python\n",
        "\n",
        "When you have imported the re module, you can start using regular expressions:"
      ]
    },
    {
      "cell_type": "markdown",
      "metadata": {
        "id": "OnjPVXwuGLFW"
      },
      "source": [
        "Search the string to see if it starts with \"The\" and ends with \"Spain\":"
      ]
    },
    {
      "cell_type": "code",
      "metadata": {
        "id": "CyirRYtEFvjr",
        "outputId": "b74b3fd3-59a8-4c99-e62c-f0692da622a6",
        "colab": {
          "base_uri": "https://localhost:8080/",
          "height": 34
        }
      },
      "source": [
        "import re\n",
        "\n",
        "txt = \"The rain in Spain\"\n",
        "x = re.search(\"^The.*Spain$\", txt)\n",
        "x"
      ],
      "execution_count": null,
      "outputs": [
        {
          "output_type": "execute_result",
          "data": {
            "text/plain": [
              "<_sre.SRE_Match object; span=(0, 17), match='The rain in Spain'>"
            ]
          },
          "metadata": {
            "tags": []
          },
          "execution_count": 16
        }
      ]
    },
    {
      "cell_type": "markdown",
      "metadata": {
        "id": "uGr5ujL6JE2v"
      },
      "source": [
        "![image.png](data:image/png;base64,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)"
      ]
    },
    {
      "cell_type": "code",
      "metadata": {
        "id": "E6hRQT1IJF74"
      },
      "source": [
        ""
      ],
      "execution_count": null,
      "outputs": []
    },
    {
      "cell_type": "markdown",
      "metadata": {
        "id": "RoIyr0JvJS5K"
      },
      "source": [
        "![image.png](data:image/png;base64,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)"
      ]
    },
    {
      "cell_type": "markdown",
      "metadata": {
        "id": "FlZXaAcuJ80w"
      },
      "source": [
        "![image.png](data:image/png;base64,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)"
      ]
    },
    {
      "cell_type": "markdown",
      "metadata": {
        "id": "dMJU8QxfJzId"
      },
      "source": [
        "![image.png](data:image/png;base64,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)"
      ]
    },
    {
      "cell_type": "markdown",
      "metadata": {
        "id": "ljS_bMksKIuY"
      },
      "source": [
        "![image.png](data:image/png;base64,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)"
      ]
    },
    {
      "cell_type": "markdown",
      "metadata": {
        "id": "T1PlsZ_VKGn8"
      },
      "source": [
        "![image.png](data:image/png;base64,iVBORw0KGgoAAAANSUhEUgAAAx0AAAFMCAYAAACu1NHoAAAgAElEQVR4Aey9P68l1bX1fT6EPwZSfwFHYEFuHJCCA0LkwFE7IsCZZXgkSzxYN7kIB+hKnTig474Zxg4smYvcauz29dNGje1OSPercfz+jgez56qq/afO2fvsUdJmVa01/441atWatfdpLjY5gkAQCAJBIAgEgSAQBIJAEAgCKyJwsaLtmA4CQSAIBIEgEASCQBAIAkEgCGxSdIQEQSAIBIEgEASCQBAIAkEgCKyKQIqOVeGN8SAQBIJAEAgCQSAIBIEgEARSdIQDQSAIBIEgEASCQBAIAkEgCKyKQIqOVeE9P+NPnz7dvPLKK5uLi4vN22+/vTcA33zzzebNN9+8tKdW1zmCQBAIAkEgCASBIBAETguByaLDN5DaRPLZZvPnm8ZDbEJPC97DRSvswN/bO3fubD7//PPDOdrTknNmm/ke8cT7t+HdnmlEPQgEgSAQBIJAEAgCQeCACAyLjg8//PBqk/vgwYMrl/R739Vgc+Kbxm02oY2ps+6i6NC3CNrY61CxoaJDRcipYxuenDW9k3wQCAJBIAgEgSBwyxFoiw7fAHZvl1VweNFBIcIbeN6+ux3G1HY2bznOe6fXFR0yqnkAW58T/8aB8VqY1Hmrc9PZ0Nz+7ne/u/rJk2xiR/P6l7/85ernVer3GKX7/vvvX8Urf4p5iidff/31t3w5kGBCfl6QuU2PUbIu5/ZyHgSCQBAIAkEgCASBILAOArNFBwVE5943dmx42QSj5zJ109vZTF+PABvsumH2wgB8mQOKu24OsIeMvOqbkx//+MeXRQA2KAw0Ljsa96KDDb/auaJDMjXGOZ50sXd9xNvZk18VQJ1ej3Z6g0AQCAJBIAgEgSAQBA6JQFt0yAGbON9U6tw3vch4n2+Cs9E73FRRJDjWsu4baY3pmwZt/tloEwHfRlQZigDkqs1tx+v8yx48oSBQX5XzPNxn19/Zq3L1mvzA0YstxtIGgSAQBIJAEAgCQSAIrIPAsOiQO98Y1uJDGz82snWM6xQdh5s0NstzRccXX3xx9fMm5sFb9LHXjfm8aw7rMdrQV86gu0+R0PmCd+RCfOSkgmL0syyXke0cQSAIBIEgEASCQBAIAusjMFl0VPdsHrVR1eZttPlzvW7T6OM5X4YAm+W60fYCQTJ+zaZ/5AGbtfDwwqWzMTWnnX944990VBv1mpi7/hHvyCdFB+ilDQJBIAgEgSAQBILAcSDQFh3aOGoDpw2fH76h1Hi3mXR5nXebxiqT63kE2FDXooM5UOGg813xxo4KA/+bDfmtx5QP5wgFi9vmn/etciObXX9nr8rVa3IAx/y8CkTSBoEgEASCQBAIAkFgfQSGRYc2t/5mWqHUzZ5v7HwTR7/kdWSjt/9EgqEXHf5P5rLB93miEMG75kPzpL/7eO211771//fg2wPmkbl2G5rX+ofktSipxYTH43zCn+dDjsQgXbikOPDV9REvPjoZ2et8gE/aIBAEgkAQCAJBIAgEgXUQaIsOuWITp82ef3xDSEhsIF2OzZ9kfCMqmc4GttL2CLBZdox17pt216yYoyc7U2NzNjSvU9+EuG0KoRGXauyuC09Gf5uhOCsmbi9Fh89kzoNAEAgCQSAIBIEgcLMIDIuOmw0r3m8TAhQdXojepvySSxAIAkEgCASBIBAEgsA0Aik6pvHJ6AEQSNFxABBjIggEgSAQBIJAEAgCJ4xAio4TnrxTCT1Fx6nMVOIMAkEgCASBIBAEgsA6CKToWAfXWA0CQSAIBIEgEASCQBAIAkHg/0cgRUeoEASCQBAIAkEgCASBIBAEgsCqCKToWBXeGA8CQSAIBIEgEASCQBAIAkEgRUc4EASCQBAIAkEgCASBIBAEgsCqCKToWBXeGA8CQSAIBIEgEASCQBAIAkEgRUc4EASCQBAIAkEgCASBIBAEgsCqCKToWBXeGA8CQSAIBIEgEASCQBAIAkEgRUc4EASCQBAIAkEgCASBIBAEgsCqCKToWBXeGA8CQSAIBIEgEASCQBAIAkHg4uHDh5t8gkE4EA6EA+FAOBAOhAPhQDgQDqzFgYtnz55t8gkG4UA4EA6EA+FAOBAOhAPhQDiwFgdSdKToStEZDoQD4UA4EA6EA+FAOBAOrMqBFB0h2KoEW6tajt28iQkHwoFwIBwIB8KBcOB0OJCiI0VHio5wIBwIB8KBcCAcCAfCgXBgVQ6k6AjBViVY3kCczhuIzFXmKhwIB8KBcCAcCAfW4kCKjhQdKTrCgXAgHAgHwoFwIBwIB8KBVTmQoiMEW5Vga1XLsZs3MeFAOBAOhAPhQDgQDpwOB1J0pOhI0REOhAPhQDgQDoQD4UA4EA6syoEUHSHYqgTLG4jTeQORucpchQPhQDgQDoQD4cBaHEjRkaIjRUc4EA6EA+FAOBAOhAPhQDiwKgdSdIRgqxJsrWo5dvMmJhwIB8KBcCAcCAfCgdPhwLDoePTo0eall17aXFxcXH4++OCDVTen1d/du3dX9ReSng5Jj32uPvnkk8t7RRxeI1buDflZw/5tsQlOWrNeeOGFzaeffroIr7Xn76bxffLkyeb111+/WssPwaN9MGOeDhHHTWN7aP967m3D3UP7v632uAe0p1lrnb6t2CWv7JUOyYHJouPVV19d/OA+ZFBaeFN0fJvowoMCkFYbCS2mS7Bn0V27eFwSyzHL7ILTPhuwJVhkk/bte2GE2ZJ1Q/yv983a8zeKd61+5eibq5ozfNpnLdgHM/wfU9Gxy31/6PkTHik4lt3ru2DPHGdvsT/G+9z/u8xddPafs2PBMEXHify8Sgulb5ZYQL1vilTI77PRmLJ/W8Z2wWntBfgYN2nHNt/M29xGtm7Alcfa83fTWGntOPR9vw9mx8hn+HNonJbO/U37Xxrnqcvp288XX3zxRl6mnjp2Hv8+97/byfntKSaWzuXWRYduWr2N4W27Wl+oIaNa5DSujzbI9+7du9IdvdVZ8sZyaYK3Ra4WHcoLrPUQJ0/h7HMjGY1J3/vBvrPhC7M/DLGht6ifffbZ5dtUzafmFduSIRZ0GVPrXEGOtsZOjIzXFvvvvvvuczGwscG3+53yQ47oeQzVJmNgqFZ96IJ9jVvXisHfRmPbdRSLPoxNYS2b9d70uehiBJMpvS529TlO4ICs7C6516dsYMvbUZzwANzVeu7YEAYuo3PF2mGjMZ8L2ZCs69dx/NBWf8z3aD6ZD/RH+Y7GsQ/+wsUxVuyalz/84Q+X3PP4iYn8JCd9fNVxyeEPma6t/hUbtqb4XHOXP8eHHP15onzUTw5qKzcVY5VRjDVO16uxSJZc5VM4qOXel/2Ok+pHr7bycZs3w7tgWDE61DXzPWWvcsT5wNxKBt74vUDfiH/ut+PPoXzJtt8LHqNiGMXZ5Sc7rAl1LjUmW55Xzs+vmFg65zsVHe+8884VwSCgCC6nEB2CEgg3sZNT51VO8up3OWycc9thJUx9IdG14+lz4wuJ48iip40A/dLjAYieFhbmWHJsHHyBdH+SqfMoHfXJJr68Vfzuo+bnsjonti6G2kc+0pvyg03JuD/y9X7FyscXZXz43LgtnTvGupYdX7yJQ/34rjnpWuOdPfS5j7Dv/FiiJ5n6qVyUbY9NGHku0q86uiY2jVcb1WflVs0PjMCj6nOt2CoGHTaS8/mrejUe7NPW+VW/bMgXsTpm1V7Vr/lWedn/6KOPLnnlsaKnPmLDP1jVa8n5fDHuNqTr+GDbW7ehftl57733Fuc/9ZxRLJVj8qF+8uLa49S4XwsfvbT48ssvL3nhOUp/bh7kq9770qv8Vu7qkz+N14/8Vl5WGV3/48vHmz9974ebP37nu5efv979+XO2Or2lfU/vP9g8fuMnm68ffLp5dOf7B/FRuQonhYfiGmE4F7OwUKyKmVh1/c8nX01iIn9zWE/xiPg17841xVvnXeN+n9ecutydo7v6qryVX89pKs7OZ10DFLffRzWvXD9/jweTf2GyddHRAScCi9AaG5FR4/VGH8nWG6LzeW59wsTxq4uArru/wQFLFhLmCfy6OfAFa6SHf+ljy2X9nPFt21FO2Ol8LO3Dhlr30+lLpuMvNuYwRM7bip/mSZsfzaHGfA6qrOzUOKU/NbddjLIzp+cx63xJLB1W7l+5kSf2az70087Z7OJC19s5O8hW/KfuLXS89Xy9X+ejWLlXJTM3Ly5b7XuOHa7Vv+Rlz+14/m4Pman8JOP66NBW/+rv4kSe1jHpYkLOW/li7jq/yI78u09kPXc/Z3xki/Gu7fx0ck/+z4eXhYfGKEC06e5kd+mTLRU0Kmxk/++/+f3my5feuGx3sSedbq4cNz/fxgf5EyvXc3h068+cX+fRaH47uyNZ/HW5O09H+nO+Orv4nNMd+RRH9ZGdKfv4SZvCo+PATkWHCKcq3z9zZJxbeDw4J7f3n/O5MHG869sTLSTqcxnOpTtaSLrFQ7b4ZmCk5wsj81JlNefE4AUT8l1b85S+Yuxkqz/JLO0b+en0ZVfyyqeLYw7DTgebsisshY9+9qJW9vQBszmsiRmsveVtVBfjEr0ae/fAkoywUS6cEzv67l/nHqOfjzDu8BcuSzaUxLAkNmT9Hpi7t9DxljkjN+XMOGPepzHlLtx4646ut5pP5wk2vcWO5pc5dlyrf2HrPjhnjdE4c4sfn0/6vNV45QDj1b/6uzhlg1hoicNzxC5tl49sjbg78k9M+PZ26r6SPcWH/AgH4lWrmH2OfGzqXN90/O2XH19xa0p2yRjfGqjYkLy+NeDbhCX6nUyXmzjAvTvHpc6m+lRk/PkHP/pWQbQED/c9sq3+EY/gRZ2vjq9woMrit8vd7fs5OmrnfHGP4V/y6M/pjnwKD33wzz2A3bQpMpZwYOuiQ6TjYYSDJWTUTVcX3+6Gk023h49zb4UJ+LGgcC1sfJPUYTVaSLo5cFsjPWLwxWwkq7ln8fOYPU7s+Th97sN1On9zfdgc+en05VP4b/PgcAw9Zj/nntDv0mVfY+rjQx8xOw4ep5+7fT/v5nmJntvQ+WjjppiJl7xkH3337+eMz7Ud/sKFjUuHUWdzLjZ0fP78nPGlLXHBf+VOn87dDrFRdOjaxzln3qo+49iRHLJuq/oXtswdNrztsJ+bQ437Peb2qn+N1Tjlc+o54zliG7vulz7FM+Ju53/Uhy/aORwUJ3PvcaFP22HMmLd8E8HPq9QeuuhY8hMlj2nuvMtN88K9O4fhyP5aRQec8fmiT7FWrhLfLnl0Om7fz/GjttPzcc6JGw5Kb0535FPzqM82/okjbQoSOLBV0QEZRVoMqF1Cxu4hMSK/23M/53wuTHwR1ANUD2UWARaXOjeOmWR986Gxbg58k8WcV73O30iWGDpfjHUbgs4H8mo7f3N9S/x0OHX8JZYuL8cQudoSi+YVfGVLD2N9dC6dDoeap2KGC9WPrrsY1T+nV20tiaXDyv0vwab6nbPZxVVt6Fpx+H1EX31r5zEutd35o8/na2TP58LPseHt1Lhj5X7Rr/5dHhlvO18+ny7LueNHH231r36Pk3P5QEetx9HFzP0k++i5Lz9n3FvZl93ap37v8/M5HJCdk+t8o0urbx/0twv+86Elb/bRX9LK9qGLjm6uHA8/XxIjMrsWHR1PsKm2G3fuwM/KlSnOu30/73Jfw5fHPBeny3qsfv91GLlszlNkjDiwU9Hhi7BuGlXR9HU3kZzPLTweoJPb+8/5XJh0myVhz+Inmfp2UPPh49WGFg/pSE74suBgh2tsMAe+MNLnshqXL7WMdxxgrMahfuWj/IgNWVr3t7RviZ8Oa/QcB8XFZ2rTSmy1BUOw1vhUn+NQc9eYcwFbykWyGq8xSmZOr8as64qPbHgO3Ty7f2Kv8UhPcp1P8GccG4pF8uDGeGdDfRr3WOmrscgfPzGUjPx0es4H96l+H/P4/BydGpeu5+az3hu7/iE52IKlYhK+ulasFQvir5iRC/q6/329kZ7/IbnPFfMpzDj3eMCDPsm5bfkkD7crecdJ1x63fOlvqci32sRvnUvZkY7G3Z7iUJ6yoxZMungZUzs3Lpn69xV86zH6poN5qjm533q+bdEB5sxLtadrZJiXOr8dhp2d2rdr0SF/U5jUeOXXeUT8zgnJ0F/5IDlyrzl0ucsX8WFzW1+Sdx24IH/YHMXJuOuDAfPcYVRzy3UKj44DWxUdMgB5tZDrIxLy0Xh3E6lfBOZGIpCRrNtD9txbYVLxEybCkHnQtXBmbtT6Rsnnzvuxgbw2L2y4RgsQtqTL3FRZxeyx1EUOPVqPQ3qKQzruA1m11d/Svjk/5AYeWmBlm4WWnMBQ9mpukgVDj7med/Na+4jHcehyr/EpTh4cXYzEMqWHTG19bsEBmaX3uttQrBVD7NHWOKXPWIcRY7V1v4q1w6abv6l7q/qosfpcECs8UlsxlL0pGxpX3G4D/Bz/jif4dz7R5/YcX/clP9yb0qu5c41vt6nY8OX+kdW49JFBV7Hw0bjniD+1Hqd0idN9+fxLhjzdp8/H1DzILrh7HNVHJ+PyHd98nHN9s8FPq/SNxP++9dPhz6sUm+eBjal226JD8zCXm/xVDMFcYyMMp+LU2K5Fh3zDs5EPxQT3Ko8qV6uNbea++pEvf87v6qviLbs151GcI5+S14d8ZQ+MvJ/xtCk6Og5sXXR0Rg7dV8l9aPuxl5shHAgHbooDbG614bipGOL3uPg/2ujtM0/aFK69GZT9upndJ+a1dZcWd2vHgf1dCy700x7XfZz5mJ+PFB3Nv5ke4swTJxgFo3BgNw6k6NgNt9vON21At/1mYoSJipi33nrr8huGkcy+/eKx3sqr3dfWdehT2K1diG2TS4qOrAXb8OU2yE4WHfralK/P1n6bwYMYf8e0MNyGiU4OWdzCgePgAGtdvuk4jvk4pvtCz71DFR7HlNdNx0LBseSnYNcZa4qOrAHXybdj8DUsOo4huMSQGzIcCAfCgXAgHAgHwoFwIBw4fQ6k6MjPq07iq/EsNqe/2GQOM4fhQDgQDoQD4cD5ciBFR4qOFB3hQDgQDoQD4UA4EA6EA+HAqhxI0RGCrUqwvNE43zcamfvMfTgQDoQD4UA4EA7AgRQdKTpSdIQD4UA4EA6EA+FAOBAOhAOrciBFRwi2KsGobtPmTUc4EA6EA+FAOBAOhAPny4EUHSk6UnSEA+FAOBAOhAPhQDgQDoQDq3IgRUcItirB8kbjfN9oZO4z9+FAOBAOhAPhQDgAB1J0pOhI0REOhAPhQDgQDoQD4UA4EA6syoEUHSHYqgSjuk2bNx3hQDgQDoQD4UA4EA6cLwcuHj58uMknGIQD4UA4EA6EA+FAOBAOhAPhwFocuNjkCAJBIAgEgSAQBIJAEAgCQSAIrIhAio4VwY3pIBAEgkAQCAJBIAgEgSAQBDabFB1hQRAIAkEgCASBIBAEgkAQCAKrIpCiY1V4YzwIBIEgEASCQBAIAkEgCASBFB3hQBAIAkEgCASBIBAEgkAQCAKrIpCiY1V4YzwIBIEgEASCQBAIAkEgCASBFB3hQBAIAkEgCASBIBAEgkAQCAKrIpCiY1V4YzwIBIEgEASCQBAIAkEgCASBFB3hQBAIAkEgCASBIBAEgkAQCAKrIpCiY1V4YzwIBIEgEASCQBA4JQSePXu22fVzTHnumoP0cgSBNRBI0bEGqrEZBIJAEAgCQSAInCQCt2WzflvyOEkSJegWgWHR8fTp080rr7yyubi4uPx8+OGHrYFDdX7zzTebN99888qfztWXIwgcOwIPHjy4vFd0z2xz+D12586dzeeff76N+tHJ7orD0SVyBAGxHq697h5BqjuHIGy2eU5sK18DO4U5YU3Rvahj35yrvYrJbb0+lc363PyeSh63lUfJ63kEJouO11577UY2QnM30vNp3P6et99++6ogoxDc5oF7Cg/MY5jFXXDadbOtOdXnthy74nBb8j9kHrvw8JD+R7aOaW3eNpZt5SsGh5iT7h5hY6/49j2wdUxFx76474vJLvqnslmfw/ZU8thljqJzmgik6DiRedPm1IsMHoDeN5UK8od4sE35OfWxXXDqNhJzOOCHzcGc/CmM74LDKeR1EzHCj2O7X+c2OdeJ1baxbCtfcznEnKx9j6ToqLO22/WpbNbnOH0qeew2S9E6RQS2Ljr0ExD9FIS37WpF/LmDxVat6+u6HnM3UpU/h+tadChnMNWDhkPY+dyAr/S9n5/zdDY0xy+//PLlt1z+oMWGfnb3xRdfXP6k6P79+9/6WZxkONB1v1NcqbETI/Zqi/3333//uRh4+OLb/U75IUf0PIZqkzEwVKs+dMF+FDdyasGt3l/0ywb+HfNR0VntyEfFQLqyRRzkI1+SrbbB2+14buDgfFQf9j0GcnFb1afz0PPHnseHb7XMgdv2OMkPO2rBWTre75hIr+I6N47d6t+vq0/pONa6JibPGQwZ8zxkf4RJzUF6Fasqo3v+17/+9VUc+ESvxtLFuYS3jkuNocYp3/gZ4eX4Iz/ivHxLhtzU+vzio1tvPO4RFl0+ig95zRcHfcRCHLVf454j49giZ8UOHyTjh/Tdho9h7969e5M/t665YU8+yYH2P/7jPy7nDRn5q7Hhlzy4xgbz7rHKHuPgpXF0nX+Sc/9uR+drbNY9PvnXPaXYtomx4iw7HRbks0Ye2E4bBHZBYKei42c/+9mVL24CFoergXLC4uM3iBZEv/FQ8YWSvnNvtWA5dsKj4ldx87nhgSkZP+pirzHp1aJDi5vPMQu5L+7uT3YUsy/s0tG1YukOxeY+an5Vh5y6GGof+cjGlB9sVpzI1/sVK5+6+M/Fjj3Pt+JHLGCIjudWMeFatqbuU8WnmLEtPZ3DsRqLxhXrlG+N+/1c5YkfDOUP/+Tq9qVPPOiqj8PjVX+dA+RqW+dGvrWRVKsx9+GyXQySJR9h5jwjJ3Ksceja7euaWL7++uvL3P2+wz/+dC3b0tFRx0eYzHGjm3ttOtUv38zJpVPz67j53BCXzy26U+1cnB4LWE/hJfkpzisWyXgeuobT+PA8yE1yOrh2G46F+rFH7lWHa2xKTnr6aGxqztHFv2wwX4y53W6uicvz8Zirjq6neO8xYLv2KSefO9nUz7sVM3GTk2w4plyrj0OyzBP6XEum5oAebbdZf3r/weaP3/nu1UfXnRw2aqv1WH45PIclMXYxVxyxTVvj+9svP97o89e7P985D2ynDQK7ILB10dE50c3jC1kno0XAFy7J6CbyxQq9uRsJuXNqfYFS3ixS4K7r7m9wpKcPD0zkwW5uXkZ6+PcHgcv6Ob62bUc5YafzsbQPG2rdT6cvmSlOzmHovjjv8Ot8uO1OB3tLWr9P53zJHtzBdr2mn9Zj7fTV5379XGvBj3/848uP+qu++uTfD18/qm+X8/NtMXRuuD+3ybnjS99UXFOxjHg4NweO05Rv4qP12Kd8+Jyh6z7pc6ym8kR+aetxeiwjvFzGz/E3h5HP/1IfitEPx6LzV/Hp4nR79Vzy+JyzVW3X62q72mPcOeJzwrjn2fnwcflQYaRNOXm4js7px75jqnMKFMZ9rrocfBwdb+tm/R9fPt48+T8fXhUZKjj+9L0fbtRfZd3O1LnHvSRGxxy7jhN93tbYVHCocFKrMbWP3/jJ5p9Pvto5D/eX8yAwh8BORYcWDL2V8A+Lgm4C7+ctiy8yBOULB31q524klz2Xc+HruPpbG2EgLNXnMpxLd7TIzs3LSG/JIulcgAdz81XzVA6KsTu62Jb2jfx0+vIteeXTHXMYdjodfp0PyVFMdjqdbfoUFxyglQ8d3T1W89A1PINf6hsdrg+OVd4ftH7/Kx59JC+uKFe16HfzpZyIz32P4lO/+x/Jdb5kn5zA0vlQx5BRW1+24HcqFuy5D+kpNuaQfOp9z702hYnGPEadyy5+Nd4digf7jHd4yR5zsy1vsat2FKfGPBbirng5Bi6PDx+nr8tHckt8dLqOReev4iMbNQ9iUyvejOa82qo5o6s4kJ3yhYzk/cCufyNX+QTvkRV+HG5XtpWz3w+OwRJMq2+u5dt94X80l4zXzXq9VrHx5x/8aPP33/x+8WYdn8SmduoeQV45+Dkxqu2w9fEaN99y0K/4lcc+xZP7y3kQmENg66JDCwA3CsbVp8/U0S22WmTyTccUav8eE7487FlEuZbUCEssjBatuXkZ6RGDP4xGsloYWWg9ZmJTiz0fp899uE7nb64PmyM/nb58Cn/l0R1zGHY6xOG5dT4kt0vRIVtT92n3sKp5EKNkO/mal+uDo+cned9YYF+/tda3HBpTn+bmf/7nf67ylp7y0Wd0uO+RjPrdf5UjnhE3kCc3OC1s6NP50mMqlpE9x0G+FINj7PM0wmSKG/h1m56P26ffY6LPW3Ad2XRZP5+KU3IeC3Grzw/HwOWR8XHiHM3/Eh9zWLg/YsAv+MhGzQNZ9U/NebVVcyYH+ehiwQ9ttUc/dik6RvFKHln55iAOjRGL+rQO/Pa3v33uhYNkRsdcHl0O7r+zy6bcW/9Jkr4teHTn+4uLDt3rWo89D/Wx/5mLkXjhCDF32DKm1uPXeYoORyfnN4HAVkXHiPi6kfxm6hLpFga/6Vxn7kZy2XM5F77+MKyLWLdoVWxkQ9j6MTcvzHnV6/yNZPHX+WJM+dSvyDsfyKvt/M31LfHT4TTFyS6vEbeJv8ut8+G2Ox3seQsG0vVDeemjY84XepLzzTX9Xeuxatz9IV/9SkYbDeae2NXvfK962KOtvumv7RSGS7hR7XmOfl7luuupWMBBefvhPnRexx2nDhPsTnHDfbhvnUvP50V97rPK63oqz05efUvidL/IT+Hh8vh1jObmf1cf+FI750MyXZzYmJvzinVnSzlzT8ve1FHtIesc8XPGve04o3Fi46WK+mTL1wOXE/7dsctaO5pL7Hebdf851bbfdHQYeNwdzh6jnxOjWjAcYdPloeKJ/qI9mkMAACAASURBVHzT4Wjm/DoQ2Kno8IWKBcz7usAlx9etjPtNR5/auRvJZc/lXPjWhz3YCy8dkqlvtyXj49WG5kA6ktPB4oYdrrFxKTTYSLisFlH5UssxNa81Dukon/pWD1tq3R/9c31L/HRYo+c4CDM+S7lNnN1DBh91LhSPjk4He96CAXoak01hSV83F5Lp8hAXar/747zq6xoeSYb4HUOde1yS6/rAhvglpzx1LbvVNzF1rXQ8H9nRH5L/7ne/+9a9IF3JwkH5qP7FcfLRuGS5lr5ik458dMcoltEbZMkTg1q/n8GIvg6TJdwgD7Uc/CG5+nxONY5f4lKfzw3z7vaYY+/DF/rKw21K1rkiG+RKXo49ceHD5fGlMbhQ5SUj/8z/Eh/Y8LgdC8aJST4qPsh4LpLXR3bJWbrI0ldtdTkjU+cRTLxF1uPVuevqeor3VR776BG7+rs+chxhyrwwj9hX7rLX5YCOY4yeWjbltPVvH7Rx3+abjooB/sFxSYyy4TmCi+PnOYzySNFRUcr1dSKwVdGhwLg5tMjwANBi4AtCl0C9YSSjm4avF12nWyh9/BzP68MGDIQr86A+YcfcqGVR05jPnfdjA3ltMJgXFse6OGNLuhxVVjF7LL5gouOtxyE9/plG9+Hy1Z/GlvTN+SE38BBPdbDIkxMYyl7NbcRt4sdHza368PtqpINNb5ElVtnhI7nuHuvyAE+Pw/34eaevPmJQW3lEvo5D1yc/NSfZI67Ot8dWz6Xncbkd73cOTvnHPrG7jZozsrRdLOBedSVLrMjgS5sP/jlXjY0wqXlgE7uKq86b81ty+CS+alPj2GOMOSZuxsGhtujhS/J8JCvfbLiwiSwtPqs8vipGNW+f/yU+ZLfG7VgQB/EpH+Q91soj1poaQ53zassxIme18gt23l/PsUe8aonFZWu8koMb+MMG/djmWnJdn/djQ61y8EPXPg5nsen4gqP7dlsUG7T6ZkPfdPCvV/2/n/7frf+mQ76ITxj6c3ZpjG6jzr3Hzznx0+bnVSCT9qYQ2LrouI5AdWMtWRCvI5b4CALnjED3MDxnPJL7/giIU/6Tmv0t9i8bDmH3NtqY23Dfxpy3zYlN+i7ttr7WlN8lfnTWjCu2zxeBFB3nO/fJPAjMIpAXALMQRWBLBPTGub6l3tLEc+LZSD8HybBD+PMtwFDozAfYeO/SHhN0u8SPzjHlkVhuDwKTRYcWJr4O1OZjzYOHBv7yTceaaMd2EJhHgG851r735yOJRBCYRoDnR7i6DKdDF33TXk9vlI33Lu0xZbtL/OgcUx6J5fYgMCw6bk+KySQIBIEgEASCQBAIAssQYOO9S7vMw/VI7RI/OtcTYbycGwIpOs5txpNvEAgCQSAIBIEgEASCQBC4ZgRSdFwz4HEXBIJAEAgCQSAIBIEgEATODYEUHec248k3CASBIBAEgkAQCAJBIAhcMwIpOq4Z8LgLAkEgCASBIBAEgkAQCALnhkCKjnOb8eQbBIJAEAgCQSAIBIEgEASuGYEUHdcMeNwFgSAQBIJAEAgCQSAIBIFzQyBFx7nNePINAkEgCASBIBAEgkAQCALXjECKjmsGPO6CQBAIAkEgCASBIBAEgsC5IZCi49xmPPkGgSAQBIJAEAgCQSAIBIFrRuDi4cOHm3yCQTgQDoQD4UA4EA6EA+FAOBAOrMWBC/6X92mfbYJBMAgHwoFwIBwIB8KBcCAcCAcOz4EUHc8OD2qIGkzDgXAgHAgHwoFwIBwIB8KBf3MgRUeKjnzDEw6EA+FAOBAOhAPhQDgQDqzKgRQdIdiqBEuF/+8KP1gEi3AgHAgHwoFwIBw4Vw6k6EjRkaIjHAgHwoFwIBwIB8KBcCAcWJUDKTpCsFUJdq7VfPLOm6xwIBwIB8KBcCAcCAf+zYEUHSk6UnSEA+FAOBAOhAPhQDgQDoQDq3IgRUcItirBUuH/u8IPFsEiHAgHwoFwIBwIB86VAyk6UnSk6AgHwoFwIBwIB8KBcCAcCAdW5UCKjhBsVYKdazWfvPMmKxwIB8KBcCAcCAfCgX9zIEVHio4UHeFAOBAOhAPhQDgQDoQD4cCqHBgWHY8ePdq89NJLm4uLi8vPBx98sGog21SCNba7d+8eTWzb5BHZf1e/p4zFJ598cnmviJfb5OE8fuGFFzaffvrpVvrb+Lpp2V0xuum44/923KM3MY/hfLhzE7yLz/DumDkwWXS8+uqrkxuhJ0+ebF5//fXLj85vIlEVHOdQdChHCkBaYb8Ud+bqmIrHm+DLnM9dcNp1c3Eu3BXmu2I0N1/7jFP0KbZ97Ix04RL3q7e6d//whz9cFqvdfayYJO+xqShVcep2KFbnfGkcm66vF0vCQeuC99dz/IxyTf/zGx3hDb7B53l8gkkwCQfOjwN7FR1smmhvgkA36fs681Wevjlhk+F9U/Egn6Jj+ibfBaddNhf48U3l1Pyd+tguGK2d83UVHbp3R7kQg9+X9Dk3KAq8TzZ1rTXgyy+/vGynfEm2Fg+SrxtjuOkxjeJP/3g9Ed4V2+A1xivYBJtw4PZzYOeiwxfU0UOqezPnDzJs8DDU2zWN66MH6b17967evtWHJeTUQ3PqQYvcqbfKsRYY4KdNCvkJO39LKRmNSd/7wbOzoXl78cUXL7/l8rnFhh6kn3322eUDVXOkuLDtc4EuY2p9/omZtsZOjIzXFvvvvvvuczGwccO3+53yQ47oeQzVJmNgqFZ96IL9KG7k1IJbvWfolw38O+aVE/iqduSjYjB1j0m22gZvt4M/WmIkt20wmpoX2ScmXxeEcZ2zbqNXZX7xi198izOK1/Uqfj4PozjAgBa8XJcxb+GNfHY6xDLik2x1eu5D5+6Hsc42tqbmGf3b0k5xz/FwHtX7o3K/cuq2YJU8bv/GMHOcOV6LAzsVHXpQsSklMBZcfzBK7p133rnaENcHnGS1MNfFmweAP6x1XuXkW/0uRzy3re3yF06+UdK1Y+R4+4PTsdEcuA2N+fyip3nyuWW+2VSip2vk6txIR32y6TFwrvjRVV/NDzlaYutiqH3O1yk/2JQMftSSr/crVj6Vx3OxY8/z9fmST2KB3+h4bh6jn8vW1L2n+BQztqWrc/hTY9G4Yp3yTXy7YiQ9x6Ni2MWsuJSn4iV/z6PmpWvF+d57713NqfvUuGw5X+o8jOLAP23Vo79riVkFdL0fKw6d/hJf3fx184wt+e18zfX97Zcfb/74ne9efh7d+f7m77/5/U52Oj//fPLV5vEbP9k8vf9g89e7Pz+YD+XqPHDMwcPXwMr1eq3YZa/OZZcTfcJNH/IShsqT8bTZCIYD4cCpc2DrokMLqS++DkD3APNxnevhysNstChrnM0P+iNZ2dMHudvasinRA1A51oecrru/wQEfHpxgD04drr7pGunhX/rYclk/Z3zbdpQTdjofS/uwodb9dPqS6TiJjTkMkfO2w6/z4bY7Hbc5dy4uMP9zvmQL7mC3XtNP29lkzPOgz3lGn7c+L+qfsu96sqt7QfpTPkZ4Ok7Y9fiXxgGXtF7WT13fiKVbWxVPlScu2iW+lIMXjehU2/QrT+wvbVVgfPWrX1/paROtIkHFwlIbU3IUHdqQy7ZktUnXZ0pv2zHn3ggPvx86TjhnlvhXPp7XobFbEkNksqkNB8KBNTmwddGxbTBaeOsDV4u17IwW5W0WcF/4t43tlOSVp+Pomwfloc2V+lyGc+mOHpzdHPhGbaTHJkn64FhlNY/EUDc26NS25il99+Hy1Z/GlvaN/HT6siv50SZsDkOPmfMOv86Hb346Hex1reICf1r5kOySe0z68Ax+jeZCNrv4iWspRrJBrLT47GKWfeYMebXELd0R9zo8O1vY5a31KA5ypcUWmNPftcQiX+SLnPRHOSCzxJfskgttZxdbI77jc0mrIuTPP/jR5h9fPr5aJ5bojWQoOrzI0LcBhyhsRtwb4SF55tbPiV14wxn6ploVGZ7XobGb8p2xbDTDgXDgOjiwatGhhZiHP8n44jxalLuH+kjW7eHjNrbKkw0CGxSula8XCl3+owdnh6vbGukRg/TxN5LVfE5tcqSPPc+JPveBL7Wdv7k+bI78dPryJfxHm7A5DD1mzonDc+t8SI5vsDod7NVWtqbuvSX3GP4k28l3PnfFCF+jeZGvLgaKIeVLPM5f4es2kVGLT5+D0fy7XheHj3OOLY+NsdpKRh/ZrhvVrq/qL/GlPCsnqh1dY0t+u/GpPooCfl6l9k/f++HBi45D/uwIHjhP6BNmIzyYM+HB3Dk20q1z6eP1PEVHNn2VE7kOJ24bB1YrOlio/YEu8HyhHi3K3UN9JOv2btvkeD7K0x+KdbPlD0nX8/OlD0bftDGPdQPS+RvJEsNoDjUun/wkBvnOB2NqO39zfUv8dDh1nCSWLi/HEDlvu9w6H26703GbnIOBdOlT6/fKnC/0JEfBqHP6u7aziZznQZ9jtGReOvuy6/eFbFe7/vcZ+Fa7BCeX57yLgzFvsS/cvb+eOzadjvJRsVDnU3Ykr78D2fVfr6qxYFOYzs13p6s39f6tw6Hf1lPUHLLomOMec1Lx8PvJz8HF55W+qTZFRzaYU/zIWPhxGziwetHhD1wtwtrA0DdalLuH+ki2W+xvw8TUHJRn3VyBJw9DydQ3mZLx8Wqjbmh4wGKHa2wQV7cBdlmNy5dadLp5ZazGoX7lI74oB+S8dX/0z/Ut8dNhjZ7joLj41Deakh9tdhVrhx8+yJdcFM9Ih7y9rXoak02/97q5kEyXh7hQ+90f58S/C0bokrts1vkfxQxXpUPu9HHtvBf2+kNyxsCXPMDK85CO5KTTxYGutyP7LtPlTZ/713m9F+CQcjumooOfCFEgTH3T0eXl+NRzbG5TdGje4EO1p2vwHnGPefT5kJ7swh3Z8PuduVly3xBTio5sKuFC2nDhtnJgtaJDgLHw6mHJhscX6m6TIz0t7r5JUN9I1u3d1klSXsqzYgIuYKtrHuJg7g9bnw/vZ5MlHfV/9NFHVw/Q0QMXW/6grrKKmTjUzj2APQ7JKw7puA+f4+pPY0v65vyQG3hoQyHbbE7ICQxlr+ZWNyEet87xUXOrPoQhuiMdxr1Flli5T7C39B4DT/TcR3de498Go7l56WJWDM75yl+NkwNYqJWOxjxen0PvRw+dURwVj84vtnQv8z8H7LAlJ+dHFxO6c740LlvMR43Vr7FFvj42d65vNvQvVvHzqifv/efwbzrwQw5ztjW+bdHBfTCXyxT3iLPaUNweu9sQl1i/FMOS3FJ0ZKO5hCeRCU9OmQOrFh3XAUxd+K/DZ3zkpj8XDrBp883vueSePNe9z8Ut/l5pLaxVqNWfba7lK3bX5UvwDb7hwOlzIEXHs9OfxNyImcO1OKC3u903bGv5i93z4bIKWf+mYI25F3/rNxRr+InN8+Ft5jpzHQ7szoHJokNfEfNzgGNauHn7SmxrP7hCsN0JFuxOFzvus2O698On0+VT5i5zFw6EA+HAeXNgWHSEGOdNjMx/5j8cCAfCgXAgHAgHwoFw4FAcSNGRn1ct+iPHQxEudrJ4hQPhQDgQDoQD4UA4cH4cSNGRoiNFRzgQDoQD4UA4EA6EA+FAOLAqB1J0hGCrEixvMs7vTUbmPHMeDoQD4UA4EA6EA5UDKTpSdKToCAfCgXAgHAgHwoFwIBwIB1blQIqOEGxVgtUqN9d58xEOhAPhQDgQDoQD4cD5cSBFR4qOFB3hQDgQDoQD4UA4EA6EA+HAqhxI0RGCrUqwvMk4vzcZmfPMeTgQDoQD4UA4EA5UDqToSNGRoiMcCAfCgXAgHAgHwoFwIBxYlQMpOkKwVQlWq9xc581HOBAOhAPhQDgQDoQD58eBi4cPH27yCQbhQDgQDoQD4UA4EA6EA+FAOLAWBy42OYJAEAgCQSAIBIEgEASCQBAIAisikKJjRXBjOggEgSAQBIJAEAgCQSAIBIHNJkVHWBAEgkAQCAJBIAgEgSAQBILAqgik6FgV3hgPAkEgCASBIBAEgkAQCAJBIEVHOBAEgkAQCAJBIAgEgSAQBILAqgik6FgV3hgPAkEgCASBIBAEgkAQCAJBIEVHOBAEgkAQCAJBIAgEgSAQBILAqgik6FgV3hgPAkEgCASBIBAEgkAQCAJBIEVHOBAEgkAQCAJBIAgEgSAQBILAqgik6FgV3hgPAkEgCASBU0Lg2bNnm10/S/Pc1b70lhxr218SwzYypxbvNrlFNggEgX8jkKLj31jkLAgEgSAQBM4cgevYAK/tY237h6bIqcV76PxjLwicCwLDouPp06ebV155ZXNxcXH5+fDDD48Kkxrf22+/fVTxJZjzQeDBgweX94o4ucYB1+UnxxgB4cN69eabb26++eabsbCNaG3bRt5UT+IU/gibO3fubD7//PO9494Fs7Xvk12TEk80/3reCavr2ACv7WNt+7tiPdLbJ17u+2Pbo4xyTX8QOGcEJouO1157rX1A6aGlhxcP+NGGn4dd3SyxyKOvtj70WUhcZuRH/aOx2zK5ys+x6DCbyhXMszBPobS53KiKi9vgtPZmanQfTWdyXqNLMBrdA7tsoI8VXXL09bCuj+LrvsXHLpj5fcJ8Lb3Pal7oy+a+h2Kg4JCtfTbAS2NZ28fa9pfmuVRu33gPwemlsd5mOe6zpfflbcYiua2DwNZFR13sIak/5GpRUh8MGv/xj3989SYSG154iPSuh9/uZqgP1XWgulmrytHx6TCbihD5Dr8pvXMb2wUn8dQ3LYfGDO77/XBoH6duT2uKXpIIq9ExmlvdE35vjfRPsZ+cD82dXTA75H1yqHuis9NtgJ/ef7D543e+e/l5dOf7m7//5vdtcbKUI50P9f317s83U/Yls+To7B86hyVxLJWp8Xqswl24VBmu8XEO+wByXatlvcg+YS2EY3froqN72IweJt2CPoJ8ZMPlR4vKqN91T/28Fh3Kp8NM8+PfiEhGh/S9nzednQ1t4F5++eXLb7l8EcKGNthffPHF5Ub7/v37lxs2bEuGA13G1E4tZjV2YsRebbH//vvvPxcD3MO3+53yQ47oeQzVJmNgqFZ96IJ9jVvXisELFWy7jmLRh7EprGWzFvs+F12MYDKlN4qdHNWCg2SZE9l2LNnU+7jbds55v58rB/c7il8yjiM2PB6PW3YUn/DFvufU6XfjyNFWf8xHNxedPcVFPF1OdVz2HV/O3YZk8C9eccxxoI7LJnOKjdrCW/cP5xnzeaKvkycX5cx5J1fj7HD1ODss2MzSqsD48qU3rgqNv/3y482fvvfDzT++fPzcRthtT51jm1a2ZPPJe//5LV+MeztllzGX17nsP37jJ1cxHyIH+apzwfz6mOaMe8HHiVVtjdev//nkq8vYFbP3c46dJWtIxzHuS9mBD2rFHXFM8euo3HI9YqAFF89dtlxnV1/Ydv4T41yckpta65gnbM/dP+SbNggsRWDrokOk9BtHjkY3Oze4bq65QzfDaEGa8qGxLqY5f6c2rhzrQ75ixoKiRUkHi6TwZ6GSjB8sfJorDp9P9LQI+Twyt74ouT/ZqvMiHfURH/5oFZv7qPkhR0tsXQy1jyJKulN+sFlxIl/vV6x8hI/Pz1zsjrFikh3ZED46iEP9+K456VrjOqo99LGHfY9xid6l8fKfJfg5X4gf7DpsFGeNzd0qfs+/2tT41PohW2BCHNjXtWOv/hqPrsFS4zUebNHKpucj39JX3N1cVEyqfr23qrzsq/j++uuvL/1qXAc4ySdHxWqOO9W37NT4sE2LX+JQv/tlnLi4HsnXuUMefdnv+jTuNomPts6r+tnM0uotu79pp0DQ23hkaLE71yJP+/9++n8vi5pa4DDu7ZztLgfX1/mUnyX2JcOc+H0hrLkPGfe1YGS7xlevhf9c0YE/50T1J44oXsnqgDNwRLqK1+9dyc3dI9UPsXjuh/JVOes5zcWpPKfWOuIGj5pXroPAvggcpOjgZqo3+6i/Bo2cL17IcJPURYBxtfUm9LHbcq4cHQMwY3HQdfc3OGAzWkw0ZzwkwMoXrpEe/n3OXdbPsbttO8oJO52PpX3YUOt+On3JCGfH3/XnMHRZzit+midtGvmJkM9BlZWNGqf04QI+PC4/Z1ztnJ7Ljs6X4AcPZaPmU687P67PuM/JKD9k1VbMGHM79Lk9zQXzwvjIFuNdvIy5bfocA8eTcbXYdFkf13mNq5Ot/mV3ijv4dV8dZnPj7rfG1dlz+SV5+T3jsYzOsSk/fviGl7fsFBhc6yc/3SbY7Uyduw8/nyoGkJuyyxiyo3bKDzbm2g5vn1fwrdzq7I7iVL+KvD//4EdX3zRVWbfXcdnHu3PFJz0dzjmX7eyOZKU3yt15PtKf8vWXv/zlWy8VPEadT+lqbtw/uh7HKG5k0waBfRG48aIDko82dCSoBU5vOrsFTDeaPrf5UH56Q8HH3/oqb/Bh3FvpgnPFzxcc8POHyUjPHy7oVVn5Io65+cVGzVP6irE7qj/JLO0b+en0ZVfyFTtimsMQudrKpj7CUvg8fvz4spU9fcBsDmtiBmtvKSi7GJfo1Zi53gU/6XDonPyEK3Ey7i1xKgc/xFOKgS4/l9U5duo86ppY0HF7OndM/bzacn3kam5uG3mPbe5e9rzRp3U76uu44/6RJ1ZvFfdok9NhRgxqNb8+3+pzvzWuOXniBO+qL/vIkAOyHpefI6+4/PBNLUWGig69bafYUMHh336g43amzpGv7VQxgOyUXcaQ7Vpy6uKX/NJDuNX7RrqaS2EPvnPzIJ0uTmHM39GMYq3xylflXc2nu7/IwzmKHnnAK2/rvV11au5u38+rnvvgHF+ySR9xS39JnNJ1Hel5HNiocRNf2iCwLwIHKTp0E/vPVwiqezAwphaC15vAZfy8u2E03j2wXO82nCtHcAJXrpXfaA7IHazrYuILDrJua6RHDNLnGMnKZ7dIoqcWe54Tfe7DdTp/c33YHPnp9OWTB6n753wOQ+RqC5/1twQ8KNXHhz5idhw8Tj+vPrjuYlyihz4tseyCH/nIluJR4fzb3/72ktfKeXQQp+cvWfH0uooOHvijGEf9ihnuY2NuLvz+6+x63nUcrMCT+XLs3H+VH9lzfcnIvnOg6nX3i/utcc3J1zirvvtHFtzBwmV0jlzNzTfAbNApNhjTJvhUv+lQ7Pr7DuVGPt5WnEbXwq3jAHMJviP83a77786F9ShmtyNfvs74mM41Ll74nKuPPJyj6G6Tx5yO2/fzOT3GvSUX5aP4608rXZZzz5U+j2OXXLGTNggsQWDromOOtO506sHAGDe7643OO9+S1SIztdCM7J1Sv/JzrLTx0KaNvMFTC8jokKww9MMXHPp90zNahDp/I1nsdr4Y6zZSnQ/k1Xb+5vqW+OlwGnFPcXR5OYYes58Ti+aVeZEtbaT10bmODoeap2KGC+6D8y5Gjc3poU9LzIqJw+OrcSFT/SCnB2b91g4db6u+xnxORvm5DZ3LDlgz5nboc3tL5hK9Ues23DbyjqGfM+7t1Di4kmMnW/132OKv2qO/w4wxtZ1N91vjmpOvcXAtm1NHZxf5kY266dUm3d+0U4jwkyuXx/Zc6zp+vvY3Hcpj9EfwxDEXO+POafp8XsEXLiLTtfgetcJFP7HST62qjNvTfE/568ady87Rale6S49R7mv48pin+K7Y3T+5uL76OoyQTRsE9kVg66LDFxU55+bqbsgqS7D0dzrY1JjkOLTAaXPSPWQkO7KF/qm3ys+LDuUjLLRpY5GVTN3AScbHq42KK/OJHa6xAY7Moc+Hy2pcvnwOuwUPezUO9Suf+lYKebXuj/65viV+OqzRcxyUOx/eYhOH5Ltv/xhXC4ZgPdc3wlp6GnMuYEu5CBON1xiX6EnGD3DwWHyeOvylLxl9/BCWirn2uwzn8tfhxHyM8kOfVr7qPdDx0u2RU8VPeo4DPiSvfxJcWHG4PT9nvMala89XctIjX417PPK56x+Sy+423IEDFUdyUVv5D9eJmWv5JjfPt2LONflzLRw4ZMuvkUEHOW8l7zoaq5taFRf6poMiQ+1o4y598Kl23W/1wfXSokM5Ta2N2PN2ScEheQ7F73NCPy34ep6KizlmfAp/bHmc3Xkt/FwGG/iDU/R7q1idt8wVfdIlftdT/9Q94rI6JxbPHV/Et4svfu44eq7Oxal4yJWYaxwVI+TSBoFDILB10SGn3Dy6CfXxRacbR85vNvpqy02qto6hXxOX/xpDlTn169FCwCJD/hU3f2jwoBeu3o8N+u/du3e1Ye4WT2GJLZ+TKquYfA67xdznxeOQnuKQjvtw+epPY0v65vyQG3iI7zoq78FQ9mpukp0rOmSzm9faRzyOQ5dnjU/xcz91MV4m1eTlesh4O4VfFxd5wlFsEa/nxVjXVr/kJtmp/NwWWPrcys7cg1g2tuHz1H1Y81As1b/8Tdno4lF8FX/ydYw7rJgLxcLH8fVYFCv/TLX8jQ7PU/cH97NiGsWFb91b8sF9VfOST49Zcvwz3thQWzlXY+2w8A0t5xQeKj5GBYdkdQgr4q7+uMYurf/9An/HMPr/dYDFVG7YpVUxI3vYpvVvcJBVjMyPc4DYvSUWMPe8GZuzIXv4pq14dHEiSzziAz+3pK+2xES8lcsdH7DhfEN/lFv1g7zsc+zqa24dmopT8da1psbB3CtmnnHEnDYI7IvATkXHvk4Pra+bcGoBPrS/2AsCQWB/BOrDbn+Lp2HhXPPednaEU90gbWtjTp4NlnxxsJndpZUNPYtGm9FD+FDM2lxrczk6dokdHdlcsoEf+d6lH9+7tPg7pn0ARcccD4g9bRA4FwRSdJzLTCfPIHBECJzzQzlFx/NE1EZam0bxQsd18kMbQ39Dv8vGFx3loUJJ7dSB/C6t+DP3km0Xu+gobmFynRtmfO/SKl5hckxv5a+Tv1M8y1gQODYEJosOqHp+oAAAIABJREFULcR8LXidC9ASkLSoe3xzi/ASm5EJAkHgehA4tk3C9WT9Ly8pOp5Hu67neu5c1zOHDSKFxy4bX3Sez6zvQX6Xtrf47d5d7KLzbUvXc4XvXVrdT9fJlyWIwKnr4vCSmCITBI4BgWHRcQzBJYYgEASCQBAIAteJwC4bX3SWxon8Lu0SH7vYRWeJ/UPL4HuX9tCxxF4QCALrIZCiYz1sYzkIBIEgEASCQBAIAkEgCASBzWaToiM0CAJBIAgEgSAQBIJAEAgCQWBVBFJ0rApvjAeBIBAEgkAQCAJBIAgEgSCQoiMcCAJBIAgEgSAQBIJAEAgCQWBVBFJ0rApvjAeBIBAEgkAQCAJBIAgEgSCQoiMcCAJBIAgEgSAQBIJAEAgCQWBVBFJ0rApvjAeBIBAEgkAQCAJBIAgEgSCQoiMcCAJBIAgEgSAQBIJAEAgCQWBVBFJ0rApvjAeBIBAEgkAQCAJBIAgEgSBw8fDhw00+wSAcCAfCgXAgHAgHwoFwIBwIB9biwMWzZ882+QSDcCAcCAfCgXAgHAgHwoFwIBxYiwMpOlJ0pegMB8KBcCAcCAfCgXAgHAgHVuVAio4QbFWCrVUtx27exIQD4UA4EA6EA+FAOHA6HEjRkaIjRUc4EA6EA+FAOBAOhAPhQDiwKgdSdIRgqxIsbyBO5w1E5ipzFQ6EA+FAOBAOhANrcSBFR4qOFB3hQDgQDoQD4UA4EA6EA+HAqhxI0RGCrUqwtarl2M2bmHAgHAgHwoFwIBwIB06HAyk6UnSk6AgHwoFwIBwIB8KBcCAcCAdW5UCKjhBsVYLlDcTpvIHIXGWuwoFwIBwIB8KBcGAtDqToSNGRoiMcCAfCgXAgHAgHwoFwIBxYlQMpOkKwVQm2VrUcu3kTEw6EA+FAOBAOhAPhwOlwYFh0PHr0aPPSSy9tLi4uLj8ffPDB6pvTTz755Mqf/Oo6ZDodMp3rXImnuld0z2yDgd9jL7zwwubTTz/dSn8bXzcluys2+8QLrlk/jnPt0LPk9ddf3zx58uTW8X0f3kb3OPmaecm8hAOH48Bk0fHqq6+2GyFtjrRJoiC5e/fu4oeHZNEbFRbZNDw/wRU3YbfNg1sPeMlfR/F4yjfoLjjturHWnG5z75wiro4N2C7NucovXReWyk3hmY3x82vQFF7bjAXb9bDdZh4im3kIB8KB6+bA1kVHfaDXjcEoAeR8o0zxUt9IVh8jm+fUr42aY9fhOYUH8ik6pheZXXDyjfXUHPgYfir3XeY2nO+CzSjvpevCUrmRH/Xflo3x0/sPNn/8zncvP4/ufH/z99/8fvELoil89hnbFtt/fPl486fv/fAqj7/98uMbz2Gf/KM7vQYHn+ATDtxeDmxddHQPjCUbCxUYL7744nPfnHT2DrFpuG2krUWH8utwF57dN0nS935+ztPZ8Llicyy72NBPiT777LPLnxTdu3fvshjCtmTAHl3G1MoO47WtsRNjleMa++++++5zMcAhfLvfKT/kiJ7HUG0yBoZq1YeuronVW+JGTi24UYgzRr/08e+YeyHqPqod2asYSFe28EU+siPZapu43Y779BixqZafnnX65DQnj24nN4rho48+mvyJaMUIrDVv7kfnv/jFLy7xQEY+mXfl4Lkz7zW3iqd0ZA9fjj+6PteSc/8173qtAuPLl964KjS0WdfmXZv4Kju69vjkn7mU/NIYK86y02HRxfDPJ19tHr/xkw2FBgWIiqlOPn23d7OSuc3chgOnz4Gtiw49hOqDTw+VrqBwgoxk6oNbOjzMeHi7nXM9F+b1Qa3Nn28C6kaRh71wZNNWN4wd/j5X6Gmj4PPBHPlGyf1pnipXpKM+2ezmUbG5j5pf1SG2Loba5/yc8oPNihP5er9i5VM3UnOxY8/zrfgRC/cbOp5bxYRr2XrnnXeucK62FZ9ixrb0dA7HqrzGFeuUb+KrGMFR8mF8V3nHjHy9xS5+NVbz0bVzgtjAQzGCBbZrn2T9vpBN/SRV/onBY3V8ZVPX+NO144u+411zIK5R+9e7P9/ow/guG3ZxSH6x4TksibGLueKI7a5VcVELJRUgnlenl77T35xkDjOH4cDt48BBig4ePv6ArWRBxh+ykpGObw7Uh+yUvWr/tl/7w94x8g1c9zc40tOHTRXy4NXhr40CG7KRXjdHLuvn+Nq2lY8uJ+x0Ppb2YUOt++n0JTO1UZrD0H1x3uHX+XDbnQ72lrTiAfM/50v24A626zX9tHM2K7bbyi/NfyTn8TsWxO9Yz8UmHypKtCmXLdlwHZ3Tj32/r3ROgcK449Pl4OPojFq+IeAbAa71Uyu+NRjpTvV73EtidMyx6zjRN2oVv77pUPzIdH2Mpb19m5TMaeY0HLg9HDh40cGDSG8A+ehhLtJ0Y5JJ0TFPKD28wVOtvwEVttoMqM9lOJfuaMPiGy1ubN8cjfSYS+ZWulVWmwtiqG+N8VXbmqf03YfLV39dDKO+kZ/OpmxIXvm4f87nMETO2w6/zofkKLw6HbdZzxUX+NPKh+S6jV/NQ9fwDH6pr/rhWraxT5/brNhuK780/5EcOX/55ZeXBQOYeMtahKxiJhe3q7wUv2/CdQ1HdO52OQdP6dNXW9lwX/iv+NHftRQZ2qDrWwGKjW2/JcCnx0gOczGiCybE2WHLWG3rtzNc10Kk6uV6/pkSjIJROBAOXDcHDlJ0+CZ12wT0cK4b0u5htq3d2ybvOIGP4zY3B6MNgG8KwcxtjfSIQfrojWS1yWDT4jGjpxZ7Pk6f+3Cdzt9cHzZHfjp9+fQNpceg8zkMq7yuicNz63xIbpeiQ7bYHOJfffroutv41TyIUbKdPHZpu/jdZsV2W3nicczw7e1IjhwoOnTten6OrGKm3+NX7IpDfW+99dbmwYMHl+sYsWlcH3Rr67jUMV13Obj/Tsf7KDooNhhTAbL0mw6tA+KQ5+Frw1yMxAsmxNBhy1jXqnDij+H1U6uvfvXr/Lwq/3+p4b3VcSh92VyHA8fBga2Lju6BMfcAHU1299CS7Kh/ZOcc+vXg941y3RAswUw26karmzvfWLBxqHqdv5Es89P5Ykw+689NOh/Iq+38zfUt8dPh1PGeWLq8HEPkvO1y63y47U7HbXIOBtKlT63y0kfnc77QkxwFo87p71q3z7jHT1zY2VYe/ZoXvmhHOLk/P0fPW/nw+40xcKMQVL9sqfBw/iKnmNH1dhd+kD/4ub3uXAWG/+0DhYg28Z187esw8Lg7nD1GP3fbc9i4bHeuomlp4dTpp+84Nh+Zh8xDOHB+HNi66KgPGh4sevBuQyDsdHqMzW0utvF36rLCqW6ChI82hGxCJFPfbkvGx6sNbSKkA9bMJ3a4xgY4dnPkshqXL7XoTG02ahzSUT7Kj9iwQ+v+lvYt8dNhjZ7joLj48LMc4pA8fxdDn7cdfvggX/JTPNLtdNwm51VP/bIpLLHVzYVkujzEhdqPL29rzsSLLnGBofzBM9lhfCTPODm4bz/HLzhqrPrStd87kpGebMtPlcc+en4fdX3Mpccqu7qWH3IhV+wLG9nrckAH/NAZtXxDQJGhtv5R9khX/RUD/DNnS2KUDc8RXBy/qRjqmIqN/LTq/DYqlQe5DgfCgdPkwNZFhyaaB4ce2r6RmSMBD2f0dN3pdA+zTu6c+rRZ6R7UYMrmRhsS8FXLBkFYgWvtxwb9+qdG2TCz0agbHWz5HFZZxeSx+OajmzuPQ3r8k6fuw/WqP40t6ZvzQ27gIb7LduU92MpezU2yYOgxc46Pmlv1wbxKb6SDTW+RBX/Z4SM5zWflU5cHeHoc7qeeO7bChDlUPNhyLrm88NQ/fwyWnbzjg1yNoeZe5xF5twVOHptyrv3YdrmuTz7ox4baiqP70Dg5oev86PAgl1FL4aGfJ21TcGBPeRK/5sfXhqUxug1xjn/iWvngZ9Ty7Qw/r/JvbkY66T/NzUjmLfMWDtx+DuxUdKxNjO5htrbP2L/9ZM8cbz/H130vapNdi6HM2/bzFsyCWTgQDoQD4cCxcSBFR/4gb/Zt47GRNvFc30Kqt9RrFQEqaPSmnzfeu7zJDxeujwvBOliHA+FAOBAO7MOByaJDX/Xz1br/nGAfh1O6/lML+fWfFkzpZSw3QThweA7wLcda9z72WWPUruUr/Dg8P4JpMA0HwoFwIBzYhgPDomMbI5EN6cKBcCAcCAfCgXAgHAgHwoFwYMSBFB35eVV+XhUOhAPhQDgQDoQD4UA4EA6syoEUHSHYqgQbVbvpz5uQcCAcCAfCgXAgHAgHzocDKTpSdKToCAfCgXAgHAgHwoFwIBwIB1blQIqOEGxVguUNxvm8wchcZ67DgXAgHAgHwoFwYMSBFB0pOlJ0hAPhQDgQDoQD4UA4EA6EA6tyIEVHCLYqwUbVbvrzJiQcCAfCgXAgHAgHwoHz4UCKjhQdKTrCgXAgHAgHwoFwIBwIB8KBVTmQoiMEW5VgeYNxPm8wMteZ63AgHAgHwoFwIBwYcSBFR4qOFB3hQDgQDoQD4UA4EA6EA+HAqhy4ePjw4SafYBAOhAPhQDgQDoQD4UA4EA6EA2tx4GKTIwgEgSAQBIJAEAgCQSAIBIEgsCICKTpWBDemg0AQCAJBIAgEgSAQBIJAENhsUnSEBUEgCASBIBAEgkAQCAJBIAisikCKjlXhjfEgEASCQBAIAkEgCASBIBAEUnSEA0EgCASBIBAEgkAQCAJBIAisikCKjlXhjfEgEASCQBAIAkEgCASBIBAEUnSEA0EgCASBIBAEgkAQCAJBIAisikCKjlXhjfEgEASCQBAIAkEgCASBIBAEUnSEA0EgCASBIBAEgkAQCAJBIAisikCKjlXhjfEgEASCQBC4KQSePXu2WetzUzl1fs8hxy7v9AWBIHBaCKToOK35SrRBIAgEgSCwEIG1NuOye0zHWnkeU46JJQgEgdNHYFh0PH36dPPKK69sLi4uLj8ffvjh6tk+ePDgyp/86ppD/olFcSm+tQ/3eefOnc3nn3++tsvYP0EExNNdOOn3WPh1+InX/fvmm29uvvnmm8MbPzKLcMnXzJsKkVi0Xt80r9fajF930TG3xqyV501xKH6DQBC4nQhMFh2vvfZau9HW5lsPE4qAt99+exE6WjjR8bZuDHho+QNUG4iRH/Vjb5uHXM2jxkFSknv55ZdbLJBZu/UcyXUUbxeLNl6SF445xgjsgtPchmDkTXM64vRI55j7d8VhrZy86FBs26wNrEHcL8eWW8WMeBXnTR/HxOu1NuMpOm6aZfEfBILAKSKwddFRH25s0pZsnpY+uKsPATsqOnxjIbmlmwvJafPuD2nl0G3kj6Xo8NjA3fumCIg8m6gp2XMe2wWnpbx2XPHj/PPxUzzfBYc186xrwz6+ji23mku3ZlaZ67g+Nl53Rcc/vny8+dP3frj543e+e/n52y8//tbffcyNY/M68MTHHP+Iifbvv/n95tGd71/lqFz/evfnV3keY47kmjYIBIHbi8DWRUf3IJ9bEIFvqVz3AJXfWth0cjz05jbX3du4zp5iP8aiQ3F1eCpvvgnxokr5ej9vfTsbnq/jiQ39lOiLL764/EnR/fv3Lws1bPscocuY2ql5qbETI/ypLfbff//952JgLvHtfqf8kCN6HkO1yRgYqlUfurruDuJGTi24CXu3Qb/s4N8xHxWd1Y58VAykK1vEQT7yJdlqm7jdDvl1/hS7ZP2nZ+Tg2EiOPPFBTK6Lr1HbxUAOzJH8c0zJe5ydHPFiixY/an0eyZf8KoaOATbu3bv33NxIr8OGeKUjzJCpflxfMl1cikVjYF/zd56Qt1pyw7da2SIftWBCXOpzefplT+eaP93fyBATMaqfOfZYOGcTTvvPJ19tHr/xkw2FBpvzp/cfXG7I58axo3Z0eGyKj5glD0bKzeVqDswneVc71bfHpXPl9b9v/XSjfOpYzZECBAxcvvrJdRAIAkFgHwS2Ljq0UOrjhx5KS35+xMPHH/xuh3MWXMlzsEhzrXbkt4vR9XTeyfgDweVHflxm7XPFWx9MwsQfaDyklYcONgvCcZRbNyeeL3p66Pl8MEe+AXF/8l8xlo76iK9ipvjdR82vyhNbF0Ptc35O+cGmZPwgX+9XrHyEj8/PXOzY83wrfsQizHSg47l5jH4uWz/72c+uuqptxaeYsS1BnZNDlde4Yp3yrXHno3Rkx7GXjPslR/Vz7jHN4UiCXbzSJZ8a25w8WEuP3Gtu+PaW/PCrMc+BHNXnh3Imb2xwLTmdO270IUO8HmPN0fGQvo8Tl3yQs2Sw6306r/FLVsdIXnYdE8nKjvMJXWyrlR7XHmPt4/pfUfz7v76B1rk21vqWQxttxvQNAN8CzI2jo3Z06L4TthyaI3L3HMC05l2vZUeyPrfYpvW4dD5VdHQ5qggDA7eF/bRBIAgEgUMgcJCig0WSRXQUmMb1EPEPD03X6ezpoVJltbD7hgYbkmWRp6+2kvEHnsZ5INQH2MhPtbnmtT+45AeMiFXX3d/gSE+fUW7dw8zzHenh3+fcZf18V1xGOWGv87G0DxtgCXadvmSmODWHofvivMOv8+G2Ox3sLWnFA/gy50v24A626zX9tB4rfTVm2dCba+GtMeean4/06a9tF5vnWGObk69xV/3qn+tOzvMa8cvj6WzM9dV4iQe7GofjjKllfBSXx+56o/Muji529+22fM78HJmlfcj7BlrndXOta/30SN9+6BuAuXG3h4+5VhjC9xHOzINsdTmOMMS3x6XzuaKDfNFTIVL7NJYjCASBIHBIBA5edPDQ8cJCC2Z3IKsF1w/6XU8LcZUbPRB90da5x+LFSB1DTv1+jPy4zNrnyp341NaCSTGqz2U4l+7oYdc9zDzfkV43R1XW8XXcp7CqeSoH54HrVn8aW9o38tPpy67kKy+IZQ5D5Lzt8Ot8SI7NYqfjNuu54oIDtPKhQ7nUOal56BqewS/1jY6qj5x86qP45fPx48eXreT1IQ4/R1ctuJA/ucCN0Zx5jh7bEnl8SU+H63ts9byTW3I/gdHIV2fX+2q8xAUGv/vd73ZaH8AKzEf3AP66ODxO5LCrMT+EFRt0Ypcsx9I+5NlU01JUaJNNsfH1g083f/7Bjy6//Zgbx87UhpzcwEwt9xFjFUeffz8njw5DxtR6XDrnZ2P83Yp/u1N/TsV1ig5HNOdBIAisgcBBig5/qG4bpBbf+rVx9+CSnBZjP0Z+u0Xb9UbnsqeHQ/cg7L5RGdlZo185sTkDH67lb4QFsYwedt3DzG2N9IjBsRrJau54AHvMxKYWez5On/twnc7fXB82R346ffkU/nWjQCxzGCLnLXF4bp0Pye1SdMgWGx38qk8fHcrFMVBfzYMYJdvJY5e26tOPrv5+xP1jlz7p15hkQ+OSHR3MmWMpWfxq3GNbIk/u2HT9URzq7+SW3E/K0XGoa2Jn1/tqvMQIBio6ptYwMBnhzDj38Uiui8PjJC7sacwPYbV20UGxwd87+Fv++s2HNvA+7pt7j5tzxa/7jrlU/7bz3/G9wxCfaj2u7lx5eeFB0SUs1P/Vr36dn1c5oDkPAkFgFQS2Ljp4iOmhwTG3ICLXtZ297sElOV/IZauT42E2eih2MdDXxaIxf2gge92tcvcNWX24dVjUGJc+zDzfEZ6dv5EscUzxRD7ZbCDf+WBMbedvrm+Jnw6nETcUR5eXY+gxc97l1vlw250O9rwFA+n6obz00THnCz3JzW00ke2w1Rj94q/s6VBsmm99iLPDbEnO5Itt4vEcHccl8tUvOah/6nA/yHleI98+N52Nub4aL76xOxpHbhQX495i0/s47/x0sUu+s+Nz5ufYX9qHfN2Aa7Ptm2+N8+2GzufG3R4+vFWuvk5rbNv573AZYYhvj6s71zcffJvTjQsDfeoY9tMGgSAQBA6BwNZFR32o8LDSQjl31D+w02Kst0J6kPhRfWhMMp2P+hDS4lzf8Lrt0bnsjPT8oTHSX7tfudeHmXLVhhD8JFNzkIyPVxvMgeR0MJ/Y4Rob5NnNkctqXL7UcshG9c9YjUP9ykf5ERuytO5vad8SPx3W6DkOiotPfTMt+ak3yx1++CBf8lM8Ojod8va26mlMNoUltrq5kEyXh7hQ+90f5zV++okbTqm/6+viVpxLfNfYiQW+1fFql3iQ51p6OrDHNbnVtvpB17lQ+SUdn5vOxlxfjVd+peOYy69fIyMswF7nfsgGnFH/SA6dURzdHNb40CUGtcwH9pf2IV830fyUiD+a5lrFhmS5Ho27PXx4W3MCL3DnmhzRFcbgLK45X8ClwxB9j6ue869VkVMdV7HR/bRKcjmCQBAIAodEYOuiQ855AOtB6Q/LucC00KJDq0W6HiyyPiZdFuUqr37ssbhXmXrN4o9efbi5fH0I+Nh1nSvHLkZhpBzApmLseICr5L0fG/Trn93koQdO9SGJLZ+jKuvzIttTD03h6HFInn/+03043tWfxpb0zfkhN/DQ/OuovAdD2au5zXEGHzW36oN5lf+RzmVw5T/IKgd9ZIePRDWflU9dHuDpcRRX37p0/rmOzqu/rg9/xF1x/ZazcuG+5Yt/Slk2u9xcXn70UoQYwc/nx+U9Nw+j81O5UHOULT6y1dmY6yNecFMLPz0+z8FliEnjfnR2R7lLD3nHrYsdHxrzmN2/zpkP5Jf2IV832LqmsODvHSg4kJ0bRw4ftVWM5KQ5WLKe+vzLnuMibrIWCt/uICZaFRLkp9a/xaAIYXxUjMhWjiAQBILAIRHYqeg4ZACdre7BpYV86mHX2TlUX900HMpu7ASBY0eguxePPeZd47vJNWbXmKM3jQCb8DXaac/XO7pGfik6rncO4y0InAMCKToWzHKKjgUgReRWItC9Wb4Nieqe9v+PyTkVV7dh/pbmsNZm/Ng25GvluRTnyAWBIBAEliAwWXToa12+JtbmY+3Dv1KWX11zyD+xbPOTC/R3ad1n91OFXWxGJwicCgJsxK/j3r9uTFR06J5mTanrzXXHE3/rILDWZjxFxzrzFatBIAjcbgSGRcftTjvZBYEgEASCwG1HIEXHs+f+RaptMLnt/Eh+QSAIXC8CKTquF+94CwJBIAgEgSAQBIJAEAgCZ4dAio6zm/IkHASCQBAIAkEgCASBIBAErheBFB3Xi3e8BYEgEASCQBAIAkEgCASBs0MgRcfZTXkSDgJBIAgEgSAQBIJAEAgC14tAio7rxTvegkAQCAJBIAgEgSAQBILA2SGQouPspjwJB4EgEASCQBAIAkEgCASB60UgRcf14h1vQSAIBIEgEASCQBAIAkHg7BBI0XF2U56Eg0AQCAJBIAgEgSAQBILA9SKQouN68Y63IBAEgkAQCAJBIAgEgSBwdghcPHz4cJNPMAgHwoFwIBwIB8KBcCAcCAfCgbU4cPHs2bNNPsEgHAgHwoFwIBwIB8KBcCAcCAfW4kCKjhRdKTrDgXAgHAgHwoFwIBwIB8KBVTmQoiMEW5Vga1XLsZs3MeFAOBAOhAPhQDgQDpwOB1J0pOhI0REOhAPhQDgQDoQD4UA4EA6syoEUHSHYqgTLG4jTeQORucpchQPhQDgQDoQD4cBaHEjRkaIjRUc4EA6EA+FAOBAOhAPhQDiwKgdSdIRgqxJsrWo5dvMmJhwIB8KBcCAcCAfCgdPhQIqOFB0pOsKBcCAcCAfCgXAgHAgHwoFVOZCiIwRblWB5A3E6byAyV5mrcCAcCAfCgXAgHFiLAyk6UnSk6AgHwoFwIBwIB8KBcCAcCAdW5UCKjhBsVYKtVS3Hbt7EhAPhQDgQDoQD4UA4cDocGBYdjx492rz00kubi4uLy88HH3xwspvTTz755CoP5aPrkPR0SHrscyU+6V7RPbNNrH6PvfDCC5tPP/10K/1tfN207K4Y3XTca/pn/peuR0+ePNm8/vrrm33W4lOYB+WnPJXvIXJ2e2vOZ2xv/0w5xPzui/u29+G+/qK/PU+C2e3BbLLoePXVV691I8QCtE1hoAcKhVFt60bwlBeXu3fvPpcnD+YlNyTY7rNhWeLn1GV2wWnXjZzmVJ9Tx2xJ/LtitMT2rjI3vR5s638XblZs9p2HUQxaV+p6W30vvfYiYeRvqS3Jub1t9JDddp7QSzu/UTrE/O6Lc+Z3fp5GGOve8n1XfXnG/LqMzs/luTfC7Zz7j6ro0JveF1988fKzDylZRKoN+vXgPbVJVy5eZHAze99UTshrkZiSO/exXXDaZSOHn1Pk4i4c2QWjXfxso3PT68G2/uHMPvfwvvNwiBjm5siLhEP4c3tzvrvxbeeps5G+fmN7iPndF9vMbz83U7gyb/VFg9YXFRWsUcj5Xgy8vW/KV8a2n59jxmzrokOFgapZr1wh2ChRSOY6Oq+E5eFw7969Sx+7/tykbtCJizhOcaPX5dRtIISh40yu0vd+3kh0Nij+1LJoyC42NG+fffbZ5fxprlT4YFsy4I0uY2qnuFJjJ0bs1Rb777777nMxMNf4dr9TfsgRPY+h2mQMDNWqD12wH8WNnFpwq/cX/bKBf8d8VHRWO/JRMZCubBEH+ciXZKtt8HY7NTdirDaXYDQ1Lx6Txyy7dc7quiLdKvOLX/ziW5xRvK5X8fN5AJsaR8Wi8+s+wAqedBj5nDj+no/PEzbBX63Hjo+PPvqonXdyqHNBjO5XtokPTBTjyAZxVNvYcD1y8pz9HFm1miu9rFLr/ZwTm9YJcPF5QM5zIyZ8oqdWuh9//PFV7tJHTr6wh1+NqW+KU3Pj2HLOESP+1m5r/MKiy3cuRuk4ntXO2nlU+9wzcFzjNVe4yzxzLVnuKdnRdWev45bLCjNxXljAfY3XT40LHtf+iilxO+4+d8TM+FQMikk5j/gnu8SFX8dL+pKZ8oGexyg92cEWuBOLYveY3Ibjjz7YVux8nDid0/KHbm3dj8+B7IBtjVM2agyeh8ar/lQMNaZju97EZNueAAAgAElEQVSp6HjnnXeuQAesbUCA4D65EER2GK+EWwKedCB8lcfuNrFWGzd1LazqTVpz1bXL+NyAb8VUWFS8pMdDHD3dKI4bWPrN4f6Ek2L2OZaOrmWzw1GxuY+aX9Uhti6G2kc+sjHlB5sVJ/L1fsXKR/g49nOxY8/zrfgRCxii47lVTLiWran7VPEpZmxLT+fkUGPRuGKd8k18u2IkPcejYtjFrLiUp+Ild8+j5qVrxfnee+9drTPuU+Oy5Xyp8zCKA//eTsUGXvhXO8Uj4vB7ERuKidyUv2S51v3NOD583jXma4Cu4YFsOBeIAXvkWnWqTelp069WY+Qs/Srrtqq/Kiv9Ot/ERCsdYaaWvqqja8dE8cF1MPaYax8YOW6yh885Ts2Nk4PHqHP3R25T7d9++fHmj9/57uXn0Z3vb/7+m99fYTKlpzHFuM+aIhvKw7lW53cuhn98+Xjzp+/98CoH5bJtHtXHaC6Zb2IEe+XguKvf70nhpJ+my658aRxdXXfcgms1Nr+WXckRl8b08kD9c3NTY1Bs6lNuNX/Z1Zjn6HEw7jn5uNur2CE3Zx897h/Xw69w2He9FG6HWutrTsJBzxnFrjx83vw+cLzIU7LkrtbnouMBeqfQbl10dEkJbADqxmtfnRyNC2RfjCrQ1UZ3DQl9cl2um1wfP+bzihm5gLuuu7/BkZ4+o5u44i4M/EYc6eHfsXZZP98V11FO2Ot8LO3Dhlr30+lLZoqPcxi6L847/DofbrvTwd6SVjyAL3O+ZA/uYLte00/b2WTM86DPeUaftz4v6p+y73qyy0N/yscIT8cJux7/0jjQ9dZjq/7dBzouM+LmknmRjGzO+aiYEwc+RjE4Jh4z+lNt9em2qr9qu153ftwe484LnxPG3W/nw8elIx/akLMGV505Ts2Ndzl0c0n8XasC46tf/fqqyFAB8viNn2z++eSrq75Ob6rP456LsWIiuxXHKV/dmHLQpxtb2lfjmsvDcZeuNoSae2Ehn66/C7dGccs+PkYy3s/czGGseKtdvz/cps6xV3WQA0/Z7WRluxZP6NKiJxv0qZVP/Po8IINvjY1s+PzIVvXhdl0WH107hVcnrzhZK6Z0Xc7tOA7efwrnOxUdmhRVmP6BCJok7/cKTYBovKvqK4h1IjTudvEHyJCtEohxtcgofu8/hfOaf8WQG9kx4ly6oxvQbzBwcOxHeh2WVda5UHmAr9rWPJXDaL6qP9la2jfy0+nLruRH3JrDsOao6w6/zofkWJw6nc42fYoLDtDKh8aVS52Tmoeu4Rn8Uh/2a9vFj0y1rX7nGXKyQay0+Oxilh5zhrxa4pZuzRNfHZ6dLezyUmQUB3a97ewRW/XfYYS+fPq5+xBmzKv6mSviVgsGcz46XezIxygGx0Q2KPo8Tj9fOs+dP+mSj/wyL27fzz02+h17YUKOtZWuy6KvFrsaf+utty5xV2zqdwzIodrWtWL/wx/+cJnPaFz28SVbxNDNJWNLWhUhf/7Bjzb69mCJvGQ6rJSzxuZiFCb+Vlk6YCPdpTEgp/j/962f7lU0yVadX+YQP8h067DwkLzPt+t3eDHPyrn6dp9+Dk6y5/1+3vnyucEv9w66kmHMW9Yp5GiJBdv005KT8kPW7c7dr7KDXuWFfOJX+VZbrufnxKYWvV3vO7fFuWxWXBmj7XCWHnGCkecsXmkeGPMWHLB/Ku3WRYcSrWRU3xIAAFBAO0CQ1AHlfIldJm1OFj/Vv8dyrOfKDVKTB9eKuVvQPRcwckJrXFjUG9dtjfSIwbEcycon8+kxe3zY83H63IfrdP7m+rA58tPpy6fwr9gRyxyGyHlLHJ5b50Ny3cPObXXnsjV1nyoXx0A2ah7EKNlOvvrt4kem2la/8wxfHhN9YNTFwJoi3/hyu9J1m8iorfbVN5p/1+vi8HHO52Kr/juMPB4/x4da5U7+ik33Gphp3OOd8+HYuQ/ORzG4D9kYFR3k7HNCHzG7rc6f5MTtBw8eXM6t5Imva90e4+6zwwQ5tS7r/eipVdGhWHWuuVBLjl0ObmduXLJdDvhXfG5vdK5vNPTNBj+vUqufKi0tOpTXPmtKx4sluXf5KBcVHNv8PKyzo746v8qzckoyrMMeM3OtPnEATmpuZHtujqrvUYz4xG6Vm5sb5JVXfRZLVx9klrRTOp4TcWO/WxM7f+jVeXC/Hbau5+fuAz2KjurDZTXGfez99Vw2R3Lg4eP0+XwSL/Mj33PrcY3jFK63KjoAxYFSkk6EUdKADPlcDhJIxvsFet0Q+zjnsrlEjhhq/Ng55lY5OmnrzbskN9moN1iHvROdOa96nb+RLLh2vhiTz7pR6Xwgr7bzN9e3xE+Hk/J3/D2OLi/H0GU573LrfLjtTgd73oKBdL1feemjvjlf6EnOF0H6u7aziZznQZ9jtGReOvuyW+el2q1vV/G/BCdkve3i8HHO52Kr89lh5DLEK//4UOvzOsfdOR/uz334+ZyPKRvbznOXM33iZd0Ee5ycd/O1lCOygT9hh021ylNrljab3FfkJ076PPkcuQ3O58a7HLq5xF7X/vXuz7/1c6ptvukYYeBxz8XomBMfdh0rxqbaQ/ysCvuVr3N5SA8ZChH1CQtxwZ9jXc74VVt9+1g9d6x9DAwrP0fy0nXukIvsuN2pc+mP7j3ZYz9GbIoFe9LVvSs5+mqLXpXxnDwH9B3PkQ3P1+1hw1uX9f56PjXPrAmKDT2Pkz5viWtOznVO5XynoqMjkPd1yWu8bg4kBzE6fU2WiC1ydTbVN0X+qnPKE9jhV29eydSFQDLcuJ2NijHzgR2usQGmHZYuq3HNt1p0pm7gGod0FK8Wp9H8uz98zPUt8TOFk+OguPiwyBKH/Iw2u5Lp8KuxkYviGengz9uqpzHFKSyx1c2FZLo8xIXa7/44J/5dMEJXMWCvzv8oZrgqPXKnj2tfe4S9/sCPMTDBL1h5HtKRnHS6OND1VnaIo4utcqDDXz6JnXg9LtmVDDm4vMbAFRtzPrDncatPevitPjReMZGMc0ax6w/J//u///u5NV2yfp+7rVHOknE+K4bRx+1JBpvy69cer/qlp7yrPH7o99i7PsnLjuRkE33n1Nx4zQGbNWZsd62KDn00xrceS7/pIC8ww7/PwZIYpe82pFNx6WL3vqf3H3yrePKxes49Bv/ruK6R0RzomnuG66nc3S5z6H3o1nlS3pKvvrv46MM+calff0iue0o+HVdk1ScfGleLLZ8r8nV9xY0uOt6O8sIvMSLntmWHeUfObXMuHccS29jSdcXVdfAtX9gkV/xi02WEk+xI33HCRtfiy+OVHT1nqk/pyz7rhmIgJ41hi5g0NrUed/Ecc99WRYcSEZCaaAHGgiNQHLSacNVBV0D+13/913MPIfQBf2SbcezVtk4UcUA4/JxCKwyc0MTMTQNGIqrj4BiQv8a9Hxv0ayFjwwzG3AD4xZZjWWUVk8dSFwhs0Xoc0lMc0nEfyKqt/pb2zfkhN/DQoiHbLB7kBIayV3OTLBh6zJzjo+ZWfTCv0hvpYNNbZIlVdvhIrltMuzzA2ONwP/W8xr8NRnPz0sVMLuQpf85fjZMDMmrhs8frc+j96KEziqNiMRcbcwQHav7y6/c8eRAH/nxekSFm6fNPSmtszgc25QMbaplHjRO393eYKC63AYdqDPU+d1vkU3NmfsCOuLu25qKYiMXla7wjPni/bPu17HV96idmx8TzmhqXnHNB9pR79e351HN9s6F/6YmfVz157z+3+psOn3cwFGZguSRG5hMM4KbjUOP26+5fr1I+oz8mF0bOXbfFOXk5l+pckGPV8bix433Ij7iFjvtGp2slB3ZqmX/sMMa8EPfIPz6qvuygi0zXKld8qq1YM9+dLXQ7vOQLXezLBh+NVywk5/dI1cdOxbrOteSISa3b7DCgr/OHnRqrr3lLsJcd4ldbcSaGU2i3LjpOIalRjExuJd1IPv3jt4fB5jywyT1zffOsdYlNRO6vadyD1TQ+4c+/8NFmrdvwBp/T58/cGkARwMY/c34cc56iY+Jr+ZD0OEiaebi5edCCvfRNT+Zpv3mae4gG33/hm83Efjw7Fx6JJ/obC73JPpeczynPufUy68RxrhOTRYfeuvGVzilXiyIneajV9TndnMn1OG++Y58XvuU45Xv/2DH2+OYeoi57zufC6ZR/XnDOc5fc8yw6FAfm1ssUHcfJtWHRcShixM5xTnzmJfMSDoQD4UA4EA6EA+FAOHBdHEjRkZ9X5VufcCAcCAfCgXAgHAgHwoFwYFUOpOgIwVYl2HVVz/GTNzXhQDgQDoQD4UA4EA4cLwdSdKToSNERDoQD4UA4EA6EA+FAOBAOrMqBFB0h2KoEyxuH433jkLnJ3IQD4UA4EA6EA+HAdXEgRUeKjhQd4UA4EA6EA+FAOBAOhAPhwKocSNERgq1KsOuqnuMnb2rCgXAgHAgHwoFwIBw4Xg6k6EjRkaIjHAgHwoFwIBwIB8KBcCAcWJUDKTpCsFUJljcOx/vGIXOTuQkHwoFwIBwIB8KB6+JAio4UHSk6woFwIBwIB8KBcCAcCAfCgVU5cPHw4cNNPsEgHAgHwoFwIBwIB8KBcCAcCAfW4sDFJkcQCAJBIAgEgSAQBIJAEAgCQWBFBFJ0rAhuTAeBIBAEgkAQCAJBIAgEgSCw2aToCAuCQBAIAkEgCASBIBAEgkAQWBWBFB2rwhvjQSAIBIEgEASCQBAIAkEgCKToCAeCQBAIAkEgCASBIBAEgkAQWBWBFB2rwhvjQSAIBIEgEASCQBAIAkEgCKToCAeCQBAIAkEgCASBIBAEgkAQWBWBFB2rwhvjQSAIBIEgEASCQBAIAkEgCKToCAeCQBAIAkEgCASBIBAEgkAQWBWBFB2rwhvjSxB49uzZZtfPEvuS2dW+9JYca9u/jhz29TGFwRIM9/Xf+ZiKad+xzl/6gsA5IbDvPbSP/jnhnFyDwE0jcKh7NUXHTc9k/K9eEAjiQ90wo+la2/515LCvjykMRrjV/ikbc2PV1pr5KJYcQeDcEZi7J9ccP3fsk38QuE4E9rmXPc5h0fH06dPNK6+8srm4uLj8fPjhh6636Fw66N+5c2fz+eefL9KL0HkhcCgyT6G2to+17Su3kY+//+b3m/9966ebfz75aigzhY2PjXzs2+8+ps738dPZ3cfenG7n78GDB5frptbPHOsjwHNKuOe4fgTm7pE1x68/23g8RwR2XdNZm7QHvg37333uZefNZNHx2muvHaRQULHx8ssvH8SWB38u505eEVjF4E1sar755pvNm2++udmlAJ2aq0OReRcfT+8/2Pztlx8PN+uKbclxkzlcV9Hxjy8fb/78gx9t5I981ff4jZ9s1NLXtUswlEynS99cnp0PdLtWc//H73x386fv/fAqfuWha/VrvNOjr/O36wOqs3WOfawxb7/99qL0WRtPrejYNs9FYNyAEPdCbf969+eX95DuI60PUy9Eqq7WY+nN6d5AuifrUs9sPbvFu3M/tsVi1zVda9jSdewU5qTep9tce357Fx2awDlgU3Q45LudH8NDihhuQ9GhDaUejNrIfvWrX19uMHXd3UhLZqzTW9q3xL5kRvbmNuPSW3qMfGjToM1DV6Cpb25jsY9/5ffozvevNiI6V1+NtfNRZbimuBgVFrKvAmuqmOr87fqA6mylbx6BUy065jM7DQnup9pqLe3Wiio3da17c2pdOQ2EjiPKbTfaxxH1OlFsi8Uuazp7pVN7GTKF+NS9OjfmdlN0OBpHfA6JvcDjgXv//v3Ltxj8lM1lupRUBOrrPuTrV3+6KRlTy40ju96PHrH52DaFyRxhp8a7/Lq+zoYeaod6o9bZX9rXxdv1jexdR9ExV1jMbTK6fLq+miMFh+ZKMUxtZJbYw/5cUaEiSz9Zkxw6te388YBS6/cY95B06v3FfYS9be4nZGXT78/6VrPe83NrhGJxe7q30elyrDl0eToG3bjsez7gUePwb3pZA6ttdPEjPN5///2r9Qsbbrtihm3WNR+vY46PfHYYSYY4a57Ym1vL6zzKpsfleU+de9419upDsqOj3hNcz60HyE21uxQd4Hjv3r3nfh5e82IuyM0xqXz2MeEFf6Trc+lydV58bIT53HOz4xU6NT/50yEd+fOPdLAlzDhkg1+ldHkp7y+++OIy/zmuYpO2xqd4iB0Zb/Gv+1ZYEr/yYp7pczs6p1+tz+UIC/mtNtEDJ7Xqw7auu4O4kVPLXFQM6Hf/jmvlEP6qHflwDOZilmy1TdxuB39qp+7VuTG3k6LD0TjicwjRkZSbQ+FDxtENwY3l4zqHaJWMbo8YkAUuxVTj0rXklxwjws69jZbe0qPz4UXH6FuOpT46+0v79slBPtYuOjQP9WdVNbe5TfyuOWqO+PmTCg5dV99cdz4Yq+1cvPsUHXoA+IKu+8U3Kbr2+6+Ob3M/cU/KJza5x7lP/R4WRuj4PVuxk67nIJ3/r72zO25jV4KwM3IWJwYn4jT07iz84hdXOQc/OgnFcG616n4+7anBD0WuViYbVRSwwEzPTANYYsiVJHlhy85OjK5ffagxC1+Hi+fn5xe7+C6/np6e/ng0V36ATazEXuPQtbD8TZn4uz7sdrjVrq6FpYI8+iuO8AF59Gf38sohscHFiyMbP2TTdeQLc1tt4KfGu1L3FderpGPn3n5N0uH7jbmofX6t+DxG6fhczNYgHM324Ixz8QrvrIeOa/URi88f+iQLusYnYqr2wXIOKg4YHpdkdtaq5GpRjOKRQsyKqSvY93lAp/Z57IrVMXXtcXZcEJPGKMLgJQ6c84qJDjV47ge+00d8zBE6Hht4tV5xKRszn6svwpfOzDZ7u9arDyQl7yVJh7Pxjtt1gcpVFimLWH3I+ebxsLTYfIP6mPC63+Phhtxhd32OudOui5jrnTemHXzJgEmtNzS9Merwmcer/mMRfrxevflLlsevRknBfxbmLberNmtAiYcetRjhS7YrFY/rI5MOf4OTT7M9p3Hfd5fup5E8e1b43Zus7hnVT+fP9b1f7U7X70Uej+uC6bI+rvYoHpcTn7pPCWeGhU4X/6pP4/LXy2oeXafjyPVrnF0cVQb+3KcuDh/v2h0Och1eFwvy7Kdan510yGdKx633+XpCp3JPP7XrjGSdZ2+D8Zp6NBfC19x5cdndeZ2tUbCdO/pGHDA+qju/ke0wd/vAUC1//VzTcdH1geE80uc80ed1x1Fnw7E7HcdctZ1Lx0Wv+lzXZL1Gj7ruca4PTzrkuLIhZVGjlwL2UoP1sbT3GGCzaWFQukWKnBZ4Vxhn7lxuNreyi67ryIauwfNPAzr7XR+Lt9YcOC89aF5iQ9izR3bk006pvl9yvYMvmRGmDtBH/vUq8TP7Jgi/ZgeNa2MUNo/CjdZDZwPfai2M2fPikp/Fo/Gu7Nzspaf9xJ6h5r55yX4a7Ul/A1G77tn6RlxjkS/4VZOTLkb3Y3Uf0ThJQ7XrOIzRhz+q+USuuweiR63Y631p1dfNj9sVdhcndjqOJM8HPsTEvHRxuIy3iUt1F4ePd+3Z3F66Vuq+4nq1d3bu7as92sXW8bjqcz58janN/MC/j7MGGUMWv3wPuo26n5Dfqbt1hX33jTa2unXSYc3WKP51fOJD5QAdaucBH8VTVzrM3b5u/8q2SsdFt+7xacUTcl53HHU2JEdC1Ok4Zm3PuNzxWTKsYe5l6hsV9natD086qkOawNGiQdYXMn2pL2OAzeZcd4sUudXmR46NL/nVPKEzwlY/eLz57kRZF7EfMDloquYxG5ffwZeM61za3rFxKabL7+DPYjg66dB86OU+d+1ZcnJtjDqkKEnQt1JaC12i2Nmofoor/SL6TjzSldwlv7i+utmzZ31/0Fdv+Dv7abQndZ/gXqG67lnZ5M2u440++cSe5gDTxeh+rO4jGt9NOiSrN0ZikV+OP+IO/1Urdud7p8/5cyzazI3PmdvpOHK/nS9hdnG4DG23N4oDH1e1sOrcXrpW6v7iWvum26Pq93s67e7e/pZJB2u742y1Bpmbuse6NdRx3tkc9XXramTfMXxt0t9hzdYoequ1ilytxQeHXMY6jhjr4lr14Zvvd/oUr0rHRbfu8WPFE3JeV5sa62xIjvtwp+OY3l5xueMz9sRHx4nbU5u9rZr3Ufav192+d6w8XuVsvOM2m02LjcKiYTOpHzktot0iTL06vIohuRV2t+Arjl/7Yvb2zqdhjjNrO+6l7RkuY5diujwYq9p1vH100jFLJtyP0UFDMrvF8bztMcqOXj4+slFluF4daFaPi43sdWvf38jVrgfu1b7rMOFztN/Z05Lr3lBmmGB77TF0uh6Dtx2D9my8xiNbfoAQhvsyw8JeF/+qrxsHT3V3H3SdjiP3u8bZxeEy3nY/3Kb3X9J2vzq8Lhbw2U+1nt0LJLtzb1/tUXzwuuNx1efxOxbt1RoczY3vQbCoVzaRq/VoLma2hNHF0GG5X6O4Oj5HsvjPuGx6mfmNjtYkZdUn/1f3146Lbt1jc8UTcl53HHU2HLvTcUzacDDj0nHR87mlTz7xwYPzzLjXdY9zrfPB6qkBx0nS4Wy84zYLTZuU0i1S5EYLSIvRMaq8xuqnEdIBT+N+CJAPulZNkazL6FoLu24S5Fm8td55YxIGPLhNsKkr9iXXwtCGrZ+4gq16hMcnArNNCU7HPWMrGzuPV72Wp9Wbv2JfHdKJ47VrQT7oIMOaGH2aUmOczcvsT+Je84vk9VNTv9mzjnwvaN7ZH/J/tZ/gUnXdv4wJUy+VahMdxtGh1vjnz59f9OiTv8TlbcaF5ftP16v7CHjCkM3uF8lly3HwnT7m2/nEJ+p6P1L/qg/OnCPZ1rVs1niRh4OOI8m89vEqfHbOiB2bksEP9xseVK/mFn34hO8R3mh//U1JBzE6t/AtHvRivcGhOKcPfa0pL+JMrxXn0oH3iuF4anfrin7dQ1yfdSr7NQa3qTEV4ljFxbpDz3Xd/gvo/3+A7etI+vLZ+zodxwRn1AeP7pvwub8KX2PEiD30HFdyvOrakDx7GQyvO46wgW/EQvydjmPSrnrqF6Zzqesdn/GpymLL69FeT9LhLN1Jm8WoRaUXC4R+FrHCZUH65nEa0AHLFypy0vVx36CuTz+bGh38c3/YWNjwerSYOWDqwDmSEY7ixxfH9fZIf6dfOOLE43JstUc4u0kHvI7mbWVjJ+l4LU8786A4Z4d4+c/avGQt6IbmX92q3SUc4l+lxjibl5m/RyUd+MheUc2f92Qfz/bTS5D2A07ruhGG88ybC3Z9zOB+N2f3APkJDrUffAGZYUimxqnrLh7H0T4XX7zhs2/gDtteS7/6t9MHNjGqhjf8ZEz4/GlPjcmfer/wgwr68kMFWx5HlZGccyF8/TUgj03j1a5zUTHkf713XrJWRvvrb0o64KeuR+fRea9rsJsnYQqP9eL6M84lNyvdukK+zpvsOJ7HR7/wWMO7ce2uVfyiRg978ANHyFF3vO70eUyyVe+vwu+4qPyxLzrOfS/jr9fEKl0v1YbHPtJxfdrIjrjc9Rk+3Q9s1Hq019886aiOdderCep00ncfDGhz8MziKKLRYt7pF6ZuoKtNs4M1kpEN4XOj7uIY6e70C097pH4tXO2MsPzRo5GMsK7haXVjWR0yZP+atSD7o2SDmLsYGav1Kkl6bdJR5+wer7s3tHuM82+Iqe7p1X3q1jHVfcX16n6A3KxefcN661iCFwYejQGSl5ocdTzM9upqzPGufrzKwUbtJB0jZu6/X4v5yIRAmXp9FKRjdbUpZuPamPo0UfWozPRXY8LU4WGW1EhmhLOTdFzLE49PdQf/VUIiv1WuWQs6xMy+8ZKNLsYRZ/r2Zva/R1ZJCTG9BPZgP5J0nDPheh/1/3NQDww796lbez7aX0k6bs108MLA7RnQmcO/KZ1ZGO31nX7HnSYd+nqRr29WByIHpS0d9PmqirHUYQAGdhbtSAaMVT3S3+lfYWt8B2cks4M/s7GTdFxrQ753B3X16fdVVI/iU/9umWGsxjobMx0lMXpcy/9yjuLQ9ewxLjA7e4/Ql6TjnFlW0qH3Ud5TVWsuzizshVor6eCxyNnvs1U9XetDjB3dM+OO7TDwtzPAhxa7Z/tur+72OVfDpMOF0g4DRzKwu3A7uV2/Ot3dvh0bu1id3A6+ZDrd3b63sDHz5S3sdzZmPl071tlLXxh4JAau3UPX6D8Sz4k1DJzNwK32apKOs2cy9sNAGAgDYSAMhIEwEAbCwJ0zkKTjzic44YWBMBAGwkAYCANhIAyEgbMZSNJx9gzEfhgIA2EgDISBMBAGwkAYuHMGknTc+QQnvDAQBsJAGAgDYSAMhIEwcDYDSTrOnoHYDwNhIAyEgTAQBsJAGAgDd85Ako47n+CEFwbCQBgIA2EgDISBMBAGzmYgScfZM3Clff6N/e7fWr7S3N2r538Q3P0UJ8AwEAbCQBgIA2HgBAaSdJxA+i1NvtekQ0nQ7n+6fA0fwtc/r5z9l/AVbufjWycdl8wfsqv/8L6KO+NhIAyEgTAQBsJAGHhrBpJ0vDXjN7bHQfS9fdPRHehvHPrVcJ2P7znpuDrgAISBMBAGwkAYCANh4CQGknScRPxrzOqQ/OHDh98vfeLtSYeuGfdvGfh394yp9k/LGf/+/fvLtxMal/7Pnz///fjx429M9dfk5tevX3/I6NuHb9++/aFT9dxP4QtDZeSHYqzFE4YdDqq+kgv55S9hknSo9th17aXORR13WbU17rb4lsa50Dh8EJ/mBL0fP368zIvGVDq+JOtzK7k6R5Lx9fEClh9hIAyEgTAQBsJAGDiQgSQdB5J7S2gdNDmoClcH7S9fvvz7/Pz8O1Hg4Mth1A+nOohyeO/Ghc2BF791WH16euLy9+EVOxxmuZbg169fX+Q4NGMTEPnhh2LpYhe/uNQtItMAAAPZSURBVEanqx2fpEOHaXwBCw5WGIxLvx7KheHcu23pdTyAx/g///zzIke/MGQL36ufuq4JRJUlRuer+lKvZb/6j0+pw0AYCANhIAyEgTBwFANJOo5i9oa4HC45UDt0PYgyVg/39FPr4Mnhf4aPPLV0OCDPbHQHWx2AP3369MfvYbj/l/jh+I6Bn6pn/mncMdATx55gqF9+kzTIR8WgPi8zWx0muiPfO9+qbMdXlen86rDxJ3UYCANhIAyEgTAQBo5gIEnHEazeGLM7rGOiHjLpr4dNYegTcX16zotHbLrDKzg6MCNPLWzsdomQdLuDbYcFpuRnfuAPtePji/q8VA58TG3HYKxLEDzp6HgkBtnrCnEh55yNfO98q7LgjvCqPL512IylDgNhIAyEgTAQBsLAEQwk6TiC1RtjXpt06JCpA68fTv3g2R1eFYIO0f7oDn3XJB31WwSnauSHy9B2/0eH66OSDr71wJfdmvg8+Rj57vGBX2XB83l1Gdo+LqwOGxupw0AYCANhIAyEgTBwBANJOo5g9caY3eESExwsdZD04gduteu4Hzw7fHDrgbXi6ror0uObFMb9GwP6vO788HFvu//4WmN0X12Xduej+mpi5H5f4iN2al39Xc0P+lWv88VlvA2GaufO+9MOA2EgDISBMBAGwsBRDCTpOIrZG+PqYOqHYR0o/RfJZwdu6XoCwCNC9M0Or9Kl6ECuT+np41o1hV8kV1/9loRDsMchPfku+c4PcGvtB2dwZxxUfV13Pqqv+udJh/QUf41NetU+NtXvYzXOOj/SkzzzA06Ns+JIrsoIx+NBp2JjI3UYCANhIAyEgTAQBo5gIEnHEawehKnDKY/mcPivh0xMS1YvFWTQ1YFTCQsHTw6iOjh7oR89MMGVrHQYV+0HXMkx5odu73cd7FU/3CfafignPrchOfxFp6vdF+nLtscgnZp0qE+yxKa6JiFuiyTP5d1X4nYcjTM/YNU40XO+qkz1VbHpL5JVbGykDgNhIAyEgTAQBsLAEQwk6TiC1WCGgXfMgBIaJVspYSAMhIEwEAbCQBh4KwaSdLwV07ETBk5gQN+y+P9a6b4dOcGtmAwDYSAMhIEwEAYejIEkHQ824Qn3sRjoHu3yx7Eei41EGwbCQBgIA2EgDJzFQJKOs5iP3TAQBsJAGAgDYSAMhIEw8CAMJOl4kIlOmGEgDISBMBAGwkAYCANh4CwGknScxXzshoEwEAbCQBgIA2EgDISBB2EgSceDTHTCDANhIAyEgTAQBsJAGAgDZzGQpOMs5mM3DISBMBAGwkAYCANhIAw8CAP/A3XCfADrg6XxAAAAAElFTkSuQmCC)"
      ]
    },
    {
      "cell_type": "markdown",
      "metadata": {
        "id": "MGgyKTDQKSB4"
      },
      "source": [
        "**The findall() Function**\n",
        "\n",
        "The findall() function returns a list containing all matches."
      ]
    },
    {
      "cell_type": "code",
      "metadata": {
        "id": "Cyh8lbx1Jz5T",
        "outputId": "417df761-c23f-4001-8e0d-06827506c274",
        "colab": {
          "base_uri": "https://localhost:8080/",
          "height": 34
        }
      },
      "source": [
        "import re\n",
        "\n",
        "txt = \"The rain in Spain\"\n",
        "x = re.findall(\"ai\", txt)\n",
        "print(x)"
      ],
      "execution_count": null,
      "outputs": [
        {
          "output_type": "stream",
          "text": [
            "['ai', 'ai']\n"
          ],
          "name": "stdout"
        }
      ]
    },
    {
      "cell_type": "markdown",
      "metadata": {
        "id": "sHIKVP_hKqRo"
      },
      "source": [
        "The list contains the matches in the order they are found.\n",
        "\n",
        "If no matches are found, an empty list is returned:"
      ]
    },
    {
      "cell_type": "code",
      "metadata": {
        "id": "wtK_tSduKrL1",
        "outputId": "914b4d0b-9868-4e80-8851-980684b5da20",
        "colab": {
          "base_uri": "https://localhost:8080/",
          "height": 34
        }
      },
      "source": [
        "import re\n",
        "\n",
        "txt = \"The rain in Spain\"\n",
        "x = re.findall(\"Portugal\", txt)\n",
        "print(x)"
      ],
      "execution_count": null,
      "outputs": [
        {
          "output_type": "stream",
          "text": [
            "[]\n"
          ],
          "name": "stdout"
        }
      ]
    },
    {
      "cell_type": "markdown",
      "metadata": {
        "id": "oxHafSIAKy8d"
      },
      "source": [
        "**The search() Function**\n",
        "\n",
        "The search() function searches the string for a match, and returns a Match object if there is a match.\n",
        "\n",
        "If there is more than one match, only the first occurrence of the match will be returned:"
      ]
    },
    {
      "cell_type": "markdown",
      "metadata": {
        "id": "s1XcQ2CjK5I8"
      },
      "source": [
        "Search for the first white-space character in the string:"
      ]
    },
    {
      "cell_type": "code",
      "metadata": {
        "id": "kmZQkuEcKwQo",
        "outputId": "b1a97867-1f2b-48d2-f405-4c7ebec10e93",
        "colab": {
          "base_uri": "https://localhost:8080/",
          "height": 34
        }
      },
      "source": [
        "import re\n",
        "\n",
        "txt = \"The rain in Spain\"\n",
        "x = re.search(\"\\s\", txt)\n",
        "\n",
        "print(\"The first white-space character is located in position:\", x.start())"
      ],
      "execution_count": null,
      "outputs": [
        {
          "output_type": "stream",
          "text": [
            "The first white-space character is located in position: 3\n"
          ],
          "name": "stdout"
        }
      ]
    },
    {
      "cell_type": "markdown",
      "metadata": {
        "id": "9KtQQPb5LF-1"
      },
      "source": [
        "If no matches are found, the value None is returned:"
      ]
    },
    {
      "cell_type": "code",
      "metadata": {
        "id": "q7vOlUDLLFOr",
        "outputId": "b94df049-4314-4a98-955f-89efe345c869",
        "colab": {
          "base_uri": "https://localhost:8080/",
          "height": 34
        }
      },
      "source": [
        "import re\n",
        "\n",
        "txt = \"The rain in Spain\"\n",
        "x = re.search(\"Portugal\", txt)\n",
        "print(x)"
      ],
      "execution_count": null,
      "outputs": [
        {
          "output_type": "stream",
          "text": [
            "None\n"
          ],
          "name": "stdout"
        }
      ]
    },
    {
      "cell_type": "markdown",
      "metadata": {
        "id": "5CYd93IVLMJ0"
      },
      "source": [
        "**The split() Function**\n",
        "\n",
        "The split() function returns a list where the string has been split at each match:"
      ]
    },
    {
      "cell_type": "markdown",
      "metadata": {
        "id": "EEZzpNRILTuq"
      },
      "source": [
        "Split at each white-space character:"
      ]
    },
    {
      "cell_type": "code",
      "metadata": {
        "id": "RWpMMeF1LQsA",
        "outputId": "11fef31c-d331-4e94-9181-ad22a31e4f75",
        "colab": {
          "base_uri": "https://localhost:8080/",
          "height": 34
        }
      },
      "source": [
        "import re\n",
        "\n",
        "txt = \"The rain in Spain\"\n",
        "x = re.split(\"\\s\", txt)\n",
        "print(x)"
      ],
      "execution_count": null,
      "outputs": [
        {
          "output_type": "stream",
          "text": [
            "['The', 'rain', 'in', 'Spain']\n"
          ],
          "name": "stdout"
        }
      ]
    },
    {
      "cell_type": "markdown",
      "metadata": {
        "id": "dOKuFrErLkSA"
      },
      "source": [
        "Split the string only at the first occurrence:"
      ]
    },
    {
      "cell_type": "code",
      "metadata": {
        "id": "q7piBVFLLk47",
        "outputId": "61533922-765e-4b0f-fbd6-16e318323af1",
        "colab": {
          "base_uri": "https://localhost:8080/",
          "height": 34
        }
      },
      "source": [
        "import re\n",
        "\n",
        "txt = \"The rain in Spain\"\n",
        "x = re.split(\"\\s\", txt, 1)\n",
        "print(x)"
      ],
      "execution_count": null,
      "outputs": [
        {
          "output_type": "stream",
          "text": [
            "['The', 'rain in Spain']\n"
          ],
          "name": "stdout"
        }
      ]
    },
    {
      "cell_type": "markdown",
      "metadata": {
        "id": "CD0FNec6LxLy"
      },
      "source": [
        "**The sub() Function**\n",
        "\n",
        "The sub() function replaces the matches with the text of your choice:"
      ]
    },
    {
      "cell_type": "code",
      "metadata": {
        "id": "YculG582Lz1e",
        "outputId": "b11ebba5-946d-4365-84b5-f4f358678d22",
        "colab": {
          "base_uri": "https://localhost:8080/",
          "height": 34
        }
      },
      "source": [
        "import re\n",
        "\n",
        "txt = \"The rain in Spain\"\n",
        "x = re.sub(\"\\s\", \"9\", txt)\n",
        "print(x)"
      ],
      "execution_count": null,
      "outputs": [
        {
          "output_type": "stream",
          "text": [
            "The9rain9in9Spain\n"
          ],
          "name": "stdout"
        }
      ]
    },
    {
      "cell_type": "markdown",
      "metadata": {
        "id": "_Oq1AK4DL55R"
      },
      "source": [
        "Replace the first 2 occurrences:"
      ]
    },
    {
      "cell_type": "code",
      "metadata": {
        "id": "juoShvCLL9cc",
        "outputId": "b77bc5bd-c87f-4702-9863-624be780f327",
        "colab": {
          "base_uri": "https://localhost:8080/",
          "height": 34
        }
      },
      "source": [
        "import re\n",
        "\n",
        "txt = \"The rain in Spain\"\n",
        "x = re.sub(\"\\s\", \"9\", txt, 2)\n",
        "print(x)"
      ],
      "execution_count": null,
      "outputs": [
        {
          "output_type": "stream",
          "text": [
            "The9rain9in Spain\n"
          ],
          "name": "stdout"
        }
      ]
    },
    {
      "cell_type": "markdown",
      "metadata": {
        "id": "7ghjl1eZMByy"
      },
      "source": [
        "**Match Object**\n",
        "\n",
        "A Match Object is an object containing information about the search and the result."
      ]
    },
    {
      "cell_type": "markdown",
      "metadata": {
        "id": "Jh9GNGBUMF4H"
      },
      "source": [
        "Do a search that will return a Match Object:"
      ]
    },
    {
      "cell_type": "code",
      "metadata": {
        "id": "Ybf751cFMDPP",
        "outputId": "7c1eccf3-234d-4af6-a0d0-3af1ebeed0e9",
        "colab": {
          "base_uri": "https://localhost:8080/",
          "height": 34
        }
      },
      "source": [
        "import re\n",
        "\n",
        "txt = \"The rain in Spain\"\n",
        "x = re.search(\"ai\", txt)\n",
        "print(x) #this will print an object"
      ],
      "execution_count": null,
      "outputs": [
        {
          "output_type": "stream",
          "text": [
            "<_sre.SRE_Match object; span=(5, 7), match='ai'>\n"
          ],
          "name": "stdout"
        }
      ]
    },
    {
      "cell_type": "markdown",
      "metadata": {
        "id": "QHb3rjw-MTa3"
      },
      "source": [
        "The Match object has properties and methods used to retrieve information about the search, and the result:\n",
        "\n",
        "1. .span() returns a tuple containing the start-, and end positions of the match.\n",
        "\n",
        "2. .string returns the string passed into the function\n",
        "\n",
        "3. .group() returns the part of the string where there was a match"
      ]
    },
    {
      "cell_type": "markdown",
      "metadata": {
        "id": "0Kq62bv-Mepr"
      },
      "source": [
        "\n",
        "Print the position (start- and end-position) of the first match occurrence.\n",
        "\n",
        "The regular expression looks for any words that starts with an upper case \"S\":"
      ]
    },
    {
      "cell_type": "code",
      "metadata": {
        "id": "ZloZatTYMVvG",
        "outputId": "177f1698-aa17-43de-f427-64143a2aeca1",
        "colab": {
          "base_uri": "https://localhost:8080/",
          "height": 34
        }
      },
      "source": [
        "import re\n",
        "\n",
        "txt = \"The rain in Spain\"\n",
        "x = re.search(r\"\\bS\\w+\", txt)\n",
        "print(x.span())"
      ],
      "execution_count": null,
      "outputs": [
        {
          "output_type": "stream",
          "text": [
            "(12, 17)\n"
          ],
          "name": "stdout"
        }
      ]
    },
    {
      "cell_type": "markdown",
      "metadata": {
        "id": "1g2lype_Mi-t"
      },
      "source": [
        "Print the string passed into the function:"
      ]
    },
    {
      "cell_type": "code",
      "metadata": {
        "id": "jD1-XwLnMjdB",
        "outputId": "30379f11-ac98-4faa-a5b9-80fc30ec7b4d",
        "colab": {
          "base_uri": "https://localhost:8080/",
          "height": 34
        }
      },
      "source": [
        "import re\n",
        "\n",
        "txt = \"The rain in Spain\"\n",
        "x = re.search(r\"\\bS\\w+\", txt)\n",
        "print(x.string)"
      ],
      "execution_count": null,
      "outputs": [
        {
          "output_type": "stream",
          "text": [
            "The rain in Spain\n"
          ],
          "name": "stdout"
        }
      ]
    },
    {
      "cell_type": "markdown",
      "metadata": {
        "id": "2pGU3uemMn3Y"
      },
      "source": [
        "Print the part of the string where there was a match.\n",
        "\n",
        "The regular expression looks for any words that starts with an upper case \"S\":"
      ]
    },
    {
      "cell_type": "code",
      "metadata": {
        "id": "lIE78L8KMoQg",
        "outputId": "f0145b3e-0cde-44ec-daf7-4c8da83e6e3b",
        "colab": {
          "base_uri": "https://localhost:8080/",
          "height": 34
        }
      },
      "source": [
        "import re\n",
        "\n",
        "txt = \"The rain in Spain\"\n",
        "x = re.search(r\"\\bS\\w+\", txt)\n",
        "print(x.group())"
      ],
      "execution_count": null,
      "outputs": [
        {
          "output_type": "stream",
          "text": [
            "Spain\n"
          ],
          "name": "stdout"
        }
      ]
    },
    {
      "cell_type": "markdown",
      "metadata": {
        "id": "Dvk1cXXVSi9o"
      },
      "source": [
        "#Python Try Except"
      ]
    },
    {
      "cell_type": "markdown",
      "metadata": {
        "id": "JlB8FMmBSsO-"
      },
      "source": [
        "The try block lets you test a block of code for errors.\n",
        "\n",
        "The except block lets you handle the error.\n",
        "\n",
        "The finally block lets you execute code, regardless of the result of the try- and except blocks."
      ]
    },
    {
      "cell_type": "markdown",
      "metadata": {
        "id": "qNZn_-uxSwPO"
      },
      "source": [
        "**Exception Handling**\n",
        "\n",
        "When an error occurs, or exception as we call it, Python will normally stop and generate an error message.\n",
        "\n",
        "These exceptions can be handled using the try statement:"
      ]
    },
    {
      "cell_type": "markdown",
      "metadata": {
        "id": "vmPnb3v6S3lb"
      },
      "source": [
        "The try block will generate an exception, because x is not defined:"
      ]
    },
    {
      "cell_type": "code",
      "metadata": {
        "id": "_NF7w6f-SpdO",
        "outputId": "3cbee430-2d69-4126-902a-e9a4544429e3",
        "colab": {
          "base_uri": "https://localhost:8080/",
          "height": 34
        }
      },
      "source": [
        "try:\n",
        "  print(x)\n",
        "except:\n",
        "  print(\"An exception occurred\")"
      ],
      "execution_count": 1,
      "outputs": [
        {
          "output_type": "stream",
          "text": [
            "An exception occurred\n"
          ],
          "name": "stdout"
        }
      ]
    },
    {
      "cell_type": "markdown",
      "metadata": {
        "id": "ucwVcfiBS_E_"
      },
      "source": [
        "Since the try block raises an error, the except block will be executed.\n",
        "\n",
        "Without the try block, the program will crash and raise an error:"
      ]
    },
    {
      "cell_type": "code",
      "metadata": {
        "id": "TCEAURcDS_nx",
        "outputId": "c82bafee-6f4d-4d13-bc58-9756e924534f",
        "colab": {
          "base_uri": "https://localhost:8080/",
          "height": 163
        }
      },
      "source": [
        "print(x)"
      ],
      "execution_count": 2,
      "outputs": [
        {
          "output_type": "error",
          "ename": "NameError",
          "evalue": "ignored",
          "traceback": [
            "\u001b[0;31m---------------------------------------------------------------------------\u001b[0m",
            "\u001b[0;31mNameError\u001b[0m                                 Traceback (most recent call last)",
            "\u001b[0;32m<ipython-input-2-fc17d851ef81>\u001b[0m in \u001b[0;36m<module>\u001b[0;34m()\u001b[0m\n\u001b[0;32m----> 1\u001b[0;31m \u001b[0mprint\u001b[0m\u001b[0;34m(\u001b[0m\u001b[0mx\u001b[0m\u001b[0;34m)\u001b[0m\u001b[0;34m\u001b[0m\u001b[0;34m\u001b[0m\u001b[0m\n\u001b[0m",
            "\u001b[0;31mNameError\u001b[0m: name 'x' is not defined"
          ]
        }
      ]
    },
    {
      "cell_type": "markdown",
      "metadata": {
        "id": "a00ox6LJTEfC"
      },
      "source": [
        "Many Exceptions\n",
        "\n",
        "You can define as many exception blocks as you want, e.g. if you want to execute a special block of code for a special kind of error:\n",
        "\n",
        "Example\n",
        "\n",
        "Print one message if the try block raises a NameError and another for other errors:"
      ]
    },
    {
      "cell_type": "code",
      "metadata": {
        "id": "u9KqTDgRTBxZ",
        "outputId": "b80e57ff-7d6d-458f-ea1a-3ee2965b0987",
        "colab": {
          "base_uri": "https://localhost:8080/",
          "height": 34
        }
      },
      "source": [
        "try:\n",
        "  print(x)\n",
        "except NameError:\n",
        "  print(\"Variable x is not defined\")\n",
        "except:\n",
        "  print(\"Something else went wrong\")"
      ],
      "execution_count": 3,
      "outputs": [
        {
          "output_type": "stream",
          "text": [
            "Variable x is not defined\n"
          ],
          "name": "stdout"
        }
      ]
    },
    {
      "cell_type": "markdown",
      "metadata": {
        "id": "rtv6tHezTS2P"
      },
      "source": [
        "Else\n",
        "\n",
        "You can use the else keyword to define a block of code to be executed if no errors were raised:"
      ]
    },
    {
      "cell_type": "code",
      "metadata": {
        "id": "ZQoU6fcsTT9K",
        "outputId": "cac2f4f2-13bd-4583-e2c7-7586f900fd4d",
        "colab": {
          "base_uri": "https://localhost:8080/",
          "height": 51
        }
      },
      "source": [
        "try:\n",
        "  print(\"Hello\")\n",
        "except:\n",
        "  print(\"Something went wrong\")\n",
        "else:\n",
        "  print(\"Nothing went wrong\")"
      ],
      "execution_count": 4,
      "outputs": [
        {
          "output_type": "stream",
          "text": [
            "Hello\n",
            "Nothing went wrong\n"
          ],
          "name": "stdout"
        }
      ]
    },
    {
      "cell_type": "markdown",
      "metadata": {
        "id": "Ni7fmFL0TZH5"
      },
      "source": [
        "Finally\n",
        "\n",
        "The finally block, if specified, will be executed regardless if the try block raises an error or not."
      ]
    },
    {
      "cell_type": "code",
      "metadata": {
        "id": "ihkQ-54DTWQb",
        "outputId": "70da6d7c-021a-48e6-8847-f55651dc0dd6",
        "colab": {
          "base_uri": "https://localhost:8080/",
          "height": 51
        }
      },
      "source": [
        "try:\n",
        "  print(x)\n",
        "except:\n",
        "  print(\"Something went wrong\")\n",
        "finally:\n",
        "  print(\"The 'try except' is finished\")"
      ],
      "execution_count": 5,
      "outputs": [
        {
          "output_type": "stream",
          "text": [
            "Something went wrong\n",
            "The 'try except' is finished\n"
          ],
          "name": "stdout"
        }
      ]
    },
    {
      "cell_type": "markdown",
      "metadata": {
        "id": "DTYi8jsvTeqh"
      },
      "source": [
        "This can be useful to close objects and clean up resources:"
      ]
    },
    {
      "cell_type": "code",
      "metadata": {
        "id": "Ol89qDseTbpT",
        "outputId": "3fbfcd12-26a7-4ee6-a95c-eb6c7d77d7b8",
        "colab": {
          "base_uri": "https://localhost:8080/",
          "height": 214
        }
      },
      "source": [
        "try:\n",
        "  f = open(\"demofile.txt\")\n",
        "  f.write(\"Lorum Ipsum\")\n",
        "except:\n",
        "  print(\"Something went wrong when writing to the file\")\n",
        "finally:\n",
        "  f.close()"
      ],
      "execution_count": 8,
      "outputs": [
        {
          "output_type": "stream",
          "text": [
            "Something went wrong when writing to the file\n"
          ],
          "name": "stdout"
        },
        {
          "output_type": "error",
          "ename": "NameError",
          "evalue": "ignored",
          "traceback": [
            "\u001b[0;31m---------------------------------------------------------------------------\u001b[0m",
            "\u001b[0;31mNameError\u001b[0m                                 Traceback (most recent call last)",
            "\u001b[0;32m<ipython-input-8-93187982fa5c>\u001b[0m in \u001b[0;36m<module>\u001b[0;34m()\u001b[0m\n\u001b[1;32m      5\u001b[0m   \u001b[0mprint\u001b[0m\u001b[0;34m(\u001b[0m\u001b[0;34m\"Something went wrong when writing to the file\"\u001b[0m\u001b[0;34m)\u001b[0m\u001b[0;34m\u001b[0m\u001b[0;34m\u001b[0m\u001b[0m\n\u001b[1;32m      6\u001b[0m \u001b[0;32mfinally\u001b[0m\u001b[0;34m:\u001b[0m\u001b[0;34m\u001b[0m\u001b[0;34m\u001b[0m\u001b[0m\n\u001b[0;32m----> 7\u001b[0;31m   \u001b[0mf\u001b[0m\u001b[0;34m.\u001b[0m\u001b[0mclose\u001b[0m\u001b[0;34m(\u001b[0m\u001b[0;34m)\u001b[0m\u001b[0;34m\u001b[0m\u001b[0;34m\u001b[0m\u001b[0m\n\u001b[0m",
            "\u001b[0;31mNameError\u001b[0m: name 'f' is not defined"
          ]
        }
      ]
    },
    {
      "cell_type": "markdown",
      "metadata": {
        "id": "gwZYXVP3T4n2"
      },
      "source": [
        "Raise an exception\n",
        "\n",
        "As a Python developer you can choose to throw an exception if a condition occurs.\n",
        "\n",
        "To throw (or raise) an exception, use the raise keyword."
      ]
    },
    {
      "cell_type": "code",
      "metadata": {
        "id": "JlacsIagT54E",
        "outputId": "ef4653b4-63a3-4217-f83f-42bd3630dfb4",
        "colab": {
          "base_uri": "https://localhost:8080/",
          "height": 197
        }
      },
      "source": [
        "x = -1\n",
        "\n",
        "if x < 0:\n",
        "  raise Exception(\"Sorry, no numbers below zero\")"
      ],
      "execution_count": 9,
      "outputs": [
        {
          "output_type": "error",
          "ename": "Exception",
          "evalue": "ignored",
          "traceback": [
            "\u001b[0;31m---------------------------------------------------------------------------\u001b[0m",
            "\u001b[0;31mException\u001b[0m                                 Traceback (most recent call last)",
            "\u001b[0;32m<ipython-input-9-2edc57024fbc>\u001b[0m in \u001b[0;36m<module>\u001b[0;34m()\u001b[0m\n\u001b[1;32m      2\u001b[0m \u001b[0;34m\u001b[0m\u001b[0m\n\u001b[1;32m      3\u001b[0m \u001b[0;32mif\u001b[0m \u001b[0mx\u001b[0m \u001b[0;34m<\u001b[0m \u001b[0;36m0\u001b[0m\u001b[0;34m:\u001b[0m\u001b[0;34m\u001b[0m\u001b[0;34m\u001b[0m\u001b[0m\n\u001b[0;32m----> 4\u001b[0;31m   \u001b[0;32mraise\u001b[0m \u001b[0mException\u001b[0m\u001b[0;34m(\u001b[0m\u001b[0;34m\"Sorry, no numbers below zero\"\u001b[0m\u001b[0;34m)\u001b[0m\u001b[0;34m\u001b[0m\u001b[0;34m\u001b[0m\u001b[0m\n\u001b[0m",
            "\u001b[0;31mException\u001b[0m: Sorry, no numbers below zero"
          ]
        }
      ]
    },
    {
      "cell_type": "markdown",
      "metadata": {
        "id": "5cujC_I6UD0d"
      },
      "source": [
        "The raise keyword is used to raise an exception.\n",
        "\n",
        "You can define what kind of error to raise, and the text to print to the user.\n",
        "\n"
      ]
    },
    {
      "cell_type": "markdown",
      "metadata": {
        "id": "1dVUp0U6UI7w"
      },
      "source": [
        "Raise a TypeError if x is not an integer:"
      ]
    },
    {
      "cell_type": "code",
      "metadata": {
        "id": "aGqT_DBxT-9p",
        "outputId": "0d80427a-f175-4c62-a466-00de955cc819",
        "colab": {
          "base_uri": "https://localhost:8080/",
          "height": 197
        }
      },
      "source": [
        "x = \"hello\"\n",
        "\n",
        "if not type(x) is int:\n",
        "  raise TypeError(\"Only integers are allowed\")"
      ],
      "execution_count": 11,
      "outputs": [
        {
          "output_type": "error",
          "ename": "TypeError",
          "evalue": "ignored",
          "traceback": [
            "\u001b[0;31m---------------------------------------------------------------------------\u001b[0m",
            "\u001b[0;31mTypeError\u001b[0m                                 Traceback (most recent call last)",
            "\u001b[0;32m<ipython-input-11-bc91768a6271>\u001b[0m in \u001b[0;36m<module>\u001b[0;34m()\u001b[0m\n\u001b[1;32m      2\u001b[0m \u001b[0;34m\u001b[0m\u001b[0m\n\u001b[1;32m      3\u001b[0m \u001b[0;32mif\u001b[0m \u001b[0;32mnot\u001b[0m \u001b[0mtype\u001b[0m\u001b[0;34m(\u001b[0m\u001b[0mx\u001b[0m\u001b[0;34m)\u001b[0m \u001b[0;32mis\u001b[0m \u001b[0mint\u001b[0m\u001b[0;34m:\u001b[0m\u001b[0;34m\u001b[0m\u001b[0;34m\u001b[0m\u001b[0m\n\u001b[0;32m----> 4\u001b[0;31m   \u001b[0;32mraise\u001b[0m \u001b[0mTypeError\u001b[0m\u001b[0;34m(\u001b[0m\u001b[0;34m\"Only integers are allowed\"\u001b[0m\u001b[0;34m)\u001b[0m\u001b[0;34m\u001b[0m\u001b[0;34m\u001b[0m\u001b[0m\n\u001b[0m",
            "\u001b[0;31mTypeError\u001b[0m: Only integers are allowed"
          ]
        }
      ]
    },
    {
      "cell_type": "code",
      "metadata": {
        "id": "QzkB926CUGfh"
      },
      "source": [
        ""
      ],
      "execution_count": null,
      "outputs": []
    }
  ]
}