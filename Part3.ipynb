{
  "nbformat": 4,
  "nbformat_minor": 0,
  "metadata": {
    "kernelspec": {
      "display_name": "Python 3",
      "language": "python",
      "name": "python3"
    },
    "language_info": {
      "codemirror_mode": {
        "name": "ipython",
        "version": 3
      },
      "file_extension": ".py",
      "mimetype": "text/x-python",
      "name": "python",
      "nbconvert_exporter": "python",
      "pygments_lexer": "ipython3",
      "version": "3.7.3"
    },
    "colab": {
      "name": "Part3.ipynb",
      "provenance": [],
      "toc_visible": true,
      "include_colab_link": true
    }
  },
  "cells": [
    {
      "cell_type": "markdown",
      "metadata": {
        "id": "view-in-github",
        "colab_type": "text"
      },
      "source": [
        "<a href=\"https://colab.research.google.com/github/gauravpks/py-repo/blob/master/Part3.ipynb\" target=\"_parent\"><img src=\"https://colab.research.google.com/assets/colab-badge.svg\" alt=\"Open In Colab\"/></a>"
      ]
    },
    {
      "cell_type": "markdown",
      "metadata": {
        "id": "cHct92OIz4-g"
      },
      "source": [
        "# Python Lambda\n"
      ]
    },
    {
      "cell_type": "markdown",
      "metadata": {
        "id": "unbO_8kJz4-i"
      },
      "source": [
        "A lambda function is a small anonymous function.\n",
        "\n",
        "A lambda function can take any number of arguments, but can only have one expression."
      ]
    },
    {
      "cell_type": "code",
      "metadata": {
        "id": "-bE_JkeHz4-j",
        "outputId": "7f21ceeb-cb55-4e51-9e5a-eaef4f25bece",
        "colab": {
          "base_uri": "https://localhost:8080/",
          "height": 34
        }
      },
      "source": [
        "#Add 10 to argument a, and return the result:\n",
        "x = lambda a : a + 10\n",
        "print(x(5))"
      ],
      "execution_count": null,
      "outputs": [
        {
          "output_type": "stream",
          "text": [
            "15\n"
          ],
          "name": "stdout"
        }
      ]
    },
    {
      "cell_type": "markdown",
      "metadata": {
        "id": "iHQLMMLPz4-p"
      },
      "source": [
        "Lambda functions can take any number of arguments:"
      ]
    },
    {
      "cell_type": "code",
      "metadata": {
        "id": "NHmAIFW-R0Ad",
        "outputId": "a87c493e-e46d-4768-f39e-daec3a138986",
        "colab": {
          "base_uri": "https://localhost:8080/",
          "height": 34
        }
      },
      "source": [
        "x = lambda a, b : a * b\n",
        "print(x(5, 6))"
      ],
      "execution_count": null,
      "outputs": [
        {
          "output_type": "stream",
          "text": [
            "30\n"
          ],
          "name": "stdout"
        }
      ]
    },
    {
      "cell_type": "code",
      "metadata": {
        "id": "-8uVO-ilR4ha",
        "outputId": "54cd2ad8-4444-49df-838c-8a767e39632a",
        "colab": {
          "base_uri": "https://localhost:8080/",
          "height": 34
        }
      },
      "source": [
        "x = lambda a, b, c : a + b + c\n",
        "print(x(5, 6, 2))"
      ],
      "execution_count": null,
      "outputs": [
        {
          "output_type": "stream",
          "text": [
            "13\n"
          ],
          "name": "stdout"
        }
      ]
    },
    {
      "cell_type": "markdown",
      "metadata": {
        "id": "B77e2hE8R9lT"
      },
      "source": [
        "Why Use Lambda Functions?\n",
        "The power of lambda is better shown when you use them as an anonymous function inside another function.\n",
        "\n",
        "Say you have a function definition that takes one argument, and that argument will be multiplied with an unknown number:"
      ]
    },
    {
      "cell_type": "code",
      "metadata": {
        "id": "POkqLpXpR6oy",
        "outputId": "b7529155-d14a-4e87-bac4-39614272bb76",
        "colab": {
          "base_uri": "https://localhost:8080/",
          "height": 34
        }
      },
      "source": [
        "def myfunc(n):\n",
        "  return lambda a : a * n\n",
        "\n",
        "mydoubler = myfunc(2)\n",
        "\n",
        "print(mydoubler(11))"
      ],
      "execution_count": null,
      "outputs": [
        {
          "output_type": "stream",
          "text": [
            "22\n"
          ],
          "name": "stdout"
        }
      ]
    },
    {
      "cell_type": "markdown",
      "metadata": {
        "id": "mbjGYZabSMSF"
      },
      "source": [
        "Use that function definition to make a function that always doubles the number you send in:"
      ]
    },
    {
      "cell_type": "code",
      "metadata": {
        "id": "aJwfkQedSGL2",
        "outputId": "daf2dddf-08dc-4c5c-8ee2-d3c6661c251f",
        "colab": {
          "base_uri": "https://localhost:8080/",
          "height": 34
        }
      },
      "source": [
        "def myfunc(n):\n",
        "  return lambda a : a * n\n",
        "\n",
        "mydoubler = myfunc(2)\n",
        "\n",
        "print(mydoubler(11))"
      ],
      "execution_count": null,
      "outputs": [
        {
          "output_type": "stream",
          "text": [
            "22\n"
          ],
          "name": "stdout"
        }
      ]
    },
    {
      "cell_type": "code",
      "metadata": {
        "id": "C74_UHjWSO1R",
        "outputId": "7d86f387-e561-49f4-f591-738182bdda5e",
        "colab": {
          "base_uri": "https://localhost:8080/",
          "height": 51
        }
      },
      "source": [
        "def myfunc(n):\n",
        "  return lambda a : a * n\n",
        "\n",
        "mydoubler = myfunc(2)\n",
        "mytripler = myfunc(3)\n",
        "\n",
        "print(mydoubler(11))\n",
        "print(mytripler(11))"
      ],
      "execution_count": null,
      "outputs": [
        {
          "output_type": "stream",
          "text": [
            "22\n",
            "33\n"
          ],
          "name": "stdout"
        }
      ]
    },
    {
      "cell_type": "markdown",
      "metadata": {
        "id": "4dX1S0RLS_Z9"
      },
      "source": [
        "#Python Scope"
      ]
    },
    {
      "cell_type": "markdown",
      "metadata": {
        "id": "-Bk9T8AiTEtn"
      },
      "source": [
        "A variable is only available from inside the region it is created. This is called scope.\n",
        "\n",
        "**Local Scope**\n",
        "\n",
        "A variable created inside a function belongs to the local scope of that function, and can only be used inside that function."
      ]
    },
    {
      "cell_type": "markdown",
      "metadata": {
        "id": "Bwgzwp0lTKOh"
      },
      "source": [
        "A variable created inside a function is available inside that function:"
      ]
    },
    {
      "cell_type": "code",
      "metadata": {
        "id": "dOZrjup5S-tc",
        "outputId": "e0b58884-092e-4b78-e4f6-5d5a066dad38",
        "colab": {
          "base_uri": "https://localhost:8080/",
          "height": 34
        }
      },
      "source": [
        "def myfunc():\n",
        "  x = 300\n",
        "  print(x)\n",
        "\n",
        "myfunc()"
      ],
      "execution_count": null,
      "outputs": [
        {
          "output_type": "stream",
          "text": [
            "300\n"
          ],
          "name": "stdout"
        }
      ]
    },
    {
      "cell_type": "markdown",
      "metadata": {
        "id": "ipgzelZSTPg3"
      },
      "source": [
        "**Function Inside Function**\n",
        "\n",
        "As explained in the example above, the variable x is not available outside the function, but it is available for any function inside the function:"
      ]
    },
    {
      "cell_type": "code",
      "metadata": {
        "id": "JnY3QH2ATOxr",
        "outputId": "4bed2688-8d76-4154-be97-b45e7216f28c",
        "colab": {
          "base_uri": "https://localhost:8080/",
          "height": 34
        }
      },
      "source": [
        "def myfunc():\n",
        "  x = 300\n",
        "  def myinnerfunc():\n",
        "    print(x)\n",
        "  myinnerfunc()\n",
        "\n",
        "myfunc()"
      ],
      "execution_count": null,
      "outputs": [
        {
          "output_type": "stream",
          "text": [
            "300\n"
          ],
          "name": "stdout"
        }
      ]
    },
    {
      "cell_type": "markdown",
      "metadata": {
        "id": "yOacbh3DTYL1"
      },
      "source": [
        "**Global Scope**\n",
        "\n",
        "A variable created in the main body of the Python code is a global variable and belongs to the global scope.\n",
        "\n",
        "Global variables are available from within any scope, global and local."
      ]
    },
    {
      "cell_type": "markdown",
      "metadata": {
        "id": "utxdSwmMTq7L"
      },
      "source": [
        "A variable created outside of a function is global and can be used by anyone:"
      ]
    },
    {
      "cell_type": "code",
      "metadata": {
        "id": "Z8Gpde7ISf4v",
        "outputId": "30b9155b-b47c-4260-99bf-352a404ccc95",
        "colab": {
          "base_uri": "https://localhost:8080/",
          "height": 51
        }
      },
      "source": [
        "x = 300\n",
        "\n",
        "def myfunc():\n",
        "  print(x)\n",
        "\n",
        "myfunc()\n",
        "\n",
        "print(x)"
      ],
      "execution_count": null,
      "outputs": [
        {
          "output_type": "stream",
          "text": [
            "300\n",
            "300\n"
          ],
          "name": "stdout"
        }
      ]
    },
    {
      "cell_type": "markdown",
      "metadata": {
        "id": "07kR4l8YTtfc"
      },
      "source": [
        "**Naming Variables**\n",
        "\n",
        "If you operate with the same variable name inside and outside of a function, Python will treat them as two separate variables, one available in the global scope (outside the function) and one available in the local scope (inside the function):"
      ]
    },
    {
      "cell_type": "code",
      "metadata": {
        "id": "6Rro6HZ1TnJ_",
        "outputId": "01e96742-5ffc-4284-9bd6-ab190ff74790",
        "colab": {
          "base_uri": "https://localhost:8080/",
          "height": 51
        }
      },
      "source": [
        "x = 300\n",
        "\n",
        "def myfunc():\n",
        "  x = 200\n",
        "  print(x)\n",
        "\n",
        "myfunc()\n",
        "\n",
        "print(x)"
      ],
      "execution_count": null,
      "outputs": [
        {
          "output_type": "stream",
          "text": [
            "200\n",
            "300\n"
          ],
          "name": "stdout"
        }
      ]
    },
    {
      "cell_type": "markdown",
      "metadata": {
        "id": "zN6V4RlyT0-T"
      },
      "source": [
        "**Global Keyword**\n",
        "\n",
        "If you need to create a global variable, but are stuck in the local scope, you can use the global keyword.\n",
        "\n",
        "The global keyword makes the variable global."
      ]
    },
    {
      "cell_type": "markdown",
      "metadata": {
        "id": "79-h7DogT6GY"
      },
      "source": [
        "If you use the global keyword, the variable belongs to the global scope:"
      ]
    },
    {
      "cell_type": "code",
      "metadata": {
        "id": "WbmaGCp7Tzoi",
        "outputId": "036d8a80-0d13-463c-c1ac-b43c343e8cbe",
        "colab": {
          "base_uri": "https://localhost:8080/",
          "height": 51
        }
      },
      "source": [
        "  global x\n",
        "  x = 300\n",
        "\n",
        "myfunc()\n",
        "\n",
        "print(x)"
      ],
      "execution_count": null,
      "outputs": [
        {
          "output_type": "stream",
          "text": [
            "200\n",
            "300\n"
          ],
          "name": "stdout"
        }
      ]
    },
    {
      "cell_type": "markdown",
      "metadata": {
        "id": "Y428z80yUMUt"
      },
      "source": [
        "If you use the global keyword, the variable belongs to the global scope:"
      ]
    },
    {
      "cell_type": "code",
      "metadata": {
        "id": "ATE9wzupTxaK",
        "outputId": "dbc87327-4b3b-49f2-efa1-0aaac80b5292",
        "colab": {
          "base_uri": "https://localhost:8080/",
          "height": 34
        }
      },
      "source": [
        "def myfunc():\n",
        "  global x\n",
        "  x = 300\n",
        "\n",
        "myfunc()\n",
        "\n",
        "print(x)"
      ],
      "execution_count": null,
      "outputs": [
        {
          "output_type": "stream",
          "text": [
            "300\n"
          ],
          "name": "stdout"
        }
      ]
    },
    {
      "cell_type": "markdown",
      "metadata": {
        "id": "hqEz5lAKUXgI"
      },
      "source": [
        "**Example**\n",
        "\n",
        "To change the value of a global variable inside a function, refer to the variable by using the global keyword:"
      ]
    },
    {
      "cell_type": "code",
      "metadata": {
        "id": "TJ1ipdmfUO-b",
        "outputId": "06bc331f-7c49-499f-e3ba-1c7cf274c18e",
        "colab": {
          "base_uri": "https://localhost:8080/",
          "height": 34
        }
      },
      "source": [
        "x = 300\n",
        "\n",
        "def myfunc():\n",
        "  global x\n",
        "  x = 200\n",
        "\n",
        "myfunc()\n",
        "\n",
        "print(x)"
      ],
      "execution_count": null,
      "outputs": [
        {
          "output_type": "stream",
          "text": [
            "200\n"
          ],
          "name": "stdout"
        }
      ]
    },
    {
      "cell_type": "markdown",
      "metadata": {
        "id": "PmF_3fiIY0it"
      },
      "source": [
        "#Importing Module / Packages"
      ]
    },
    {
      "cell_type": "markdown",
      "metadata": {
        "id": "NSJwlqTeZ0J8"
      },
      "source": [
        "##DateTime"
      ]
    },
    {
      "cell_type": "markdown",
      "metadata": {
        "id": "rjFlH-s2Y9aQ"
      },
      "source": [
        "**Python Dates**\n",
        "\n",
        "A date in Python is not a data type of its own, but we can import a module named datetime to work with dates as date objects."
      ]
    },
    {
      "cell_type": "code",
      "metadata": {
        "id": "qxOcfsZKY242",
        "outputId": "f189820a-61df-440d-b266-47a712dbafe8",
        "colab": {
          "base_uri": "https://localhost:8080/",
          "height": 34
        }
      },
      "source": [
        "import datetime\n",
        "\n",
        "x = datetime.datetime.now()\n",
        "print(x)"
      ],
      "execution_count": null,
      "outputs": [
        {
          "output_type": "stream",
          "text": [
            "2020-10-05 10:52:38.391972\n"
          ],
          "name": "stdout"
        }
      ]
    },
    {
      "cell_type": "code",
      "metadata": {
        "id": "mFN3v9PRZB87",
        "outputId": "c408e811-0908-46ff-f846-0d7f9bfd1bae",
        "colab": {
          "base_uri": "https://localhost:8080/",
          "height": 51
        }
      },
      "source": [
        "import datetime\n",
        "\n",
        "x = datetime.datetime.now()\n",
        "\n",
        "print(x.year)\n",
        "print(x.strftime(\"%A\"))"
      ],
      "execution_count": null,
      "outputs": [
        {
          "output_type": "stream",
          "text": [
            "2020\n",
            "Monday\n"
          ],
          "name": "stdout"
        }
      ]
    },
    {
      "cell_type": "markdown",
      "metadata": {
        "id": "Yh8imFUvZTOE"
      },
      "source": [
        "**Creating Date Objects**\n",
        "\n",
        "To create a date, we can use the datetime() class (constructor) of the datetime module.\n",
        "\n",
        "The datetime() class requires three parameters to create a date: year, month, day."
      ]
    },
    {
      "cell_type": "code",
      "metadata": {
        "id": "JNhpS1UiZKry",
        "outputId": "1799c0cf-097b-4b52-f6e6-c99d0b84cb15",
        "colab": {
          "base_uri": "https://localhost:8080/",
          "height": 34
        }
      },
      "source": [
        "import datetime\n",
        "\n",
        "x = datetime.datetime(2020, 5, 17)\n",
        "\n",
        "print(x)"
      ],
      "execution_count": null,
      "outputs": [
        {
          "output_type": "stream",
          "text": [
            "2020-05-17 00:00:00\n"
          ],
          "name": "stdout"
        }
      ]
    },
    {
      "cell_type": "markdown",
      "metadata": {
        "id": "-unS0vh8ZfXG"
      },
      "source": [
        "The strftime() Method\n",
        "The datetime object has a method for formatting date objects into readable strings.\n",
        "\n",
        "The method is called strftime(), and takes one parameter, format, to specify the format of the returned string:"
      ]
    },
    {
      "cell_type": "code",
      "metadata": {
        "id": "x7TPGJTSZZJL",
        "outputId": "5d1a451d-e171-490d-f961-02728494e8e4",
        "colab": {
          "base_uri": "https://localhost:8080/",
          "height": 34
        }
      },
      "source": [
        "import datetime\n",
        "\n",
        "x = datetime.datetime(2018, 6, 1)\n",
        "\n",
        "print(x.strftime(\"%B\"))"
      ],
      "execution_count": null,
      "outputs": [
        {
          "output_type": "stream",
          "text": [
            "June\n"
          ],
          "name": "stdout"
        }
      ]
    },
    {
      "cell_type": "markdown",
      "metadata": {
        "id": "bvS7VnIsZvYY"
      },
      "source": [
        "![image.png](data:image/png;base64,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)"
      ]
    },
    {
      "cell_type": "markdown",
      "metadata": {
        "id": "iTni4aVDZ5n3"
      },
      "source": [
        "##Python Math"
      ]
    },
    {
      "cell_type": "markdown",
      "metadata": {
        "id": "c54nz9lCZ9SH"
      },
      "source": [
        "Python has a set of built-in math functions, including an extensive math module, that allows you to perform mathematical tasks on numbers."
      ]
    },
    {
      "cell_type": "markdown",
      "metadata": {
        "id": "QwyLskjuaAb5"
      },
      "source": [
        "The min() and max() functions can be used to find the lowest or highest value in an iterable:"
      ]
    },
    {
      "cell_type": "code",
      "metadata": {
        "id": "hcoo4gG4Z6KI",
        "outputId": "90610529-ef30-4372-bccd-0d66b48271ea",
        "colab": {
          "base_uri": "https://localhost:8080/",
          "height": 51
        }
      },
      "source": [
        "x = min(5, 10, 25)\n",
        "y = max(5, 10, 25)\n",
        "\n",
        "print(x)\n",
        "print(y)"
      ],
      "execution_count": null,
      "outputs": [
        {
          "output_type": "stream",
          "text": [
            "5\n",
            "25\n"
          ],
          "name": "stdout"
        }
      ]
    },
    {
      "cell_type": "markdown",
      "metadata": {
        "id": "SwVIpkAUaEXd"
      },
      "source": [
        "The abs() function returns the absolute (positive) value of the specified number:"
      ]
    },
    {
      "cell_type": "code",
      "metadata": {
        "id": "jdWeQLbpaCLK",
        "outputId": "47ac5336-a0bb-4054-c225-19ef84564309",
        "colab": {
          "base_uri": "https://localhost:8080/",
          "height": 34
        }
      },
      "source": [
        "x = abs(-7.25)\n",
        "\n",
        "print(x)"
      ],
      "execution_count": null,
      "outputs": [
        {
          "output_type": "stream",
          "text": [
            "7.25\n"
          ],
          "name": "stdout"
        }
      ]
    },
    {
      "cell_type": "code",
      "metadata": {
        "id": "vccmFrh6aGE0",
        "outputId": "ea26cd49-245d-47fe-cf6f-0cae48dfa52e",
        "colab": {
          "base_uri": "https://localhost:8080/",
          "height": 34
        }
      },
      "source": [
        "x = pow(4, 3)\n",
        "\n",
        "print(x)"
      ],
      "execution_count": null,
      "outputs": [
        {
          "output_type": "stream",
          "text": [
            "64\n"
          ],
          "name": "stdout"
        }
      ]
    },
    {
      "cell_type": "markdown",
      "metadata": {
        "id": "0isiP_qDaPKM"
      },
      "source": [
        "The Math Module\n",
        "Python has also a built-in module called math, which extends the list of mathematical functions.\n",
        "\n",
        "To use it, you must import the math module:"
      ]
    },
    {
      "cell_type": "code",
      "metadata": {
        "id": "p6-ibXXSaMO-",
        "outputId": "ac774fdd-1d77-41cd-ac22-bdadb90d5038",
        "colab": {
          "base_uri": "https://localhost:8080/",
          "height": 34
        }
      },
      "source": [
        "import math\n",
        "\n",
        "x = math.sqrt(64)\n",
        "\n",
        "print(x)"
      ],
      "execution_count": null,
      "outputs": [
        {
          "output_type": "stream",
          "text": [
            "8.0\n"
          ],
          "name": "stdout"
        }
      ]
    },
    {
      "cell_type": "code",
      "metadata": {
        "id": "EGPIKURPaRFS",
        "outputId": "17096315-7ad6-488f-a337-04e5440760b4",
        "colab": {
          "base_uri": "https://localhost:8080/",
          "height": 51
        }
      },
      "source": [
        "import math\n",
        "\n",
        "x = math.ceil(1.4)\n",
        "y = math.floor(1.4)\n",
        "\n",
        "print(x) # returns 2\n",
        "print(y) # returns 1"
      ],
      "execution_count": null,
      "outputs": [
        {
          "output_type": "stream",
          "text": [
            "2\n",
            "1\n"
          ],
          "name": "stdout"
        }
      ]
    },
    {
      "cell_type": "code",
      "metadata": {
        "id": "yjEEunwFaTDc",
        "outputId": "9fbf5afd-8394-40ae-800e-2147d6e8d704",
        "colab": {
          "base_uri": "https://localhost:8080/",
          "height": 34
        }
      },
      "source": [
        "import math\n",
        "\n",
        "x = math.pi\n",
        "\n",
        "print(x)"
      ],
      "execution_count": null,
      "outputs": [
        {
          "output_type": "stream",
          "text": [
            "3.141592653589793\n"
          ],
          "name": "stdout"
        }
      ]
    },
    {
      "cell_type": "markdown",
      "metadata": {
        "id": "EoGXgBUHahGb"
      },
      "source": [
        "**Math Methods & Method  Description**\n",
        "1.\tmath.acos() Returns the arc cosine of a number\n",
        "2.\tmath.acosh()  Returns the inverse hyperbolic cosine of a number\n",
        "3.\tmath.asin() Returns the arc sine of a number\n",
        "4.\tmath.asinh()  Returns the inverse hyperbolic sine of a number\n",
        "5.\tmath.atan() Returns the arc tangent of a number in radians\n",
        "6.\tmath.atan2()  Returns the arc tangent of y/x in radians\n",
        "7.\tmath.atanh()  Returns the inverse hyperbolic tangent of a number\n",
        "8.\tmath.ceil() Rounds a number up to the nearest integer\n",
        "9.\tmath.comb() Returns the number of ways to choose k items from n items without repetition and order\n",
        "10.\tmath.copysign() Returns a float consisting of the value of the first parameter and the sign of the second parameter\n",
        "11.\tmath.cos()  Returns the cosine of a number\n",
        "12.\tmath.cosh(x)  Returns the hyperbolic cosine of x\n",
        "13.\tmath.degrees(x) Converts an angle from radians to degrees\n",
        "14.\tmath.dist(p, q) Calculates the euclidean distance between two specified points (p and q), where p and q are the coordinates of that point\n",
        "15.\tmath.erf(x) Returns the error function of x\n",
        "16.\tmath.erfc(x)  Returns the complementary error function of x\n",
        "17.\tmath.exp(x) Returns the value of Ex, where E is Euler's number (approximately 2.718281...), and x is the number passed to it\n",
        "18.\tmath.expm1(x) Returns the value of Ex - 1, where E is Euler's number (approximately 2.718281...), and x is the number passed to it\n",
        "19.\tmath.fabs(x)  Returns the absolute value of a number\n",
        "20.\tmath.factorial()  Returns the factorial of a number\n",
        "21.\tmath.floor(x) Rounds a number down to the nearest integer\n",
        "22.\tmath.fmod(x, y) Returns the remainder of x/y\n",
        "23.\tmath.frexp()  Returns the mantissa and the exponent, of a specified value\n",
        "24.\tmath.fsum(iterable) Returns the sum of all items in an iterable (tuples, arrays, lists, etc.)\n",
        "25.\tmath.gamma(x) Returns the gamma value of x\n",
        "26.\tmath.gcd()  Returns the highest value that can divide two integers\n",
        "27.\tmath.hypot()  Find the Euclidean distance from the origin for n inputs\n",
        "28.\tmath.isclose()  Checks whether two values are close, or not\n",
        "29.\tmath.isfinite(x)  Checks whether x is a finite number\n",
        "30.\tmath.isinf(x) Check whether x is a positive or negative infinty\n",
        "31.\tmath.isnan(x) Checks whether x is NaN (not a number)\n",
        "32.\tmath.isqrt(n) Returns the nearest integer square root of n\n",
        "33.\tmath.ldexp(x, i)  Returns the expression x * 2i where x is mantissa and i is an exponent\n",
        "34.\tmath.lgamma(x)  Returns the log gamma value of x\n",
        "35.\tmath.log(x, base) Returns the natural logarithm of a number, or the logarithm of number to base\n",
        "36.\tmath.log10(x) Returns the base-10 logarithm of x\n",
        "37.\tmath.log1p(x) Returns the natural logarithm of 1+x\n",
        "38.\tmath.log2(x)  Returns the base-2 logarithm of x\n",
        "39.\tmath.perm(n, k) Returns the number of ways to choose k items from n items with order and without repetition\n",
        "40.\tmath.pow(x, y)  Returns the value of x to the power of y\n",
        "41.\tmath.prod(iterable, *, start=1) Returns the product of an iterable (lists, array, tuples, etc.)\n",
        "42.\tmath.radians(x) Converts a degree value (x) to radians\n",
        "43.\tmath.remainder(x, y)  Returns the closest value that can make numerator completely divisible by the denominator\n",
        "44.\tmath.sin(x) Returns the sine of x\n",
        "45.\tmath.sinh(x)  Returns the hyperbolic sine of x\n",
        "46.\tmath.sqrt(x)  Returns the square root of x\n",
        "47.\tmath.tan(x) Returns the tangent of x\n",
        "48.\tmath.tanh(x)  Returns the hyperbolic tangent of x\n",
        "49.\tmath.trunc(x) Returns the truncated integer parts of x\n",
        "\n",
        "\n",
        "---\n",
        "\n",
        "\n",
        "\n",
        "---\n",
        "\n",
        "\n",
        "**Math Constants & Constant  Description**\n",
        "50.\tmath.e  Returns Euler's number (2.7182...)\n",
        "51.\tmath.inf  Returns a floating-point positive infinity\n",
        "52.\tmath.nan  Returns a floating-point NaN (Not a Number) value\n",
        "53.\tmath.pi Returns PI (3.1415...)\n",
        "54.\tmath.tau  Returns tau (6.2831...)\n",
        "\n"
      ]
    },
    {
      "cell_type": "markdown",
      "metadata": {
        "id": "bS_hC1NDZ9lP"
      },
      "source": [
        "#Python Classes and Objects"
      ]
    },
    {
      "cell_type": "markdown",
      "metadata": {
        "id": "bflSG_9KaEbG"
      },
      "source": [
        "**Python Classes/Objects**\n",
        "\n",
        "Python is an object oriented programming language.\n",
        "\n",
        "Almost everything in Python is an object, with its properties and methods.\n",
        "\n",
        "A Class is like an object constructor, or a \"blueprint\" for creating objects.\n",
        "\n",
        "*Create a Class*\n",
        "\n",
        "To create a class, use the keyword class:"
      ]
    },
    {
      "cell_type": "code",
      "metadata": {
        "id": "4Q2-o3yGak-Q"
      },
      "source": [
        "#Create a class named MyClass, with a property named x:\n",
        "class MyClass:\n",
        "  x = 5"
      ],
      "execution_count": 2,
      "outputs": []
    },
    {
      "cell_type": "markdown",
      "metadata": {
        "id": "5tBQbkCWarZ_"
      },
      "source": [
        "**Create Object**\n",
        "\n",
        "Now we can use the class named MyClass to create objects:"
      ]
    },
    {
      "cell_type": "code",
      "metadata": {
        "id": "eFcHuKo2aVcE",
        "outputId": "f7d5c190-8f3d-4b5e-8a24-3b041d455d7a",
        "colab": {
          "base_uri": "https://localhost:8080/"
        }
      },
      "source": [
        "#Create an object named p1, and print the value of x:\n",
        "p1 = MyClass()\n",
        "print(p1.x)"
      ],
      "execution_count": 3,
      "outputs": [
        {
          "output_type": "stream",
          "text": [
            "5\n"
          ],
          "name": "stdout"
        }
      ]
    },
    {
      "cell_type": "markdown",
      "metadata": {
        "id": "tzL1eZRZac4r"
      },
      "source": [
        "**The __init__() Function**\n",
        "\n",
        "1. The examples above are classes and objects in their simplest form, and are not really useful in real life applications.\n",
        "\n",
        "2. To understand the meaning of classes we have to understand the built-in __init__() function.\n",
        "\n",
        "3. All classes have a function called __init__(), which is always executed when the class is being initiated.\n",
        "\n",
        "4. Use the __init__() function to assign values to object properties, or other operations that are necessary to do when the object is being created:"
      ]
    },
    {
      "cell_type": "code",
      "metadata": {
        "id": "7HsCHM7ta2GJ",
        "outputId": "e53b50c4-7b48-4ff8-a727-8391598feca8",
        "colab": {
          "base_uri": "https://localhost:8080/"
        }
      },
      "source": [
        "#Create a class named Person, use the __init__() function to assign values for name and age:\n",
        "class Person:\n",
        "  def __init__(self, name, age):\n",
        "    self.name = name\n",
        "    self.age = age\n",
        "\n",
        "p1 = Person(\"John\", 36)\n",
        "\n",
        "print(p1.name)\n",
        "print(p1.age)"
      ],
      "execution_count": 4,
      "outputs": [
        {
          "output_type": "stream",
          "text": [
            "John\n",
            "36\n"
          ],
          "name": "stdout"
        }
      ]
    },
    {
      "cell_type": "markdown",
      "metadata": {
        "id": "yTOt3tO1bLC1"
      },
      "source": [
        "Note: The __init__() function is called automatically every time the class is being used to create a new object."
      ]
    },
    {
      "cell_type": "markdown",
      "metadata": {
        "id": "dA3XiK0MbUwM"
      },
      "source": [
        "**Object Methods**\n",
        "\n",
        "Objects can also contain methods. Methods in objects are functions that belong to the object.\n",
        "\n",
        "Let us create a method in the Person class:"
      ]
    },
    {
      "cell_type": "code",
      "metadata": {
        "id": "4jVBbraQbMtM",
        "outputId": "44833e18-2f1b-4e8a-f333-5addfc75a640",
        "colab": {
          "base_uri": "https://localhost:8080/"
        }
      },
      "source": [
        "#Insert a function that prints a greeting, and execute it on the p1 object:\n",
        "class Person:\n",
        "  def __init__(self, name, age):\n",
        "    self.name = name\n",
        "    self.age = age\n",
        "\n",
        "  def myfunc(self):\n",
        "    print(\"Hello my name is \" + self.name)\n",
        "\n",
        "p1 = Person(\"John\", 36)\n",
        "p1.myfunc()"
      ],
      "execution_count": 5,
      "outputs": [
        {
          "output_type": "stream",
          "text": [
            "Hello my name is John\n"
          ],
          "name": "stdout"
        }
      ]
    },
    {
      "cell_type": "markdown",
      "metadata": {
        "id": "UPSb7eIXbiEq"
      },
      "source": [
        "Note: The self parameter is a reference to the current instance of the class, and is used to access variables that belong to the class."
      ]
    },
    {
      "cell_type": "markdown",
      "metadata": {
        "id": "YeBW84GzcWoC"
      },
      "source": [
        "**The self Parameter**\n",
        "\n",
        "The self parameter is a reference to the current instance of the class, and is used to access variables that belongs to the class.\n",
        "\n",
        "It does not have to be named self , you can call it whatever you like, but it has to be the first parameter of any function in the class:"
      ]
    },
    {
      "cell_type": "markdown",
      "metadata": {
        "id": "xHwqA0dZcg7X"
      },
      "source": [
        "Example\n",
        "\n",
        "Use the words mysillyobject and abc instead of self:"
      ]
    },
    {
      "cell_type": "code",
      "metadata": {
        "id": "EXZd5DSrbc9S",
        "outputId": "9dbf1292-9c96-4aa8-d1af-7a43c18af606",
        "colab": {
          "base_uri": "https://localhost:8080/"
        }
      },
      "source": [
        "class Person:\n",
        "  def __init__(mysillyobject, name, age):\n",
        "    mysillyobject.name = name\n",
        "    mysillyobject.age = age\n",
        "\n",
        "  def myfunc(abc):\n",
        "    print(\"Hello my name is \" + abc.name)\n",
        "\n",
        "p1 = Person(\"John\", 36)\n",
        "p1.myfunc()"
      ],
      "execution_count": 6,
      "outputs": [
        {
          "output_type": "stream",
          "text": [
            "Hello my name is John\n"
          ],
          "name": "stdout"
        }
      ]
    },
    {
      "cell_type": "markdown",
      "metadata": {
        "id": "uLLLKVABcpN0"
      },
      "source": [
        "Modify Object Properties\n",
        "\n",
        "You can modify properties on objects like this:"
      ]
    },
    {
      "cell_type": "code",
      "metadata": {
        "id": "FlTWduRFcliZ"
      },
      "source": [
        "#Set the age of p1 to 40:\n",
        "p1.age = 40"
      ],
      "execution_count": 7,
      "outputs": []
    },
    {
      "cell_type": "markdown",
      "metadata": {
        "id": "VhBUcyvucybx"
      },
      "source": [
        "**Delete Object Properties**\n",
        "\n",
        "You can delete properties on objects by using the del keyword:"
      ]
    },
    {
      "cell_type": "code",
      "metadata": {
        "id": "wYzLMTgRcztn"
      },
      "source": [
        "del p1.age"
      ],
      "execution_count": 8,
      "outputs": []
    },
    {
      "cell_type": "markdown",
      "metadata": {
        "id": "P6ktzV_xc5pF"
      },
      "source": [
        "Delete Objects\n",
        "\n",
        "You can delete objects by using the del keyword:"
      ]
    },
    {
      "cell_type": "code",
      "metadata": {
        "id": "KlrzYpF2c66k"
      },
      "source": [
        "del p1"
      ],
      "execution_count": 9,
      "outputs": []
    },
    {
      "cell_type": "markdown",
      "metadata": {
        "id": "YUTdFtqXc_l7"
      },
      "source": [
        "**The pass Statement**\n",
        "\n",
        "class definitions cannot be empty, but if you for some reason have a class definition with no content, put in the pass statement to avoid getting an error."
      ]
    },
    {
      "cell_type": "code",
      "metadata": {
        "id": "rHVb6f06c823"
      },
      "source": [
        "class Person:\n",
        "  pass"
      ],
      "execution_count": 10,
      "outputs": []
    },
    {
      "cell_type": "markdown",
      "metadata": {
        "id": "RVf_cR1PdTFk"
      },
      "source": [
        "#Python Inheritance"
      ]
    },
    {
      "cell_type": "markdown",
      "metadata": {
        "id": "2_5MiOxSd0Vb"
      },
      "source": [
        "**Python Inheritance**\n",
        "\n",
        "Inheritance allows us to define a class that inherits all the methods and properties from another class.\n",
        "\n",
        "Parent class is the class being inherited from, also called base class.\n",
        "\n",
        "Child class is the class that inherits from another class, also called derived class."
      ]
    },
    {
      "cell_type": "markdown",
      "metadata": {
        "id": "PJRwcgqUd6ZA"
      },
      "source": [
        "*Create a Parent Class*\n",
        "\n",
        "Any class can be a parent class, so the syntax is the same as creating any other class:"
      ]
    },
    {
      "cell_type": "code",
      "metadata": {
        "id": "5GqGFb7-dT-C",
        "outputId": "1959c89d-a7c3-4ad1-fe76-f5bd235ed897",
        "colab": {
          "base_uri": "https://localhost:8080/"
        }
      },
      "source": [
        "#Create a class named Person, with firstname and lastname properties, and a printname method:\n",
        "class Person:\n",
        "  def __init__(self, fname, lname):\n",
        "    self.firstname = fname\n",
        "    self.lastname = lname\n",
        "\n",
        "  def printname(self):\n",
        "    print(self.firstname, self.lastname)\n",
        "\n",
        "#Use the Person class to create an object, and then execute the printname method:\n",
        "\n",
        "x = Person(\"John\", \"Doe\")\n",
        "x.printname()\n"
      ],
      "execution_count": 12,
      "outputs": [
        {
          "output_type": "stream",
          "text": [
            "John Doe\n"
          ],
          "name": "stdout"
        }
      ]
    },
    {
      "cell_type": "markdown",
      "metadata": {
        "id": "m_T8Cgi3eMH_"
      },
      "source": [
        "*Create a Child Class*\n",
        "\n",
        "To create a class that inherits the functionality from another class, send the parent class as a parameter when creating the child class:"
      ]
    },
    {
      "cell_type": "code",
      "metadata": {
        "id": "WIS2jKDyeIOV"
      },
      "source": [
        "#Create a class named Student, which will inherit the properties and methods from the Person class:\n",
        "class Student(Person):\n",
        "  pass"
      ],
      "execution_count": 13,
      "outputs": []
    },
    {
      "cell_type": "markdown",
      "metadata": {
        "id": "udGnQXQQeZd5"
      },
      "source": [
        "Note: Use the pass keyword when you do not want to add any other properties or methods to the class."
      ]
    },
    {
      "cell_type": "markdown",
      "metadata": {
        "id": "Gf30Wv7kecdh"
      },
      "source": [
        "Now the Student class has the same properties and methods as the Person class."
      ]
    },
    {
      "cell_type": "code",
      "metadata": {
        "id": "pR2HzXT8eTjx",
        "outputId": "027472e7-dd4a-4bbd-bf2e-55779bb59567",
        "colab": {
          "base_uri": "https://localhost:8080/"
        }
      },
      "source": [
        "#Use the Student class to create an object, and then execute the printname method:\n",
        "x = Student(\"Mike\", \"Olsen\")\n",
        "x.printname()"
      ],
      "execution_count": 14,
      "outputs": [
        {
          "output_type": "stream",
          "text": [
            "Mike Olsen\n"
          ],
          "name": "stdout"
        }
      ]
    },
    {
      "cell_type": "markdown",
      "metadata": {
        "id": "LsqZrO3Tempn"
      },
      "source": [
        "**Add the __init__() Function**\n",
        "\n",
        "So far we have created a child class that inherits the properties and methods from its parent.\n",
        "\n",
        "We want to add the __init__() function to the child class (instead of the pass keyword)."
      ]
    },
    {
      "cell_type": "markdown",
      "metadata": {
        "id": "y2QCgXQueuJ4"
      },
      "source": [
        "Note: The __init__() function is called automatically every time the class is being used to create a new object."
      ]
    },
    {
      "cell_type": "code",
      "metadata": {
        "id": "HAxBKmA4eh-9"
      },
      "source": [
        "#Add the __init__() function to the Student class:\n",
        "class Student(Person):\n",
        "  def __init__(self, fname, lname):\n",
        "    #add properties etc\n"
      ],
      "execution_count": null,
      "outputs": []
    },
    {
      "cell_type": "markdown",
      "metadata": {
        "id": "4WflfIuee_z1"
      },
      "source": [
        "When you add the __init__() function, the child class will no longer inherit the parent's __init__() function."
      ]
    },
    {
      "cell_type": "markdown",
      "metadata": {
        "id": "KRYBzIqffDqA"
      },
      "source": [
        "Note: The child's __init__() function overrides the inheritance of the parent's __init__() function."
      ]
    },
    {
      "cell_type": "markdown",
      "metadata": {
        "id": "rGwjDLRxfHDD"
      },
      "source": [
        "To keep the inheritance of the parent's __init__() function, add a call to the parent's __init__() function:"
      ]
    },
    {
      "cell_type": "code",
      "metadata": {
        "id": "pVN1BcX4fAaX"
      },
      "source": [
        "class Student(Person):\n",
        "  def __init__(self, fname, lname):\n",
        "    Person.__init__(self, fname, lname)"
      ],
      "execution_count": 19,
      "outputs": []
    },
    {
      "cell_type": "markdown",
      "metadata": {
        "id": "yS8zs8GOfRXD"
      },
      "source": [
        "Now we have successfully added the __init__() function, and kept the inheritance of the parent class, and we are ready to add functionality in the __init__() function."
      ]
    },
    {
      "cell_type": "markdown",
      "metadata": {
        "id": "1F3Batg5faYS"
      },
      "source": [
        "**Use the super() Function**\n",
        "\n",
        "Python also has a super() function that will make the child class inherit all the methods and properties from its parent:"
      ]
    },
    {
      "cell_type": "code",
      "metadata": {
        "id": "UzptOXy7fLo4"
      },
      "source": [
        "class Student(Person):\n",
        "  def __init__(self, fname, lname):\n",
        "    super().__init__(fname, lname)"
      ],
      "execution_count": 20,
      "outputs": []
    },
    {
      "cell_type": "markdown",
      "metadata": {
        "id": "QL6LPHOnfj6P"
      },
      "source": [
        "By using the super() function, you do not have to use the name of the parent element, it will automatically inherit the methods and properties from its parent."
      ]
    },
    {
      "cell_type": "markdown",
      "metadata": {
        "id": "Er_JMXr6fpGl"
      },
      "source": [
        "#Add Properties"
      ]
    },
    {
      "cell_type": "code",
      "metadata": {
        "id": "LxZ4fF7afkO6"
      },
      "source": [
        "#Add a property called graduationyear to the Student class:\n",
        "class Student(Person):\n",
        "  def __init__(self, fname, lname):\n",
        "    super().__init__(fname, lname)\n",
        "    self.graduationyear = 2019"
      ],
      "execution_count": 21,
      "outputs": []
    },
    {
      "cell_type": "markdown",
      "metadata": {
        "id": "NZFRYXM7f-CQ"
      },
      "source": [
        "In the example below, the year 2019 should be a variable, and passed into the Student class when creating student objects. To do so, add another parameter in the __init__() function:"
      ]
    },
    {
      "cell_type": "code",
      "metadata": {
        "id": "sKm7vViEf9XN"
      },
      "source": [
        "#Add a year parameter, and pass the correct year when creating objects:\n",
        "class Student(Person):\n",
        "  def __init__(self, fname, lname, year):\n",
        "    super().__init__(fname, lname)\n",
        "    self.graduationyear = year\n",
        "\n",
        "x = Student(\"Mike\", \"Olsen\", 2019)"
      ],
      "execution_count": 22,
      "outputs": []
    },
    {
      "cell_type": "markdown",
      "metadata": {
        "id": "cS7JrRuagSAP"
      },
      "source": [
        "Add Methods\n"
      ]
    },
    {
      "cell_type": "code",
      "metadata": {
        "id": "dIbxR9ZsgWtX",
        "outputId": "63dc1406-aff2-4ce8-a84f-488e309d6251",
        "colab": {
          "base_uri": "https://localhost:8080/"
        }
      },
      "source": [
        "#Add a method called welcome to the Student class:\n",
        "class Student(Person):\n",
        "  def __init__(self, fname, lname, year):\n",
        "    super().__init__(fname, lname)\n",
        "    self.graduationyear = year\n",
        "\n",
        "  def welcome(self):\n",
        "    print(\"Welcome\", self.firstname, self.lastname, \"to the class of\", self.graduationyear)\n",
        "\n",
        "x = Student(\"Mike\", \"Olsen\", 2019)\n",
        "x.welcome()"
      ],
      "execution_count": 29,
      "outputs": [
        {
          "output_type": "stream",
          "text": [
            "Welcome Mike Olsen to the class of 2019\n"
          ],
          "name": "stdout"
        }
      ]
    },
    {
      "cell_type": "markdown",
      "metadata": {
        "id": "7U_TPSEHgeQQ"
      },
      "source": [
        "If you add a method in the child class with the same name as a function in the parent class, the inheritance of the parent method will be overridden."
      ]
    },
    {
      "cell_type": "markdown",
      "metadata": {
        "id": "wGHwNRA_hV4N"
      },
      "source": [
        "#The Main Function"
      ]
    },
    {
      "cell_type": "markdown",
      "metadata": {
        "id": "LnjDFWtvDXYf"
      },
      "source": [
        "Many programming languages have a special function that is automatically executed when an operating system starts to run a program. This function is usually called main() and must have a specific return type and arguments according to the language standard. On the other hand, the Python interpreter executes scripts starting at the top of the file, and there is no specific function that Python automatically executes.\n",
        "\n",
        "Nevertheless, having a defined starting point for the execution of a program is useful for understanding how a program works. Python programmers have come up with several conventions to define this starting point."
      ]
    },
    {
      "cell_type": "markdown",
      "metadata": {
        "id": "Z5x4Pr3_E9na"
      },
      "source": [
        "A Basic Python main()\n",
        "\n",
        "In some Python scripts, you may see a function definition and a conditional statement that looks like the example below:"
      ]
    },
    {
      "cell_type": "code",
      "metadata": {
        "id": "7ow6HJyNE43M",
        "outputId": "e9fda2e6-2128-4162-9670-6e2f9eabde41",
        "colab": {
          "base_uri": "https://localhost:8080/"
        }
      },
      "source": [
        "def main():\n",
        "    print(\"Hello World!\")\n",
        "\n",
        "if __name__ == \"__main__\":\n",
        "    main()"
      ],
      "execution_count": 32,
      "outputs": [
        {
          "output_type": "stream",
          "text": [
            "Hello World!\n"
          ],
          "name": "stdout"
        }
      ]
    },
    {
      "cell_type": "code",
      "metadata": {
        "id": "S2na3rG3haJS",
        "outputId": "c3f07c14-0001-4833-fedb-529f32f4f8e4",
        "colab": {
          "base_uri": "https://localhost:8080/"
        }
      },
      "source": [
        "print(\"This is my file to test Python's execution methods.\")\n",
        "print(\"The variable __name__ tells me which context this file is running in.\")\n",
        "print(\"The value of __name__ is:\", repr(__name__))"
      ],
      "execution_count": 30,
      "outputs": [
        {
          "output_type": "stream",
          "text": [
            "This is my file to test Python's execution methods.\n",
            "The variable __name__ tells me which context this file is running in.\n",
            "The value of __name__ is: '__main__'\n"
          ],
          "name": "stdout"
        }
      ]
    },
    {
      "cell_type": "markdown",
      "metadata": {
        "id": "QVlLM_l9FaO_"
      },
      "source": [
        "Technical detail: The Python documentation defines specifically when __name__ will have the value '__main__':\n",
        "\n",
        "A module’s __name__ is set equal to '__main__' when read from standard input, a script, or from an interactive prompt."
      ]
    },
    {
      "cell_type": "markdown",
      "metadata": {
        "id": "XhlytHkcGOr3"
      },
      "source": [
        "**Best Practices for Python Main Functions**\n",
        "\n",
        "1.Now that you can see the differences in how Python handles its different execution modes, it’s useful for you to know some best practices to use. These will apply whenever you want to write code that you can run as a script and import in another module or an interactive session.\n",
        "\n",
        "2.You will learn about four best practices to make sure that your code can serve a dual purpose:\n",
        "\n",
        "Put most code into a function or class.\n",
        "Use __name__ to control execution of your code.\n",
        "Create a function called main() to contain the code you want to run.\n",
        "Call other functions from main()."
      ]
    },
    {
      "cell_type": "code",
      "metadata": {
        "id": "h97BHrmpEyvO",
        "outputId": "15d2b3f6-e811-4c38-ac37-f186eaacec13",
        "colab": {
          "base_uri": "https://localhost:8080/"
        }
      },
      "source": [
        "from time import sleep\n",
        "\n",
        "print(\"This is my file to demonstrate best practices.\")\n",
        "\n",
        "def process_data(data):\n",
        "    print(\"Beginning data processing...\")\n",
        "    modified_data = data + \" that has been modified\"\n",
        "    sleep(3)\n",
        "    print(\"Data processing finished.\")\n",
        "    return modified_data\n",
        "\n",
        "def main():\n",
        "    data = \"My data read from the Web\"\n",
        "    print(data)\n",
        "    modified_data = process_data(data)\n",
        "    print(modified_data)\n",
        "\n",
        "if __name__ == \"__main__\":\n",
        "    main()"
      ],
      "execution_count": 33,
      "outputs": [
        {
          "output_type": "stream",
          "text": [
            "This is my file to demonstrate best practices.\n",
            "My data read from the Web\n",
            "Beginning data processing...\n",
            "Data processing finished.\n",
            "My data read from the Web that has been modified\n"
          ],
          "name": "stdout"
        }
      ]
    },
    {
      "cell_type": "code",
      "metadata": {
        "id": "PO4_3NAyReNK",
        "outputId": "29aa00d5-d3ca-433d-9641-bae215207448",
        "colab": {
          "base_uri": "https://localhost:8080/"
        }
      },
      "source": [
        "from time import sleep\n",
        "\n",
        "print(\"This is my file to demonstrate best practices.\")\n",
        "\n",
        "def process_data(data):\n",
        "    print(\"Beginning data processing...\")\n",
        "    modified_data = data + \" that has been modified\"\n",
        "    sleep(3)\n",
        "    print(\"Data processing finished.\")\n",
        "    return modified_data\n",
        "\n",
        "def read_data_from_web():\n",
        "    print(\"Reading data from the Web\")\n",
        "    data = \"Data from the web\"\n",
        "    return data\n",
        "\n",
        "def write_data_to_database(data):\n",
        "    print(\"Writing data to a database\")\n",
        "    print(data)\n",
        "\n",
        "def main():\n",
        "    data = read_data_from_web()\n",
        "    modified_data = process_data(data)\n",
        "    write_data_to_database(modified_data)\n",
        "\n",
        "if __name__ == \"__main__\":\n",
        "    main()"
      ],
      "execution_count": 35,
      "outputs": [
        {
          "output_type": "stream",
          "text": [
            "This is my file to demonstrate best practices.\n",
            "Reading data from the Web\n",
            "Beginning data processing...\n",
            "Data processing finished.\n",
            "Writing data to a database\n",
            "Data from the web that has been modified\n"
          ],
          "name": "stdout"
        }
      ]
    },
    {
      "cell_type": "markdown",
      "metadata": {
        "id": "rIjOQOTNR8UR"
      },
      "source": [
        "![image.png](data:image/png;base64,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)"
      ]
    },
    {
      "cell_type": "code",
      "metadata": {
        "id": "MPQqvdwiRfCT"
      },
      "source": [
        ""
      ],
      "execution_count": null,
      "outputs": []
    }
  ]
}