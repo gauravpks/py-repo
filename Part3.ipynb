{
  "nbformat": 4,
  "nbformat_minor": 0,
  "metadata": {
    "kernelspec": {
      "display_name": "Python 3",
      "language": "python",
      "name": "python3"
    },
    "language_info": {
      "codemirror_mode": {
        "name": "ipython",
        "version": 3
      },
      "file_extension": ".py",
      "mimetype": "text/x-python",
      "name": "python",
      "nbconvert_exporter": "python",
      "pygments_lexer": "ipython3",
      "version": "3.7.3"
    },
    "colab": {
      "name": "Part3.ipynb",
      "provenance": [],
      "toc_visible": true,
      "include_colab_link": true
    }
  },
  "cells": [
    {
      "cell_type": "markdown",
      "metadata": {
        "id": "view-in-github",
        "colab_type": "text"
      },
      "source": [
        "<a href=\"https://colab.research.google.com/github/gauravpks/py-repo/blob/master/Part3.ipynb\" target=\"_parent\"><img src=\"https://colab.research.google.com/assets/colab-badge.svg\" alt=\"Open In Colab\"/></a>"
      ]
    },
    {
      "cell_type": "markdown",
      "metadata": {
        "id": "cHct92OIz4-g"
      },
      "source": [
        "# Python Lambda\n"
      ]
    },
    {
      "cell_type": "markdown",
      "metadata": {
        "id": "unbO_8kJz4-i"
      },
      "source": [
        "A lambda function is a small anonymous function.\n",
        "\n",
        "A lambda function can take any number of arguments, but can only have one expression."
      ]
    },
    {
      "cell_type": "code",
      "metadata": {
        "id": "-bE_JkeHz4-j",
        "outputId": "7f21ceeb-cb55-4e51-9e5a-eaef4f25bece",
        "colab": {
          "base_uri": "https://localhost:8080/",
          "height": 34
        }
      },
      "source": [
        "#Add 10 to argument a, and return the result:\n",
        "x = lambda a : a + 10\n",
        "print(x(5))"
      ],
      "execution_count": 1,
      "outputs": [
        {
          "output_type": "stream",
          "text": [
            "15\n"
          ],
          "name": "stdout"
        }
      ]
    },
    {
      "cell_type": "markdown",
      "metadata": {
        "id": "iHQLMMLPz4-p"
      },
      "source": [
        "Lambda functions can take any number of arguments:"
      ]
    },
    {
      "cell_type": "code",
      "metadata": {
        "id": "NHmAIFW-R0Ad",
        "outputId": "a87c493e-e46d-4768-f39e-daec3a138986",
        "colab": {
          "base_uri": "https://localhost:8080/",
          "height": 34
        }
      },
      "source": [
        "x = lambda a, b : a * b\n",
        "print(x(5, 6))"
      ],
      "execution_count": 2,
      "outputs": [
        {
          "output_type": "stream",
          "text": [
            "30\n"
          ],
          "name": "stdout"
        }
      ]
    },
    {
      "cell_type": "code",
      "metadata": {
        "id": "-8uVO-ilR4ha",
        "outputId": "54cd2ad8-4444-49df-838c-8a767e39632a",
        "colab": {
          "base_uri": "https://localhost:8080/",
          "height": 34
        }
      },
      "source": [
        "x = lambda a, b, c : a + b + c\n",
        "print(x(5, 6, 2))"
      ],
      "execution_count": 3,
      "outputs": [
        {
          "output_type": "stream",
          "text": [
            "13\n"
          ],
          "name": "stdout"
        }
      ]
    },
    {
      "cell_type": "markdown",
      "metadata": {
        "id": "B77e2hE8R9lT"
      },
      "source": [
        "Why Use Lambda Functions?\n",
        "The power of lambda is better shown when you use them as an anonymous function inside another function.\n",
        "\n",
        "Say you have a function definition that takes one argument, and that argument will be multiplied with an unknown number:"
      ]
    },
    {
      "cell_type": "code",
      "metadata": {
        "id": "POkqLpXpR6oy",
        "outputId": "b7529155-d14a-4e87-bac4-39614272bb76",
        "colab": {
          "base_uri": "https://localhost:8080/",
          "height": 34
        }
      },
      "source": [
        "def myfunc(n):\n",
        "  return lambda a : a * n\n",
        "\n",
        "mydoubler = myfunc(2)\n",
        "\n",
        "print(mydoubler(11))"
      ],
      "execution_count": 4,
      "outputs": [
        {
          "output_type": "stream",
          "text": [
            "22\n"
          ],
          "name": "stdout"
        }
      ]
    },
    {
      "cell_type": "markdown",
      "metadata": {
        "id": "mbjGYZabSMSF"
      },
      "source": [
        "Use that function definition to make a function that always doubles the number you send in:"
      ]
    },
    {
      "cell_type": "code",
      "metadata": {
        "id": "aJwfkQedSGL2",
        "outputId": "daf2dddf-08dc-4c5c-8ee2-d3c6661c251f",
        "colab": {
          "base_uri": "https://localhost:8080/",
          "height": 34
        }
      },
      "source": [
        "def myfunc(n):\n",
        "  return lambda a : a * n\n",
        "\n",
        "mydoubler = myfunc(2)\n",
        "\n",
        "print(mydoubler(11))"
      ],
      "execution_count": 5,
      "outputs": [
        {
          "output_type": "stream",
          "text": [
            "22\n"
          ],
          "name": "stdout"
        }
      ]
    },
    {
      "cell_type": "code",
      "metadata": {
        "id": "C74_UHjWSO1R",
        "outputId": "7d86f387-e561-49f4-f591-738182bdda5e",
        "colab": {
          "base_uri": "https://localhost:8080/",
          "height": 51
        }
      },
      "source": [
        "def myfunc(n):\n",
        "  return lambda a : a * n\n",
        "\n",
        "mydoubler = myfunc(2)\n",
        "mytripler = myfunc(3)\n",
        "\n",
        "print(mydoubler(11))\n",
        "print(mytripler(11))"
      ],
      "execution_count": 6,
      "outputs": [
        {
          "output_type": "stream",
          "text": [
            "22\n",
            "33\n"
          ],
          "name": "stdout"
        }
      ]
    },
    {
      "cell_type": "markdown",
      "metadata": {
        "id": "4dX1S0RLS_Z9"
      },
      "source": [
        "#Python Scope"
      ]
    },
    {
      "cell_type": "markdown",
      "metadata": {
        "id": "-Bk9T8AiTEtn"
      },
      "source": [
        "A variable is only available from inside the region it is created. This is called scope.\n",
        "\n",
        "**Local Scope**\n",
        "\n",
        "A variable created inside a function belongs to the local scope of that function, and can only be used inside that function."
      ]
    },
    {
      "cell_type": "markdown",
      "metadata": {
        "id": "Bwgzwp0lTKOh"
      },
      "source": [
        "A variable created inside a function is available inside that function:"
      ]
    },
    {
      "cell_type": "code",
      "metadata": {
        "id": "dOZrjup5S-tc",
        "outputId": "e0b58884-092e-4b78-e4f6-5d5a066dad38",
        "colab": {
          "base_uri": "https://localhost:8080/",
          "height": 34
        }
      },
      "source": [
        "def myfunc():\n",
        "  x = 300\n",
        "  print(x)\n",
        "\n",
        "myfunc()"
      ],
      "execution_count": 7,
      "outputs": [
        {
          "output_type": "stream",
          "text": [
            "300\n"
          ],
          "name": "stdout"
        }
      ]
    },
    {
      "cell_type": "markdown",
      "metadata": {
        "id": "ipgzelZSTPg3"
      },
      "source": [
        "**Function Inside Function**\n",
        "\n",
        "As explained in the example above, the variable x is not available outside the function, but it is available for any function inside the function:"
      ]
    },
    {
      "cell_type": "code",
      "metadata": {
        "id": "JnY3QH2ATOxr",
        "outputId": "4bed2688-8d76-4154-be97-b45e7216f28c",
        "colab": {
          "base_uri": "https://localhost:8080/",
          "height": 34
        }
      },
      "source": [
        "def myfunc():\n",
        "  x = 300\n",
        "  def myinnerfunc():\n",
        "    print(x)\n",
        "  myinnerfunc()\n",
        "\n",
        "myfunc()"
      ],
      "execution_count": 8,
      "outputs": [
        {
          "output_type": "stream",
          "text": [
            "300\n"
          ],
          "name": "stdout"
        }
      ]
    },
    {
      "cell_type": "markdown",
      "metadata": {
        "id": "yOacbh3DTYL1"
      },
      "source": [
        "**Global Scope**\n",
        "\n",
        "A variable created in the main body of the Python code is a global variable and belongs to the global scope.\n",
        "\n",
        "Global variables are available from within any scope, global and local."
      ]
    },
    {
      "cell_type": "markdown",
      "metadata": {
        "id": "utxdSwmMTq7L"
      },
      "source": [
        "A variable created outside of a function is global and can be used by anyone:"
      ]
    },
    {
      "cell_type": "code",
      "metadata": {
        "id": "Z8Gpde7ISf4v",
        "outputId": "30b9155b-b47c-4260-99bf-352a404ccc95",
        "colab": {
          "base_uri": "https://localhost:8080/",
          "height": 51
        }
      },
      "source": [
        "x = 300\n",
        "\n",
        "def myfunc():\n",
        "  print(x)\n",
        "\n",
        "myfunc()\n",
        "\n",
        "print(x)"
      ],
      "execution_count": 9,
      "outputs": [
        {
          "output_type": "stream",
          "text": [
            "300\n",
            "300\n"
          ],
          "name": "stdout"
        }
      ]
    },
    {
      "cell_type": "markdown",
      "metadata": {
        "id": "07kR4l8YTtfc"
      },
      "source": [
        "**Naming Variables**\n",
        "\n",
        "If you operate with the same variable name inside and outside of a function, Python will treat them as two separate variables, one available in the global scope (outside the function) and one available in the local scope (inside the function):"
      ]
    },
    {
      "cell_type": "code",
      "metadata": {
        "id": "6Rro6HZ1TnJ_",
        "outputId": "01e96742-5ffc-4284-9bd6-ab190ff74790",
        "colab": {
          "base_uri": "https://localhost:8080/",
          "height": 51
        }
      },
      "source": [
        "x = 300\n",
        "\n",
        "def myfunc():\n",
        "  x = 200\n",
        "  print(x)\n",
        "\n",
        "myfunc()\n",
        "\n",
        "print(x)"
      ],
      "execution_count": 10,
      "outputs": [
        {
          "output_type": "stream",
          "text": [
            "200\n",
            "300\n"
          ],
          "name": "stdout"
        }
      ]
    },
    {
      "cell_type": "markdown",
      "metadata": {
        "id": "zN6V4RlyT0-T"
      },
      "source": [
        "**Global Keyword**\n",
        "\n",
        "If you need to create a global variable, but are stuck in the local scope, you can use the global keyword.\n",
        "\n",
        "The global keyword makes the variable global."
      ]
    },
    {
      "cell_type": "markdown",
      "metadata": {
        "id": "79-h7DogT6GY"
      },
      "source": [
        "If you use the global keyword, the variable belongs to the global scope:"
      ]
    },
    {
      "cell_type": "code",
      "metadata": {
        "id": "WbmaGCp7Tzoi",
        "outputId": "036d8a80-0d13-463c-c1ac-b43c343e8cbe",
        "colab": {
          "base_uri": "https://localhost:8080/",
          "height": 51
        }
      },
      "source": [
        "  global x\n",
        "  x = 300\n",
        "\n",
        "myfunc()\n",
        "\n",
        "print(x)"
      ],
      "execution_count": 11,
      "outputs": [
        {
          "output_type": "stream",
          "text": [
            "200\n",
            "300\n"
          ],
          "name": "stdout"
        }
      ]
    },
    {
      "cell_type": "markdown",
      "metadata": {
        "id": "Y428z80yUMUt"
      },
      "source": [
        "Also, use the global keyword if you want to make a change to a global variable inside a function."
      ]
    },
    {
      "cell_type": "code",
      "metadata": {
        "id": "ATE9wzupTxaK",
        "outputId": "84e8ea6a-1e13-4492-82fa-811d4e910227",
        "colab": {
          "base_uri": "https://localhost:8080/",
          "height": 34
        }
      },
      "source": [
        "x = 300\n",
        "\n",
        "def myfunc():\n",
        "  global x\n",
        "  x = 200\n",
        "\n",
        "myfunc()\n",
        "\n",
        "print(x)"
      ],
      "execution_count": 12,
      "outputs": [
        {
          "output_type": "stream",
          "text": [
            "200\n"
          ],
          "name": "stdout"
        }
      ]
    },
    {
      "cell_type": "markdown",
      "metadata": {
        "id": "hqEz5lAKUXgI"
      },
      "source": [
        "**Example**\n",
        "\n",
        "To change the value of a global variable inside a function, refer to the variable by using the global keyword:"
      ]
    },
    {
      "cell_type": "code",
      "metadata": {
        "id": "TJ1ipdmfUO-b",
        "outputId": "06bc331f-7c49-499f-e3ba-1c7cf274c18e",
        "colab": {
          "base_uri": "https://localhost:8080/",
          "height": 34
        }
      },
      "source": [
        "x = 300\n",
        "\n",
        "def myfunc():\n",
        "  global x\n",
        "  x = 200\n",
        "\n",
        "myfunc()\n",
        "\n",
        "print(x)"
      ],
      "execution_count": 13,
      "outputs": [
        {
          "output_type": "stream",
          "text": [
            "200\n"
          ],
          "name": "stdout"
        }
      ]
    }
  ]
}