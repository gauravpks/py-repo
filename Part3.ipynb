{
  "nbformat": 4,
  "nbformat_minor": 0,
  "metadata": {
    "kernelspec": {
      "display_name": "Python 3",
      "language": "python",
      "name": "python3"
    },
    "language_info": {
      "codemirror_mode": {
        "name": "ipython",
        "version": 3
      },
      "file_extension": ".py",
      "mimetype": "text/x-python",
      "name": "python",
      "nbconvert_exporter": "python",
      "pygments_lexer": "ipython3",
      "version": "3.7.3"
    },
    "colab": {
      "name": "Part3.ipynb",
      "provenance": [],
      "include_colab_link": true
    }
  },
  "cells": [
    {
      "cell_type": "markdown",
      "metadata": {
        "id": "view-in-github",
        "colab_type": "text"
      },
      "source": [
        "<a href=\"https://colab.research.google.com/github/gauravpks/py-repo/blob/master/Part3.ipynb\" target=\"_parent\"><img src=\"https://colab.research.google.com/assets/colab-badge.svg\" alt=\"Open In Colab\"/></a>"
      ]
    },
    {
      "cell_type": "markdown",
      "metadata": {
        "id": "cHct92OIz4-g"
      },
      "source": [
        "# Python Lambda\n"
      ]
    },
    {
      "cell_type": "markdown",
      "metadata": {
        "id": "unbO_8kJz4-i"
      },
      "source": [
        "A lambda function is a small anonymous function.\n",
        "\n",
        "A lambda function can take any number of arguments, but can only have one expression."
      ]
    },
    {
      "cell_type": "code",
      "metadata": {
        "id": "-bE_JkeHz4-j",
        "outputId": "7f21ceeb-cb55-4e51-9e5a-eaef4f25bece",
        "colab": {
          "base_uri": "https://localhost:8080/",
          "height": 34
        }
      },
      "source": [
        "#Add 10 to argument a, and return the result:\n",
        "x = lambda a : a + 10\n",
        "print(x(5))"
      ],
      "execution_count": null,
      "outputs": [
        {
          "output_type": "stream",
          "text": [
            "15\n"
          ],
          "name": "stdout"
        }
      ]
    },
    {
      "cell_type": "markdown",
      "metadata": {
        "id": "iHQLMMLPz4-p"
      },
      "source": [
        "Lambda functions can take any number of arguments:"
      ]
    },
    {
      "cell_type": "code",
      "metadata": {
        "id": "NHmAIFW-R0Ad",
        "outputId": "a87c493e-e46d-4768-f39e-daec3a138986",
        "colab": {
          "base_uri": "https://localhost:8080/",
          "height": 34
        }
      },
      "source": [
        "x = lambda a, b : a * b\n",
        "print(x(5, 6))"
      ],
      "execution_count": null,
      "outputs": [
        {
          "output_type": "stream",
          "text": [
            "30\n"
          ],
          "name": "stdout"
        }
      ]
    },
    {
      "cell_type": "code",
      "metadata": {
        "id": "-8uVO-ilR4ha",
        "outputId": "54cd2ad8-4444-49df-838c-8a767e39632a",
        "colab": {
          "base_uri": "https://localhost:8080/",
          "height": 34
        }
      },
      "source": [
        "x = lambda a, b, c : a + b + c\n",
        "print(x(5, 6, 2))"
      ],
      "execution_count": null,
      "outputs": [
        {
          "output_type": "stream",
          "text": [
            "13\n"
          ],
          "name": "stdout"
        }
      ]
    },
    {
      "cell_type": "markdown",
      "metadata": {
        "id": "B77e2hE8R9lT"
      },
      "source": [
        "Why Use Lambda Functions?\n",
        "The power of lambda is better shown when you use them as an anonymous function inside another function.\n",
        "\n",
        "Say you have a function definition that takes one argument, and that argument will be multiplied with an unknown number:"
      ]
    },
    {
      "cell_type": "code",
      "metadata": {
        "id": "POkqLpXpR6oy",
        "outputId": "b7529155-d14a-4e87-bac4-39614272bb76",
        "colab": {
          "base_uri": "https://localhost:8080/",
          "height": 34
        }
      },
      "source": [
        "def myfunc(n):\n",
        "  return lambda a : a * n\n",
        "\n",
        "mydoubler = myfunc(2)\n",
        "\n",
        "print(mydoubler(11))"
      ],
      "execution_count": null,
      "outputs": [
        {
          "output_type": "stream",
          "text": [
            "22\n"
          ],
          "name": "stdout"
        }
      ]
    },
    {
      "cell_type": "markdown",
      "metadata": {
        "id": "mbjGYZabSMSF"
      },
      "source": [
        "Use that function definition to make a function that always doubles the number you send in:"
      ]
    },
    {
      "cell_type": "code",
      "metadata": {
        "id": "aJwfkQedSGL2",
        "outputId": "daf2dddf-08dc-4c5c-8ee2-d3c6661c251f",
        "colab": {
          "base_uri": "https://localhost:8080/",
          "height": 34
        }
      },
      "source": [
        "def myfunc(n):\n",
        "  return lambda a : a * n\n",
        "\n",
        "mydoubler = myfunc(2)\n",
        "\n",
        "print(mydoubler(11))"
      ],
      "execution_count": null,
      "outputs": [
        {
          "output_type": "stream",
          "text": [
            "22\n"
          ],
          "name": "stdout"
        }
      ]
    },
    {
      "cell_type": "code",
      "metadata": {
        "id": "C74_UHjWSO1R",
        "outputId": "7d86f387-e561-49f4-f591-738182bdda5e",
        "colab": {
          "base_uri": "https://localhost:8080/",
          "height": 51
        }
      },
      "source": [
        "def myfunc(n):\n",
        "  return lambda a : a * n\n",
        "\n",
        "mydoubler = myfunc(2)\n",
        "mytripler = myfunc(3)\n",
        "\n",
        "print(mydoubler(11))\n",
        "print(mytripler(11))"
      ],
      "execution_count": null,
      "outputs": [
        {
          "output_type": "stream",
          "text": [
            "22\n",
            "33\n"
          ],
          "name": "stdout"
        }
      ]
    },
    {
      "cell_type": "markdown",
      "metadata": {
        "id": "4dX1S0RLS_Z9"
      },
      "source": [
        "#Python Scope"
      ]
    },
    {
      "cell_type": "markdown",
      "metadata": {
        "id": "-Bk9T8AiTEtn"
      },
      "source": [
        "A variable is only available from inside the region it is created. This is called scope.\n",
        "\n",
        "**Local Scope**\n",
        "\n",
        "A variable created inside a function belongs to the local scope of that function, and can only be used inside that function."
      ]
    },
    {
      "cell_type": "markdown",
      "metadata": {
        "id": "Bwgzwp0lTKOh"
      },
      "source": [
        "A variable created inside a function is available inside that function:"
      ]
    },
    {
      "cell_type": "code",
      "metadata": {
        "id": "dOZrjup5S-tc",
        "outputId": "e0b58884-092e-4b78-e4f6-5d5a066dad38",
        "colab": {
          "base_uri": "https://localhost:8080/",
          "height": 34
        }
      },
      "source": [
        "def myfunc():\n",
        "  x = 300\n",
        "  print(x)\n",
        "\n",
        "myfunc()"
      ],
      "execution_count": null,
      "outputs": [
        {
          "output_type": "stream",
          "text": [
            "300\n"
          ],
          "name": "stdout"
        }
      ]
    },
    {
      "cell_type": "markdown",
      "metadata": {
        "id": "ipgzelZSTPg3"
      },
      "source": [
        "**Function Inside Function**\n",
        "\n",
        "As explained in the example above, the variable x is not available outside the function, but it is available for any function inside the function:"
      ]
    },
    {
      "cell_type": "code",
      "metadata": {
        "id": "JnY3QH2ATOxr",
        "outputId": "4bed2688-8d76-4154-be97-b45e7216f28c",
        "colab": {
          "base_uri": "https://localhost:8080/",
          "height": 34
        }
      },
      "source": [
        "def myfunc():\n",
        "  x = 300\n",
        "  def myinnerfunc():\n",
        "    print(x)\n",
        "  myinnerfunc()\n",
        "\n",
        "myfunc()"
      ],
      "execution_count": null,
      "outputs": [
        {
          "output_type": "stream",
          "text": [
            "300\n"
          ],
          "name": "stdout"
        }
      ]
    },
    {
      "cell_type": "markdown",
      "metadata": {
        "id": "yOacbh3DTYL1"
      },
      "source": [
        "**Global Scope**\n",
        "\n",
        "A variable created in the main body of the Python code is a global variable and belongs to the global scope.\n",
        "\n",
        "Global variables are available from within any scope, global and local."
      ]
    },
    {
      "cell_type": "markdown",
      "metadata": {
        "id": "utxdSwmMTq7L"
      },
      "source": [
        "A variable created outside of a function is global and can be used by anyone:"
      ]
    },
    {
      "cell_type": "code",
      "metadata": {
        "id": "Z8Gpde7ISf4v",
        "outputId": "30b9155b-b47c-4260-99bf-352a404ccc95",
        "colab": {
          "base_uri": "https://localhost:8080/",
          "height": 51
        }
      },
      "source": [
        "x = 300\n",
        "\n",
        "def myfunc():\n",
        "  print(x)\n",
        "\n",
        "myfunc()\n",
        "\n",
        "print(x)"
      ],
      "execution_count": null,
      "outputs": [
        {
          "output_type": "stream",
          "text": [
            "300\n",
            "300\n"
          ],
          "name": "stdout"
        }
      ]
    },
    {
      "cell_type": "markdown",
      "metadata": {
        "id": "07kR4l8YTtfc"
      },
      "source": [
        "**Naming Variables**\n",
        "\n",
        "If you operate with the same variable name inside and outside of a function, Python will treat them as two separate variables, one available in the global scope (outside the function) and one available in the local scope (inside the function):"
      ]
    },
    {
      "cell_type": "code",
      "metadata": {
        "id": "6Rro6HZ1TnJ_",
        "outputId": "01e96742-5ffc-4284-9bd6-ab190ff74790",
        "colab": {
          "base_uri": "https://localhost:8080/",
          "height": 51
        }
      },
      "source": [
        "x = 300\n",
        "\n",
        "def myfunc():\n",
        "  x = 200\n",
        "  print(x)\n",
        "\n",
        "myfunc()\n",
        "\n",
        "print(x)"
      ],
      "execution_count": null,
      "outputs": [
        {
          "output_type": "stream",
          "text": [
            "200\n",
            "300\n"
          ],
          "name": "stdout"
        }
      ]
    },
    {
      "cell_type": "markdown",
      "metadata": {
        "id": "zN6V4RlyT0-T"
      },
      "source": [
        "**Global Keyword**\n",
        "\n",
        "If you need to create a global variable, but are stuck in the local scope, you can use the global keyword.\n",
        "\n",
        "The global keyword makes the variable global."
      ]
    },
    {
      "cell_type": "markdown",
      "metadata": {
        "id": "79-h7DogT6GY"
      },
      "source": [
        "If you use the global keyword, the variable belongs to the global scope:"
      ]
    },
    {
      "cell_type": "code",
      "metadata": {
        "id": "WbmaGCp7Tzoi",
        "outputId": "036d8a80-0d13-463c-c1ac-b43c343e8cbe",
        "colab": {
          "base_uri": "https://localhost:8080/",
          "height": 51
        }
      },
      "source": [
        "  global x\n",
        "  x = 300\n",
        "\n",
        "myfunc()\n",
        "\n",
        "print(x)"
      ],
      "execution_count": null,
      "outputs": [
        {
          "output_type": "stream",
          "text": [
            "200\n",
            "300\n"
          ],
          "name": "stdout"
        }
      ]
    },
    {
      "cell_type": "markdown",
      "metadata": {
        "id": "Y428z80yUMUt"
      },
      "source": [
        "If you use the global keyword, the variable belongs to the global scope:"
      ]
    },
    {
      "cell_type": "code",
      "metadata": {
        "id": "ATE9wzupTxaK",
        "outputId": "dbc87327-4b3b-49f2-efa1-0aaac80b5292",
        "colab": {
          "base_uri": "https://localhost:8080/",
          "height": 34
        }
      },
      "source": [
        "def myfunc():\n",
        "  global x\n",
        "  x = 300\n",
        "\n",
        "myfunc()\n",
        "\n",
        "print(x)"
      ],
      "execution_count": null,
      "outputs": [
        {
          "output_type": "stream",
          "text": [
            "300\n"
          ],
          "name": "stdout"
        }
      ]
    },
    {
      "cell_type": "markdown",
      "metadata": {
        "id": "hqEz5lAKUXgI"
      },
      "source": [
        "**Example**\n",
        "\n",
        "To change the value of a global variable inside a function, refer to the variable by using the global keyword:"
      ]
    },
    {
      "cell_type": "code",
      "metadata": {
        "id": "TJ1ipdmfUO-b",
        "outputId": "06bc331f-7c49-499f-e3ba-1c7cf274c18e",
        "colab": {
          "base_uri": "https://localhost:8080/",
          "height": 34
        }
      },
      "source": [
        "x = 300\n",
        "\n",
        "def myfunc():\n",
        "  global x\n",
        "  x = 200\n",
        "\n",
        "myfunc()\n",
        "\n",
        "print(x)"
      ],
      "execution_count": null,
      "outputs": [
        {
          "output_type": "stream",
          "text": [
            "200\n"
          ],
          "name": "stdout"
        }
      ]
    },
    {
      "cell_type": "markdown",
      "metadata": {
        "id": "PmF_3fiIY0it"
      },
      "source": [
        "#Importing Module / Packages"
      ]
    },
    {
      "cell_type": "markdown",
      "metadata": {
        "id": "NSJwlqTeZ0J8"
      },
      "source": [
        "##DateTime"
      ]
    },
    {
      "cell_type": "markdown",
      "metadata": {
        "id": "rjFlH-s2Y9aQ"
      },
      "source": [
        "**Python Dates**\n",
        "\n",
        "A date in Python is not a data type of its own, but we can import a module named datetime to work with dates as date objects."
      ]
    },
    {
      "cell_type": "code",
      "metadata": {
        "id": "qxOcfsZKY242",
        "outputId": "f189820a-61df-440d-b266-47a712dbafe8",
        "colab": {
          "base_uri": "https://localhost:8080/",
          "height": 34
        }
      },
      "source": [
        "import datetime\n",
        "\n",
        "x = datetime.datetime.now()\n",
        "print(x)"
      ],
      "execution_count": null,
      "outputs": [
        {
          "output_type": "stream",
          "text": [
            "2020-10-05 10:52:38.391972\n"
          ],
          "name": "stdout"
        }
      ]
    },
    {
      "cell_type": "code",
      "metadata": {
        "id": "mFN3v9PRZB87",
        "outputId": "c408e811-0908-46ff-f846-0d7f9bfd1bae",
        "colab": {
          "base_uri": "https://localhost:8080/",
          "height": 51
        }
      },
      "source": [
        "import datetime\n",
        "\n",
        "x = datetime.datetime.now()\n",
        "\n",
        "print(x.year)\n",
        "print(x.strftime(\"%A\"))"
      ],
      "execution_count": null,
      "outputs": [
        {
          "output_type": "stream",
          "text": [
            "2020\n",
            "Monday\n"
          ],
          "name": "stdout"
        }
      ]
    },
    {
      "cell_type": "markdown",
      "metadata": {
        "id": "Yh8imFUvZTOE"
      },
      "source": [
        "**Creating Date Objects**\n",
        "\n",
        "To create a date, we can use the datetime() class (constructor) of the datetime module.\n",
        "\n",
        "The datetime() class requires three parameters to create a date: year, month, day."
      ]
    },
    {
      "cell_type": "code",
      "metadata": {
        "id": "JNhpS1UiZKry",
        "outputId": "1799c0cf-097b-4b52-f6e6-c99d0b84cb15",
        "colab": {
          "base_uri": "https://localhost:8080/",
          "height": 34
        }
      },
      "source": [
        "import datetime\n",
        "\n",
        "x = datetime.datetime(2020, 5, 17)\n",
        "\n",
        "print(x)"
      ],
      "execution_count": null,
      "outputs": [
        {
          "output_type": "stream",
          "text": [
            "2020-05-17 00:00:00\n"
          ],
          "name": "stdout"
        }
      ]
    },
    {
      "cell_type": "markdown",
      "metadata": {
        "id": "-unS0vh8ZfXG"
      },
      "source": [
        "The strftime() Method\n",
        "The datetime object has a method for formatting date objects into readable strings.\n",
        "\n",
        "The method is called strftime(), and takes one parameter, format, to specify the format of the returned string:"
      ]
    },
    {
      "cell_type": "code",
      "metadata": {
        "id": "x7TPGJTSZZJL",
        "outputId": "5d1a451d-e171-490d-f961-02728494e8e4",
        "colab": {
          "base_uri": "https://localhost:8080/",
          "height": 34
        }
      },
      "source": [
        "import datetime\n",
        "\n",
        "x = datetime.datetime(2018, 6, 1)\n",
        "\n",
        "print(x.strftime(\"%B\"))"
      ],
      "execution_count": null,
      "outputs": [
        {
          "output_type": "stream",
          "text": [
            "June\n"
          ],
          "name": "stdout"
        }
      ]
    },
    {
      "cell_type": "markdown",
      "metadata": {
        "id": "bvS7VnIsZvYY"
      },
      "source": [
        "![image.png](data:image/png;base64,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)"
      ]
    },
    {
      "cell_type": "markdown",
      "metadata": {
        "id": "iTni4aVDZ5n3"
      },
      "source": [
        "##Python Math"
      ]
    },
    {
      "cell_type": "markdown",
      "metadata": {
        "id": "c54nz9lCZ9SH"
      },
      "source": [
        "Python has a set of built-in math functions, including an extensive math module, that allows you to perform mathematical tasks on numbers."
      ]
    },
    {
      "cell_type": "markdown",
      "metadata": {
        "id": "QwyLskjuaAb5"
      },
      "source": [
        "The min() and max() functions can be used to find the lowest or highest value in an iterable:"
      ]
    },
    {
      "cell_type": "code",
      "metadata": {
        "id": "hcoo4gG4Z6KI",
        "outputId": "90610529-ef30-4372-bccd-0d66b48271ea",
        "colab": {
          "base_uri": "https://localhost:8080/",
          "height": 51
        }
      },
      "source": [
        "x = min(5, 10, 25)\n",
        "y = max(5, 10, 25)\n",
        "\n",
        "print(x)\n",
        "print(y)"
      ],
      "execution_count": null,
      "outputs": [
        {
          "output_type": "stream",
          "text": [
            "5\n",
            "25\n"
          ],
          "name": "stdout"
        }
      ]
    },
    {
      "cell_type": "markdown",
      "metadata": {
        "id": "SwVIpkAUaEXd"
      },
      "source": [
        "The abs() function returns the absolute (positive) value of the specified number:"
      ]
    },
    {
      "cell_type": "code",
      "metadata": {
        "id": "jdWeQLbpaCLK",
        "outputId": "47ac5336-a0bb-4054-c225-19ef84564309",
        "colab": {
          "base_uri": "https://localhost:8080/",
          "height": 34
        }
      },
      "source": [
        "x = abs(-7.25)\n",
        "\n",
        "print(x)"
      ],
      "execution_count": null,
      "outputs": [
        {
          "output_type": "stream",
          "text": [
            "7.25\n"
          ],
          "name": "stdout"
        }
      ]
    },
    {
      "cell_type": "code",
      "metadata": {
        "id": "vccmFrh6aGE0",
        "outputId": "ea26cd49-245d-47fe-cf6f-0cae48dfa52e",
        "colab": {
          "base_uri": "https://localhost:8080/",
          "height": 34
        }
      },
      "source": [
        "x = pow(4, 3)\n",
        "\n",
        "print(x)"
      ],
      "execution_count": null,
      "outputs": [
        {
          "output_type": "stream",
          "text": [
            "64\n"
          ],
          "name": "stdout"
        }
      ]
    },
    {
      "cell_type": "markdown",
      "metadata": {
        "id": "0isiP_qDaPKM"
      },
      "source": [
        "The Math Module\n",
        "Python has also a built-in module called math, which extends the list of mathematical functions.\n",
        "\n",
        "To use it, you must import the math module:"
      ]
    },
    {
      "cell_type": "code",
      "metadata": {
        "id": "p6-ibXXSaMO-",
        "outputId": "ac774fdd-1d77-41cd-ac22-bdadb90d5038",
        "colab": {
          "base_uri": "https://localhost:8080/",
          "height": 34
        }
      },
      "source": [
        "import math\n",
        "\n",
        "x = math.sqrt(64)\n",
        "\n",
        "print(x)"
      ],
      "execution_count": null,
      "outputs": [
        {
          "output_type": "stream",
          "text": [
            "8.0\n"
          ],
          "name": "stdout"
        }
      ]
    },
    {
      "cell_type": "code",
      "metadata": {
        "id": "EGPIKURPaRFS",
        "outputId": "17096315-7ad6-488f-a337-04e5440760b4",
        "colab": {
          "base_uri": "https://localhost:8080/",
          "height": 51
        }
      },
      "source": [
        "import math\n",
        "\n",
        "x = math.ceil(1.4)\n",
        "y = math.floor(1.4)\n",
        "\n",
        "print(x) # returns 2\n",
        "print(y) # returns 1"
      ],
      "execution_count": null,
      "outputs": [
        {
          "output_type": "stream",
          "text": [
            "2\n",
            "1\n"
          ],
          "name": "stdout"
        }
      ]
    },
    {
      "cell_type": "code",
      "metadata": {
        "id": "yjEEunwFaTDc",
        "outputId": "9fbf5afd-8394-40ae-800e-2147d6e8d704",
        "colab": {
          "base_uri": "https://localhost:8080/",
          "height": 34
        }
      },
      "source": [
        "import math\n",
        "\n",
        "x = math.pi\n",
        "\n",
        "print(x)"
      ],
      "execution_count": null,
      "outputs": [
        {
          "output_type": "stream",
          "text": [
            "3.141592653589793\n"
          ],
          "name": "stdout"
        }
      ]
    },
    {
      "cell_type": "markdown",
      "metadata": {
        "id": "EoGXgBUHahGb"
      },
      "source": [
        "**Math Methods & Method  Description**\n",
        "1.\tmath.acos() Returns the arc cosine of a number\n",
        "2.\tmath.acosh()  Returns the inverse hyperbolic cosine of a number\n",
        "3.\tmath.asin() Returns the arc sine of a number\n",
        "4.\tmath.asinh()  Returns the inverse hyperbolic sine of a number\n",
        "5.\tmath.atan() Returns the arc tangent of a number in radians\n",
        "6.\tmath.atan2()  Returns the arc tangent of y/x in radians\n",
        "7.\tmath.atanh()  Returns the inverse hyperbolic tangent of a number\n",
        "8.\tmath.ceil() Rounds a number up to the nearest integer\n",
        "9.\tmath.comb() Returns the number of ways to choose k items from n items without repetition and order\n",
        "10.\tmath.copysign() Returns a float consisting of the value of the first parameter and the sign of the second parameter\n",
        "11.\tmath.cos()  Returns the cosine of a number\n",
        "12.\tmath.cosh(x)  Returns the hyperbolic cosine of x\n",
        "13.\tmath.degrees(x) Converts an angle from radians to degrees\n",
        "14.\tmath.dist(p, q) Calculates the euclidean distance between two specified points (p and q), where p and q are the coordinates of that point\n",
        "15.\tmath.erf(x) Returns the error function of x\n",
        "16.\tmath.erfc(x)  Returns the complementary error function of x\n",
        "17.\tmath.exp(x) Returns the value of Ex, where E is Euler's number (approximately 2.718281...), and x is the number passed to it\n",
        "18.\tmath.expm1(x) Returns the value of Ex - 1, where E is Euler's number (approximately 2.718281...), and x is the number passed to it\n",
        "19.\tmath.fabs(x)  Returns the absolute value of a number\n",
        "20.\tmath.factorial()  Returns the factorial of a number\n",
        "21.\tmath.floor(x) Rounds a number down to the nearest integer\n",
        "22.\tmath.fmod(x, y) Returns the remainder of x/y\n",
        "23.\tmath.frexp()  Returns the mantissa and the exponent, of a specified value\n",
        "24.\tmath.fsum(iterable) Returns the sum of all items in an iterable (tuples, arrays, lists, etc.)\n",
        "25.\tmath.gamma(x) Returns the gamma value of x\n",
        "26.\tmath.gcd()  Returns the highest value that can divide two integers\n",
        "27.\tmath.hypot()  Find the Euclidean distance from the origin for n inputs\n",
        "28.\tmath.isclose()  Checks whether two values are close, or not\n",
        "29.\tmath.isfinite(x)  Checks whether x is a finite number\n",
        "30.\tmath.isinf(x) Check whether x is a positive or negative infinty\n",
        "31.\tmath.isnan(x) Checks whether x is NaN (not a number)\n",
        "32.\tmath.isqrt(n) Returns the nearest integer square root of n\n",
        "33.\tmath.ldexp(x, i)  Returns the expression x * 2i where x is mantissa and i is an exponent\n",
        "34.\tmath.lgamma(x)  Returns the log gamma value of x\n",
        "35.\tmath.log(x, base) Returns the natural logarithm of a number, or the logarithm of number to base\n",
        "36.\tmath.log10(x) Returns the base-10 logarithm of x\n",
        "37.\tmath.log1p(x) Returns the natural logarithm of 1+x\n",
        "38.\tmath.log2(x)  Returns the base-2 logarithm of x\n",
        "39.\tmath.perm(n, k) Returns the number of ways to choose k items from n items with order and without repetition\n",
        "40.\tmath.pow(x, y)  Returns the value of x to the power of y\n",
        "41.\tmath.prod(iterable, *, start=1) Returns the product of an iterable (lists, array, tuples, etc.)\n",
        "42.\tmath.radians(x) Converts a degree value (x) to radians\n",
        "43.\tmath.remainder(x, y)  Returns the closest value that can make numerator completely divisible by the denominator\n",
        "44.\tmath.sin(x) Returns the sine of x\n",
        "45.\tmath.sinh(x)  Returns the hyperbolic sine of x\n",
        "46.\tmath.sqrt(x)  Returns the square root of x\n",
        "47.\tmath.tan(x) Returns the tangent of x\n",
        "48.\tmath.tanh(x)  Returns the hyperbolic tangent of x\n",
        "49.\tmath.trunc(x) Returns the truncated integer parts of x\n",
        "\n",
        "\n",
        "---\n",
        "\n",
        "\n",
        "\n",
        "---\n",
        "\n",
        "\n",
        "**Math Constants & Constant  Description**\n",
        "50.\tmath.e  Returns Euler's number (2.7182...)\n",
        "51.\tmath.inf  Returns a floating-point positive infinity\n",
        "52.\tmath.nan  Returns a floating-point NaN (Not a Number) value\n",
        "53.\tmath.pi Returns PI (3.1415...)\n",
        "54.\tmath.tau  Returns tau (6.2831...)\n",
        "\n"
      ]
    },
    {
      "cell_type": "markdown",
      "metadata": {
        "id": "bS_hC1NDZ9lP"
      },
      "source": [
        "#Python Classes and Objects"
      ]
    },
    {
      "cell_type": "markdown",
      "metadata": {
        "id": "bflSG_9KaEbG"
      },
      "source": [
        "**Python Classes/Objects**\n",
        "\n",
        "Python is an object oriented programming language.\n",
        "\n",
        "Almost everything in Python is an object, with its properties and methods.\n",
        "\n",
        "A Class is like an object constructor, or a \"blueprint\" for creating objects.\n",
        "\n",
        "*Create a Class*\n",
        "\n",
        "To create a class, use the keyword class:"
      ]
    },
    {
      "cell_type": "code",
      "metadata": {
        "id": "4Q2-o3yGak-Q"
      },
      "source": [
        "#Create a class named MyClass, with a property named x:\n",
        "class MyClass:\n",
        "  x = 5"
      ],
      "execution_count": null,
      "outputs": []
    },
    {
      "cell_type": "markdown",
      "metadata": {
        "id": "5tBQbkCWarZ_"
      },
      "source": [
        "**Create Object**\n",
        "\n",
        "Now we can use the class named MyClass to create objects:"
      ]
    },
    {
      "cell_type": "code",
      "metadata": {
        "id": "eFcHuKo2aVcE",
        "outputId": "f7d5c190-8f3d-4b5e-8a24-3b041d455d7a",
        "colab": {
          "base_uri": "https://localhost:8080/"
        }
      },
      "source": [
        "#Create an object named p1, and print the value of x:\n",
        "p1 = MyClass()\n",
        "print(p1.x)"
      ],
      "execution_count": null,
      "outputs": [
        {
          "output_type": "stream",
          "text": [
            "5\n"
          ],
          "name": "stdout"
        }
      ]
    },
    {
      "cell_type": "markdown",
      "metadata": {
        "id": "tzL1eZRZac4r"
      },
      "source": [
        "**The __init__() Function**\n",
        "\n",
        "1. The examples above are classes and objects in their simplest form, and are not really useful in real life applications.\n",
        "\n",
        "2. To understand the meaning of classes we have to understand the built-in __init__() function.\n",
        "\n",
        "3. All classes have a function called __init__(), which is always executed when the class is being initiated.\n",
        "\n",
        "4. Use the __init__() function to assign values to object properties, or other operations that are necessary to do when the object is being created:"
      ]
    },
    {
      "cell_type": "code",
      "metadata": {
        "id": "7HsCHM7ta2GJ",
        "outputId": "e53b50c4-7b48-4ff8-a727-8391598feca8",
        "colab": {
          "base_uri": "https://localhost:8080/"
        }
      },
      "source": [
        "#Create a class named Person, use the __init__() function to assign values for name and age:\n",
        "class Person:\n",
        "  def __init__(self, name, age):\n",
        "    self.name = name\n",
        "    self.age = age\n",
        "\n",
        "p1 = Person(\"John\", 36)\n",
        "\n",
        "print(p1.name)\n",
        "print(p1.age)"
      ],
      "execution_count": null,
      "outputs": [
        {
          "output_type": "stream",
          "text": [
            "John\n",
            "36\n"
          ],
          "name": "stdout"
        }
      ]
    },
    {
      "cell_type": "markdown",
      "metadata": {
        "id": "yTOt3tO1bLC1"
      },
      "source": [
        "Note: The __init__() function is called automatically every time the class is being used to create a new object."
      ]
    },
    {
      "cell_type": "markdown",
      "metadata": {
        "id": "dA3XiK0MbUwM"
      },
      "source": [
        "**Object Methods**\n",
        "\n",
        "Objects can also contain methods. Methods in objects are functions that belong to the object.\n",
        "\n",
        "Let us create a method in the Person class:"
      ]
    },
    {
      "cell_type": "code",
      "metadata": {
        "id": "4jVBbraQbMtM",
        "outputId": "44833e18-2f1b-4e8a-f333-5addfc75a640",
        "colab": {
          "base_uri": "https://localhost:8080/"
        }
      },
      "source": [
        "#Insert a function that prints a greeting, and execute it on the p1 object:\n",
        "class Person:\n",
        "  def __init__(self, name, age):\n",
        "    self.name = name\n",
        "    self.age = age\n",
        "\n",
        "  def myfunc(self):\n",
        "    print(\"Hello my name is \" + self.name)\n",
        "\n",
        "p1 = Person(\"John\", 36)\n",
        "p1.myfunc()"
      ],
      "execution_count": null,
      "outputs": [
        {
          "output_type": "stream",
          "text": [
            "Hello my name is John\n"
          ],
          "name": "stdout"
        }
      ]
    },
    {
      "cell_type": "markdown",
      "metadata": {
        "id": "UPSb7eIXbiEq"
      },
      "source": [
        "Note: The self parameter is a reference to the current instance of the class, and is used to access variables that belong to the class."
      ]
    },
    {
      "cell_type": "markdown",
      "metadata": {
        "id": "YeBW84GzcWoC"
      },
      "source": [
        "**The self Parameter**\n",
        "\n",
        "The self parameter is a reference to the current instance of the class, and is used to access variables that belongs to the class.\n",
        "\n",
        "It does not have to be named self , you can call it whatever you like, but it has to be the first parameter of any function in the class:"
      ]
    },
    {
      "cell_type": "markdown",
      "metadata": {
        "id": "xHwqA0dZcg7X"
      },
      "source": [
        "Example\n",
        "\n",
        "Use the words mysillyobject and abc instead of self:"
      ]
    },
    {
      "cell_type": "code",
      "metadata": {
        "id": "EXZd5DSrbc9S",
        "outputId": "9dbf1292-9c96-4aa8-d1af-7a43c18af606",
        "colab": {
          "base_uri": "https://localhost:8080/"
        }
      },
      "source": [
        "class Person:\n",
        "  def __init__(mysillyobject, name, age):\n",
        "    mysillyobject.name = name\n",
        "    mysillyobject.age = age\n",
        "\n",
        "  def myfunc(abc):\n",
        "    print(\"Hello my name is \" + abc.name)\n",
        "\n",
        "p1 = Person(\"John\", 36)\n",
        "p1.myfunc()"
      ],
      "execution_count": null,
      "outputs": [
        {
          "output_type": "stream",
          "text": [
            "Hello my name is John\n"
          ],
          "name": "stdout"
        }
      ]
    },
    {
      "cell_type": "markdown",
      "metadata": {
        "id": "uLLLKVABcpN0"
      },
      "source": [
        "Modify Object Properties\n",
        "\n",
        "You can modify properties on objects like this:"
      ]
    },
    {
      "cell_type": "code",
      "metadata": {
        "id": "FlTWduRFcliZ"
      },
      "source": [
        "#Set the age of p1 to 40:\n",
        "p1.age = 40"
      ],
      "execution_count": null,
      "outputs": []
    },
    {
      "cell_type": "markdown",
      "metadata": {
        "id": "VhBUcyvucybx"
      },
      "source": [
        "**Delete Object Properties**\n",
        "\n",
        "You can delete properties on objects by using the del keyword:"
      ]
    },
    {
      "cell_type": "code",
      "metadata": {
        "id": "wYzLMTgRcztn"
      },
      "source": [
        "del p1.age"
      ],
      "execution_count": null,
      "outputs": []
    },
    {
      "cell_type": "markdown",
      "metadata": {
        "id": "P6ktzV_xc5pF"
      },
      "source": [
        "Delete Objects\n",
        "\n",
        "You can delete objects by using the del keyword:"
      ]
    },
    {
      "cell_type": "code",
      "metadata": {
        "id": "KlrzYpF2c66k"
      },
      "source": [
        "del p1"
      ],
      "execution_count": null,
      "outputs": []
    },
    {
      "cell_type": "markdown",
      "metadata": {
        "id": "YUTdFtqXc_l7"
      },
      "source": [
        "**The pass Statement**\n",
        "\n",
        "class definitions cannot be empty, but if you for some reason have a class definition with no content, put in the pass statement to avoid getting an error."
      ]
    },
    {
      "cell_type": "code",
      "metadata": {
        "id": "rHVb6f06c823"
      },
      "source": [
        "class Person:\n",
        "  pass"
      ],
      "execution_count": null,
      "outputs": []
    },
    {
      "cell_type": "markdown",
      "metadata": {
        "id": "vpA6dDiQRS8A"
      },
      "source": [
        "##Questions"
      ]
    },
    {
      "cell_type": "markdown",
      "metadata": {
        "id": "GYLcvebZUedW"
      },
      "source": [
        "Create a Cricle class and intialize it with radius. Make two methods getArea and getCircumference inside this class."
      ]
    },
    {
      "cell_type": "code",
      "metadata": {
        "id": "N3vebnajUsbO"
      },
      "source": [
        "class Circle():\n",
        "  def __init__(self,radius):\n",
        "    self.radius = radius\n",
        "  def  getArea(self):\n",
        "    return 3.14*self.radius*self.radius\n",
        "  def getCircumference(self):\n",
        "    return self.radius*2*3.14"
      ],
      "execution_count": null,
      "outputs": []
    },
    {
      "cell_type": "code",
      "metadata": {
        "id": "LNb6wH5yUuWH",
        "outputId": "f86981b1-3387-4fc9-cdc8-f363c2efbd50",
        "colab": {
          "base_uri": "https://localhost:8080/",
          "height": 34
        }
      },
      "source": [
        "c1 = Circle(10)\n",
        "c1.getArea()"
      ],
      "execution_count": null,
      "outputs": [
        {
          "output_type": "execute_result",
          "data": {
            "text/plain": [
              "314.0"
            ]
          },
          "metadata": {
            "tags": []
          },
          "execution_count": 54
        }
      ]
    },
    {
      "cell_type": "markdown",
      "metadata": {
        "id": "dd_ZLibTRUlP"
      },
      "source": [
        "Create a Student class and initialize it with name and roll number. Make methods to :\n",
        "1. Display - It should display all informations of the student.\n",
        "2. setAge - It should assign age to student\n",
        "3. setMarks - It should assign marks to the student.\n"
      ]
    },
    {
      "cell_type": "code",
      "metadata": {
        "id": "xN51M50PRXw3"
      },
      "source": [
        "class Student():\n",
        "  def __init__(self,name,roll):\n",
        "    self.name = name\n",
        "    self.roll= roll\n",
        "\n",
        "  def display(self):\n",
        "    print(self.name)\n",
        "    print(self.roll)\n",
        "    \n",
        "  def setAge(self,age):\n",
        "    self.age=age\n",
        "\n",
        "  def setMarks(self,marks):\n",
        "    self.marks = marks\n",
        "  \n",
        "  def allData(self):\n",
        "    print(self.roll)\n",
        "    print(self.age)"
      ],
      "execution_count": null,
      "outputs": []
    },
    {
      "cell_type": "code",
      "metadata": {
        "id": "9toD0VcURrMB",
        "outputId": "b4c87c76-9bf5-46b2-e9b7-2322404dace8",
        "colab": {
          "base_uri": "https://localhost:8080/",
          "height": 85
        }
      },
      "source": [
        "s1 = Student(\"Gaurav\", \"13\")\n",
        "s1.display()\n",
        "\n",
        "s1.setAge(20)\n",
        "s1.allData()\n"
      ],
      "execution_count": null,
      "outputs": [
        {
          "output_type": "stream",
          "text": [
            "Gaurav\n",
            "13\n",
            "13\n",
            "20\n"
          ],
          "name": "stdout"
        }
      ]
    },
    {
      "cell_type": "markdown",
      "metadata": {
        "id": "y7xzO7wUTg1S"
      },
      "source": [
        "Create a Time class and initialize it with hours and minutes.\n",
        "1. Make a method addTime which should take two time object and add them. E.g.- (2 hour and 50 min)+(1 hr and 20 min) is (4 hr and 10 min)\n",
        "2. Make a method displayTime which should print the time.\n",
        "3. Make a method DisplayMinute which should display the total minutes in the Time. E.g.- (1 hr 2 min) should display 62 minute."
      ]
    },
    {
      "cell_type": "code",
      "metadata": {
        "id": "SZ_pL7NXTvGO",
        "outputId": "8c36d704-46ed-487d-fcba-1bc77f16401f",
        "colab": {
          "base_uri": "https://localhost:8080/",
          "height": 51
        }
      },
      "source": [
        "class Time():\n",
        "\n",
        "  def __init__(self, hours, mins):\n",
        "    self.hours = hours\n",
        "    self.mins = mins\n",
        "\n",
        "  def addTime(t1, t2):\n",
        "    t3 = Time(0,0)\n",
        "    if t1.mins+t2.mins > 60:\n",
        "      t3.hours = (t1.mins+t2.mins)//60\n",
        "    t3.hours = t3.hours+t1.hours+t2.hours\n",
        "    t3.mins = round((((t1.mins+t2.mins)/60) -  (t1.mins+t2.mins)//60 ) * 60,0)\n",
        "    return t3\n",
        "\n",
        "  def displayTime(self):\n",
        "    print(\"Time is\",self.hours,\"hours and\",self.mins,\"minutes.\")\n",
        "\n",
        "  def displayMinute(self):\n",
        "    print((self.hours*60)+self.mins)\n",
        "\n",
        "a = Time(2,50)\n",
        "b = Time(1,20)\n",
        "c = Time.addTime(a,b)\n",
        "c.displayTime()\n",
        "c.displayMinute()"
      ],
      "execution_count": null,
      "outputs": [
        {
          "output_type": "stream",
          "text": [
            "Time is 4 hours and 10.0 minutes.\n",
            "250.0\n"
          ],
          "name": "stdout"
        }
      ]
    },
    {
      "cell_type": "markdown",
      "metadata": {
        "id": "RVf_cR1PdTFk"
      },
      "source": [
        "#Python Inheritance"
      ]
    },
    {
      "cell_type": "markdown",
      "metadata": {
        "id": "2_5MiOxSd0Vb"
      },
      "source": [
        "**Python Inheritance**\n",
        "\n",
        "Inheritance allows us to define a class that inherits all the methods and properties from another class.\n",
        "\n",
        "Parent class is the class being inherited from, also called base class.\n",
        "\n",
        "Child class is the class that inherits from another class, also called derived class."
      ]
    },
    {
      "cell_type": "markdown",
      "metadata": {
        "id": "PJRwcgqUd6ZA"
      },
      "source": [
        "*Create a Parent Class*\n",
        "\n",
        "Any class can be a parent class, so the syntax is the same as creating any other class:"
      ]
    },
    {
      "cell_type": "code",
      "metadata": {
        "id": "5GqGFb7-dT-C",
        "outputId": "1959c89d-a7c3-4ad1-fe76-f5bd235ed897",
        "colab": {
          "base_uri": "https://localhost:8080/"
        }
      },
      "source": [
        "#Create a class named Person, with firstname and lastname properties, and a printname method:\n",
        "class Person:\n",
        "  def __init__(self, fname, lname):\n",
        "    self.firstname = fname\n",
        "    self.lastname = lname\n",
        "\n",
        "  def printname(self):\n",
        "    print(self.firstname, self.lastname)\n",
        "\n",
        "#Use the Person class to create an object, and then execute the printname method:\n",
        "\n",
        "x = Person(\"John\", \"Doe\")\n",
        "x.printname()\n"
      ],
      "execution_count": null,
      "outputs": [
        {
          "output_type": "stream",
          "text": [
            "John Doe\n"
          ],
          "name": "stdout"
        }
      ]
    },
    {
      "cell_type": "markdown",
      "metadata": {
        "id": "m_T8Cgi3eMH_"
      },
      "source": [
        "*Create a Child Class*\n",
        "\n",
        "To create a class that inherits the functionality from another class, send the parent class as a parameter when creating the child class:"
      ]
    },
    {
      "cell_type": "code",
      "metadata": {
        "id": "WIS2jKDyeIOV"
      },
      "source": [
        "#Create a class named Student, which will inherit the properties and methods from the Person class:\n",
        "class Student(Person):\n",
        "  pass"
      ],
      "execution_count": null,
      "outputs": []
    },
    {
      "cell_type": "markdown",
      "metadata": {
        "id": "udGnQXQQeZd5"
      },
      "source": [
        "Note: Use the pass keyword when you do not want to add any other properties or methods to the class."
      ]
    },
    {
      "cell_type": "markdown",
      "metadata": {
        "id": "Gf30Wv7kecdh"
      },
      "source": [
        "Now the Student class has the same properties and methods as the Person class."
      ]
    },
    {
      "cell_type": "code",
      "metadata": {
        "id": "pR2HzXT8eTjx",
        "outputId": "027472e7-dd4a-4bbd-bf2e-55779bb59567",
        "colab": {
          "base_uri": "https://localhost:8080/"
        }
      },
      "source": [
        "#Use the Student class to create an object, and then execute the printname method:\n",
        "x = Student(\"Mike\", \"Olsen\")\n",
        "x.printname()"
      ],
      "execution_count": null,
      "outputs": [
        {
          "output_type": "stream",
          "text": [
            "Mike Olsen\n"
          ],
          "name": "stdout"
        }
      ]
    },
    {
      "cell_type": "markdown",
      "metadata": {
        "id": "LsqZrO3Tempn"
      },
      "source": [
        "**Add the __init__() Function**\n",
        "\n",
        "So far we have created a child class that inherits the properties and methods from its parent.\n",
        "\n",
        "We want to add the __init__() function to the child class (instead of the pass keyword)."
      ]
    },
    {
      "cell_type": "markdown",
      "metadata": {
        "id": "y2QCgXQueuJ4"
      },
      "source": [
        "Note: The __init__() function is called automatically every time the class is being used to create a new object."
      ]
    },
    {
      "cell_type": "code",
      "metadata": {
        "id": "HAxBKmA4eh-9"
      },
      "source": [
        "#Add the __init__() function to the Student class:\n",
        "class Student(Person):\n",
        "  def __init__(self, fname, lname):\n",
        "    #add properties etc\n"
      ],
      "execution_count": null,
      "outputs": []
    },
    {
      "cell_type": "markdown",
      "metadata": {
        "id": "4WflfIuee_z1"
      },
      "source": [
        "When you add the __init__() function, the child class will no longer inherit the parent's __init__() function."
      ]
    },
    {
      "cell_type": "markdown",
      "metadata": {
        "id": "KRYBzIqffDqA"
      },
      "source": [
        "Note: The child's __init__() function overrides the inheritance of the parent's __init__() function."
      ]
    },
    {
      "cell_type": "markdown",
      "metadata": {
        "id": "rGwjDLRxfHDD"
      },
      "source": [
        "To keep the inheritance of the parent's __init__() function, add a call to the parent's __init__() function:"
      ]
    },
    {
      "cell_type": "code",
      "metadata": {
        "id": "pVN1BcX4fAaX"
      },
      "source": [
        "class Student(Person):\n",
        "  def __init__(self, fname, lname):\n",
        "    Person.__init__(self, fname, lname)"
      ],
      "execution_count": null,
      "outputs": []
    },
    {
      "cell_type": "markdown",
      "metadata": {
        "id": "yS8zs8GOfRXD"
      },
      "source": [
        "Now we have successfully added the __init__() function, and kept the inheritance of the parent class, and we are ready to add functionality in the __init__() function."
      ]
    },
    {
      "cell_type": "markdown",
      "metadata": {
        "id": "1F3Batg5faYS"
      },
      "source": [
        "**Use the super() Function**\n",
        "\n",
        "Python also has a super() function that will make the child class inherit all the methods and properties from its parent:"
      ]
    },
    {
      "cell_type": "code",
      "metadata": {
        "id": "UzptOXy7fLo4"
      },
      "source": [
        "class Student(Person):\n",
        "  def __init__(self, fname, lname):\n",
        "    super().__init__(fname, lname)"
      ],
      "execution_count": null,
      "outputs": []
    },
    {
      "cell_type": "markdown",
      "metadata": {
        "id": "QL6LPHOnfj6P"
      },
      "source": [
        "By using the super() function, you do not have to use the name of the parent element, it will automatically inherit the methods and properties from its parent."
      ]
    },
    {
      "cell_type": "markdown",
      "metadata": {
        "id": "Er_JMXr6fpGl"
      },
      "source": [
        "Add Properties"
      ]
    },
    {
      "cell_type": "code",
      "metadata": {
        "id": "LxZ4fF7afkO6"
      },
      "source": [
        "#Add a property called graduationyear to the Student class:\n",
        "class Student(Person):\n",
        "  def __init__(self, fname, lname):\n",
        "    super().__init__(fname, lname)\n",
        "    self.graduationyear = 2019"
      ],
      "execution_count": null,
      "outputs": []
    },
    {
      "cell_type": "markdown",
      "metadata": {
        "id": "NZFRYXM7f-CQ"
      },
      "source": [
        "In the example below, the year 2019 should be a variable, and passed into the Student class when creating student objects. To do so, add another parameter in the __init__() function:"
      ]
    },
    {
      "cell_type": "code",
      "metadata": {
        "id": "sKm7vViEf9XN"
      },
      "source": [
        "#Add a year parameter, and pass the correct year when creating objects:\n",
        "class Student(Person):\n",
        "  def __init__(self, fname, lname, year):\n",
        "    super().__init__(fname, lname)\n",
        "    self.graduationyear = year\n",
        "\n",
        "x = Student(\"Mike\", \"Olsen\", 2019)"
      ],
      "execution_count": null,
      "outputs": []
    },
    {
      "cell_type": "markdown",
      "metadata": {
        "id": "cS7JrRuagSAP"
      },
      "source": [
        "Add Methods\n"
      ]
    },
    {
      "cell_type": "code",
      "metadata": {
        "id": "dIbxR9ZsgWtX",
        "outputId": "63dc1406-aff2-4ce8-a84f-488e309d6251",
        "colab": {
          "base_uri": "https://localhost:8080/"
        }
      },
      "source": [
        "#Add a method called welcome to the Student class:\n",
        "class Student(Person):\n",
        "  def __init__(self, fname, lname, year):\n",
        "    super().__init__(fname, lname)\n",
        "    self.graduationyear = year\n",
        "\n",
        "  def welcome(self):\n",
        "    print(\"Welcome\", self.firstname, self.lastname, \"to the class of\", self.graduationyear)\n",
        "\n",
        "x = Student(\"Mike\", \"Olsen\", 2019)\n",
        "x.welcome()"
      ],
      "execution_count": null,
      "outputs": [
        {
          "output_type": "stream",
          "text": [
            "Welcome Mike Olsen to the class of 2019\n"
          ],
          "name": "stdout"
        }
      ]
    },
    {
      "cell_type": "markdown",
      "metadata": {
        "id": "7U_TPSEHgeQQ"
      },
      "source": [
        "If you add a method in the child class with the same name as a function in the parent class, the inheritance of the parent method will be overridden."
      ]
    },
    {
      "cell_type": "markdown",
      "metadata": {
        "id": "wGHwNRA_hV4N"
      },
      "source": [
        "#The Main Function"
      ]
    },
    {
      "cell_type": "markdown",
      "metadata": {
        "id": "LnjDFWtvDXYf"
      },
      "source": [
        "Many programming languages have a special function that is automatically executed when an operating system starts to run a program. This function is usually called main() and must have a specific return type and arguments according to the language standard. On the other hand, the Python interpreter executes scripts starting at the top of the file, and there is no specific function that Python automatically executes.\n",
        "\n",
        "Nevertheless, having a defined starting point for the execution of a program is useful for understanding how a program works. Python programmers have come up with several conventions to define this starting point."
      ]
    },
    {
      "cell_type": "markdown",
      "metadata": {
        "id": "Z5x4Pr3_E9na"
      },
      "source": [
        "A Basic Python main()\n",
        "\n",
        "In some Python scripts, you may see a function definition and a conditional statement that looks like the example below:"
      ]
    },
    {
      "cell_type": "code",
      "metadata": {
        "id": "7ow6HJyNE43M",
        "outputId": "e9fda2e6-2128-4162-9670-6e2f9eabde41",
        "colab": {
          "base_uri": "https://localhost:8080/"
        }
      },
      "source": [
        "def main():\n",
        "    print(\"Hello World!\")\n",
        "\n",
        "if __name__ == \"__main__\":\n",
        "    main()"
      ],
      "execution_count": null,
      "outputs": [
        {
          "output_type": "stream",
          "text": [
            "Hello World!\n"
          ],
          "name": "stdout"
        }
      ]
    },
    {
      "cell_type": "code",
      "metadata": {
        "id": "S2na3rG3haJS",
        "outputId": "c3f07c14-0001-4833-fedb-529f32f4f8e4",
        "colab": {
          "base_uri": "https://localhost:8080/"
        }
      },
      "source": [
        "print(\"This is my file to test Python's execution methods.\")\n",
        "print(\"The variable __name__ tells me which context this file is running in.\")\n",
        "print(\"The value of __name__ is:\", repr(__name__))"
      ],
      "execution_count": null,
      "outputs": [
        {
          "output_type": "stream",
          "text": [
            "This is my file to test Python's execution methods.\n",
            "The variable __name__ tells me which context this file is running in.\n",
            "The value of __name__ is: '__main__'\n"
          ],
          "name": "stdout"
        }
      ]
    },
    {
      "cell_type": "markdown",
      "metadata": {
        "id": "QVlLM_l9FaO_"
      },
      "source": [
        "Technical detail: The Python documentation defines specifically when __name__ will have the value '__main__':\n",
        "\n",
        "A module’s __name__ is set equal to '__main__' when read from standard input, a script, or from an interactive prompt."
      ]
    },
    {
      "cell_type": "markdown",
      "metadata": {
        "id": "XhlytHkcGOr3"
      },
      "source": [
        "**Best Practices for Python Main Functions**\n",
        "\n",
        "1.Now that you can see the differences in how Python handles its different execution modes, it’s useful for you to know some best practices to use. These will apply whenever you want to write code that you can run as a script and import in another module or an interactive session.\n",
        "\n",
        "2.You will learn about four best practices to make sure that your code can serve a dual purpose:\n",
        "\n",
        "Put most code into a function or class.\n",
        "Use __name__ to control execution of your code.\n",
        "Create a function called main() to contain the code you want to run.\n",
        "Call other functions from main()."
      ]
    },
    {
      "cell_type": "code",
      "metadata": {
        "id": "h97BHrmpEyvO",
        "outputId": "724991e7-a87d-45c6-8c1e-547783fb5d6a",
        "colab": {
          "base_uri": "https://localhost:8080/",
          "height": 102
        }
      },
      "source": [
        "from time import sleep\n",
        "\n",
        "print(\"This is my file to demonstrate best practices.\")\n",
        "\n",
        "def process_data(data):\n",
        "    print(\"Beginning data processing...\")\n",
        "    modified_data = data + \" that has been modified\"\n",
        "    sleep(3)\n",
        "    print(\"Data processing finished.\")\n",
        "    return modified_data\n",
        "\n",
        "def main():\n",
        "    data = \"My data read from the Web\"\n",
        "    print(data)\n",
        "    modified_data = process_data(data)\n",
        "    print(modified_data)\n",
        "\n",
        "if __name__ == \"__main__\":\n",
        "    main()"
      ],
      "execution_count": null,
      "outputs": [
        {
          "output_type": "stream",
          "text": [
            "This is my file to demonstrate best practices.\n",
            "My data read from the Web\n",
            "Beginning data processing...\n",
            "Data processing finished.\n",
            "My data read from the Web that has been modified\n"
          ],
          "name": "stdout"
        }
      ]
    },
    {
      "cell_type": "code",
      "metadata": {
        "id": "PO4_3NAyReNK",
        "outputId": "29aa00d5-d3ca-433d-9641-bae215207448",
        "colab": {
          "base_uri": "https://localhost:8080/"
        }
      },
      "source": [
        "from time import sleep\n",
        "\n",
        "print(\"This is my file to demonstrate best practices.\")\n",
        "\n",
        "def process_data(data):\n",
        "    print(\"Beginning data processing...\")\n",
        "    modified_data = data + \" that has been modified\"\n",
        "    sleep(3)\n",
        "    print(\"Data processing finished.\")\n",
        "    return modified_data\n",
        "\n",
        "def read_data_from_web():\n",
        "    print(\"Reading data from the Web\")\n",
        "    data = \"Data from the web\"\n",
        "    return data\n",
        "\n",
        "def write_data_to_database(data):\n",
        "    print(\"Writing data to a database\")\n",
        "    print(data)\n",
        "\n",
        "def main():\n",
        "    data = read_data_from_web()\n",
        "    modified_data = process_data(data)\n",
        "    write_data_to_database(modified_data)\n",
        "\n",
        "if __name__ == \"__main__\":\n",
        "    main()"
      ],
      "execution_count": null,
      "outputs": [
        {
          "output_type": "stream",
          "text": [
            "This is my file to demonstrate best practices.\n",
            "Reading data from the Web\n",
            "Beginning data processing...\n",
            "Data processing finished.\n",
            "Writing data to a database\n",
            "Data from the web that has been modified\n"
          ],
          "name": "stdout"
        }
      ]
    },
    {
      "cell_type": "markdown",
      "metadata": {
        "id": "rIjOQOTNR8UR"
      },
      "source": [
        "![image.png](data:image/png;base64,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)"
      ]
    },
    {
      "cell_type": "markdown",
      "metadata": {
        "id": "Ed_0rq-YD9bB"
      },
      "source": [
        "#RegEx Module"
      ]
    },
    {
      "cell_type": "markdown",
      "metadata": {
        "id": "mh5oxfsCEp40"
      },
      "source": [
        "A RegEx, or Regular Expression, is a sequence of characters that forms a search pattern.\n",
        "\n",
        "RegEx can be used to check if a string contains the specified search pattern."
      ]
    },
    {
      "cell_type": "markdown",
      "metadata": {
        "id": "BqTi_IQbE_Wu"
      },
      "source": [
        "\n",
        "\n",
        "Python has a built-in package called re, which can be used to work with Regular Expressions.\n",
        "\n",
        "Import the re module:"
      ]
    },
    {
      "cell_type": "code",
      "metadata": {
        "id": "MPQqvdwiRfCT"
      },
      "source": [
        "import re"
      ],
      "execution_count": null,
      "outputs": []
    },
    {
      "cell_type": "markdown",
      "metadata": {
        "id": "Hgi2ys5rFq_F"
      },
      "source": [
        "RegEx in Python\n",
        "\n",
        "When you have imported the re module, you can start using regular expressions:"
      ]
    },
    {
      "cell_type": "markdown",
      "metadata": {
        "id": "OnjPVXwuGLFW"
      },
      "source": [
        "Search the string to see if it starts with \"The\" and ends with \"Spain\":"
      ]
    },
    {
      "cell_type": "code",
      "metadata": {
        "id": "CyirRYtEFvjr",
        "outputId": "b74b3fd3-59a8-4c99-e62c-f0692da622a6",
        "colab": {
          "base_uri": "https://localhost:8080/",
          "height": 34
        }
      },
      "source": [
        "import re\n",
        "\n",
        "txt = \"The rain in Spain\"\n",
        "x = re.search(\"^The.*Spain$\", txt)\n",
        "x"
      ],
      "execution_count": null,
      "outputs": [
        {
          "output_type": "execute_result",
          "data": {
            "text/plain": [
              "<_sre.SRE_Match object; span=(0, 17), match='The rain in Spain'>"
            ]
          },
          "metadata": {
            "tags": []
          },
          "execution_count": 16
        }
      ]
    },
    {
      "cell_type": "markdown",
      "metadata": {
        "id": "uGr5ujL6JE2v"
      },
      "source": [
        "![image.png](data:image/png;base64,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)"
      ]
    },
    {
      "cell_type": "code",
      "metadata": {
        "id": "E6hRQT1IJF74"
      },
      "source": [
        ""
      ],
      "execution_count": null,
      "outputs": []
    },
    {
      "cell_type": "markdown",
      "metadata": {
        "id": "RoIyr0JvJS5K"
      },
      "source": [
        "![image.png](data:image/png;base64,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)"
      ]
    },
    {
      "cell_type": "markdown",
      "metadata": {
        "id": "FlZXaAcuJ80w"
      },
      "source": [
        "![image.png](data:image/png;base64,iVBORw0KGgoAAAANSUhEUgAAAuUAAABbCAYAAADUZfvSAAAgAElEQVR4Ae2d68ttVdnG9z/Ql771KQgiIkIkIinCwtAg6YSpEWW9RUZWpmWn14oMMjuYVESKBJFRYYmFJllZkRgdREsps5O51dQ8drCiw3z5TbrWe+17jznnOjzP3mut55qw95hzjHGffvdY67nnXHPNta/LFgIhEAIhEAIhEAIhEAIhcFgJ7Dus1mM8BEIgBEIgBEIgBEIgBEKgS1GeRRACIRACIRACIRACIRACh5lAivLDnICYD4EQCIEQCIEQCIEQCIEU5VkDIRACIRACIRACIRACIXCYCaQoP8wJiPkQCIEQCIEQCIEQCIEQSFGeNRACIRACIRACIRACIRACh5lAivLDnICYD4EQCIEQCIEQCIEQCIEU5WUN/OY3v+mOP/747phjjul+9atfldHlD88555xu3759HW22EAiBEAiBEAiBEAiBEHACcxflDz/8cPeFL3yhO/HEE7vHPvaxfYFJkcm/I488sjvttNM65mz6dskll8xiY3+ntp0oyh955JHuG9/4RvfKV76ye8ITnjDzkxxw/LKXvay7/fbbd8rl6AmBEAiBEAiBEAiBEDhEBCaL8v/85z/dVVdddVARqIJc7XHHHdfdd999h8jt3TPD1XGukq/blfLrr7++e8YznnFAIS72ao844ojulltu2T040RwCIRACIRACIRACIbArBCaL8u9+97uzK+Pc1kGBfvfdd/cFOEX4z3/+8+6yyy7r3va2t3UPPPDArji5DUpXuVIO46c97Wl9Qf7Upz61u/TSS7v9+/fPcvDb3/62u+KKK7p3vvOdO3rLzTZwTwwhEAIhEAIhEAIhsAkERotyiuwXvehFfTH4+te/vvvLX/6yCTGtpY/LFuV///vfuze96U19Dl7wghf0J0RrGWCcCoEQCIEQCIEQCIEQWJrAaFH+k5/8pHvMYx7TPf7xj+9++tOfLm0kgl3/BU9uM1n0i5633XZb9/SnP70vyq+++uqgDIEQCIEQCIEQCIEQ2EICo0X5tdde2xeDuVd59cwve6Wce8ThT0FPPrKFQAiEQAiEQAiEQAhsH4HRolxXyikIv/71ry8cfS1EuQf9E5/4xOz+6Ec/+tHdy1/+8o771v/973+P6ufWmc9//vPdc5/73O5Rj3pUX6QeffTR3ac+9anJ22rQzRcluQ2EJ8Xoi5HIn3feeQfcEqIieOhEBF033XRTd/bZZ3dHHXXUAbrGfKksRoO1Qb9Sjn6+eLvMht/XXXdd9+pXv3r2HQGe2HLmmWd2v/vd70ZVIkuOTjnllJksHM8999zu3nvv7b9cCq8Ws3ni5qkyp556as9y6Ik3xM299firJ8/wFCDiufHGG5tcai6J45prrule+MIX9muIdcQ+fYyNbf/85z+773znOwc8+QZ51uNFF13U/elPfzpIfFnm3LLEdzf8SUfEyvE3v/nN7l//+tdBttIRAiEQAiEQAiGw2QRGi3LuKX/JS17SF0t80ZAifZHNCzIKpKGnh1DcfOhDH+oofFrbrbfe2h177LGzAlhFtVrGmNPa7r///o774TW31foV6FrIuc4///nP3ete97pRXSeddFJfqLoc+86ijo0dU6C95S1v6W1SmHFytGhhzgnNu971rkG/0fuVr3ylqZdi841vfOOgLOyvvPLKviDfraKcdcHJnE7Gag7pZ7yuH88la3eMwQc/+MGD5JUXToz03Ypqm+NW3Msy5ySHE9WWHfo4eeEkJlsIhEAIhEAIhMB2ERgtygmVglVXJrmyff75509emRYiFaI8V5svKb7iFa/oi2ddlbznnnu697znPbOrljwHvW486QVZCpLXvva1/VVdilL+8UM/L33pS/sxTh7q018ojFSQE8PnPve5me/I/+EPf+g+8pGPdD/60Y9mZr2QY983rvTz6EeeQvO9731vVhxRDH7ta1+bXUW++OKLXazfFwvaRTce06gTGgrQt7/97c3Cv6UX3yg44YcOrvaqeOW58h/+8Id7/hTmP/7xjw9Q4ScEFJ7EqIIQHehCJ1fN+e5BqzidJ+6xK+XkiU9IiJsccvIgH2jJKb4zfvnllx/gv3L55Cc/uT+ZqvHfdddds/XRih9lvv548g3Pif/HP/7R22Edswbf//73H/DUm2WZcwX83e9+d5+r5z3vef1rhfjZsPn973+/+9jHPjaLvx/IfyEQAiEQAiEQAltBYLIoJ8r6jGyKo09+8pOzAneIhAoyCsKhp7d4AfOc5zyno1DS5kXKkDyFNQUMRdm3vvUtifZF+wUXXNAXOFzl59aHeTYVcq0Ck6L/i1/8YkexWjd8/cAHPtDb40pnvZ1BLJYpyrFVr9ZygkQxyJXVsQ0msBliAH/0kCMKQr81QrJPfOIT+zXQsuOPa2wxmyfusaL85ptv7rBP0cwtNHWjaKUwx39O/jgR06ZcMjYUPyeGz3/+83t58uebn5Qs8uQbcRuyOcScXPIa4ATnhz/8obuS/RAIgRAIgRAIgS0nMFdRDgOKHa6SUwxS5PCPK5BcudSV78pKBRlFFcXV0MZztilgKB79VhL1t4o91/XpT3+694fndKuopLinwGldQXXZuq9CbspmleOYq+dwaf2QklgsW5SjnyKRq8b65AJbFKvca946UaBPj1MculcbvTxZhyfsPOtZz+ruvPPOPjSX/ehHP9q8taWf2HUdnwzgS4vZPHEPFeUU3NhGNwWzciu7avEZ3+tTgpRL5MdiYF0zp94a4icE9VME2a6tc1uUub4/kKK8Us1xCIRACIRACGw/gbmLcqHgah5XVr04f8c73nHQlWHmqyB7zWte0/31r3+VioNaL8o++9nPzsa/+tWvNoul2YT/7qgYdjvq44t4f/zjH6vI4LEKuVaBOSj03wEVty1ZsVilKJd9TpD4pMKLc67O86mBbyryWv74PF2h5STrF7/4RT+kQpcCceq7BPpCcMvOPHF7/r2Qfeihh7oTTjjhoJM195191ha5p7Am79qUS07MfvCDH6j7oFbrrJ5MsRZbxfpBCqxjFebklav92Gzl08xkNwRCIARCIARCYMsILFyUK/7f//73/T3eFBD8a91eMk9BJn2tuboCLhtTrRdVKqjw629/+5vMTLYq5FoFpoS5/YAnlvDccK6yYuPZz3727ESlJduKT/qWbbnHXffkw6beYqGThCluPq5PKijOKdKf8pSnHHC/dMvXMWbzxD1UlOvEwP2b2veifswvj4OY0evrh6v0733ve/v+eluLy9b9VZiji5MKnWxx4nv66af3T/sZ+jSq2s9xCIRACIRACITAZhJYuignXIpTbl3gSmTrNpF5CjJha81V31QhpnEvqiRLu8g2VsgRL19GpViVTW8f97jH9RwOVVFOXBSPPJGF21jwhfvo6WNTsek+Tu2rKJesMx3iOMZsnjwMFeXSO+Wzj+9UUT7k0xAD9Yub+zS1L+bSwQnfq171qn4tSZY8cE+9cqu5aUMgBEIgBEIgBLaDwEpFOQj8I/czzjhj9mQKxuYpyJjHlWyuNlOAcHVcm+719XvFNTbV6kuXi8qqEKyFNcWQvjjKFczTTjutf5b0/v37O26zYHxIFl/nZTEVV2uce6311A5u98AfNt1W4veKt+RbfdzuwYkW9+VPfZlUV9UrM/TOE/dQAaxbQeq94i1/W31j+fD5KqT9BGRoTbpca38V5lUfX0LlUY86CSQffKcghXklleMQCIEQCIEQ2HwCKxflIFDhVb8op/5arFds3PPNvd8U5f5T8jzphL7W00yqjnosWS9S65zW8VAhpwKRe6y//e1vt0RnX5hctjhtKp2zkyvEsPLCkkcpcvvJMkWtOMwjq/v3W3HrxGrsNiLdO47/fqWbp93wZJ26LuZEMnqS5DpaRTnjOrGbWr+uaxXmrsf3OfHVrTRTX5p2ueyHQAiEQAiEQAhsDoGVi3Ku2qlgqIWXivL6qMOKh8e/UezyBBaeuKJN9+cuU4joyRmLPslCxWgtMIcKN/lKy5NoKCCrLGNiQbsbm+6hp4jV89p5LCMnNPjUenb6mB9eKI/J+lX6Vtw6WRg7OVKualGObj7poL8+rnHMd40N5VLjaody64829HUpuVa7CvOWPvXpy7iwwN9sIRACIRACIRAC20VgtCi/4oor+i+ejX3JzJ9TXYs3FaIUEkO/mPjggw/OCsdaePmtMRT8HLc2HkPHlXEVo8yhT7+EWb8A2dKhvqFCToXbM5/5zI5bVurmPzLTKk7FYtGinNshLrvssuYjD+WD264MyQn8h56ZjQ5OrIjvhhtukMq+T48jHJPlPmfdz96KW7dzDH3CwH36/kubfqUcZ1QYDz2nXA5zC41/ykL/UC4lo1a59U8ZGGM96Rdtx9af9KhdlrnkW22K8haV9IVACIRACITA9hAYLcp1lZNClGdhU4DzxA/+UZhSfOhJEa3CV4UoxRq3QVCYc58sG4X+rbfeOvtFTgo/jutGwaSij18Evemmm2bPRdevHPKrnrWgQo+fMPBz8Nxm4b/GyNM95v1FT92+QoH71re+dfYjR8TBFX1+hv3FL35xH2erOBWLRYtyFYzcV3zeeef194krBxTjFOz80uRQ4U0xp5+IZx4nWtzDzYbv/CLl+973vv7JMdjy7Y477uifKoPu+muYnCDxoz1PetKTurPOOqu/77kVt59YMc4vYlKIs/EseVgeddRR3dFHH93HUItyfH3DG97Qj7HWPvOZz3T8EikbJxM8BvLjH/94vw6r7KpFOTb8pIN19rOf/WzmP3H8+te/PugXPZdlzq0vnAixxrVO8cF/eXXqU6ceTP4LgRAIgRAIgRDYOAKjRbnuy6YoG/tH0UfRWjcVohR9+qn0lh6Kteuuu66K98cUXtwWosK8JU/fm9/85lmx6Yrqr5G25L0YHSrk8GMsBq6kclWYWFrFqVgsWpTrC5ctv72PoplYWxsnO5yU+Py6jzxFYd2IiROmOl/H3HdNoToUN/o4aWFcMt7Sz9Vwvo9Afy2skafI1W04Luv7FOyeR+SGcllj1IlP68SOvF911VWzk0+3qf1WvpdhLn+lt7bYGXqd1JhyHAIhEAIhEAIhsFkERotyCpLbb7+9fyLKySeffEBhwtVNfi2SgkZXPmvoXoii68Ybb+wf9aYfHuLqKE+X4Mrv1MZz0fnRIuyqWDnyyCO7s88++4Cr5y09XK2loD7++ONnzxKniOOHWrjlgVtdtKkwahVaxEBRxBVTxXDMMcd0X/7yl3sdY7LOQrbmbfl0gUcx4i8xe/z0cfVZV7+HdLYYcKJzyimnTMpTFPOJgopzYue2jmuuuaa/2j4Wt/zhMX9nnnnmbA3Bn2P6h56+IllackRxfOKJJ85O0OQHbHT13GXm8Yv5Y0W59LFGWavkm6egkANywWuANcGnDnVblDkcvvSlLx0QI7b4EvSFF1441+uk+pDjEAiBEAiBEAiBzSAwWpSvGsIqheiqtiN/6AjMW/weOo9iKQRCIARCIARCIAQ2i0CK8s3K11p6m6J8LdMSp0IgBEIgBEIgBDaIQIryDUrWurqaonxdMxO/QiAEQiAEQiAENoVAivJNydQa+5mifI2TE9dCIARCIARCIAQ2gkCK8o1I03o7maJ8vfMT70IgBEIgBEIgBNafQIry9c/R2nuYonztUxQHQyAEQiAEQiAE1pxAivI1T9AmuJeifBOyFB9DIARCIARCIATWmcCuFuXrHHh8C4EQCIEQCIEQCIEQCIF1IZCifF0yET9CIARCIARCIARCIAT2LIEU5Xs29Qk8BEIgBEIgBEIgBEJgXQikKF+XTMSPEAiBEAiBEAiBEAiBPUsgRfmeTX0CD4EQCIEQCIEQCIEQWBcCKcrXJRPxIwRCIARCIARCIARCYM8SSFG+Z1OfwEMgBEIgBEIgBEIgBNaFQIrydclE/AiBEAiBEAiBEAiBENizBFKU79nUJ/AQCIEQCIEQCIEQCIF1IZCifF0yET9CIARCIARCIARCIAT2LIEU5Xs29Qk8BEIgBEIgBEIgBEJgXQikKF+XTMSPEAiBEAiBEAiBEAiBPUsgRfmeTX0CD4EQCIEQCIEQCIEQWBcCKcrXJRPxIwRCIARCIARCIARCYM8SSFG+Z1OfwEMgBEIgBEIgBEIgBNaFQIrydclE/AiBEAiBEAiBEAiBENizBFKU79nUJ/AQCIEQCIEQCIEQCIF1IZCifF0yET9CIARCIARCIARCIAT2LIEU5Xs29Qk8BEIgBEIgBEIgBEJgXQikKF+XTMSPEAiBEAiBEAiBEAiBPUsgRfmeTX0CD4EQCIEQCIEQCIEQWBcCKcrXJRPxIwRCIARCIARCIARCYM8SSFG+Z1O//oE//PDD3bL/1j+6eBgCIRACIRACIRAC/08gRfn/s8jemhFYtiBHLlsIhEAIhEAIhEAIbBKBPVuUP/LII92pp57aXXLJJZuUrz3l624U5cr7vn37Ov5de+21o0w1X+vkvvvu64477rhJuVGlOzg45c/U+A66shaqFC+5PeKII7pbbrllLr9YB+QV+UOxyc+p9XcofNl2G7uR20ORP95z+BvFe9Ay26HwcRm/VpWZyue2xr0qt2XlV12Hy9rdq3JzFeUkhT9y55xzzlpzws95/7DWYmutA1sT58TsUK2DVlF+1/9e0N1z8aWTt7UMIVv0DUYxI8e2bm/4U/5MjQ9x2tR+1ubU+mytgak/9DvNY13z0mKz07G39Ol1NpW7lqz6pEOvVfXvRm5r/rAx70ngvIznnac4a1t9rOObejyVz22Ne6fytchaxeaq63Cn/F5Uz6JxLqp/t+ZPFuV6ozvppJPmLnh3y9md1Ku46hv4TtqIrtUItIryB66/ubvz9HO7h+6+d7QwH7LMH/1Fcl7Xybq94U/5MzU+xGkT+5Ur3ozHttYfmak/9GP6lhlb17y02CwT3+GQUf7r63s3crtK/uZlPO+8Idar+Dikcx36p/K5rXEfLvarrsPD5fem2p0syvn499hjj+0/rucqdH3DawXOi0a3B9Dq6rVeLFdffXX/sZzmVJ3Y5KqDxuvVkzou/XXxcCwdtH4lY+gNvMaDbdfhvigejbc+aqzyzIXPkH3mz2tD9itPlyeeIV6tsSrrPFo+D+Xa5bQvf8WLdsxeqyinGN//P2d391197cJFObbctvKluDSm9YTfGtMaVQzEra3yVUyS1THzkXP9LX3up69Z2fNx+ez+aB6t9F9++eW9Xc0fi6flp+vUvvtR/dRrkbUpm3UOesZ0yI63U6xlixbddavrlXn4qrzQ4qf0VK7M1RhtHa/2OPYYZU95GXvtao7b85haPuNf9bHFvXJkTV555ZUHxCZfiaH6otcOY0N+aP27//jW2jRX47I3xqfqqZwVd8s/fKq5q9zquNuTf5ojG/SzKZ4aO/O8j33F7PrZpx/OF1544UzG3zs03+NWzIxVH+mredd6kr86Zm6NqaVPPgy17huxuv+ySZw+z9cWemXXubmealvzx9ZO5VDzIN/c5lCesM+Yz/U8VP90XH2QjGxXLp4bdFT5Oi4O8kv6a16rnsoCP2pOFAOt7LT+xlTd2PbN8y7/ND7GdIiR+1njVByL/E0SO/ebffq9Tz7vRDtZlGthYAyAHnTLAZJAEU+rDR0EoOQ5fCVNAVZ5wdeCq/OxwWKgX9CRYZNd90MvZullztBW9SGDH8ShWOQ3OiofjuU34y4zZN9lfL58dBsan+LJuPspXlOsZVNt9bnKM68ylywt/uI/enRMPoZy0CrK6aMgpzAfu1rudrVf/adffZ4n/BlaJ2IunnU9Vn11DWHHX9DIn3zyyT0b/GHcfcGO55cxfw1WfxSrWo0rHvqrz1VnjUG6vK0y1U/iJk6Ppcpw7ONVh9tr+V39VKzKTZXXcc0J/cjgr7P1dcCcKlc5Sr+3NWZ8vOiii2bvBZ7bqo+5yBMnm+LDD7aWz/Qz7gxqHNUOMnpPqDEyJruu0+Ma8oM5/NNW41E/rXKp2GRzjI/Lt3RovOVfZVLjbjGSPlr5Jya0/hobi73acr2+zzzWJK02505ftYMfYlZ9rDGJuXJU/aJ/7L1KPo21559//gG1gPsv+25DPivmeoytyrral4w4MF5j5xjftNXxyhWd9Om1KDm1+Ku1QB/Hvh40T618dBn2kZuHC/56nSUZfGSTfnGkD/36575NsUCHvy8qBrWy5TqxQ15rnx9Xxsh4zrBLnzaOJa94x9YOspqPDuSZL0b0se+x1WPF5n6w73bl3061o0V5daguhJYTFYTPqfo05slhH3i+uU6f63PYR84B13HsUwARh5JabbnMlC3GfXM+vq85Hv+QfbeJb2M2XJ9sVL2uT3PUMlbjd9aap7bqHpsrmam2FaNkhoryB2/b391+whkdt7IMzZEOb6v/jC2ap8oc/+uacy6+jyxz+WOgvLo8vniBjn/u85SvHqv2q7/q93VR9dZjyaht6XQ/medxSc5ZTMUqGW+ndLb8cnntT+nRPOeAbr13aJzWOXo/+y5fx1q+VoZVhmN819pxnq256qu+j/ncYuM2pdNja/kxTyzSRVvnL8On6pD+ln/uf+UjuTFO1T+3MeSH9LYYa8zb1jz3m/2x94vqY0uf++37yI69V7mfi+y7z0OcnPuUzy3bNW7mDNlyeexib565Ltfax4fW+4Xmeh7Vp3bIvrOQr5Kh9fz5XJ9T59UxHbv+MV3Mb/Ge6vN1IJtDcWvcmQ7N9bXjPNDRisPntHLSikP+7FY7WpS7wzgwBMKdUxCcSdSzCY2h1zfBuv/++/s3Asl6yxnPHXfc0Y9XeemSHvzURpJcj3yaJxbsSNbPuNDd0stcnelVdsh4/EP2fVFN2XB9itf1ar/FS2OKz9saa0u3xyPZlh3JqmXhw0gytLWo1dyhgpt+vuzJlz6H5kiHt4qZdaINn1v2Yc+8KlOZa5700TJHb8g+H1vM9zckl2fcufg+vjBec+P63QftD437a0Ux4gsbbYuJdLr/6qNFp3S4fs1x/6dilYy3zkr9Q6w13mqnfJOMv0m31q3yo5glp5YYhzi28qI84J+2ll3pdJ6arxaf5J9a5ssG+62txaalC51j73XoRpdsy+eWTfrkl2Kfl4/rqzo01uK0am6rf9XGWOwtxvLV29Y8t4tN8a0tsj4XvYu8ftDNfDip8G/Ju7+tfeXE/dO60Ri++oYd/rH5vuZU1upXW+Omv2WrxU928Uk+T61d2UVWMmqx0drkj+Y5A415HzoUt+ogyXqrvw/4UuXlh/TASdsUizEGLd5TfS17isP9HmI6xIj5/GOrcaK3xuFzfF9cWnFobLfa0aK8BQRwSvyYUwpGoAlYfez7Jlgqyj0pPk+JqPKaIz3Mky1PgvqQl64hW9JJy3zFodg9+T5X+8i4bfrnse96fV96vXV96ve4tN/ipbF54m/pVh+t/BCjlj3mYYs5Pu45c53sDxXc9HOVnKvlXDVvzau6OG7F3MoTc2GPb1VGsSoGzXN7zFFR7vLMRY6+s846q7vhhhv6NSJdtFpfrk/7jI+tKc3ztvqrscqdY2z/8pe/7Fv5pPne+h9q70cHMbJV/fR5fL7vOsb2p1gPxVp1Tvmm+bVw84+LNWesbeVL81u++lphHn6OvV5aDKXX14n6mC8b7Le2Fhu4K68tmZYfPk9xEIv75XPkF3PZ3GfNq3PUr3ZovOXfqrmt/rVs4Fcr9hZjxeBta57bHbIpHT6XvqnXj/NjLvrpa71XycZYC2MKcF87zt3tuR7mS4ZWa0JzFo0buWoLvTo5kF63q75W/jSmVpx9basPX8c2+aW/ndhT31DcKsrruNtpcdN45TfFAjsem/SobcU61Vd9kC61kne76kN2iJHnsNpoxeFz2Hd7+OI25dtut4NF+ZAzeqERwDybwxvS6SB9v6V/bNyh46fO8KXH7btfGp9q/Q3FbbXkPNkan8e+xzdlw/XJRo3L9WmO2rExzfG26vYx9qfGsUdMvo3F2Cq2vW/s8YhuQ/st/zynmudcq4yPMb/lf8295qhQRw4W/LHzNdryRT7RVr30VX98/th4zb308Mdh7MRgSGflpJjp1+b+T8UqGW+ndCoG7IxtjNc3X/dNsu7jvLolS+vy3s9+S19lOPV6GfLZ11TLVs29+9Zi0+JeZabWDPNb/kpPjX0ePpL1tsWsZddz07LlOlv7VaZlw+V8nP26/nyu9lvc3W/fl4y31ceWPvcLWc2Zeq9yO0P7rTjd55pz6fH16fsarz6rX22Nm363pX30+NaypfExm8Q09ZqTnrFW9uUfufBNuWFcc33c932u97PvscjWGIsxXehr8Z7q83VQ/eN4iqn8royci8eJzlYcPsf35VMrDo3tVjtYlBNA641WMAi+tSHnoDwo35csIPyMlWMKg6oDe9jWOK221peUSCp6fR460E2f4nA70kfLOEUTerQhJybS7xyQ4Zg4W/qxJfvoZK6/OaOfcemcstHiWe1KJ6028dKYM0An9tFTt6obuSoLH7flOmq8is8Z+HwvwFv7Y1/4dD3ar/7Trz4xp4+YlGeNK87KXDEoZs13feLscbb6JCvb8hvbzNe4fGEcO76mJKO2+ks/uvw1p7nS5fo1Vlvm1nhcJzp8XHYVm2LRsfQrVh17O8W6FavLa78VP33VF+z51XFi9hjRh9wQL8XoHPDRv+iJvDbNl77KWPFL35DPY+978rmuGX9PqDHKLv5ow1eOiaflB/34SauttSY0VmNHjnyM8ZGst5UZYy3/Vs1t9c9tTMXO3MrYY9B+5SVGyoOO67pFDhvVR+WRMTbJSx99jLE2tMaG+uhHbiyOGqfsSUbHWu/oZEOvfKp5Ukw15v+K9o3mKE463Zb2ZYNxxU3fVP7cFvuVK33oqa8xl8Oe25dPsPB9yVQb8tfZ4Tc6kdd8H0dG/8RPttwX6VYfOnw9yCe1Ld5TfbIrP6QLW8Vw2YAAAAQDSURBVNiX/+xrwx8xlbzHxzzmyG9kXX8rDp8jn10n+7IpP5CpfRrbibZZlCtgBVcN4agH6+OCidP6pyAVtPpp9QKdVwfzBEV65At2fPHUefzhYS79ilG+uX3tMyYbLV9b8TizOs4X/GQfG/JBNrSgxnQwV+PSTzzapNPjqhzEC5mxfEmn2qp7EVl0SF7xkise9+U5ky3aViHufWOPR3Q92pd9Z8OY+uWX89GYZFrMKwflR3YlIx30t/o0H3n5Quv+SE7jvqYl722dj1zrNYcM62RozHVq3/2scsRa84p+jwU9rqPGKjvejrFWrP56cFnfd7v42vINW16UI89csR9jKVtaPy6Djpavmss4m44lW18vLZ+Ro18ytK01Uud4XiobdMpf18s82XP5vnPB3CpWxS57+KmtzlG/t5LDT63JFqdVcys78q/acIb4Uvn4uGL2ONin33mzL+Y+13W5reojMmOvH8Yl4z7N2+c+ad9jIB+sRb2mhvJJPB4nbMUBjlrP+NXa5K9yw5xqS3OkVzZll1ZjzrRljz73kfny0X1w2WofGdmWr26f/aqr5pI5nrc6PvR6qL5UFuis7+WtWNw/6ZzqG+OMrDNwpmLk8eKTfFdO/HXXigMbPkd+y26t2aS3lQ9nssp+syhfReGYrAL2RI3N37axvR7/ovn0Anxof+hq+aK2Mr/98V64hEAIhEAlQMFXb9moc3K8HIGhgnM5bZFahQA1m9/KtYqueWVTlM9LagfmpShfDOJQIT5P/2KWMjtrM2sgBEJgXgJcdaxXKeeVzbxxAinKx/ns5ihXxjnh1Na6uq6x3WpTlO8W2YbeFD4NKCNd8xTfQ3NG1GaoQYA3H/8YrzElXSEQAiEQArtMIEX5LgMeUV9vpxm7bWdEzUpDh7QoX8nTCO85AkMF9zz9ew5WAg6BEAiBEAiBENhoAinKNzp9cT4EQiAEQiAEQiAEQmAbCKQo34YsJoYQCIEQCIEQCIEQCIGNJpCifKPTF+dDIARCIARCIARCIAS2gUCK8m3IYmIIgRAIgRAIgRAIgRDYaAIpyjc6fXE+BEIgBEIgBEIgBEJgGwikKN+GLCaGEAiBEAiBEAiBEAiBjSaQonyj0xfnQyAEQiAEQiAEQiAEtoFAivJtyGJiCIEQCIEQCIEQCIEQ2GgCKco3On1xPgRCIARCIARCIARCYBsIpCjfhiwmhhAIgRAIgRAIgRAIgY0mkKJ8o9MX50MgBEIgBEIgBEIgBLaBQIrybchiYgiBEAiBEAiBEAiBENhoAinKNzp9cT4EQiAEQiAEQiAEQmAbCKQo34YsJoYQCIEQCIEQCIEQCIGNJpCifKPTF+dDIARCIARCIARCIAS2gcD/AXsZnA89OXGiAAAAAElFTkSuQmCC)"
      ]
    },
    {
      "cell_type": "markdown",
      "metadata": {
        "id": "dMJU8QxfJzId"
      },
      "source": [
        "![image.png](data:image/png;base64,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)"
      ]
    },
    {
      "cell_type": "markdown",
      "metadata": {
        "id": "ljS_bMksKIuY"
      },
      "source": [
        "![image.png](data:image/png;base64,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)"
      ]
    },
    {
      "cell_type": "markdown",
      "metadata": {
        "id": "T1PlsZ_VKGn8"
      },
      "source": [
        "![image.png](data:image/png;base64,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)"
      ]
    },
    {
      "cell_type": "markdown",
      "metadata": {
        "id": "MGgyKTDQKSB4"
      },
      "source": [
        "**The findall() Function**\n",
        "\n",
        "The findall() function returns a list containing all matches."
      ]
    },
    {
      "cell_type": "code",
      "metadata": {
        "id": "Cyh8lbx1Jz5T",
        "outputId": "417df761-c23f-4001-8e0d-06827506c274",
        "colab": {
          "base_uri": "https://localhost:8080/",
          "height": 34
        }
      },
      "source": [
        "import re\n",
        "\n",
        "txt = \"The rain in Spain\"\n",
        "x = re.findall(\"ai\", txt)\n",
        "print(x)"
      ],
      "execution_count": null,
      "outputs": [
        {
          "output_type": "stream",
          "text": [
            "['ai', 'ai']\n"
          ],
          "name": "stdout"
        }
      ]
    },
    {
      "cell_type": "markdown",
      "metadata": {
        "id": "sHIKVP_hKqRo"
      },
      "source": [
        "The list contains the matches in the order they are found.\n",
        "\n",
        "If no matches are found, an empty list is returned:"
      ]
    },
    {
      "cell_type": "code",
      "metadata": {
        "id": "wtK_tSduKrL1",
        "outputId": "914b4d0b-9868-4e80-8851-980684b5da20",
        "colab": {
          "base_uri": "https://localhost:8080/",
          "height": 34
        }
      },
      "source": [
        "import re\n",
        "\n",
        "txt = \"The rain in Spain\"\n",
        "x = re.findall(\"Portugal\", txt)\n",
        "print(x)"
      ],
      "execution_count": null,
      "outputs": [
        {
          "output_type": "stream",
          "text": [
            "[]\n"
          ],
          "name": "stdout"
        }
      ]
    },
    {
      "cell_type": "markdown",
      "metadata": {
        "id": "oxHafSIAKy8d"
      },
      "source": [
        "**The search() Function**\n",
        "\n",
        "The search() function searches the string for a match, and returns a Match object if there is a match.\n",
        "\n",
        "If there is more than one match, only the first occurrence of the match will be returned:"
      ]
    },
    {
      "cell_type": "markdown",
      "metadata": {
        "id": "s1XcQ2CjK5I8"
      },
      "source": [
        "Search for the first white-space character in the string:"
      ]
    },
    {
      "cell_type": "code",
      "metadata": {
        "id": "kmZQkuEcKwQo",
        "outputId": "b1a97867-1f2b-48d2-f405-4c7ebec10e93",
        "colab": {
          "base_uri": "https://localhost:8080/",
          "height": 34
        }
      },
      "source": [
        "import re\n",
        "\n",
        "txt = \"The rain in Spain\"\n",
        "x = re.search(\"\\s\", txt)\n",
        "\n",
        "print(\"The first white-space character is located in position:\", x.start())"
      ],
      "execution_count": null,
      "outputs": [
        {
          "output_type": "stream",
          "text": [
            "The first white-space character is located in position: 3\n"
          ],
          "name": "stdout"
        }
      ]
    },
    {
      "cell_type": "markdown",
      "metadata": {
        "id": "9KtQQPb5LF-1"
      },
      "source": [
        "If no matches are found, the value None is returned:"
      ]
    },
    {
      "cell_type": "code",
      "metadata": {
        "id": "q7vOlUDLLFOr",
        "outputId": "b94df049-4314-4a98-955f-89efe345c869",
        "colab": {
          "base_uri": "https://localhost:8080/",
          "height": 34
        }
      },
      "source": [
        "import re\n",
        "\n",
        "txt = \"The rain in Spain\"\n",
        "x = re.search(\"Portugal\", txt)\n",
        "print(x)"
      ],
      "execution_count": null,
      "outputs": [
        {
          "output_type": "stream",
          "text": [
            "None\n"
          ],
          "name": "stdout"
        }
      ]
    },
    {
      "cell_type": "markdown",
      "metadata": {
        "id": "5CYd93IVLMJ0"
      },
      "source": [
        "**The split() Function**\n",
        "\n",
        "The split() function returns a list where the string has been split at each match:"
      ]
    },
    {
      "cell_type": "markdown",
      "metadata": {
        "id": "EEZzpNRILTuq"
      },
      "source": [
        "Split at each white-space character:"
      ]
    },
    {
      "cell_type": "code",
      "metadata": {
        "id": "RWpMMeF1LQsA",
        "outputId": "11fef31c-d331-4e94-9181-ad22a31e4f75",
        "colab": {
          "base_uri": "https://localhost:8080/",
          "height": 34
        }
      },
      "source": [
        "import re\n",
        "\n",
        "txt = \"The rain in Spain\"\n",
        "x = re.split(\"\\s\", txt)\n",
        "print(x)"
      ],
      "execution_count": null,
      "outputs": [
        {
          "output_type": "stream",
          "text": [
            "['The', 'rain', 'in', 'Spain']\n"
          ],
          "name": "stdout"
        }
      ]
    },
    {
      "cell_type": "markdown",
      "metadata": {
        "id": "dOKuFrErLkSA"
      },
      "source": [
        "Split the string only at the first occurrence:"
      ]
    },
    {
      "cell_type": "code",
      "metadata": {
        "id": "q7piBVFLLk47",
        "outputId": "61533922-765e-4b0f-fbd6-16e318323af1",
        "colab": {
          "base_uri": "https://localhost:8080/",
          "height": 34
        }
      },
      "source": [
        "import re\n",
        "\n",
        "txt = \"The rain in Spain\"\n",
        "x = re.split(\"\\s\", txt, 1)\n",
        "print(x)"
      ],
      "execution_count": null,
      "outputs": [
        {
          "output_type": "stream",
          "text": [
            "['The', 'rain in Spain']\n"
          ],
          "name": "stdout"
        }
      ]
    },
    {
      "cell_type": "markdown",
      "metadata": {
        "id": "CD0FNec6LxLy"
      },
      "source": [
        "**The sub() Function**\n",
        "\n",
        "The sub() function replaces the matches with the text of your choice:"
      ]
    },
    {
      "cell_type": "code",
      "metadata": {
        "id": "YculG582Lz1e",
        "outputId": "b11ebba5-946d-4365-84b5-f4f358678d22",
        "colab": {
          "base_uri": "https://localhost:8080/",
          "height": 34
        }
      },
      "source": [
        "import re\n",
        "\n",
        "txt = \"The rain in Spain\"\n",
        "x = re.sub(\"\\s\", \"9\", txt)\n",
        "print(x)"
      ],
      "execution_count": null,
      "outputs": [
        {
          "output_type": "stream",
          "text": [
            "The9rain9in9Spain\n"
          ],
          "name": "stdout"
        }
      ]
    },
    {
      "cell_type": "markdown",
      "metadata": {
        "id": "_Oq1AK4DL55R"
      },
      "source": [
        "Replace the first 2 occurrences:"
      ]
    },
    {
      "cell_type": "code",
      "metadata": {
        "id": "juoShvCLL9cc",
        "outputId": "b77bc5bd-c87f-4702-9863-624be780f327",
        "colab": {
          "base_uri": "https://localhost:8080/",
          "height": 34
        }
      },
      "source": [
        "import re\n",
        "\n",
        "txt = \"The rain in Spain\"\n",
        "x = re.sub(\"\\s\", \"9\", txt, 2)\n",
        "print(x)"
      ],
      "execution_count": null,
      "outputs": [
        {
          "output_type": "stream",
          "text": [
            "The9rain9in Spain\n"
          ],
          "name": "stdout"
        }
      ]
    },
    {
      "cell_type": "markdown",
      "metadata": {
        "id": "7ghjl1eZMByy"
      },
      "source": [
        "**Match Object**\n",
        "\n",
        "A Match Object is an object containing information about the search and the result."
      ]
    },
    {
      "cell_type": "markdown",
      "metadata": {
        "id": "Jh9GNGBUMF4H"
      },
      "source": [
        "Do a search that will return a Match Object:"
      ]
    },
    {
      "cell_type": "code",
      "metadata": {
        "id": "Ybf751cFMDPP",
        "outputId": "7c1eccf3-234d-4af6-a0d0-3af1ebeed0e9",
        "colab": {
          "base_uri": "https://localhost:8080/",
          "height": 34
        }
      },
      "source": [
        "import re\n",
        "\n",
        "txt = \"The rain in Spain\"\n",
        "x = re.search(\"ai\", txt)\n",
        "print(x) #this will print an object"
      ],
      "execution_count": null,
      "outputs": [
        {
          "output_type": "stream",
          "text": [
            "<_sre.SRE_Match object; span=(5, 7), match='ai'>\n"
          ],
          "name": "stdout"
        }
      ]
    },
    {
      "cell_type": "markdown",
      "metadata": {
        "id": "QHb3rjw-MTa3"
      },
      "source": [
        "The Match object has properties and methods used to retrieve information about the search, and the result:\n",
        "\n",
        "1. .span() returns a tuple containing the start-, and end positions of the match.\n",
        "\n",
        "2. .string returns the string passed into the function\n",
        "\n",
        "3. .group() returns the part of the string where there was a match"
      ]
    },
    {
      "cell_type": "markdown",
      "metadata": {
        "id": "0Kq62bv-Mepr"
      },
      "source": [
        "\n",
        "Print the position (start- and end-position) of the first match occurrence.\n",
        "\n",
        "The regular expression looks for any words that starts with an upper case \"S\":"
      ]
    },
    {
      "cell_type": "code",
      "metadata": {
        "id": "ZloZatTYMVvG",
        "outputId": "177f1698-aa17-43de-f427-64143a2aeca1",
        "colab": {
          "base_uri": "https://localhost:8080/",
          "height": 34
        }
      },
      "source": [
        "import re\n",
        "\n",
        "txt = \"The rain in Spain\"\n",
        "x = re.search(r\"\\bS\\w+\", txt)\n",
        "print(x.span())"
      ],
      "execution_count": null,
      "outputs": [
        {
          "output_type": "stream",
          "text": [
            "(12, 17)\n"
          ],
          "name": "stdout"
        }
      ]
    },
    {
      "cell_type": "markdown",
      "metadata": {
        "id": "1g2lype_Mi-t"
      },
      "source": [
        "Print the string passed into the function:"
      ]
    },
    {
      "cell_type": "code",
      "metadata": {
        "id": "jD1-XwLnMjdB",
        "outputId": "30379f11-ac98-4faa-a5b9-80fc30ec7b4d",
        "colab": {
          "base_uri": "https://localhost:8080/",
          "height": 34
        }
      },
      "source": [
        "import re\n",
        "\n",
        "txt = \"The rain in Spain\"\n",
        "x = re.search(r\"\\bS\\w+\", txt)\n",
        "print(x.string)"
      ],
      "execution_count": null,
      "outputs": [
        {
          "output_type": "stream",
          "text": [
            "The rain in Spain\n"
          ],
          "name": "stdout"
        }
      ]
    },
    {
      "cell_type": "markdown",
      "metadata": {
        "id": "2pGU3uemMn3Y"
      },
      "source": [
        "Print the part of the string where there was a match.\n",
        "\n",
        "The regular expression looks for any words that starts with an upper case \"S\":"
      ]
    },
    {
      "cell_type": "code",
      "metadata": {
        "id": "lIE78L8KMoQg",
        "outputId": "f0145b3e-0cde-44ec-daf7-4c8da83e6e3b",
        "colab": {
          "base_uri": "https://localhost:8080/",
          "height": 34
        }
      },
      "source": [
        "import re\n",
        "\n",
        "txt = \"The rain in Spain\"\n",
        "x = re.search(r\"\\bS\\w+\", txt)\n",
        "print(x.group())"
      ],
      "execution_count": null,
      "outputs": [
        {
          "output_type": "stream",
          "text": [
            "Spain\n"
          ],
          "name": "stdout"
        }
      ]
    },
    {
      "cell_type": "markdown",
      "metadata": {
        "id": "Dvk1cXXVSi9o"
      },
      "source": [
        "#Python Try Except"
      ]
    },
    {
      "cell_type": "markdown",
      "metadata": {
        "id": "JlB8FMmBSsO-"
      },
      "source": [
        "The try block lets you test a block of code for errors.\n",
        "\n",
        "The except block lets you handle the error.\n",
        "\n",
        "The finally block lets you execute code, regardless of the result of the try- and except blocks."
      ]
    },
    {
      "cell_type": "markdown",
      "metadata": {
        "id": "qNZn_-uxSwPO"
      },
      "source": [
        "**Exception Handling**\n",
        "\n",
        "When an error occurs, or exception as we call it, Python will normally stop and generate an error message.\n",
        "\n",
        "These exceptions can be handled using the try statement:"
      ]
    },
    {
      "cell_type": "markdown",
      "metadata": {
        "id": "vmPnb3v6S3lb"
      },
      "source": [
        "The try block will generate an exception, because x is not defined:"
      ]
    },
    {
      "cell_type": "code",
      "metadata": {
        "id": "_NF7w6f-SpdO",
        "outputId": "3cbee430-2d69-4126-902a-e9a4544429e3",
        "colab": {
          "base_uri": "https://localhost:8080/",
          "height": 34
        }
      },
      "source": [
        "try:\n",
        "  print(x)\n",
        "except:\n",
        "  print(\"An exception occurred\")"
      ],
      "execution_count": null,
      "outputs": [
        {
          "output_type": "stream",
          "text": [
            "An exception occurred\n"
          ],
          "name": "stdout"
        }
      ]
    },
    {
      "cell_type": "markdown",
      "metadata": {
        "id": "ucwVcfiBS_E_"
      },
      "source": [
        "Since the try block raises an error, the except block will be executed.\n",
        "\n",
        "Without the try block, the program will crash and raise an error:"
      ]
    },
    {
      "cell_type": "code",
      "metadata": {
        "id": "TCEAURcDS_nx",
        "outputId": "c82bafee-6f4d-4d13-bc58-9756e924534f",
        "colab": {
          "base_uri": "https://localhost:8080/",
          "height": 163
        }
      },
      "source": [
        "print(x)"
      ],
      "execution_count": null,
      "outputs": [
        {
          "output_type": "error",
          "ename": "NameError",
          "evalue": "ignored",
          "traceback": [
            "\u001b[0;31m---------------------------------------------------------------------------\u001b[0m",
            "\u001b[0;31mNameError\u001b[0m                                 Traceback (most recent call last)",
            "\u001b[0;32m<ipython-input-2-fc17d851ef81>\u001b[0m in \u001b[0;36m<module>\u001b[0;34m()\u001b[0m\n\u001b[0;32m----> 1\u001b[0;31m \u001b[0mprint\u001b[0m\u001b[0;34m(\u001b[0m\u001b[0mx\u001b[0m\u001b[0;34m)\u001b[0m\u001b[0;34m\u001b[0m\u001b[0;34m\u001b[0m\u001b[0m\n\u001b[0m",
            "\u001b[0;31mNameError\u001b[0m: name 'x' is not defined"
          ]
        }
      ]
    },
    {
      "cell_type": "markdown",
      "metadata": {
        "id": "a00ox6LJTEfC"
      },
      "source": [
        "Many Exceptions\n",
        "\n",
        "You can define as many exception blocks as you want, e.g. if you want to execute a special block of code for a special kind of error:\n",
        "\n",
        "Example\n",
        "\n",
        "Print one message if the try block raises a NameError and another for other errors:"
      ]
    },
    {
      "cell_type": "code",
      "metadata": {
        "id": "u9KqTDgRTBxZ",
        "outputId": "b80e57ff-7d6d-458f-ea1a-3ee2965b0987",
        "colab": {
          "base_uri": "https://localhost:8080/",
          "height": 34
        }
      },
      "source": [
        "try:\n",
        "  print(x)\n",
        "except NameError:\n",
        "  print(\"Variable x is not defined\")\n",
        "except:\n",
        "  print(\"Something else went wrong\")"
      ],
      "execution_count": null,
      "outputs": [
        {
          "output_type": "stream",
          "text": [
            "Variable x is not defined\n"
          ],
          "name": "stdout"
        }
      ]
    },
    {
      "cell_type": "markdown",
      "metadata": {
        "id": "rtv6tHezTS2P"
      },
      "source": [
        "Else\n",
        "\n",
        "You can use the else keyword to define a block of code to be executed if no errors were raised:"
      ]
    },
    {
      "cell_type": "code",
      "metadata": {
        "id": "ZQoU6fcsTT9K",
        "outputId": "cac2f4f2-13bd-4583-e2c7-7586f900fd4d",
        "colab": {
          "base_uri": "https://localhost:8080/",
          "height": 51
        }
      },
      "source": [
        "try:\n",
        "  print(\"Hello\")\n",
        "except:\n",
        "  print(\"Something went wrong\")\n",
        "else:\n",
        "  print(\"Nothing went wrong\")"
      ],
      "execution_count": null,
      "outputs": [
        {
          "output_type": "stream",
          "text": [
            "Hello\n",
            "Nothing went wrong\n"
          ],
          "name": "stdout"
        }
      ]
    },
    {
      "cell_type": "markdown",
      "metadata": {
        "id": "Ni7fmFL0TZH5"
      },
      "source": [
        "Finally\n",
        "\n",
        "The finally block, if specified, will be executed regardless if the try block raises an error or not."
      ]
    },
    {
      "cell_type": "code",
      "metadata": {
        "id": "ihkQ-54DTWQb",
        "outputId": "70da6d7c-021a-48e6-8847-f55651dc0dd6",
        "colab": {
          "base_uri": "https://localhost:8080/",
          "height": 51
        }
      },
      "source": [
        "try:\n",
        "  print(x)\n",
        "except:\n",
        "  print(\"Something went wrong\")\n",
        "finally:\n",
        "  print(\"The 'try except' is finished\")"
      ],
      "execution_count": null,
      "outputs": [
        {
          "output_type": "stream",
          "text": [
            "Something went wrong\n",
            "The 'try except' is finished\n"
          ],
          "name": "stdout"
        }
      ]
    },
    {
      "cell_type": "markdown",
      "metadata": {
        "id": "DTYi8jsvTeqh"
      },
      "source": [
        "This can be useful to close objects and clean up resources:"
      ]
    },
    {
      "cell_type": "code",
      "metadata": {
        "id": "Ol89qDseTbpT",
        "outputId": "3fbfcd12-26a7-4ee6-a95c-eb6c7d77d7b8",
        "colab": {
          "base_uri": "https://localhost:8080/",
          "height": 214
        }
      },
      "source": [
        "try:\n",
        "  f = open(\"demofile.txt\")\n",
        "  f.write(\"Lorum Ipsum\")\n",
        "except:\n",
        "  print(\"Something went wrong when writing to the file\")\n",
        "finally:\n",
        "  f.close()"
      ],
      "execution_count": null,
      "outputs": [
        {
          "output_type": "stream",
          "text": [
            "Something went wrong when writing to the file\n"
          ],
          "name": "stdout"
        },
        {
          "output_type": "error",
          "ename": "NameError",
          "evalue": "ignored",
          "traceback": [
            "\u001b[0;31m---------------------------------------------------------------------------\u001b[0m",
            "\u001b[0;31mNameError\u001b[0m                                 Traceback (most recent call last)",
            "\u001b[0;32m<ipython-input-8-93187982fa5c>\u001b[0m in \u001b[0;36m<module>\u001b[0;34m()\u001b[0m\n\u001b[1;32m      5\u001b[0m   \u001b[0mprint\u001b[0m\u001b[0;34m(\u001b[0m\u001b[0;34m\"Something went wrong when writing to the file\"\u001b[0m\u001b[0;34m)\u001b[0m\u001b[0;34m\u001b[0m\u001b[0;34m\u001b[0m\u001b[0m\n\u001b[1;32m      6\u001b[0m \u001b[0;32mfinally\u001b[0m\u001b[0;34m:\u001b[0m\u001b[0;34m\u001b[0m\u001b[0;34m\u001b[0m\u001b[0m\n\u001b[0;32m----> 7\u001b[0;31m   \u001b[0mf\u001b[0m\u001b[0;34m.\u001b[0m\u001b[0mclose\u001b[0m\u001b[0;34m(\u001b[0m\u001b[0;34m)\u001b[0m\u001b[0;34m\u001b[0m\u001b[0;34m\u001b[0m\u001b[0m\n\u001b[0m",
            "\u001b[0;31mNameError\u001b[0m: name 'f' is not defined"
          ]
        }
      ]
    },
    {
      "cell_type": "markdown",
      "metadata": {
        "id": "gwZYXVP3T4n2"
      },
      "source": [
        "Raise an exception\n",
        "\n",
        "As a Python developer you can choose to throw an exception if a condition occurs.\n",
        "\n",
        "To throw (or raise) an exception, use the raise keyword."
      ]
    },
    {
      "cell_type": "code",
      "metadata": {
        "id": "JlacsIagT54E",
        "outputId": "ef4653b4-63a3-4217-f83f-42bd3630dfb4",
        "colab": {
          "base_uri": "https://localhost:8080/",
          "height": 197
        }
      },
      "source": [
        "x = -1\n",
        "\n",
        "if x < 0:\n",
        "  raise Exception(\"Sorry, no numbers below zero\")"
      ],
      "execution_count": null,
      "outputs": [
        {
          "output_type": "error",
          "ename": "Exception",
          "evalue": "ignored",
          "traceback": [
            "\u001b[0;31m---------------------------------------------------------------------------\u001b[0m",
            "\u001b[0;31mException\u001b[0m                                 Traceback (most recent call last)",
            "\u001b[0;32m<ipython-input-9-2edc57024fbc>\u001b[0m in \u001b[0;36m<module>\u001b[0;34m()\u001b[0m\n\u001b[1;32m      2\u001b[0m \u001b[0;34m\u001b[0m\u001b[0m\n\u001b[1;32m      3\u001b[0m \u001b[0;32mif\u001b[0m \u001b[0mx\u001b[0m \u001b[0;34m<\u001b[0m \u001b[0;36m0\u001b[0m\u001b[0;34m:\u001b[0m\u001b[0;34m\u001b[0m\u001b[0;34m\u001b[0m\u001b[0m\n\u001b[0;32m----> 4\u001b[0;31m   \u001b[0;32mraise\u001b[0m \u001b[0mException\u001b[0m\u001b[0;34m(\u001b[0m\u001b[0;34m\"Sorry, no numbers below zero\"\u001b[0m\u001b[0;34m)\u001b[0m\u001b[0;34m\u001b[0m\u001b[0;34m\u001b[0m\u001b[0m\n\u001b[0m",
            "\u001b[0;31mException\u001b[0m: Sorry, no numbers below zero"
          ]
        }
      ]
    },
    {
      "cell_type": "markdown",
      "metadata": {
        "id": "5cujC_I6UD0d"
      },
      "source": [
        "The raise keyword is used to raise an exception.\n",
        "\n",
        "You can define what kind of error to raise, and the text to print to the user.\n",
        "\n"
      ]
    },
    {
      "cell_type": "markdown",
      "metadata": {
        "id": "1dVUp0U6UI7w"
      },
      "source": [
        "Raise a TypeError if x is not an integer:"
      ]
    },
    {
      "cell_type": "code",
      "metadata": {
        "id": "aGqT_DBxT-9p",
        "outputId": "0d80427a-f175-4c62-a466-00de955cc819",
        "colab": {
          "base_uri": "https://localhost:8080/",
          "height": 197
        }
      },
      "source": [
        "x = \"hello\"\n",
        "\n",
        "if not type(x) is int:\n",
        "  raise TypeError(\"Only integers are allowed\")"
      ],
      "execution_count": null,
      "outputs": [
        {
          "output_type": "error",
          "ename": "TypeError",
          "evalue": "ignored",
          "traceback": [
            "\u001b[0;31m---------------------------------------------------------------------------\u001b[0m",
            "\u001b[0;31mTypeError\u001b[0m                                 Traceback (most recent call last)",
            "\u001b[0;32m<ipython-input-11-bc91768a6271>\u001b[0m in \u001b[0;36m<module>\u001b[0;34m()\u001b[0m\n\u001b[1;32m      2\u001b[0m \u001b[0;34m\u001b[0m\u001b[0m\n\u001b[1;32m      3\u001b[0m \u001b[0;32mif\u001b[0m \u001b[0;32mnot\u001b[0m \u001b[0mtype\u001b[0m\u001b[0;34m(\u001b[0m\u001b[0mx\u001b[0m\u001b[0;34m)\u001b[0m \u001b[0;32mis\u001b[0m \u001b[0mint\u001b[0m\u001b[0;34m:\u001b[0m\u001b[0;34m\u001b[0m\u001b[0;34m\u001b[0m\u001b[0m\n\u001b[0;32m----> 4\u001b[0;31m   \u001b[0;32mraise\u001b[0m \u001b[0mTypeError\u001b[0m\u001b[0;34m(\u001b[0m\u001b[0;34m\"Only integers are allowed\"\u001b[0m\u001b[0;34m)\u001b[0m\u001b[0;34m\u001b[0m\u001b[0;34m\u001b[0m\u001b[0m\n\u001b[0m",
            "\u001b[0;31mTypeError\u001b[0m: Only integers are allowed"
          ]
        }
      ]
    },
    {
      "cell_type": "code",
      "metadata": {
        "id": "QzkB926CUGfh"
      },
      "source": [
        ""
      ],
      "execution_count": null,
      "outputs": []
    },
    {
      "cell_type": "markdown",
      "metadata": {
        "id": "vNlzvSsfaSdD"
      },
      "source": [
        "# Questions"
      ]
    },
    {
      "cell_type": "markdown",
      "metadata": {
        "id": "UqE_OtHtaZqr"
      },
      "source": [
        "**Question 1:** Create a Vehicle class with name, max_speed and mileage instance attributes"
      ]
    },
    {
      "cell_type": "markdown",
      "metadata": {
        "id": "6pOvCjFRajfM"
      },
      "source": [
        "**Question 2:** Create child class Bus that will inherit all of the variables and methods of the Vehicle class"
      ]
    },
    {
      "cell_type": "markdown",
      "metadata": {
        "id": "Cu3kdGyJaurW"
      },
      "source": [
        "**Question 3:** Create a Bus object that will inherit all of the variables and methods of the Vehicle class and display it."
      ]
    },
    {
      "cell_type": "markdown",
      "metadata": {
        "id": "UrHdO6zua5Uy"
      },
      "source": [
        "**Question 4:** Create a Bus class that inherits from the Vehicle class. Give the capacity argument of Bus.seating_capacity() a default value of 50."
      ]
    },
    {
      "cell_type": "markdown",
      "metadata": {
        "id": "Ixo8wj3Na_ez"
      },
      "source": [
        "**Question 5:** Define property that should have the same value for every class instance"
      ]
    },
    {
      "cell_type": "markdown",
      "metadata": {
        "id": "YX0YV4I6bH6s"
      },
      "source": [
        "**Question 6:** Create a Bus child class that inherits from the Vehicle class. The default fare charge of any vehicle is seating capacity * 100. If Vehicle is Bus instance, we need to add an extra 10% on full fare as a maintenance charge. So total fare for bus instance will become the final amount = total fare + 10% of the total fare.\n",
        "\n",
        "Note: The bus seating capacity is 50. so the final fare amount should be 5550. You need to override the fare() method of a Vehicle class in Bus class."
      ]
    },
    {
      "cell_type": "markdown",
      "metadata": {
        "id": "k8uLulHTbPVs"
      },
      "source": [
        "**Question 7:** Determine which class a given Bus object belongs to (Check type of a object)"
      ]
    },
    {
      "cell_type": "markdown",
      "metadata": {
        "id": "4P1igU08bUDR"
      },
      "source": [
        "**Question 8:** Determine if School_bus is also an instance of the Vehicle class"
      ]
    },
    {
      "cell_type": "code",
      "metadata": {
        "id": "VRTfB83baYWl",
        "outputId": "2e65bf9a-12f1-4dab-cb49-44d560ac462b",
        "colab": {
          "base_uri": "https://localhost:8080/",
          "height": 51
        }
      },
      "source": [
        "# Answer 1\n",
        "\n",
        "class Vehicle:\n",
        "  def __init__(self, name, max_speed, mileage):\n",
        "    self.name = name\n",
        "    self.max_speed = max_speed\n",
        "    self.mileage = mileage\n",
        "\n",
        "def main():\n",
        "  modelX = Vehicle(\"Volva\",240, 18)\n",
        "  print(modelX.max_speed, \"\\n\", modelX.mileage)\n",
        "\n",
        "if __name__ == \"__main__\":\n",
        "    main()\n",
        "\n"
      ],
      "execution_count": null,
      "outputs": [
        {
          "output_type": "stream",
          "text": [
            "240 \n",
            " 18\n"
          ],
          "name": "stdout"
        }
      ]
    },
    {
      "cell_type": "code",
      "metadata": {
        "id": "OwDqSZaRaXim"
      },
      "source": [
        "#Answer 2\n",
        "class Bus(Vehicle):\n",
        "  pass\n"
      ],
      "execution_count": null,
      "outputs": []
    },
    {
      "cell_type": "code",
      "metadata": {
        "id": "J5DAWGaccwtQ",
        "outputId": "f7e88f6b-329b-4a9c-fec5-a24e8c15a79e",
        "colab": {
          "base_uri": "https://localhost:8080/",
          "height": 68
        }
      },
      "source": [
        "#Answer 3\n",
        "def main():\n",
        "  School_bus = Bus(\"School Volvo\", 180, 12)\n",
        "  print(\"Vehicle Name:\", School_bus.name, \"\\nSpeed:\", School_bus.max_speed, \"\\nMileage:\", School_bus.mileage)\n",
        "\n",
        "\n",
        "if __name__ == \"__main__\":\n",
        "    main()"
      ],
      "execution_count": null,
      "outputs": [
        {
          "output_type": "stream",
          "text": [
            "Vehicle Name: School Volvo \n",
            "Speed: 180 \n",
            "Mileage: 12\n"
          ],
          "name": "stdout"
        }
      ]
    },
    {
      "cell_type": "code",
      "metadata": {
        "id": "IFhgZWNGdjFz"
      },
      "source": [
        "# Answer 4\n",
        "class Vehicle:\n",
        "    def __init__(self, name, max_speed, mileage):\n",
        "        self.name = name\n",
        "        self.max_speed = max_speed\n",
        "        self.mileage = mileage\n",
        "\n",
        "    \n",
        "\n",
        "class Bus(Vehicle):\n",
        "    def seating_capacity(self, capacity=50):\n",
        "        return f\"The seating capacity of a {self.name} is {capacity} passengers\"\n",
        "\n"
      ],
      "execution_count": null,
      "outputs": []
    },
    {
      "cell_type": "code",
      "metadata": {
        "id": "S2P8aW2Pd5hQ",
        "outputId": "f7a788ea-e5ff-4f27-c26a-6eb6572f758b",
        "colab": {
          "base_uri": "https://localhost:8080/",
          "height": 85
        }
      },
      "source": [
        "\n",
        "def main():\n",
        "  School_bus = Bus(\"School Volvo\", 180, 12)\n",
        "  print(\"Vehicle Name:\", School_bus.name, \"\\nSpeed:\", School_bus.max_speed, \"\\nMileage:\", School_bus.mileage)\n",
        "  print(School_bus.seating_capacity())\n",
        "\n",
        "\n",
        "if __name__ == \"__main__\":\n",
        "    main()"
      ],
      "execution_count": null,
      "outputs": [
        {
          "output_type": "stream",
          "text": [
            "Vehicle Name: School Volvo \n",
            "Speed: 180 \n",
            "Mileage: 12\n",
            "The seating capacity of a School Volvo is 50 passengers\n"
          ],
          "name": "stdout"
        }
      ]
    },
    {
      "cell_type": "code",
      "metadata": {
        "id": "VfByfDmneglX"
      },
      "source": [
        "#Answer 5\n",
        "\n",
        "class Vehicle:\n",
        "  # Class attribute\n",
        "    color = \"Blue\"\n",
        "    def __init__(self, name, max_speed, mileage):\n",
        "        self.name = name\n",
        "        self.max_speed = max_speed\n",
        "        self.mileage = mileage\n",
        "\n",
        "    \n",
        "\n",
        "class Bus(Vehicle):\n",
        "    def seating_capacity(self, capacity=50):\n",
        "        return f\"The seating capacity of a {self.name} is {capacity} passengers\""
      ],
      "execution_count": null,
      "outputs": []
    },
    {
      "cell_type": "code",
      "metadata": {
        "id": "ONkqwEJre37_",
        "outputId": "f5990125-1f2a-42bb-e25d-327bfd01f926",
        "colab": {
          "base_uri": "https://localhost:8080/",
          "height": 221
        }
      },
      "source": [
        "\n",
        "def main():\n",
        "  School_bus = Bus(\"School Volvo\", 180, 12)\n",
        "  print(\"Vehicle Color\", School_bus.color,\"\\nVehicle Name:\", School_bus.name, \"\\nSpeed:\", School_bus.max_speed, \"\\nMileage:\", School_bus.mileage)\n",
        "  print(School_bus.seating_capacity())\n",
        "  print(\"\\n\")\n",
        "\n",
        "  Public_bus = Bus(\"Public Volvo\", 280, 22)\n",
        "  print(\"Vehicle Color\", Public_bus.color, \"\\nVehicle Name:\", Public_bus.name, \"\\nSpeed:\", Public_bus.max_speed, \"\\nMileage:\", Public_bus.mileage)\n",
        "  print(Public_bus.seating_capacity())\n",
        "\n",
        "\n",
        "if __name__ == \"__main__\":\n",
        "    main()"
      ],
      "execution_count": null,
      "outputs": [
        {
          "output_type": "stream",
          "text": [
            "Vehicle Color Blue \n",
            "Vehicle Name: School Volvo \n",
            "Speed: 180 \n",
            "Mileage: 12\n",
            "The seating capacity of a School Volvo is 50 passengers\n",
            "\n",
            "\n",
            "Vehicle Color Blue \n",
            "Vehicle Name: Public Volvo \n",
            "Speed: 280 \n",
            "Mileage: 22\n",
            "The seating capacity of a Public Volvo is 50 passengers\n"
          ],
          "name": "stdout"
        }
      ]
    },
    {
      "cell_type": "code",
      "metadata": {
        "id": "QVmXP_-7e3tl"
      },
      "source": [
        "#Answer 6\n",
        "\n",
        "class Vehicle:\n",
        "  # Class attribute\n",
        "    color = \"Blue\"\n",
        "    def __init__(self, name, max_speed, mileage):\n",
        "        self.name = name\n",
        "        self.max_speed = max_speed\n",
        "        self.mileage = mileage\n",
        "    \n",
        "    def fare(self):\n",
        "        return self.capacity * 100\n",
        "\n",
        "    \n",
        "class Bus(Vehicle):\n",
        "\n",
        "    def seating_capacity(self, capacity=50):\n",
        "        self.capacity = capacity\n",
        "        return f\"The seating capacity of a {self.name} is {capacity} passengers\"\n",
        "        \n",
        "    def fare(self):\n",
        "        amount = super().fare()\n",
        "        amount += amount * 10 / 100\n",
        "        return amount"
      ],
      "execution_count": null,
      "outputs": []
    },
    {
      "cell_type": "code",
      "metadata": {
        "id": "oPK2HdJ-gUcA",
        "outputId": "cb8bf087-3874-488f-8a8e-86b41c892372",
        "colab": {
          "base_uri": "https://localhost:8080/",
          "height": 119
        }
      },
      "source": [
        "def main():\n",
        "  School_bus = Bus(\"School Volvo\", 180, 12)\n",
        "  print(\"Vehicle Color\", School_bus.color,\"\\nVehicle Name:\", School_bus.name, \"\\nSpeed:\", School_bus.max_speed, \"\\nMileage:\", School_bus.mileage)\n",
        "  print(School_bus.seating_capacity())\n",
        "  print(\"Total Bus fare is:\", School_bus.fare())\n",
        "\n",
        "if __name__ == \"__main__\":\n",
        "  main()"
      ],
      "execution_count": null,
      "outputs": [
        {
          "output_type": "stream",
          "text": [
            "Vehicle Color Blue \n",
            "Vehicle Name: School Volvo \n",
            "Speed: 180 \n",
            "Mileage: 12\n",
            "The seating capacity of a School Volvo is 50 passengers\n",
            "Total Bus fare is: 5500.0\n"
          ],
          "name": "stdout"
        }
      ]
    },
    {
      "cell_type": "code",
      "metadata": {
        "id": "6X9WWL17h5X_",
        "outputId": "09d5e862-f92e-4df8-dd4c-f93ae58a61df",
        "colab": {
          "base_uri": "https://localhost:8080/",
          "height": 34
        }
      },
      "source": [
        "#Answer 7\n",
        "# use Python's built-in type() function\n",
        "print(type(School_bus))"
      ],
      "execution_count": null,
      "outputs": [
        {
          "output_type": "stream",
          "text": [
            "<class '__main__.Bus'>\n"
          ],
          "name": "stdout"
        }
      ]
    },
    {
      "cell_type": "code",
      "metadata": {
        "id": "JR2gVFvWiDxs",
        "outputId": "7db7e0b6-a857-4180-ffdf-940ddf1a7d29",
        "colab": {
          "base_uri": "https://localhost:8080/",
          "height": 34
        }
      },
      "source": [
        "#Answer 8\n",
        "\n",
        "# use Python's built-in isinstance() function\n",
        "print(isinstance(School_bus, Vehicle))"
      ],
      "execution_count": null,
      "outputs": [
        {
          "output_type": "stream",
          "text": [
            "False\n"
          ],
          "name": "stdout"
        }
      ]
    },
    {
      "cell_type": "markdown",
      "metadata": {
        "id": "zzAgfKqTWK3_"
      },
      "source": [
        "# OOPs - Extension"
      ]
    },
    {
      "cell_type": "markdown",
      "metadata": {
        "id": "WNx00MXMXEaX"
      },
      "source": [
        "Object Oriented Programming is a way of computer programming using the idea of “objects” to represents data and methods. It is also, an approach used for creating neat and reusable code instead of a redundant one. the program is divided into self-contained objects or several mini-programs. Every Individual object represents a different part of the application having its own logic and data to communicate within themselves."
      ]
    },
    {
      "cell_type": "markdown",
      "metadata": {
        "id": "bquhxaMKWNcY"
      },
      "source": [
        "\n",
        "Object-Oriented Programming methodologies deal with the following concepts.\n",
        "\n",
        "\n",
        "1. Inheritance\n",
        "2. Polymorphism\n",
        "3. Encapsulation\n",
        "4. Abstraction"
      ]
    },
    {
      "cell_type": "markdown",
      "metadata": {
        "id": "Njbm2cCbXViF"
      },
      "source": [
        "![image.png](data:image/png;base64,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)"
      ]
    },
    {
      "cell_type": "markdown",
      "metadata": {
        "id": "thMgmXU6YjQ-"
      },
      "source": [
        "**Single Inheritance:**\n",
        "\n",
        "Single level inheritance enables a derived class to inherit characteristics from a single parent class."
      ]
    },
    {
      "cell_type": "code",
      "metadata": {
        "id": "j4ms2vO0WM2f",
        "outputId": "e2df5673-56e6-42aa-c8f3-89dc65a433e8",
        "colab": {
          "base_uri": "https://localhost:8080/",
          "height": 34
        }
      },
      "source": [
        "class employee1(): #This is a parent class\n",
        "  def __init__(self, name, age, salary):  \n",
        "    self.name = name\n",
        "    self.age = age\n",
        "    self.salary = salary\n",
        " \n",
        "class childemployee(employee1): #This is a child class\n",
        "  def __init__(self, name, age, salary,id):\n",
        "    self.name = name\n",
        "    self.age = age\n",
        "    self.salary = salary\n",
        "    self.id = id\n",
        "\n",
        "\n",
        "def main():\n",
        "  emp1 = employee1('harshit',22,1000)\n",
        "  print(emp1.age)\n",
        "\n",
        "if __name__ == \"__main__\":\n",
        "    main()\n"
      ],
      "execution_count": null,
      "outputs": [
        {
          "output_type": "stream",
          "text": [
            "22\n"
          ],
          "name": "stdout"
        }
      ]
    },
    {
      "cell_type": "markdown",
      "metadata": {
        "id": "g6JU5jCJYpzh"
      },
      "source": [
        "**Multilevel Inheritance:**\n",
        "\n",
        "Multi-level inheritance enables a derived class to inherit properties from an immediate parent class which in turn inherits properties from his parent class."
      ]
    },
    {
      "cell_type": "code",
      "metadata": {
        "id": "zhoroTQ5Xeps",
        "outputId": "f6e19024-7657-4f15-edcd-eb81d4ba767a",
        "colab": {
          "base_uri": "https://localhost:8080/",
          "height": 51
        }
      },
      "source": [
        "class employee(): #Super class\n",
        "  def __init__(self,name,age,salary):  \n",
        "    self.name = name\n",
        "    self.age = age\n",
        "    self.salary = salary\n",
        "\n",
        "\n",
        "class childemployee1(employee):#First child class\n",
        "  def __init__(self,name,age,salary):\n",
        "    self.name = name\n",
        "    self.age = age\n",
        "    self.salary = salary\n",
        " \n",
        "class childemployee2(childemployee1):#Second child class\n",
        "  def __init__(self, name, age, salary):\n",
        "    self.name = name\n",
        "    self.age = age\n",
        "    self.salary = salary\n",
        "    \n",
        " \n",
        "\n",
        "def main():\n",
        "  emp1 = employee('harshit',22,1000)\n",
        "  emp2 = childemployee1('arjun',23,2000)\n",
        "  print(emp1.age)\n",
        "  print(emp2.age)\n",
        "\n",
        "if __name__ == \"__main__\":\n",
        "    main() \n"
      ],
      "execution_count": null,
      "outputs": [
        {
          "output_type": "stream",
          "text": [
            "22\n",
            "23\n"
          ],
          "name": "stdout"
        }
      ]
    },
    {
      "cell_type": "markdown",
      "metadata": {
        "id": "GzzyWMUBZGSq"
      },
      "source": [
        "**Hierarchical Inheritance:**\n",
        "\n",
        "Hierarchical level inheritance enables more than one derived class to inherit properties from a parent class."
      ]
    },
    {
      "cell_type": "code",
      "metadata": {
        "id": "ljRkPm_0ZH2a",
        "outputId": "5b8b8f7b-d7b4-48eb-cae8-04196b8f359e",
        "colab": {
          "base_uri": "https://localhost:8080/",
          "height": 51
        }
      },
      "source": [
        "class employee():\n",
        "  def __init__(self, name, age, salary):     #Hierarchical Inheritance\n",
        "    self.name = name\n",
        "    self.age = age\n",
        "    self.salary = salary\n",
        " \n",
        "class childemployee1(employee):\n",
        "  def __init__(self,name,age,salary):\n",
        "    self.name = name\n",
        "    self.age = age\n",
        "    self.salary = salary\n",
        " \n",
        "class childemployee2(employee):\n",
        "  def __init__(self, name, age, salary):\n",
        "    self.name = name\n",
        "    self.age = age\n",
        "    self.salary = salary\n",
        "    emp1 = employee('harshit',22,1000)\n",
        "    emp2 = employee('arjun',23,2000)\n",
        "\n",
        "def main():\n",
        "  emp1 = employee('harshit',22,1000)\n",
        "  emp2 = childemployee1('arjun',23,2000)\n",
        "  print(emp1.age)\n",
        "  print(emp2.age)\n",
        "\n",
        "if __name__ == \"__main__\":\n",
        "    main() \n",
        "\n"
      ],
      "execution_count": null,
      "outputs": [
        {
          "output_type": "stream",
          "text": [
            "22\n",
            "23\n"
          ],
          "name": "stdout"
        }
      ]
    },
    {
      "cell_type": "markdown",
      "metadata": {
        "id": "fPapQaksZVam"
      },
      "source": [
        "**Multiple Inheritance:**\n",
        "\n",
        "Multiple level inheritance enables one derived class to inherit properties from more than one base class."
      ]
    },
    {
      "cell_type": "code",
      "metadata": {
        "id": "uWt7ZnrZZXax",
        "outputId": "fadbaa41-d657-41c6-b8cf-661153eb9a02",
        "colab": {
          "base_uri": "https://localhost:8080/",
          "height": 51
        }
      },
      "source": [
        "class employee1(): #Parent class\n",
        "    def __init__(self, name, age, salary):  \n",
        "        self.name = name\n",
        "        self.age = age\n",
        "        self.salary = salary\n",
        " \n",
        "class employee2():#Parent class\n",
        "    def __init__(self,name,age,salary,id):\n",
        "     self.name = name\n",
        "     self.age = age\n",
        "     self.salary = salary\n",
        "     self.id = id\n",
        " \n",
        "class childemployee(employee1,employee2):\n",
        "    def __init__(self, name, age, salary,id):\n",
        "     self.name = name\n",
        "     self.age = age\n",
        "     self.salary = salary\n",
        "     self.id = id\n",
        "\n",
        "\n",
        "\n",
        "def main():\n",
        "  emp1 = employee1('harshit',22,1000)\n",
        "  emp2 = employee2('arjun',23,2000,1234)\n",
        "  print(emp1.age)\n",
        "  print(emp2.age)\n",
        "\n",
        "if __name__ == \"__main__\":\n",
        "    main() \n",
        "\n"
      ],
      "execution_count": null,
      "outputs": [
        {
          "output_type": "stream",
          "text": [
            "22\n",
            "23\n"
          ],
          "name": "stdout"
        }
      ]
    },
    {
      "cell_type": "markdown",
      "metadata": {
        "id": "s0nM6QOmaHYX"
      },
      "source": [
        "**Polymorphism:**\n",
        "\n",
        "You all must have used GPS for navigating the route, Isn’t it amazing how many different routes you come across for the same destination depending on the traffic, from a programming point of view this is called ‘polymorphism’. It is one such OOP methodology where one task can be performed in several different ways. To put it in simple words, it is a property of an object which allows it to take multiple forms."
      ]
    },
    {
      "cell_type": "markdown",
      "metadata": {
        "id": "VsLXnN1CaSCd"
      },
      "source": [
        "Polymorphism is of two types:\n",
        "\n",
        "1. Compile-time Polymorphism\n",
        "2. Run-time Polymorphism"
      ]
    },
    {
      "cell_type": "markdown",
      "metadata": {
        "id": "NxwrCzFraWXp"
      },
      "source": [
        "*Compile-time Polymorphism:*\n",
        "\n",
        "A compile-time polymorphism also called as static polymorphism which gets resolved during the compilation time of the program. One common example is “method overloading”. Let me show you a quick example of the same."
      ]
    },
    {
      "cell_type": "code",
      "metadata": {
        "id": "GF92bDNCaNsP",
        "outputId": "309c221e-3a3f-4ef5-9b3e-d2e10f750681",
        "colab": {
          "base_uri": "https://localhost:8080/",
          "height": 119
        }
      },
      "source": [
        "class employee1():\n",
        "  def name(self):\n",
        "    print(\"Harshit is his name\")    \n",
        "  def salary(self):\n",
        "    print(\"3000 is his salary\")\n",
        " \n",
        "  def age(self):\n",
        "    print(\"22 is his age\")\n",
        "  \n",
        "class employee2():\n",
        "  def name(self):\n",
        "    print(\"Rahul is his name\")\n",
        "  \n",
        "  def salary(self):\n",
        "    print(\"4000 is his salary\")\n",
        "  \n",
        "  def age(self):\n",
        "    print(\"23 is his age\")\n",
        "\n",
        "def main():\n",
        "  def func(obj):#Method Overloading\n",
        "    obj.name()\n",
        "    obj.salary()\n",
        "    obj.age()\n",
        " \n",
        "  obj_emp1 = employee1()\n",
        "  obj_emp2 = employee2()\n",
        " \n",
        "  func(obj_emp1)\n",
        "  func(obj_emp2)\n",
        "\n",
        "if __name__ == \"__main__\":\n",
        "    main() \n",
        "\n"
      ],
      "execution_count": null,
      "outputs": [
        {
          "output_type": "stream",
          "text": [
            "Harshit is his name\n",
            "3000 is his salary\n",
            "22 is his age\n",
            "Rahul is his name\n",
            "4000 is his salary\n",
            "23 is his age\n"
          ],
          "name": "stdout"
        }
      ]
    },
    {
      "cell_type": "markdown",
      "metadata": {
        "id": "0ox-YGtEboIe"
      },
      "source": [
        "*Run-time Polymorphism:*\n",
        "\n",
        "A run-time Polymorphism is also, called as dynamic polymorphism where it gets resolved into the run time. One common example of Run-time polymorphism is “method overriding”. Let me show you through an example for a better understanding."
      ]
    },
    {
      "cell_type": "code",
      "metadata": {
        "id": "I5hU7fIkbqy0",
        "outputId": "9785822b-71ab-464d-d07a-3c9c6ca982ca",
        "colab": {
          "base_uri": "https://localhost:8080/",
          "height": 51
        }
      },
      "source": [
        "class employee():\n",
        "   def __init__(self,name,age,id,salary):  \n",
        "       self.name = name\n",
        "       self.age = age\n",
        "       self.salary = salary\n",
        "       self.id = id\n",
        "   def earn(self):\n",
        "      pass\n",
        " \n",
        "class childemployee1(employee):\n",
        " \n",
        "   def earn(self):#Run-time polymorphism\n",
        "      print(\"no money\")\n",
        " \n",
        "class childemployee2(employee):\n",
        " \n",
        "   def earn(self):\n",
        "       print(\"has money\")\n",
        "\n",
        "\n",
        "def main():\n",
        "  c = childemployee1\n",
        "  c.earn(employee)\n",
        "  d = childemployee2\n",
        "  d.earn(employee)\n",
        "\n",
        "if __name__ == \"__main__\":\n",
        "    main() \n"
      ],
      "execution_count": null,
      "outputs": [
        {
          "output_type": "stream",
          "text": [
            "no money\n",
            "has money\n"
          ],
          "name": "stdout"
        }
      ]
    },
    {
      "cell_type": "markdown",
      "metadata": {
        "id": "JfyylDp_gOCB"
      },
      "source": [
        "**Encapsulation:**\n",
        "\n",
        "In a raw form, encapsulation basically means binding up of data in a single class. Python does not have any private keyword, unlike Java. A class shouldn’t be directly accessed but be prefixed in an underscore."
      ]
    },
    {
      "cell_type": "code",
      "metadata": {
        "id": "ODMyxP-8gd1n",
        "outputId": "59bed432-4858-4446-8796-c1d61b521003",
        "colab": {
          "base_uri": "https://localhost:8080/",
          "height": 350
        }
      },
      "source": [
        "class employee(object):\n",
        "  def __init__(self):   \n",
        "    self.name = 1234\n",
        "    self._age = 1234\n",
        "    self.__salary = 1234\n",
        " \n",
        "\n",
        "def main():\n",
        "  object1 = employee()\n",
        "  print(object1.name)\n",
        "  print(object1._age)\n",
        "  print(object1.__salary)\n",
        "\n",
        "if __name__ == \"__main__\":\n",
        "    main() \n"
      ],
      "execution_count": null,
      "outputs": [
        {
          "output_type": "stream",
          "text": [
            "1234\n",
            "1234\n"
          ],
          "name": "stdout"
        },
        {
          "output_type": "error",
          "ename": "AttributeError",
          "evalue": "ignored",
          "traceback": [
            "\u001b[0;31m---------------------------------------------------------------------------\u001b[0m",
            "\u001b[0;31mAttributeError\u001b[0m                            Traceback (most recent call last)",
            "\u001b[0;32m<ipython-input-22-9f2f78978957>\u001b[0m in \u001b[0;36m<module>\u001b[0;34m()\u001b[0m\n\u001b[1;32m     13\u001b[0m \u001b[0;34m\u001b[0m\u001b[0m\n\u001b[1;32m     14\u001b[0m \u001b[0;32mif\u001b[0m \u001b[0m__name__\u001b[0m \u001b[0;34m==\u001b[0m \u001b[0;34m\"__main__\"\u001b[0m\u001b[0;34m:\u001b[0m\u001b[0;34m\u001b[0m\u001b[0;34m\u001b[0m\u001b[0m\n\u001b[0;32m---> 15\u001b[0;31m     \u001b[0mmain\u001b[0m\u001b[0;34m(\u001b[0m\u001b[0;34m)\u001b[0m\u001b[0;34m\u001b[0m\u001b[0;34m\u001b[0m\u001b[0m\n\u001b[0m",
            "\u001b[0;32m<ipython-input-22-9f2f78978957>\u001b[0m in \u001b[0;36mmain\u001b[0;34m()\u001b[0m\n\u001b[1;32m     10\u001b[0m   \u001b[0mprint\u001b[0m\u001b[0;34m(\u001b[0m\u001b[0mobject1\u001b[0m\u001b[0;34m.\u001b[0m\u001b[0mname\u001b[0m\u001b[0;34m)\u001b[0m\u001b[0;34m\u001b[0m\u001b[0;34m\u001b[0m\u001b[0m\n\u001b[1;32m     11\u001b[0m   \u001b[0mprint\u001b[0m\u001b[0;34m(\u001b[0m\u001b[0mobject1\u001b[0m\u001b[0;34m.\u001b[0m\u001b[0m_age\u001b[0m\u001b[0;34m)\u001b[0m\u001b[0;34m\u001b[0m\u001b[0;34m\u001b[0m\u001b[0m\n\u001b[0;32m---> 12\u001b[0;31m   \u001b[0mprint\u001b[0m\u001b[0;34m(\u001b[0m\u001b[0mobject1\u001b[0m\u001b[0;34m.\u001b[0m\u001b[0m__salary\u001b[0m\u001b[0;34m)\u001b[0m\u001b[0;34m\u001b[0m\u001b[0;34m\u001b[0m\u001b[0m\n\u001b[0m\u001b[1;32m     13\u001b[0m \u001b[0;34m\u001b[0m\u001b[0m\n\u001b[1;32m     14\u001b[0m \u001b[0;32mif\u001b[0m \u001b[0m__name__\u001b[0m \u001b[0;34m==\u001b[0m \u001b[0;34m\"__main__\"\u001b[0m\u001b[0;34m:\u001b[0m\u001b[0;34m\u001b[0m\u001b[0;34m\u001b[0m\u001b[0m\n",
            "\u001b[0;31mAttributeError\u001b[0m: 'employee' object has no attribute '__salary'"
          ]
        }
      ]
    },
    {
      "cell_type": "markdown",
      "metadata": {
        "id": "LHHKxw2QgwIV"
      },
      "source": [
        "Note:- python class treats the private variables as(__salary) which can not be accessed directly."
      ]
    },
    {
      "cell_type": "markdown",
      "metadata": {
        "id": "HguJxbJviCTh"
      },
      "source": [
        "So, I have made use of the setter method which provides indirect access to them in my next example."
      ]
    },
    {
      "cell_type": "code",
      "metadata": {
        "id": "K88GsMtrgTbA",
        "outputId": "f26cf094-21f6-476c-d186-7f0fa9139028",
        "colab": {
          "base_uri": "https://localhost:8080/",
          "height": 68
        }
      },
      "source": [
        "class employee():\n",
        "  def __init__(self):\n",
        "    self.__maxearn = 1000000\n",
        "\n",
        "  def earn(self):\n",
        "    print(\"earning is:{}\".format(self.__maxearn))\n",
        " \n",
        "  def setmaxearn(self,earn): #setter method used for accesing private class\n",
        "    self.__maxearn = earn\n",
        " \n",
        "\n",
        "def main():\n",
        "  emp1 = employee()\n",
        "  emp1.earn()\n",
        " \n",
        "  emp1.__maxearn = 10000\n",
        "  emp1.earn()\n",
        " \n",
        "  emp1.setmaxearn(10000)\n",
        "  emp1.earn()\n",
        "\n",
        "if __name__ == \"__main__\":\n",
        "    main() \n",
        "\n",
        "\n"
      ],
      "execution_count": null,
      "outputs": [
        {
          "output_type": "stream",
          "text": [
            "earning is:1000000\n",
            "earning is:1000000\n",
            "earning is:10000\n"
          ],
          "name": "stdout"
        }
      ]
    },
    {
      "cell_type": "markdown",
      "metadata": {
        "id": "b1Xt3-h_i0Ff"
      },
      "source": [
        "Making Use of the setter method provides indirect access to the private class method. Here I have defined a class employee and used a (__maxearn) which is the setter method used here to store the maximum earning of the employee, and a setter function setmaxearn() which is taking price as the parameter.\n",
        "\n",
        "This is a clear example of encapsulation where we are restricting the access to private class method and then use the setter method to grant access."
      ]
    },
    {
      "cell_type": "markdown",
      "metadata": {
        "id": "-zK1STTui3Yh"
      },
      "source": [
        "**Abstraction:**\n",
        "Suppose you booked a movie ticket from bookmyshow using net banking or any other process. You don’t know the procedure of how the pin is generated or how the verification is done. This is called ‘abstraction’ from the programming aspect, it basically means you only show the implementation details of a particular process and hide the details from the user. It is used to simplify complex problems by modeling classes appropriate to the problem.\n",
        "\n",
        "An abstract class cannot be instantiated which simply means you cannot create objects for this type of class. It can only be used for inheriting the functionalities."
      ]
    },
    {
      "cell_type": "markdown",
      "metadata": {
        "id": "C3_4uB_5kb8V"
      },
      "source": [
        "By default, Python does not provide abstract classes. Python comes with a module which provides the base for defining Abstract Base classes(ABC) and that module name is ABC. ABC works by decorating methods of the base class as abstract and then registering concrete classes as implementations of the abstract base. A method becomes abstract when decorated with the keyword @abstractmethod. "
      ]
    },
    {
      "cell_type": "code",
      "metadata": {
        "id": "N9XqRx2Di0nt",
        "outputId": "020d3e75-784f-4bf5-cb9e-07321925188e",
        "colab": {
          "base_uri": "https://localhost:8080/",
          "height": 51
        }
      },
      "source": [
        "from abc import ABC,abstractmethod\n",
        "class employee(ABC):\n",
        "  @abstractmethod\n",
        "  def emp_id(self):    #Abstraction.\n",
        "    pass \n",
        "                                      #No implementation in this method as we dont know the implementation details \n",
        "  def emp_print(self, name):    #Abstraction.\n",
        "    print(\"Hello Employee\", name) \n",
        "\n",
        "class childemployee1(employee):\n",
        "  def emp_id(self,id):                    #Implementation details provided in the child class \n",
        "    print(\"emp_id is 12345\")\n",
        " \n",
        "def main():\n",
        "  emp1 = childemployee1()\n",
        "  emp1.emp_id(id)\n",
        "  emp1.emp_print(\"Gaurav\")\n",
        "\n",
        "  #emp2 = employee()                      #Cannot create object \n",
        "\n",
        "if __name__ == \"__main__\":\n",
        "    main() \n",
        "\n",
        "\n"
      ],
      "execution_count": 47,
      "outputs": [
        {
          "output_type": "stream",
          "text": [
            "emp_id is 12345\n",
            "Hello Employee Gaurav\n"
          ],
          "name": "stdout"
        }
      ]
    },
    {
      "cell_type": "markdown",
      "metadata": {
        "id": "PZbvRFaejdHp"
      },
      "source": [
        "As you can see in the above example, we have imported an abstract method and the rest of the program has a parent and a derived class. An object is instantiated for the ‘childemployee’ base class and functionality of abstract is being used."
      ]
    },
    {
      "cell_type": "markdown",
      "metadata": {
        "id": "lq-LnVjbGdEO"
      },
      "source": [
        "1. Can have both abstract & normal mrthod\n",
        "2. Abstract class cannot be initiated -- Decorator needs to be added for this"
      ]
    },
    {
      "cell_type": "code",
      "metadata": {
        "id": "19U_p5heklXg",
        "outputId": "7b8ac558-e162-4e92-dbc1-49e6abf46e77",
        "colab": {
          "base_uri": "https://localhost:8080/",
          "height": 85
        }
      },
      "source": [
        "# Python program showing \n",
        "# abstract base class work \n",
        "\n",
        "from abc import ABC, abstractmethod \n",
        "\n",
        "class Polygon(ABC): \n",
        "\n",
        "\t# abstract method \n",
        "\t@abstractmethod\n",
        "\tdef noofsides(self): \n",
        "\t\tpass\n",
        "\n",
        "\t#non abstract method\n",
        "\tdef mysides(self): \n",
        "\t\tprint(\"I can have any number of side creater than 2\")\n",
        "\n",
        "class Triangle(Polygon): \n",
        "\n",
        "\t# overriding abstract method \n",
        "\tdef noofsides(self): \n",
        "\t\tprint(\"I have 3 sides\") \n",
        "\n",
        "class Pentagon(Polygon): \n",
        "\n",
        "\t# overriding abstract method \n",
        "\tdef noofsides(self): \n",
        "\t\tprint(\"I have 5 sides\") \n",
        "\n",
        "class Hexagon(Polygon): \n",
        "\n",
        "\t# overriding abstract method \n",
        "\tdef noofsides(self): \n",
        "\t\tprint(\"I have 6 sides\") \n",
        "\n",
        "class Quadrilateral(Polygon): \n",
        "\n",
        "\t# overriding abstract method \n",
        "\tdef noofsides(self): \n",
        "\t\tprint(\"I have 4 sides\") \n",
        "\n",
        "def main():\n",
        "  # Driver code \n",
        "  R = Triangle() \n",
        "  R.noofsides() \n",
        "\n",
        "  K = Quadrilateral() \n",
        "  K.noofsides() \n",
        "\n",
        "  R = Pentagon() \n",
        "  R.noofsides() \n",
        "\n",
        "  K = Hexagon() \n",
        "  K.noofsides() \n",
        "\n",
        "if __name__ == \"__main__\":\n",
        "    main() \n",
        "\n",
        "\n",
        "\n"
      ],
      "execution_count": 11,
      "outputs": [
        {
          "output_type": "stream",
          "text": [
            "I have 3 sides\n",
            "I have 4 sides\n",
            "I have 5 sides\n",
            "I have 6 sides\n"
          ],
          "name": "stdout"
        }
      ]
    },
    {
      "cell_type": "code",
      "metadata": {
        "id": "RxpC1myZlBI5",
        "outputId": "302e9a45-fa77-47ff-abdf-435e54917208",
        "colab": {
          "base_uri": "https://localhost:8080/",
          "height": 51
        }
      },
      "source": [
        "# Python program invoking a \n",
        "# method using super() \n",
        "\n",
        "import abc \n",
        "from abc import ABC, abstractmethod \n",
        "\n",
        "class R(ABC): \n",
        "\tdef rk(self): \n",
        "\t\tprint(\"Abstract Base Class\") \n",
        "\n",
        "class K(R): \n",
        "\tdef rk(self): \n",
        "\t\tsuper().rk() \n",
        "\t\tprint(\"subclass \") \n",
        "\n",
        "# Driver code \n",
        "r = K() \n",
        "r.rk() \n"
      ],
      "execution_count": 14,
      "outputs": [
        {
          "output_type": "stream",
          "text": [
            "Abstract Base Class\n",
            "subclass \n"
          ],
          "name": "stdout"
        }
      ]
    },
    {
      "cell_type": "markdown",
      "metadata": {
        "id": "xcLzhkiENjU5"
      },
      "source": [
        "**Interface in Python**\n",
        "\n",
        "No present... can just implement using abstract class.. with only abstract methoud"
      ]
    },
    {
      "cell_type": "markdown",
      "metadata": {
        "id": "ETawg-FBNNXg"
      },
      "source": [
        "Abstract class can have both normal & abstract method...but interface can have only abstract method.. \n",
        "Interface helps in standaridization... "
      ]
    },
    {
      "cell_type": "code",
      "metadata": {
        "id": "wSxZnWIwPSzD",
        "outputId": "b2eb9974-a51e-4ac0-b0ff-678cd0e7e827",
        "colab": {
          "base_uri": "https://localhost:8080/",
          "height": 34
        }
      },
      "source": [
        "from abc import ABC,abstractmethod\n",
        "class employee(ABC):\n",
        "  @abstractmethod\n",
        "  def emp_id(self):    #Abstraction with interface\n",
        "    pass                                   #No implementation in this method as we dont know the implementation details \n",
        "\n",
        "class childemployee1(employee):\n",
        "  def emp_id(self,id):                    #Implementation details provided in the child class \n",
        "    print(\"emp_id is 12345\")\n",
        " \n",
        "def main():\n",
        "  emp1 = childemployee1()\n",
        "  emp1.emp_id(id)\n",
        "\n",
        "  #emp2 = employee()                      #Cannot create object \n",
        "\n",
        "if __name__ == \"__main__\":\n",
        "    main() \n",
        "\n",
        "\n"
      ],
      "execution_count": 45,
      "outputs": [
        {
          "output_type": "stream",
          "text": [
            "emp_id is 12345\n"
          ],
          "name": "stdout"
        }
      ]
    },
    {
      "cell_type": "markdown",
      "metadata": {
        "id": "yjydpKI5kDDl"
      },
      "source": [
        "**Is Python 100 percent object oriented?**\n",
        "\n",
        "Python doesn’t have access specifiers like “private” as in java. It supports most of the terms associated with “objected-oriented” programming language except strong encapsulation. Hence it is not fully object oriented."
      ]
    },
    {
      "cell_type": "markdown",
      "metadata": {
        "id": "iZV1XyxXlYH3"
      },
      "source": [
        "#File Handling"
      ]
    },
    {
      "cell_type": "markdown",
      "metadata": {
        "id": "YFHn9BRoIys9"
      },
      "source": [
        "File handling is an important part of any web application.\n",
        "\n",
        "Python has several functions for creating, reading, updating, and deleting files."
      ]
    },
    {
      "cell_type": "markdown",
      "metadata": {
        "id": "UYmVft5zI5Tf"
      },
      "source": [
        "File Handling\n",
        "The key function for working with files in Python is the open() function.\n",
        "\n",
        "The open() function takes two parameters; filename, and mode.\n",
        "\n",
        "There are four different methods (modes) for opening a file:\n",
        "\n",
        "\"r\" - Read - Default value. Opens a file for reading, error if the file does not exist\n",
        "\n",
        "\"a\" - Append - Opens a file for appending, creates the file if it does not exist\n",
        "\n",
        "\"w\" - Write - Opens a file for writing, creates the file if it does not exist\n",
        "\n",
        "\"x\" - Create - Creates the specified file, returns an error if the file exists\n",
        "\n",
        "In addition you can specify if the file should be handled as binary or text mode\n",
        "\n",
        "\"t\" - Text - Default value. Text mode\n",
        "\n",
        "\"b\" - Binary - Binary mode (e.g. images)"
      ]
    },
    {
      "cell_type": "markdown",
      "metadata": {
        "id": "U79Cz1i0I_J-"
      },
      "source": [
        "To open a file for reading it is enough to specify the name of the file:"
      ]
    },
    {
      "cell_type": "code",
      "metadata": {
        "id": "XDKQ2Ju8JCd9",
        "outputId": "c9954fe0-d46e-475a-a228-8036f3a540aa",
        "colab": {
          "base_uri": "https://localhost:8080/",
          "height": 34
        }
      },
      "source": [
        "!ls"
      ],
      "execution_count": 15,
      "outputs": [
        {
          "output_type": "stream",
          "text": [
            "sample_data\n"
          ],
          "name": "stdout"
        }
      ]
    },
    {
      "cell_type": "code",
      "metadata": {
        "id": "oaK-p-rTJhB9"
      },
      "source": [
        "!touch demofile.txt"
      ],
      "execution_count": 19,
      "outputs": []
    },
    {
      "cell_type": "code",
      "metadata": {
        "id": "wNYpX4XElZ1c"
      },
      "source": [
        "f = open(\"demofile.txt\")\n"
      ],
      "execution_count": 25,
      "outputs": []
    },
    {
      "cell_type": "code",
      "metadata": {
        "id": "fAoGWqnOJODf"
      },
      "source": [
        "f = open(\"demofile.txt\", \"rt\") #same as above"
      ],
      "execution_count": 22,
      "outputs": []
    },
    {
      "cell_type": "markdown",
      "metadata": {
        "id": "1ptKXiUlJTum"
      },
      "source": [
        "Because \"r\" for read, and \"t\" for text are the default values, you do not need to specify them."
      ]
    },
    {
      "cell_type": "markdown",
      "metadata": {
        "id": "tS2a2aXdKky5"
      },
      "source": [
        "Note: Make sure the file exists, or else you will get an error."
      ]
    },
    {
      "cell_type": "markdown",
      "metadata": {
        "id": "5MEgVgTQKq5a"
      },
      "source": [
        "**To open the file, use the built-in open() function.**\n",
        "\n",
        "The open() function returns a file object, which has a read() method for reading the content of the file:"
      ]
    },
    {
      "cell_type": "code",
      "metadata": {
        "id": "JPSTkUSbJSun",
        "outputId": "1f0ab929-5e5c-4552-ee1d-546a675b49c3",
        "colab": {
          "base_uri": "https://localhost:8080/",
          "height": 34
        }
      },
      "source": [
        "f = open(\"demofile.txt\", \"r\")\n",
        "print(f.read())"
      ],
      "execution_count": 27,
      "outputs": [
        {
          "output_type": "stream",
          "text": [
            "Hello World\n"
          ],
          "name": "stdout"
        }
      ]
    },
    {
      "cell_type": "markdown",
      "metadata": {
        "id": "k2lMvLWdJNRW"
      },
      "source": [
        "If the file is located in a different location, you will have to specify the file path, like this:"
      ]
    },
    {
      "cell_type": "code",
      "metadata": {
        "id": "wsGUVA21I-j5"
      },
      "source": [
        "f = open(\"D:\\\\myfiles\\welcome.txt\", \"r\")\n",
        "print(f.read())"
      ],
      "execution_count": null,
      "outputs": []
    },
    {
      "cell_type": "markdown",
      "metadata": {
        "id": "hsCZBMIELBoY"
      },
      "source": [
        "Read Only Parts of the File\n",
        "By default the read() method returns the whole text, but you can also specify how many characters you want to return:"
      ]
    },
    {
      "cell_type": "code",
      "metadata": {
        "id": "uoPNluSvLATX",
        "outputId": "919f7115-540e-4825-b33f-9c7d21d1b4c0",
        "colab": {
          "base_uri": "https://localhost:8080/",
          "height": 34
        }
      },
      "source": [
        "f = open(\"demofile.txt\", \"r\")\n",
        "print(f.read(5))"
      ],
      "execution_count": 28,
      "outputs": [
        {
          "output_type": "stream",
          "text": [
            "Hello\n"
          ],
          "name": "stdout"
        }
      ]
    },
    {
      "cell_type": "markdown",
      "metadata": {
        "id": "so4IaCRMLILD"
      },
      "source": [
        "Read Lines\n",
        "\n",
        "You can return one line by using the readline() method:"
      ]
    },
    {
      "cell_type": "code",
      "metadata": {
        "id": "7n5vE01iLG3Y",
        "outputId": "fb05db65-5800-45ae-efb9-aa1037fcf65a",
        "colab": {
          "base_uri": "https://localhost:8080/",
          "height": 34
        }
      },
      "source": [
        "f = open(\"demofile.txt\", \"r\")\n",
        "print(f.readline())"
      ],
      "execution_count": 29,
      "outputs": [
        {
          "output_type": "stream",
          "text": [
            "Hello World\n"
          ],
          "name": "stdout"
        }
      ]
    },
    {
      "cell_type": "markdown",
      "metadata": {
        "id": "rtIVtVyXLPPO"
      },
      "source": [
        "By calling readline() two times, you can read the two first lines:"
      ]
    },
    {
      "cell_type": "code",
      "metadata": {
        "id": "jdGk8CSHLPky",
        "outputId": "cb95fa52-a320-418a-8a77-fb0b4e00f0b3",
        "colab": {
          "base_uri": "https://localhost:8080/",
          "height": 51
        }
      },
      "source": [
        "f = open(\"demofile.txt\", \"r\")\n",
        "print(f.readline())\n",
        "print(f.readline())"
      ],
      "execution_count": 30,
      "outputs": [
        {
          "output_type": "stream",
          "text": [
            "Hello World\n",
            "\n"
          ],
          "name": "stdout"
        }
      ]
    },
    {
      "cell_type": "markdown",
      "metadata": {
        "id": "3wyU8CRLLULQ"
      },
      "source": [
        "By looping through the lines of the file, you can read the whole file, line by line:"
      ]
    },
    {
      "cell_type": "code",
      "metadata": {
        "id": "x9Kqx8z_LUgv",
        "outputId": "4734e2c6-2699-40d4-ceca-2c86c67b6127",
        "colab": {
          "base_uri": "https://localhost:8080/",
          "height": 34
        }
      },
      "source": [
        "f = open(\"demofile.txt\", \"r\")\n",
        "for x in f:\n",
        "  print(x)"
      ],
      "execution_count": 31,
      "outputs": [
        {
          "output_type": "stream",
          "text": [
            "Hello World\n"
          ],
          "name": "stdout"
        }
      ]
    },
    {
      "cell_type": "markdown",
      "metadata": {
        "id": "FSfkNeqvLZTf"
      },
      "source": [
        "Close Files\n",
        "\n",
        "It is a good practice to always close the file when you are done with it.\n"
      ]
    },
    {
      "cell_type": "code",
      "metadata": {
        "id": "HOF9R3tuLaaE",
        "outputId": "02167bd2-0733-4044-c5b3-bed9bdd64a34",
        "colab": {
          "base_uri": "https://localhost:8080/",
          "height": 34
        }
      },
      "source": [
        "f = open(\"demofile.txt\", \"r\")\n",
        "print(f.readline())\n",
        "f.close()"
      ],
      "execution_count": 32,
      "outputs": [
        {
          "output_type": "stream",
          "text": [
            "Hello World\n"
          ],
          "name": "stdout"
        }
      ]
    },
    {
      "cell_type": "markdown",
      "metadata": {
        "id": "a2xwe7sZLgXU"
      },
      "source": [
        "Note: You should always close your files, in some cases, due to buffering, changes made to a file may not show until you close the file."
      ]
    },
    {
      "cell_type": "markdown",
      "metadata": {
        "id": "B2zhDbjYLjr_"
      },
      "source": [
        "**Write to an Existing File**\n",
        "\n",
        "To write to an existing file, you must add a parameter to the open() function:\n",
        "\n",
        "\"a\" - Append - will append to the end of the file\n",
        "\n",
        "\"w\" - Write - will overwrite any existing content"
      ]
    },
    {
      "cell_type": "markdown",
      "metadata": {
        "id": "ybuqMIQULoB4"
      },
      "source": [
        "Open the file \"demofile2.txt\" and append content to the file:"
      ]
    },
    {
      "cell_type": "code",
      "metadata": {
        "id": "gvAoPd78LgvB",
        "outputId": "2069ff8a-313e-4c51-ef32-02c17c084338",
        "colab": {
          "base_uri": "https://localhost:8080/",
          "height": 34
        }
      },
      "source": [
        "f = open(\"demofile2.txt\", \"a\")\n",
        "f.write(\"Now the file has more content!\")\n",
        "f.close()\n",
        "\n",
        "#open and read the file after the appending:\n",
        "f = open(\"demofile2.txt\", \"r\")\n",
        "print(f.read())"
      ],
      "execution_count": 36,
      "outputs": [
        {
          "output_type": "stream",
          "text": [
            "Now the file has more content!\n"
          ],
          "name": "stdout"
        }
      ]
    },
    {
      "cell_type": "markdown",
      "metadata": {
        "id": "q39d_XsBMEVf"
      },
      "source": [
        "Open the file \"demofile3.txt\" and overwrite the content:"
      ]
    },
    {
      "cell_type": "code",
      "metadata": {
        "id": "qeVXRHOFME3F",
        "outputId": "40db3cac-5bd1-4018-ffc4-d49b6d879ac8",
        "colab": {
          "base_uri": "https://localhost:8080/",
          "height": 34
        }
      },
      "source": [
        "f = open(\"demofile3.txt\", \"w\")\n",
        "f.write(\"Woops! I have deleted the content!\")\n",
        "f.close()\n",
        "\n",
        "#open and read the file after the appending:\n",
        "f = open(\"demofile3.txt\", \"r\")\n",
        "print(f.read())"
      ],
      "execution_count": 37,
      "outputs": [
        {
          "output_type": "stream",
          "text": [
            "Woops! I have deleted the content!\n"
          ],
          "name": "stdout"
        }
      ]
    },
    {
      "cell_type": "markdown",
      "metadata": {
        "id": "Gqk9DwNhMKob"
      },
      "source": [
        "Note: the \"w\" method will overwrite the entire file."
      ]
    },
    {
      "cell_type": "markdown",
      "metadata": {
        "id": "_JGsmCllMUvH"
      },
      "source": [
        "**Create a New File**\n",
        "\n",
        "To create a new file in Python, use the open() method, with one of the following parameters:\n",
        "\n",
        "\"x\" - Create - will create a file, returns an error if the file exist\n",
        "\n",
        "\"a\" - Append - will create a file if the specified file does not exist\n",
        "\n",
        "\"w\" - Write - will create a file if the specified file does not exist"
      ]
    },
    {
      "cell_type": "markdown",
      "metadata": {
        "id": "GTLisev_MfyJ"
      },
      "source": [
        "Create a file called \"myfile.txt\":"
      ]
    },
    {
      "cell_type": "code",
      "metadata": {
        "id": "7iH92NzwMK9N"
      },
      "source": [
        "f = open(\"myfile.txt\", \"x\")"
      ],
      "execution_count": 38,
      "outputs": []
    },
    {
      "cell_type": "markdown",
      "metadata": {
        "id": "yvOq-FaBMq6K"
      },
      "source": [
        "**Delete a File**\n",
        "\n",
        "To delete a file, you must import the OS module, and run its os.remove() function:"
      ]
    },
    {
      "cell_type": "markdown",
      "metadata": {
        "id": "sYAk2b0FMwke"
      },
      "source": [
        "Remove the file \"demofile.txt\":"
      ]
    },
    {
      "cell_type": "code",
      "metadata": {
        "id": "U3rAmSN-MhuI"
      },
      "source": [
        "import os\n",
        "os.remove(\"demofile.txt\")"
      ],
      "execution_count": 39,
      "outputs": []
    },
    {
      "cell_type": "markdown",
      "metadata": {
        "id": "RdX-puCAM16I"
      },
      "source": [
        "Check if File exist:\n",
        "\n",
        "To avoid getting an error, you might want to check if the file exists before you try to delete it:"
      ]
    },
    {
      "cell_type": "code",
      "metadata": {
        "id": "vV6jKTrBM28t",
        "outputId": "dcdeefc3-d37a-4b45-a940-b9d97dff337a",
        "colab": {
          "base_uri": "https://localhost:8080/",
          "height": 34
        }
      },
      "source": [
        "import os\n",
        "if os.path.exists(\"demofile.txt\"):\n",
        "  os.remove(\"demofile.txt\")\n",
        "else:\n",
        "  print(\"The file does not exist\")"
      ],
      "execution_count": 40,
      "outputs": [
        {
          "output_type": "stream",
          "text": [
            "The file does not exist\n"
          ],
          "name": "stdout"
        }
      ]
    }
  ]
}